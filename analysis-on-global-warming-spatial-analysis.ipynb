{
 "cells": [
  {
   "cell_type": "code",
   "execution_count": 1,
   "id": "growing-stand",
   "metadata": {
    "execution": {
     "iopub.execute_input": "2021-06-13T15:28:15.310254Z",
     "iopub.status.busy": "2021-06-13T15:28:15.309569Z",
     "iopub.status.idle": "2021-06-13T15:28:16.026392Z",
     "shell.execute_reply": "2021-06-13T15:28:16.025713Z",
     "shell.execute_reply.started": "2021-06-13T15:07:40.440377Z"
    },
    "papermill": {
     "duration": 0.811021,
     "end_time": "2021-06-13T15:28:16.026571",
     "exception": false,
     "start_time": "2021-06-13T15:28:15.215550",
     "status": "completed"
    },
    "tags": []
   },
   "outputs": [],
   "source": [
    "import numpy as np\n",
    "import pandas as pd\n",
    "import matplotlib.pyplot as plt\n",
    "import plotly\n",
    "import plotly.graph_objs as go\n",
    "import plotly.tools as tls\n",
    "import seaborn as sns\n",
    "import time\n",
    "import warnings\n",
    "warnings.filterwarnings('ignore')"
   ]
  },
  {
   "cell_type": "code",
   "execution_count": 2,
   "id": "honest-visiting",
   "metadata": {
    "execution": {
     "iopub.execute_input": "2021-06-13T15:28:16.255775Z",
     "iopub.status.busy": "2021-06-13T15:28:16.254909Z",
     "iopub.status.idle": "2021-06-13T15:28:28.862810Z",
     "shell.execute_reply": "2021-06-13T15:28:28.862350Z",
     "shell.execute_reply.started": "2021-06-13T15:07:41.311189Z"
    },
    "papermill": {
     "duration": 12.754311,
     "end_time": "2021-06-13T15:28:28.862941",
     "exception": false,
     "start_time": "2021-06-13T15:28:16.108630",
     "status": "completed"
    },
    "tags": []
   },
   "outputs": [],
   "source": [
    "global_temp_country = pd.read_csv('../input/global-climate-change/GlobalLandTemperaturesByCity.csv')\n"
   ]
  },
  {
   "cell_type": "code",
   "execution_count": 3,
   "id": "third-guinea",
   "metadata": {
    "execution": {
     "iopub.execute_input": "2021-06-13T15:28:29.036068Z",
     "iopub.status.busy": "2021-06-13T15:28:29.035521Z",
     "iopub.status.idle": "2021-06-13T15:28:29.048363Z",
     "shell.execute_reply": "2021-06-13T15:28:29.047930Z",
     "shell.execute_reply.started": "2021-06-13T15:07:53.278192Z"
    },
    "papermill": {
     "duration": 0.10757,
     "end_time": "2021-06-13T15:28:29.048477",
     "exception": false,
     "start_time": "2021-06-13T15:28:28.940907",
     "status": "completed"
    },
    "tags": []
   },
   "outputs": [
    {
     "data": {
      "text/html": [
       "<div>\n",
       "<style scoped>\n",
       "    .dataframe tbody tr th:only-of-type {\n",
       "        vertical-align: middle;\n",
       "    }\n",
       "\n",
       "    .dataframe tbody tr th {\n",
       "        vertical-align: top;\n",
       "    }\n",
       "\n",
       "    .dataframe thead th {\n",
       "        text-align: right;\n",
       "    }\n",
       "</style>\n",
       "<table border=\"1\" class=\"dataframe\">\n",
       "  <thead>\n",
       "    <tr style=\"text-align: right;\">\n",
       "      <th></th>\n",
       "      <th>dt</th>\n",
       "      <th>AverageTemperature</th>\n",
       "      <th>AverageTemperatureUncertainty</th>\n",
       "      <th>City</th>\n",
       "      <th>Country</th>\n",
       "      <th>Latitude</th>\n",
       "      <th>Longitude</th>\n",
       "    </tr>\n",
       "  </thead>\n",
       "  <tbody>\n",
       "    <tr>\n",
       "      <th>0</th>\n",
       "      <td>1743-11-01</td>\n",
       "      <td>6.068</td>\n",
       "      <td>1.737</td>\n",
       "      <td>Århus</td>\n",
       "      <td>Denmark</td>\n",
       "      <td>57.05N</td>\n",
       "      <td>10.33E</td>\n",
       "    </tr>\n",
       "    <tr>\n",
       "      <th>1</th>\n",
       "      <td>1743-12-01</td>\n",
       "      <td>NaN</td>\n",
       "      <td>NaN</td>\n",
       "      <td>Århus</td>\n",
       "      <td>Denmark</td>\n",
       "      <td>57.05N</td>\n",
       "      <td>10.33E</td>\n",
       "    </tr>\n",
       "    <tr>\n",
       "      <th>2</th>\n",
       "      <td>1744-01-01</td>\n",
       "      <td>NaN</td>\n",
       "      <td>NaN</td>\n",
       "      <td>Århus</td>\n",
       "      <td>Denmark</td>\n",
       "      <td>57.05N</td>\n",
       "      <td>10.33E</td>\n",
       "    </tr>\n",
       "    <tr>\n",
       "      <th>3</th>\n",
       "      <td>1744-02-01</td>\n",
       "      <td>NaN</td>\n",
       "      <td>NaN</td>\n",
       "      <td>Århus</td>\n",
       "      <td>Denmark</td>\n",
       "      <td>57.05N</td>\n",
       "      <td>10.33E</td>\n",
       "    </tr>\n",
       "    <tr>\n",
       "      <th>4</th>\n",
       "      <td>1744-03-01</td>\n",
       "      <td>NaN</td>\n",
       "      <td>NaN</td>\n",
       "      <td>Århus</td>\n",
       "      <td>Denmark</td>\n",
       "      <td>57.05N</td>\n",
       "      <td>10.33E</td>\n",
       "    </tr>\n",
       "  </tbody>\n",
       "</table>\n",
       "</div>"
      ],
      "text/plain": [
       "           dt  AverageTemperature  AverageTemperatureUncertainty   City  \\\n",
       "0  1743-11-01               6.068                          1.737  Århus   \n",
       "1  1743-12-01                 NaN                            NaN  Århus   \n",
       "2  1744-01-01                 NaN                            NaN  Århus   \n",
       "3  1744-02-01                 NaN                            NaN  Århus   \n",
       "4  1744-03-01                 NaN                            NaN  Århus   \n",
       "\n",
       "   Country Latitude Longitude  \n",
       "0  Denmark   57.05N    10.33E  \n",
       "1  Denmark   57.05N    10.33E  \n",
       "2  Denmark   57.05N    10.33E  \n",
       "3  Denmark   57.05N    10.33E  \n",
       "4  Denmark   57.05N    10.33E  "
      ]
     },
     "execution_count": 3,
     "metadata": {},
     "output_type": "execute_result"
    }
   ],
   "source": [
    "global_temp_country.head()"
   ]
  },
  {
   "cell_type": "markdown",
   "id": "lesser-assumption",
   "metadata": {
    "papermill": {
     "duration": 0.077055,
     "end_time": "2021-06-13T15:28:29.203559",
     "exception": false,
     "start_time": "2021-06-13T15:28:29.126504",
     "status": "completed"
    },
    "tags": []
   },
   "source": [
    "# Data Cleaning on global climate change data"
   ]
  },
  {
   "cell_type": "code",
   "execution_count": 4,
   "id": "motivated-laugh",
   "metadata": {
    "execution": {
     "iopub.execute_input": "2021-06-13T15:28:29.364297Z",
     "iopub.status.busy": "2021-06-13T15:28:29.363748Z",
     "iopub.status.idle": "2021-06-13T15:28:29.369259Z",
     "shell.execute_reply": "2021-06-13T15:28:29.368825Z",
     "shell.execute_reply.started": "2021-06-13T15:07:53.310278Z"
    },
    "papermill": {
     "duration": 0.087634,
     "end_time": "2021-06-13T15:28:29.369367",
     "exception": false,
     "start_time": "2021-06-13T15:28:29.281733",
     "status": "completed"
    },
    "tags": []
   },
   "outputs": [
    {
     "data": {
      "text/plain": [
       "(8599212, 7)"
      ]
     },
     "execution_count": 4,
     "metadata": {},
     "output_type": "execute_result"
    }
   ],
   "source": [
    "global_temp_country.shape"
   ]
  },
  {
   "cell_type": "code",
   "execution_count": 5,
   "id": "micro-restoration",
   "metadata": {
    "execution": {
     "iopub.execute_input": "2021-06-13T15:28:29.527993Z",
     "iopub.status.busy": "2021-06-13T15:28:29.527149Z",
     "iopub.status.idle": "2021-06-13T15:28:32.958201Z",
     "shell.execute_reply": "2021-06-13T15:28:32.957744Z",
     "shell.execute_reply.started": "2021-06-13T15:07:53.318808Z"
    },
    "papermill": {
     "duration": 3.512327,
     "end_time": "2021-06-13T15:28:32.958331",
     "exception": false,
     "start_time": "2021-06-13T15:28:29.446004",
     "status": "completed"
    },
    "tags": []
   },
   "outputs": [
    {
     "data": {
      "text/plain": [
       "dt                                    0\n",
       "AverageTemperature               364130\n",
       "AverageTemperatureUncertainty    364130\n",
       "City                                  0\n",
       "Country                               0\n",
       "Latitude                              0\n",
       "Longitude                             0\n",
       "dtype: int64"
      ]
     },
     "execution_count": 5,
     "metadata": {},
     "output_type": "execute_result"
    }
   ],
   "source": [
    " global_temp_country.isna().sum()"
   ]
  },
  {
   "cell_type": "code",
   "execution_count": 6,
   "id": "asian-organization",
   "metadata": {
    "execution": {
     "iopub.execute_input": "2021-06-13T15:28:33.143633Z",
     "iopub.status.busy": "2021-06-13T15:28:33.142620Z",
     "iopub.status.idle": "2021-06-13T15:28:33.727051Z",
     "shell.execute_reply": "2021-06-13T15:28:33.727439Z",
     "shell.execute_reply.started": "2021-06-13T15:07:55.002446Z"
    },
    "papermill": {
     "duration": 0.69056,
     "end_time": "2021-06-13T15:28:33.727597",
     "exception": false,
     "start_time": "2021-06-13T15:28:33.037037",
     "status": "completed"
    },
    "tags": []
   },
   "outputs": [],
   "source": [
    "global_temp_country.dropna(axis='index',how='any',subset=['AverageTemperature'],inplace=True)"
   ]
  },
  {
   "cell_type": "code",
   "execution_count": 7,
   "id": "rubber-genesis",
   "metadata": {
    "execution": {
     "iopub.execute_input": "2021-06-13T15:28:33.887876Z",
     "iopub.status.busy": "2021-06-13T15:28:33.886942Z",
     "iopub.status.idle": "2021-06-13T15:28:37.012304Z",
     "shell.execute_reply": "2021-06-13T15:28:37.012702Z",
     "shell.execute_reply.started": "2021-06-13T15:07:55.698371Z"
    },
    "papermill": {
     "duration": 3.206939,
     "end_time": "2021-06-13T15:28:37.012843",
     "exception": false,
     "start_time": "2021-06-13T15:28:33.805904",
     "status": "completed"
    },
    "tags": []
   },
   "outputs": [
    {
     "data": {
      "text/plain": [
       "dt                               0\n",
       "AverageTemperature               0\n",
       "AverageTemperatureUncertainty    0\n",
       "City                             0\n",
       "Country                          0\n",
       "Latitude                         0\n",
       "Longitude                        0\n",
       "dtype: int64"
      ]
     },
     "execution_count": 7,
     "metadata": {},
     "output_type": "execute_result"
    }
   ],
   "source": [
    "global_temp_country.isna().sum()"
   ]
  },
  {
   "cell_type": "code",
   "execution_count": 8,
   "id": "latter-borough",
   "metadata": {
    "execution": {
     "iopub.execute_input": "2021-06-13T15:28:37.557659Z",
     "iopub.status.busy": "2021-06-13T15:28:37.269143Z",
     "iopub.status.idle": "2021-06-13T15:28:37.803168Z",
     "shell.execute_reply": "2021-06-13T15:28:37.803635Z",
     "shell.execute_reply.started": "2021-06-13T15:07:57.283456Z"
    },
    "papermill": {
     "duration": 0.712211,
     "end_time": "2021-06-13T15:28:37.803803",
     "exception": false,
     "start_time": "2021-06-13T15:28:37.091592",
     "status": "completed"
    },
    "tags": []
   },
   "outputs": [
    {
     "data": {
      "text/plain": [
       "Country\n",
       "Afghanistan                           13.816497\n",
       "Albania                               15.525828\n",
       "Algeria                               17.763206\n",
       "Angola                                21.759716\n",
       "Argentina                             16.999216\n",
       "Armenia                                8.375597\n",
       "Australia                             16.701462\n",
       "Austria                                6.285928\n",
       "Azerbaijan                            11.113664\n",
       "Bahamas                               24.786978\n",
       "Bahrain                               25.855601\n",
       "Bangladesh                            25.052512\n",
       "Belarus                                6.142253\n",
       "Belgium                                9.726197\n",
       "Benin                                 26.975880\n",
       "Bolivia                               11.352980\n",
       "Bosnia And Herzegovina                10.449959\n",
       "Botswana                              18.996498\n",
       "Brazil                                21.902763\n",
       "Bulgaria                              10.580413\n",
       "Burkina Faso                          27.815295\n",
       "Burma                                 26.016840\n",
       "Burundi                               20.806356\n",
       "Cambodia                              26.918136\n",
       "Cameroon                              24.631563\n",
       "Canada                                 4.900387\n",
       "Central African Republic              24.950858\n",
       "Chad                                  27.189829\n",
       "Chile                                 11.770133\n",
       "China                                 12.542541\n",
       "Colombia                              22.683264\n",
       "Congo                                 23.866441\n",
       "Congo (Democratic Republic Of The)    23.240346\n",
       "Costa Rica                            24.852330\n",
       "Croatia                               10.573467\n",
       "Cuba                                  25.596882\n",
       "Cyprus                                19.034564\n",
       "Czech Republic                         8.075891\n",
       "Côte D'Ivoire                         25.788027\n",
       "Denmark                                7.802640\n",
       "Djibouti                              29.152790\n",
       "Dominican Republic                    25.884053\n",
       "Ecuador                               20.539171\n",
       "Egypt                                 21.487249\n",
       "El Salvador                           25.262853\n",
       "Equatorial Guinea                     25.178324\n",
       "Eritrea                               24.001516\n",
       "Estonia                                4.695705\n",
       "Ethiopia                              20.611525\n",
       "Finland                                3.711645\n",
       "France                                10.337918\n",
       "Gabon                                 25.895771\n",
       "Gambia                                25.184094\n",
       "Georgia                                8.375597\n",
       "Germany                                8.482791\n",
       "Ghana                                 26.319964\n",
       "Greece                                16.347483\n",
       "Guatemala                             19.175963\n",
       "Guinea                                25.509399\n",
       "Guinea Bissau                         27.057185\n",
       "Guyana                                26.549849\n",
       "Haiti                                 26.379050\n",
       "Honduras                              23.975221\n",
       "Hong Kong                             21.423696\n",
       "Hungary                                9.828791\n",
       "Iceland                                1.500089\n",
       "India                                 25.429224\n",
       "Indonesia                             25.990193\n",
       "Iran                                  14.790532\n",
       "Iraq                                  19.884738\n",
       "Ireland                                9.153906\n",
       "Israel                                19.007697\n",
       "Italy                                 12.622416\n",
       "Jamaica                               26.409169\n",
       "Japan                                 13.402360\n",
       "Jordan                                18.360981\n",
       "Kazakhstan                             4.340300\n",
       "Kenya                                 20.205171\n",
       "Laos                                  24.107664\n",
       "Latvia                                 5.386616\n",
       "Lebanon                               18.759461\n",
       "Lesotho                               14.040680\n",
       "Liberia                               25.673186\n",
       "Libya                                 19.853652\n",
       "Lithuania                              6.105942\n",
       "Macedonia                              9.577843\n",
       "Madagascar                            22.116976\n",
       "Malawi                                21.347872\n",
       "Malaysia                              26.434757\n",
       "Mali                                  27.590491\n",
       "Mauritania                            27.021905\n",
       "Mauritius                             23.522654\n",
       "Mexico                                20.062046\n",
       "Moldova                                8.672153\n",
       "Mongolia                              -3.365485\n",
       "Montenegro                            10.221040\n",
       "Morocco                               17.295399\n",
       "Mozambique                            23.474416\n",
       "Namibia                               19.635057\n",
       "Nepal                                 18.119933\n",
       "Netherlands                            9.096836\n",
       "New Zealand                           12.841857\n",
       "Nicaragua                             26.852527\n",
       "Niger                                 28.145552\n",
       "Nigeria                               26.584343\n",
       "Norway                                 3.612553\n",
       "Oman                                  25.565806\n",
       "Pakistan                              23.972701\n",
       "Panama                                26.745668\n",
       "Papua New Guinea                      24.855732\n",
       "Paraguay                              22.784014\n",
       "Peru                                  16.577115\n",
       "Philippines                           26.516462\n",
       "Poland                                 7.671972\n",
       "Portugal                              14.749675\n",
       "Puerto Rico                           25.297680\n",
       "Qatar                                 26.831705\n",
       "Reunion                               23.301403\n",
       "Romania                                8.895906\n",
       "Russia                                 3.347268\n",
       "Rwanda                                19.077632\n",
       "Saudi Arabia                          24.863509\n",
       "Senegal                               25.984177\n",
       "Serbia                                 9.909778\n",
       "Sierra Leone                          25.641011\n",
       "Singapore                             26.523103\n",
       "Slovakia                               8.677102\n",
       "Slovenia                               9.486257\n",
       "Somalia                               26.446140\n",
       "South Africa                          16.360849\n",
       "South Korea                           10.681885\n",
       "Spain                                 14.457234\n",
       "Sri Lanka                             26.727753\n",
       "Sudan                                 28.072831\n",
       "Suriname                              26.429475\n",
       "Swaziland                             21.203533\n",
       "Sweden                                 5.665518\n",
       "Switzerland                            7.541977\n",
       "Syria                                 18.094597\n",
       "Taiwan                                21.682917\n",
       "Tajikistan                             8.810141\n",
       "Tanzania                              22.645595\n",
       "Thailand                              26.693110\n",
       "Togo                                  26.644357\n",
       "Tunisia                               18.777488\n",
       "Turkey                                12.951888\n",
       "Turkmenistan                          14.302487\n",
       "Uganda                                24.019329\n",
       "Ukraine                                7.822184\n",
       "United Arab Emirates                  26.572681\n",
       "United Kingdom                         9.098373\n",
       "United States                         13.949335\n",
       "Uruguay                               17.421871\n",
       "Uzbekistan                            11.946574\n",
       "Venezuela                             25.482422\n",
       "Vietnam                               24.846825\n",
       "Yemen                                 25.768408\n",
       "Zambia                                20.937623\n",
       "Zimbabwe                              19.822971\n",
       "Name: AverageTemperature, dtype: float64"
      ]
     },
     "execution_count": 8,
     "metadata": {},
     "output_type": "execute_result"
    }
   ],
   "source": [
    "pd.set_option('display.max_rows',243)\n",
    "global_temp_country.groupby(['Country'])['AverageTemperature'].mean()"
   ]
  },
  {
   "cell_type": "code",
   "execution_count": 9,
   "id": "royal-brush",
   "metadata": {
    "execution": {
     "iopub.execute_input": "2021-06-13T15:28:38.360146Z",
     "iopub.status.busy": "2021-06-13T15:28:38.359346Z",
     "iopub.status.idle": "2021-06-13T15:28:38.467845Z",
     "shell.execute_reply": "2021-06-13T15:28:38.468258Z",
     "shell.execute_reply.started": "2021-06-13T15:07:57.858031Z"
    },
    "papermill": {
     "duration": 0.578445,
     "end_time": "2021-06-13T15:28:38.468402",
     "exception": false,
     "start_time": "2021-06-13T15:28:37.889957",
     "status": "completed"
    },
    "tags": []
   },
   "outputs": [
    {
     "data": {
      "text/plain": [
       "array(['Denmark', 'Turkey', 'Kazakhstan', 'China', 'Spain', 'Germany',\n",
       "       'Nigeria', 'Iran', 'Russia', 'Canada', \"Côte D'Ivoire\",\n",
       "       'United Kingdom', 'Saudi Arabia', 'Japan', 'United States',\n",
       "       'India', 'Benin', 'United Arab Emirates', 'Mexico', 'Venezuela',\n",
       "       'Ghana', 'Ethiopia', 'Australia', 'Yemen', 'Indonesia', 'Morocco',\n",
       "       'Pakistan', 'France', 'Libya', 'Burma', 'Brazil', 'South Africa',\n",
       "       'Syria', 'Egypt', 'Algeria', 'Netherlands', 'Malaysia', 'Portugal',\n",
       "       'Ecuador', 'Italy', 'Uzbekistan', 'Philippines', 'Madagascar',\n",
       "       'Chile', 'Belgium', 'El Salvador', 'Romania', 'Peru', 'Colombia',\n",
       "       'Tanzania', 'Tunisia', 'Turkmenistan', 'Israel', 'Eritrea',\n",
       "       'Paraguay', 'Greece', 'New Zealand', 'Vietnam', 'Cameroon', 'Iraq',\n",
       "       'Afghanistan', 'Argentina', 'Azerbaijan', 'Moldova', 'Mali',\n",
       "       'Congo (Democratic Republic Of The)', 'Thailand',\n",
       "       'Central African Republic', 'Bosnia And Herzegovina', 'Bangladesh',\n",
       "       'Switzerland', 'Equatorial Guinea', 'Cuba', 'Lebanon',\n",
       "       'Mozambique', 'Serbia', 'Angola', 'Somalia', 'Norway', 'Nepal',\n",
       "       'Poland', 'Ukraine', 'Guinea Bissau', 'Malawi', 'Burkina Faso',\n",
       "       'Slovakia', 'Congo', 'Belarus', 'Gambia', 'Czech Republic',\n",
       "       'Hungary', 'Burundi', 'Zimbabwe', 'Bulgaria', 'Haiti',\n",
       "       'Puerto Rico', 'Sri Lanka', 'Nicaragua', 'Zambia', 'Honduras',\n",
       "       'Taiwan', 'Bolivia', 'Guinea', 'Ireland', 'Senegal', 'Latvia',\n",
       "       'Qatar', 'Albania', 'Tajikistan', 'Kenya', 'Guatemala', 'Finland',\n",
       "       'Sierra Leone', 'Sweden', 'Botswana', 'Guyana', 'Austria',\n",
       "       'Uganda', 'Armenia', 'Dominican Republic', 'Jordan', 'Djibouti',\n",
       "       'Sudan', 'Lithuania', 'Rwanda', 'Jamaica', 'Togo', 'Macedonia',\n",
       "       'Cyprus', 'Gabon', 'Slovenia', 'Bahrain', 'Swaziland', 'Niger',\n",
       "       'Lesotho', 'Liberia', 'Uruguay', 'Chad', 'Bahamas', 'Mauritania',\n",
       "       'Panama', 'Suriname', 'Cambodia', 'Montenegro', 'Mauritius',\n",
       "       'Papua New Guinea', 'Iceland', 'Croatia', 'Reunion', 'Oman',\n",
       "       'Costa Rica', 'South Korea', 'Hong Kong', 'Singapore', 'Estonia',\n",
       "       'Georgia', 'Mongolia', 'Laos', 'Namibia'], dtype=object)"
      ]
     },
     "execution_count": 9,
     "metadata": {},
     "output_type": "execute_result"
    }
   ],
   "source": [
    "global_temp_country['Country'].unique()"
   ]
  },
  {
   "cell_type": "code",
   "execution_count": 10,
   "id": "seven-liberia",
   "metadata": {
    "execution": {
     "iopub.execute_input": "2021-06-13T15:28:38.630076Z",
     "iopub.status.busy": "2021-06-13T15:28:38.629325Z",
     "iopub.status.idle": "2021-06-13T15:28:38.631479Z",
     "shell.execute_reply": "2021-06-13T15:28:38.631844Z",
     "shell.execute_reply.started": "2021-06-13T15:07:58.309022Z"
    },
    "papermill": {
     "duration": 0.08423,
     "end_time": "2021-06-13T15:28:38.631990",
     "exception": false,
     "start_time": "2021-06-13T15:28:38.547760",
     "status": "completed"
    },
    "tags": []
   },
   "outputs": [],
   "source": [
    "dict={\n",
    "    'Congo (Democratic Republic Of The)':'Congo'\n",
    "}"
   ]
  },
  {
   "cell_type": "code",
   "execution_count": 11,
   "id": "hungarian-blade",
   "metadata": {
    "execution": {
     "iopub.execute_input": "2021-06-13T15:28:39.404345Z",
     "iopub.status.busy": "2021-06-13T15:28:39.403401Z",
     "iopub.status.idle": "2021-06-13T15:28:39.757885Z",
     "shell.execute_reply": "2021-06-13T15:28:39.757387Z",
     "shell.execute_reply.started": "2021-06-13T15:07:58.313941Z"
    },
    "papermill": {
     "duration": 1.046943,
     "end_time": "2021-06-13T15:28:39.758020",
     "exception": false,
     "start_time": "2021-06-13T15:28:38.711077",
     "status": "completed"
    },
    "tags": []
   },
   "outputs": [],
   "source": [
    "global_temp_country['Country'].replace(dict,inplace=True)"
   ]
  },
  {
   "cell_type": "markdown",
   "id": "atlantic-copying",
   "metadata": {
    "papermill": {
     "duration": 0.078252,
     "end_time": "2021-06-13T15:28:39.915493",
     "exception": false,
     "start_time": "2021-06-13T15:28:39.837241",
     "status": "completed"
    },
    "tags": []
   },
   "source": [
    "# Let's Calculate average temperature for each country"
   ]
  },
  {
   "cell_type": "code",
   "execution_count": 12,
   "id": "matched-queen",
   "metadata": {
    "execution": {
     "iopub.execute_input": "2021-06-13T15:28:40.172278Z",
     "iopub.status.busy": "2021-06-13T15:28:40.171528Z",
     "iopub.status.idle": "2021-06-13T15:28:40.693648Z",
     "shell.execute_reply": "2021-06-13T15:28:40.693204Z",
     "shell.execute_reply.started": "2021-06-13T15:07:58.85188Z"
    },
    "papermill": {
     "duration": 0.697107,
     "end_time": "2021-06-13T15:28:40.693783",
     "exception": false,
     "start_time": "2021-06-13T15:28:39.996676",
     "status": "completed"
    },
    "tags": []
   },
   "outputs": [],
   "source": [
    "avg_temp=global_temp_country.groupby(['Country'])['AverageTemperature'].mean().to_frame().reset_index()"
   ]
  },
  {
   "cell_type": "code",
   "execution_count": 13,
   "id": "technological-sensitivity",
   "metadata": {
    "execution": {
     "iopub.execute_input": "2021-06-13T15:28:40.873186Z",
     "iopub.status.busy": "2021-06-13T15:28:40.872441Z",
     "iopub.status.idle": "2021-06-13T15:28:40.876499Z",
     "shell.execute_reply": "2021-06-13T15:28:40.876932Z",
     "shell.execute_reply.started": "2021-06-13T15:07:59.398866Z"
    },
    "papermill": {
     "duration": 0.104198,
     "end_time": "2021-06-13T15:28:40.877076",
     "exception": false,
     "start_time": "2021-06-13T15:28:40.772878",
     "status": "completed"
    },
    "tags": []
   },
   "outputs": [
    {
     "data": {
      "text/html": [
       "<div>\n",
       "<style scoped>\n",
       "    .dataframe tbody tr th:only-of-type {\n",
       "        vertical-align: middle;\n",
       "    }\n",
       "\n",
       "    .dataframe tbody tr th {\n",
       "        vertical-align: top;\n",
       "    }\n",
       "\n",
       "    .dataframe thead th {\n",
       "        text-align: right;\n",
       "    }\n",
       "</style>\n",
       "<table border=\"1\" class=\"dataframe\">\n",
       "  <thead>\n",
       "    <tr style=\"text-align: right;\">\n",
       "      <th></th>\n",
       "      <th>Country</th>\n",
       "      <th>AverageTemperature</th>\n",
       "    </tr>\n",
       "  </thead>\n",
       "  <tbody>\n",
       "    <tr>\n",
       "      <th>0</th>\n",
       "      <td>Afghanistan</td>\n",
       "      <td>13.816497</td>\n",
       "    </tr>\n",
       "    <tr>\n",
       "      <th>1</th>\n",
       "      <td>Albania</td>\n",
       "      <td>15.525828</td>\n",
       "    </tr>\n",
       "    <tr>\n",
       "      <th>2</th>\n",
       "      <td>Algeria</td>\n",
       "      <td>17.763206</td>\n",
       "    </tr>\n",
       "    <tr>\n",
       "      <th>3</th>\n",
       "      <td>Angola</td>\n",
       "      <td>21.759716</td>\n",
       "    </tr>\n",
       "    <tr>\n",
       "      <th>4</th>\n",
       "      <td>Argentina</td>\n",
       "      <td>16.999216</td>\n",
       "    </tr>\n",
       "    <tr>\n",
       "      <th>5</th>\n",
       "      <td>Armenia</td>\n",
       "      <td>8.375597</td>\n",
       "    </tr>\n",
       "    <tr>\n",
       "      <th>6</th>\n",
       "      <td>Australia</td>\n",
       "      <td>16.701462</td>\n",
       "    </tr>\n",
       "    <tr>\n",
       "      <th>7</th>\n",
       "      <td>Austria</td>\n",
       "      <td>6.285928</td>\n",
       "    </tr>\n",
       "    <tr>\n",
       "      <th>8</th>\n",
       "      <td>Azerbaijan</td>\n",
       "      <td>11.113664</td>\n",
       "    </tr>\n",
       "    <tr>\n",
       "      <th>9</th>\n",
       "      <td>Bahamas</td>\n",
       "      <td>24.786978</td>\n",
       "    </tr>\n",
       "    <tr>\n",
       "      <th>10</th>\n",
       "      <td>Bahrain</td>\n",
       "      <td>25.855601</td>\n",
       "    </tr>\n",
       "    <tr>\n",
       "      <th>11</th>\n",
       "      <td>Bangladesh</td>\n",
       "      <td>25.052512</td>\n",
       "    </tr>\n",
       "    <tr>\n",
       "      <th>12</th>\n",
       "      <td>Belarus</td>\n",
       "      <td>6.142253</td>\n",
       "    </tr>\n",
       "    <tr>\n",
       "      <th>13</th>\n",
       "      <td>Belgium</td>\n",
       "      <td>9.726197</td>\n",
       "    </tr>\n",
       "    <tr>\n",
       "      <th>14</th>\n",
       "      <td>Benin</td>\n",
       "      <td>26.975880</td>\n",
       "    </tr>\n",
       "    <tr>\n",
       "      <th>15</th>\n",
       "      <td>Bolivia</td>\n",
       "      <td>11.352980</td>\n",
       "    </tr>\n",
       "    <tr>\n",
       "      <th>16</th>\n",
       "      <td>Bosnia And Herzegovina</td>\n",
       "      <td>10.449959</td>\n",
       "    </tr>\n",
       "    <tr>\n",
       "      <th>17</th>\n",
       "      <td>Botswana</td>\n",
       "      <td>18.996498</td>\n",
       "    </tr>\n",
       "    <tr>\n",
       "      <th>18</th>\n",
       "      <td>Brazil</td>\n",
       "      <td>21.902763</td>\n",
       "    </tr>\n",
       "    <tr>\n",
       "      <th>19</th>\n",
       "      <td>Bulgaria</td>\n",
       "      <td>10.580413</td>\n",
       "    </tr>\n",
       "    <tr>\n",
       "      <th>20</th>\n",
       "      <td>Burkina Faso</td>\n",
       "      <td>27.815295</td>\n",
       "    </tr>\n",
       "    <tr>\n",
       "      <th>21</th>\n",
       "      <td>Burma</td>\n",
       "      <td>26.016840</td>\n",
       "    </tr>\n",
       "    <tr>\n",
       "      <th>22</th>\n",
       "      <td>Burundi</td>\n",
       "      <td>20.806356</td>\n",
       "    </tr>\n",
       "    <tr>\n",
       "      <th>23</th>\n",
       "      <td>Cambodia</td>\n",
       "      <td>26.918136</td>\n",
       "    </tr>\n",
       "    <tr>\n",
       "      <th>24</th>\n",
       "      <td>Cameroon</td>\n",
       "      <td>24.631563</td>\n",
       "    </tr>\n",
       "    <tr>\n",
       "      <th>25</th>\n",
       "      <td>Canada</td>\n",
       "      <td>4.900387</td>\n",
       "    </tr>\n",
       "    <tr>\n",
       "      <th>26</th>\n",
       "      <td>Central African Republic</td>\n",
       "      <td>24.950858</td>\n",
       "    </tr>\n",
       "    <tr>\n",
       "      <th>27</th>\n",
       "      <td>Chad</td>\n",
       "      <td>27.189829</td>\n",
       "    </tr>\n",
       "    <tr>\n",
       "      <th>28</th>\n",
       "      <td>Chile</td>\n",
       "      <td>11.770133</td>\n",
       "    </tr>\n",
       "    <tr>\n",
       "      <th>29</th>\n",
       "      <td>China</td>\n",
       "      <td>12.542541</td>\n",
       "    </tr>\n",
       "    <tr>\n",
       "      <th>30</th>\n",
       "      <td>Colombia</td>\n",
       "      <td>22.683264</td>\n",
       "    </tr>\n",
       "    <tr>\n",
       "      <th>31</th>\n",
       "      <td>Congo</td>\n",
       "      <td>23.266574</td>\n",
       "    </tr>\n",
       "    <tr>\n",
       "      <th>32</th>\n",
       "      <td>Costa Rica</td>\n",
       "      <td>24.852330</td>\n",
       "    </tr>\n",
       "    <tr>\n",
       "      <th>33</th>\n",
       "      <td>Croatia</td>\n",
       "      <td>10.573467</td>\n",
       "    </tr>\n",
       "    <tr>\n",
       "      <th>34</th>\n",
       "      <td>Cuba</td>\n",
       "      <td>25.596882</td>\n",
       "    </tr>\n",
       "    <tr>\n",
       "      <th>35</th>\n",
       "      <td>Cyprus</td>\n",
       "      <td>19.034564</td>\n",
       "    </tr>\n",
       "    <tr>\n",
       "      <th>36</th>\n",
       "      <td>Czech Republic</td>\n",
       "      <td>8.075891</td>\n",
       "    </tr>\n",
       "    <tr>\n",
       "      <th>37</th>\n",
       "      <td>Côte D'Ivoire</td>\n",
       "      <td>25.788027</td>\n",
       "    </tr>\n",
       "    <tr>\n",
       "      <th>38</th>\n",
       "      <td>Denmark</td>\n",
       "      <td>7.802640</td>\n",
       "    </tr>\n",
       "    <tr>\n",
       "      <th>39</th>\n",
       "      <td>Djibouti</td>\n",
       "      <td>29.152790</td>\n",
       "    </tr>\n",
       "    <tr>\n",
       "      <th>40</th>\n",
       "      <td>Dominican Republic</td>\n",
       "      <td>25.884053</td>\n",
       "    </tr>\n",
       "    <tr>\n",
       "      <th>41</th>\n",
       "      <td>Ecuador</td>\n",
       "      <td>20.539171</td>\n",
       "    </tr>\n",
       "    <tr>\n",
       "      <th>42</th>\n",
       "      <td>Egypt</td>\n",
       "      <td>21.487249</td>\n",
       "    </tr>\n",
       "    <tr>\n",
       "      <th>43</th>\n",
       "      <td>El Salvador</td>\n",
       "      <td>25.262853</td>\n",
       "    </tr>\n",
       "    <tr>\n",
       "      <th>44</th>\n",
       "      <td>Equatorial Guinea</td>\n",
       "      <td>25.178324</td>\n",
       "    </tr>\n",
       "    <tr>\n",
       "      <th>45</th>\n",
       "      <td>Eritrea</td>\n",
       "      <td>24.001516</td>\n",
       "    </tr>\n",
       "    <tr>\n",
       "      <th>46</th>\n",
       "      <td>Estonia</td>\n",
       "      <td>4.695705</td>\n",
       "    </tr>\n",
       "    <tr>\n",
       "      <th>47</th>\n",
       "      <td>Ethiopia</td>\n",
       "      <td>20.611525</td>\n",
       "    </tr>\n",
       "    <tr>\n",
       "      <th>48</th>\n",
       "      <td>Finland</td>\n",
       "      <td>3.711645</td>\n",
       "    </tr>\n",
       "    <tr>\n",
       "      <th>49</th>\n",
       "      <td>France</td>\n",
       "      <td>10.337918</td>\n",
       "    </tr>\n",
       "    <tr>\n",
       "      <th>50</th>\n",
       "      <td>Gabon</td>\n",
       "      <td>25.895771</td>\n",
       "    </tr>\n",
       "    <tr>\n",
       "      <th>51</th>\n",
       "      <td>Gambia</td>\n",
       "      <td>25.184094</td>\n",
       "    </tr>\n",
       "    <tr>\n",
       "      <th>52</th>\n",
       "      <td>Georgia</td>\n",
       "      <td>8.375597</td>\n",
       "    </tr>\n",
       "    <tr>\n",
       "      <th>53</th>\n",
       "      <td>Germany</td>\n",
       "      <td>8.482791</td>\n",
       "    </tr>\n",
       "    <tr>\n",
       "      <th>54</th>\n",
       "      <td>Ghana</td>\n",
       "      <td>26.319964</td>\n",
       "    </tr>\n",
       "    <tr>\n",
       "      <th>55</th>\n",
       "      <td>Greece</td>\n",
       "      <td>16.347483</td>\n",
       "    </tr>\n",
       "    <tr>\n",
       "      <th>56</th>\n",
       "      <td>Guatemala</td>\n",
       "      <td>19.175963</td>\n",
       "    </tr>\n",
       "    <tr>\n",
       "      <th>57</th>\n",
       "      <td>Guinea</td>\n",
       "      <td>25.509399</td>\n",
       "    </tr>\n",
       "    <tr>\n",
       "      <th>58</th>\n",
       "      <td>Guinea Bissau</td>\n",
       "      <td>27.057185</td>\n",
       "    </tr>\n",
       "    <tr>\n",
       "      <th>59</th>\n",
       "      <td>Guyana</td>\n",
       "      <td>26.549849</td>\n",
       "    </tr>\n",
       "    <tr>\n",
       "      <th>60</th>\n",
       "      <td>Haiti</td>\n",
       "      <td>26.379050</td>\n",
       "    </tr>\n",
       "    <tr>\n",
       "      <th>61</th>\n",
       "      <td>Honduras</td>\n",
       "      <td>23.975221</td>\n",
       "    </tr>\n",
       "    <tr>\n",
       "      <th>62</th>\n",
       "      <td>Hong Kong</td>\n",
       "      <td>21.423696</td>\n",
       "    </tr>\n",
       "    <tr>\n",
       "      <th>63</th>\n",
       "      <td>Hungary</td>\n",
       "      <td>9.828791</td>\n",
       "    </tr>\n",
       "    <tr>\n",
       "      <th>64</th>\n",
       "      <td>Iceland</td>\n",
       "      <td>1.500089</td>\n",
       "    </tr>\n",
       "    <tr>\n",
       "      <th>65</th>\n",
       "      <td>India</td>\n",
       "      <td>25.429224</td>\n",
       "    </tr>\n",
       "    <tr>\n",
       "      <th>66</th>\n",
       "      <td>Indonesia</td>\n",
       "      <td>25.990193</td>\n",
       "    </tr>\n",
       "    <tr>\n",
       "      <th>67</th>\n",
       "      <td>Iran</td>\n",
       "      <td>14.790532</td>\n",
       "    </tr>\n",
       "    <tr>\n",
       "      <th>68</th>\n",
       "      <td>Iraq</td>\n",
       "      <td>19.884738</td>\n",
       "    </tr>\n",
       "    <tr>\n",
       "      <th>69</th>\n",
       "      <td>Ireland</td>\n",
       "      <td>9.153906</td>\n",
       "    </tr>\n",
       "    <tr>\n",
       "      <th>70</th>\n",
       "      <td>Israel</td>\n",
       "      <td>19.007697</td>\n",
       "    </tr>\n",
       "    <tr>\n",
       "      <th>71</th>\n",
       "      <td>Italy</td>\n",
       "      <td>12.622416</td>\n",
       "    </tr>\n",
       "    <tr>\n",
       "      <th>72</th>\n",
       "      <td>Jamaica</td>\n",
       "      <td>26.409169</td>\n",
       "    </tr>\n",
       "    <tr>\n",
       "      <th>73</th>\n",
       "      <td>Japan</td>\n",
       "      <td>13.402360</td>\n",
       "    </tr>\n",
       "    <tr>\n",
       "      <th>74</th>\n",
       "      <td>Jordan</td>\n",
       "      <td>18.360981</td>\n",
       "    </tr>\n",
       "    <tr>\n",
       "      <th>75</th>\n",
       "      <td>Kazakhstan</td>\n",
       "      <td>4.340300</td>\n",
       "    </tr>\n",
       "    <tr>\n",
       "      <th>76</th>\n",
       "      <td>Kenya</td>\n",
       "      <td>20.205171</td>\n",
       "    </tr>\n",
       "    <tr>\n",
       "      <th>77</th>\n",
       "      <td>Laos</td>\n",
       "      <td>24.107664</td>\n",
       "    </tr>\n",
       "    <tr>\n",
       "      <th>78</th>\n",
       "      <td>Latvia</td>\n",
       "      <td>5.386616</td>\n",
       "    </tr>\n",
       "    <tr>\n",
       "      <th>79</th>\n",
       "      <td>Lebanon</td>\n",
       "      <td>18.759461</td>\n",
       "    </tr>\n",
       "    <tr>\n",
       "      <th>80</th>\n",
       "      <td>Lesotho</td>\n",
       "      <td>14.040680</td>\n",
       "    </tr>\n",
       "    <tr>\n",
       "      <th>81</th>\n",
       "      <td>Liberia</td>\n",
       "      <td>25.673186</td>\n",
       "    </tr>\n",
       "    <tr>\n",
       "      <th>82</th>\n",
       "      <td>Libya</td>\n",
       "      <td>19.853652</td>\n",
       "    </tr>\n",
       "    <tr>\n",
       "      <th>83</th>\n",
       "      <td>Lithuania</td>\n",
       "      <td>6.105942</td>\n",
       "    </tr>\n",
       "    <tr>\n",
       "      <th>84</th>\n",
       "      <td>Macedonia</td>\n",
       "      <td>9.577843</td>\n",
       "    </tr>\n",
       "    <tr>\n",
       "      <th>85</th>\n",
       "      <td>Madagascar</td>\n",
       "      <td>22.116976</td>\n",
       "    </tr>\n",
       "    <tr>\n",
       "      <th>86</th>\n",
       "      <td>Malawi</td>\n",
       "      <td>21.347872</td>\n",
       "    </tr>\n",
       "    <tr>\n",
       "      <th>87</th>\n",
       "      <td>Malaysia</td>\n",
       "      <td>26.434757</td>\n",
       "    </tr>\n",
       "    <tr>\n",
       "      <th>88</th>\n",
       "      <td>Mali</td>\n",
       "      <td>27.590491</td>\n",
       "    </tr>\n",
       "    <tr>\n",
       "      <th>89</th>\n",
       "      <td>Mauritania</td>\n",
       "      <td>27.021905</td>\n",
       "    </tr>\n",
       "    <tr>\n",
       "      <th>90</th>\n",
       "      <td>Mauritius</td>\n",
       "      <td>23.522654</td>\n",
       "    </tr>\n",
       "    <tr>\n",
       "      <th>91</th>\n",
       "      <td>Mexico</td>\n",
       "      <td>20.062046</td>\n",
       "    </tr>\n",
       "    <tr>\n",
       "      <th>92</th>\n",
       "      <td>Moldova</td>\n",
       "      <td>8.672153</td>\n",
       "    </tr>\n",
       "    <tr>\n",
       "      <th>93</th>\n",
       "      <td>Mongolia</td>\n",
       "      <td>-3.365485</td>\n",
       "    </tr>\n",
       "    <tr>\n",
       "      <th>94</th>\n",
       "      <td>Montenegro</td>\n",
       "      <td>10.221040</td>\n",
       "    </tr>\n",
       "    <tr>\n",
       "      <th>95</th>\n",
       "      <td>Morocco</td>\n",
       "      <td>17.295399</td>\n",
       "    </tr>\n",
       "    <tr>\n",
       "      <th>96</th>\n",
       "      <td>Mozambique</td>\n",
       "      <td>23.474416</td>\n",
       "    </tr>\n",
       "    <tr>\n",
       "      <th>97</th>\n",
       "      <td>Namibia</td>\n",
       "      <td>19.635057</td>\n",
       "    </tr>\n",
       "    <tr>\n",
       "      <th>98</th>\n",
       "      <td>Nepal</td>\n",
       "      <td>18.119933</td>\n",
       "    </tr>\n",
       "    <tr>\n",
       "      <th>99</th>\n",
       "      <td>Netherlands</td>\n",
       "      <td>9.096836</td>\n",
       "    </tr>\n",
       "    <tr>\n",
       "      <th>100</th>\n",
       "      <td>New Zealand</td>\n",
       "      <td>12.841857</td>\n",
       "    </tr>\n",
       "    <tr>\n",
       "      <th>101</th>\n",
       "      <td>Nicaragua</td>\n",
       "      <td>26.852527</td>\n",
       "    </tr>\n",
       "    <tr>\n",
       "      <th>102</th>\n",
       "      <td>Niger</td>\n",
       "      <td>28.145552</td>\n",
       "    </tr>\n",
       "    <tr>\n",
       "      <th>103</th>\n",
       "      <td>Nigeria</td>\n",
       "      <td>26.584343</td>\n",
       "    </tr>\n",
       "    <tr>\n",
       "      <th>104</th>\n",
       "      <td>Norway</td>\n",
       "      <td>3.612553</td>\n",
       "    </tr>\n",
       "    <tr>\n",
       "      <th>105</th>\n",
       "      <td>Oman</td>\n",
       "      <td>25.565806</td>\n",
       "    </tr>\n",
       "    <tr>\n",
       "      <th>106</th>\n",
       "      <td>Pakistan</td>\n",
       "      <td>23.972701</td>\n",
       "    </tr>\n",
       "    <tr>\n",
       "      <th>107</th>\n",
       "      <td>Panama</td>\n",
       "      <td>26.745668</td>\n",
       "    </tr>\n",
       "    <tr>\n",
       "      <th>108</th>\n",
       "      <td>Papua New Guinea</td>\n",
       "      <td>24.855732</td>\n",
       "    </tr>\n",
       "    <tr>\n",
       "      <th>109</th>\n",
       "      <td>Paraguay</td>\n",
       "      <td>22.784014</td>\n",
       "    </tr>\n",
       "    <tr>\n",
       "      <th>110</th>\n",
       "      <td>Peru</td>\n",
       "      <td>16.577115</td>\n",
       "    </tr>\n",
       "    <tr>\n",
       "      <th>111</th>\n",
       "      <td>Philippines</td>\n",
       "      <td>26.516462</td>\n",
       "    </tr>\n",
       "    <tr>\n",
       "      <th>112</th>\n",
       "      <td>Poland</td>\n",
       "      <td>7.671972</td>\n",
       "    </tr>\n",
       "    <tr>\n",
       "      <th>113</th>\n",
       "      <td>Portugal</td>\n",
       "      <td>14.749675</td>\n",
       "    </tr>\n",
       "    <tr>\n",
       "      <th>114</th>\n",
       "      <td>Puerto Rico</td>\n",
       "      <td>25.297680</td>\n",
       "    </tr>\n",
       "    <tr>\n",
       "      <th>115</th>\n",
       "      <td>Qatar</td>\n",
       "      <td>26.831705</td>\n",
       "    </tr>\n",
       "    <tr>\n",
       "      <th>116</th>\n",
       "      <td>Reunion</td>\n",
       "      <td>23.301403</td>\n",
       "    </tr>\n",
       "    <tr>\n",
       "      <th>117</th>\n",
       "      <td>Romania</td>\n",
       "      <td>8.895906</td>\n",
       "    </tr>\n",
       "    <tr>\n",
       "      <th>118</th>\n",
       "      <td>Russia</td>\n",
       "      <td>3.347268</td>\n",
       "    </tr>\n",
       "    <tr>\n",
       "      <th>119</th>\n",
       "      <td>Rwanda</td>\n",
       "      <td>19.077632</td>\n",
       "    </tr>\n",
       "    <tr>\n",
       "      <th>120</th>\n",
       "      <td>Saudi Arabia</td>\n",
       "      <td>24.863509</td>\n",
       "    </tr>\n",
       "    <tr>\n",
       "      <th>121</th>\n",
       "      <td>Senegal</td>\n",
       "      <td>25.984177</td>\n",
       "    </tr>\n",
       "    <tr>\n",
       "      <th>122</th>\n",
       "      <td>Serbia</td>\n",
       "      <td>9.909778</td>\n",
       "    </tr>\n",
       "    <tr>\n",
       "      <th>123</th>\n",
       "      <td>Sierra Leone</td>\n",
       "      <td>25.641011</td>\n",
       "    </tr>\n",
       "    <tr>\n",
       "      <th>124</th>\n",
       "      <td>Singapore</td>\n",
       "      <td>26.523103</td>\n",
       "    </tr>\n",
       "    <tr>\n",
       "      <th>125</th>\n",
       "      <td>Slovakia</td>\n",
       "      <td>8.677102</td>\n",
       "    </tr>\n",
       "    <tr>\n",
       "      <th>126</th>\n",
       "      <td>Slovenia</td>\n",
       "      <td>9.486257</td>\n",
       "    </tr>\n",
       "    <tr>\n",
       "      <th>127</th>\n",
       "      <td>Somalia</td>\n",
       "      <td>26.446140</td>\n",
       "    </tr>\n",
       "    <tr>\n",
       "      <th>128</th>\n",
       "      <td>South Africa</td>\n",
       "      <td>16.360849</td>\n",
       "    </tr>\n",
       "    <tr>\n",
       "      <th>129</th>\n",
       "      <td>South Korea</td>\n",
       "      <td>10.681885</td>\n",
       "    </tr>\n",
       "    <tr>\n",
       "      <th>130</th>\n",
       "      <td>Spain</td>\n",
       "      <td>14.457234</td>\n",
       "    </tr>\n",
       "    <tr>\n",
       "      <th>131</th>\n",
       "      <td>Sri Lanka</td>\n",
       "      <td>26.727753</td>\n",
       "    </tr>\n",
       "    <tr>\n",
       "      <th>132</th>\n",
       "      <td>Sudan</td>\n",
       "      <td>28.072831</td>\n",
       "    </tr>\n",
       "    <tr>\n",
       "      <th>133</th>\n",
       "      <td>Suriname</td>\n",
       "      <td>26.429475</td>\n",
       "    </tr>\n",
       "    <tr>\n",
       "      <th>134</th>\n",
       "      <td>Swaziland</td>\n",
       "      <td>21.203533</td>\n",
       "    </tr>\n",
       "    <tr>\n",
       "      <th>135</th>\n",
       "      <td>Sweden</td>\n",
       "      <td>5.665518</td>\n",
       "    </tr>\n",
       "    <tr>\n",
       "      <th>136</th>\n",
       "      <td>Switzerland</td>\n",
       "      <td>7.541977</td>\n",
       "    </tr>\n",
       "    <tr>\n",
       "      <th>137</th>\n",
       "      <td>Syria</td>\n",
       "      <td>18.094597</td>\n",
       "    </tr>\n",
       "    <tr>\n",
       "      <th>138</th>\n",
       "      <td>Taiwan</td>\n",
       "      <td>21.682917</td>\n",
       "    </tr>\n",
       "    <tr>\n",
       "      <th>139</th>\n",
       "      <td>Tajikistan</td>\n",
       "      <td>8.810141</td>\n",
       "    </tr>\n",
       "    <tr>\n",
       "      <th>140</th>\n",
       "      <td>Tanzania</td>\n",
       "      <td>22.645595</td>\n",
       "    </tr>\n",
       "    <tr>\n",
       "      <th>141</th>\n",
       "      <td>Thailand</td>\n",
       "      <td>26.693110</td>\n",
       "    </tr>\n",
       "    <tr>\n",
       "      <th>142</th>\n",
       "      <td>Togo</td>\n",
       "      <td>26.644357</td>\n",
       "    </tr>\n",
       "    <tr>\n",
       "      <th>143</th>\n",
       "      <td>Tunisia</td>\n",
       "      <td>18.777488</td>\n",
       "    </tr>\n",
       "    <tr>\n",
       "      <th>144</th>\n",
       "      <td>Turkey</td>\n",
       "      <td>12.951888</td>\n",
       "    </tr>\n",
       "    <tr>\n",
       "      <th>145</th>\n",
       "      <td>Turkmenistan</td>\n",
       "      <td>14.302487</td>\n",
       "    </tr>\n",
       "    <tr>\n",
       "      <th>146</th>\n",
       "      <td>Uganda</td>\n",
       "      <td>24.019329</td>\n",
       "    </tr>\n",
       "    <tr>\n",
       "      <th>147</th>\n",
       "      <td>Ukraine</td>\n",
       "      <td>7.822184</td>\n",
       "    </tr>\n",
       "    <tr>\n",
       "      <th>148</th>\n",
       "      <td>United Arab Emirates</td>\n",
       "      <td>26.572681</td>\n",
       "    </tr>\n",
       "    <tr>\n",
       "      <th>149</th>\n",
       "      <td>United Kingdom</td>\n",
       "      <td>9.098373</td>\n",
       "    </tr>\n",
       "    <tr>\n",
       "      <th>150</th>\n",
       "      <td>United States</td>\n",
       "      <td>13.949335</td>\n",
       "    </tr>\n",
       "    <tr>\n",
       "      <th>151</th>\n",
       "      <td>Uruguay</td>\n",
       "      <td>17.421871</td>\n",
       "    </tr>\n",
       "    <tr>\n",
       "      <th>152</th>\n",
       "      <td>Uzbekistan</td>\n",
       "      <td>11.946574</td>\n",
       "    </tr>\n",
       "    <tr>\n",
       "      <th>153</th>\n",
       "      <td>Venezuela</td>\n",
       "      <td>25.482422</td>\n",
       "    </tr>\n",
       "    <tr>\n",
       "      <th>154</th>\n",
       "      <td>Vietnam</td>\n",
       "      <td>24.846825</td>\n",
       "    </tr>\n",
       "    <tr>\n",
       "      <th>155</th>\n",
       "      <td>Yemen</td>\n",
       "      <td>25.768408</td>\n",
       "    </tr>\n",
       "    <tr>\n",
       "      <th>156</th>\n",
       "      <td>Zambia</td>\n",
       "      <td>20.937623</td>\n",
       "    </tr>\n",
       "    <tr>\n",
       "      <th>157</th>\n",
       "      <td>Zimbabwe</td>\n",
       "      <td>19.822971</td>\n",
       "    </tr>\n",
       "  </tbody>\n",
       "</table>\n",
       "</div>"
      ],
      "text/plain": [
       "                      Country  AverageTemperature\n",
       "0                 Afghanistan           13.816497\n",
       "1                     Albania           15.525828\n",
       "2                     Algeria           17.763206\n",
       "3                      Angola           21.759716\n",
       "4                   Argentina           16.999216\n",
       "5                     Armenia            8.375597\n",
       "6                   Australia           16.701462\n",
       "7                     Austria            6.285928\n",
       "8                  Azerbaijan           11.113664\n",
       "9                     Bahamas           24.786978\n",
       "10                    Bahrain           25.855601\n",
       "11                 Bangladesh           25.052512\n",
       "12                    Belarus            6.142253\n",
       "13                    Belgium            9.726197\n",
       "14                      Benin           26.975880\n",
       "15                    Bolivia           11.352980\n",
       "16     Bosnia And Herzegovina           10.449959\n",
       "17                   Botswana           18.996498\n",
       "18                     Brazil           21.902763\n",
       "19                   Bulgaria           10.580413\n",
       "20               Burkina Faso           27.815295\n",
       "21                      Burma           26.016840\n",
       "22                    Burundi           20.806356\n",
       "23                   Cambodia           26.918136\n",
       "24                   Cameroon           24.631563\n",
       "25                     Canada            4.900387\n",
       "26   Central African Republic           24.950858\n",
       "27                       Chad           27.189829\n",
       "28                      Chile           11.770133\n",
       "29                      China           12.542541\n",
       "30                   Colombia           22.683264\n",
       "31                      Congo           23.266574\n",
       "32                 Costa Rica           24.852330\n",
       "33                    Croatia           10.573467\n",
       "34                       Cuba           25.596882\n",
       "35                     Cyprus           19.034564\n",
       "36             Czech Republic            8.075891\n",
       "37              Côte D'Ivoire           25.788027\n",
       "38                    Denmark            7.802640\n",
       "39                   Djibouti           29.152790\n",
       "40         Dominican Republic           25.884053\n",
       "41                    Ecuador           20.539171\n",
       "42                      Egypt           21.487249\n",
       "43                El Salvador           25.262853\n",
       "44          Equatorial Guinea           25.178324\n",
       "45                    Eritrea           24.001516\n",
       "46                    Estonia            4.695705\n",
       "47                   Ethiopia           20.611525\n",
       "48                    Finland            3.711645\n",
       "49                     France           10.337918\n",
       "50                      Gabon           25.895771\n",
       "51                     Gambia           25.184094\n",
       "52                    Georgia            8.375597\n",
       "53                    Germany            8.482791\n",
       "54                      Ghana           26.319964\n",
       "55                     Greece           16.347483\n",
       "56                  Guatemala           19.175963\n",
       "57                     Guinea           25.509399\n",
       "58              Guinea Bissau           27.057185\n",
       "59                     Guyana           26.549849\n",
       "60                      Haiti           26.379050\n",
       "61                   Honduras           23.975221\n",
       "62                  Hong Kong           21.423696\n",
       "63                    Hungary            9.828791\n",
       "64                    Iceland            1.500089\n",
       "65                      India           25.429224\n",
       "66                  Indonesia           25.990193\n",
       "67                       Iran           14.790532\n",
       "68                       Iraq           19.884738\n",
       "69                    Ireland            9.153906\n",
       "70                     Israel           19.007697\n",
       "71                      Italy           12.622416\n",
       "72                    Jamaica           26.409169\n",
       "73                      Japan           13.402360\n",
       "74                     Jordan           18.360981\n",
       "75                 Kazakhstan            4.340300\n",
       "76                      Kenya           20.205171\n",
       "77                       Laos           24.107664\n",
       "78                     Latvia            5.386616\n",
       "79                    Lebanon           18.759461\n",
       "80                    Lesotho           14.040680\n",
       "81                    Liberia           25.673186\n",
       "82                      Libya           19.853652\n",
       "83                  Lithuania            6.105942\n",
       "84                  Macedonia            9.577843\n",
       "85                 Madagascar           22.116976\n",
       "86                     Malawi           21.347872\n",
       "87                   Malaysia           26.434757\n",
       "88                       Mali           27.590491\n",
       "89                 Mauritania           27.021905\n",
       "90                  Mauritius           23.522654\n",
       "91                     Mexico           20.062046\n",
       "92                    Moldova            8.672153\n",
       "93                   Mongolia           -3.365485\n",
       "94                 Montenegro           10.221040\n",
       "95                    Morocco           17.295399\n",
       "96                 Mozambique           23.474416\n",
       "97                    Namibia           19.635057\n",
       "98                      Nepal           18.119933\n",
       "99                Netherlands            9.096836\n",
       "100               New Zealand           12.841857\n",
       "101                 Nicaragua           26.852527\n",
       "102                     Niger           28.145552\n",
       "103                   Nigeria           26.584343\n",
       "104                    Norway            3.612553\n",
       "105                      Oman           25.565806\n",
       "106                  Pakistan           23.972701\n",
       "107                    Panama           26.745668\n",
       "108          Papua New Guinea           24.855732\n",
       "109                  Paraguay           22.784014\n",
       "110                      Peru           16.577115\n",
       "111               Philippines           26.516462\n",
       "112                    Poland            7.671972\n",
       "113                  Portugal           14.749675\n",
       "114               Puerto Rico           25.297680\n",
       "115                     Qatar           26.831705\n",
       "116                   Reunion           23.301403\n",
       "117                   Romania            8.895906\n",
       "118                    Russia            3.347268\n",
       "119                    Rwanda           19.077632\n",
       "120              Saudi Arabia           24.863509\n",
       "121                   Senegal           25.984177\n",
       "122                    Serbia            9.909778\n",
       "123              Sierra Leone           25.641011\n",
       "124                 Singapore           26.523103\n",
       "125                  Slovakia            8.677102\n",
       "126                  Slovenia            9.486257\n",
       "127                   Somalia           26.446140\n",
       "128              South Africa           16.360849\n",
       "129               South Korea           10.681885\n",
       "130                     Spain           14.457234\n",
       "131                 Sri Lanka           26.727753\n",
       "132                     Sudan           28.072831\n",
       "133                  Suriname           26.429475\n",
       "134                 Swaziland           21.203533\n",
       "135                    Sweden            5.665518\n",
       "136               Switzerland            7.541977\n",
       "137                     Syria           18.094597\n",
       "138                    Taiwan           21.682917\n",
       "139                Tajikistan            8.810141\n",
       "140                  Tanzania           22.645595\n",
       "141                  Thailand           26.693110\n",
       "142                      Togo           26.644357\n",
       "143                   Tunisia           18.777488\n",
       "144                    Turkey           12.951888\n",
       "145              Turkmenistan           14.302487\n",
       "146                    Uganda           24.019329\n",
       "147                   Ukraine            7.822184\n",
       "148      United Arab Emirates           26.572681\n",
       "149            United Kingdom            9.098373\n",
       "150             United States           13.949335\n",
       "151                   Uruguay           17.421871\n",
       "152                Uzbekistan           11.946574\n",
       "153                 Venezuela           25.482422\n",
       "154                   Vietnam           24.846825\n",
       "155                     Yemen           25.768408\n",
       "156                    Zambia           20.937623\n",
       "157                  Zimbabwe           19.822971"
      ]
     },
     "execution_count": 13,
     "metadata": {},
     "output_type": "execute_result"
    }
   ],
   "source": [
    "avg_temp"
   ]
  },
  {
   "cell_type": "code",
   "execution_count": 14,
   "id": "christian-quantum",
   "metadata": {
    "execution": {
     "iopub.execute_input": "2021-06-13T15:28:41.106036Z",
     "iopub.status.busy": "2021-06-13T15:28:41.105391Z",
     "iopub.status.idle": "2021-06-13T15:28:43.617456Z",
     "shell.execute_reply": "2021-06-13T15:28:43.616696Z",
     "shell.execute_reply.started": "2021-06-13T15:07:59.42259Z"
    },
    "papermill": {
     "duration": 2.65423,
     "end_time": "2021-06-13T15:28:43.617583",
     "exception": false,
     "start_time": "2021-06-13T15:28:40.963353",
     "status": "completed"
    },
    "tags": []
   },
   "outputs": [
    {
     "data": {
      "text/html": [
       "        <script type=\"text/javascript\">\n",
       "        window.PlotlyConfig = {MathJaxConfig: 'local'};\n",
       "        if (window.MathJax) {MathJax.Hub.Config({SVG: {font: \"STIX-Web\"}});}\n",
       "        if (typeof require !== 'undefined') {\n",
       "        require.undef(\"plotly\");\n",
       "        requirejs.config({\n",
       "            paths: {\n",
       "                'plotly': ['https://cdn.plot.ly/plotly-latest.min']\n",
       "            }\n",
       "        });\n",
       "        require(['plotly'], function(Plotly) {\n",
       "            window._Plotly = Plotly;\n",
       "        });\n",
       "        }\n",
       "        </script>\n",
       "        "
      ]
     },
     "metadata": {},
     "output_type": "display_data"
    }
   ],
   "source": [
    "import plotly.express as px\n",
    "import plotly.graph_objs as go\n",
    "import pandas as pd\n",
    "\n",
    "from plotly.offline import download_plotlyjs, init_notebook_mode, iplot, plot\n",
    "init_notebook_mode(connected = True)"
   ]
  },
  {
   "cell_type": "code",
   "execution_count": 15,
   "id": "western-oracle",
   "metadata": {
    "execution": {
     "iopub.execute_input": "2021-06-13T15:28:43.783484Z",
     "iopub.status.busy": "2021-06-13T15:28:43.782972Z",
     "iopub.status.idle": "2021-06-13T15:28:44.763557Z",
     "shell.execute_reply": "2021-06-13T15:28:44.763984Z",
     "shell.execute_reply.started": "2021-06-13T15:08:00.701842Z"
    },
    "papermill": {
     "duration": 1.06563,
     "end_time": "2021-06-13T15:28:44.764129",
     "exception": false,
     "start_time": "2021-06-13T15:28:43.698499",
     "status": "completed"
    },
    "tags": []
   },
   "outputs": [
    {
     "data": {
      "application/vnd.plotly.v1+json": {
       "config": {
        "plotlyServerURL": "https://plot.ly"
       },
       "data": [
        {
         "coloraxis": "coloraxis",
         "geo": "geo",
         "hovertemplate": "Country=%{location}<br>AverageTemperature=%{z}<extra></extra>",
         "locationmode": "country names",
         "locations": [
          "Afghanistan",
          "Albania",
          "Algeria",
          "Angola",
          "Argentina",
          "Armenia",
          "Australia",
          "Austria",
          "Azerbaijan",
          "Bahamas",
          "Bahrain",
          "Bangladesh",
          "Belarus",
          "Belgium",
          "Benin",
          "Bolivia",
          "Bosnia And Herzegovina",
          "Botswana",
          "Brazil",
          "Bulgaria",
          "Burkina Faso",
          "Burma",
          "Burundi",
          "Cambodia",
          "Cameroon",
          "Canada",
          "Central African Republic",
          "Chad",
          "Chile",
          "China",
          "Colombia",
          "Congo",
          "Costa Rica",
          "Croatia",
          "Cuba",
          "Cyprus",
          "Czech Republic",
          "Côte D'Ivoire",
          "Denmark",
          "Djibouti",
          "Dominican Republic",
          "Ecuador",
          "Egypt",
          "El Salvador",
          "Equatorial Guinea",
          "Eritrea",
          "Estonia",
          "Ethiopia",
          "Finland",
          "France",
          "Gabon",
          "Gambia",
          "Georgia",
          "Germany",
          "Ghana",
          "Greece",
          "Guatemala",
          "Guinea",
          "Guinea Bissau",
          "Guyana",
          "Haiti",
          "Honduras",
          "Hong Kong",
          "Hungary",
          "Iceland",
          "India",
          "Indonesia",
          "Iran",
          "Iraq",
          "Ireland",
          "Israel",
          "Italy",
          "Jamaica",
          "Japan",
          "Jordan",
          "Kazakhstan",
          "Kenya",
          "Laos",
          "Latvia",
          "Lebanon",
          "Lesotho",
          "Liberia",
          "Libya",
          "Lithuania",
          "Macedonia",
          "Madagascar",
          "Malawi",
          "Malaysia",
          "Mali",
          "Mauritania",
          "Mauritius",
          "Mexico",
          "Moldova",
          "Mongolia",
          "Montenegro",
          "Morocco",
          "Mozambique",
          "Namibia",
          "Nepal",
          "Netherlands",
          "New Zealand",
          "Nicaragua",
          "Niger",
          "Nigeria",
          "Norway",
          "Oman",
          "Pakistan",
          "Panama",
          "Papua New Guinea",
          "Paraguay",
          "Peru",
          "Philippines",
          "Poland",
          "Portugal",
          "Puerto Rico",
          "Qatar",
          "Reunion",
          "Romania",
          "Russia",
          "Rwanda",
          "Saudi Arabia",
          "Senegal",
          "Serbia",
          "Sierra Leone",
          "Singapore",
          "Slovakia",
          "Slovenia",
          "Somalia",
          "South Africa",
          "South Korea",
          "Spain",
          "Sri Lanka",
          "Sudan",
          "Suriname",
          "Swaziland",
          "Sweden",
          "Switzerland",
          "Syria",
          "Taiwan",
          "Tajikistan",
          "Tanzania",
          "Thailand",
          "Togo",
          "Tunisia",
          "Turkey",
          "Turkmenistan",
          "Uganda",
          "Ukraine",
          "United Arab Emirates",
          "United Kingdom",
          "United States",
          "Uruguay",
          "Uzbekistan",
          "Venezuela",
          "Vietnam",
          "Yemen",
          "Zambia",
          "Zimbabwe"
         ],
         "name": "",
         "type": "choropleth",
         "z": [
          13.816496896263587,
          15.525828490208427,
          17.763205946291528,
          21.759715773235612,
          16.999215885618266,
          8.375597043951766,
          16.701462142476366,
          6.285928363866041,
          11.11366381418095,
          24.78697831775695,
          25.85560129096327,
          25.052512225575114,
          6.142253198041726,
          9.72619695875829,
          26.975880208333376,
          11.352980175438574,
          10.449959128237516,
          18.996498131340086,
          21.90276297977477,
          10.580413274975184,
          27.815294546436224,
          26.016839989290336,
          20.80635582089551,
          26.918136297728335,
          24.631562757558196,
          4.900387156374136,
          24.950858213256467,
          27.18982939481266,
          11.770133066906789,
          12.542541204592437,
          22.683264177371438,
          23.266574150086807,
          24.852329749103927,
          10.57346694040851,
          25.59688167009913,
          19.03456376594148,
          8.075891092861651,
          25.788026983337325,
          7.8026399241945725,
          29.152790108564506,
          25.884052560376702,
          20.539170537427825,
          21.487249035256728,
          25.262852550939673,
          25.17832420749279,
          24.001515877771144,
          4.695704832596344,
          20.611525296730854,
          3.7116445356917227,
          10.337918263494096,
          25.895771181556142,
          25.18409401709406,
          8.375597043951775,
          8.482790790264108,
          26.319964426877508,
          16.347482714233255,
          19.1759626556015,
          25.509399201596743,
          27.05718546231962,
          26.54984937439856,
          26.37905045625331,
          23.975221142600088,
          21.42369615384619,
          9.828791394679559,
          1.50008864900229,
          25.429224037737598,
          25.990192956328983,
          14.790532209512365,
          19.884738137449094,
          9.15390603284904,
          19.007696591476474,
          12.622415982312079,
          26.409168621047904,
          13.402359587282348,
          18.360980886539238,
          4.340299609693073,
          20.20517099328464,
          24.107664292074816,
          5.386615603284896,
          18.759460757156088,
          14.040680192205034,
          25.67318610816537,
          19.853651724137887,
          6.10594150347443,
          9.577843019583055,
          22.11697617917819,
          21.34787202649801,
          26.43475662438378,
          27.59049083466813,
          27.021904935064928,
          23.522653983353138,
          20.06204584174636,
          8.672153295430638,
          -3.3654853195164023,
          10.22104011370813,
          17.295399404278307,
          23.47441648160662,
          19.635057097118484,
          18.11993321393488,
          9.09683608391228,
          12.84185658759645,
          26.85252678571442,
          28.145551671148606,
          26.584342534328705,
          3.6125527479469324,
          25.5658062953995,
          23.972701115482515,
          26.745667996011946,
          24.855732278481018,
          22.784014312977092,
          16.57711496365856,
          26.51646246746454,
          7.671972296106832,
          14.749674965924704,
          25.29767992333491,
          26.831705193482705,
          23.301403091557614,
          8.895906140240006,
          3.3472679828735865,
          19.077631823461093,
          24.863508781107498,
          25.984176694490703,
          9.909777742682708,
          25.641010910058544,
          26.523102826510677,
          8.67710186355023,
          9.486257106759316,
          26.44614004062614,
          16.36084878220663,
          10.681884541984736,
          14.457233926198434,
          26.727753499911582,
          28.072830827505655,
          26.429474975938355,
          21.203533368926852,
          5.665518003790268,
          7.541977258370224,
          18.094597216677084,
          21.68291664251478,
          8.810140854779405,
          22.64559520500348,
          26.693109779758267,
          26.644357345433892,
          18.77748830706655,
          12.951888167466613,
          14.302487036478755,
          24.019329229547242,
          7.8221839538832425,
          26.57268054823411,
          9.098373016610223,
          13.94933492360046,
          17.421870944656575,
          11.946573813309133,
          25.482422449568276,
          24.846825444785516,
          25.76840766445383,
          20.93762319158276,
          19.822971358428724
         ]
        }
       ],
       "layout": {
        "coloraxis": {
         "colorbar": {
          "title": {
           "text": "AverageTemperature"
          }
         },
         "colorscale": [
          [
           0.0,
           "#0d0887"
          ],
          [
           0.1111111111111111,
           "#46039f"
          ],
          [
           0.2222222222222222,
           "#7201a8"
          ],
          [
           0.3333333333333333,
           "#9c179e"
          ],
          [
           0.4444444444444444,
           "#bd3786"
          ],
          [
           0.5555555555555556,
           "#d8576b"
          ],
          [
           0.6666666666666666,
           "#ed7953"
          ],
          [
           0.7777777777777778,
           "#fb9f3a"
          ],
          [
           0.8888888888888888,
           "#fdca26"
          ],
          [
           1.0,
           "#f0f921"
          ]
         ]
        },
        "geo": {
         "center": {},
         "domain": {
          "x": [
           0.0,
           1.0
          ],
          "y": [
           0.0,
           1.0
          ]
         }
        },
        "legend": {
         "tracegroupgap": 0
        },
        "margin": {
         "t": 60
        },
        "template": {
         "data": {
          "bar": [
           {
            "error_x": {
             "color": "#2a3f5f"
            },
            "error_y": {
             "color": "#2a3f5f"
            },
            "marker": {
             "line": {
              "color": "#E5ECF6",
              "width": 0.5
             }
            },
            "type": "bar"
           }
          ],
          "barpolar": [
           {
            "marker": {
             "line": {
              "color": "#E5ECF6",
              "width": 0.5
             }
            },
            "type": "barpolar"
           }
          ],
          "carpet": [
           {
            "aaxis": {
             "endlinecolor": "#2a3f5f",
             "gridcolor": "white",
             "linecolor": "white",
             "minorgridcolor": "white",
             "startlinecolor": "#2a3f5f"
            },
            "baxis": {
             "endlinecolor": "#2a3f5f",
             "gridcolor": "white",
             "linecolor": "white",
             "minorgridcolor": "white",
             "startlinecolor": "#2a3f5f"
            },
            "type": "carpet"
           }
          ],
          "choropleth": [
           {
            "colorbar": {
             "outlinewidth": 0,
             "ticks": ""
            },
            "type": "choropleth"
           }
          ],
          "contour": [
           {
            "colorbar": {
             "outlinewidth": 0,
             "ticks": ""
            },
            "colorscale": [
             [
              0.0,
              "#0d0887"
             ],
             [
              0.1111111111111111,
              "#46039f"
             ],
             [
              0.2222222222222222,
              "#7201a8"
             ],
             [
              0.3333333333333333,
              "#9c179e"
             ],
             [
              0.4444444444444444,
              "#bd3786"
             ],
             [
              0.5555555555555556,
              "#d8576b"
             ],
             [
              0.6666666666666666,
              "#ed7953"
             ],
             [
              0.7777777777777778,
              "#fb9f3a"
             ],
             [
              0.8888888888888888,
              "#fdca26"
             ],
             [
              1.0,
              "#f0f921"
             ]
            ],
            "type": "contour"
           }
          ],
          "contourcarpet": [
           {
            "colorbar": {
             "outlinewidth": 0,
             "ticks": ""
            },
            "type": "contourcarpet"
           }
          ],
          "heatmap": [
           {
            "colorbar": {
             "outlinewidth": 0,
             "ticks": ""
            },
            "colorscale": [
             [
              0.0,
              "#0d0887"
             ],
             [
              0.1111111111111111,
              "#46039f"
             ],
             [
              0.2222222222222222,
              "#7201a8"
             ],
             [
              0.3333333333333333,
              "#9c179e"
             ],
             [
              0.4444444444444444,
              "#bd3786"
             ],
             [
              0.5555555555555556,
              "#d8576b"
             ],
             [
              0.6666666666666666,
              "#ed7953"
             ],
             [
              0.7777777777777778,
              "#fb9f3a"
             ],
             [
              0.8888888888888888,
              "#fdca26"
             ],
             [
              1.0,
              "#f0f921"
             ]
            ],
            "type": "heatmap"
           }
          ],
          "heatmapgl": [
           {
            "colorbar": {
             "outlinewidth": 0,
             "ticks": ""
            },
            "colorscale": [
             [
              0.0,
              "#0d0887"
             ],
             [
              0.1111111111111111,
              "#46039f"
             ],
             [
              0.2222222222222222,
              "#7201a8"
             ],
             [
              0.3333333333333333,
              "#9c179e"
             ],
             [
              0.4444444444444444,
              "#bd3786"
             ],
             [
              0.5555555555555556,
              "#d8576b"
             ],
             [
              0.6666666666666666,
              "#ed7953"
             ],
             [
              0.7777777777777778,
              "#fb9f3a"
             ],
             [
              0.8888888888888888,
              "#fdca26"
             ],
             [
              1.0,
              "#f0f921"
             ]
            ],
            "type": "heatmapgl"
           }
          ],
          "histogram": [
           {
            "marker": {
             "colorbar": {
              "outlinewidth": 0,
              "ticks": ""
             }
            },
            "type": "histogram"
           }
          ],
          "histogram2d": [
           {
            "colorbar": {
             "outlinewidth": 0,
             "ticks": ""
            },
            "colorscale": [
             [
              0.0,
              "#0d0887"
             ],
             [
              0.1111111111111111,
              "#46039f"
             ],
             [
              0.2222222222222222,
              "#7201a8"
             ],
             [
              0.3333333333333333,
              "#9c179e"
             ],
             [
              0.4444444444444444,
              "#bd3786"
             ],
             [
              0.5555555555555556,
              "#d8576b"
             ],
             [
              0.6666666666666666,
              "#ed7953"
             ],
             [
              0.7777777777777778,
              "#fb9f3a"
             ],
             [
              0.8888888888888888,
              "#fdca26"
             ],
             [
              1.0,
              "#f0f921"
             ]
            ],
            "type": "histogram2d"
           }
          ],
          "histogram2dcontour": [
           {
            "colorbar": {
             "outlinewidth": 0,
             "ticks": ""
            },
            "colorscale": [
             [
              0.0,
              "#0d0887"
             ],
             [
              0.1111111111111111,
              "#46039f"
             ],
             [
              0.2222222222222222,
              "#7201a8"
             ],
             [
              0.3333333333333333,
              "#9c179e"
             ],
             [
              0.4444444444444444,
              "#bd3786"
             ],
             [
              0.5555555555555556,
              "#d8576b"
             ],
             [
              0.6666666666666666,
              "#ed7953"
             ],
             [
              0.7777777777777778,
              "#fb9f3a"
             ],
             [
              0.8888888888888888,
              "#fdca26"
             ],
             [
              1.0,
              "#f0f921"
             ]
            ],
            "type": "histogram2dcontour"
           }
          ],
          "mesh3d": [
           {
            "colorbar": {
             "outlinewidth": 0,
             "ticks": ""
            },
            "type": "mesh3d"
           }
          ],
          "parcoords": [
           {
            "line": {
             "colorbar": {
              "outlinewidth": 0,
              "ticks": ""
             }
            },
            "type": "parcoords"
           }
          ],
          "pie": [
           {
            "automargin": true,
            "type": "pie"
           }
          ],
          "scatter": [
           {
            "marker": {
             "colorbar": {
              "outlinewidth": 0,
              "ticks": ""
             }
            },
            "type": "scatter"
           }
          ],
          "scatter3d": [
           {
            "line": {
             "colorbar": {
              "outlinewidth": 0,
              "ticks": ""
             }
            },
            "marker": {
             "colorbar": {
              "outlinewidth": 0,
              "ticks": ""
             }
            },
            "type": "scatter3d"
           }
          ],
          "scattercarpet": [
           {
            "marker": {
             "colorbar": {
              "outlinewidth": 0,
              "ticks": ""
             }
            },
            "type": "scattercarpet"
           }
          ],
          "scattergeo": [
           {
            "marker": {
             "colorbar": {
              "outlinewidth": 0,
              "ticks": ""
             }
            },
            "type": "scattergeo"
           }
          ],
          "scattergl": [
           {
            "marker": {
             "colorbar": {
              "outlinewidth": 0,
              "ticks": ""
             }
            },
            "type": "scattergl"
           }
          ],
          "scattermapbox": [
           {
            "marker": {
             "colorbar": {
              "outlinewidth": 0,
              "ticks": ""
             }
            },
            "type": "scattermapbox"
           }
          ],
          "scatterpolar": [
           {
            "marker": {
             "colorbar": {
              "outlinewidth": 0,
              "ticks": ""
             }
            },
            "type": "scatterpolar"
           }
          ],
          "scatterpolargl": [
           {
            "marker": {
             "colorbar": {
              "outlinewidth": 0,
              "ticks": ""
             }
            },
            "type": "scatterpolargl"
           }
          ],
          "scatterternary": [
           {
            "marker": {
             "colorbar": {
              "outlinewidth": 0,
              "ticks": ""
             }
            },
            "type": "scatterternary"
           }
          ],
          "surface": [
           {
            "colorbar": {
             "outlinewidth": 0,
             "ticks": ""
            },
            "colorscale": [
             [
              0.0,
              "#0d0887"
             ],
             [
              0.1111111111111111,
              "#46039f"
             ],
             [
              0.2222222222222222,
              "#7201a8"
             ],
             [
              0.3333333333333333,
              "#9c179e"
             ],
             [
              0.4444444444444444,
              "#bd3786"
             ],
             [
              0.5555555555555556,
              "#d8576b"
             ],
             [
              0.6666666666666666,
              "#ed7953"
             ],
             [
              0.7777777777777778,
              "#fb9f3a"
             ],
             [
              0.8888888888888888,
              "#fdca26"
             ],
             [
              1.0,
              "#f0f921"
             ]
            ],
            "type": "surface"
           }
          ],
          "table": [
           {
            "cells": {
             "fill": {
              "color": "#EBF0F8"
             },
             "line": {
              "color": "white"
             }
            },
            "header": {
             "fill": {
              "color": "#C8D4E3"
             },
             "line": {
              "color": "white"
             }
            },
            "type": "table"
           }
          ]
         },
         "layout": {
          "annotationdefaults": {
           "arrowcolor": "#2a3f5f",
           "arrowhead": 0,
           "arrowwidth": 1
          },
          "autotypenumbers": "strict",
          "coloraxis": {
           "colorbar": {
            "outlinewidth": 0,
            "ticks": ""
           }
          },
          "colorscale": {
           "diverging": [
            [
             0,
             "#8e0152"
            ],
            [
             0.1,
             "#c51b7d"
            ],
            [
             0.2,
             "#de77ae"
            ],
            [
             0.3,
             "#f1b6da"
            ],
            [
             0.4,
             "#fde0ef"
            ],
            [
             0.5,
             "#f7f7f7"
            ],
            [
             0.6,
             "#e6f5d0"
            ],
            [
             0.7,
             "#b8e186"
            ],
            [
             0.8,
             "#7fbc41"
            ],
            [
             0.9,
             "#4d9221"
            ],
            [
             1,
             "#276419"
            ]
           ],
           "sequential": [
            [
             0.0,
             "#0d0887"
            ],
            [
             0.1111111111111111,
             "#46039f"
            ],
            [
             0.2222222222222222,
             "#7201a8"
            ],
            [
             0.3333333333333333,
             "#9c179e"
            ],
            [
             0.4444444444444444,
             "#bd3786"
            ],
            [
             0.5555555555555556,
             "#d8576b"
            ],
            [
             0.6666666666666666,
             "#ed7953"
            ],
            [
             0.7777777777777778,
             "#fb9f3a"
            ],
            [
             0.8888888888888888,
             "#fdca26"
            ],
            [
             1.0,
             "#f0f921"
            ]
           ],
           "sequentialminus": [
            [
             0.0,
             "#0d0887"
            ],
            [
             0.1111111111111111,
             "#46039f"
            ],
            [
             0.2222222222222222,
             "#7201a8"
            ],
            [
             0.3333333333333333,
             "#9c179e"
            ],
            [
             0.4444444444444444,
             "#bd3786"
            ],
            [
             0.5555555555555556,
             "#d8576b"
            ],
            [
             0.6666666666666666,
             "#ed7953"
            ],
            [
             0.7777777777777778,
             "#fb9f3a"
            ],
            [
             0.8888888888888888,
             "#fdca26"
            ],
            [
             1.0,
             "#f0f921"
            ]
           ]
          },
          "colorway": [
           "#636efa",
           "#EF553B",
           "#00cc96",
           "#ab63fa",
           "#FFA15A",
           "#19d3f3",
           "#FF6692",
           "#B6E880",
           "#FF97FF",
           "#FECB52"
          ],
          "font": {
           "color": "#2a3f5f"
          },
          "geo": {
           "bgcolor": "white",
           "lakecolor": "white",
           "landcolor": "#E5ECF6",
           "showlakes": true,
           "showland": true,
           "subunitcolor": "white"
          },
          "hoverlabel": {
           "align": "left"
          },
          "hovermode": "closest",
          "mapbox": {
           "style": "light"
          },
          "paper_bgcolor": "white",
          "plot_bgcolor": "#E5ECF6",
          "polar": {
           "angularaxis": {
            "gridcolor": "white",
            "linecolor": "white",
            "ticks": ""
           },
           "bgcolor": "#E5ECF6",
           "radialaxis": {
            "gridcolor": "white",
            "linecolor": "white",
            "ticks": ""
           }
          },
          "scene": {
           "xaxis": {
            "backgroundcolor": "#E5ECF6",
            "gridcolor": "white",
            "gridwidth": 2,
            "linecolor": "white",
            "showbackground": true,
            "ticks": "",
            "zerolinecolor": "white"
           },
           "yaxis": {
            "backgroundcolor": "#E5ECF6",
            "gridcolor": "white",
            "gridwidth": 2,
            "linecolor": "white",
            "showbackground": true,
            "ticks": "",
            "zerolinecolor": "white"
           },
           "zaxis": {
            "backgroundcolor": "#E5ECF6",
            "gridcolor": "white",
            "gridwidth": 2,
            "linecolor": "white",
            "showbackground": true,
            "ticks": "",
            "zerolinecolor": "white"
           }
          },
          "shapedefaults": {
           "line": {
            "color": "#2a3f5f"
           }
          },
          "ternary": {
           "aaxis": {
            "gridcolor": "white",
            "linecolor": "white",
            "ticks": ""
           },
           "baxis": {
            "gridcolor": "white",
            "linecolor": "white",
            "ticks": ""
           },
           "bgcolor": "#E5ECF6",
           "caxis": {
            "gridcolor": "white",
            "linecolor": "white",
            "ticks": ""
           }
          },
          "title": {
           "x": 0.05
          },
          "xaxis": {
           "automargin": true,
           "gridcolor": "white",
           "linecolor": "white",
           "ticks": "",
           "title": {
            "standoff": 15
           },
           "zerolinecolor": "white",
           "zerolinewidth": 2
          },
          "yaxis": {
           "automargin": true,
           "gridcolor": "white",
           "linecolor": "white",
           "ticks": "",
           "title": {
            "standoff": 15
           },
           "zerolinecolor": "white",
           "zerolinewidth": 2
          }
         }
        },
        "title": {
         "text": "Choropleth map of average temperature"
        }
       }
      },
      "text/html": [
       "<div>                            <div id=\"1385350f-37bf-4381-ad24-adde798c30d5\" class=\"plotly-graph-div\" style=\"height:525px; width:100%;\"></div>            <script type=\"text/javascript\">                require([\"plotly\"], function(Plotly) {                    window.PLOTLYENV=window.PLOTLYENV || {};                                    if (document.getElementById(\"1385350f-37bf-4381-ad24-adde798c30d5\")) {                    Plotly.newPlot(                        \"1385350f-37bf-4381-ad24-adde798c30d5\",                        [{\"coloraxis\": \"coloraxis\", \"geo\": \"geo\", \"hovertemplate\": \"Country=%{location}<br>AverageTemperature=%{z}<extra></extra>\", \"locationmode\": \"country names\", \"locations\": [\"Afghanistan\", \"Albania\", \"Algeria\", \"Angola\", \"Argentina\", \"Armenia\", \"Australia\", \"Austria\", \"Azerbaijan\", \"Bahamas\", \"Bahrain\", \"Bangladesh\", \"Belarus\", \"Belgium\", \"Benin\", \"Bolivia\", \"Bosnia And Herzegovina\", \"Botswana\", \"Brazil\", \"Bulgaria\", \"Burkina Faso\", \"Burma\", \"Burundi\", \"Cambodia\", \"Cameroon\", \"Canada\", \"Central African Republic\", \"Chad\", \"Chile\", \"China\", \"Colombia\", \"Congo\", \"Costa Rica\", \"Croatia\", \"Cuba\", \"Cyprus\", \"Czech Republic\", \"C\\u00f4te D'Ivoire\", \"Denmark\", \"Djibouti\", \"Dominican Republic\", \"Ecuador\", \"Egypt\", \"El Salvador\", \"Equatorial Guinea\", \"Eritrea\", \"Estonia\", \"Ethiopia\", \"Finland\", \"France\", \"Gabon\", \"Gambia\", \"Georgia\", \"Germany\", \"Ghana\", \"Greece\", \"Guatemala\", \"Guinea\", \"Guinea Bissau\", \"Guyana\", \"Haiti\", \"Honduras\", \"Hong Kong\", \"Hungary\", \"Iceland\", \"India\", \"Indonesia\", \"Iran\", \"Iraq\", \"Ireland\", \"Israel\", \"Italy\", \"Jamaica\", \"Japan\", \"Jordan\", \"Kazakhstan\", \"Kenya\", \"Laos\", \"Latvia\", \"Lebanon\", \"Lesotho\", \"Liberia\", \"Libya\", \"Lithuania\", \"Macedonia\", \"Madagascar\", \"Malawi\", \"Malaysia\", \"Mali\", \"Mauritania\", \"Mauritius\", \"Mexico\", \"Moldova\", \"Mongolia\", \"Montenegro\", \"Morocco\", \"Mozambique\", \"Namibia\", \"Nepal\", \"Netherlands\", \"New Zealand\", \"Nicaragua\", \"Niger\", \"Nigeria\", \"Norway\", \"Oman\", \"Pakistan\", \"Panama\", \"Papua New Guinea\", \"Paraguay\", \"Peru\", \"Philippines\", \"Poland\", \"Portugal\", \"Puerto Rico\", \"Qatar\", \"Reunion\", \"Romania\", \"Russia\", \"Rwanda\", \"Saudi Arabia\", \"Senegal\", \"Serbia\", \"Sierra Leone\", \"Singapore\", \"Slovakia\", \"Slovenia\", \"Somalia\", \"South Africa\", \"South Korea\", \"Spain\", \"Sri Lanka\", \"Sudan\", \"Suriname\", \"Swaziland\", \"Sweden\", \"Switzerland\", \"Syria\", \"Taiwan\", \"Tajikistan\", \"Tanzania\", \"Thailand\", \"Togo\", \"Tunisia\", \"Turkey\", \"Turkmenistan\", \"Uganda\", \"Ukraine\", \"United Arab Emirates\", \"United Kingdom\", \"United States\", \"Uruguay\", \"Uzbekistan\", \"Venezuela\", \"Vietnam\", \"Yemen\", \"Zambia\", \"Zimbabwe\"], \"name\": \"\", \"type\": \"choropleth\", \"z\": [13.816496896263587, 15.525828490208427, 17.763205946291528, 21.759715773235612, 16.999215885618266, 8.375597043951766, 16.701462142476366, 6.285928363866041, 11.11366381418095, 24.78697831775695, 25.85560129096327, 25.052512225575114, 6.142253198041726, 9.72619695875829, 26.975880208333376, 11.352980175438574, 10.449959128237516, 18.996498131340086, 21.90276297977477, 10.580413274975184, 27.815294546436224, 26.016839989290336, 20.80635582089551, 26.918136297728335, 24.631562757558196, 4.900387156374136, 24.950858213256467, 27.18982939481266, 11.770133066906789, 12.542541204592437, 22.683264177371438, 23.266574150086807, 24.852329749103927, 10.57346694040851, 25.59688167009913, 19.03456376594148, 8.075891092861651, 25.788026983337325, 7.8026399241945725, 29.152790108564506, 25.884052560376702, 20.539170537427825, 21.487249035256728, 25.262852550939673, 25.17832420749279, 24.001515877771144, 4.695704832596344, 20.611525296730854, 3.7116445356917227, 10.337918263494096, 25.895771181556142, 25.18409401709406, 8.375597043951775, 8.482790790264108, 26.319964426877508, 16.347482714233255, 19.1759626556015, 25.509399201596743, 27.05718546231962, 26.54984937439856, 26.37905045625331, 23.975221142600088, 21.42369615384619, 9.828791394679559, 1.50008864900229, 25.429224037737598, 25.990192956328983, 14.790532209512365, 19.884738137449094, 9.15390603284904, 19.007696591476474, 12.622415982312079, 26.409168621047904, 13.402359587282348, 18.360980886539238, 4.340299609693073, 20.20517099328464, 24.107664292074816, 5.386615603284896, 18.759460757156088, 14.040680192205034, 25.67318610816537, 19.853651724137887, 6.10594150347443, 9.577843019583055, 22.11697617917819, 21.34787202649801, 26.43475662438378, 27.59049083466813, 27.021904935064928, 23.522653983353138, 20.06204584174636, 8.672153295430638, -3.3654853195164023, 10.22104011370813, 17.295399404278307, 23.47441648160662, 19.635057097118484, 18.11993321393488, 9.09683608391228, 12.84185658759645, 26.85252678571442, 28.145551671148606, 26.584342534328705, 3.6125527479469324, 25.5658062953995, 23.972701115482515, 26.745667996011946, 24.855732278481018, 22.784014312977092, 16.57711496365856, 26.51646246746454, 7.671972296106832, 14.749674965924704, 25.29767992333491, 26.831705193482705, 23.301403091557614, 8.895906140240006, 3.3472679828735865, 19.077631823461093, 24.863508781107498, 25.984176694490703, 9.909777742682708, 25.641010910058544, 26.523102826510677, 8.67710186355023, 9.486257106759316, 26.44614004062614, 16.36084878220663, 10.681884541984736, 14.457233926198434, 26.727753499911582, 28.072830827505655, 26.429474975938355, 21.203533368926852, 5.665518003790268, 7.541977258370224, 18.094597216677084, 21.68291664251478, 8.810140854779405, 22.64559520500348, 26.693109779758267, 26.644357345433892, 18.77748830706655, 12.951888167466613, 14.302487036478755, 24.019329229547242, 7.8221839538832425, 26.57268054823411, 9.098373016610223, 13.94933492360046, 17.421870944656575, 11.946573813309133, 25.482422449568276, 24.846825444785516, 25.76840766445383, 20.93762319158276, 19.822971358428724]}],                        {\"coloraxis\": {\"colorbar\": {\"title\": {\"text\": \"AverageTemperature\"}}, \"colorscale\": [[0.0, \"#0d0887\"], [0.1111111111111111, \"#46039f\"], [0.2222222222222222, \"#7201a8\"], [0.3333333333333333, \"#9c179e\"], [0.4444444444444444, \"#bd3786\"], [0.5555555555555556, \"#d8576b\"], [0.6666666666666666, \"#ed7953\"], [0.7777777777777778, \"#fb9f3a\"], [0.8888888888888888, \"#fdca26\"], [1.0, \"#f0f921\"]]}, \"geo\": {\"center\": {}, \"domain\": {\"x\": [0.0, 1.0], \"y\": [0.0, 1.0]}}, \"legend\": {\"tracegroupgap\": 0}, \"margin\": {\"t\": 60}, \"template\": {\"data\": {\"bar\": [{\"error_x\": {\"color\": \"#2a3f5f\"}, \"error_y\": {\"color\": \"#2a3f5f\"}, \"marker\": {\"line\": {\"color\": \"#E5ECF6\", \"width\": 0.5}}, \"type\": \"bar\"}], \"barpolar\": [{\"marker\": {\"line\": {\"color\": \"#E5ECF6\", \"width\": 0.5}}, \"type\": \"barpolar\"}], \"carpet\": [{\"aaxis\": {\"endlinecolor\": \"#2a3f5f\", \"gridcolor\": \"white\", \"linecolor\": \"white\", \"minorgridcolor\": \"white\", \"startlinecolor\": \"#2a3f5f\"}, \"baxis\": {\"endlinecolor\": \"#2a3f5f\", \"gridcolor\": \"white\", \"linecolor\": \"white\", \"minorgridcolor\": \"white\", \"startlinecolor\": \"#2a3f5f\"}, \"type\": \"carpet\"}], \"choropleth\": [{\"colorbar\": {\"outlinewidth\": 0, \"ticks\": \"\"}, \"type\": \"choropleth\"}], \"contour\": [{\"colorbar\": {\"outlinewidth\": 0, \"ticks\": \"\"}, \"colorscale\": [[0.0, \"#0d0887\"], [0.1111111111111111, \"#46039f\"], [0.2222222222222222, \"#7201a8\"], [0.3333333333333333, \"#9c179e\"], [0.4444444444444444, \"#bd3786\"], [0.5555555555555556, \"#d8576b\"], [0.6666666666666666, \"#ed7953\"], [0.7777777777777778, \"#fb9f3a\"], [0.8888888888888888, \"#fdca26\"], [1.0, \"#f0f921\"]], \"type\": \"contour\"}], \"contourcarpet\": [{\"colorbar\": {\"outlinewidth\": 0, \"ticks\": \"\"}, \"type\": \"contourcarpet\"}], \"heatmap\": [{\"colorbar\": {\"outlinewidth\": 0, \"ticks\": \"\"}, \"colorscale\": [[0.0, \"#0d0887\"], [0.1111111111111111, \"#46039f\"], [0.2222222222222222, \"#7201a8\"], [0.3333333333333333, \"#9c179e\"], [0.4444444444444444, \"#bd3786\"], [0.5555555555555556, \"#d8576b\"], [0.6666666666666666, \"#ed7953\"], [0.7777777777777778, \"#fb9f3a\"], [0.8888888888888888, \"#fdca26\"], [1.0, \"#f0f921\"]], \"type\": \"heatmap\"}], \"heatmapgl\": [{\"colorbar\": {\"outlinewidth\": 0, \"ticks\": \"\"}, \"colorscale\": [[0.0, \"#0d0887\"], [0.1111111111111111, \"#46039f\"], [0.2222222222222222, \"#7201a8\"], [0.3333333333333333, \"#9c179e\"], [0.4444444444444444, \"#bd3786\"], [0.5555555555555556, \"#d8576b\"], [0.6666666666666666, \"#ed7953\"], [0.7777777777777778, \"#fb9f3a\"], [0.8888888888888888, \"#fdca26\"], [1.0, \"#f0f921\"]], \"type\": \"heatmapgl\"}], \"histogram\": [{\"marker\": {\"colorbar\": {\"outlinewidth\": 0, \"ticks\": \"\"}}, \"type\": \"histogram\"}], \"histogram2d\": [{\"colorbar\": {\"outlinewidth\": 0, \"ticks\": \"\"}, \"colorscale\": [[0.0, \"#0d0887\"], [0.1111111111111111, \"#46039f\"], [0.2222222222222222, \"#7201a8\"], [0.3333333333333333, \"#9c179e\"], [0.4444444444444444, \"#bd3786\"], [0.5555555555555556, \"#d8576b\"], [0.6666666666666666, \"#ed7953\"], [0.7777777777777778, \"#fb9f3a\"], [0.8888888888888888, \"#fdca26\"], [1.0, \"#f0f921\"]], \"type\": \"histogram2d\"}], \"histogram2dcontour\": [{\"colorbar\": {\"outlinewidth\": 0, \"ticks\": \"\"}, \"colorscale\": [[0.0, \"#0d0887\"], [0.1111111111111111, \"#46039f\"], [0.2222222222222222, \"#7201a8\"], [0.3333333333333333, \"#9c179e\"], [0.4444444444444444, \"#bd3786\"], [0.5555555555555556, \"#d8576b\"], [0.6666666666666666, \"#ed7953\"], [0.7777777777777778, \"#fb9f3a\"], [0.8888888888888888, \"#fdca26\"], [1.0, \"#f0f921\"]], \"type\": \"histogram2dcontour\"}], \"mesh3d\": [{\"colorbar\": {\"outlinewidth\": 0, \"ticks\": \"\"}, \"type\": \"mesh3d\"}], \"parcoords\": [{\"line\": {\"colorbar\": {\"outlinewidth\": 0, \"ticks\": \"\"}}, \"type\": \"parcoords\"}], \"pie\": [{\"automargin\": true, \"type\": \"pie\"}], \"scatter\": [{\"marker\": {\"colorbar\": {\"outlinewidth\": 0, \"ticks\": \"\"}}, \"type\": \"scatter\"}], \"scatter3d\": [{\"line\": {\"colorbar\": {\"outlinewidth\": 0, \"ticks\": \"\"}}, \"marker\": {\"colorbar\": {\"outlinewidth\": 0, \"ticks\": \"\"}}, \"type\": \"scatter3d\"}], \"scattercarpet\": [{\"marker\": {\"colorbar\": {\"outlinewidth\": 0, \"ticks\": \"\"}}, \"type\": \"scattercarpet\"}], \"scattergeo\": [{\"marker\": {\"colorbar\": {\"outlinewidth\": 0, \"ticks\": \"\"}}, \"type\": \"scattergeo\"}], \"scattergl\": [{\"marker\": {\"colorbar\": {\"outlinewidth\": 0, \"ticks\": \"\"}}, \"type\": \"scattergl\"}], \"scattermapbox\": [{\"marker\": {\"colorbar\": {\"outlinewidth\": 0, \"ticks\": \"\"}}, \"type\": \"scattermapbox\"}], \"scatterpolar\": [{\"marker\": {\"colorbar\": {\"outlinewidth\": 0, \"ticks\": \"\"}}, \"type\": \"scatterpolar\"}], \"scatterpolargl\": [{\"marker\": {\"colorbar\": {\"outlinewidth\": 0, \"ticks\": \"\"}}, \"type\": \"scatterpolargl\"}], \"scatterternary\": [{\"marker\": {\"colorbar\": {\"outlinewidth\": 0, \"ticks\": \"\"}}, \"type\": \"scatterternary\"}], \"surface\": [{\"colorbar\": {\"outlinewidth\": 0, \"ticks\": \"\"}, \"colorscale\": [[0.0, \"#0d0887\"], [0.1111111111111111, \"#46039f\"], [0.2222222222222222, \"#7201a8\"], [0.3333333333333333, \"#9c179e\"], [0.4444444444444444, \"#bd3786\"], [0.5555555555555556, \"#d8576b\"], [0.6666666666666666, \"#ed7953\"], [0.7777777777777778, \"#fb9f3a\"], [0.8888888888888888, \"#fdca26\"], [1.0, \"#f0f921\"]], \"type\": \"surface\"}], \"table\": [{\"cells\": {\"fill\": {\"color\": \"#EBF0F8\"}, \"line\": {\"color\": \"white\"}}, \"header\": {\"fill\": {\"color\": \"#C8D4E3\"}, \"line\": {\"color\": \"white\"}}, \"type\": \"table\"}]}, \"layout\": {\"annotationdefaults\": {\"arrowcolor\": \"#2a3f5f\", \"arrowhead\": 0, \"arrowwidth\": 1}, \"autotypenumbers\": \"strict\", \"coloraxis\": {\"colorbar\": {\"outlinewidth\": 0, \"ticks\": \"\"}}, \"colorscale\": {\"diverging\": [[0, \"#8e0152\"], [0.1, \"#c51b7d\"], [0.2, \"#de77ae\"], [0.3, \"#f1b6da\"], [0.4, \"#fde0ef\"], [0.5, \"#f7f7f7\"], [0.6, \"#e6f5d0\"], [0.7, \"#b8e186\"], [0.8, \"#7fbc41\"], [0.9, \"#4d9221\"], [1, \"#276419\"]], \"sequential\": [[0.0, \"#0d0887\"], [0.1111111111111111, \"#46039f\"], [0.2222222222222222, \"#7201a8\"], [0.3333333333333333, \"#9c179e\"], [0.4444444444444444, \"#bd3786\"], [0.5555555555555556, \"#d8576b\"], [0.6666666666666666, \"#ed7953\"], [0.7777777777777778, \"#fb9f3a\"], [0.8888888888888888, \"#fdca26\"], [1.0, \"#f0f921\"]], \"sequentialminus\": [[0.0, \"#0d0887\"], [0.1111111111111111, \"#46039f\"], [0.2222222222222222, \"#7201a8\"], [0.3333333333333333, \"#9c179e\"], [0.4444444444444444, \"#bd3786\"], [0.5555555555555556, \"#d8576b\"], [0.6666666666666666, \"#ed7953\"], [0.7777777777777778, \"#fb9f3a\"], [0.8888888888888888, \"#fdca26\"], [1.0, \"#f0f921\"]]}, \"colorway\": [\"#636efa\", \"#EF553B\", \"#00cc96\", \"#ab63fa\", \"#FFA15A\", \"#19d3f3\", \"#FF6692\", \"#B6E880\", \"#FF97FF\", \"#FECB52\"], \"font\": {\"color\": \"#2a3f5f\"}, \"geo\": {\"bgcolor\": \"white\", \"lakecolor\": \"white\", \"landcolor\": \"#E5ECF6\", \"showlakes\": true, \"showland\": true, \"subunitcolor\": \"white\"}, \"hoverlabel\": {\"align\": \"left\"}, \"hovermode\": \"closest\", \"mapbox\": {\"style\": \"light\"}, \"paper_bgcolor\": \"white\", \"plot_bgcolor\": \"#E5ECF6\", \"polar\": {\"angularaxis\": {\"gridcolor\": \"white\", \"linecolor\": \"white\", \"ticks\": \"\"}, \"bgcolor\": \"#E5ECF6\", \"radialaxis\": {\"gridcolor\": \"white\", \"linecolor\": \"white\", \"ticks\": \"\"}}, \"scene\": {\"xaxis\": {\"backgroundcolor\": \"#E5ECF6\", \"gridcolor\": \"white\", \"gridwidth\": 2, \"linecolor\": \"white\", \"showbackground\": true, \"ticks\": \"\", \"zerolinecolor\": \"white\"}, \"yaxis\": {\"backgroundcolor\": \"#E5ECF6\", \"gridcolor\": \"white\", \"gridwidth\": 2, \"linecolor\": \"white\", \"showbackground\": true, \"ticks\": \"\", \"zerolinecolor\": \"white\"}, \"zaxis\": {\"backgroundcolor\": \"#E5ECF6\", \"gridcolor\": \"white\", \"gridwidth\": 2, \"linecolor\": \"white\", \"showbackground\": true, \"ticks\": \"\", \"zerolinecolor\": \"white\"}}, \"shapedefaults\": {\"line\": {\"color\": \"#2a3f5f\"}}, \"ternary\": {\"aaxis\": {\"gridcolor\": \"white\", \"linecolor\": \"white\", \"ticks\": \"\"}, \"baxis\": {\"gridcolor\": \"white\", \"linecolor\": \"white\", \"ticks\": \"\"}, \"bgcolor\": \"#E5ECF6\", \"caxis\": {\"gridcolor\": \"white\", \"linecolor\": \"white\", \"ticks\": \"\"}}, \"title\": {\"x\": 0.05}, \"xaxis\": {\"automargin\": true, \"gridcolor\": \"white\", \"linecolor\": \"white\", \"ticks\": \"\", \"title\": {\"standoff\": 15}, \"zerolinecolor\": \"white\", \"zerolinewidth\": 2}, \"yaxis\": {\"automargin\": true, \"gridcolor\": \"white\", \"linecolor\": \"white\", \"ticks\": \"\", \"title\": {\"standoff\": 15}, \"zerolinecolor\": \"white\", \"zerolinewidth\": 2}}}, \"title\": {\"text\": \"Choropleth map of average temperature\"}},                        {\"responsive\": true}                    ).then(function(){\n",
       "                            \n",
       "var gd = document.getElementById('1385350f-37bf-4381-ad24-adde798c30d5');\n",
       "var x = new MutationObserver(function (mutations, observer) {{\n",
       "        var display = window.getComputedStyle(gd).display;\n",
       "        if (!display || display === 'none') {{\n",
       "            console.log([gd, 'removed!']);\n",
       "            Plotly.purge(gd);\n",
       "            observer.disconnect();\n",
       "        }}\n",
       "}});\n",
       "\n",
       "// Listen for the removal of the full notebook cells\n",
       "var notebookContainer = gd.closest('#notebook-container');\n",
       "if (notebookContainer) {{\n",
       "    x.observe(notebookContainer, {childList: true});\n",
       "}}\n",
       "\n",
       "// Listen for the clearing of the current output cell\n",
       "var outputEl = gd.closest('.output');\n",
       "if (outputEl) {{\n",
       "    x.observe(outputEl, {childList: true});\n",
       "}}\n",
       "\n",
       "                        })                };                });            </script>        </div>"
      ]
     },
     "metadata": {},
     "output_type": "display_data"
    }
   ],
   "source": [
    "fig=px.choropleth(avg_temp,locations='Country',locationmode='country names',color='AverageTemperature')\n",
    "fig.update_layout(title='Choropleth map of average temperature')\n",
    "fig.show()"
   ]
  },
  {
   "cell_type": "markdown",
   "id": "corporate-cement",
   "metadata": {
    "papermill": {
     "duration": 0.086471,
     "end_time": "2021-06-13T15:28:44.938444",
     "exception": false,
     "start_time": "2021-06-13T15:28:44.851973",
     "status": "completed"
    },
    "tags": []
   },
   "source": [
    "## The avaerage temperature and Horizontal Bar sort by countries"
   ]
  },
  {
   "cell_type": "code",
   "execution_count": 16,
   "id": "outdoor-liverpool",
   "metadata": {
    "execution": {
     "iopub.execute_input": "2021-06-13T15:28:45.147070Z",
     "iopub.status.busy": "2021-06-13T15:28:45.146017Z",
     "iopub.status.idle": "2021-06-13T15:28:45.394286Z",
     "shell.execute_reply": "2021-06-13T15:28:45.394707Z",
     "shell.execute_reply.started": "2021-06-13T15:08:01.699182Z"
    },
    "papermill": {
     "duration": 0.36928,
     "end_time": "2021-06-13T15:28:45.394853",
     "exception": false,
     "start_time": "2021-06-13T15:28:45.025573",
     "status": "completed"
    },
    "tags": []
   },
   "outputs": [
    {
     "data": {
      "text/plain": [
       "<AxesSubplot:xlabel='AverageTemperature', ylabel='Country'>"
      ]
     },
     "execution_count": 16,
     "metadata": {},
     "output_type": "execute_result"
    },
    {
     "data": {
      "image/png": "[encoded data removed]",
      "text/plain": [
       "<Figure size 432x288 with 1 Axes>"
      ]
     },
     "metadata": {
      "needs_background": "light"
     },
     "output_type": "display_data"
    }
   ],
   "source": [
    "sns.barplot(x=avg_temp.sort_values(by='AverageTemperature',ascending=False)['AverageTemperature'][0:20],y=avg_temp.sort_values(by='AverageTemperature',ascending=False)['Country'][0:20])"
   ]
  },
  {
   "cell_type": "markdown",
   "id": "northern-condition",
   "metadata": {
    "papermill": {
     "duration": 0.087839,
     "end_time": "2021-06-13T15:28:45.571745",
     "exception": false,
     "start_time": "2021-06-13T15:28:45.483906",
     "status": "completed"
    },
    "tags": []
   },
   "source": [
    "# Is there global warming? "
   ]
  },
  {
   "cell_type": "code",
   "execution_count": 17,
   "id": "offensive-dominican",
   "metadata": {
    "execution": {
     "iopub.execute_input": "2021-06-13T15:28:45.759454Z",
     "iopub.status.busy": "2021-06-13T15:28:45.758812Z",
     "iopub.status.idle": "2021-06-13T15:28:45.773049Z",
     "shell.execute_reply": "2021-06-13T15:28:45.772615Z",
     "shell.execute_reply.started": "2021-06-13T15:08:01.986227Z"
    },
    "papermill": {
     "duration": 0.113016,
     "end_time": "2021-06-13T15:28:45.773170",
     "exception": false,
     "start_time": "2021-06-13T15:28:45.660154",
     "status": "completed"
    },
    "tags": []
   },
   "outputs": [],
   "source": [
    "global_temp=pd.read_csv('../input/global-climate-change/GlobalTemperatures.csv')"
   ]
  },
  {
   "cell_type": "code",
   "execution_count": 18,
   "id": "controlling-capacity",
   "metadata": {
    "execution": {
     "iopub.execute_input": "2021-06-13T15:28:45.962013Z",
     "iopub.status.busy": "2021-06-13T15:28:45.961480Z",
     "iopub.status.idle": "2021-06-13T15:28:45.966924Z",
     "shell.execute_reply": "2021-06-13T15:28:45.966389Z",
     "shell.execute_reply.started": "2021-06-13T15:08:02.011242Z"
    },
    "papermill": {
     "duration": 0.105233,
     "end_time": "2021-06-13T15:28:45.967083",
     "exception": false,
     "start_time": "2021-06-13T15:28:45.861850",
     "status": "completed"
    },
    "tags": []
   },
   "outputs": [
    {
     "data": {
      "text/html": [
       "<div>\n",
       "<style scoped>\n",
       "    .dataframe tbody tr th:only-of-type {\n",
       "        vertical-align: middle;\n",
       "    }\n",
       "\n",
       "    .dataframe tbody tr th {\n",
       "        vertical-align: top;\n",
       "    }\n",
       "\n",
       "    .dataframe thead th {\n",
       "        text-align: right;\n",
       "    }\n",
       "</style>\n",
       "<table border=\"1\" class=\"dataframe\">\n",
       "  <thead>\n",
       "    <tr style=\"text-align: right;\">\n",
       "      <th></th>\n",
       "      <th>dt</th>\n",
       "      <th>LandAverageTemperature</th>\n",
       "      <th>LandAverageTemperatureUncertainty</th>\n",
       "      <th>LandMaxTemperature</th>\n",
       "      <th>LandMaxTemperatureUncertainty</th>\n",
       "      <th>LandMinTemperature</th>\n",
       "      <th>LandMinTemperatureUncertainty</th>\n",
       "      <th>LandAndOceanAverageTemperature</th>\n",
       "      <th>LandAndOceanAverageTemperatureUncertainty</th>\n",
       "    </tr>\n",
       "  </thead>\n",
       "  <tbody>\n",
       "    <tr>\n",
       "      <th>0</th>\n",
       "      <td>1750-01-01</td>\n",
       "      <td>3.034</td>\n",
       "      <td>3.574</td>\n",
       "      <td>NaN</td>\n",
       "      <td>NaN</td>\n",
       "      <td>NaN</td>\n",
       "      <td>NaN</td>\n",
       "      <td>NaN</td>\n",
       "      <td>NaN</td>\n",
       "    </tr>\n",
       "    <tr>\n",
       "      <th>1</th>\n",
       "      <td>1750-02-01</td>\n",
       "      <td>3.083</td>\n",
       "      <td>3.702</td>\n",
       "      <td>NaN</td>\n",
       "      <td>NaN</td>\n",
       "      <td>NaN</td>\n",
       "      <td>NaN</td>\n",
       "      <td>NaN</td>\n",
       "      <td>NaN</td>\n",
       "    </tr>\n",
       "    <tr>\n",
       "      <th>2</th>\n",
       "      <td>1750-03-01</td>\n",
       "      <td>5.626</td>\n",
       "      <td>3.076</td>\n",
       "      <td>NaN</td>\n",
       "      <td>NaN</td>\n",
       "      <td>NaN</td>\n",
       "      <td>NaN</td>\n",
       "      <td>NaN</td>\n",
       "      <td>NaN</td>\n",
       "    </tr>\n",
       "    <tr>\n",
       "      <th>3</th>\n",
       "      <td>1750-04-01</td>\n",
       "      <td>8.490</td>\n",
       "      <td>2.451</td>\n",
       "      <td>NaN</td>\n",
       "      <td>NaN</td>\n",
       "      <td>NaN</td>\n",
       "      <td>NaN</td>\n",
       "      <td>NaN</td>\n",
       "      <td>NaN</td>\n",
       "    </tr>\n",
       "    <tr>\n",
       "      <th>4</th>\n",
       "      <td>1750-05-01</td>\n",
       "      <td>11.573</td>\n",
       "      <td>2.072</td>\n",
       "      <td>NaN</td>\n",
       "      <td>NaN</td>\n",
       "      <td>NaN</td>\n",
       "      <td>NaN</td>\n",
       "      <td>NaN</td>\n",
       "      <td>NaN</td>\n",
       "    </tr>\n",
       "  </tbody>\n",
       "</table>\n",
       "</div>"
      ],
      "text/plain": [
       "           dt  LandAverageTemperature  LandAverageTemperatureUncertainty  \\\n",
       "0  1750-01-01                   3.034                              3.574   \n",
       "1  1750-02-01                   3.083                              3.702   \n",
       "2  1750-03-01                   5.626                              3.076   \n",
       "3  1750-04-01                   8.490                              2.451   \n",
       "4  1750-05-01                  11.573                              2.072   \n",
       "\n",
       "   LandMaxTemperature  LandMaxTemperatureUncertainty  LandMinTemperature  \\\n",
       "0                 NaN                            NaN                 NaN   \n",
       "1                 NaN                            NaN                 NaN   \n",
       "2                 NaN                            NaN                 NaN   \n",
       "3                 NaN                            NaN                 NaN   \n",
       "4                 NaN                            NaN                 NaN   \n",
       "\n",
       "   LandMinTemperatureUncertainty  LandAndOceanAverageTemperature  \\\n",
       "0                            NaN                             NaN   \n",
       "1                            NaN                             NaN   \n",
       "2                            NaN                             NaN   \n",
       "3                            NaN                             NaN   \n",
       "4                            NaN                             NaN   \n",
       "\n",
       "   LandAndOceanAverageTemperatureUncertainty  \n",
       "0                                        NaN  \n",
       "1                                        NaN  \n",
       "2                                        NaN  \n",
       "3                                        NaN  \n",
       "4                                        NaN  "
      ]
     },
     "execution_count": 18,
     "metadata": {},
     "output_type": "execute_result"
    }
   ],
   "source": [
    "global_temp.head()"
   ]
  },
  {
   "cell_type": "code",
   "execution_count": 19,
   "id": "written-logic",
   "metadata": {
    "execution": {
     "iopub.execute_input": "2021-06-13T15:28:46.151270Z",
     "iopub.status.busy": "2021-06-13T15:28:46.150517Z",
     "iopub.status.idle": "2021-06-13T15:28:46.154252Z",
     "shell.execute_reply": "2021-06-13T15:28:46.153832Z",
     "shell.execute_reply.started": "2021-06-13T15:08:02.031528Z"
    },
    "papermill": {
     "duration": 0.097933,
     "end_time": "2021-06-13T15:28:46.154365",
     "exception": false,
     "start_time": "2021-06-13T15:28:46.056432",
     "status": "completed"
    },
    "tags": []
   },
   "outputs": [
    {
     "data": {
      "text/plain": [
       "'1750'"
      ]
     },
     "execution_count": 19,
     "metadata": {},
     "output_type": "execute_result"
    }
   ],
   "source": [
    "global_temp['dt'][0].split('-')[0]"
   ]
  },
  {
   "cell_type": "code",
   "execution_count": 20,
   "id": "final-oliver",
   "metadata": {
    "execution": {
     "iopub.execute_input": "2021-06-13T15:28:46.342545Z",
     "iopub.status.busy": "2021-06-13T15:28:46.341753Z",
     "iopub.status.idle": "2021-06-13T15:28:46.344058Z",
     "shell.execute_reply": "2021-06-13T15:28:46.344522Z",
     "shell.execute_reply.started": "2021-06-13T15:08:02.040453Z"
    },
    "papermill": {
     "duration": 0.097182,
     "end_time": "2021-06-13T15:28:46.344665",
     "exception": false,
     "start_time": "2021-06-13T15:28:46.247483",
     "status": "completed"
    },
    "tags": []
   },
   "outputs": [],
   "source": [
    "def fetch_year(date):\n",
    "    return date.split('-')[0]"
   ]
  },
  {
   "cell_type": "code",
   "execution_count": 21,
   "id": "aging-earth",
   "metadata": {
    "execution": {
     "iopub.execute_input": "2021-06-13T15:28:46.529695Z",
     "iopub.status.busy": "2021-06-13T15:28:46.528903Z",
     "iopub.status.idle": "2021-06-13T15:28:46.531793Z",
     "shell.execute_reply": "2021-06-13T15:28:46.531361Z",
     "shell.execute_reply.started": "2021-06-13T15:08:02.049286Z"
    },
    "papermill": {
     "duration": 0.097704,
     "end_time": "2021-06-13T15:28:46.531900",
     "exception": false,
     "start_time": "2021-06-13T15:28:46.434196",
     "status": "completed"
    },
    "tags": []
   },
   "outputs": [],
   "source": [
    "global_temp['years']=global_temp['dt'].apply(fetch_year)"
   ]
  },
  {
   "cell_type": "code",
   "execution_count": 22,
   "id": "defensive-vertex",
   "metadata": {
    "execution": {
     "iopub.execute_input": "2021-06-13T15:28:46.761460Z",
     "iopub.status.busy": "2021-06-13T15:28:46.760596Z",
     "iopub.status.idle": "2021-06-13T15:28:46.764419Z",
     "shell.execute_reply": "2021-06-13T15:28:46.764033Z",
     "shell.execute_reply.started": "2021-06-13T15:08:02.063965Z"
    },
    "papermill": {
     "duration": 0.143218,
     "end_time": "2021-06-13T15:28:46.764528",
     "exception": false,
     "start_time": "2021-06-13T15:28:46.621310",
     "status": "completed"
    },
    "tags": []
   },
   "outputs": [
    {
     "data": {
      "text/html": [
       "<div>\n",
       "<style scoped>\n",
       "    .dataframe tbody tr th:only-of-type {\n",
       "        vertical-align: middle;\n",
       "    }\n",
       "\n",
       "    .dataframe tbody tr th {\n",
       "        vertical-align: top;\n",
       "    }\n",
       "\n",
       "    .dataframe thead th {\n",
       "        text-align: right;\n",
       "    }\n",
       "</style>\n",
       "<table border=\"1\" class=\"dataframe\">\n",
       "  <thead>\n",
       "    <tr style=\"text-align: right;\">\n",
       "      <th></th>\n",
       "      <th>dt</th>\n",
       "      <th>LandAverageTemperature</th>\n",
       "      <th>LandAverageTemperatureUncertainty</th>\n",
       "      <th>LandMaxTemperature</th>\n",
       "      <th>LandMaxTemperatureUncertainty</th>\n",
       "      <th>LandMinTemperature</th>\n",
       "      <th>LandMinTemperatureUncertainty</th>\n",
       "      <th>LandAndOceanAverageTemperature</th>\n",
       "      <th>LandAndOceanAverageTemperatureUncertainty</th>\n",
       "      <th>years</th>\n",
       "    </tr>\n",
       "  </thead>\n",
       "  <tbody>\n",
       "    <tr>\n",
       "      <th>0</th>\n",
       "      <td>1750-01-01</td>\n",
       "      <td>3.034</td>\n",
       "      <td>3.574</td>\n",
       "      <td>NaN</td>\n",
       "      <td>NaN</td>\n",
       "      <td>NaN</td>\n",
       "      <td>NaN</td>\n",
       "      <td>NaN</td>\n",
       "      <td>NaN</td>\n",
       "      <td>1750</td>\n",
       "    </tr>\n",
       "    <tr>\n",
       "      <th>1</th>\n",
       "      <td>1750-02-01</td>\n",
       "      <td>3.083</td>\n",
       "      <td>3.702</td>\n",
       "      <td>NaN</td>\n",
       "      <td>NaN</td>\n",
       "      <td>NaN</td>\n",
       "      <td>NaN</td>\n",
       "      <td>NaN</td>\n",
       "      <td>NaN</td>\n",
       "      <td>1750</td>\n",
       "    </tr>\n",
       "    <tr>\n",
       "      <th>2</th>\n",
       "      <td>1750-03-01</td>\n",
       "      <td>5.626</td>\n",
       "      <td>3.076</td>\n",
       "      <td>NaN</td>\n",
       "      <td>NaN</td>\n",
       "      <td>NaN</td>\n",
       "      <td>NaN</td>\n",
       "      <td>NaN</td>\n",
       "      <td>NaN</td>\n",
       "      <td>1750</td>\n",
       "    </tr>\n",
       "    <tr>\n",
       "      <th>3</th>\n",
       "      <td>1750-04-01</td>\n",
       "      <td>8.490</td>\n",
       "      <td>2.451</td>\n",
       "      <td>NaN</td>\n",
       "      <td>NaN</td>\n",
       "      <td>NaN</td>\n",
       "      <td>NaN</td>\n",
       "      <td>NaN</td>\n",
       "      <td>NaN</td>\n",
       "      <td>1750</td>\n",
       "    </tr>\n",
       "    <tr>\n",
       "      <th>4</th>\n",
       "      <td>1750-05-01</td>\n",
       "      <td>11.573</td>\n",
       "      <td>2.072</td>\n",
       "      <td>NaN</td>\n",
       "      <td>NaN</td>\n",
       "      <td>NaN</td>\n",
       "      <td>NaN</td>\n",
       "      <td>NaN</td>\n",
       "      <td>NaN</td>\n",
       "      <td>1750</td>\n",
       "    </tr>\n",
       "  </tbody>\n",
       "</table>\n",
       "</div>"
      ],
      "text/plain": [
       "           dt  LandAverageTemperature  LandAverageTemperatureUncertainty  \\\n",
       "0  1750-01-01                   3.034                              3.574   \n",
       "1  1750-02-01                   3.083                              3.702   \n",
       "2  1750-03-01                   5.626                              3.076   \n",
       "3  1750-04-01                   8.490                              2.451   \n",
       "4  1750-05-01                  11.573                              2.072   \n",
       "\n",
       "   LandMaxTemperature  LandMaxTemperatureUncertainty  LandMinTemperature  \\\n",
       "0                 NaN                            NaN                 NaN   \n",
       "1                 NaN                            NaN                 NaN   \n",
       "2                 NaN                            NaN                 NaN   \n",
       "3                 NaN                            NaN                 NaN   \n",
       "4                 NaN                            NaN                 NaN   \n",
       "\n",
       "   LandMinTemperatureUncertainty  LandAndOceanAverageTemperature  \\\n",
       "0                            NaN                             NaN   \n",
       "1                            NaN                             NaN   \n",
       "2                            NaN                             NaN   \n",
       "3                            NaN                             NaN   \n",
       "4                            NaN                             NaN   \n",
       "\n",
       "   LandAndOceanAverageTemperatureUncertainty years  \n",
       "0                                        NaN  1750  \n",
       "1                                        NaN  1750  \n",
       "2                                        NaN  1750  \n",
       "3                                        NaN  1750  \n",
       "4                                        NaN  1750  "
      ]
     },
     "execution_count": 22,
     "metadata": {},
     "output_type": "execute_result"
    }
   ],
   "source": [
    "global_temp.head()"
   ]
  },
  {
   "cell_type": "code",
   "execution_count": 23,
   "id": "enclosed-leather",
   "metadata": {
    "execution": {
     "iopub.execute_input": "2021-06-13T15:28:46.967972Z",
     "iopub.status.busy": "2021-06-13T15:28:46.967024Z",
     "iopub.status.idle": "2021-06-13T15:28:46.971768Z",
     "shell.execute_reply": "2021-06-13T15:28:46.971349Z",
     "shell.execute_reply.started": "2021-06-13T15:08:02.092331Z"
    },
    "papermill": {
     "duration": 0.114681,
     "end_time": "2021-06-13T15:28:46.971874",
     "exception": false,
     "start_time": "2021-06-13T15:28:46.857193",
     "status": "completed"
    },
    "tags": []
   },
   "outputs": [
    {
     "data": {
      "text/html": [
       "<div>\n",
       "<style scoped>\n",
       "    .dataframe tbody tr th:only-of-type {\n",
       "        vertical-align: middle;\n",
       "    }\n",
       "\n",
       "    .dataframe tbody tr th {\n",
       "        vertical-align: top;\n",
       "    }\n",
       "\n",
       "    .dataframe thead th {\n",
       "        text-align: right;\n",
       "    }\n",
       "</style>\n",
       "<table border=\"1\" class=\"dataframe\">\n",
       "  <thead>\n",
       "    <tr style=\"text-align: right;\">\n",
       "      <th></th>\n",
       "      <th>LandAverageTemperature</th>\n",
       "      <th>LandAverageTemperatureUncertainty</th>\n",
       "    </tr>\n",
       "    <tr>\n",
       "      <th>years</th>\n",
       "      <th></th>\n",
       "      <th></th>\n",
       "    </tr>\n",
       "  </thead>\n",
       "  <tbody>\n",
       "    <tr>\n",
       "      <th>1750</th>\n",
       "      <td>8.719364</td>\n",
       "      <td>2.637818</td>\n",
       "    </tr>\n",
       "    <tr>\n",
       "      <th>1751</th>\n",
       "      <td>7.976143</td>\n",
       "      <td>2.781143</td>\n",
       "    </tr>\n",
       "    <tr>\n",
       "      <th>1752</th>\n",
       "      <td>5.779833</td>\n",
       "      <td>2.977000</td>\n",
       "    </tr>\n",
       "    <tr>\n",
       "      <th>1753</th>\n",
       "      <td>8.388083</td>\n",
       "      <td>3.176000</td>\n",
       "    </tr>\n",
       "    <tr>\n",
       "      <th>1754</th>\n",
       "      <td>8.469333</td>\n",
       "      <td>3.494250</td>\n",
       "    </tr>\n",
       "    <tr>\n",
       "      <th>...</th>\n",
       "      <td>...</td>\n",
       "      <td>...</td>\n",
       "    </tr>\n",
       "    <tr>\n",
       "      <th>2011</th>\n",
       "      <td>9.516000</td>\n",
       "      <td>0.082000</td>\n",
       "    </tr>\n",
       "    <tr>\n",
       "      <th>2012</th>\n",
       "      <td>9.507333</td>\n",
       "      <td>0.083417</td>\n",
       "    </tr>\n",
       "    <tr>\n",
       "      <th>2013</th>\n",
       "      <td>9.606500</td>\n",
       "      <td>0.097667</td>\n",
       "    </tr>\n",
       "    <tr>\n",
       "      <th>2014</th>\n",
       "      <td>9.570667</td>\n",
       "      <td>0.090167</td>\n",
       "    </tr>\n",
       "    <tr>\n",
       "      <th>2015</th>\n",
       "      <td>9.831000</td>\n",
       "      <td>0.092167</td>\n",
       "    </tr>\n",
       "  </tbody>\n",
       "</table>\n",
       "<p>266 rows × 2 columns</p>\n",
       "</div>"
      ],
      "text/plain": [
       "       LandAverageTemperature  LandAverageTemperatureUncertainty\n",
       "years                                                           \n",
       "1750                 8.719364                           2.637818\n",
       "1751                 7.976143                           2.781143\n",
       "1752                 5.779833                           2.977000\n",
       "1753                 8.388083                           3.176000\n",
       "1754                 8.469333                           3.494250\n",
       "...                       ...                                ...\n",
       "2011                 9.516000                           0.082000\n",
       "2012                 9.507333                           0.083417\n",
       "2013                 9.606500                           0.097667\n",
       "2014                 9.570667                           0.090167\n",
       "2015                 9.831000                           0.092167\n",
       "\n",
       "[266 rows x 2 columns]"
      ]
     },
     "execution_count": 23,
     "metadata": {},
     "output_type": "execute_result"
    }
   ],
   "source": [
    "global_temp.groupby('years').agg({'LandAverageTemperature':'mean','LandAverageTemperatureUncertainty':'mean'})"
   ]
  },
  {
   "cell_type": "code",
   "execution_count": 24,
   "id": "suffering-cleaner",
   "metadata": {
    "execution": {
     "iopub.execute_input": "2021-06-13T15:28:47.159849Z",
     "iopub.status.busy": "2021-06-13T15:28:47.159019Z",
     "iopub.status.idle": "2021-06-13T15:28:47.170169Z",
     "shell.execute_reply": "2021-06-13T15:28:47.169752Z",
     "shell.execute_reply.started": "2021-06-13T15:08:02.118067Z"
    },
    "papermill": {
     "duration": 0.106691,
     "end_time": "2021-06-13T15:28:47.170283",
     "exception": false,
     "start_time": "2021-06-13T15:28:47.063592",
     "status": "completed"
    },
    "tags": []
   },
   "outputs": [
    {
     "data": {
      "text/html": [
       "<div>\n",
       "<style scoped>\n",
       "    .dataframe tbody tr th:only-of-type {\n",
       "        vertical-align: middle;\n",
       "    }\n",
       "\n",
       "    .dataframe tbody tr th {\n",
       "        vertical-align: top;\n",
       "    }\n",
       "\n",
       "    .dataframe thead th {\n",
       "        text-align: right;\n",
       "    }\n",
       "</style>\n",
       "<table border=\"1\" class=\"dataframe\">\n",
       "  <thead>\n",
       "    <tr style=\"text-align: right;\">\n",
       "      <th></th>\n",
       "      <th>years</th>\n",
       "      <th>LandAverageTemperature</th>\n",
       "      <th>LandAverageTemperatureUncertainty</th>\n",
       "    </tr>\n",
       "  </thead>\n",
       "  <tbody>\n",
       "    <tr>\n",
       "      <th>0</th>\n",
       "      <td>1750</td>\n",
       "      <td>8.719364</td>\n",
       "      <td>2.637818</td>\n",
       "    </tr>\n",
       "    <tr>\n",
       "      <th>1</th>\n",
       "      <td>1751</td>\n",
       "      <td>7.976143</td>\n",
       "      <td>2.781143</td>\n",
       "    </tr>\n",
       "    <tr>\n",
       "      <th>2</th>\n",
       "      <td>1752</td>\n",
       "      <td>5.779833</td>\n",
       "      <td>2.977000</td>\n",
       "    </tr>\n",
       "    <tr>\n",
       "      <th>3</th>\n",
       "      <td>1753</td>\n",
       "      <td>8.388083</td>\n",
       "      <td>3.176000</td>\n",
       "    </tr>\n",
       "    <tr>\n",
       "      <th>4</th>\n",
       "      <td>1754</td>\n",
       "      <td>8.469333</td>\n",
       "      <td>3.494250</td>\n",
       "    </tr>\n",
       "  </tbody>\n",
       "</table>\n",
       "</div>"
      ],
      "text/plain": [
       "  years  LandAverageTemperature  LandAverageTemperatureUncertainty\n",
       "0  1750                8.719364                           2.637818\n",
       "1  1751                7.976143                           2.781143\n",
       "2  1752                5.779833                           2.977000\n",
       "3  1753                8.388083                           3.176000\n",
       "4  1754                8.469333                           3.494250"
      ]
     },
     "execution_count": 24,
     "metadata": {},
     "output_type": "execute_result"
    }
   ],
   "source": [
    "data=global_temp.groupby('years').agg({'LandAverageTemperature':'mean','LandAverageTemperatureUncertainty':'mean'}).reset_index()\n",
    "data.head()"
   ]
  },
  {
   "cell_type": "code",
   "execution_count": 25,
   "id": "resistant-occasion",
   "metadata": {
    "execution": {
     "iopub.execute_input": "2021-06-13T15:28:47.359866Z",
     "iopub.status.busy": "2021-06-13T15:28:47.359068Z",
     "iopub.status.idle": "2021-06-13T15:28:47.361805Z",
     "shell.execute_reply": "2021-06-13T15:28:47.361378Z",
     "shell.execute_reply.started": "2021-06-13T15:08:02.13641Z"
    },
    "papermill": {
     "duration": 0.100241,
     "end_time": "2021-06-13T15:28:47.361917",
     "exception": false,
     "start_time": "2021-06-13T15:28:47.261676",
     "status": "completed"
    },
    "tags": []
   },
   "outputs": [],
   "source": [
    "data['Uncertainty top']=data['LandAverageTemperature']+data['LandAverageTemperatureUncertainty']\n",
    "data['Uncertainty bottom']=data['LandAverageTemperature']-data['LandAverageTemperatureUncertainty']"
   ]
  },
  {
   "cell_type": "code",
   "execution_count": 26,
   "id": "organic-biotechnology",
   "metadata": {
    "execution": {
     "iopub.execute_input": "2021-06-13T15:28:47.555536Z",
     "iopub.status.busy": "2021-06-13T15:28:47.554790Z",
     "iopub.status.idle": "2021-06-13T15:28:47.557851Z",
     "shell.execute_reply": "2021-06-13T15:28:47.558275Z",
     "shell.execute_reply.started": "2021-06-13T15:08:02.14427Z"
    },
    "papermill": {
     "duration": 0.104723,
     "end_time": "2021-06-13T15:28:47.558410",
     "exception": false,
     "start_time": "2021-06-13T15:28:47.453687",
     "status": "completed"
    },
    "tags": []
   },
   "outputs": [
    {
     "data": {
      "text/html": [
       "<div>\n",
       "<style scoped>\n",
       "    .dataframe tbody tr th:only-of-type {\n",
       "        vertical-align: middle;\n",
       "    }\n",
       "\n",
       "    .dataframe tbody tr th {\n",
       "        vertical-align: top;\n",
       "    }\n",
       "\n",
       "    .dataframe thead th {\n",
       "        text-align: right;\n",
       "    }\n",
       "</style>\n",
       "<table border=\"1\" class=\"dataframe\">\n",
       "  <thead>\n",
       "    <tr style=\"text-align: right;\">\n",
       "      <th></th>\n",
       "      <th>years</th>\n",
       "      <th>LandAverageTemperature</th>\n",
       "      <th>LandAverageTemperatureUncertainty</th>\n",
       "      <th>Uncertainty top</th>\n",
       "      <th>Uncertainty bottom</th>\n",
       "    </tr>\n",
       "  </thead>\n",
       "  <tbody>\n",
       "    <tr>\n",
       "      <th>0</th>\n",
       "      <td>1750</td>\n",
       "      <td>8.719364</td>\n",
       "      <td>2.637818</td>\n",
       "      <td>11.357182</td>\n",
       "      <td>6.081545</td>\n",
       "    </tr>\n",
       "    <tr>\n",
       "      <th>1</th>\n",
       "      <td>1751</td>\n",
       "      <td>7.976143</td>\n",
       "      <td>2.781143</td>\n",
       "      <td>10.757286</td>\n",
       "      <td>5.195000</td>\n",
       "    </tr>\n",
       "    <tr>\n",
       "      <th>2</th>\n",
       "      <td>1752</td>\n",
       "      <td>5.779833</td>\n",
       "      <td>2.977000</td>\n",
       "      <td>8.756833</td>\n",
       "      <td>2.802833</td>\n",
       "    </tr>\n",
       "    <tr>\n",
       "      <th>3</th>\n",
       "      <td>1753</td>\n",
       "      <td>8.388083</td>\n",
       "      <td>3.176000</td>\n",
       "      <td>11.564083</td>\n",
       "      <td>5.212083</td>\n",
       "    </tr>\n",
       "    <tr>\n",
       "      <th>4</th>\n",
       "      <td>1754</td>\n",
       "      <td>8.469333</td>\n",
       "      <td>3.494250</td>\n",
       "      <td>11.963583</td>\n",
       "      <td>4.975083</td>\n",
       "    </tr>\n",
       "  </tbody>\n",
       "</table>\n",
       "</div>"
      ],
      "text/plain": [
       "  years  LandAverageTemperature  LandAverageTemperatureUncertainty  \\\n",
       "0  1750                8.719364                           2.637818   \n",
       "1  1751                7.976143                           2.781143   \n",
       "2  1752                5.779833                           2.977000   \n",
       "3  1753                8.388083                           3.176000   \n",
       "4  1754                8.469333                           3.494250   \n",
       "\n",
       "   Uncertainty top  Uncertainty bottom  \n",
       "0        11.357182            6.081545  \n",
       "1        10.757286            5.195000  \n",
       "2         8.756833            2.802833  \n",
       "3        11.564083            5.212083  \n",
       "4        11.963583            4.975083  "
      ]
     },
     "execution_count": 26,
     "metadata": {},
     "output_type": "execute_result"
    }
   ],
   "source": [
    "data.head()"
   ]
  },
  {
   "cell_type": "code",
   "execution_count": 27,
   "id": "studied-dublin",
   "metadata": {
    "execution": {
     "iopub.execute_input": "2021-06-13T15:28:47.746790Z",
     "iopub.status.busy": "2021-06-13T15:28:47.746003Z",
     "iopub.status.idle": "2021-06-13T15:28:47.748990Z",
     "shell.execute_reply": "2021-06-13T15:28:47.749389Z",
     "shell.execute_reply.started": "2021-06-13T15:08:02.164099Z"
    },
    "papermill": {
     "duration": 0.098642,
     "end_time": "2021-06-13T15:28:47.749519",
     "exception": false,
     "start_time": "2021-06-13T15:28:47.650877",
     "status": "completed"
    },
    "tags": []
   },
   "outputs": [
    {
     "data": {
      "text/plain": [
       "Index(['years', 'LandAverageTemperature', 'LandAverageTemperatureUncertainty',\n",
       "       'Uncertainty top', 'Uncertainty bottom'],\n",
       "      dtype='object')"
      ]
     },
     "execution_count": 27,
     "metadata": {},
     "output_type": "execute_result"
    }
   ],
   "source": [
    "data.columns"
   ]
  },
  {
   "cell_type": "code",
   "execution_count": 28,
   "id": "prompt-colombia",
   "metadata": {
    "execution": {
     "iopub.execute_input": "2021-06-13T15:28:47.935367Z",
     "iopub.status.busy": "2021-06-13T15:28:47.934564Z",
     "iopub.status.idle": "2021-06-13T15:28:47.937092Z",
     "shell.execute_reply": "2021-06-13T15:28:47.936684Z",
     "shell.execute_reply.started": "2021-06-13T15:08:02.170916Z"
    },
    "papermill": {
     "duration": 0.097031,
     "end_time": "2021-06-13T15:28:47.937204",
     "exception": false,
     "start_time": "2021-06-13T15:28:47.840173",
     "status": "completed"
    },
    "tags": []
   },
   "outputs": [],
   "source": [
    "import plotly.express as px"
   ]
  },
  {
   "cell_type": "code",
   "execution_count": 29,
   "id": "objective-fifth",
   "metadata": {
    "execution": {
     "iopub.execute_input": "2021-06-13T15:28:48.125306Z",
     "iopub.status.busy": "2021-06-13T15:28:48.124628Z",
     "iopub.status.idle": "2021-06-13T15:28:48.232696Z",
     "shell.execute_reply": "2021-06-13T15:28:48.233132Z",
     "shell.execute_reply.started": "2021-06-13T15:08:02.183996Z"
    },
    "papermill": {
     "duration": 0.204087,
     "end_time": "2021-06-13T15:28:48.233271",
     "exception": false,
     "start_time": "2021-06-13T15:28:48.029184",
     "status": "completed"
    },
    "tags": []
   },
   "outputs": [
    {
     "data": {
      "application/vnd.plotly.v1+json": {
       "config": {
        "plotlyServerURL": "https://plot.ly"
       },
       "data": [
        {
         "hovertemplate": "variable=LandAverageTemperature<br>years=%{x}<br>value=%{y}<extra></extra>",
         "legendgroup": "LandAverageTemperature",
         "line": {
          "color": "#636efa",
          "dash": "solid"
         },
         "mode": "lines",
         "name": "LandAverageTemperature",
         "orientation": "v",
         "showlegend": true,
         "type": "scatter",
         "x": [
          "1750",
          "1751",
          "1752",
          "1753",
          "1754",
          "1755",
          "1756",
          "1757",
          "1758",
          "1759",
          "1760",
          "1761",
          "1762",
          "1763",
          "1764",
          "1765",
          "1766",
          "1767",
          "1768",
          "1769",
          "1770",
          "1771",
          "1772",
          "1773",
          "1774",
          "1775",
          "1776",
          "1777",
          "1778",
          "1779",
          "1780",
          "1781",
          "1782",
          "1783",
          "1784",
          "1785",
          "1786",
          "1787",
          "1788",
          "1789",
          "1790",
          "1791",
          "1792",
          "1793",
          "1794",
          "1795",
          "1796",
          "1797",
          "1798",
          "1799",
          "1800",
          "1801",
          "1802",
          "1803",
          "1804",
          "1805",
          "1806",
          "1807",
          "1808",
          "1809",
          "1810",
          "1811",
          "1812",
          "1813",
          "1814",
          "1815",
          "1816",
          "1817",
          "1818",
          "1819",
          "1820",
          "1821",
          "1822",
          "1823",
          "1824",
          "1825",
          "1826",
          "1827",
          "1828",
          "1829",
          "1830",
          "1831",
          "1832",
          "1833",
          "1834",
          "1835",
          "1836",
          "1837",
          "1838",
          "1839",
          "1840",
          "1841",
          "1842",
          "1843",
          "1844",
          "1845",
          "1846",
          "1847",
          "1848",
          "1849",
          "1850",
          "1851",
          "1852",
          "1853",
          "1854",
          "1855",
          "1856",
          "1857",
          "1858",
          "1859",
          "1860",
          "1861",
          "1862",
          "1863",
          "1864",
          "1865",
          "1866",
          "1867",
          "1868",
          "1869",
          "1870",
          "1871",
          "1872",
          "1873",
          "1874",
          "1875",
          "1876",
          "1877",
          "1878",
          "1879",
          "1880",
          "1881",
          "1882",
          "1883",
          "1884",
          "1885",
          "1886",
          "1887",
          "1888",
          "1889",
          "1890",
          "1891",
          "1892",
          "1893",
          "1894",
          "1895",
          "1896",
          "1897",
          "1898",
          "1899",
          "1900",
          "1901",
          "1902",
          "1903",
          "1904",
          "1905",
          "1906",
          "1907",
          "1908",
          "1909",
          "1910",
          "1911",
          "1912",
          "1913",
          "1914",
          "1915",
          "1916",
          "1917",
          "1918",
          "1919",
          "1920",
          "1921",
          "1922",
          "1923",
          "1924",
          "1925",
          "1926",
          "1927",
          "1928",
          "1929",
          "1930",
          "1931",
          "1932",
          "1933",
          "1934",
          "1935",
          "1936",
          "1937",
          "1938",
          "1939",
          "1940",
          "1941",
          "1942",
          "1943",
          "1944",
          "1945",
          "1946",
          "1947",
          "1948",
          "1949",
          "1950",
          "1951",
          "1952",
          "1953",
          "1954",
          "1955",
          "1956",
          "1957",
          "1958",
          "1959",
          "1960",
          "1961",
          "1962",
          "1963",
          "1964",
          "1965",
          "1966",
          "1967",
          "1968",
          "1969",
          "1970",
          "1971",
          "1972",
          "1973",
          "1974",
          "1975",
          "1976",
          "1977",
          "1978",
          "1979",
          "1980",
          "1981",
          "1982",
          "1983",
          "1984",
          "1985",
          "1986",
          "1987",
          "1988",
          "1989",
          "1990",
          "1991",
          "1992",
          "1993",
          "1994",
          "1995",
          "1996",
          "1997",
          "1998",
          "1999",
          "2000",
          "2001",
          "2002",
          "2003",
          "2004",
          "2005",
          "2006",
          "2007",
          "2008",
          "2009",
          "2010",
          "2011",
          "2012",
          "2013",
          "2014",
          "2015"
         ],
         "xaxis": "x",
         "y": [
          8.719363636363637,
          7.9761428571428565,
          5.7798333333333325,
          8.388083333333332,
          8.469333333333335,
          8.355583333333334,
          8.849583333333333,
          9.022,
          6.743583333333333,
          7.985083333333333,
          7.185166666666667,
          8.772499999999999,
          8.6065,
          7.496749999999999,
          8.400333333333332,
          8.251916666666666,
          8.405666666666667,
          8.221499999999999,
          6.781333333333333,
          7.694583333333334,
          7.691916666666667,
          7.8531666666666675,
          8.1935,
          8.2215,
          8.772166666666665,
          9.183083333333334,
          8.304,
          8.256250000000001,
          8.54225,
          8.98325,
          9.432916666666667,
          8.102583333333332,
          7.901249999999998,
          7.680833333333333,
          7.862000000000001,
          7.3629999999999995,
          8.258166666666666,
          8.031833333333333,
          8.447166666666666,
          8.334166666666667,
          7.982333333333333,
          8.23425,
          8.089,
          8.229166666666666,
          8.526000000000002,
          8.350333333333333,
          8.270999999999999,
          8.510583333333335,
          8.67025,
          8.505749999999999,
          8.484250000000001,
          8.589666666666668,
          8.578166666666666,
          8.503,
          8.844833333333334,
          8.56275,
          8.434083333333332,
          8.281416666666665,
          7.626833333333333,
          7.076416666666667,
          6.922666666666665,
          6.859500000000001,
          7.046250000000001,
          7.7399166666666686,
          7.59175,
          7.239333333333334,
          6.9375,
          6.975666666666668,
          7.828916666666667,
          7.3691666666666675,
          7.616249999999998,
          8.090083333333332,
          8.188333333333334,
          7.7186666666666675,
          8.547166666666667,
          8.389333333333333,
          8.356583333333335,
          8.808749999999998,
          8.165333333333335,
          7.941833333333332,
          8.51675,
          7.639166666666667,
          7.450166666666667,
          8.013,
          8.14675,
          7.392499999999999,
          7.695833333333334,
          7.375666666666665,
          7.514916666666665,
          7.632249999999999,
          7.796250000000001,
          7.688166666666667,
          8.02275,
          8.173666666666666,
          7.646333333333334,
          7.851166666666668,
          8.55275,
          8.086,
          7.979500000000001,
          7.984416666666667,
          7.900666666666666,
          8.178583333333332,
          8.100166666666665,
          8.041833333333333,
          8.2105,
          8.110749999999998,
          7.995916666666666,
          7.758166666666668,
          8.10025,
          8.252,
          7.960833333333333,
          7.846500000000002,
          7.558583333333334,
          8.111833333333333,
          7.983583333333335,
          8.177833333333334,
          8.292166666666665,
          8.436333333333334,
          8.247916666666667,
          8.432083333333333,
          8.201333333333332,
          8.115083333333333,
          8.193833333333332,
          8.351083333333333,
          8.4335,
          7.859583333333334,
          8.080083333333333,
          8.539583333333333,
          8.829749999999999,
          8.165833333333333,
          8.118749999999999,
          8.270916666666666,
          8.128916666666667,
          7.976916666666665,
          7.773666666666667,
          7.919666666666668,
          7.954499999999999,
          7.914916666666667,
          8.0905,
          8.318999999999999,
          7.971666666666667,
          8.019333333333334,
          8.065833333333332,
          8.05675,
          8.161,
          8.147,
          8.214916666666666,
          8.293333333333335,
          8.177999999999999,
          8.396333333333333,
          8.501583333333333,
          8.541916666666665,
          8.304416666666667,
          8.220166666666668,
          8.090916666666667,
          8.225166666666665,
          8.379083333333332,
          7.947166666666667,
          8.186083333333334,
          8.17825,
          8.223,
          8.177000000000001,
          8.165416666666667,
          8.297749999999999,
          8.5905,
          8.593166666666665,
          8.22525,
          8.023333333333332,
          8.130833333333332,
          8.38225,
          8.35875,
          8.571,
          8.408,
          8.422166666666666,
          8.506833333333335,
          8.534416666666667,
          8.728833333333332,
          8.522083333333333,
          8.632166666666668,
          8.242416666666665,
          8.633583333333332,
          8.71925,
          8.705250000000001,
          8.33825,
          8.628333333333336,
          8.51575,
          8.554,
          8.698333333333332,
          8.863666666666665,
          8.760333333333334,
          8.764666666666667,
          8.768666666666668,
          8.728416666666666,
          8.755083333333333,
          8.845,
          8.584833333333332,
          8.676916666666669,
          8.797083333333333,
          8.74675,
          8.586749999999999,
          8.365250000000001,
          8.625666666666666,
          8.638250000000001,
          8.873750000000001,
          8.560666666666666,
          8.62625,
          8.279583333333333,
          8.7325,
          8.77375,
          8.732666666666665,
          8.58375,
          8.797666666666666,
          8.745916666666666,
          8.856,
          8.409666666666666,
          8.527416666666667,
          8.599333333333332,
          8.700083333333334,
          8.516333333333334,
          8.595083333333333,
          8.700916666666666,
          8.59925,
          8.499583333333334,
          8.948249999999998,
          8.4675,
          8.744833333333334,
          8.347249999999999,
          8.850249999999999,
          8.692749999999998,
          8.733416666666665,
          8.980333333333332,
          9.165833333333333,
          8.639166666666666,
          9.028166666666666,
          8.691833333333335,
          8.658,
          8.833583333333332,
          8.994416666666668,
          9.201583333333334,
          8.921999999999999,
          9.234166666666667,
          9.179416666666667,
          8.836583333333332,
          8.866583333333333,
          9.038749999999999,
          9.347083333333332,
          9.038916666666667,
          9.202583333333333,
          9.522666666666666,
          9.285083333333333,
          9.201166666666667,
          9.414583333333335,
          9.570416666666667,
          9.525583333333334,
          9.324583333333333,
          9.700916666666666,
          9.532499999999999,
          9.732166666666664,
          9.431750000000001,
          9.505250000000002,
          9.703083333333332,
          9.516,
          9.507333333333333,
          9.606499999999999,
          9.570666666666666,
          9.830999999999998
         ],
         "yaxis": "y"
        },
        {
         "hovertemplate": "variable=Uncertainty top<br>years=%{x}<br>value=%{y}<extra></extra>",
         "legendgroup": "Uncertainty top",
         "line": {
          "color": "#EF553B",
          "dash": "solid"
         },
         "mode": "lines",
         "name": "Uncertainty top",
         "orientation": "v",
         "showlegend": true,
         "type": "scatter",
         "x": [
          "1750",
          "1751",
          "1752",
          "1753",
          "1754",
          "1755",
          "1756",
          "1757",
          "1758",
          "1759",
          "1760",
          "1761",
          "1762",
          "1763",
          "1764",
          "1765",
          "1766",
          "1767",
          "1768",
          "1769",
          "1770",
          "1771",
          "1772",
          "1773",
          "1774",
          "1775",
          "1776",
          "1777",
          "1778",
          "1779",
          "1780",
          "1781",
          "1782",
          "1783",
          "1784",
          "1785",
          "1786",
          "1787",
          "1788",
          "1789",
          "1790",
          "1791",
          "1792",
          "1793",
          "1794",
          "1795",
          "1796",
          "1797",
          "1798",
          "1799",
          "1800",
          "1801",
          "1802",
          "1803",
          "1804",
          "1805",
          "1806",
          "1807",
          "1808",
          "1809",
          "1810",
          "1811",
          "1812",
          "1813",
          "1814",
          "1815",
          "1816",
          "1817",
          "1818",
          "1819",
          "1820",
          "1821",
          "1822",
          "1823",
          "1824",
          "1825",
          "1826",
          "1827",
          "1828",
          "1829",
          "1830",
          "1831",
          "1832",
          "1833",
          "1834",
          "1835",
          "1836",
          "1837",
          "1838",
          "1839",
          "1840",
          "1841",
          "1842",
          "1843",
          "1844",
          "1845",
          "1846",
          "1847",
          "1848",
          "1849",
          "1850",
          "1851",
          "1852",
          "1853",
          "1854",
          "1855",
          "1856",
          "1857",
          "1858",
          "1859",
          "1860",
          "1861",
          "1862",
          "1863",
          "1864",
          "1865",
          "1866",
          "1867",
          "1868",
          "1869",
          "1870",
          "1871",
          "1872",
          "1873",
          "1874",
          "1875",
          "1876",
          "1877",
          "1878",
          "1879",
          "1880",
          "1881",
          "1882",
          "1883",
          "1884",
          "1885",
          "1886",
          "1887",
          "1888",
          "1889",
          "1890",
          "1891",
          "1892",
          "1893",
          "1894",
          "1895",
          "1896",
          "1897",
          "1898",
          "1899",
          "1900",
          "1901",
          "1902",
          "1903",
          "1904",
          "1905",
          "1906",
          "1907",
          "1908",
          "1909",
          "1910",
          "1911",
          "1912",
          "1913",
          "1914",
          "1915",
          "1916",
          "1917",
          "1918",
          "1919",
          "1920",
          "1921",
          "1922",
          "1923",
          "1924",
          "1925",
          "1926",
          "1927",
          "1928",
          "1929",
          "1930",
          "1931",
          "1932",
          "1933",
          "1934",
          "1935",
          "1936",
          "1937",
          "1938",
          "1939",
          "1940",
          "1941",
          "1942",
          "1943",
          "1944",
          "1945",
          "1946",
          "1947",
          "1948",
          "1949",
          "1950",
          "1951",
          "1952",
          "1953",
          "1954",
          "1955",
          "1956",
          "1957",
          "1958",
          "1959",
          "1960",
          "1961",
          "1962",
          "1963",
          "1964",
          "1965",
          "1966",
          "1967",
          "1968",
          "1969",
          "1970",
          "1971",
          "1972",
          "1973",
          "1974",
          "1975",
          "1976",
          "1977",
          "1978",
          "1979",
          "1980",
          "1981",
          "1982",
          "1983",
          "1984",
          "1985",
          "1986",
          "1987",
          "1988",
          "1989",
          "1990",
          "1991",
          "1992",
          "1993",
          "1994",
          "1995",
          "1996",
          "1997",
          "1998",
          "1999",
          "2000",
          "2001",
          "2002",
          "2003",
          "2004",
          "2005",
          "2006",
          "2007",
          "2008",
          "2009",
          "2010",
          "2011",
          "2012",
          "2013",
          "2014",
          "2015"
         ],
         "xaxis": "x",
         "y": [
          11.357181818181818,
          10.757285714285715,
          8.756833333333333,
          11.564083333333333,
          11.963583333333336,
          12.205916666666667,
          12.111916666666668,
          13.048000000000002,
          10.1065,
          11.664,
          10.274083333333333,
          11.917333333333332,
          12.13075,
          10.648333333333332,
          11.175583333333332,
          10.679666666666666,
          11.2415,
          11.184166666666666,
          9.047333333333334,
          10.104666666666667,
          10.472583333333333,
          10.45775,
          10.657333333333334,
          10.58225,
          12.187333333333331,
          11.503666666666668,
          11.168166666666668,
          10.699083333333334,
          11.41475,
          11.489083333333333,
          12.017750000000001,
          10.606416666666664,
          10.451833333333331,
          10.17525,
          10.117666666666668,
          9.6025,
          10.783583333333333,
          10.393583333333334,
          11.004999999999999,
          10.202833333333333,
          9.754,
          10.018,
          9.789416666666668,
          10.503583333333331,
          10.505,
          10.393666666666666,
          10.191666666666666,
          10.556250000000002,
          10.573583333333332,
          10.244166666666665,
          10.202916666666669,
          10.171333333333335,
          10.427166666666666,
          10.136166666666666,
          10.686666666666667,
          10.251666666666665,
          10.004166666666665,
          9.873666666666665,
          9.623666666666665,
          9.211833333333333,
          9.233666666666664,
          8.955250000000001,
          9.181833333333334,
          9.448750000000002,
          9.760250000000001,
          9.205833333333334,
          9.130416666666667,
          8.684000000000001,
          9.658000000000001,
          8.951083333333333,
          9.235,
          9.465916666666665,
          9.563583333333334,
          9.080916666666667,
          9.995000000000001,
          9.897166666666667,
          9.916166666666669,
          10.25233333333333,
          9.81375,
          9.261583333333332,
          9.948166666666667,
          9.170666666666667,
          8.990583333333333,
          9.2465,
          9.299000000000001,
          8.667833333333332,
          8.86525,
          8.666583333333332,
          8.677249999999999,
          8.811666666666666,
          8.787416666666667,
          8.640166666666666,
          8.92025,
          8.923499999999999,
          8.572333333333333,
          8.732666666666667,
          9.6045,
          8.986666666666666,
          8.850833333333334,
          8.898,
          8.777083333333334,
          9.0605,
          9.018416666666665,
          8.876833333333334,
          9.036166666666666,
          8.997916666666665,
          8.756666666666666,
          8.509250000000002,
          8.8,
          8.926666666666668,
          8.586833333333333,
          8.499916666666667,
          8.2475,
          8.859833333333333,
          8.660000000000002,
          8.84,
          8.898166666666665,
          9.071166666666667,
          8.79425,
          9.02775,
          8.7515,
          8.685333333333332,
          8.782916666666665,
          8.901583333333333,
          8.951416666666667,
          8.311083333333334,
          8.513583333333333,
          8.9955,
          9.254666666666665,
          8.62925,
          8.533666666666665,
          8.69025,
          8.508833333333333,
          8.347583333333333,
          8.169916666666667,
          8.344666666666669,
          8.340499999999999,
          8.307,
          8.472916666666666,
          8.688833333333333,
          8.314666666666668,
          8.354666666666667,
          8.404666666666666,
          8.402,
          8.47825,
          8.446250000000001,
          8.52375,
          8.607166666666668,
          8.503666666666666,
          8.721083333333333,
          8.816333333333333,
          8.848166666666666,
          8.597166666666666,
          8.510166666666667,
          8.377333333333333,
          8.503916666666665,
          8.653999999999998,
          8.204333333333334,
          8.460833333333333,
          8.441,
          8.483083333333335,
          8.424833333333336,
          8.423833333333334,
          8.559999999999999,
          8.842416666666667,
          8.839333333333332,
          8.485666666666667,
          8.283999999999999,
          8.399083333333332,
          8.649000000000001,
          8.621416666666667,
          8.827833333333333,
          8.666583333333334,
          8.675249999999998,
          8.763666666666667,
          8.775166666666667,
          8.971499999999999,
          8.770999999999999,
          8.88075,
          8.494166666666665,
          8.873249999999999,
          8.957,
          8.954166666666667,
          8.580916666666667,
          8.868416666666668,
          8.751666666666667,
          8.797083333333333,
          8.938416666666665,
          9.104166666666666,
          8.997666666666667,
          8.995750000000001,
          8.996500000000001,
          8.957916666666666,
          8.981666666666667,
          9.070166666666667,
          8.805166666666665,
          8.899333333333335,
          9.014166666666666,
          8.956333333333333,
          8.794999999999998,
          8.551583333333335,
          8.809833333333332,
          8.847000000000001,
          9.085833333333335,
          8.747833333333332,
          8.779833333333334,
          8.400416666666667,
          8.8905,
          8.878083333333333,
          8.839833333333331,
          8.67725,
          8.894666666666666,
          8.878833333333333,
          8.948333333333332,
          8.502166666666666,
          8.63625,
          8.691583333333332,
          8.78375,
          8.628,
          8.68025,
          8.776499999999999,
          8.697166666666666,
          8.594916666666666,
          9.048999999999998,
          8.572,
          8.841916666666668,
          8.447833333333332,
          8.934916666666666,
          8.796583333333333,
          8.819833333333332,
          9.087,
          9.253083333333333,
          8.721833333333333,
          9.122166666666665,
          8.794416666666669,
          8.751249999999999,
          8.918583333333332,
          9.079583333333334,
          9.281666666666666,
          9.009999999999998,
          9.320500000000001,
          9.2415,
          8.919916666666666,
          8.947916666666666,
          9.109666666666666,
          9.423499999999999,
          9.123666666666667,
          9.291166666666667,
          9.596583333333333,
          9.364333333333333,
          9.284666666666668,
          9.502,
          9.642833333333334,
          9.61625,
          9.408,
          9.776083333333332,
          9.622499999999999,
          9.821666666666664,
          9.510666666666667,
          9.591166666666668,
          9.786499999999998,
          9.598,
          9.59075,
          9.704166666666666,
          9.660833333333333,
          9.923166666666665
         ],
         "yaxis": "y"
        },
        {
         "hovertemplate": "variable=Uncertainty bottom<br>years=%{x}<br>value=%{y}<extra></extra>",
         "legendgroup": "Uncertainty bottom",
         "line": {
          "color": "#00cc96",
          "dash": "solid"
         },
         "mode": "lines",
         "name": "Uncertainty bottom",
         "orientation": "v",
         "showlegend": true,
         "type": "scatter",
         "x": [
          "1750",
          "1751",
          "1752",
          "1753",
          "1754",
          "1755",
          "1756",
          "1757",
          "1758",
          "1759",
          "1760",
          "1761",
          "1762",
          "1763",
          "1764",
          "1765",
          "1766",
          "1767",
          "1768",
          "1769",
          "1770",
          "1771",
          "1772",
          "1773",
          "1774",
          "1775",
          "1776",
          "1777",
          "1778",
          "1779",
          "1780",
          "1781",
          "1782",
          "1783",
          "1784",
          "1785",
          "1786",
          "1787",
          "1788",
          "1789",
          "1790",
          "1791",
          "1792",
          "1793",
          "1794",
          "1795",
          "1796",
          "1797",
          "1798",
          "1799",
          "1800",
          "1801",
          "1802",
          "1803",
          "1804",
          "1805",
          "1806",
          "1807",
          "1808",
          "1809",
          "1810",
          "1811",
          "1812",
          "1813",
          "1814",
          "1815",
          "1816",
          "1817",
          "1818",
          "1819",
          "1820",
          "1821",
          "1822",
          "1823",
          "1824",
          "1825",
          "1826",
          "1827",
          "1828",
          "1829",
          "1830",
          "1831",
          "1832",
          "1833",
          "1834",
          "1835",
          "1836",
          "1837",
          "1838",
          "1839",
          "1840",
          "1841",
          "1842",
          "1843",
          "1844",
          "1845",
          "1846",
          "1847",
          "1848",
          "1849",
          "1850",
          "1851",
          "1852",
          "1853",
          "1854",
          "1855",
          "1856",
          "1857",
          "1858",
          "1859",
          "1860",
          "1861",
          "1862",
          "1863",
          "1864",
          "1865",
          "1866",
          "1867",
          "1868",
          "1869",
          "1870",
          "1871",
          "1872",
          "1873",
          "1874",
          "1875",
          "1876",
          "1877",
          "1878",
          "1879",
          "1880",
          "1881",
          "1882",
          "1883",
          "1884",
          "1885",
          "1886",
          "1887",
          "1888",
          "1889",
          "1890",
          "1891",
          "1892",
          "1893",
          "1894",
          "1895",
          "1896",
          "1897",
          "1898",
          "1899",
          "1900",
          "1901",
          "1902",
          "1903",
          "1904",
          "1905",
          "1906",
          "1907",
          "1908",
          "1909",
          "1910",
          "1911",
          "1912",
          "1913",
          "1914",
          "1915",
          "1916",
          "1917",
          "1918",
          "1919",
          "1920",
          "1921",
          "1922",
          "1923",
          "1924",
          "1925",
          "1926",
          "1927",
          "1928",
          "1929",
          "1930",
          "1931",
          "1932",
          "1933",
          "1934",
          "1935",
          "1936",
          "1937",
          "1938",
          "1939",
          "1940",
          "1941",
          "1942",
          "1943",
          "1944",
          "1945",
          "1946",
          "1947",
          "1948",
          "1949",
          "1950",
          "1951",
          "1952",
          "1953",
          "1954",
          "1955",
          "1956",
          "1957",
          "1958",
          "1959",
          "1960",
          "1961",
          "1962",
          "1963",
          "1964",
          "1965",
          "1966",
          "1967",
          "1968",
          "1969",
          "1970",
          "1971",
          "1972",
          "1973",
          "1974",
          "1975",
          "1976",
          "1977",
          "1978",
          "1979",
          "1980",
          "1981",
          "1982",
          "1983",
          "1984",
          "1985",
          "1986",
          "1987",
          "1988",
          "1989",
          "1990",
          "1991",
          "1992",
          "1993",
          "1994",
          "1995",
          "1996",
          "1997",
          "1998",
          "1999",
          "2000",
          "2001",
          "2002",
          "2003",
          "2004",
          "2005",
          "2006",
          "2007",
          "2008",
          "2009",
          "2010",
          "2011",
          "2012",
          "2013",
          "2014",
          "2015"
         ],
         "xaxis": "x",
         "y": [
          6.081545454545456,
          5.194999999999999,
          2.8028333333333326,
          5.212083333333332,
          4.975083333333334,
          4.50525,
          5.587249999999999,
          4.9959999999999996,
          3.3806666666666656,
          4.306166666666666,
          4.096250000000001,
          5.627666666666666,
          5.08225,
          4.345166666666666,
          5.6250833333333325,
          5.824166666666666,
          5.569833333333333,
          5.258833333333332,
          4.515333333333333,
          5.284500000000001,
          4.91125,
          5.248583333333334,
          5.729666666666667,
          5.860750000000001,
          5.356999999999999,
          6.862500000000001,
          5.439833333333333,
          5.813416666666669,
          5.669749999999999,
          6.477416666666667,
          6.848083333333333,
          5.598749999999998,
          5.350666666666665,
          5.186416666666666,
          5.606333333333334,
          5.1235,
          5.732749999999999,
          5.6700833333333325,
          5.889333333333333,
          6.4655,
          6.210666666666667,
          6.450499999999999,
          6.388583333333334,
          5.95475,
          6.5470000000000015,
          6.307,
          6.3503333333333325,
          6.464916666666667,
          6.766916666666666,
          6.767333333333332,
          6.765583333333335,
          7.008000000000001,
          6.729166666666666,
          6.869833333333333,
          7.003,
          6.873833333333333,
          6.863999999999998,
          6.689166666666665,
          5.63,
          4.941000000000001,
          4.611666666666666,
          4.76375,
          4.910666666666668,
          6.031083333333335,
          5.4232499999999995,
          5.272833333333334,
          4.744583333333333,
          5.267333333333335,
          5.999833333333334,
          5.787250000000001,
          5.997499999999998,
          6.714249999999999,
          6.813083333333334,
          6.356416666666667,
          7.099333333333334,
          6.8815,
          6.7970000000000015,
          7.365166666666664,
          6.516916666666668,
          6.622083333333332,
          7.085333333333334,
          6.107666666666667,
          5.909750000000001,
          6.7795,
          6.994500000000001,
          6.117166666666666,
          6.526416666666667,
          6.084749999999998,
          6.352583333333332,
          6.4528333333333325,
          6.805083333333334,
          6.736166666666667,
          7.12525,
          7.423833333333333,
          6.7203333333333335,
          6.969666666666668,
          7.5009999999999994,
          7.185333333333333,
          7.108166666666667,
          7.070833333333334,
          7.024249999999999,
          7.296666666666665,
          7.181916666666664,
          7.206833333333333,
          7.384833333333333,
          7.223583333333331,
          7.235166666666666,
          7.007083333333334,
          7.400500000000001,
          7.577333333333334,
          7.334833333333333,
          7.193083333333335,
          6.869666666666667,
          7.363833333333333,
          7.307166666666668,
          7.515666666666667,
          7.686166666666665,
          7.801500000000001,
          7.701583333333334,
          7.836416666666667,
          7.651166666666666,
          7.544833333333333,
          7.604749999999998,
          7.800583333333334,
          7.915583333333334,
          7.408083333333334,
          7.646583333333333,
          8.083666666666666,
          8.404833333333332,
          7.702416666666667,
          7.703833333333332,
          7.851583333333333,
          7.7490000000000006,
          7.606249999999998,
          7.377416666666667,
          7.494666666666668,
          7.5684999999999985,
          7.522833333333333,
          7.708083333333334,
          7.949166666666666,
          7.628666666666667,
          7.684,
          7.7269999999999985,
          7.711499999999999,
          7.84375,
          7.8477500000000004,
          7.906083333333332,
          7.979500000000002,
          7.852333333333332,
          8.071583333333333,
          8.186833333333333,
          8.235666666666665,
          8.011666666666667,
          7.9301666666666675,
          7.8045,
          7.946416666666665,
          8.104166666666666,
          7.69,
          7.911333333333334,
          7.915500000000001,
          7.9629166666666675,
          7.929166666666668,
          7.907000000000001,
          8.035499999999999,
          8.338583333333334,
          8.346999999999998,
          7.964833333333334,
          7.762666666666665,
          7.8625833333333315,
          8.1155,
          8.096083333333334,
          8.314166666666667,
          8.149416666666665,
          8.169083333333333,
          8.250000000000002,
          8.293666666666667,
          8.486166666666666,
          8.273166666666667,
          8.383583333333336,
          7.990666666666665,
          8.393916666666666,
          8.4815,
          8.456333333333335,
          8.095583333333334,
          8.388250000000003,
          8.279833333333334,
          8.310916666666667,
          8.45825,
          8.623166666666664,
          8.523,
          8.533583333333333,
          8.540833333333335,
          8.498916666666666,
          8.5285,
          8.619833333333334,
          8.3645,
          8.454500000000003,
          8.58,
          8.537166666666668,
          8.378499999999999,
          8.178916666666668,
          8.4415,
          8.4295,
          8.661666666666667,
          8.3735,
          8.472666666666667,
          8.15875,
          8.5745,
          8.669416666666667,
          8.625499999999999,
          8.49025,
          8.700666666666667,
          8.613,
          8.763666666666667,
          8.317166666666667,
          8.418583333333334,
          8.507083333333332,
          8.616416666666668,
          8.404666666666667,
          8.509916666666667,
          8.625333333333334,
          8.501333333333333,
          8.404250000000001,
          8.847499999999998,
          8.363,
          8.64775,
          8.246666666666666,
          8.765583333333332,
          8.588916666666664,
          8.646999999999998,
          8.873666666666665,
          9.078583333333334,
          8.5565,
          8.934166666666666,
          8.589250000000002,
          8.56475,
          8.74858333333333,
          8.909250000000002,
          9.121500000000001,
          8.834,
          9.147833333333333,
          9.117333333333333,
          8.753249999999998,
          8.78525,
          8.967833333333331,
          9.270666666666665,
          8.954166666666667,
          9.113999999999999,
          9.448749999999999,
          9.205833333333333,
          9.117666666666667,
          9.327166666666669,
          9.498,
          9.434916666666666,
          9.241166666666667,
          9.62575,
          9.442499999999999,
          9.642666666666665,
          9.352833333333335,
          9.419333333333336,
          9.619666666666665,
          9.434,
          9.423916666666667,
          9.508833333333332,
          9.4805,
          9.73883333333333
         ],
         "yaxis": "y"
        }
       ],
       "layout": {
        "legend": {
         "title": {
          "text": "variable"
         },
         "tracegroupgap": 0
        },
        "template": {
         "data": {
          "bar": [
           {
            "error_x": {
             "color": "#2a3f5f"
            },
            "error_y": {
             "color": "#2a3f5f"
            },
            "marker": {
             "line": {
              "color": "#E5ECF6",
              "width": 0.5
             }
            },
            "type": "bar"
           }
          ],
          "barpolar": [
           {
            "marker": {
             "line": {
              "color": "#E5ECF6",
              "width": 0.5
             }
            },
            "type": "barpolar"
           }
          ],
          "carpet": [
           {
            "aaxis": {
             "endlinecolor": "#2a3f5f",
             "gridcolor": "white",
             "linecolor": "white",
             "minorgridcolor": "white",
             "startlinecolor": "#2a3f5f"
            },
            "baxis": {
             "endlinecolor": "#2a3f5f",
             "gridcolor": "white",
             "linecolor": "white",
             "minorgridcolor": "white",
             "startlinecolor": "#2a3f5f"
            },
            "type": "carpet"
           }
          ],
          "choropleth": [
           {
            "colorbar": {
             "outlinewidth": 0,
             "ticks": ""
            },
            "type": "choropleth"
           }
          ],
          "contour": [
           {
            "colorbar": {
             "outlinewidth": 0,
             "ticks": ""
            },
            "colorscale": [
             [
              0.0,
              "#0d0887"
             ],
             [
              0.1111111111111111,
              "#46039f"
             ],
             [
              0.2222222222222222,
              "#7201a8"
             ],
             [
              0.3333333333333333,
              "#9c179e"
             ],
             [
              0.4444444444444444,
              "#bd3786"
             ],
             [
              0.5555555555555556,
              "#d8576b"
             ],
             [
              0.6666666666666666,
              "#ed7953"
             ],
             [
              0.7777777777777778,
              "#fb9f3a"
             ],
             [
              0.8888888888888888,
              "#fdca26"
             ],
             [
              1.0,
              "#f0f921"
             ]
            ],
            "type": "contour"
           }
          ],
          "contourcarpet": [
           {
            "colorbar": {
             "outlinewidth": 0,
             "ticks": ""
            },
            "type": "contourcarpet"
           }
          ],
          "heatmap": [
           {
            "colorbar": {
             "outlinewidth": 0,
             "ticks": ""
            },
            "colorscale": [
             [
              0.0,
              "#0d0887"
             ],
             [
              0.1111111111111111,
              "#46039f"
             ],
             [
              0.2222222222222222,
              "#7201a8"
             ],
             [
              0.3333333333333333,
              "#9c179e"
             ],
             [
              0.4444444444444444,
              "#bd3786"
             ],
             [
              0.5555555555555556,
              "#d8576b"
             ],
             [
              0.6666666666666666,
              "#ed7953"
             ],
             [
              0.7777777777777778,
              "#fb9f3a"
             ],
             [
              0.8888888888888888,
              "#fdca26"
             ],
             [
              1.0,
              "#f0f921"
             ]
            ],
            "type": "heatmap"
           }
          ],
          "heatmapgl": [
           {
            "colorbar": {
             "outlinewidth": 0,
             "ticks": ""
            },
            "colorscale": [
             [
              0.0,
              "#0d0887"
             ],
             [
              0.1111111111111111,
              "#46039f"
             ],
             [
              0.2222222222222222,
              "#7201a8"
             ],
             [
              0.3333333333333333,
              "#9c179e"
             ],
             [
              0.4444444444444444,
              "#bd3786"
             ],
             [
              0.5555555555555556,
              "#d8576b"
             ],
             [
              0.6666666666666666,
              "#ed7953"
             ],
             [
              0.7777777777777778,
              "#fb9f3a"
             ],
             [
              0.8888888888888888,
              "#fdca26"
             ],
             [
              1.0,
              "#f0f921"
             ]
            ],
            "type": "heatmapgl"
           }
          ],
          "histogram": [
           {
            "marker": {
             "colorbar": {
              "outlinewidth": 0,
              "ticks": ""
             }
            },
            "type": "histogram"
           }
          ],
          "histogram2d": [
           {
            "colorbar": {
             "outlinewidth": 0,
             "ticks": ""
            },
            "colorscale": [
             [
              0.0,
              "#0d0887"
             ],
             [
              0.1111111111111111,
              "#46039f"
             ],
             [
              0.2222222222222222,
              "#7201a8"
             ],
             [
              0.3333333333333333,
              "#9c179e"
             ],
             [
              0.4444444444444444,
              "#bd3786"
             ],
             [
              0.5555555555555556,
              "#d8576b"
             ],
             [
              0.6666666666666666,
              "#ed7953"
             ],
             [
              0.7777777777777778,
              "#fb9f3a"
             ],
             [
              0.8888888888888888,
              "#fdca26"
             ],
             [
              1.0,
              "#f0f921"
             ]
            ],
            "type": "histogram2d"
           }
          ],
          "histogram2dcontour": [
           {
            "colorbar": {
             "outlinewidth": 0,
             "ticks": ""
            },
            "colorscale": [
             [
              0.0,
              "#0d0887"
             ],
             [
              0.1111111111111111,
              "#46039f"
             ],
             [
              0.2222222222222222,
              "#7201a8"
             ],
             [
              0.3333333333333333,
              "#9c179e"
             ],
             [
              0.4444444444444444,
              "#bd3786"
             ],
             [
              0.5555555555555556,
              "#d8576b"
             ],
             [
              0.6666666666666666,
              "#ed7953"
             ],
             [
              0.7777777777777778,
              "#fb9f3a"
             ],
             [
              0.8888888888888888,
              "#fdca26"
             ],
             [
              1.0,
              "#f0f921"
             ]
            ],
            "type": "histogram2dcontour"
           }
          ],
          "mesh3d": [
           {
            "colorbar": {
             "outlinewidth": 0,
             "ticks": ""
            },
            "type": "mesh3d"
           }
          ],
          "parcoords": [
           {
            "line": {
             "colorbar": {
              "outlinewidth": 0,
              "ticks": ""
             }
            },
            "type": "parcoords"
           }
          ],
          "pie": [
           {
            "automargin": true,
            "type": "pie"
           }
          ],
          "scatter": [
           {
            "marker": {
             "colorbar": {
              "outlinewidth": 0,
              "ticks": ""
             }
            },
            "type": "scatter"
           }
          ],
          "scatter3d": [
           {
            "line": {
             "colorbar": {
              "outlinewidth": 0,
              "ticks": ""
             }
            },
            "marker": {
             "colorbar": {
              "outlinewidth": 0,
              "ticks": ""
             }
            },
            "type": "scatter3d"
           }
          ],
          "scattercarpet": [
           {
            "marker": {
             "colorbar": {
              "outlinewidth": 0,
              "ticks": ""
             }
            },
            "type": "scattercarpet"
           }
          ],
          "scattergeo": [
           {
            "marker": {
             "colorbar": {
              "outlinewidth": 0,
              "ticks": ""
             }
            },
            "type": "scattergeo"
           }
          ],
          "scattergl": [
           {
            "marker": {
             "colorbar": {
              "outlinewidth": 0,
              "ticks": ""
             }
            },
            "type": "scattergl"
           }
          ],
          "scattermapbox": [
           {
            "marker": {
             "colorbar": {
              "outlinewidth": 0,
              "ticks": ""
             }
            },
            "type": "scattermapbox"
           }
          ],
          "scatterpolar": [
           {
            "marker": {
             "colorbar": {
              "outlinewidth": 0,
              "ticks": ""
             }
            },
            "type": "scatterpolar"
           }
          ],
          "scatterpolargl": [
           {
            "marker": {
             "colorbar": {
              "outlinewidth": 0,
              "ticks": ""
             }
            },
            "type": "scatterpolargl"
           }
          ],
          "scatterternary": [
           {
            "marker": {
             "colorbar": {
              "outlinewidth": 0,
              "ticks": ""
             }
            },
            "type": "scatterternary"
           }
          ],
          "surface": [
           {
            "colorbar": {
             "outlinewidth": 0,
             "ticks": ""
            },
            "colorscale": [
             [
              0.0,
              "#0d0887"
             ],
             [
              0.1111111111111111,
              "#46039f"
             ],
             [
              0.2222222222222222,
              "#7201a8"
             ],
             [
              0.3333333333333333,
              "#9c179e"
             ],
             [
              0.4444444444444444,
              "#bd3786"
             ],
             [
              0.5555555555555556,
              "#d8576b"
             ],
             [
              0.6666666666666666,
              "#ed7953"
             ],
             [
              0.7777777777777778,
              "#fb9f3a"
             ],
             [
              0.8888888888888888,
              "#fdca26"
             ],
             [
              1.0,
              "#f0f921"
             ]
            ],
            "type": "surface"
           }
          ],
          "table": [
           {
            "cells": {
             "fill": {
              "color": "#EBF0F8"
             },
             "line": {
              "color": "white"
             }
            },
            "header": {
             "fill": {
              "color": "#C8D4E3"
             },
             "line": {
              "color": "white"
             }
            },
            "type": "table"
           }
          ]
         },
         "layout": {
          "annotationdefaults": {
           "arrowcolor": "#2a3f5f",
           "arrowhead": 0,
           "arrowwidth": 1
          },
          "autotypenumbers": "strict",
          "coloraxis": {
           "colorbar": {
            "outlinewidth": 0,
            "ticks": ""
           }
          },
          "colorscale": {
           "diverging": [
            [
             0,
             "#8e0152"
            ],
            [
             0.1,
             "#c51b7d"
            ],
            [
             0.2,
             "#de77ae"
            ],
            [
             0.3,
             "#f1b6da"
            ],
            [
             0.4,
             "#fde0ef"
            ],
            [
             0.5,
             "#f7f7f7"
            ],
            [
             0.6,
             "#e6f5d0"
            ],
            [
             0.7,
             "#b8e186"
            ],
            [
             0.8,
             "#7fbc41"
            ],
            [
             0.9,
             "#4d9221"
            ],
            [
             1,
             "#276419"
            ]
           ],
           "sequential": [
            [
             0.0,
             "#0d0887"
            ],
            [
             0.1111111111111111,
             "#46039f"
            ],
            [
             0.2222222222222222,
             "#7201a8"
            ],
            [
             0.3333333333333333,
             "#9c179e"
            ],
            [
             0.4444444444444444,
             "#bd3786"
            ],
            [
             0.5555555555555556,
             "#d8576b"
            ],
            [
             0.6666666666666666,
             "#ed7953"
            ],
            [
             0.7777777777777778,
             "#fb9f3a"
            ],
            [
             0.8888888888888888,
             "#fdca26"
            ],
            [
             1.0,
             "#f0f921"
            ]
           ],
           "sequentialminus": [
            [
             0.0,
             "#0d0887"
            ],
            [
             0.1111111111111111,
             "#46039f"
            ],
            [
             0.2222222222222222,
             "#7201a8"
            ],
            [
             0.3333333333333333,
             "#9c179e"
            ],
            [
             0.4444444444444444,
             "#bd3786"
            ],
            [
             0.5555555555555556,
             "#d8576b"
            ],
            [
             0.6666666666666666,
             "#ed7953"
            ],
            [
             0.7777777777777778,
             "#fb9f3a"
            ],
            [
             0.8888888888888888,
             "#fdca26"
            ],
            [
             1.0,
             "#f0f921"
            ]
           ]
          },
          "colorway": [
           "#636efa",
           "#EF553B",
           "#00cc96",
           "#ab63fa",
           "#FFA15A",
           "#19d3f3",
           "#FF6692",
           "#B6E880",
           "#FF97FF",
           "#FECB52"
          ],
          "font": {
           "color": "#2a3f5f"
          },
          "geo": {
           "bgcolor": "white",
           "lakecolor": "white",
           "landcolor": "#E5ECF6",
           "showlakes": true,
           "showland": true,
           "subunitcolor": "white"
          },
          "hoverlabel": {
           "align": "left"
          },
          "hovermode": "closest",
          "mapbox": {
           "style": "light"
          },
          "paper_bgcolor": "white",
          "plot_bgcolor": "#E5ECF6",
          "polar": {
           "angularaxis": {
            "gridcolor": "white",
            "linecolor": "white",
            "ticks": ""
           },
           "bgcolor": "#E5ECF6",
           "radialaxis": {
            "gridcolor": "white",
            "linecolor": "white",
            "ticks": ""
           }
          },
          "scene": {
           "xaxis": {
            "backgroundcolor": "#E5ECF6",
            "gridcolor": "white",
            "gridwidth": 2,
            "linecolor": "white",
            "showbackground": true,
            "ticks": "",
            "zerolinecolor": "white"
           },
           "yaxis": {
            "backgroundcolor": "#E5ECF6",
            "gridcolor": "white",
            "gridwidth": 2,
            "linecolor": "white",
            "showbackground": true,
            "ticks": "",
            "zerolinecolor": "white"
           },
           "zaxis": {
            "backgroundcolor": "#E5ECF6",
            "gridcolor": "white",
            "gridwidth": 2,
            "linecolor": "white",
            "showbackground": true,
            "ticks": "",
            "zerolinecolor": "white"
           }
          },
          "shapedefaults": {
           "line": {
            "color": "#2a3f5f"
           }
          },
          "ternary": {
           "aaxis": {
            "gridcolor": "white",
            "linecolor": "white",
            "ticks": ""
           },
           "baxis": {
            "gridcolor": "white",
            "linecolor": "white",
            "ticks": ""
           },
           "bgcolor": "#E5ECF6",
           "caxis": {
            "gridcolor": "white",
            "linecolor": "white",
            "ticks": ""
           }
          },
          "title": {
           "x": 0.05
          },
          "xaxis": {
           "automargin": true,
           "gridcolor": "white",
           "linecolor": "white",
           "ticks": "",
           "title": {
            "standoff": 15
           },
           "zerolinecolor": "white",
           "zerolinewidth": 2
          },
          "yaxis": {
           "automargin": true,
           "gridcolor": "white",
           "linecolor": "white",
           "ticks": "",
           "title": {
            "standoff": 15
           },
           "zerolinecolor": "white",
           "zerolinewidth": 2
          }
         }
        },
        "title": {
         "text": "Average Land Tmeperature in World"
        },
        "xaxis": {
         "anchor": "y",
         "domain": [
          0.0,
          1.0
         ],
         "title": {
          "text": "years"
         }
        },
        "yaxis": {
         "anchor": "x",
         "domain": [
          0.0,
          1.0
         ],
         "title": {
          "text": "value"
         }
        }
       }
      },
      "text/html": [
       "<div>                            <div id=\"9aba2ade-e931-4be7-859f-249f53382117\" class=\"plotly-graph-div\" style=\"height:525px; width:100%;\"></div>            <script type=\"text/javascript\">                require([\"plotly\"], function(Plotly) {                    window.PLOTLYENV=window.PLOTLYENV || {};                                    if (document.getElementById(\"9aba2ade-e931-4be7-859f-249f53382117\")) {                    Plotly.newPlot(                        \"9aba2ade-e931-4be7-859f-249f53382117\",                        [{\"hovertemplate\": \"variable=LandAverageTemperature<br>years=%{x}<br>value=%{y}<extra></extra>\", \"legendgroup\": \"LandAverageTemperature\", \"line\": {\"color\": \"#636efa\", \"dash\": \"solid\"}, \"mode\": \"lines\", \"name\": \"LandAverageTemperature\", \"orientation\": \"v\", \"showlegend\": true, \"type\": \"scatter\", \"x\": [\"1750\", \"1751\", \"1752\", \"1753\", \"1754\", \"1755\", \"1756\", \"1757\", \"1758\", \"1759\", \"1760\", \"1761\", \"1762\", \"1763\", \"1764\", \"1765\", \"1766\", \"1767\", \"1768\", \"1769\", \"1770\", \"1771\", \"1772\", \"1773\", \"1774\", \"1775\", \"1776\", \"1777\", \"1778\", \"1779\", \"1780\", \"1781\", \"1782\", \"1783\", \"1784\", \"1785\", \"1786\", \"1787\", \"1788\", \"1789\", \"1790\", \"1791\", \"1792\", \"1793\", \"1794\", \"1795\", \"1796\", \"1797\", \"1798\", \"1799\", \"1800\", \"1801\", \"1802\", \"1803\", \"1804\", \"1805\", \"1806\", \"1807\", \"1808\", \"1809\", \"1810\", \"1811\", \"1812\", \"1813\", \"1814\", \"1815\", \"1816\", \"1817\", \"1818\", \"1819\", \"1820\", \"1821\", \"1822\", \"1823\", \"1824\", \"1825\", \"1826\", \"1827\", \"1828\", \"1829\", \"1830\", \"1831\", \"1832\", \"1833\", \"1834\", \"1835\", \"1836\", \"1837\", \"1838\", \"1839\", \"1840\", \"1841\", \"1842\", \"1843\", \"1844\", \"1845\", \"1846\", \"1847\", \"1848\", \"1849\", \"1850\", \"1851\", \"1852\", \"1853\", \"1854\", \"1855\", \"1856\", \"1857\", \"1858\", \"1859\", \"1860\", \"1861\", \"1862\", \"1863\", \"1864\", \"1865\", \"1866\", \"1867\", \"1868\", \"1869\", \"1870\", \"1871\", \"1872\", \"1873\", \"1874\", \"1875\", \"1876\", \"1877\", \"1878\", \"1879\", \"1880\", \"1881\", \"1882\", \"1883\", \"1884\", \"1885\", \"1886\", \"1887\", \"1888\", \"1889\", \"1890\", \"1891\", \"1892\", \"1893\", \"1894\", \"1895\", \"1896\", \"1897\", \"1898\", \"1899\", \"1900\", \"1901\", \"1902\", \"1903\", \"1904\", \"1905\", \"1906\", \"1907\", \"1908\", \"1909\", \"1910\", \"1911\", \"1912\", \"1913\", \"1914\", \"1915\", \"1916\", \"1917\", \"1918\", \"1919\", \"1920\", \"1921\", \"1922\", \"1923\", \"1924\", \"1925\", \"1926\", \"1927\", \"1928\", \"1929\", \"1930\", \"1931\", \"1932\", \"1933\", \"1934\", \"1935\", \"1936\", \"1937\", \"1938\", \"1939\", \"1940\", \"1941\", \"1942\", \"1943\", \"1944\", \"1945\", \"1946\", \"1947\", \"1948\", \"1949\", \"1950\", \"1951\", \"1952\", \"1953\", \"1954\", \"1955\", \"1956\", \"1957\", \"1958\", \"1959\", \"1960\", \"1961\", \"1962\", \"1963\", \"1964\", \"1965\", \"1966\", \"1967\", \"1968\", \"1969\", \"1970\", \"1971\", \"1972\", \"1973\", \"1974\", \"1975\", \"1976\", \"1977\", \"1978\", \"1979\", \"1980\", \"1981\", \"1982\", \"1983\", \"1984\", \"1985\", \"1986\", \"1987\", \"1988\", \"1989\", \"1990\", \"1991\", \"1992\", \"1993\", \"1994\", \"1995\", \"1996\", \"1997\", \"1998\", \"1999\", \"2000\", \"2001\", \"2002\", \"2003\", \"2004\", \"2005\", \"2006\", \"2007\", \"2008\", \"2009\", \"2010\", \"2011\", \"2012\", \"2013\", \"2014\", \"2015\"], \"xaxis\": \"x\", \"y\": [8.719363636363637, 7.9761428571428565, 5.7798333333333325, 8.388083333333332, 8.469333333333335, 8.355583333333334, 8.849583333333333, 9.022, 6.743583333333333, 7.985083333333333, 7.185166666666667, 8.772499999999999, 8.6065, 7.496749999999999, 8.400333333333332, 8.251916666666666, 8.405666666666667, 8.221499999999999, 6.781333333333333, 7.694583333333334, 7.691916666666667, 7.8531666666666675, 8.1935, 8.2215, 8.772166666666665, 9.183083333333334, 8.304, 8.256250000000001, 8.54225, 8.98325, 9.432916666666667, 8.102583333333332, 7.901249999999998, 7.680833333333333, 7.862000000000001, 7.3629999999999995, 8.258166666666666, 8.031833333333333, 8.447166666666666, 8.334166666666667, 7.982333333333333, 8.23425, 8.089, 8.229166666666666, 8.526000000000002, 8.350333333333333, 8.270999999999999, 8.510583333333335, 8.67025, 8.505749999999999, 8.484250000000001, 8.589666666666668, 8.578166666666666, 8.503, 8.844833333333334, 8.56275, 8.434083333333332, 8.281416666666665, 7.626833333333333, 7.076416666666667, 6.922666666666665, 6.859500000000001, 7.046250000000001, 7.7399166666666686, 7.59175, 7.239333333333334, 6.9375, 6.975666666666668, 7.828916666666667, 7.3691666666666675, 7.616249999999998, 8.090083333333332, 8.188333333333334, 7.7186666666666675, 8.547166666666667, 8.389333333333333, 8.356583333333335, 8.808749999999998, 8.165333333333335, 7.941833333333332, 8.51675, 7.639166666666667, 7.450166666666667, 8.013, 8.14675, 7.392499999999999, 7.695833333333334, 7.375666666666665, 7.514916666666665, 7.632249999999999, 7.796250000000001, 7.688166666666667, 8.02275, 8.173666666666666, 7.646333333333334, 7.851166666666668, 8.55275, 8.086, 7.979500000000001, 7.984416666666667, 7.900666666666666, 8.178583333333332, 8.100166666666665, 8.041833333333333, 8.2105, 8.110749999999998, 7.995916666666666, 7.758166666666668, 8.10025, 8.252, 7.960833333333333, 7.846500000000002, 7.558583333333334, 8.111833333333333, 7.983583333333335, 8.177833333333334, 8.292166666666665, 8.436333333333334, 8.247916666666667, 8.432083333333333, 8.201333333333332, 8.115083333333333, 8.193833333333332, 8.351083333333333, 8.4335, 7.859583333333334, 8.080083333333333, 8.539583333333333, 8.829749999999999, 8.165833333333333, 8.118749999999999, 8.270916666666666, 8.128916666666667, 7.976916666666665, 7.773666666666667, 7.919666666666668, 7.954499999999999, 7.914916666666667, 8.0905, 8.318999999999999, 7.971666666666667, 8.019333333333334, 8.065833333333332, 8.05675, 8.161, 8.147, 8.214916666666666, 8.293333333333335, 8.177999999999999, 8.396333333333333, 8.501583333333333, 8.541916666666665, 8.304416666666667, 8.220166666666668, 8.090916666666667, 8.225166666666665, 8.379083333333332, 7.947166666666667, 8.186083333333334, 8.17825, 8.223, 8.177000000000001, 8.165416666666667, 8.297749999999999, 8.5905, 8.593166666666665, 8.22525, 8.023333333333332, 8.130833333333332, 8.38225, 8.35875, 8.571, 8.408, 8.422166666666666, 8.506833333333335, 8.534416666666667, 8.728833333333332, 8.522083333333333, 8.632166666666668, 8.242416666666665, 8.633583333333332, 8.71925, 8.705250000000001, 8.33825, 8.628333333333336, 8.51575, 8.554, 8.698333333333332, 8.863666666666665, 8.760333333333334, 8.764666666666667, 8.768666666666668, 8.728416666666666, 8.755083333333333, 8.845, 8.584833333333332, 8.676916666666669, 8.797083333333333, 8.74675, 8.586749999999999, 8.365250000000001, 8.625666666666666, 8.638250000000001, 8.873750000000001, 8.560666666666666, 8.62625, 8.279583333333333, 8.7325, 8.77375, 8.732666666666665, 8.58375, 8.797666666666666, 8.745916666666666, 8.856, 8.409666666666666, 8.527416666666667, 8.599333333333332, 8.700083333333334, 8.516333333333334, 8.595083333333333, 8.700916666666666, 8.59925, 8.499583333333334, 8.948249999999998, 8.4675, 8.744833333333334, 8.347249999999999, 8.850249999999999, 8.692749999999998, 8.733416666666665, 8.980333333333332, 9.165833333333333, 8.639166666666666, 9.028166666666666, 8.691833333333335, 8.658, 8.833583333333332, 8.994416666666668, 9.201583333333334, 8.921999999999999, 9.234166666666667, 9.179416666666667, 8.836583333333332, 8.866583333333333, 9.038749999999999, 9.347083333333332, 9.038916666666667, 9.202583333333333, 9.522666666666666, 9.285083333333333, 9.201166666666667, 9.414583333333335, 9.570416666666667, 9.525583333333334, 9.324583333333333, 9.700916666666666, 9.532499999999999, 9.732166666666664, 9.431750000000001, 9.505250000000002, 9.703083333333332, 9.516, 9.507333333333333, 9.606499999999999, 9.570666666666666, 9.830999999999998], \"yaxis\": \"y\"}, {\"hovertemplate\": \"variable=Uncertainty top<br>years=%{x}<br>value=%{y}<extra></extra>\", \"legendgroup\": \"Uncertainty top\", \"line\": {\"color\": \"#EF553B\", \"dash\": \"solid\"}, \"mode\": \"lines\", \"name\": \"Uncertainty top\", \"orientation\": \"v\", \"showlegend\": true, \"type\": \"scatter\", \"x\": [\"1750\", \"1751\", \"1752\", \"1753\", \"1754\", \"1755\", \"1756\", \"1757\", \"1758\", \"1759\", \"1760\", \"1761\", \"1762\", \"1763\", \"1764\", \"1765\", \"1766\", \"1767\", \"1768\", \"1769\", \"1770\", \"1771\", \"1772\", \"1773\", \"1774\", \"1775\", \"1776\", \"1777\", \"1778\", \"1779\", \"1780\", \"1781\", \"1782\", \"1783\", \"1784\", \"1785\", \"1786\", \"1787\", \"1788\", \"1789\", \"1790\", \"1791\", \"1792\", \"1793\", \"1794\", \"1795\", \"1796\", \"1797\", \"1798\", \"1799\", \"1800\", \"1801\", \"1802\", \"1803\", \"1804\", \"1805\", \"1806\", \"1807\", \"1808\", \"1809\", \"1810\", \"1811\", \"1812\", \"1813\", \"1814\", \"1815\", \"1816\", \"1817\", \"1818\", \"1819\", \"1820\", \"1821\", \"1822\", \"1823\", \"1824\", \"1825\", \"1826\", \"1827\", \"1828\", \"1829\", \"1830\", \"1831\", \"1832\", \"1833\", \"1834\", \"1835\", \"1836\", \"1837\", \"1838\", \"1839\", \"1840\", \"1841\", \"1842\", \"1843\", \"1844\", \"1845\", \"1846\", \"1847\", \"1848\", \"1849\", \"1850\", \"1851\", \"1852\", \"1853\", \"1854\", \"1855\", \"1856\", \"1857\", \"1858\", \"1859\", \"1860\", \"1861\", \"1862\", \"1863\", \"1864\", \"1865\", \"1866\", \"1867\", \"1868\", \"1869\", \"1870\", \"1871\", \"1872\", \"1873\", \"1874\", \"1875\", \"1876\", \"1877\", \"1878\", \"1879\", \"1880\", \"1881\", \"1882\", \"1883\", \"1884\", \"1885\", \"1886\", \"1887\", \"1888\", \"1889\", \"1890\", \"1891\", \"1892\", \"1893\", \"1894\", \"1895\", \"1896\", \"1897\", \"1898\", \"1899\", \"1900\", \"1901\", \"1902\", \"1903\", \"1904\", \"1905\", \"1906\", \"1907\", \"1908\", \"1909\", \"1910\", \"1911\", \"1912\", \"1913\", \"1914\", \"1915\", \"1916\", \"1917\", \"1918\", \"1919\", \"1920\", \"1921\", \"1922\", \"1923\", \"1924\", \"1925\", \"1926\", \"1927\", \"1928\", \"1929\", \"1930\", \"1931\", \"1932\", \"1933\", \"1934\", \"1935\", \"1936\", \"1937\", \"1938\", \"1939\", \"1940\", \"1941\", \"1942\", \"1943\", \"1944\", \"1945\", \"1946\", \"1947\", \"1948\", \"1949\", \"1950\", \"1951\", \"1952\", \"1953\", \"1954\", \"1955\", \"1956\", \"1957\", \"1958\", \"1959\", \"1960\", \"1961\", \"1962\", \"1963\", \"1964\", \"1965\", \"1966\", \"1967\", \"1968\", \"1969\", \"1970\", \"1971\", \"1972\", \"1973\", \"1974\", \"1975\", \"1976\", \"1977\", \"1978\", \"1979\", \"1980\", \"1981\", \"1982\", \"1983\", \"1984\", \"1985\", \"1986\", \"1987\", \"1988\", \"1989\", \"1990\", \"1991\", \"1992\", \"1993\", \"1994\", \"1995\", \"1996\", \"1997\", \"1998\", \"1999\", \"2000\", \"2001\", \"2002\", \"2003\", \"2004\", \"2005\", \"2006\", \"2007\", \"2008\", \"2009\", \"2010\", \"2011\", \"2012\", \"2013\", \"2014\", \"2015\"], \"xaxis\": \"x\", \"y\": [11.357181818181818, 10.757285714285715, 8.756833333333333, 11.564083333333333, 11.963583333333336, 12.205916666666667, 12.111916666666668, 13.048000000000002, 10.1065, 11.664, 10.274083333333333, 11.917333333333332, 12.13075, 10.648333333333332, 11.175583333333332, 10.679666666666666, 11.2415, 11.184166666666666, 9.047333333333334, 10.104666666666667, 10.472583333333333, 10.45775, 10.657333333333334, 10.58225, 12.187333333333331, 11.503666666666668, 11.168166666666668, 10.699083333333334, 11.41475, 11.489083333333333, 12.017750000000001, 10.606416666666664, 10.451833333333331, 10.17525, 10.117666666666668, 9.6025, 10.783583333333333, 10.393583333333334, 11.004999999999999, 10.202833333333333, 9.754, 10.018, 9.789416666666668, 10.503583333333331, 10.505, 10.393666666666666, 10.191666666666666, 10.556250000000002, 10.573583333333332, 10.244166666666665, 10.202916666666669, 10.171333333333335, 10.427166666666666, 10.136166666666666, 10.686666666666667, 10.251666666666665, 10.004166666666665, 9.873666666666665, 9.623666666666665, 9.211833333333333, 9.233666666666664, 8.955250000000001, 9.181833333333334, 9.448750000000002, 9.760250000000001, 9.205833333333334, 9.130416666666667, 8.684000000000001, 9.658000000000001, 8.951083333333333, 9.235, 9.465916666666665, 9.563583333333334, 9.080916666666667, 9.995000000000001, 9.897166666666667, 9.916166666666669, 10.25233333333333, 9.81375, 9.261583333333332, 9.948166666666667, 9.170666666666667, 8.990583333333333, 9.2465, 9.299000000000001, 8.667833333333332, 8.86525, 8.666583333333332, 8.677249999999999, 8.811666666666666, 8.787416666666667, 8.640166666666666, 8.92025, 8.923499999999999, 8.572333333333333, 8.732666666666667, 9.6045, 8.986666666666666, 8.850833333333334, 8.898, 8.777083333333334, 9.0605, 9.018416666666665, 8.876833333333334, 9.036166666666666, 8.997916666666665, 8.756666666666666, 8.509250000000002, 8.8, 8.926666666666668, 8.586833333333333, 8.499916666666667, 8.2475, 8.859833333333333, 8.660000000000002, 8.84, 8.898166666666665, 9.071166666666667, 8.79425, 9.02775, 8.7515, 8.685333333333332, 8.782916666666665, 8.901583333333333, 8.951416666666667, 8.311083333333334, 8.513583333333333, 8.9955, 9.254666666666665, 8.62925, 8.533666666666665, 8.69025, 8.508833333333333, 8.347583333333333, 8.169916666666667, 8.344666666666669, 8.340499999999999, 8.307, 8.472916666666666, 8.688833333333333, 8.314666666666668, 8.354666666666667, 8.404666666666666, 8.402, 8.47825, 8.446250000000001, 8.52375, 8.607166666666668, 8.503666666666666, 8.721083333333333, 8.816333333333333, 8.848166666666666, 8.597166666666666, 8.510166666666667, 8.377333333333333, 8.503916666666665, 8.653999999999998, 8.204333333333334, 8.460833333333333, 8.441, 8.483083333333335, 8.424833333333336, 8.423833333333334, 8.559999999999999, 8.842416666666667, 8.839333333333332, 8.485666666666667, 8.283999999999999, 8.399083333333332, 8.649000000000001, 8.621416666666667, 8.827833333333333, 8.666583333333334, 8.675249999999998, 8.763666666666667, 8.775166666666667, 8.971499999999999, 8.770999999999999, 8.88075, 8.494166666666665, 8.873249999999999, 8.957, 8.954166666666667, 8.580916666666667, 8.868416666666668, 8.751666666666667, 8.797083333333333, 8.938416666666665, 9.104166666666666, 8.997666666666667, 8.995750000000001, 8.996500000000001, 8.957916666666666, 8.981666666666667, 9.070166666666667, 8.805166666666665, 8.899333333333335, 9.014166666666666, 8.956333333333333, 8.794999999999998, 8.551583333333335, 8.809833333333332, 8.847000000000001, 9.085833333333335, 8.747833333333332, 8.779833333333334, 8.400416666666667, 8.8905, 8.878083333333333, 8.839833333333331, 8.67725, 8.894666666666666, 8.878833333333333, 8.948333333333332, 8.502166666666666, 8.63625, 8.691583333333332, 8.78375, 8.628, 8.68025, 8.776499999999999, 8.697166666666666, 8.594916666666666, 9.048999999999998, 8.572, 8.841916666666668, 8.447833333333332, 8.934916666666666, 8.796583333333333, 8.819833333333332, 9.087, 9.253083333333333, 8.721833333333333, 9.122166666666665, 8.794416666666669, 8.751249999999999, 8.918583333333332, 9.079583333333334, 9.281666666666666, 9.009999999999998, 9.320500000000001, 9.2415, 8.919916666666666, 8.947916666666666, 9.109666666666666, 9.423499999999999, 9.123666666666667, 9.291166666666667, 9.596583333333333, 9.364333333333333, 9.284666666666668, 9.502, 9.642833333333334, 9.61625, 9.408, 9.776083333333332, 9.622499999999999, 9.821666666666664, 9.510666666666667, 9.591166666666668, 9.786499999999998, 9.598, 9.59075, 9.704166666666666, 9.660833333333333, 9.923166666666665], \"yaxis\": \"y\"}, {\"hovertemplate\": \"variable=Uncertainty bottom<br>years=%{x}<br>value=%{y}<extra></extra>\", \"legendgroup\": \"Uncertainty bottom\", \"line\": {\"color\": \"#00cc96\", \"dash\": \"solid\"}, \"mode\": \"lines\", \"name\": \"Uncertainty bottom\", \"orientation\": \"v\", \"showlegend\": true, \"type\": \"scatter\", \"x\": [\"1750\", \"1751\", \"1752\", \"1753\", \"1754\", \"1755\", \"1756\", \"1757\", \"1758\", \"1759\", \"1760\", \"1761\", \"1762\", \"1763\", \"1764\", \"1765\", \"1766\", \"1767\", \"1768\", \"1769\", \"1770\", \"1771\", \"1772\", \"1773\", \"1774\", \"1775\", \"1776\", \"1777\", \"1778\", \"1779\", \"1780\", \"1781\", \"1782\", \"1783\", \"1784\", \"1785\", \"1786\", \"1787\", \"1788\", \"1789\", \"1790\", \"1791\", \"1792\", \"1793\", \"1794\", \"1795\", \"1796\", \"1797\", \"1798\", \"1799\", \"1800\", \"1801\", \"1802\", \"1803\", \"1804\", \"1805\", \"1806\", \"1807\", \"1808\", \"1809\", \"1810\", \"1811\", \"1812\", \"1813\", \"1814\", \"1815\", \"1816\", \"1817\", \"1818\", \"1819\", \"1820\", \"1821\", \"1822\", \"1823\", \"1824\", \"1825\", \"1826\", \"1827\", \"1828\", \"1829\", \"1830\", \"1831\", \"1832\", \"1833\", \"1834\", \"1835\", \"1836\", \"1837\", \"1838\", \"1839\", \"1840\", \"1841\", \"1842\", \"1843\", \"1844\", \"1845\", \"1846\", \"1847\", \"1848\", \"1849\", \"1850\", \"1851\", \"1852\", \"1853\", \"1854\", \"1855\", \"1856\", \"1857\", \"1858\", \"1859\", \"1860\", \"1861\", \"1862\", \"1863\", \"1864\", \"1865\", \"1866\", \"1867\", \"1868\", \"1869\", \"1870\", \"1871\", \"1872\", \"1873\", \"1874\", \"1875\", \"1876\", \"1877\", \"1878\", \"1879\", \"1880\", \"1881\", \"1882\", \"1883\", \"1884\", \"1885\", \"1886\", \"1887\", \"1888\", \"1889\", \"1890\", \"1891\", \"1892\", \"1893\", \"1894\", \"1895\", \"1896\", \"1897\", \"1898\", \"1899\", \"1900\", \"1901\", \"1902\", \"1903\", \"1904\", \"1905\", \"1906\", \"1907\", \"1908\", \"1909\", \"1910\", \"1911\", \"1912\", \"1913\", \"1914\", \"1915\", \"1916\", \"1917\", \"1918\", \"1919\", \"1920\", \"1921\", \"1922\", \"1923\", \"1924\", \"1925\", \"1926\", \"1927\", \"1928\", \"1929\", \"1930\", \"1931\", \"1932\", \"1933\", \"1934\", \"1935\", \"1936\", \"1937\", \"1938\", \"1939\", \"1940\", \"1941\", \"1942\", \"1943\", \"1944\", \"1945\", \"1946\", \"1947\", \"1948\", \"1949\", \"1950\", \"1951\", \"1952\", \"1953\", \"1954\", \"1955\", \"1956\", \"1957\", \"1958\", \"1959\", \"1960\", \"1961\", \"1962\", \"1963\", \"1964\", \"1965\", \"1966\", \"1967\", \"1968\", \"1969\", \"1970\", \"1971\", \"1972\", \"1973\", \"1974\", \"1975\", \"1976\", \"1977\", \"1978\", \"1979\", \"1980\", \"1981\", \"1982\", \"1983\", \"1984\", \"1985\", \"1986\", \"1987\", \"1988\", \"1989\", \"1990\", \"1991\", \"1992\", \"1993\", \"1994\", \"1995\", \"1996\", \"1997\", \"1998\", \"1999\", \"2000\", \"2001\", \"2002\", \"2003\", \"2004\", \"2005\", \"2006\", \"2007\", \"2008\", \"2009\", \"2010\", \"2011\", \"2012\", \"2013\", \"2014\", \"2015\"], \"xaxis\": \"x\", \"y\": [6.081545454545456, 5.194999999999999, 2.8028333333333326, 5.212083333333332, 4.975083333333334, 4.50525, 5.587249999999999, 4.9959999999999996, 3.3806666666666656, 4.306166666666666, 4.096250000000001, 5.627666666666666, 5.08225, 4.345166666666666, 5.6250833333333325, 5.824166666666666, 5.569833333333333, 5.258833333333332, 4.515333333333333, 5.284500000000001, 4.91125, 5.248583333333334, 5.729666666666667, 5.860750000000001, 5.356999999999999, 6.862500000000001, 5.439833333333333, 5.813416666666669, 5.669749999999999, 6.477416666666667, 6.848083333333333, 5.598749999999998, 5.350666666666665, 5.186416666666666, 5.606333333333334, 5.1235, 5.732749999999999, 5.6700833333333325, 5.889333333333333, 6.4655, 6.210666666666667, 6.450499999999999, 6.388583333333334, 5.95475, 6.5470000000000015, 6.307, 6.3503333333333325, 6.464916666666667, 6.766916666666666, 6.767333333333332, 6.765583333333335, 7.008000000000001, 6.729166666666666, 6.869833333333333, 7.003, 6.873833333333333, 6.863999999999998, 6.689166666666665, 5.63, 4.941000000000001, 4.611666666666666, 4.76375, 4.910666666666668, 6.031083333333335, 5.4232499999999995, 5.272833333333334, 4.744583333333333, 5.267333333333335, 5.999833333333334, 5.787250000000001, 5.997499999999998, 6.714249999999999, 6.813083333333334, 6.356416666666667, 7.099333333333334, 6.8815, 6.7970000000000015, 7.365166666666664, 6.516916666666668, 6.622083333333332, 7.085333333333334, 6.107666666666667, 5.909750000000001, 6.7795, 6.994500000000001, 6.117166666666666, 6.526416666666667, 6.084749999999998, 6.352583333333332, 6.4528333333333325, 6.805083333333334, 6.736166666666667, 7.12525, 7.423833333333333, 6.7203333333333335, 6.969666666666668, 7.5009999999999994, 7.185333333333333, 7.108166666666667, 7.070833333333334, 7.024249999999999, 7.296666666666665, 7.181916666666664, 7.206833333333333, 7.384833333333333, 7.223583333333331, 7.235166666666666, 7.007083333333334, 7.400500000000001, 7.577333333333334, 7.334833333333333, 7.193083333333335, 6.869666666666667, 7.363833333333333, 7.307166666666668, 7.515666666666667, 7.686166666666665, 7.801500000000001, 7.701583333333334, 7.836416666666667, 7.651166666666666, 7.544833333333333, 7.604749999999998, 7.800583333333334, 7.915583333333334, 7.408083333333334, 7.646583333333333, 8.083666666666666, 8.404833333333332, 7.702416666666667, 7.703833333333332, 7.851583333333333, 7.7490000000000006, 7.606249999999998, 7.377416666666667, 7.494666666666668, 7.5684999999999985, 7.522833333333333, 7.708083333333334, 7.949166666666666, 7.628666666666667, 7.684, 7.7269999999999985, 7.711499999999999, 7.84375, 7.8477500000000004, 7.906083333333332, 7.979500000000002, 7.852333333333332, 8.071583333333333, 8.186833333333333, 8.235666666666665, 8.011666666666667, 7.9301666666666675, 7.8045, 7.946416666666665, 8.104166666666666, 7.69, 7.911333333333334, 7.915500000000001, 7.9629166666666675, 7.929166666666668, 7.907000000000001, 8.035499999999999, 8.338583333333334, 8.346999999999998, 7.964833333333334, 7.762666666666665, 7.8625833333333315, 8.1155, 8.096083333333334, 8.314166666666667, 8.149416666666665, 8.169083333333333, 8.250000000000002, 8.293666666666667, 8.486166666666666, 8.273166666666667, 8.383583333333336, 7.990666666666665, 8.393916666666666, 8.4815, 8.456333333333335, 8.095583333333334, 8.388250000000003, 8.279833333333334, 8.310916666666667, 8.45825, 8.623166666666664, 8.523, 8.533583333333333, 8.540833333333335, 8.498916666666666, 8.5285, 8.619833333333334, 8.3645, 8.454500000000003, 8.58, 8.537166666666668, 8.378499999999999, 8.178916666666668, 8.4415, 8.4295, 8.661666666666667, 8.3735, 8.472666666666667, 8.15875, 8.5745, 8.669416666666667, 8.625499999999999, 8.49025, 8.700666666666667, 8.613, 8.763666666666667, 8.317166666666667, 8.418583333333334, 8.507083333333332, 8.616416666666668, 8.404666666666667, 8.509916666666667, 8.625333333333334, 8.501333333333333, 8.404250000000001, 8.847499999999998, 8.363, 8.64775, 8.246666666666666, 8.765583333333332, 8.588916666666664, 8.646999999999998, 8.873666666666665, 9.078583333333334, 8.5565, 8.934166666666666, 8.589250000000002, 8.56475, 8.74858333333333, 8.909250000000002, 9.121500000000001, 8.834, 9.147833333333333, 9.117333333333333, 8.753249999999998, 8.78525, 8.967833333333331, 9.270666666666665, 8.954166666666667, 9.113999999999999, 9.448749999999999, 9.205833333333333, 9.117666666666667, 9.327166666666669, 9.498, 9.434916666666666, 9.241166666666667, 9.62575, 9.442499999999999, 9.642666666666665, 9.352833333333335, 9.419333333333336, 9.619666666666665, 9.434, 9.423916666666667, 9.508833333333332, 9.4805, 9.73883333333333], \"yaxis\": \"y\"}],                        {\"legend\": {\"title\": {\"text\": \"variable\"}, \"tracegroupgap\": 0}, \"template\": {\"data\": {\"bar\": [{\"error_x\": {\"color\": \"#2a3f5f\"}, \"error_y\": {\"color\": \"#2a3f5f\"}, \"marker\": {\"line\": {\"color\": \"#E5ECF6\", \"width\": 0.5}}, \"type\": \"bar\"}], \"barpolar\": [{\"marker\": {\"line\": {\"color\": \"#E5ECF6\", \"width\": 0.5}}, \"type\": \"barpolar\"}], \"carpet\": [{\"aaxis\": {\"endlinecolor\": \"#2a3f5f\", \"gridcolor\": \"white\", \"linecolor\": \"white\", \"minorgridcolor\": \"white\", \"startlinecolor\": \"#2a3f5f\"}, \"baxis\": {\"endlinecolor\": \"#2a3f5f\", \"gridcolor\": \"white\", \"linecolor\": \"white\", \"minorgridcolor\": \"white\", \"startlinecolor\": \"#2a3f5f\"}, \"type\": \"carpet\"}], \"choropleth\": [{\"colorbar\": {\"outlinewidth\": 0, \"ticks\": \"\"}, \"type\": \"choropleth\"}], \"contour\": [{\"colorbar\": {\"outlinewidth\": 0, \"ticks\": \"\"}, \"colorscale\": [[0.0, \"#0d0887\"], [0.1111111111111111, \"#46039f\"], [0.2222222222222222, \"#7201a8\"], [0.3333333333333333, \"#9c179e\"], [0.4444444444444444, \"#bd3786\"], [0.5555555555555556, \"#d8576b\"], [0.6666666666666666, \"#ed7953\"], [0.7777777777777778, \"#fb9f3a\"], [0.8888888888888888, \"#fdca26\"], [1.0, \"#f0f921\"]], \"type\": \"contour\"}], \"contourcarpet\": [{\"colorbar\": {\"outlinewidth\": 0, \"ticks\": \"\"}, \"type\": \"contourcarpet\"}], \"heatmap\": [{\"colorbar\": {\"outlinewidth\": 0, \"ticks\": \"\"}, \"colorscale\": [[0.0, \"#0d0887\"], [0.1111111111111111, \"#46039f\"], [0.2222222222222222, \"#7201a8\"], [0.3333333333333333, \"#9c179e\"], [0.4444444444444444, \"#bd3786\"], [0.5555555555555556, \"#d8576b\"], [0.6666666666666666, \"#ed7953\"], [0.7777777777777778, \"#fb9f3a\"], [0.8888888888888888, \"#fdca26\"], [1.0, \"#f0f921\"]], \"type\": \"heatmap\"}], \"heatmapgl\": [{\"colorbar\": {\"outlinewidth\": 0, \"ticks\": \"\"}, \"colorscale\": [[0.0, \"#0d0887\"], [0.1111111111111111, \"#46039f\"], [0.2222222222222222, \"#7201a8\"], [0.3333333333333333, \"#9c179e\"], [0.4444444444444444, \"#bd3786\"], [0.5555555555555556, \"#d8576b\"], [0.6666666666666666, \"#ed7953\"], [0.7777777777777778, \"#fb9f3a\"], [0.8888888888888888, \"#fdca26\"], [1.0, \"#f0f921\"]], \"type\": \"heatmapgl\"}], \"histogram\": [{\"marker\": {\"colorbar\": {\"outlinewidth\": 0, \"ticks\": \"\"}}, \"type\": \"histogram\"}], \"histogram2d\": [{\"colorbar\": {\"outlinewidth\": 0, \"ticks\": \"\"}, \"colorscale\": [[0.0, \"#0d0887\"], [0.1111111111111111, \"#46039f\"], [0.2222222222222222, \"#7201a8\"], [0.3333333333333333, \"#9c179e\"], [0.4444444444444444, \"#bd3786\"], [0.5555555555555556, \"#d8576b\"], [0.6666666666666666, \"#ed7953\"], [0.7777777777777778, \"#fb9f3a\"], [0.8888888888888888, \"#fdca26\"], [1.0, \"#f0f921\"]], \"type\": \"histogram2d\"}], \"histogram2dcontour\": [{\"colorbar\": {\"outlinewidth\": 0, \"ticks\": \"\"}, \"colorscale\": [[0.0, \"#0d0887\"], [0.1111111111111111, \"#46039f\"], [0.2222222222222222, \"#7201a8\"], [0.3333333333333333, \"#9c179e\"], [0.4444444444444444, \"#bd3786\"], [0.5555555555555556, \"#d8576b\"], [0.6666666666666666, \"#ed7953\"], [0.7777777777777778, \"#fb9f3a\"], [0.8888888888888888, \"#fdca26\"], [1.0, \"#f0f921\"]], \"type\": \"histogram2dcontour\"}], \"mesh3d\": [{\"colorbar\": {\"outlinewidth\": 0, \"ticks\": \"\"}, \"type\": \"mesh3d\"}], \"parcoords\": [{\"line\": {\"colorbar\": {\"outlinewidth\": 0, \"ticks\": \"\"}}, \"type\": \"parcoords\"}], \"pie\": [{\"automargin\": true, \"type\": \"pie\"}], \"scatter\": [{\"marker\": {\"colorbar\": {\"outlinewidth\": 0, \"ticks\": \"\"}}, \"type\": \"scatter\"}], \"scatter3d\": [{\"line\": {\"colorbar\": {\"outlinewidth\": 0, \"ticks\": \"\"}}, \"marker\": {\"colorbar\": {\"outlinewidth\": 0, \"ticks\": \"\"}}, \"type\": \"scatter3d\"}], \"scattercarpet\": [{\"marker\": {\"colorbar\": {\"outlinewidth\": 0, \"ticks\": \"\"}}, \"type\": \"scattercarpet\"}], \"scattergeo\": [{\"marker\": {\"colorbar\": {\"outlinewidth\": 0, \"ticks\": \"\"}}, \"type\": \"scattergeo\"}], \"scattergl\": [{\"marker\": {\"colorbar\": {\"outlinewidth\": 0, \"ticks\": \"\"}}, \"type\": \"scattergl\"}], \"scattermapbox\": [{\"marker\": {\"colorbar\": {\"outlinewidth\": 0, \"ticks\": \"\"}}, \"type\": \"scattermapbox\"}], \"scatterpolar\": [{\"marker\": {\"colorbar\": {\"outlinewidth\": 0, \"ticks\": \"\"}}, \"type\": \"scatterpolar\"}], \"scatterpolargl\": [{\"marker\": {\"colorbar\": {\"outlinewidth\": 0, \"ticks\": \"\"}}, \"type\": \"scatterpolargl\"}], \"scatterternary\": [{\"marker\": {\"colorbar\": {\"outlinewidth\": 0, \"ticks\": \"\"}}, \"type\": \"scatterternary\"}], \"surface\": [{\"colorbar\": {\"outlinewidth\": 0, \"ticks\": \"\"}, \"colorscale\": [[0.0, \"#0d0887\"], [0.1111111111111111, \"#46039f\"], [0.2222222222222222, \"#7201a8\"], [0.3333333333333333, \"#9c179e\"], [0.4444444444444444, \"#bd3786\"], [0.5555555555555556, \"#d8576b\"], [0.6666666666666666, \"#ed7953\"], [0.7777777777777778, \"#fb9f3a\"], [0.8888888888888888, \"#fdca26\"], [1.0, \"#f0f921\"]], \"type\": \"surface\"}], \"table\": [{\"cells\": {\"fill\": {\"color\": \"#EBF0F8\"}, \"line\": {\"color\": \"white\"}}, \"header\": {\"fill\": {\"color\": \"#C8D4E3\"}, \"line\": {\"color\": \"white\"}}, \"type\": \"table\"}]}, \"layout\": {\"annotationdefaults\": {\"arrowcolor\": \"#2a3f5f\", \"arrowhead\": 0, \"arrowwidth\": 1}, \"autotypenumbers\": \"strict\", \"coloraxis\": {\"colorbar\": {\"outlinewidth\": 0, \"ticks\": \"\"}}, \"colorscale\": {\"diverging\": [[0, \"#8e0152\"], [0.1, \"#c51b7d\"], [0.2, \"#de77ae\"], [0.3, \"#f1b6da\"], [0.4, \"#fde0ef\"], [0.5, \"#f7f7f7\"], [0.6, \"#e6f5d0\"], [0.7, \"#b8e186\"], [0.8, \"#7fbc41\"], [0.9, \"#4d9221\"], [1, \"#276419\"]], \"sequential\": [[0.0, \"#0d0887\"], [0.1111111111111111, \"#46039f\"], [0.2222222222222222, \"#7201a8\"], [0.3333333333333333, \"#9c179e\"], [0.4444444444444444, \"#bd3786\"], [0.5555555555555556, \"#d8576b\"], [0.6666666666666666, \"#ed7953\"], [0.7777777777777778, \"#fb9f3a\"], [0.8888888888888888, \"#fdca26\"], [1.0, \"#f0f921\"]], \"sequentialminus\": [[0.0, \"#0d0887\"], [0.1111111111111111, \"#46039f\"], [0.2222222222222222, \"#7201a8\"], [0.3333333333333333, \"#9c179e\"], [0.4444444444444444, \"#bd3786\"], [0.5555555555555556, \"#d8576b\"], [0.6666666666666666, \"#ed7953\"], [0.7777777777777778, \"#fb9f3a\"], [0.8888888888888888, \"#fdca26\"], [1.0, \"#f0f921\"]]}, \"colorway\": [\"#636efa\", \"#EF553B\", \"#00cc96\", \"#ab63fa\", \"#FFA15A\", \"#19d3f3\", \"#FF6692\", \"#B6E880\", \"#FF97FF\", \"#FECB52\"], \"font\": {\"color\": \"#2a3f5f\"}, \"geo\": {\"bgcolor\": \"white\", \"lakecolor\": \"white\", \"landcolor\": \"#E5ECF6\", \"showlakes\": true, \"showland\": true, \"subunitcolor\": \"white\"}, \"hoverlabel\": {\"align\": \"left\"}, \"hovermode\": \"closest\", \"mapbox\": {\"style\": \"light\"}, \"paper_bgcolor\": \"white\", \"plot_bgcolor\": \"#E5ECF6\", \"polar\": {\"angularaxis\": {\"gridcolor\": \"white\", \"linecolor\": \"white\", \"ticks\": \"\"}, \"bgcolor\": \"#E5ECF6\", \"radialaxis\": {\"gridcolor\": \"white\", \"linecolor\": \"white\", \"ticks\": \"\"}}, \"scene\": {\"xaxis\": {\"backgroundcolor\": \"#E5ECF6\", \"gridcolor\": \"white\", \"gridwidth\": 2, \"linecolor\": \"white\", \"showbackground\": true, \"ticks\": \"\", \"zerolinecolor\": \"white\"}, \"yaxis\": {\"backgroundcolor\": \"#E5ECF6\", \"gridcolor\": \"white\", \"gridwidth\": 2, \"linecolor\": \"white\", \"showbackground\": true, \"ticks\": \"\", \"zerolinecolor\": \"white\"}, \"zaxis\": {\"backgroundcolor\": \"#E5ECF6\", \"gridcolor\": \"white\", \"gridwidth\": 2, \"linecolor\": \"white\", \"showbackground\": true, \"ticks\": \"\", \"zerolinecolor\": \"white\"}}, \"shapedefaults\": {\"line\": {\"color\": \"#2a3f5f\"}}, \"ternary\": {\"aaxis\": {\"gridcolor\": \"white\", \"linecolor\": \"white\", \"ticks\": \"\"}, \"baxis\": {\"gridcolor\": \"white\", \"linecolor\": \"white\", \"ticks\": \"\"}, \"bgcolor\": \"#E5ECF6\", \"caxis\": {\"gridcolor\": \"white\", \"linecolor\": \"white\", \"ticks\": \"\"}}, \"title\": {\"x\": 0.05}, \"xaxis\": {\"automargin\": true, \"gridcolor\": \"white\", \"linecolor\": \"white\", \"ticks\": \"\", \"title\": {\"standoff\": 15}, \"zerolinecolor\": \"white\", \"zerolinewidth\": 2}, \"yaxis\": {\"automargin\": true, \"gridcolor\": \"white\", \"linecolor\": \"white\", \"ticks\": \"\", \"title\": {\"standoff\": 15}, \"zerolinecolor\": \"white\", \"zerolinewidth\": 2}}}, \"title\": {\"text\": \"Average Land Tmeperature in World\"}, \"xaxis\": {\"anchor\": \"y\", \"domain\": [0.0, 1.0], \"title\": {\"text\": \"years\"}}, \"yaxis\": {\"anchor\": \"x\", \"domain\": [0.0, 1.0], \"title\": {\"text\": \"value\"}}},                        {\"responsive\": true}                    ).then(function(){\n",
       "                            \n",
       "var gd = document.getElementById('9aba2ade-e931-4be7-859f-249f53382117');\n",
       "var x = new MutationObserver(function (mutations, observer) {{\n",
       "        var display = window.getComputedStyle(gd).display;\n",
       "        if (!display || display === 'none') {{\n",
       "            console.log([gd, 'removed!']);\n",
       "            Plotly.purge(gd);\n",
       "            observer.disconnect();\n",
       "        }}\n",
       "}});\n",
       "\n",
       "// Listen for the removal of the full notebook cells\n",
       "var notebookContainer = gd.closest('#notebook-container');\n",
       "if (notebookContainer) {{\n",
       "    x.observe(notebookContainer, {childList: true});\n",
       "}}\n",
       "\n",
       "// Listen for the clearing of the current output cell\n",
       "var outputEl = gd.closest('.output');\n",
       "if (outputEl) {{\n",
       "    x.observe(outputEl, {childList: true});\n",
       "}}\n",
       "\n",
       "                        })                };                });            </script>        </div>"
      ]
     },
     "metadata": {},
     "output_type": "display_data"
    }
   ],
   "source": [
    "fig=px.line(data,x='years',y=['LandAverageTemperature',\n",
    "       'Uncertainty top', 'Uncertainty bottom'],title='Average Land Tmeperature in World')\n",
    "fig.show()"
   ]
  },
  {
   "cell_type": "markdown",
   "id": "scientific-disabled",
   "metadata": {
    "papermill": {
     "duration": 0.100809,
     "end_time": "2021-06-13T15:28:48.435187",
     "exception": false,
     "start_time": "2021-06-13T15:28:48.334378",
     "status": "completed"
    },
    "tags": []
   },
   "source": [
    "From the charts we can see, that there is global warming nowadays. The average temperature of Earth surface has the highest value in the last three centuries. The fastest temperature growth occurred in the last 30 years. This worries me, I hope soon humanity will fully switch to ecological sources of energy, that will reduce CO2. If it’s will not happened, we will be in disaster. This charts also have confidence intervals, which shows that measurement of temperature has become more accurate in the last few years."
   ]
  },
  {
   "cell_type": "markdown",
   "id": "athletic-singer",
   "metadata": {
    "papermill": {
     "duration": 0.1009,
     "end_time": "2021-06-13T15:28:48.639123",
     "exception": false,
     "start_time": "2021-06-13T15:28:48.538223",
     "status": "completed"
    },
    "tags": []
   },
   "source": [
    "# Analyse Average temperature in each season"
   ]
  },
  {
   "cell_type": "code",
   "execution_count": 30,
   "id": "brief-anime",
   "metadata": {
    "execution": {
     "iopub.execute_input": "2021-06-13T15:28:48.856536Z",
     "iopub.status.busy": "2021-06-13T15:28:48.855594Z",
     "iopub.status.idle": "2021-06-13T15:28:48.859309Z",
     "shell.execute_reply": "2021-06-13T15:28:48.858863Z",
     "shell.execute_reply.started": "2021-06-13T15:08:02.306165Z"
    },
    "papermill": {
     "duration": 0.118241,
     "end_time": "2021-06-13T15:28:48.859421",
     "exception": false,
     "start_time": "2021-06-13T15:28:48.741180",
     "status": "completed"
    },
    "tags": []
   },
   "outputs": [
    {
     "data": {
      "text/html": [
       "<div>\n",
       "<style scoped>\n",
       "    .dataframe tbody tr th:only-of-type {\n",
       "        vertical-align: middle;\n",
       "    }\n",
       "\n",
       "    .dataframe tbody tr th {\n",
       "        vertical-align: top;\n",
       "    }\n",
       "\n",
       "    .dataframe thead th {\n",
       "        text-align: right;\n",
       "    }\n",
       "</style>\n",
       "<table border=\"1\" class=\"dataframe\">\n",
       "  <thead>\n",
       "    <tr style=\"text-align: right;\">\n",
       "      <th></th>\n",
       "      <th>dt</th>\n",
       "      <th>LandAverageTemperature</th>\n",
       "      <th>LandAverageTemperatureUncertainty</th>\n",
       "      <th>LandMaxTemperature</th>\n",
       "      <th>LandMaxTemperatureUncertainty</th>\n",
       "      <th>LandMinTemperature</th>\n",
       "      <th>LandMinTemperatureUncertainty</th>\n",
       "      <th>LandAndOceanAverageTemperature</th>\n",
       "      <th>LandAndOceanAverageTemperatureUncertainty</th>\n",
       "      <th>years</th>\n",
       "    </tr>\n",
       "  </thead>\n",
       "  <tbody>\n",
       "    <tr>\n",
       "      <th>0</th>\n",
       "      <td>1750-01-01</td>\n",
       "      <td>3.034</td>\n",
       "      <td>3.574</td>\n",
       "      <td>NaN</td>\n",
       "      <td>NaN</td>\n",
       "      <td>NaN</td>\n",
       "      <td>NaN</td>\n",
       "      <td>NaN</td>\n",
       "      <td>NaN</td>\n",
       "      <td>1750</td>\n",
       "    </tr>\n",
       "    <tr>\n",
       "      <th>1</th>\n",
       "      <td>1750-02-01</td>\n",
       "      <td>3.083</td>\n",
       "      <td>3.702</td>\n",
       "      <td>NaN</td>\n",
       "      <td>NaN</td>\n",
       "      <td>NaN</td>\n",
       "      <td>NaN</td>\n",
       "      <td>NaN</td>\n",
       "      <td>NaN</td>\n",
       "      <td>1750</td>\n",
       "    </tr>\n",
       "    <tr>\n",
       "      <th>2</th>\n",
       "      <td>1750-03-01</td>\n",
       "      <td>5.626</td>\n",
       "      <td>3.076</td>\n",
       "      <td>NaN</td>\n",
       "      <td>NaN</td>\n",
       "      <td>NaN</td>\n",
       "      <td>NaN</td>\n",
       "      <td>NaN</td>\n",
       "      <td>NaN</td>\n",
       "      <td>1750</td>\n",
       "    </tr>\n",
       "    <tr>\n",
       "      <th>3</th>\n",
       "      <td>1750-04-01</td>\n",
       "      <td>8.490</td>\n",
       "      <td>2.451</td>\n",
       "      <td>NaN</td>\n",
       "      <td>NaN</td>\n",
       "      <td>NaN</td>\n",
       "      <td>NaN</td>\n",
       "      <td>NaN</td>\n",
       "      <td>NaN</td>\n",
       "      <td>1750</td>\n",
       "    </tr>\n",
       "    <tr>\n",
       "      <th>4</th>\n",
       "      <td>1750-05-01</td>\n",
       "      <td>11.573</td>\n",
       "      <td>2.072</td>\n",
       "      <td>NaN</td>\n",
       "      <td>NaN</td>\n",
       "      <td>NaN</td>\n",
       "      <td>NaN</td>\n",
       "      <td>NaN</td>\n",
       "      <td>NaN</td>\n",
       "      <td>1750</td>\n",
       "    </tr>\n",
       "  </tbody>\n",
       "</table>\n",
       "</div>"
      ],
      "text/plain": [
       "           dt  LandAverageTemperature  LandAverageTemperatureUncertainty  \\\n",
       "0  1750-01-01                   3.034                              3.574   \n",
       "1  1750-02-01                   3.083                              3.702   \n",
       "2  1750-03-01                   5.626                              3.076   \n",
       "3  1750-04-01                   8.490                              2.451   \n",
       "4  1750-05-01                  11.573                              2.072   \n",
       "\n",
       "   LandMaxTemperature  LandMaxTemperatureUncertainty  LandMinTemperature  \\\n",
       "0                 NaN                            NaN                 NaN   \n",
       "1                 NaN                            NaN                 NaN   \n",
       "2                 NaN                            NaN                 NaN   \n",
       "3                 NaN                            NaN                 NaN   \n",
       "4                 NaN                            NaN                 NaN   \n",
       "\n",
       "   LandMinTemperatureUncertainty  LandAndOceanAverageTemperature  \\\n",
       "0                            NaN                             NaN   \n",
       "1                            NaN                             NaN   \n",
       "2                            NaN                             NaN   \n",
       "3                            NaN                             NaN   \n",
       "4                            NaN                             NaN   \n",
       "\n",
       "   LandAndOceanAverageTemperatureUncertainty years  \n",
       "0                                        NaN  1750  \n",
       "1                                        NaN  1750  \n",
       "2                                        NaN  1750  \n",
       "3                                        NaN  1750  \n",
       "4                                        NaN  1750  "
      ]
     },
     "execution_count": 30,
     "metadata": {},
     "output_type": "execute_result"
    }
   ],
   "source": [
    "global_temp.head()"
   ]
  },
  {
   "cell_type": "code",
   "execution_count": 31,
   "id": "weekly-floor",
   "metadata": {
    "execution": {
     "iopub.execute_input": "2021-06-13T15:28:49.170847Z",
     "iopub.status.busy": "2021-06-13T15:28:49.170063Z",
     "iopub.status.idle": "2021-06-13T15:28:49.176857Z",
     "shell.execute_reply": "2021-06-13T15:28:49.177434Z",
     "shell.execute_reply.started": "2021-06-13T15:08:02.322952Z"
    },
    "papermill": {
     "duration": 0.181275,
     "end_time": "2021-06-13T15:28:49.177626",
     "exception": false,
     "start_time": "2021-06-13T15:28:48.996351",
     "status": "completed"
    },
    "tags": []
   },
   "outputs": [
    {
     "data": {
      "text/plain": [
       "(3192, 10)"
      ]
     },
     "execution_count": 31,
     "metadata": {},
     "output_type": "execute_result"
    }
   ],
   "source": [
    "global_temp.shape"
   ]
  },
  {
   "cell_type": "code",
   "execution_count": 32,
   "id": "dedicated-migration",
   "metadata": {
    "execution": {
     "iopub.execute_input": "2021-06-13T15:28:49.518570Z",
     "iopub.status.busy": "2021-06-13T15:28:49.517795Z",
     "iopub.status.idle": "2021-06-13T15:28:49.521096Z",
     "shell.execute_reply": "2021-06-13T15:28:49.521646Z",
     "shell.execute_reply.started": "2021-06-13T15:08:02.33321Z"
    },
    "papermill": {
     "duration": 0.18304,
     "end_time": "2021-06-13T15:28:49.521845",
     "exception": false,
     "start_time": "2021-06-13T15:28:49.338805",
     "status": "completed"
    },
    "tags": []
   },
   "outputs": [],
   "source": [
    "global_temp['dt']=pd.to_datetime(global_temp['dt'])"
   ]
  },
  {
   "cell_type": "code",
   "execution_count": 33,
   "id": "brave-broadcasting",
   "metadata": {
    "execution": {
     "iopub.execute_input": "2021-06-13T15:28:49.861540Z",
     "iopub.status.busy": "2021-06-13T15:28:49.860773Z",
     "iopub.status.idle": "2021-06-13T15:28:49.864061Z",
     "shell.execute_reply": "2021-06-13T15:28:49.864625Z",
     "shell.execute_reply.started": "2021-06-13T15:08:02.346697Z"
    },
    "papermill": {
     "duration": 0.177544,
     "end_time": "2021-06-13T15:28:49.864804",
     "exception": false,
     "start_time": "2021-06-13T15:28:49.687260",
     "status": "completed"
    },
    "tags": []
   },
   "outputs": [],
   "source": [
    "global_temp['month']=global_temp['dt'].dt.month"
   ]
  },
  {
   "cell_type": "code",
   "execution_count": 34,
   "id": "danish-gates",
   "metadata": {
    "execution": {
     "iopub.execute_input": "2021-06-13T15:28:50.137073Z",
     "iopub.status.busy": "2021-06-13T15:28:50.136242Z",
     "iopub.status.idle": "2021-06-13T15:28:50.138742Z",
     "shell.execute_reply": "2021-06-13T15:28:50.138346Z",
     "shell.execute_reply.started": "2021-06-13T15:08:02.358519Z"
    },
    "papermill": {
     "duration": 0.11012,
     "end_time": "2021-06-13T15:28:50.138854",
     "exception": false,
     "start_time": "2021-06-13T15:28:50.028734",
     "status": "completed"
    },
    "tags": []
   },
   "outputs": [],
   "source": [
    "global_temp.drop('dt',axis=1,inplace=True)"
   ]
  },
  {
   "cell_type": "code",
   "execution_count": 35,
   "id": "utility-affair",
   "metadata": {
    "execution": {
     "iopub.execute_input": "2021-06-13T15:28:50.356809Z",
     "iopub.status.busy": "2021-06-13T15:28:50.355914Z",
     "iopub.status.idle": "2021-06-13T15:28:50.360555Z",
     "shell.execute_reply": "2021-06-13T15:28:50.360104Z",
     "shell.execute_reply.started": "2021-06-13T15:08:02.369471Z"
    },
    "papermill": {
     "duration": 0.118535,
     "end_time": "2021-06-13T15:28:50.360684",
     "exception": false,
     "start_time": "2021-06-13T15:28:50.242149",
     "status": "completed"
    },
    "tags": []
   },
   "outputs": [
    {
     "data": {
      "text/html": [
       "<div>\n",
       "<style scoped>\n",
       "    .dataframe tbody tr th:only-of-type {\n",
       "        vertical-align: middle;\n",
       "    }\n",
       "\n",
       "    .dataframe tbody tr th {\n",
       "        vertical-align: top;\n",
       "    }\n",
       "\n",
       "    .dataframe thead th {\n",
       "        text-align: right;\n",
       "    }\n",
       "</style>\n",
       "<table border=\"1\" class=\"dataframe\">\n",
       "  <thead>\n",
       "    <tr style=\"text-align: right;\">\n",
       "      <th></th>\n",
       "      <th>LandAverageTemperature</th>\n",
       "      <th>LandAverageTemperatureUncertainty</th>\n",
       "      <th>LandMaxTemperature</th>\n",
       "      <th>LandMaxTemperatureUncertainty</th>\n",
       "      <th>LandMinTemperature</th>\n",
       "      <th>LandMinTemperatureUncertainty</th>\n",
       "      <th>LandAndOceanAverageTemperature</th>\n",
       "      <th>LandAndOceanAverageTemperatureUncertainty</th>\n",
       "      <th>years</th>\n",
       "      <th>month</th>\n",
       "    </tr>\n",
       "  </thead>\n",
       "  <tbody>\n",
       "    <tr>\n",
       "      <th>0</th>\n",
       "      <td>3.034</td>\n",
       "      <td>3.574</td>\n",
       "      <td>NaN</td>\n",
       "      <td>NaN</td>\n",
       "      <td>NaN</td>\n",
       "      <td>NaN</td>\n",
       "      <td>NaN</td>\n",
       "      <td>NaN</td>\n",
       "      <td>1750</td>\n",
       "      <td>1</td>\n",
       "    </tr>\n",
       "    <tr>\n",
       "      <th>1</th>\n",
       "      <td>3.083</td>\n",
       "      <td>3.702</td>\n",
       "      <td>NaN</td>\n",
       "      <td>NaN</td>\n",
       "      <td>NaN</td>\n",
       "      <td>NaN</td>\n",
       "      <td>NaN</td>\n",
       "      <td>NaN</td>\n",
       "      <td>1750</td>\n",
       "      <td>2</td>\n",
       "    </tr>\n",
       "    <tr>\n",
       "      <th>2</th>\n",
       "      <td>5.626</td>\n",
       "      <td>3.076</td>\n",
       "      <td>NaN</td>\n",
       "      <td>NaN</td>\n",
       "      <td>NaN</td>\n",
       "      <td>NaN</td>\n",
       "      <td>NaN</td>\n",
       "      <td>NaN</td>\n",
       "      <td>1750</td>\n",
       "      <td>3</td>\n",
       "    </tr>\n",
       "    <tr>\n",
       "      <th>3</th>\n",
       "      <td>8.490</td>\n",
       "      <td>2.451</td>\n",
       "      <td>NaN</td>\n",
       "      <td>NaN</td>\n",
       "      <td>NaN</td>\n",
       "      <td>NaN</td>\n",
       "      <td>NaN</td>\n",
       "      <td>NaN</td>\n",
       "      <td>1750</td>\n",
       "      <td>4</td>\n",
       "    </tr>\n",
       "    <tr>\n",
       "      <th>4</th>\n",
       "      <td>11.573</td>\n",
       "      <td>2.072</td>\n",
       "      <td>NaN</td>\n",
       "      <td>NaN</td>\n",
       "      <td>NaN</td>\n",
       "      <td>NaN</td>\n",
       "      <td>NaN</td>\n",
       "      <td>NaN</td>\n",
       "      <td>1750</td>\n",
       "      <td>5</td>\n",
       "    </tr>\n",
       "  </tbody>\n",
       "</table>\n",
       "</div>"
      ],
      "text/plain": [
       "   LandAverageTemperature  LandAverageTemperatureUncertainty  \\\n",
       "0                   3.034                              3.574   \n",
       "1                   3.083                              3.702   \n",
       "2                   5.626                              3.076   \n",
       "3                   8.490                              2.451   \n",
       "4                  11.573                              2.072   \n",
       "\n",
       "   LandMaxTemperature  LandMaxTemperatureUncertainty  LandMinTemperature  \\\n",
       "0                 NaN                            NaN                 NaN   \n",
       "1                 NaN                            NaN                 NaN   \n",
       "2                 NaN                            NaN                 NaN   \n",
       "3                 NaN                            NaN                 NaN   \n",
       "4                 NaN                            NaN                 NaN   \n",
       "\n",
       "   LandMinTemperatureUncertainty  LandAndOceanAverageTemperature  \\\n",
       "0                            NaN                             NaN   \n",
       "1                            NaN                             NaN   \n",
       "2                            NaN                             NaN   \n",
       "3                            NaN                             NaN   \n",
       "4                            NaN                             NaN   \n",
       "\n",
       "   LandAndOceanAverageTemperatureUncertainty years  month  \n",
       "0                                        NaN  1750      1  \n",
       "1                                        NaN  1750      2  \n",
       "2                                        NaN  1750      3  \n",
       "3                                        NaN  1750      4  \n",
       "4                                        NaN  1750      5  "
      ]
     },
     "execution_count": 35,
     "metadata": {},
     "output_type": "execute_result"
    }
   ],
   "source": [
    "global_temp.head()"
   ]
  },
  {
   "cell_type": "code",
   "execution_count": 36,
   "id": "certified-advocate",
   "metadata": {
    "execution": {
     "iopub.execute_input": "2021-06-13T15:28:50.571403Z",
     "iopub.status.busy": "2021-06-13T15:28:50.570739Z",
     "iopub.status.idle": "2021-06-13T15:28:50.573570Z",
     "shell.execute_reply": "2021-06-13T15:28:50.573980Z",
     "shell.execute_reply.started": "2021-06-13T15:08:02.388336Z"
    },
    "papermill": {
     "duration": 0.110396,
     "end_time": "2021-06-13T15:28:50.574113",
     "exception": false,
     "start_time": "2021-06-13T15:28:50.463717",
     "status": "completed"
    },
    "tags": []
   },
   "outputs": [
    {
     "data": {
      "text/plain": [
       "LandAverageTemperature                       float64\n",
       "LandAverageTemperatureUncertainty            float64\n",
       "LandMaxTemperature                           float64\n",
       "LandMaxTemperatureUncertainty                float64\n",
       "LandMinTemperature                           float64\n",
       "LandMinTemperatureUncertainty                float64\n",
       "LandAndOceanAverageTemperature               float64\n",
       "LandAndOceanAverageTemperatureUncertainty    float64\n",
       "years                                         object\n",
       "month                                          int64\n",
       "dtype: object"
      ]
     },
     "execution_count": 36,
     "metadata": {},
     "output_type": "execute_result"
    }
   ],
   "source": [
    "global_temp.dtypes"
   ]
  },
  {
   "cell_type": "code",
   "execution_count": 37,
   "id": "convertible-north",
   "metadata": {
    "execution": {
     "iopub.execute_input": "2021-06-13T15:28:50.782681Z",
     "iopub.status.busy": "2021-06-13T15:28:50.781894Z",
     "iopub.status.idle": "2021-06-13T15:28:50.784137Z",
     "shell.execute_reply": "2021-06-13T15:28:50.784496Z",
     "shell.execute_reply.started": "2021-06-13T15:08:02.395487Z"
    },
    "papermill": {
     "duration": 0.10887,
     "end_time": "2021-06-13T15:28:50.784629",
     "exception": false,
     "start_time": "2021-06-13T15:28:50.675759",
     "status": "completed"
    },
    "tags": []
   },
   "outputs": [],
   "source": [
    "def get_season (month):\n",
    "    if month>=3 and month<=5:\n",
    "        return 'spring'\n",
    "    elif month>=6 and month<=8:\n",
    "        return 'summer'\n",
    "    elif month>=9 and month<=11:\n",
    "        return 'autumn'\n",
    "    else:\n",
    "        return 'winter'"
   ]
  },
  {
   "cell_type": "code",
   "execution_count": 38,
   "id": "attended-backing",
   "metadata": {
    "execution": {
     "iopub.execute_input": "2021-06-13T15:28:51.000601Z",
     "iopub.status.busy": "2021-06-13T15:28:50.999846Z",
     "iopub.status.idle": "2021-06-13T15:28:51.002623Z",
     "shell.execute_reply": "2021-06-13T15:28:51.002191Z",
     "shell.execute_reply.started": "2021-06-13T15:08:02.405809Z"
    },
    "papermill": {
     "duration": 0.116245,
     "end_time": "2021-06-13T15:28:51.002730",
     "exception": false,
     "start_time": "2021-06-13T15:28:50.886485",
     "status": "completed"
    },
    "tags": []
   },
   "outputs": [],
   "source": [
    "global_temp['season']=global_temp['month'].apply(get_season)"
   ]
  },
  {
   "cell_type": "code",
   "execution_count": 39,
   "id": "copyrighted-desktop",
   "metadata": {
    "execution": {
     "iopub.execute_input": "2021-06-13T15:28:51.222908Z",
     "iopub.status.busy": "2021-06-13T15:28:51.222089Z",
     "iopub.status.idle": "2021-06-13T15:28:51.225901Z",
     "shell.execute_reply": "2021-06-13T15:28:51.225463Z",
     "shell.execute_reply.started": "2021-06-13T15:08:02.419042Z"
    },
    "papermill": {
     "duration": 0.118341,
     "end_time": "2021-06-13T15:28:51.226029",
     "exception": false,
     "start_time": "2021-06-13T15:28:51.107688",
     "status": "completed"
    },
    "tags": []
   },
   "outputs": [
    {
     "data": {
      "text/html": [
       "<div>\n",
       "<style scoped>\n",
       "    .dataframe tbody tr th:only-of-type {\n",
       "        vertical-align: middle;\n",
       "    }\n",
       "\n",
       "    .dataframe tbody tr th {\n",
       "        vertical-align: top;\n",
       "    }\n",
       "\n",
       "    .dataframe thead th {\n",
       "        text-align: right;\n",
       "    }\n",
       "</style>\n",
       "<table border=\"1\" class=\"dataframe\">\n",
       "  <thead>\n",
       "    <tr style=\"text-align: right;\">\n",
       "      <th></th>\n",
       "      <th>LandAverageTemperature</th>\n",
       "      <th>LandAverageTemperatureUncertainty</th>\n",
       "      <th>LandMaxTemperature</th>\n",
       "      <th>LandMaxTemperatureUncertainty</th>\n",
       "      <th>LandMinTemperature</th>\n",
       "      <th>LandMinTemperatureUncertainty</th>\n",
       "      <th>LandAndOceanAverageTemperature</th>\n",
       "      <th>LandAndOceanAverageTemperatureUncertainty</th>\n",
       "      <th>years</th>\n",
       "      <th>month</th>\n",
       "      <th>season</th>\n",
       "    </tr>\n",
       "  </thead>\n",
       "  <tbody>\n",
       "    <tr>\n",
       "      <th>0</th>\n",
       "      <td>3.034</td>\n",
       "      <td>3.574</td>\n",
       "      <td>NaN</td>\n",
       "      <td>NaN</td>\n",
       "      <td>NaN</td>\n",
       "      <td>NaN</td>\n",
       "      <td>NaN</td>\n",
       "      <td>NaN</td>\n",
       "      <td>1750</td>\n",
       "      <td>1</td>\n",
       "      <td>winter</td>\n",
       "    </tr>\n",
       "    <tr>\n",
       "      <th>1</th>\n",
       "      <td>3.083</td>\n",
       "      <td>3.702</td>\n",
       "      <td>NaN</td>\n",
       "      <td>NaN</td>\n",
       "      <td>NaN</td>\n",
       "      <td>NaN</td>\n",
       "      <td>NaN</td>\n",
       "      <td>NaN</td>\n",
       "      <td>1750</td>\n",
       "      <td>2</td>\n",
       "      <td>winter</td>\n",
       "    </tr>\n",
       "    <tr>\n",
       "      <th>2</th>\n",
       "      <td>5.626</td>\n",
       "      <td>3.076</td>\n",
       "      <td>NaN</td>\n",
       "      <td>NaN</td>\n",
       "      <td>NaN</td>\n",
       "      <td>NaN</td>\n",
       "      <td>NaN</td>\n",
       "      <td>NaN</td>\n",
       "      <td>1750</td>\n",
       "      <td>3</td>\n",
       "      <td>spring</td>\n",
       "    </tr>\n",
       "    <tr>\n",
       "      <th>3</th>\n",
       "      <td>8.490</td>\n",
       "      <td>2.451</td>\n",
       "      <td>NaN</td>\n",
       "      <td>NaN</td>\n",
       "      <td>NaN</td>\n",
       "      <td>NaN</td>\n",
       "      <td>NaN</td>\n",
       "      <td>NaN</td>\n",
       "      <td>1750</td>\n",
       "      <td>4</td>\n",
       "      <td>spring</td>\n",
       "    </tr>\n",
       "    <tr>\n",
       "      <th>4</th>\n",
       "      <td>11.573</td>\n",
       "      <td>2.072</td>\n",
       "      <td>NaN</td>\n",
       "      <td>NaN</td>\n",
       "      <td>NaN</td>\n",
       "      <td>NaN</td>\n",
       "      <td>NaN</td>\n",
       "      <td>NaN</td>\n",
       "      <td>1750</td>\n",
       "      <td>5</td>\n",
       "      <td>spring</td>\n",
       "    </tr>\n",
       "  </tbody>\n",
       "</table>\n",
       "</div>"
      ],
      "text/plain": [
       "   LandAverageTemperature  LandAverageTemperatureUncertainty  \\\n",
       "0                   3.034                              3.574   \n",
       "1                   3.083                              3.702   \n",
       "2                   5.626                              3.076   \n",
       "3                   8.490                              2.451   \n",
       "4                  11.573                              2.072   \n",
       "\n",
       "   LandMaxTemperature  LandMaxTemperatureUncertainty  LandMinTemperature  \\\n",
       "0                 NaN                            NaN                 NaN   \n",
       "1                 NaN                            NaN                 NaN   \n",
       "2                 NaN                            NaN                 NaN   \n",
       "3                 NaN                            NaN                 NaN   \n",
       "4                 NaN                            NaN                 NaN   \n",
       "\n",
       "   LandMinTemperatureUncertainty  LandAndOceanAverageTemperature  \\\n",
       "0                            NaN                             NaN   \n",
       "1                            NaN                             NaN   \n",
       "2                            NaN                             NaN   \n",
       "3                            NaN                             NaN   \n",
       "4                            NaN                             NaN   \n",
       "\n",
       "   LandAndOceanAverageTemperatureUncertainty years  month  season  \n",
       "0                                        NaN  1750      1  winter  \n",
       "1                                        NaN  1750      2  winter  \n",
       "2                                        NaN  1750      3  spring  \n",
       "3                                        NaN  1750      4  spring  \n",
       "4                                        NaN  1750      5  spring  "
      ]
     },
     "execution_count": 39,
     "metadata": {},
     "output_type": "execute_result"
    }
   ],
   "source": [
    "global_temp.head()"
   ]
  },
  {
   "cell_type": "code",
   "execution_count": 40,
   "id": "confident-paragraph",
   "metadata": {
    "execution": {
     "iopub.execute_input": "2021-06-13T15:28:51.438866Z",
     "iopub.status.busy": "2021-06-13T15:28:51.437635Z",
     "iopub.status.idle": "2021-06-13T15:28:51.440391Z",
     "shell.execute_reply": "2021-06-13T15:28:51.439985Z",
     "shell.execute_reply.started": "2021-06-13T15:08:02.440783Z"
    },
    "papermill": {
     "duration": 0.110562,
     "end_time": "2021-06-13T15:28:51.440503",
     "exception": false,
     "start_time": "2021-06-13T15:28:51.329941",
     "status": "completed"
    },
    "tags": []
   },
   "outputs": [],
   "source": [
    "years=global_temp['years'].unique()"
   ]
  },
  {
   "cell_type": "code",
   "execution_count": 41,
   "id": "ahead-administration",
   "metadata": {
    "execution": {
     "iopub.execute_input": "2021-06-13T15:28:51.650761Z",
     "iopub.status.busy": "2021-06-13T15:28:51.650241Z",
     "iopub.status.idle": "2021-06-13T15:28:51.655177Z",
     "shell.execute_reply": "2021-06-13T15:28:51.654756Z",
     "shell.execute_reply.started": "2021-06-13T15:08:02.451228Z"
    },
    "papermill": {
     "duration": 0.111943,
     "end_time": "2021-06-13T15:28:51.655290",
     "exception": false,
     "start_time": "2021-06-13T15:28:51.543347",
     "status": "completed"
    },
    "tags": []
   },
   "outputs": [
    {
     "data": {
      "text/plain": [
       "array(['1750', '1751', '1752', '1753', '1754', '1755', '1756', '1757',\n",
       "       '1758', '1759', '1760', '1761', '1762', '1763', '1764', '1765',\n",
       "       '1766', '1767', '1768', '1769', '1770', '1771', '1772', '1773',\n",
       "       '1774', '1775', '1776', '1777', '1778', '1779', '1780', '1781',\n",
       "       '1782', '1783', '1784', '1785', '1786', '1787', '1788', '1789',\n",
       "       '1790', '1791', '1792', '1793', '1794', '1795', '1796', '1797',\n",
       "       '1798', '1799', '1800', '1801', '1802', '1803', '1804', '1805',\n",
       "       '1806', '1807', '1808', '1809', '1810', '1811', '1812', '1813',\n",
       "       '1814', '1815', '1816', '1817', '1818', '1819', '1820', '1821',\n",
       "       '1822', '1823', '1824', '1825', '1826', '1827', '1828', '1829',\n",
       "       '1830', '1831', '1832', '1833', '1834', '1835', '1836', '1837',\n",
       "       '1838', '1839', '1840', '1841', '1842', '1843', '1844', '1845',\n",
       "       '1846', '1847', '1848', '1849', '1850', '1851', '1852', '1853',\n",
       "       '1854', '1855', '1856', '1857', '1858', '1859', '1860', '1861',\n",
       "       '1862', '1863', '1864', '1865', '1866', '1867', '1868', '1869',\n",
       "       '1870', '1871', '1872', '1873', '1874', '1875', '1876', '1877',\n",
       "       '1878', '1879', '1880', '1881', '1882', '1883', '1884', '1885',\n",
       "       '1886', '1887', '1888', '1889', '1890', '1891', '1892', '1893',\n",
       "       '1894', '1895', '1896', '1897', '1898', '1899', '1900', '1901',\n",
       "       '1902', '1903', '1904', '1905', '1906', '1907', '1908', '1909',\n",
       "       '1910', '1911', '1912', '1913', '1914', '1915', '1916', '1917',\n",
       "       '1918', '1919', '1920', '1921', '1922', '1923', '1924', '1925',\n",
       "       '1926', '1927', '1928', '1929', '1930', '1931', '1932', '1933',\n",
       "       '1934', '1935', '1936', '1937', '1938', '1939', '1940', '1941',\n",
       "       '1942', '1943', '1944', '1945', '1946', '1947', '1948', '1949',\n",
       "       '1950', '1951', '1952', '1953', '1954', '1955', '1956', '1957',\n",
       "       '1958', '1959', '1960', '1961', '1962', '1963', '1964', '1965',\n",
       "       '1966', '1967', '1968', '1969', '1970', '1971', '1972', '1973',\n",
       "       '1974', '1975', '1976', '1977', '1978', '1979', '1980', '1981',\n",
       "       '1982', '1983', '1984', '1985', '1986', '1987', '1988', '1989',\n",
       "       '1990', '1991', '1992', '1993', '1994', '1995', '1996', '1997',\n",
       "       '1998', '1999', '2000', '2001', '2002', '2003', '2004', '2005',\n",
       "       '2006', '2007', '2008', '2009', '2010', '2011', '2012', '2013',\n",
       "       '2014', '2015'], dtype=object)"
      ]
     },
     "execution_count": 41,
     "metadata": {},
     "output_type": "execute_result"
    }
   ],
   "source": [
    "years"
   ]
  },
  {
   "cell_type": "code",
   "execution_count": 42,
   "id": "unauthorized-veteran",
   "metadata": {
    "execution": {
     "iopub.execute_input": "2021-06-13T15:28:51.871973Z",
     "iopub.status.busy": "2021-06-13T15:28:51.871079Z",
     "iopub.status.idle": "2021-06-13T15:28:51.873574Z",
     "shell.execute_reply": "2021-06-13T15:28:51.874011Z",
     "shell.execute_reply.started": "2021-06-13T15:08:02.467621Z"
    },
    "papermill": {
     "duration": 0.114904,
     "end_time": "2021-06-13T15:28:51.874156",
     "exception": false,
     "start_time": "2021-06-13T15:28:51.759252",
     "status": "completed"
    },
    "tags": []
   },
   "outputs": [],
   "source": [
    "spring_temps=[]\n",
    "summer_temps=[]\n",
    "autumn_temps=[]\n",
    "winter_temps=[]"
   ]
  },
  {
   "cell_type": "code",
   "execution_count": 43,
   "id": "affecting-rochester",
   "metadata": {
    "execution": {
     "iopub.execute_input": "2021-06-13T15:28:52.223598Z",
     "iopub.status.busy": "2021-06-13T15:28:52.222806Z",
     "iopub.status.idle": "2021-06-13T15:28:53.108340Z",
     "shell.execute_reply": "2021-06-13T15:28:53.107750Z",
     "shell.execute_reply.started": "2021-06-13T15:08:02.479272Z"
    },
    "papermill": {
     "duration": 1.097856,
     "end_time": "2021-06-13T15:28:53.108462",
     "exception": false,
     "start_time": "2021-06-13T15:28:52.010606",
     "status": "completed"
    },
    "tags": []
   },
   "outputs": [],
   "source": [
    "for year in years:\n",
    "    current_year=global_temp[global_temp['years']==year]\n",
    "    spring_temps.append(current_year[current_year['season']=='spring']['LandAverageTemperature'].mean())\n",
    "    summer_temps.append(current_year[current_year['season']=='summer']['LandAverageTemperature'].mean())\n",
    "    autumn_temps.append(current_year[current_year['season']=='autumn']['LandAverageTemperature'].mean())\n",
    "    winter_temps.append(current_year[current_year['season']=='winter']['LandAverageTemperature'].mean())"
   ]
  },
  {
   "cell_type": "code",
   "execution_count": 44,
   "id": "suited-dance",
   "metadata": {
    "execution": {
     "iopub.execute_input": "2021-06-13T15:28:53.322906Z",
     "iopub.status.busy": "2021-06-13T15:28:53.322118Z",
     "iopub.status.idle": "2021-06-13T15:28:53.324789Z",
     "shell.execute_reply": "2021-06-13T15:28:53.324297Z",
     "shell.execute_reply.started": "2021-06-13T15:08:03.342608Z"
    },
    "papermill": {
     "duration": 0.113077,
     "end_time": "2021-06-13T15:28:53.324898",
     "exception": false,
     "start_time": "2021-06-13T15:28:53.211821",
     "status": "completed"
    },
    "tags": []
   },
   "outputs": [],
   "source": [
    "#Now let's make a dataframe on season\n",
    "season=pd.DataFrame()\n",
    "season['year']=years\n",
    "season['spring_temp']=spring_temps\n",
    "season['summer_temp']=summer_temps\n",
    "season['autumn_temp']=autumn_temps\n",
    "season['winter_temp']=winter_temps"
   ]
  },
  {
   "cell_type": "code",
   "execution_count": 45,
   "id": "ancient-porter",
   "metadata": {
    "execution": {
     "iopub.execute_input": "2021-06-13T15:28:53.542575Z",
     "iopub.status.busy": "2021-06-13T15:28:53.541848Z",
     "iopub.status.idle": "2021-06-13T15:28:53.544781Z",
     "shell.execute_reply": "2021-06-13T15:28:53.545234Z",
     "shell.execute_reply.started": "2021-06-13T15:08:03.352441Z"
    },
    "papermill": {
     "duration": 0.116761,
     "end_time": "2021-06-13T15:28:53.545369",
     "exception": false,
     "start_time": "2021-06-13T15:28:53.428608",
     "status": "completed"
    },
    "tags": []
   },
   "outputs": [
    {
     "data": {
      "text/html": [
       "<div>\n",
       "<style scoped>\n",
       "    .dataframe tbody tr th:only-of-type {\n",
       "        vertical-align: middle;\n",
       "    }\n",
       "\n",
       "    .dataframe tbody tr th {\n",
       "        vertical-align: top;\n",
       "    }\n",
       "\n",
       "    .dataframe thead th {\n",
       "        text-align: right;\n",
       "    }\n",
       "</style>\n",
       "<table border=\"1\" class=\"dataframe\">\n",
       "  <thead>\n",
       "    <tr style=\"text-align: right;\">\n",
       "      <th></th>\n",
       "      <th>year</th>\n",
       "      <th>spring_temp</th>\n",
       "      <th>summer_temp</th>\n",
       "      <th>autumn_temp</th>\n",
       "      <th>winter_temp</th>\n",
       "    </tr>\n",
       "  </thead>\n",
       "  <tbody>\n",
       "    <tr>\n",
       "      <th>0</th>\n",
       "      <td>1750</td>\n",
       "      <td>8.563000</td>\n",
       "      <td>14.518333</td>\n",
       "      <td>8.890000</td>\n",
       "      <td>2.963000</td>\n",
       "    </tr>\n",
       "    <tr>\n",
       "      <th>1</th>\n",
       "      <td>1751</td>\n",
       "      <td>6.735000</td>\n",
       "      <td>14.116000</td>\n",
       "      <td>10.673000</td>\n",
       "      <td>1.729000</td>\n",
       "    </tr>\n",
       "    <tr>\n",
       "      <th>2</th>\n",
       "      <td>1752</td>\n",
       "      <td>7.035500</td>\n",
       "      <td>NaN</td>\n",
       "      <td>7.587000</td>\n",
       "      <td>2.717000</td>\n",
       "    </tr>\n",
       "    <tr>\n",
       "      <th>3</th>\n",
       "      <td>1753</td>\n",
       "      <td>8.627333</td>\n",
       "      <td>14.608333</td>\n",
       "      <td>9.212333</td>\n",
       "      <td>1.104333</td>\n",
       "    </tr>\n",
       "    <tr>\n",
       "      <th>4</th>\n",
       "      <td>1754</td>\n",
       "      <td>9.074333</td>\n",
       "      <td>14.208333</td>\n",
       "      <td>8.957333</td>\n",
       "      <td>1.637333</td>\n",
       "    </tr>\n",
       "  </tbody>\n",
       "</table>\n",
       "</div>"
      ],
      "text/plain": [
       "   year  spring_temp  summer_temp  autumn_temp  winter_temp\n",
       "0  1750     8.563000    14.518333     8.890000     2.963000\n",
       "1  1751     6.735000    14.116000    10.673000     1.729000\n",
       "2  1752     7.035500          NaN     7.587000     2.717000\n",
       "3  1753     8.627333    14.608333     9.212333     1.104333\n",
       "4  1754     9.074333    14.208333     8.957333     1.637333"
      ]
     },
     "execution_count": 45,
     "metadata": {},
     "output_type": "execute_result"
    }
   ],
   "source": [
    "season.head()"
   ]
  },
  {
   "cell_type": "code",
   "execution_count": 46,
   "id": "lined-yeast",
   "metadata": {
    "execution": {
     "iopub.execute_input": "2021-06-13T15:28:53.760204Z",
     "iopub.status.busy": "2021-06-13T15:28:53.759124Z",
     "iopub.status.idle": "2021-06-13T15:28:53.764181Z",
     "shell.execute_reply": "2021-06-13T15:28:53.763638Z",
     "shell.execute_reply.started": "2021-06-13T15:08:03.374422Z"
    },
    "papermill": {
     "duration": 0.114131,
     "end_time": "2021-06-13T15:28:53.764297",
     "exception": false,
     "start_time": "2021-06-13T15:28:53.650166",
     "status": "completed"
    },
    "tags": []
   },
   "outputs": [
    {
     "data": {
      "text/plain": [
       "Index(['year', 'spring_temp', 'summer_temp', 'autumn_temp', 'winter_temp'], dtype='object')"
      ]
     },
     "execution_count": 46,
     "metadata": {},
     "output_type": "execute_result"
    }
   ],
   "source": [
    "season.columns"
   ]
  },
  {
   "cell_type": "code",
   "execution_count": 47,
   "id": "maritime-booth",
   "metadata": {
    "execution": {
     "iopub.execute_input": "2021-06-13T15:28:53.992943Z",
     "iopub.status.busy": "2021-06-13T15:28:53.992137Z",
     "iopub.status.idle": "2021-06-13T15:28:54.088304Z",
     "shell.execute_reply": "2021-06-13T15:28:54.088714Z",
     "shell.execute_reply.started": "2021-06-13T15:08:03.384965Z"
    },
    "papermill": {
     "duration": 0.217602,
     "end_time": "2021-06-13T15:28:54.088866",
     "exception": false,
     "start_time": "2021-06-13T15:28:53.871264",
     "status": "completed"
    },
    "tags": []
   },
   "outputs": [
    {
     "data": {
      "application/vnd.plotly.v1+json": {
       "config": {
        "plotlyServerURL": "https://plot.ly"
       },
       "data": [
        {
         "hovertemplate": "variable=spring_temp<br>year=%{x}<br>value=%{y}<extra></extra>",
         "legendgroup": "spring_temp",
         "line": {
          "color": "#636efa",
          "dash": "solid"
         },
         "mode": "lines",
         "name": "spring_temp",
         "showlegend": true,
         "type": "scattergl",
         "x": [
          "1750",
          "1751",
          "1752",
          "1753",
          "1754",
          "1755",
          "1756",
          "1757",
          "1758",
          "1759",
          "1760",
          "1761",
          "1762",
          "1763",
          "1764",
          "1765",
          "1766",
          "1767",
          "1768",
          "1769",
          "1770",
          "1771",
          "1772",
          "1773",
          "1774",
          "1775",
          "1776",
          "1777",
          "1778",
          "1779",
          "1780",
          "1781",
          "1782",
          "1783",
          "1784",
          "1785",
          "1786",
          "1787",
          "1788",
          "1789",
          "1790",
          "1791",
          "1792",
          "1793",
          "1794",
          "1795",
          "1796",
          "1797",
          "1798",
          "1799",
          "1800",
          "1801",
          "1802",
          "1803",
          "1804",
          "1805",
          "1806",
          "1807",
          "1808",
          "1809",
          "1810",
          "1811",
          "1812",
          "1813",
          "1814",
          "1815",
          "1816",
          "1817",
          "1818",
          "1819",
          "1820",
          "1821",
          "1822",
          "1823",
          "1824",
          "1825",
          "1826",
          "1827",
          "1828",
          "1829",
          "1830",
          "1831",
          "1832",
          "1833",
          "1834",
          "1835",
          "1836",
          "1837",
          "1838",
          "1839",
          "1840",
          "1841",
          "1842",
          "1843",
          "1844",
          "1845",
          "1846",
          "1847",
          "1848",
          "1849",
          "1850",
          "1851",
          "1852",
          "1853",
          "1854",
          "1855",
          "1856",
          "1857",
          "1858",
          "1859",
          "1860",
          "1861",
          "1862",
          "1863",
          "1864",
          "1865",
          "1866",
          "1867",
          "1868",
          "1869",
          "1870",
          "1871",
          "1872",
          "1873",
          "1874",
          "1875",
          "1876",
          "1877",
          "1878",
          "1879",
          "1880",
          "1881",
          "1882",
          "1883",
          "1884",
          "1885",
          "1886",
          "1887",
          "1888",
          "1889",
          "1890",
          "1891",
          "1892",
          "1893",
          "1894",
          "1895",
          "1896",
          "1897",
          "1898",
          "1899",
          "1900",
          "1901",
          "1902",
          "1903",
          "1904",
          "1905",
          "1906",
          "1907",
          "1908",
          "1909",
          "1910",
          "1911",
          "1912",
          "1913",
          "1914",
          "1915",
          "1916",
          "1917",
          "1918",
          "1919",
          "1920",
          "1921",
          "1922",
          "1923",
          "1924",
          "1925",
          "1926",
          "1927",
          "1928",
          "1929",
          "1930",
          "1931",
          "1932",
          "1933",
          "1934",
          "1935",
          "1936",
          "1937",
          "1938",
          "1939",
          "1940",
          "1941",
          "1942",
          "1943",
          "1944",
          "1945",
          "1946",
          "1947",
          "1948",
          "1949",
          "1950",
          "1951",
          "1952",
          "1953",
          "1954",
          "1955",
          "1956",
          "1957",
          "1958",
          "1959",
          "1960",
          "1961",
          "1962",
          "1963",
          "1964",
          "1965",
          "1966",
          "1967",
          "1968",
          "1969",
          "1970",
          "1971",
          "1972",
          "1973",
          "1974",
          "1975",
          "1976",
          "1977",
          "1978",
          "1979",
          "1980",
          "1981",
          "1982",
          "1983",
          "1984",
          "1985",
          "1986",
          "1987",
          "1988",
          "1989",
          "1990",
          "1991",
          "1992",
          "1993",
          "1994",
          "1995",
          "1996",
          "1997",
          "1998",
          "1999",
          "2000",
          "2001",
          "2002",
          "2003",
          "2004",
          "2005",
          "2006",
          "2007",
          "2008",
          "2009",
          "2010",
          "2011",
          "2012",
          "2013",
          "2014",
          "2015"
         ],
         "xaxis": "x",
         "y": [
          8.563,
          6.734999999999999,
          7.035499999999999,
          8.627333333333334,
          9.074333333333334,
          8.583666666666666,
          9.466,
          8.604666666666667,
          6.896666666666666,
          6.897333333333333,
          6.653666666666666,
          8.915999999999999,
          7.809333333333332,
          6.715999999999998,
          8.192,
          8.868666666666668,
          8.432333333333332,
          7.831,
          6.144000000000001,
          8.803333333333333,
          7.132000000000001,
          6.0523333333333325,
          7.148666666666666,
          8.866999999999999,
          10.607,
          9.036666666666667,
          7.522333333333333,
          7.774333333333334,
          8.957999999999998,
          10.370666666666667,
          11.737666666666664,
          7.599,
          7.390999999999998,
          8.397333333333334,
          7.3580000000000005,
          6.173666666666667,
          8.849666666666666,
          7.9576666666666656,
          8.159333333333333,
          7.782999999999999,
          6.997333333333333,
          7.9253333333333345,
          7.914666666666666,
          8.248,
          9.146333333333333,
          8.552,
          7.507666666666666,
          7.024333333333334,
          8.953333333333333,
          8.041666666666666,
          8.224666666666666,
          8.660666666666666,
          7.760333333333333,
          8.653666666666666,
          8.863,
          8.328999999999999,
          8.075333333333333,
          7.03,
          7.066666666666666,
          6.833666666666666,
          6.871999999999999,
          6.481999999999999,
          6.191333333333333,
          7.048333333333333,
          6.424666666666667,
          6.698666666666667,
          7.368333333333332,
          7.311333333333333,
          8.904333333333334,
          6.603666666666666,
          8.312666666666667,
          8.167,
          8.850333333333332,
          7.765333333333333,
          8.287999999999998,
          8.368,
          8.365,
          9.125666666666666,
          8.582333333333333,
          8.070666666666666,
          7.832333333333335,
          7.761,
          7.732666666666667,
          7.657,
          8.351666666666668,
          7.482333333333333,
          7.680666666666667,
          6.797999999999999,
          7.030333333333332,
          6.951333333333333,
          7.718666666666667,
          6.947,
          8.198333333333332,
          7.537999999999999,
          7.410666666666667,
          7.747333333333333,
          8.227666666666666,
          7.549333333333333,
          7.832,
          7.496333333333332,
          7.391666666666666,
          7.530666666666666,
          7.513333333333333,
          7.531333333333333,
          7.805,
          8.127666666666666,
          7.550999999999999,
          7.008,
          7.978333333333333,
          8.340333333333334,
          7.438666666666666,
          7.497333333333333,
          7.515666666666667,
          7.898,
          7.707333333333334,
          7.423333333333332,
          7.7443333333333335,
          7.735666666666667,
          8.009666666666666,
          7.863333333333332,
          7.958000000000001,
          7.937666666666666,
          7.988666666666667,
          7.723999999999999,
          7.919333333333333,
          7.545999999999999,
          7.8790000000000004,
          8.130666666666668,
          8.841333333333333,
          7.831666666666666,
          7.761666666666666,
          8.165999999999999,
          7.873,
          7.817333333333333,
          7.092,
          7.508333333333333,
          7.651666666666666,
          7.726999999999999,
          7.588333333333334,
          8.376666666666667,
          7.470999999999999,
          7.719333333333332,
          7.515333333333333,
          7.906666666666666,
          7.908333333333334,
          7.934333333333334,
          7.500666666666665,
          8.0,
          7.497666666666667,
          7.973999999999999,
          8.366666666666667,
          8.457,
          7.910666666666667,
          7.851999999999999,
          7.676666666666666,
          7.790666666666667,
          8.244,
          7.509666666666667,
          7.702999999999999,
          7.578,
          7.905333333333334,
          7.721999999999999,
          7.946333333333333,
          7.761666666666666,
          8.108333333333333,
          8.447000000000001,
          7.954999999999999,
          7.5953333333333335,
          7.664999999999999,
          8.066333333333333,
          8.216999999999999,
          8.216666666666667,
          8.211,
          7.821333333333333,
          8.17,
          8.202333333333334,
          8.318333333333333,
          7.935666666666666,
          8.124,
          8.036,
          8.256666666666666,
          8.134333333333332,
          8.316,
          8.013666666666667,
          8.104,
          8.025333333333332,
          8.136333333333333,
          8.137666666666666,
          8.673333333333334,
          8.259333333333332,
          8.506,
          8.427,
          8.354,
          8.420333333333334,
          8.433,
          8.320666666666668,
          8.476,
          8.605333333333334,
          8.318333333333333,
          8.243333333333332,
          8.222333333333333,
          8.298666666666666,
          8.26,
          8.706000000000001,
          8.097999999999999,
          7.970999999999999,
          7.8439999999999985,
          8.220333333333334,
          8.497333333333332,
          8.665333333333333,
          7.769333333333333,
          8.614666666666666,
          8.399333333333333,
          8.104999999999999,
          7.897333333333333,
          8.131333333333332,
          8.296,
          8.495333333333333,
          8.546666666666667,
          8.353666666666667,
          8.360333333333333,
          8.183666666666666,
          8.259666666666666,
          8.84233333333333,
          8.258000000000001,
          8.677333333333333,
          7.917666666666666,
          8.777333333333333,
          8.604,
          8.376,
          8.690666666666665,
          8.918999999999999,
          8.228666666666667,
          8.706999999999999,
          8.693,
          8.503333333333332,
          8.735666666666665,
          8.455,
          8.924999999999999,
          8.587000000000002,
          9.243333333333334,
          8.805333333333333,
          8.686333333333332,
          8.696,
          8.811,
          8.832666666666668,
          8.597,
          8.832,
          9.223999999999998,
          8.691333333333333,
          9.214999999999998,
          9.241333333333332,
          9.416333333333332,
          9.118333333333332,
          9.047,
          9.462666666666665,
          9.056666666666667,
          9.608666666666666,
          9.418333333333333,
          9.188333333333333,
          9.604999999999999,
          9.19,
          9.429666666666666,
          9.166666666666666,
          9.516333333333334,
          9.454999999999998
         ],
         "yaxis": "y"
        },
        {
         "hovertemplate": "variable=summer_temp<br>year=%{x}<br>value=%{y}<extra></extra>",
         "legendgroup": "summer_temp",
         "line": {
          "color": "#EF553B",
          "dash": "solid"
         },
         "mode": "lines",
         "name": "summer_temp",
         "showlegend": true,
         "type": "scattergl",
         "x": [
          "1750",
          "1751",
          "1752",
          "1753",
          "1754",
          "1755",
          "1756",
          "1757",
          "1758",
          "1759",
          "1760",
          "1761",
          "1762",
          "1763",
          "1764",
          "1765",
          "1766",
          "1767",
          "1768",
          "1769",
          "1770",
          "1771",
          "1772",
          "1773",
          "1774",
          "1775",
          "1776",
          "1777",
          "1778",
          "1779",
          "1780",
          "1781",
          "1782",
          "1783",
          "1784",
          "1785",
          "1786",
          "1787",
          "1788",
          "1789",
          "1790",
          "1791",
          "1792",
          "1793",
          "1794",
          "1795",
          "1796",
          "1797",
          "1798",
          "1799",
          "1800",
          "1801",
          "1802",
          "1803",
          "1804",
          "1805",
          "1806",
          "1807",
          "1808",
          "1809",
          "1810",
          "1811",
          "1812",
          "1813",
          "1814",
          "1815",
          "1816",
          "1817",
          "1818",
          "1819",
          "1820",
          "1821",
          "1822",
          "1823",
          "1824",
          "1825",
          "1826",
          "1827",
          "1828",
          "1829",
          "1830",
          "1831",
          "1832",
          "1833",
          "1834",
          "1835",
          "1836",
          "1837",
          "1838",
          "1839",
          "1840",
          "1841",
          "1842",
          "1843",
          "1844",
          "1845",
          "1846",
          "1847",
          "1848",
          "1849",
          "1850",
          "1851",
          "1852",
          "1853",
          "1854",
          "1855",
          "1856",
          "1857",
          "1858",
          "1859",
          "1860",
          "1861",
          "1862",
          "1863",
          "1864",
          "1865",
          "1866",
          "1867",
          "1868",
          "1869",
          "1870",
          "1871",
          "1872",
          "1873",
          "1874",
          "1875",
          "1876",
          "1877",
          "1878",
          "1879",
          "1880",
          "1881",
          "1882",
          "1883",
          "1884",
          "1885",
          "1886",
          "1887",
          "1888",
          "1889",
          "1890",
          "1891",
          "1892",
          "1893",
          "1894",
          "1895",
          "1896",
          "1897",
          "1898",
          "1899",
          "1900",
          "1901",
          "1902",
          "1903",
          "1904",
          "1905",
          "1906",
          "1907",
          "1908",
          "1909",
          "1910",
          "1911",
          "1912",
          "1913",
          "1914",
          "1915",
          "1916",
          "1917",
          "1918",
          "1919",
          "1920",
          "1921",
          "1922",
          "1923",
          "1924",
          "1925",
          "1926",
          "1927",
          "1928",
          "1929",
          "1930",
          "1931",
          "1932",
          "1933",
          "1934",
          "1935",
          "1936",
          "1937",
          "1938",
          "1939",
          "1940",
          "1941",
          "1942",
          "1943",
          "1944",
          "1945",
          "1946",
          "1947",
          "1948",
          "1949",
          "1950",
          "1951",
          "1952",
          "1953",
          "1954",
          "1955",
          "1956",
          "1957",
          "1958",
          "1959",
          "1960",
          "1961",
          "1962",
          "1963",
          "1964",
          "1965",
          "1966",
          "1967",
          "1968",
          "1969",
          "1970",
          "1971",
          "1972",
          "1973",
          "1974",
          "1975",
          "1976",
          "1977",
          "1978",
          "1979",
          "1980",
          "1981",
          "1982",
          "1983",
          "1984",
          "1985",
          "1986",
          "1987",
          "1988",
          "1989",
          "1990",
          "1991",
          "1992",
          "1993",
          "1994",
          "1995",
          "1996",
          "1997",
          "1998",
          "1999",
          "2000",
          "2001",
          "2002",
          "2003",
          "2004",
          "2005",
          "2006",
          "2007",
          "2008",
          "2009",
          "2010",
          "2011",
          "2012",
          "2013",
          "2014",
          "2015"
         ],
         "xaxis": "x",
         "y": [
          14.518333333333333,
          14.116,
          null,
          14.608333333333334,
          14.208333333333334,
          14.430666666666667,
          13.963333333333333,
          17.544999999999998,
          12.934666666666665,
          13.541666666666666,
          12.916333333333334,
          17.057666666666666,
          14.070333333333332,
          14.262666666666666,
          12.170666666666667,
          12.635333333333334,
          13.655333333333331,
          14.023333333333333,
          12.905666666666667,
          14.365666666666668,
          11.639333333333335,
          14.045333333333332,
          13.775333333333334,
          13.639666666666669,
          15.330333333333334,
          13.822666666666668,
          14.503,
          12.627,
          13.212333333333333,
          13.335,
          14.625666666666666,
          13.368,
          14.469666666666667,
          13.793333333333331,
          14.537,
          14.226,
          14.261333333333333,
          13.791666666666666,
          14.720333333333334,
          14.269666666666666,
          13.827666666666667,
          13.529000000000002,
          13.357999999999999,
          13.547333333333333,
          12.784,
          13.576,
          14.417333333333334,
          13.999666666666664,
          14.317,
          14.211666666666666,
          13.662666666666667,
          13.466333333333331,
          14.379333333333333,
          14.764333333333333,
          14.686333333333332,
          14.666333333333332,
          13.644666666666666,
          13.743333333333332,
          13.655666666666667,
          12.853,
          12.175333333333333,
          12.472999999999999,
          13.792666666666667,
          13.62,
          12.672666666666666,
          12.921666666666667,
          12.208999999999998,
          12.254,
          13.500333333333336,
          12.707,
          12.870666666666667,
          12.930666666666667,
          13.498,
          13.761666666666668,
          13.897999999999998,
          13.680333333333332,
          13.537,
          13.975333333333333,
          14.047666666666666,
          13.494666666666667,
          13.718333333333334,
          13.091000000000001,
          12.85,
          13.357999999999999,
          13.469333333333333,
          12.485999999999999,
          13.008333333333333,
          12.881,
          13.559,
          13.676333333333332,
          13.737,
          13.774,
          13.151333333333334,
          13.272,
          13.269,
          13.579333333333333,
          14.191333333333333,
          13.497333333333332,
          13.660333333333334,
          13.687,
          13.893666666666668,
          13.899999999999999,
          13.660000000000002,
          14.002666666666665,
          13.803333333333333,
          13.485666666666667,
          13.512,
          13.255666666666665,
          13.284333333333334,
          13.395333333333333,
          13.746666666666664,
          13.546666666666667,
          13.325333333333333,
          13.284333333333334,
          13.653666666666666,
          13.671333333333335,
          13.662333333333331,
          13.677333333333332,
          13.806666666666667,
          13.961333333333334,
          13.912,
          13.767333333333333,
          13.720333333333334,
          13.815666666666667,
          13.747666666666666,
          13.567333333333332,
          13.643666666666666,
          14.059,
          14.210666666666667,
          13.571,
          13.758333333333333,
          13.552666666666667,
          13.418333333333331,
          13.512333333333332,
          13.135333333333334,
          13.346333333333334,
          13.446,
          13.336,
          13.558,
          13.672333333333333,
          13.390666666666666,
          13.438,
          13.524333333333333,
          13.607666666666667,
          13.449999999999998,
          13.533333333333333,
          13.720333333333334,
          13.765666666666666,
          13.704,
          13.597333333333333,
          13.76,
          13.850333333333333,
          13.681333333333333,
          13.43,
          13.436333333333332,
          13.588999999999999,
          13.715666666666666,
          13.286666666666667,
          13.622,
          13.591333333333333,
          13.702333333333334,
          13.530000000000001,
          13.403666666666666,
          13.622,
          13.841333333333333,
          13.837666666666669,
          13.524666666666667,
          13.548333333333332,
          13.447000000000001,
          13.762666666666668,
          13.682666666666668,
          13.812333333333333,
          13.731,
          13.630333333333335,
          13.766666666666667,
          13.641333333333334,
          13.776666666666666,
          13.764333333333333,
          13.703333333333333,
          13.521666666666667,
          13.913333333333332,
          14.089666666666666,
          13.831666666666665,
          13.702,
          13.841,
          13.810666666666664,
          13.950666666666665,
          13.995,
          13.921999999999999,
          13.952666666666666,
          13.988333333333335,
          14.117333333333335,
          13.868666666666668,
          13.798333333333334,
          13.987666666666664,
          13.951333333333332,
          13.847,
          13.878333333333332,
          14.001666666666667,
          13.749333333333334,
          13.660666666666666,
          13.865,
          13.985,
          14.020999999999999,
          13.836333333333334,
          14.028333333333334,
          13.509666666666666,
          13.998,
          13.740666666666668,
          13.959666666666669,
          13.835666666666668,
          13.946333333333333,
          13.781666666666666,
          14.075666666666665,
          13.812666666666667,
          13.731,
          13.962333333333333,
          13.781999999999998,
          13.584666666666665,
          13.832333333333333,
          13.855333333333334,
          13.705666666666666,
          13.967666666666666,
          14.042666666666667,
          13.895333333333333,
          13.807333333333332,
          13.583999999999998,
          14.198999999999998,
          13.627,
          13.811333333333332,
          14.171000000000001,
          14.335,
          13.862,
          14.062666666666667,
          13.933333333333335,
          13.866999999999999,
          13.901333333333334,
          14.237666666666668,
          14.483333333333334,
          14.064666666666666,
          14.257333333333333,
          14.523000000000001,
          13.826999999999998,
          13.982666666666667,
          14.259666666666666,
          14.638666666666666,
          14.370333333333333,
          14.317333333333332,
          14.911666666666667,
          14.410666666666666,
          14.475666666666667,
          14.566,
          14.666000000000002,
          14.563666666666668,
          14.129666666666667,
          14.725333333333332,
          14.799333333333331,
          14.763666666666667,
          14.565333333333333,
          14.695666666666666,
          14.800666666666666,
          14.954666666666666,
          14.762666666666668,
          14.771,
          14.694333333333333,
          14.770333333333333
         ],
         "yaxis": "y"
        },
        {
         "hovertemplate": "variable=autumn_temp<br>year=%{x}<br>value=%{y}<extra></extra>",
         "legendgroup": "autumn_temp",
         "line": {
          "color": "#00cc96",
          "dash": "solid"
         },
         "mode": "lines",
         "name": "autumn_temp",
         "showlegend": true,
         "type": "scattergl",
         "x": [
          "1750",
          "1751",
          "1752",
          "1753",
          "1754",
          "1755",
          "1756",
          "1757",
          "1758",
          "1759",
          "1760",
          "1761",
          "1762",
          "1763",
          "1764",
          "1765",
          "1766",
          "1767",
          "1768",
          "1769",
          "1770",
          "1771",
          "1772",
          "1773",
          "1774",
          "1775",
          "1776",
          "1777",
          "1778",
          "1779",
          "1780",
          "1781",
          "1782",
          "1783",
          "1784",
          "1785",
          "1786",
          "1787",
          "1788",
          "1789",
          "1790",
          "1791",
          "1792",
          "1793",
          "1794",
          "1795",
          "1796",
          "1797",
          "1798",
          "1799",
          "1800",
          "1801",
          "1802",
          "1803",
          "1804",
          "1805",
          "1806",
          "1807",
          "1808",
          "1809",
          "1810",
          "1811",
          "1812",
          "1813",
          "1814",
          "1815",
          "1816",
          "1817",
          "1818",
          "1819",
          "1820",
          "1821",
          "1822",
          "1823",
          "1824",
          "1825",
          "1826",
          "1827",
          "1828",
          "1829",
          "1830",
          "1831",
          "1832",
          "1833",
          "1834",
          "1835",
          "1836",
          "1837",
          "1838",
          "1839",
          "1840",
          "1841",
          "1842",
          "1843",
          "1844",
          "1845",
          "1846",
          "1847",
          "1848",
          "1849",
          "1850",
          "1851",
          "1852",
          "1853",
          "1854",
          "1855",
          "1856",
          "1857",
          "1858",
          "1859",
          "1860",
          "1861",
          "1862",
          "1863",
          "1864",
          "1865",
          "1866",
          "1867",
          "1868",
          "1869",
          "1870",
          "1871",
          "1872",
          "1873",
          "1874",
          "1875",
          "1876",
          "1877",
          "1878",
          "1879",
          "1880",
          "1881",
          "1882",
          "1883",
          "1884",
          "1885",
          "1886",
          "1887",
          "1888",
          "1889",
          "1890",
          "1891",
          "1892",
          "1893",
          "1894",
          "1895",
          "1896",
          "1897",
          "1898",
          "1899",
          "1900",
          "1901",
          "1902",
          "1903",
          "1904",
          "1905",
          "1906",
          "1907",
          "1908",
          "1909",
          "1910",
          "1911",
          "1912",
          "1913",
          "1914",
          "1915",
          "1916",
          "1917",
          "1918",
          "1919",
          "1920",
          "1921",
          "1922",
          "1923",
          "1924",
          "1925",
          "1926",
          "1927",
          "1928",
          "1929",
          "1930",
          "1931",
          "1932",
          "1933",
          "1934",
          "1935",
          "1936",
          "1937",
          "1938",
          "1939",
          "1940",
          "1941",
          "1942",
          "1943",
          "1944",
          "1945",
          "1946",
          "1947",
          "1948",
          "1949",
          "1950",
          "1951",
          "1952",
          "1953",
          "1954",
          "1955",
          "1956",
          "1957",
          "1958",
          "1959",
          "1960",
          "1961",
          "1962",
          "1963",
          "1964",
          "1965",
          "1966",
          "1967",
          "1968",
          "1969",
          "1970",
          "1971",
          "1972",
          "1973",
          "1974",
          "1975",
          "1976",
          "1977",
          "1978",
          "1979",
          "1980",
          "1981",
          "1982",
          "1983",
          "1984",
          "1985",
          "1986",
          "1987",
          "1988",
          "1989",
          "1990",
          "1991",
          "1992",
          "1993",
          "1994",
          "1995",
          "1996",
          "1997",
          "1998",
          "1999",
          "2000",
          "2001",
          "2002",
          "2003",
          "2004",
          "2005",
          "2006",
          "2007",
          "2008",
          "2009",
          "2010",
          "2011",
          "2012",
          "2013",
          "2014",
          "2015"
         ],
         "xaxis": "x",
         "y": [
          8.889999999999999,
          10.673,
          7.587,
          9.212333333333333,
          8.957333333333333,
          9.233666666666666,
          8.063,
          8.455333333333332,
          6.292333333333332,
          8.387,
          7.778,
          8.283666666666667,
          7.616333333333333,
          7.167000000000001,
          8.832666666666666,
          8.166666666666666,
          9.389666666666667,
          9.539,
          7.711333333333333,
          6.445666666666665,
          8.392,
          8.865333333333334,
          9.102333333333332,
          8.354333333333333,
          7.5183333333333335,
          9.882333333333333,
          8.177333333333333,
          7.954666666666667,
          8.426666666666668,
          9.267666666666667,
          8.308666666666666,
          8.791333333333332,
          8.777333333333333,
          6.503666666666667,
          7.219666666666666,
          7.791333333333333,
          8.537,
          7.976666666666667,
          9.053,
          8.457333333333333,
          8.380333333333333,
          8.654333333333332,
          8.631333333333334,
          8.687,
          8.762666666666666,
          8.042,
          8.879333333333333,
          8.809,
          8.771,
          9.273666666666667,
          8.612,
          8.760333333333334,
          9.023333333333332,
          9.136666666666665,
          9.627333333333334,
          8.076666666666666,
          8.735333333333335,
          9.162333333333335,
          8.398333333333332,
          7.572,
          6.663666666666667,
          6.817,
          7.3823333333333325,
          9.276666666666667,
          8.263,
          7.488666666666667,
          6.7156666666666665,
          6.551000000000001,
          7.4223333333333334,
          8.451999999999998,
          7.730333333333333,
          8.104666666666667,
          7.656666666666667,
          7.449333333333333,
          8.534,
          8.395,
          8.757,
          8.557333333333334,
          8.231,
          8.135666666666667,
          8.675333333333333,
          7.396,
          7.774,
          8.577333333333332,
          8.847666666666667,
          7.363,
          7.794,
          7.542333333333333,
          8.264,
          7.663999999999999,
          7.538666666666667,
          8.143333333333333,
          8.023666666666665,
          8.331666666666667,
          7.973333333333333,
          8.07,
          8.337,
          8.603666666666667,
          8.314,
          8.586999999999998,
          8.109666666666667,
          8.590666666666666,
          8.327,
          8.342666666666668,
          9.007333333333333,
          8.257,
          8.131666666666666,
          8.163333333333332,
          8.649333333333333,
          8.608666666666666,
          8.543666666666667,
          8.530333333333333,
          8.034333333333334,
          8.285666666666666,
          8.465666666666666,
          9.025666666666666,
          8.642666666666667,
          9.304666666666668,
          8.769666666666668,
          9.008666666666667,
          8.787333333333331,
          8.639999999999999,
          8.856666666666667,
          8.846666666666666,
          9.013333333333334,
          8.172666666666666,
          8.575333333333333,
          9.232,
          9.237333333333334,
          8.734666666666667,
          8.650666666666666,
          8.604,
          8.415666666666665,
          8.385666666666665,
          8.326666666666666,
          8.527333333333335,
          8.476666666666667,
          8.679,
          8.892666666666669,
          8.470333333333334,
          8.584666666666665,
          8.533333333333333,
          8.637666666666666,
          8.943,
          8.703333333333333,
          8.868,
          8.868666666666668,
          8.91,
          8.677666666666665,
          9.380666666666666,
          9.141666666666667,
          8.987666666666668,
          8.624666666666668,
          8.609666666666667,
          8.814666666666666,
          9.009333333333332,
          8.846666666666666,
          8.702,
          8.704666666666666,
          9.102333333333332,
          8.685666666666664,
          8.955,
          8.37,
          8.953333333333333,
          9.020333333333333,
          9.022333333333334,
          8.791666666666666,
          8.703000000000001,
          8.999,
          8.946666666666667,
          8.793666666666667,
          8.999,
          8.959,
          9.260333333333334,
          9.186666666666667,
          9.171666666666665,
          9.308333333333334,
          9.495666666666667,
          9.283999999999999,
          9.146333333333335,
          9.236333333333333,
          9.487666666666666,
          9.3,
          8.994,
          9.181666666666667,
          8.985999999999999,
          9.237,
          9.499333333333333,
          9.580333333333334,
          9.121666666666666,
          9.267000000000001,
          9.159666666666666,
          9.389333333333333,
          9.421,
          9.449666666666667,
          9.290999999999999,
          9.193333333333333,
          9.528,
          9.308,
          9.212,
          8.825666666666665,
          9.406333333333334,
          8.94,
          9.237666666666668,
          9.407666666666666,
          9.220666666666666,
          8.816333333333333,
          9.399666666666667,
          9.159999999999998,
          8.952666666666667,
          9.139999999999999,
          9.26,
          9.256333333333332,
          9.686333333333332,
          8.806333333333333,
          9.026,
          9.084999999999999,
          9.346333333333334,
          8.988,
          9.319,
          9.224,
          9.274000000000001,
          9.014666666666667,
          9.318666666666667,
          8.918999999999999,
          9.121,
          8.688666666666666,
          9.187333333333333,
          9.239666666666666,
          9.373,
          9.518333333333334,
          9.301,
          9.077333333333334,
          9.647,
          9.068,
          9.095333333333333,
          9.011666666666667,
          9.364333333333333,
          9.651666666666666,
          9.447333333333331,
          9.665666666666667,
          9.623333333333333,
          8.971333333333332,
          9.094,
          9.768666666666666,
          9.810666666666666,
          9.455333333333334,
          9.878333333333334,
          9.672666666666666,
          9.770666666666665,
          9.448333333333334,
          9.996666666666666,
          9.943333333333333,
          10.020666666666667,
          10.028,
          10.413666666666666,
          10.039666666666667,
          10.115333333333334,
          10.141666666666667,
          10.106666666666667,
          10.264000000000001,
          10.026000000000002,
          10.208,
          10.278,
          10.044666666666666,
          10.411
         ],
         "yaxis": "y"
        },
        {
         "hovertemplate": "variable=winter_temp<br>year=%{x}<br>value=%{y}<extra></extra>",
         "legendgroup": "winter_temp",
         "line": {
          "color": "#ab63fa",
          "dash": "solid"
         },
         "mode": "lines",
         "name": "winter_temp",
         "showlegend": true,
         "type": "scattergl",
         "x": [
          "1750",
          "1751",
          "1752",
          "1753",
          "1754",
          "1755",
          "1756",
          "1757",
          "1758",
          "1759",
          "1760",
          "1761",
          "1762",
          "1763",
          "1764",
          "1765",
          "1766",
          "1767",
          "1768",
          "1769",
          "1770",
          "1771",
          "1772",
          "1773",
          "1774",
          "1775",
          "1776",
          "1777",
          "1778",
          "1779",
          "1780",
          "1781",
          "1782",
          "1783",
          "1784",
          "1785",
          "1786",
          "1787",
          "1788",
          "1789",
          "1790",
          "1791",
          "1792",
          "1793",
          "1794",
          "1795",
          "1796",
          "1797",
          "1798",
          "1799",
          "1800",
          "1801",
          "1802",
          "1803",
          "1804",
          "1805",
          "1806",
          "1807",
          "1808",
          "1809",
          "1810",
          "1811",
          "1812",
          "1813",
          "1814",
          "1815",
          "1816",
          "1817",
          "1818",
          "1819",
          "1820",
          "1821",
          "1822",
          "1823",
          "1824",
          "1825",
          "1826",
          "1827",
          "1828",
          "1829",
          "1830",
          "1831",
          "1832",
          "1833",
          "1834",
          "1835",
          "1836",
          "1837",
          "1838",
          "1839",
          "1840",
          "1841",
          "1842",
          "1843",
          "1844",
          "1845",
          "1846",
          "1847",
          "1848",
          "1849",
          "1850",
          "1851",
          "1852",
          "1853",
          "1854",
          "1855",
          "1856",
          "1857",
          "1858",
          "1859",
          "1860",
          "1861",
          "1862",
          "1863",
          "1864",
          "1865",
          "1866",
          "1867",
          "1868",
          "1869",
          "1870",
          "1871",
          "1872",
          "1873",
          "1874",
          "1875",
          "1876",
          "1877",
          "1878",
          "1879",
          "1880",
          "1881",
          "1882",
          "1883",
          "1884",
          "1885",
          "1886",
          "1887",
          "1888",
          "1889",
          "1890",
          "1891",
          "1892",
          "1893",
          "1894",
          "1895",
          "1896",
          "1897",
          "1898",
          "1899",
          "1900",
          "1901",
          "1902",
          "1903",
          "1904",
          "1905",
          "1906",
          "1907",
          "1908",
          "1909",
          "1910",
          "1911",
          "1912",
          "1913",
          "1914",
          "1915",
          "1916",
          "1917",
          "1918",
          "1919",
          "1920",
          "1921",
          "1922",
          "1923",
          "1924",
          "1925",
          "1926",
          "1927",
          "1928",
          "1929",
          "1930",
          "1931",
          "1932",
          "1933",
          "1934",
          "1935",
          "1936",
          "1937",
          "1938",
          "1939",
          "1940",
          "1941",
          "1942",
          "1943",
          "1944",
          "1945",
          "1946",
          "1947",
          "1948",
          "1949",
          "1950",
          "1951",
          "1952",
          "1953",
          "1954",
          "1955",
          "1956",
          "1957",
          "1958",
          "1959",
          "1960",
          "1961",
          "1962",
          "1963",
          "1964",
          "1965",
          "1966",
          "1967",
          "1968",
          "1969",
          "1970",
          "1971",
          "1972",
          "1973",
          "1974",
          "1975",
          "1976",
          "1977",
          "1978",
          "1979",
          "1980",
          "1981",
          "1982",
          "1983",
          "1984",
          "1985",
          "1986",
          "1987",
          "1988",
          "1989",
          "1990",
          "1991",
          "1992",
          "1993",
          "1994",
          "1995",
          "1996",
          "1997",
          "1998",
          "1999",
          "2000",
          "2001",
          "2002",
          "2003",
          "2004",
          "2005",
          "2006",
          "2007",
          "2008",
          "2009",
          "2010",
          "2011",
          "2012",
          "2013",
          "2014",
          "2015"
         ],
         "xaxis": "x",
         "y": [
          2.9630000000000005,
          1.729,
          2.7170000000000005,
          1.1043333333333332,
          1.6373333333333333,
          1.1743333333333332,
          3.906,
          1.4829999999999999,
          0.8506666666666667,
          3.1143333333333327,
          1.3926666666666667,
          0.8326666666666666,
          4.930000000000001,
          1.8413333333333333,
          4.406,
          3.3369999999999997,
          2.1453333333333333,
          1.4926666666666666,
          0.36433333333333334,
          1.1636666666666666,
          3.6043333333333334,
          2.449666666666667,
          2.747666666666667,
          2.0249999999999995,
          1.6330000000000002,
          3.9906666666666673,
          3.013333333333333,
          4.6690000000000005,
          3.571999999999999,
          2.9596666666666667,
          3.0596666666666668,
          2.6519999999999997,
          0.967,
          2.029,
          2.3333333333333335,
          1.261,
          1.3846666666666667,
          2.4013333333333335,
          1.856,
          2.8266666666666667,
          2.724,
          2.828333333333333,
          2.452,
          2.4343333333333335,
          3.411,
          3.2313333333333336,
          2.279666666666667,
          4.209333333333333,
          2.639666666666667,
          2.496,
          3.4376666666666664,
          3.4713333333333334,
          3.1496666666666666,
          1.4573333333333334,
          2.202666666666667,
          3.179,
          3.281,
          3.1899999999999995,
          1.3866666666666667,
          1.047,
          1.9796666666666667,
          1.6660000000000001,
          0.8186666666666668,
          1.0146666666666666,
          3.0066666666666673,
          1.8483333333333334,
          1.457,
          1.7863333333333333,
          1.4886666666666664,
          1.7140000000000002,
          1.5513333333333332,
          3.158,
          2.7483333333333335,
          1.8983333333333334,
          3.468666666666667,
          3.1139999999999994,
          2.767333333333333,
          3.576666666666666,
          1.8003333333333336,
          2.066333333333333,
          3.8409999999999997,
          2.308666666666667,
          1.444,
          2.4596666666666667,
          1.9183333333333337,
          2.238666666666667,
          2.300333333333333,
          2.281333333333333,
          1.2063333333333335,
          2.2373333333333334,
          2.1906666666666665,
          1.8883333333333334,
          2.7176666666666667,
          3.5530000000000004,
          1.9323333333333335,
          2.008,
          3.455,
          2.6936666666666667,
          2.111666666666667,
          2.167333333333333,
          2.207666666666667,
          2.693,
          2.9003333333333337,
          2.2906666666666666,
          2.2263333333333333,
          2.5726666666666667,
          2.7889999999999997,
          2.6056666666666666,
          2.489,
          2.663666666666667,
          2.114333333333333,
          1.8116666666666668,
          1.359,
          2.9793333333333334,
          2.1076666666666664,
          2.5910000000000006,
          3.1193333333333335,
          3.0276666666666667,
          2.405666666666667,
          2.895,
          2.148,
          2.1153333333333335,
          2.2096666666666667,
          3.0180000000000002,
          3.0536666666666665,
          2.1523333333333334,
          2.2223333333333333,
          2.736666666666667,
          3.029666666666667,
          2.5260000000000002,
          2.3043333333333336,
          2.7610000000000006,
          2.808666666666667,
          2.1923333333333335,
          2.5406666666666666,
          2.296666666666667,
          2.2436666666666665,
          1.9176666666666666,
          2.323,
          2.7566666666666664,
          2.4403333333333332,
          2.3866666666666667,
          2.5860000000000003,
          1.7696666666666665,
          2.582333333333333,
          2.252333333333333,
          2.7699999999999996,
          2.497666666666667,
          2.832666666666667,
          2.6333333333333333,
          2.738,
          2.872666666666667,
          3.001,
          2.9890000000000003,
          2.436,
          2.5116666666666667,
          2.7099999999999995,
          2.2903333333333333,
          2.7146666666666666,
          2.441333333333334,
          2.598666666666667,
          2.501,
          2.9416666666666664,
          2.8539999999999996,
          3.392,
          3.0656666666666665,
          2.6296666666666666,
          2.2466666666666666,
          2.412333333333333,
          2.7533333333333334,
          2.7416666666666667,
          3.2560000000000002,
          2.731,
          2.9766666666666666,
          2.904,
          3.1223333333333336,
          3.512,
          2.8926666666666665,
          3.4173333333333336,
          2.2656666666666667,
          3.128,
          3.1653333333333333,
          3.373333333333333,
          2.6433333333333335,
          3.3866666666666667,
          3.241,
          2.892,
          3.1613333333333333,
          3.279,
          3.7076666666666664,
          3.297333333333333,
          3.3706666666666667,
          3.301666666666667,
          3.3806666666666665,
          3.5096666666666665,
          2.7763333333333335,
          3.191333333333333,
          3.176666666666667,
          3.359,
          3.142333333333333,
          2.752333333333333,
          2.932666666666666,
          3.368,
          3.5303333333333335,
          2.9006666666666665,
          3.285,
          2.9483333333333337,
          3.312,
          3.6970000000000005,
          3.3529999999999998,
          3.59,
          3.369666666666667,
          3.546333333333333,
          3.557,
          3.1223333333333336,
          3.2213333333333334,
          3.054,
          3.176666666666667,
          2.946,
          2.8753333333333337,
          3.3640000000000003,
          3.2336666666666667,
          2.7563333333333335,
          3.5893333333333337,
          2.7976666666666667,
          3.373666666666667,
          3.1986666666666665,
          3.2373333333333334,
          3.300333333333333,
          3.3733333333333335,
          3.5413333333333337,
          4.108333333333333,
          3.388666666666667,
          3.696,
          3.0730000000000004,
          3.1663333333333328,
          3.6856666666666666,
          3.920666666666667,
          3.7463333333333337,
          3.589,
          3.7703333333333333,
          3.7660000000000005,
          3.861666666666667,
          3.6936666666666667,
          3.3156666666666665,
          4.1063333333333345,
          3.7330000000000005,
          3.782666666666666,
          4.282333333333334,
          4.267666666666667,
          3.6656666666666666,
          3.8543333333333334,
          4.256,
          4.399666666666666,
          4.093666666666667,
          4.202,
          4.234333333333333,
          4.441,
          3.6016666666666666,
          4.030333333333332,
          4.142666666666666,
          3.893333333333333,
          3.629,
          4.210333333333334,
          4.027333333333334,
          4.687666666666666
         ],
         "yaxis": "y"
        }
       ],
       "layout": {
        "legend": {
         "title": {
          "text": "variable"
         },
         "tracegroupgap": 0
        },
        "template": {
         "data": {
          "bar": [
           {
            "error_x": {
             "color": "#2a3f5f"
            },
            "error_y": {
             "color": "#2a3f5f"
            },
            "marker": {
             "line": {
              "color": "#E5ECF6",
              "width": 0.5
             }
            },
            "type": "bar"
           }
          ],
          "barpolar": [
           {
            "marker": {
             "line": {
              "color": "#E5ECF6",
              "width": 0.5
             }
            },
            "type": "barpolar"
           }
          ],
          "carpet": [
           {
            "aaxis": {
             "endlinecolor": "#2a3f5f",
             "gridcolor": "white",
             "linecolor": "white",
             "minorgridcolor": "white",
             "startlinecolor": "#2a3f5f"
            },
            "baxis": {
             "endlinecolor": "#2a3f5f",
             "gridcolor": "white",
             "linecolor": "white",
             "minorgridcolor": "white",
             "startlinecolor": "#2a3f5f"
            },
            "type": "carpet"
           }
          ],
          "choropleth": [
           {
            "colorbar": {
             "outlinewidth": 0,
             "ticks": ""
            },
            "type": "choropleth"
           }
          ],
          "contour": [
           {
            "colorbar": {
             "outlinewidth": 0,
             "ticks": ""
            },
            "colorscale": [
             [
              0.0,
              "#0d0887"
             ],
             [
              0.1111111111111111,
              "#46039f"
             ],
             [
              0.2222222222222222,
              "#7201a8"
             ],
             [
              0.3333333333333333,
              "#9c179e"
             ],
             [
              0.4444444444444444,
              "#bd3786"
             ],
             [
              0.5555555555555556,
              "#d8576b"
             ],
             [
              0.6666666666666666,
              "#ed7953"
             ],
             [
              0.7777777777777778,
              "#fb9f3a"
             ],
             [
              0.8888888888888888,
              "#fdca26"
             ],
             [
              1.0,
              "#f0f921"
             ]
            ],
            "type": "contour"
           }
          ],
          "contourcarpet": [
           {
            "colorbar": {
             "outlinewidth": 0,
             "ticks": ""
            },
            "type": "contourcarpet"
           }
          ],
          "heatmap": [
           {
            "colorbar": {
             "outlinewidth": 0,
             "ticks": ""
            },
            "colorscale": [
             [
              0.0,
              "#0d0887"
             ],
             [
              0.1111111111111111,
              "#46039f"
             ],
             [
              0.2222222222222222,
              "#7201a8"
             ],
             [
              0.3333333333333333,
              "#9c179e"
             ],
             [
              0.4444444444444444,
              "#bd3786"
             ],
             [
              0.5555555555555556,
              "#d8576b"
             ],
             [
              0.6666666666666666,
              "#ed7953"
             ],
             [
              0.7777777777777778,
              "#fb9f3a"
             ],
             [
              0.8888888888888888,
              "#fdca26"
             ],
             [
              1.0,
              "#f0f921"
             ]
            ],
            "type": "heatmap"
           }
          ],
          "heatmapgl": [
           {
            "colorbar": {
             "outlinewidth": 0,
             "ticks": ""
            },
            "colorscale": [
             [
              0.0,
              "#0d0887"
             ],
             [
              0.1111111111111111,
              "#46039f"
             ],
             [
              0.2222222222222222,
              "#7201a8"
             ],
             [
              0.3333333333333333,
              "#9c179e"
             ],
             [
              0.4444444444444444,
              "#bd3786"
             ],
             [
              0.5555555555555556,
              "#d8576b"
             ],
             [
              0.6666666666666666,
              "#ed7953"
             ],
             [
              0.7777777777777778,
              "#fb9f3a"
             ],
             [
              0.8888888888888888,
              "#fdca26"
             ],
             [
              1.0,
              "#f0f921"
             ]
            ],
            "type": "heatmapgl"
           }
          ],
          "histogram": [
           {
            "marker": {
             "colorbar": {
              "outlinewidth": 0,
              "ticks": ""
             }
            },
            "type": "histogram"
           }
          ],
          "histogram2d": [
           {
            "colorbar": {
             "outlinewidth": 0,
             "ticks": ""
            },
            "colorscale": [
             [
              0.0,
              "#0d0887"
             ],
             [
              0.1111111111111111,
              "#46039f"
             ],
             [
              0.2222222222222222,
              "#7201a8"
             ],
             [
              0.3333333333333333,
              "#9c179e"
             ],
             [
              0.4444444444444444,
              "#bd3786"
             ],
             [
              0.5555555555555556,
              "#d8576b"
             ],
             [
              0.6666666666666666,
              "#ed7953"
             ],
             [
              0.7777777777777778,
              "#fb9f3a"
             ],
             [
              0.8888888888888888,
              "#fdca26"
             ],
             [
              1.0,
              "#f0f921"
             ]
            ],
            "type": "histogram2d"
           }
          ],
          "histogram2dcontour": [
           {
            "colorbar": {
             "outlinewidth": 0,
             "ticks": ""
            },
            "colorscale": [
             [
              0.0,
              "#0d0887"
             ],
             [
              0.1111111111111111,
              "#46039f"
             ],
             [
              0.2222222222222222,
              "#7201a8"
             ],
             [
              0.3333333333333333,
              "#9c179e"
             ],
             [
              0.4444444444444444,
              "#bd3786"
             ],
             [
              0.5555555555555556,
              "#d8576b"
             ],
             [
              0.6666666666666666,
              "#ed7953"
             ],
             [
              0.7777777777777778,
              "#fb9f3a"
             ],
             [
              0.8888888888888888,
              "#fdca26"
             ],
             [
              1.0,
              "#f0f921"
             ]
            ],
            "type": "histogram2dcontour"
           }
          ],
          "mesh3d": [
           {
            "colorbar": {
             "outlinewidth": 0,
             "ticks": ""
            },
            "type": "mesh3d"
           }
          ],
          "parcoords": [
           {
            "line": {
             "colorbar": {
              "outlinewidth": 0,
              "ticks": ""
             }
            },
            "type": "parcoords"
           }
          ],
          "pie": [
           {
            "automargin": true,
            "type": "pie"
           }
          ],
          "scatter": [
           {
            "marker": {
             "colorbar": {
              "outlinewidth": 0,
              "ticks": ""
             }
            },
            "type": "scatter"
           }
          ],
          "scatter3d": [
           {
            "line": {
             "colorbar": {
              "outlinewidth": 0,
              "ticks": ""
             }
            },
            "marker": {
             "colorbar": {
              "outlinewidth": 0,
              "ticks": ""
             }
            },
            "type": "scatter3d"
           }
          ],
          "scattercarpet": [
           {
            "marker": {
             "colorbar": {
              "outlinewidth": 0,
              "ticks": ""
             }
            },
            "type": "scattercarpet"
           }
          ],
          "scattergeo": [
           {
            "marker": {
             "colorbar": {
              "outlinewidth": 0,
              "ticks": ""
             }
            },
            "type": "scattergeo"
           }
          ],
          "scattergl": [
           {
            "marker": {
             "colorbar": {
              "outlinewidth": 0,
              "ticks": ""
             }
            },
            "type": "scattergl"
           }
          ],
          "scattermapbox": [
           {
            "marker": {
             "colorbar": {
              "outlinewidth": 0,
              "ticks": ""
             }
            },
            "type": "scattermapbox"
           }
          ],
          "scatterpolar": [
           {
            "marker": {
             "colorbar": {
              "outlinewidth": 0,
              "ticks": ""
             }
            },
            "type": "scatterpolar"
           }
          ],
          "scatterpolargl": [
           {
            "marker": {
             "colorbar": {
              "outlinewidth": 0,
              "ticks": ""
             }
            },
            "type": "scatterpolargl"
           }
          ],
          "scatterternary": [
           {
            "marker": {
             "colorbar": {
              "outlinewidth": 0,
              "ticks": ""
             }
            },
            "type": "scatterternary"
           }
          ],
          "surface": [
           {
            "colorbar": {
             "outlinewidth": 0,
             "ticks": ""
            },
            "colorscale": [
             [
              0.0,
              "#0d0887"
             ],
             [
              0.1111111111111111,
              "#46039f"
             ],
             [
              0.2222222222222222,
              "#7201a8"
             ],
             [
              0.3333333333333333,
              "#9c179e"
             ],
             [
              0.4444444444444444,
              "#bd3786"
             ],
             [
              0.5555555555555556,
              "#d8576b"
             ],
             [
              0.6666666666666666,
              "#ed7953"
             ],
             [
              0.7777777777777778,
              "#fb9f3a"
             ],
             [
              0.8888888888888888,
              "#fdca26"
             ],
             [
              1.0,
              "#f0f921"
             ]
            ],
            "type": "surface"
           }
          ],
          "table": [
           {
            "cells": {
             "fill": {
              "color": "#EBF0F8"
             },
             "line": {
              "color": "white"
             }
            },
            "header": {
             "fill": {
              "color": "#C8D4E3"
             },
             "line": {
              "color": "white"
             }
            },
            "type": "table"
           }
          ]
         },
         "layout": {
          "annotationdefaults": {
           "arrowcolor": "#2a3f5f",
           "arrowhead": 0,
           "arrowwidth": 1
          },
          "autotypenumbers": "strict",
          "coloraxis": {
           "colorbar": {
            "outlinewidth": 0,
            "ticks": ""
           }
          },
          "colorscale": {
           "diverging": [
            [
             0,
             "#8e0152"
            ],
            [
             0.1,
             "#c51b7d"
            ],
            [
             0.2,
             "#de77ae"
            ],
            [
             0.3,
             "#f1b6da"
            ],
            [
             0.4,
             "#fde0ef"
            ],
            [
             0.5,
             "#f7f7f7"
            ],
            [
             0.6,
             "#e6f5d0"
            ],
            [
             0.7,
             "#b8e186"
            ],
            [
             0.8,
             "#7fbc41"
            ],
            [
             0.9,
             "#4d9221"
            ],
            [
             1,
             "#276419"
            ]
           ],
           "sequential": [
            [
             0.0,
             "#0d0887"
            ],
            [
             0.1111111111111111,
             "#46039f"
            ],
            [
             0.2222222222222222,
             "#7201a8"
            ],
            [
             0.3333333333333333,
             "#9c179e"
            ],
            [
             0.4444444444444444,
             "#bd3786"
            ],
            [
             0.5555555555555556,
             "#d8576b"
            ],
            [
             0.6666666666666666,
             "#ed7953"
            ],
            [
             0.7777777777777778,
             "#fb9f3a"
            ],
            [
             0.8888888888888888,
             "#fdca26"
            ],
            [
             1.0,
             "#f0f921"
            ]
           ],
           "sequentialminus": [
            [
             0.0,
             "#0d0887"
            ],
            [
             0.1111111111111111,
             "#46039f"
            ],
            [
             0.2222222222222222,
             "#7201a8"
            ],
            [
             0.3333333333333333,
             "#9c179e"
            ],
            [
             0.4444444444444444,
             "#bd3786"
            ],
            [
             0.5555555555555556,
             "#d8576b"
            ],
            [
             0.6666666666666666,
             "#ed7953"
            ],
            [
             0.7777777777777778,
             "#fb9f3a"
            ],
            [
             0.8888888888888888,
             "#fdca26"
            ],
            [
             1.0,
             "#f0f921"
            ]
           ]
          },
          "colorway": [
           "#636efa",
           "#EF553B",
           "#00cc96",
           "#ab63fa",
           "#FFA15A",
           "#19d3f3",
           "#FF6692",
           "#B6E880",
           "#FF97FF",
           "#FECB52"
          ],
          "font": {
           "color": "#2a3f5f"
          },
          "geo": {
           "bgcolor": "white",
           "lakecolor": "white",
           "landcolor": "#E5ECF6",
           "showlakes": true,
           "showland": true,
           "subunitcolor": "white"
          },
          "hoverlabel": {
           "align": "left"
          },
          "hovermode": "closest",
          "mapbox": {
           "style": "light"
          },
          "paper_bgcolor": "white",
          "plot_bgcolor": "#E5ECF6",
          "polar": {
           "angularaxis": {
            "gridcolor": "white",
            "linecolor": "white",
            "ticks": ""
           },
           "bgcolor": "#E5ECF6",
           "radialaxis": {
            "gridcolor": "white",
            "linecolor": "white",
            "ticks": ""
           }
          },
          "scene": {
           "xaxis": {
            "backgroundcolor": "#E5ECF6",
            "gridcolor": "white",
            "gridwidth": 2,
            "linecolor": "white",
            "showbackground": true,
            "ticks": "",
            "zerolinecolor": "white"
           },
           "yaxis": {
            "backgroundcolor": "#E5ECF6",
            "gridcolor": "white",
            "gridwidth": 2,
            "linecolor": "white",
            "showbackground": true,
            "ticks": "",
            "zerolinecolor": "white"
           },
           "zaxis": {
            "backgroundcolor": "#E5ECF6",
            "gridcolor": "white",
            "gridwidth": 2,
            "linecolor": "white",
            "showbackground": true,
            "ticks": "",
            "zerolinecolor": "white"
           }
          },
          "shapedefaults": {
           "line": {
            "color": "#2a3f5f"
           }
          },
          "ternary": {
           "aaxis": {
            "gridcolor": "white",
            "linecolor": "white",
            "ticks": ""
           },
           "baxis": {
            "gridcolor": "white",
            "linecolor": "white",
            "ticks": ""
           },
           "bgcolor": "#E5ECF6",
           "caxis": {
            "gridcolor": "white",
            "linecolor": "white",
            "ticks": ""
           }
          },
          "title": {
           "x": 0.05
          },
          "xaxis": {
           "automargin": true,
           "gridcolor": "white",
           "linecolor": "white",
           "ticks": "",
           "title": {
            "standoff": 15
           },
           "zerolinecolor": "white",
           "zerolinewidth": 2
          },
          "yaxis": {
           "automargin": true,
           "gridcolor": "white",
           "linecolor": "white",
           "ticks": "",
           "title": {
            "standoff": 15
           },
           "zerolinecolor": "white",
           "zerolinewidth": 2
          }
         }
        },
        "title": {
         "text": "Average temperature in Each season"
        },
        "xaxis": {
         "anchor": "y",
         "domain": [
          0.0,
          1.0
         ],
         "title": {
          "text": "year"
         }
        },
        "yaxis": {
         "anchor": "x",
         "domain": [
          0.0,
          1.0
         ],
         "title": {
          "text": "value"
         }
        }
       }
      },
      "text/html": [
       "<div>                            <div id=\"a82ecda4-bca0-47d1-839e-8a6d41dfe227\" class=\"plotly-graph-div\" style=\"height:525px; width:100%;\"></div>            <script type=\"text/javascript\">                require([\"plotly\"], function(Plotly) {                    window.PLOTLYENV=window.PLOTLYENV || {};                                    if (document.getElementById(\"a82ecda4-bca0-47d1-839e-8a6d41dfe227\")) {                    Plotly.newPlot(                        \"a82ecda4-bca0-47d1-839e-8a6d41dfe227\",                        [{\"hovertemplate\": \"variable=spring_temp<br>year=%{x}<br>value=%{y}<extra></extra>\", \"legendgroup\": \"spring_temp\", \"line\": {\"color\": \"#636efa\", \"dash\": \"solid\"}, \"mode\": \"lines\", \"name\": \"spring_temp\", \"showlegend\": true, \"type\": \"scattergl\", \"x\": [\"1750\", \"1751\", \"1752\", \"1753\", \"1754\", \"1755\", \"1756\", \"1757\", \"1758\", \"1759\", \"1760\", \"1761\", \"1762\", \"1763\", \"1764\", \"1765\", \"1766\", \"1767\", \"1768\", \"1769\", \"1770\", \"1771\", \"1772\", \"1773\", \"1774\", \"1775\", \"1776\", \"1777\", \"1778\", \"1779\", \"1780\", \"1781\", \"1782\", \"1783\", \"1784\", \"1785\", \"1786\", \"1787\", \"1788\", \"1789\", \"1790\", \"1791\", \"1792\", \"1793\", \"1794\", \"1795\", \"1796\", \"1797\", \"1798\", \"1799\", \"1800\", \"1801\", \"1802\", \"1803\", \"1804\", \"1805\", \"1806\", \"1807\", \"1808\", \"1809\", \"1810\", \"1811\", \"1812\", \"1813\", \"1814\", \"1815\", \"1816\", \"1817\", \"1818\", \"1819\", \"1820\", \"1821\", \"1822\", \"1823\", \"1824\", \"1825\", \"1826\", \"1827\", \"1828\", \"1829\", \"1830\", \"1831\", \"1832\", \"1833\", \"1834\", \"1835\", \"1836\", \"1837\", \"1838\", \"1839\", \"1840\", \"1841\", \"1842\", \"1843\", \"1844\", \"1845\", \"1846\", \"1847\", \"1848\", \"1849\", \"1850\", \"1851\", \"1852\", \"1853\", \"1854\", \"1855\", \"1856\", \"1857\", \"1858\", \"1859\", \"1860\", \"1861\", \"1862\", \"1863\", \"1864\", \"1865\", \"1866\", \"1867\", \"1868\", \"1869\", \"1870\", \"1871\", \"1872\", \"1873\", \"1874\", \"1875\", \"1876\", \"1877\", \"1878\", \"1879\", \"1880\", \"1881\", \"1882\", \"1883\", \"1884\", \"1885\", \"1886\", \"1887\", \"1888\", \"1889\", \"1890\", \"1891\", \"1892\", \"1893\", \"1894\", \"1895\", \"1896\", \"1897\", \"1898\", \"1899\", \"1900\", \"1901\", \"1902\", \"1903\", \"1904\", \"1905\", \"1906\", \"1907\", \"1908\", \"1909\", \"1910\", \"1911\", \"1912\", \"1913\", \"1914\", \"1915\", \"1916\", \"1917\", \"1918\", \"1919\", \"1920\", \"1921\", \"1922\", \"1923\", \"1924\", \"1925\", \"1926\", \"1927\", \"1928\", \"1929\", \"1930\", \"1931\", \"1932\", \"1933\", \"1934\", \"1935\", \"1936\", \"1937\", \"1938\", \"1939\", \"1940\", \"1941\", \"1942\", \"1943\", \"1944\", \"1945\", \"1946\", \"1947\", \"1948\", \"1949\", \"1950\", \"1951\", \"1952\", \"1953\", \"1954\", \"1955\", \"1956\", \"1957\", \"1958\", \"1959\", \"1960\", \"1961\", \"1962\", \"1963\", \"1964\", \"1965\", \"1966\", \"1967\", \"1968\", \"1969\", \"1970\", \"1971\", \"1972\", \"1973\", \"1974\", \"1975\", \"1976\", \"1977\", \"1978\", \"1979\", \"1980\", \"1981\", \"1982\", \"1983\", \"1984\", \"1985\", \"1986\", \"1987\", \"1988\", \"1989\", \"1990\", \"1991\", \"1992\", \"1993\", \"1994\", \"1995\", \"1996\", \"1997\", \"1998\", \"1999\", \"2000\", \"2001\", \"2002\", \"2003\", \"2004\", \"2005\", \"2006\", \"2007\", \"2008\", \"2009\", \"2010\", \"2011\", \"2012\", \"2013\", \"2014\", \"2015\"], \"xaxis\": \"x\", \"y\": [8.563, 6.734999999999999, 7.035499999999999, 8.627333333333334, 9.074333333333334, 8.583666666666666, 9.466, 8.604666666666667, 6.896666666666666, 6.897333333333333, 6.653666666666666, 8.915999999999999, 7.809333333333332, 6.715999999999998, 8.192, 8.868666666666668, 8.432333333333332, 7.831, 6.144000000000001, 8.803333333333333, 7.132000000000001, 6.0523333333333325, 7.148666666666666, 8.866999999999999, 10.607, 9.036666666666667, 7.522333333333333, 7.774333333333334, 8.957999999999998, 10.370666666666667, 11.737666666666664, 7.599, 7.390999999999998, 8.397333333333334, 7.3580000000000005, 6.173666666666667, 8.849666666666666, 7.9576666666666656, 8.159333333333333, 7.782999999999999, 6.997333333333333, 7.9253333333333345, 7.914666666666666, 8.248, 9.146333333333333, 8.552, 7.507666666666666, 7.024333333333334, 8.953333333333333, 8.041666666666666, 8.224666666666666, 8.660666666666666, 7.760333333333333, 8.653666666666666, 8.863, 8.328999999999999, 8.075333333333333, 7.03, 7.066666666666666, 6.833666666666666, 6.871999999999999, 6.481999999999999, 6.191333333333333, 7.048333333333333, 6.424666666666667, 6.698666666666667, 7.368333333333332, 7.311333333333333, 8.904333333333334, 6.603666666666666, 8.312666666666667, 8.167, 8.850333333333332, 7.765333333333333, 8.287999999999998, 8.368, 8.365, 9.125666666666666, 8.582333333333333, 8.070666666666666, 7.832333333333335, 7.761, 7.732666666666667, 7.657, 8.351666666666668, 7.482333333333333, 7.680666666666667, 6.797999999999999, 7.030333333333332, 6.951333333333333, 7.718666666666667, 6.947, 8.198333333333332, 7.537999999999999, 7.410666666666667, 7.747333333333333, 8.227666666666666, 7.549333333333333, 7.832, 7.496333333333332, 7.391666666666666, 7.530666666666666, 7.513333333333333, 7.531333333333333, 7.805, 8.127666666666666, 7.550999999999999, 7.008, 7.978333333333333, 8.340333333333334, 7.438666666666666, 7.497333333333333, 7.515666666666667, 7.898, 7.707333333333334, 7.423333333333332, 7.7443333333333335, 7.735666666666667, 8.009666666666666, 7.863333333333332, 7.958000000000001, 7.937666666666666, 7.988666666666667, 7.723999999999999, 7.919333333333333, 7.545999999999999, 7.8790000000000004, 8.130666666666668, 8.841333333333333, 7.831666666666666, 7.761666666666666, 8.165999999999999, 7.873, 7.817333333333333, 7.092, 7.508333333333333, 7.651666666666666, 7.726999999999999, 7.588333333333334, 8.376666666666667, 7.470999999999999, 7.719333333333332, 7.515333333333333, 7.906666666666666, 7.908333333333334, 7.934333333333334, 7.500666666666665, 8.0, 7.497666666666667, 7.973999999999999, 8.366666666666667, 8.457, 7.910666666666667, 7.851999999999999, 7.676666666666666, 7.790666666666667, 8.244, 7.509666666666667, 7.702999999999999, 7.578, 7.905333333333334, 7.721999999999999, 7.946333333333333, 7.761666666666666, 8.108333333333333, 8.447000000000001, 7.954999999999999, 7.5953333333333335, 7.664999999999999, 8.066333333333333, 8.216999999999999, 8.216666666666667, 8.211, 7.821333333333333, 8.17, 8.202333333333334, 8.318333333333333, 7.935666666666666, 8.124, 8.036, 8.256666666666666, 8.134333333333332, 8.316, 8.013666666666667, 8.104, 8.025333333333332, 8.136333333333333, 8.137666666666666, 8.673333333333334, 8.259333333333332, 8.506, 8.427, 8.354, 8.420333333333334, 8.433, 8.320666666666668, 8.476, 8.605333333333334, 8.318333333333333, 8.243333333333332, 8.222333333333333, 8.298666666666666, 8.26, 8.706000000000001, 8.097999999999999, 7.970999999999999, 7.8439999999999985, 8.220333333333334, 8.497333333333332, 8.665333333333333, 7.769333333333333, 8.614666666666666, 8.399333333333333, 8.104999999999999, 7.897333333333333, 8.131333333333332, 8.296, 8.495333333333333, 8.546666666666667, 8.353666666666667, 8.360333333333333, 8.183666666666666, 8.259666666666666, 8.84233333333333, 8.258000000000001, 8.677333333333333, 7.917666666666666, 8.777333333333333, 8.604, 8.376, 8.690666666666665, 8.918999999999999, 8.228666666666667, 8.706999999999999, 8.693, 8.503333333333332, 8.735666666666665, 8.455, 8.924999999999999, 8.587000000000002, 9.243333333333334, 8.805333333333333, 8.686333333333332, 8.696, 8.811, 8.832666666666668, 8.597, 8.832, 9.223999999999998, 8.691333333333333, 9.214999999999998, 9.241333333333332, 9.416333333333332, 9.118333333333332, 9.047, 9.462666666666665, 9.056666666666667, 9.608666666666666, 9.418333333333333, 9.188333333333333, 9.604999999999999, 9.19, 9.429666666666666, 9.166666666666666, 9.516333333333334, 9.454999999999998], \"yaxis\": \"y\"}, {\"hovertemplate\": \"variable=summer_temp<br>year=%{x}<br>value=%{y}<extra></extra>\", \"legendgroup\": \"summer_temp\", \"line\": {\"color\": \"#EF553B\", \"dash\": \"solid\"}, \"mode\": \"lines\", \"name\": \"summer_temp\", \"showlegend\": true, \"type\": \"scattergl\", \"x\": [\"1750\", \"1751\", \"1752\", \"1753\", \"1754\", \"1755\", \"1756\", \"1757\", \"1758\", \"1759\", \"1760\", \"1761\", \"1762\", \"1763\", \"1764\", \"1765\", \"1766\", \"1767\", \"1768\", \"1769\", \"1770\", \"1771\", \"1772\", \"1773\", \"1774\", \"1775\", \"1776\", \"1777\", \"1778\", \"1779\", \"1780\", \"1781\", \"1782\", \"1783\", \"1784\", \"1785\", \"1786\", \"1787\", \"1788\", \"1789\", \"1790\", \"1791\", \"1792\", \"1793\", \"1794\", \"1795\", \"1796\", \"1797\", \"1798\", \"1799\", \"1800\", \"1801\", \"1802\", \"1803\", \"1804\", \"1805\", \"1806\", \"1807\", \"1808\", \"1809\", \"1810\", \"1811\", \"1812\", \"1813\", \"1814\", \"1815\", \"1816\", \"1817\", \"1818\", \"1819\", \"1820\", \"1821\", \"1822\", \"1823\", \"1824\", \"1825\", \"1826\", \"1827\", \"1828\", \"1829\", \"1830\", \"1831\", \"1832\", \"1833\", \"1834\", \"1835\", \"1836\", \"1837\", \"1838\", \"1839\", \"1840\", \"1841\", \"1842\", \"1843\", \"1844\", \"1845\", \"1846\", \"1847\", \"1848\", \"1849\", \"1850\", \"1851\", \"1852\", \"1853\", \"1854\", \"1855\", \"1856\", \"1857\", \"1858\", \"1859\", \"1860\", \"1861\", \"1862\", \"1863\", \"1864\", \"1865\", \"1866\", \"1867\", \"1868\", \"1869\", \"1870\", \"1871\", \"1872\", \"1873\", \"1874\", \"1875\", \"1876\", \"1877\", \"1878\", \"1879\", \"1880\", \"1881\", \"1882\", \"1883\", \"1884\", \"1885\", \"1886\", \"1887\", \"1888\", \"1889\", \"1890\", \"1891\", \"1892\", \"1893\", \"1894\", \"1895\", \"1896\", \"1897\", \"1898\", \"1899\", \"1900\", \"1901\", \"1902\", \"1903\", \"1904\", \"1905\", \"1906\", \"1907\", \"1908\", \"1909\", \"1910\", \"1911\", \"1912\", \"1913\", \"1914\", \"1915\", \"1916\", \"1917\", \"1918\", \"1919\", \"1920\", \"1921\", \"1922\", \"1923\", \"1924\", \"1925\", \"1926\", \"1927\", \"1928\", \"1929\", \"1930\", \"1931\", \"1932\", \"1933\", \"1934\", \"1935\", \"1936\", \"1937\", \"1938\", \"1939\", \"1940\", \"1941\", \"1942\", \"1943\", \"1944\", \"1945\", \"1946\", \"1947\", \"1948\", \"1949\", \"1950\", \"1951\", \"1952\", \"1953\", \"1954\", \"1955\", \"1956\", \"1957\", \"1958\", \"1959\", \"1960\", \"1961\", \"1962\", \"1963\", \"1964\", \"1965\", \"1966\", \"1967\", \"1968\", \"1969\", \"1970\", \"1971\", \"1972\", \"1973\", \"1974\", \"1975\", \"1976\", \"1977\", \"1978\", \"1979\", \"1980\", \"1981\", \"1982\", \"1983\", \"1984\", \"1985\", \"1986\", \"1987\", \"1988\", \"1989\", \"1990\", \"1991\", \"1992\", \"1993\", \"1994\", \"1995\", \"1996\", \"1997\", \"1998\", \"1999\", \"2000\", \"2001\", \"2002\", \"2003\", \"2004\", \"2005\", \"2006\", \"2007\", \"2008\", \"2009\", \"2010\", \"2011\", \"2012\", \"2013\", \"2014\", \"2015\"], \"xaxis\": \"x\", \"y\": [14.518333333333333, 14.116, null, 14.608333333333334, 14.208333333333334, 14.430666666666667, 13.963333333333333, 17.544999999999998, 12.934666666666665, 13.541666666666666, 12.916333333333334, 17.057666666666666, 14.070333333333332, 14.262666666666666, 12.170666666666667, 12.635333333333334, 13.655333333333331, 14.023333333333333, 12.905666666666667, 14.365666666666668, 11.639333333333335, 14.045333333333332, 13.775333333333334, 13.639666666666669, 15.330333333333334, 13.822666666666668, 14.503, 12.627, 13.212333333333333, 13.335, 14.625666666666666, 13.368, 14.469666666666667, 13.793333333333331, 14.537, 14.226, 14.261333333333333, 13.791666666666666, 14.720333333333334, 14.269666666666666, 13.827666666666667, 13.529000000000002, 13.357999999999999, 13.547333333333333, 12.784, 13.576, 14.417333333333334, 13.999666666666664, 14.317, 14.211666666666666, 13.662666666666667, 13.466333333333331, 14.379333333333333, 14.764333333333333, 14.686333333333332, 14.666333333333332, 13.644666666666666, 13.743333333333332, 13.655666666666667, 12.853, 12.175333333333333, 12.472999999999999, 13.792666666666667, 13.62, 12.672666666666666, 12.921666666666667, 12.208999999999998, 12.254, 13.500333333333336, 12.707, 12.870666666666667, 12.930666666666667, 13.498, 13.761666666666668, 13.897999999999998, 13.680333333333332, 13.537, 13.975333333333333, 14.047666666666666, 13.494666666666667, 13.718333333333334, 13.091000000000001, 12.85, 13.357999999999999, 13.469333333333333, 12.485999999999999, 13.008333333333333, 12.881, 13.559, 13.676333333333332, 13.737, 13.774, 13.151333333333334, 13.272, 13.269, 13.579333333333333, 14.191333333333333, 13.497333333333332, 13.660333333333334, 13.687, 13.893666666666668, 13.899999999999999, 13.660000000000002, 14.002666666666665, 13.803333333333333, 13.485666666666667, 13.512, 13.255666666666665, 13.284333333333334, 13.395333333333333, 13.746666666666664, 13.546666666666667, 13.325333333333333, 13.284333333333334, 13.653666666666666, 13.671333333333335, 13.662333333333331, 13.677333333333332, 13.806666666666667, 13.961333333333334, 13.912, 13.767333333333333, 13.720333333333334, 13.815666666666667, 13.747666666666666, 13.567333333333332, 13.643666666666666, 14.059, 14.210666666666667, 13.571, 13.758333333333333, 13.552666666666667, 13.418333333333331, 13.512333333333332, 13.135333333333334, 13.346333333333334, 13.446, 13.336, 13.558, 13.672333333333333, 13.390666666666666, 13.438, 13.524333333333333, 13.607666666666667, 13.449999999999998, 13.533333333333333, 13.720333333333334, 13.765666666666666, 13.704, 13.597333333333333, 13.76, 13.850333333333333, 13.681333333333333, 13.43, 13.436333333333332, 13.588999999999999, 13.715666666666666, 13.286666666666667, 13.622, 13.591333333333333, 13.702333333333334, 13.530000000000001, 13.403666666666666, 13.622, 13.841333333333333, 13.837666666666669, 13.524666666666667, 13.548333333333332, 13.447000000000001, 13.762666666666668, 13.682666666666668, 13.812333333333333, 13.731, 13.630333333333335, 13.766666666666667, 13.641333333333334, 13.776666666666666, 13.764333333333333, 13.703333333333333, 13.521666666666667, 13.913333333333332, 14.089666666666666, 13.831666666666665, 13.702, 13.841, 13.810666666666664, 13.950666666666665, 13.995, 13.921999999999999, 13.952666666666666, 13.988333333333335, 14.117333333333335, 13.868666666666668, 13.798333333333334, 13.987666666666664, 13.951333333333332, 13.847, 13.878333333333332, 14.001666666666667, 13.749333333333334, 13.660666666666666, 13.865, 13.985, 14.020999999999999, 13.836333333333334, 14.028333333333334, 13.509666666666666, 13.998, 13.740666666666668, 13.959666666666669, 13.835666666666668, 13.946333333333333, 13.781666666666666, 14.075666666666665, 13.812666666666667, 13.731, 13.962333333333333, 13.781999999999998, 13.584666666666665, 13.832333333333333, 13.855333333333334, 13.705666666666666, 13.967666666666666, 14.042666666666667, 13.895333333333333, 13.807333333333332, 13.583999999999998, 14.198999999999998, 13.627, 13.811333333333332, 14.171000000000001, 14.335, 13.862, 14.062666666666667, 13.933333333333335, 13.866999999999999, 13.901333333333334, 14.237666666666668, 14.483333333333334, 14.064666666666666, 14.257333333333333, 14.523000000000001, 13.826999999999998, 13.982666666666667, 14.259666666666666, 14.638666666666666, 14.370333333333333, 14.317333333333332, 14.911666666666667, 14.410666666666666, 14.475666666666667, 14.566, 14.666000000000002, 14.563666666666668, 14.129666666666667, 14.725333333333332, 14.799333333333331, 14.763666666666667, 14.565333333333333, 14.695666666666666, 14.800666666666666, 14.954666666666666, 14.762666666666668, 14.771, 14.694333333333333, 14.770333333333333], \"yaxis\": \"y\"}, {\"hovertemplate\": \"variable=autumn_temp<br>year=%{x}<br>value=%{y}<extra></extra>\", \"legendgroup\": \"autumn_temp\", \"line\": {\"color\": \"#00cc96\", \"dash\": \"solid\"}, \"mode\": \"lines\", \"name\": \"autumn_temp\", \"showlegend\": true, \"type\": \"scattergl\", \"x\": [\"1750\", \"1751\", \"1752\", \"1753\", \"1754\", \"1755\", \"1756\", \"1757\", \"1758\", \"1759\", \"1760\", \"1761\", \"1762\", \"1763\", \"1764\", \"1765\", \"1766\", \"1767\", \"1768\", \"1769\", \"1770\", \"1771\", \"1772\", \"1773\", \"1774\", \"1775\", \"1776\", \"1777\", \"1778\", \"1779\", \"1780\", \"1781\", \"1782\", \"1783\", \"1784\", \"1785\", \"1786\", \"1787\", \"1788\", \"1789\", \"1790\", \"1791\", \"1792\", \"1793\", \"1794\", \"1795\", \"1796\", \"1797\", \"1798\", \"1799\", \"1800\", \"1801\", \"1802\", \"1803\", \"1804\", \"1805\", \"1806\", \"1807\", \"1808\", \"1809\", \"1810\", \"1811\", \"1812\", \"1813\", \"1814\", \"1815\", \"1816\", \"1817\", \"1818\", \"1819\", \"1820\", \"1821\", \"1822\", \"1823\", \"1824\", \"1825\", \"1826\", \"1827\", \"1828\", \"1829\", \"1830\", \"1831\", \"1832\", \"1833\", \"1834\", \"1835\", \"1836\", \"1837\", \"1838\", \"1839\", \"1840\", \"1841\", \"1842\", \"1843\", \"1844\", \"1845\", \"1846\", \"1847\", \"1848\", \"1849\", \"1850\", \"1851\", \"1852\", \"1853\", \"1854\", \"1855\", \"1856\", \"1857\", \"1858\", \"1859\", \"1860\", \"1861\", \"1862\", \"1863\", \"1864\", \"1865\", \"1866\", \"1867\", \"1868\", \"1869\", \"1870\", \"1871\", \"1872\", \"1873\", \"1874\", \"1875\", \"1876\", \"1877\", \"1878\", \"1879\", \"1880\", \"1881\", \"1882\", \"1883\", \"1884\", \"1885\", \"1886\", \"1887\", \"1888\", \"1889\", \"1890\", \"1891\", \"1892\", \"1893\", \"1894\", \"1895\", \"1896\", \"1897\", \"1898\", \"1899\", \"1900\", \"1901\", \"1902\", \"1903\", \"1904\", \"1905\", \"1906\", \"1907\", \"1908\", \"1909\", \"1910\", \"1911\", \"1912\", \"1913\", \"1914\", \"1915\", \"1916\", \"1917\", \"1918\", \"1919\", \"1920\", \"1921\", \"1922\", \"1923\", \"1924\", \"1925\", \"1926\", \"1927\", \"1928\", \"1929\", \"1930\", \"1931\", \"1932\", \"1933\", \"1934\", \"1935\", \"1936\", \"1937\", \"1938\", \"1939\", \"1940\", \"1941\", \"1942\", \"1943\", \"1944\", \"1945\", \"1946\", \"1947\", \"1948\", \"1949\", \"1950\", \"1951\", \"1952\", \"1953\", \"1954\", \"1955\", \"1956\", \"1957\", \"1958\", \"1959\", \"1960\", \"1961\", \"1962\", \"1963\", \"1964\", \"1965\", \"1966\", \"1967\", \"1968\", \"1969\", \"1970\", \"1971\", \"1972\", \"1973\", \"1974\", \"1975\", \"1976\", \"1977\", \"1978\", \"1979\", \"1980\", \"1981\", \"1982\", \"1983\", \"1984\", \"1985\", \"1986\", \"1987\", \"1988\", \"1989\", \"1990\", \"1991\", \"1992\", \"1993\", \"1994\", \"1995\", \"1996\", \"1997\", \"1998\", \"1999\", \"2000\", \"2001\", \"2002\", \"2003\", \"2004\", \"2005\", \"2006\", \"2007\", \"2008\", \"2009\", \"2010\", \"2011\", \"2012\", \"2013\", \"2014\", \"2015\"], \"xaxis\": \"x\", \"y\": [8.889999999999999, 10.673, 7.587, 9.212333333333333, 8.957333333333333, 9.233666666666666, 8.063, 8.455333333333332, 6.292333333333332, 8.387, 7.778, 8.283666666666667, 7.616333333333333, 7.167000000000001, 8.832666666666666, 8.166666666666666, 9.389666666666667, 9.539, 7.711333333333333, 6.445666666666665, 8.392, 8.865333333333334, 9.102333333333332, 8.354333333333333, 7.5183333333333335, 9.882333333333333, 8.177333333333333, 7.954666666666667, 8.426666666666668, 9.267666666666667, 8.308666666666666, 8.791333333333332, 8.777333333333333, 6.503666666666667, 7.219666666666666, 7.791333333333333, 8.537, 7.976666666666667, 9.053, 8.457333333333333, 8.380333333333333, 8.654333333333332, 8.631333333333334, 8.687, 8.762666666666666, 8.042, 8.879333333333333, 8.809, 8.771, 9.273666666666667, 8.612, 8.760333333333334, 9.023333333333332, 9.136666666666665, 9.627333333333334, 8.076666666666666, 8.735333333333335, 9.162333333333335, 8.398333333333332, 7.572, 6.663666666666667, 6.817, 7.3823333333333325, 9.276666666666667, 8.263, 7.488666666666667, 6.7156666666666665, 6.551000000000001, 7.4223333333333334, 8.451999999999998, 7.730333333333333, 8.104666666666667, 7.656666666666667, 7.449333333333333, 8.534, 8.395, 8.757, 8.557333333333334, 8.231, 8.135666666666667, 8.675333333333333, 7.396, 7.774, 8.577333333333332, 8.847666666666667, 7.363, 7.794, 7.542333333333333, 8.264, 7.663999999999999, 7.538666666666667, 8.143333333333333, 8.023666666666665, 8.331666666666667, 7.973333333333333, 8.07, 8.337, 8.603666666666667, 8.314, 8.586999999999998, 8.109666666666667, 8.590666666666666, 8.327, 8.342666666666668, 9.007333333333333, 8.257, 8.131666666666666, 8.163333333333332, 8.649333333333333, 8.608666666666666, 8.543666666666667, 8.530333333333333, 8.034333333333334, 8.285666666666666, 8.465666666666666, 9.025666666666666, 8.642666666666667, 9.304666666666668, 8.769666666666668, 9.008666666666667, 8.787333333333331, 8.639999999999999, 8.856666666666667, 8.846666666666666, 9.013333333333334, 8.172666666666666, 8.575333333333333, 9.232, 9.237333333333334, 8.734666666666667, 8.650666666666666, 8.604, 8.415666666666665, 8.385666666666665, 8.326666666666666, 8.527333333333335, 8.476666666666667, 8.679, 8.892666666666669, 8.470333333333334, 8.584666666666665, 8.533333333333333, 8.637666666666666, 8.943, 8.703333333333333, 8.868, 8.868666666666668, 8.91, 8.677666666666665, 9.380666666666666, 9.141666666666667, 8.987666666666668, 8.624666666666668, 8.609666666666667, 8.814666666666666, 9.009333333333332, 8.846666666666666, 8.702, 8.704666666666666, 9.102333333333332, 8.685666666666664, 8.955, 8.37, 8.953333333333333, 9.020333333333333, 9.022333333333334, 8.791666666666666, 8.703000000000001, 8.999, 8.946666666666667, 8.793666666666667, 8.999, 8.959, 9.260333333333334, 9.186666666666667, 9.171666666666665, 9.308333333333334, 9.495666666666667, 9.283999999999999, 9.146333333333335, 9.236333333333333, 9.487666666666666, 9.3, 8.994, 9.181666666666667, 8.985999999999999, 9.237, 9.499333333333333, 9.580333333333334, 9.121666666666666, 9.267000000000001, 9.159666666666666, 9.389333333333333, 9.421, 9.449666666666667, 9.290999999999999, 9.193333333333333, 9.528, 9.308, 9.212, 8.825666666666665, 9.406333333333334, 8.94, 9.237666666666668, 9.407666666666666, 9.220666666666666, 8.816333333333333, 9.399666666666667, 9.159999999999998, 8.952666666666667, 9.139999999999999, 9.26, 9.256333333333332, 9.686333333333332, 8.806333333333333, 9.026, 9.084999999999999, 9.346333333333334, 8.988, 9.319, 9.224, 9.274000000000001, 9.014666666666667, 9.318666666666667, 8.918999999999999, 9.121, 8.688666666666666, 9.187333333333333, 9.239666666666666, 9.373, 9.518333333333334, 9.301, 9.077333333333334, 9.647, 9.068, 9.095333333333333, 9.011666666666667, 9.364333333333333, 9.651666666666666, 9.447333333333331, 9.665666666666667, 9.623333333333333, 8.971333333333332, 9.094, 9.768666666666666, 9.810666666666666, 9.455333333333334, 9.878333333333334, 9.672666666666666, 9.770666666666665, 9.448333333333334, 9.996666666666666, 9.943333333333333, 10.020666666666667, 10.028, 10.413666666666666, 10.039666666666667, 10.115333333333334, 10.141666666666667, 10.106666666666667, 10.264000000000001, 10.026000000000002, 10.208, 10.278, 10.044666666666666, 10.411], \"yaxis\": \"y\"}, {\"hovertemplate\": \"variable=winter_temp<br>year=%{x}<br>value=%{y}<extra></extra>\", \"legendgroup\": \"winter_temp\", \"line\": {\"color\": \"#ab63fa\", \"dash\": \"solid\"}, \"mode\": \"lines\", \"name\": \"winter_temp\", \"showlegend\": true, \"type\": \"scattergl\", \"x\": [\"1750\", \"1751\", \"1752\", \"1753\", \"1754\", \"1755\", \"1756\", \"1757\", \"1758\", \"1759\", \"1760\", \"1761\", \"1762\", \"1763\", \"1764\", \"1765\", \"1766\", \"1767\", \"1768\", \"1769\", \"1770\", \"1771\", \"1772\", \"1773\", \"1774\", \"1775\", \"1776\", \"1777\", \"1778\", \"1779\", \"1780\", \"1781\", \"1782\", \"1783\", \"1784\", \"1785\", \"1786\", \"1787\", \"1788\", \"1789\", \"1790\", \"1791\", \"1792\", \"1793\", \"1794\", \"1795\", \"1796\", \"1797\", \"1798\", \"1799\", \"1800\", \"1801\", \"1802\", \"1803\", \"1804\", \"1805\", \"1806\", \"1807\", \"1808\", \"1809\", \"1810\", \"1811\", \"1812\", \"1813\", \"1814\", \"1815\", \"1816\", \"1817\", \"1818\", \"1819\", \"1820\", \"1821\", \"1822\", \"1823\", \"1824\", \"1825\", \"1826\", \"1827\", \"1828\", \"1829\", \"1830\", \"1831\", \"1832\", \"1833\", \"1834\", \"1835\", \"1836\", \"1837\", \"1838\", \"1839\", \"1840\", \"1841\", \"1842\", \"1843\", \"1844\", \"1845\", \"1846\", \"1847\", \"1848\", \"1849\", \"1850\", \"1851\", \"1852\", \"1853\", \"1854\", \"1855\", \"1856\", \"1857\", \"1858\", \"1859\", \"1860\", \"1861\", \"1862\", \"1863\", \"1864\", \"1865\", \"1866\", \"1867\", \"1868\", \"1869\", \"1870\", \"1871\", \"1872\", \"1873\", \"1874\", \"1875\", \"1876\", \"1877\", \"1878\", \"1879\", \"1880\", \"1881\", \"1882\", \"1883\", \"1884\", \"1885\", \"1886\", \"1887\", \"1888\", \"1889\", \"1890\", \"1891\", \"1892\", \"1893\", \"1894\", \"1895\", \"1896\", \"1897\", \"1898\", \"1899\", \"1900\", \"1901\", \"1902\", \"1903\", \"1904\", \"1905\", \"1906\", \"1907\", \"1908\", \"1909\", \"1910\", \"1911\", \"1912\", \"1913\", \"1914\", \"1915\", \"1916\", \"1917\", \"1918\", \"1919\", \"1920\", \"1921\", \"1922\", \"1923\", \"1924\", \"1925\", \"1926\", \"1927\", \"1928\", \"1929\", \"1930\", \"1931\", \"1932\", \"1933\", \"1934\", \"1935\", \"1936\", \"1937\", \"1938\", \"1939\", \"1940\", \"1941\", \"1942\", \"1943\", \"1944\", \"1945\", \"1946\", \"1947\", \"1948\", \"1949\", \"1950\", \"1951\", \"1952\", \"1953\", \"1954\", \"1955\", \"1956\", \"1957\", \"1958\", \"1959\", \"1960\", \"1961\", \"1962\", \"1963\", \"1964\", \"1965\", \"1966\", \"1967\", \"1968\", \"1969\", \"1970\", \"1971\", \"1972\", \"1973\", \"1974\", \"1975\", \"1976\", \"1977\", \"1978\", \"1979\", \"1980\", \"1981\", \"1982\", \"1983\", \"1984\", \"1985\", \"1986\", \"1987\", \"1988\", \"1989\", \"1990\", \"1991\", \"1992\", \"1993\", \"1994\", \"1995\", \"1996\", \"1997\", \"1998\", \"1999\", \"2000\", \"2001\", \"2002\", \"2003\", \"2004\", \"2005\", \"2006\", \"2007\", \"2008\", \"2009\", \"2010\", \"2011\", \"2012\", \"2013\", \"2014\", \"2015\"], \"xaxis\": \"x\", \"y\": [2.9630000000000005, 1.729, 2.7170000000000005, 1.1043333333333332, 1.6373333333333333, 1.1743333333333332, 3.906, 1.4829999999999999, 0.8506666666666667, 3.1143333333333327, 1.3926666666666667, 0.8326666666666666, 4.930000000000001, 1.8413333333333333, 4.406, 3.3369999999999997, 2.1453333333333333, 1.4926666666666666, 0.36433333333333334, 1.1636666666666666, 3.6043333333333334, 2.449666666666667, 2.747666666666667, 2.0249999999999995, 1.6330000000000002, 3.9906666666666673, 3.013333333333333, 4.6690000000000005, 3.571999999999999, 2.9596666666666667, 3.0596666666666668, 2.6519999999999997, 0.967, 2.029, 2.3333333333333335, 1.261, 1.3846666666666667, 2.4013333333333335, 1.856, 2.8266666666666667, 2.724, 2.828333333333333, 2.452, 2.4343333333333335, 3.411, 3.2313333333333336, 2.279666666666667, 4.209333333333333, 2.639666666666667, 2.496, 3.4376666666666664, 3.4713333333333334, 3.1496666666666666, 1.4573333333333334, 2.202666666666667, 3.179, 3.281, 3.1899999999999995, 1.3866666666666667, 1.047, 1.9796666666666667, 1.6660000000000001, 0.8186666666666668, 1.0146666666666666, 3.0066666666666673, 1.8483333333333334, 1.457, 1.7863333333333333, 1.4886666666666664, 1.7140000000000002, 1.5513333333333332, 3.158, 2.7483333333333335, 1.8983333333333334, 3.468666666666667, 3.1139999999999994, 2.767333333333333, 3.576666666666666, 1.8003333333333336, 2.066333333333333, 3.8409999999999997, 2.308666666666667, 1.444, 2.4596666666666667, 1.9183333333333337, 2.238666666666667, 2.300333333333333, 2.281333333333333, 1.2063333333333335, 2.2373333333333334, 2.1906666666666665, 1.8883333333333334, 2.7176666666666667, 3.5530000000000004, 1.9323333333333335, 2.008, 3.455, 2.6936666666666667, 2.111666666666667, 2.167333333333333, 2.207666666666667, 2.693, 2.9003333333333337, 2.2906666666666666, 2.2263333333333333, 2.5726666666666667, 2.7889999999999997, 2.6056666666666666, 2.489, 2.663666666666667, 2.114333333333333, 1.8116666666666668, 1.359, 2.9793333333333334, 2.1076666666666664, 2.5910000000000006, 3.1193333333333335, 3.0276666666666667, 2.405666666666667, 2.895, 2.148, 2.1153333333333335, 2.2096666666666667, 3.0180000000000002, 3.0536666666666665, 2.1523333333333334, 2.2223333333333333, 2.736666666666667, 3.029666666666667, 2.5260000000000002, 2.3043333333333336, 2.7610000000000006, 2.808666666666667, 2.1923333333333335, 2.5406666666666666, 2.296666666666667, 2.2436666666666665, 1.9176666666666666, 2.323, 2.7566666666666664, 2.4403333333333332, 2.3866666666666667, 2.5860000000000003, 1.7696666666666665, 2.582333333333333, 2.252333333333333, 2.7699999999999996, 2.497666666666667, 2.832666666666667, 2.6333333333333333, 2.738, 2.872666666666667, 3.001, 2.9890000000000003, 2.436, 2.5116666666666667, 2.7099999999999995, 2.2903333333333333, 2.7146666666666666, 2.441333333333334, 2.598666666666667, 2.501, 2.9416666666666664, 2.8539999999999996, 3.392, 3.0656666666666665, 2.6296666666666666, 2.2466666666666666, 2.412333333333333, 2.7533333333333334, 2.7416666666666667, 3.2560000000000002, 2.731, 2.9766666666666666, 2.904, 3.1223333333333336, 3.512, 2.8926666666666665, 3.4173333333333336, 2.2656666666666667, 3.128, 3.1653333333333333, 3.373333333333333, 2.6433333333333335, 3.3866666666666667, 3.241, 2.892, 3.1613333333333333, 3.279, 3.7076666666666664, 3.297333333333333, 3.3706666666666667, 3.301666666666667, 3.3806666666666665, 3.5096666666666665, 2.7763333333333335, 3.191333333333333, 3.176666666666667, 3.359, 3.142333333333333, 2.752333333333333, 2.932666666666666, 3.368, 3.5303333333333335, 2.9006666666666665, 3.285, 2.9483333333333337, 3.312, 3.6970000000000005, 3.3529999999999998, 3.59, 3.369666666666667, 3.546333333333333, 3.557, 3.1223333333333336, 3.2213333333333334, 3.054, 3.176666666666667, 2.946, 2.8753333333333337, 3.3640000000000003, 3.2336666666666667, 2.7563333333333335, 3.5893333333333337, 2.7976666666666667, 3.373666666666667, 3.1986666666666665, 3.2373333333333334, 3.300333333333333, 3.3733333333333335, 3.5413333333333337, 4.108333333333333, 3.388666666666667, 3.696, 3.0730000000000004, 3.1663333333333328, 3.6856666666666666, 3.920666666666667, 3.7463333333333337, 3.589, 3.7703333333333333, 3.7660000000000005, 3.861666666666667, 3.6936666666666667, 3.3156666666666665, 4.1063333333333345, 3.7330000000000005, 3.782666666666666, 4.282333333333334, 4.267666666666667, 3.6656666666666666, 3.8543333333333334, 4.256, 4.399666666666666, 4.093666666666667, 4.202, 4.234333333333333, 4.441, 3.6016666666666666, 4.030333333333332, 4.142666666666666, 3.893333333333333, 3.629, 4.210333333333334, 4.027333333333334, 4.687666666666666], \"yaxis\": \"y\"}],                        {\"legend\": {\"title\": {\"text\": \"variable\"}, \"tracegroupgap\": 0}, \"template\": {\"data\": {\"bar\": [{\"error_x\": {\"color\": \"#2a3f5f\"}, \"error_y\": {\"color\": \"#2a3f5f\"}, \"marker\": {\"line\": {\"color\": \"#E5ECF6\", \"width\": 0.5}}, \"type\": \"bar\"}], \"barpolar\": [{\"marker\": {\"line\": {\"color\": \"#E5ECF6\", \"width\": 0.5}}, \"type\": \"barpolar\"}], \"carpet\": [{\"aaxis\": {\"endlinecolor\": \"#2a3f5f\", \"gridcolor\": \"white\", \"linecolor\": \"white\", \"minorgridcolor\": \"white\", \"startlinecolor\": \"#2a3f5f\"}, \"baxis\": {\"endlinecolor\": \"#2a3f5f\", \"gridcolor\": \"white\", \"linecolor\": \"white\", \"minorgridcolor\": \"white\", \"startlinecolor\": \"#2a3f5f\"}, \"type\": \"carpet\"}], \"choropleth\": [{\"colorbar\": {\"outlinewidth\": 0, \"ticks\": \"\"}, \"type\": \"choropleth\"}], \"contour\": [{\"colorbar\": {\"outlinewidth\": 0, \"ticks\": \"\"}, \"colorscale\": [[0.0, \"#0d0887\"], [0.1111111111111111, \"#46039f\"], [0.2222222222222222, \"#7201a8\"], [0.3333333333333333, \"#9c179e\"], [0.4444444444444444, \"#bd3786\"], [0.5555555555555556, \"#d8576b\"], [0.6666666666666666, \"#ed7953\"], [0.7777777777777778, \"#fb9f3a\"], [0.8888888888888888, \"#fdca26\"], [1.0, \"#f0f921\"]], \"type\": \"contour\"}], \"contourcarpet\": [{\"colorbar\": {\"outlinewidth\": 0, \"ticks\": \"\"}, \"type\": \"contourcarpet\"}], \"heatmap\": [{\"colorbar\": {\"outlinewidth\": 0, \"ticks\": \"\"}, \"colorscale\": [[0.0, \"#0d0887\"], [0.1111111111111111, \"#46039f\"], [0.2222222222222222, \"#7201a8\"], [0.3333333333333333, \"#9c179e\"], [0.4444444444444444, \"#bd3786\"], [0.5555555555555556, \"#d8576b\"], [0.6666666666666666, \"#ed7953\"], [0.7777777777777778, \"#fb9f3a\"], [0.8888888888888888, \"#fdca26\"], [1.0, \"#f0f921\"]], \"type\": \"heatmap\"}], \"heatmapgl\": [{\"colorbar\": {\"outlinewidth\": 0, \"ticks\": \"\"}, \"colorscale\": [[0.0, \"#0d0887\"], [0.1111111111111111, \"#46039f\"], [0.2222222222222222, \"#7201a8\"], [0.3333333333333333, \"#9c179e\"], [0.4444444444444444, \"#bd3786\"], [0.5555555555555556, \"#d8576b\"], [0.6666666666666666, \"#ed7953\"], [0.7777777777777778, \"#fb9f3a\"], [0.8888888888888888, \"#fdca26\"], [1.0, \"#f0f921\"]], \"type\": \"heatmapgl\"}], \"histogram\": [{\"marker\": {\"colorbar\": {\"outlinewidth\": 0, \"ticks\": \"\"}}, \"type\": \"histogram\"}], \"histogram2d\": [{\"colorbar\": {\"outlinewidth\": 0, \"ticks\": \"\"}, \"colorscale\": [[0.0, \"#0d0887\"], [0.1111111111111111, \"#46039f\"], [0.2222222222222222, \"#7201a8\"], [0.3333333333333333, \"#9c179e\"], [0.4444444444444444, \"#bd3786\"], [0.5555555555555556, \"#d8576b\"], [0.6666666666666666, \"#ed7953\"], [0.7777777777777778, \"#fb9f3a\"], [0.8888888888888888, \"#fdca26\"], [1.0, \"#f0f921\"]], \"type\": \"histogram2d\"}], \"histogram2dcontour\": [{\"colorbar\": {\"outlinewidth\": 0, \"ticks\": \"\"}, \"colorscale\": [[0.0, \"#0d0887\"], [0.1111111111111111, \"#46039f\"], [0.2222222222222222, \"#7201a8\"], [0.3333333333333333, \"#9c179e\"], [0.4444444444444444, \"#bd3786\"], [0.5555555555555556, \"#d8576b\"], [0.6666666666666666, \"#ed7953\"], [0.7777777777777778, \"#fb9f3a\"], [0.8888888888888888, \"#fdca26\"], [1.0, \"#f0f921\"]], \"type\": \"histogram2dcontour\"}], \"mesh3d\": [{\"colorbar\": {\"outlinewidth\": 0, \"ticks\": \"\"}, \"type\": \"mesh3d\"}], \"parcoords\": [{\"line\": {\"colorbar\": {\"outlinewidth\": 0, \"ticks\": \"\"}}, \"type\": \"parcoords\"}], \"pie\": [{\"automargin\": true, \"type\": \"pie\"}], \"scatter\": [{\"marker\": {\"colorbar\": {\"outlinewidth\": 0, \"ticks\": \"\"}}, \"type\": \"scatter\"}], \"scatter3d\": [{\"line\": {\"colorbar\": {\"outlinewidth\": 0, \"ticks\": \"\"}}, \"marker\": {\"colorbar\": {\"outlinewidth\": 0, \"ticks\": \"\"}}, \"type\": \"scatter3d\"}], \"scattercarpet\": [{\"marker\": {\"colorbar\": {\"outlinewidth\": 0, \"ticks\": \"\"}}, \"type\": \"scattercarpet\"}], \"scattergeo\": [{\"marker\": {\"colorbar\": {\"outlinewidth\": 0, \"ticks\": \"\"}}, \"type\": \"scattergeo\"}], \"scattergl\": [{\"marker\": {\"colorbar\": {\"outlinewidth\": 0, \"ticks\": \"\"}}, \"type\": \"scattergl\"}], \"scattermapbox\": [{\"marker\": {\"colorbar\": {\"outlinewidth\": 0, \"ticks\": \"\"}}, \"type\": \"scattermapbox\"}], \"scatterpolar\": [{\"marker\": {\"colorbar\": {\"outlinewidth\": 0, \"ticks\": \"\"}}, \"type\": \"scatterpolar\"}], \"scatterpolargl\": [{\"marker\": {\"colorbar\": {\"outlinewidth\": 0, \"ticks\": \"\"}}, \"type\": \"scatterpolargl\"}], \"scatterternary\": [{\"marker\": {\"colorbar\": {\"outlinewidth\": 0, \"ticks\": \"\"}}, \"type\": \"scatterternary\"}], \"surface\": [{\"colorbar\": {\"outlinewidth\": 0, \"ticks\": \"\"}, \"colorscale\": [[0.0, \"#0d0887\"], [0.1111111111111111, \"#46039f\"], [0.2222222222222222, \"#7201a8\"], [0.3333333333333333, \"#9c179e\"], [0.4444444444444444, \"#bd3786\"], [0.5555555555555556, \"#d8576b\"], [0.6666666666666666, \"#ed7953\"], [0.7777777777777778, \"#fb9f3a\"], [0.8888888888888888, \"#fdca26\"], [1.0, \"#f0f921\"]], \"type\": \"surface\"}], \"table\": [{\"cells\": {\"fill\": {\"color\": \"#EBF0F8\"}, \"line\": {\"color\": \"white\"}}, \"header\": {\"fill\": {\"color\": \"#C8D4E3\"}, \"line\": {\"color\": \"white\"}}, \"type\": \"table\"}]}, \"layout\": {\"annotationdefaults\": {\"arrowcolor\": \"#2a3f5f\", \"arrowhead\": 0, \"arrowwidth\": 1}, \"autotypenumbers\": \"strict\", \"coloraxis\": {\"colorbar\": {\"outlinewidth\": 0, \"ticks\": \"\"}}, \"colorscale\": {\"diverging\": [[0, \"#8e0152\"], [0.1, \"#c51b7d\"], [0.2, \"#de77ae\"], [0.3, \"#f1b6da\"], [0.4, \"#fde0ef\"], [0.5, \"#f7f7f7\"], [0.6, \"#e6f5d0\"], [0.7, \"#b8e186\"], [0.8, \"#7fbc41\"], [0.9, \"#4d9221\"], [1, \"#276419\"]], \"sequential\": [[0.0, \"#0d0887\"], [0.1111111111111111, \"#46039f\"], [0.2222222222222222, \"#7201a8\"], [0.3333333333333333, \"#9c179e\"], [0.4444444444444444, \"#bd3786\"], [0.5555555555555556, \"#d8576b\"], [0.6666666666666666, \"#ed7953\"], [0.7777777777777778, \"#fb9f3a\"], [0.8888888888888888, \"#fdca26\"], [1.0, \"#f0f921\"]], \"sequentialminus\": [[0.0, \"#0d0887\"], [0.1111111111111111, \"#46039f\"], [0.2222222222222222, \"#7201a8\"], [0.3333333333333333, \"#9c179e\"], [0.4444444444444444, \"#bd3786\"], [0.5555555555555556, \"#d8576b\"], [0.6666666666666666, \"#ed7953\"], [0.7777777777777778, \"#fb9f3a\"], [0.8888888888888888, \"#fdca26\"], [1.0, \"#f0f921\"]]}, \"colorway\": [\"#636efa\", \"#EF553B\", \"#00cc96\", \"#ab63fa\", \"#FFA15A\", \"#19d3f3\", \"#FF6692\", \"#B6E880\", \"#FF97FF\", \"#FECB52\"], \"font\": {\"color\": \"#2a3f5f\"}, \"geo\": {\"bgcolor\": \"white\", \"lakecolor\": \"white\", \"landcolor\": \"#E5ECF6\", \"showlakes\": true, \"showland\": true, \"subunitcolor\": \"white\"}, \"hoverlabel\": {\"align\": \"left\"}, \"hovermode\": \"closest\", \"mapbox\": {\"style\": \"light\"}, \"paper_bgcolor\": \"white\", \"plot_bgcolor\": \"#E5ECF6\", \"polar\": {\"angularaxis\": {\"gridcolor\": \"white\", \"linecolor\": \"white\", \"ticks\": \"\"}, \"bgcolor\": \"#E5ECF6\", \"radialaxis\": {\"gridcolor\": \"white\", \"linecolor\": \"white\", \"ticks\": \"\"}}, \"scene\": {\"xaxis\": {\"backgroundcolor\": \"#E5ECF6\", \"gridcolor\": \"white\", \"gridwidth\": 2, \"linecolor\": \"white\", \"showbackground\": true, \"ticks\": \"\", \"zerolinecolor\": \"white\"}, \"yaxis\": {\"backgroundcolor\": \"#E5ECF6\", \"gridcolor\": \"white\", \"gridwidth\": 2, \"linecolor\": \"white\", \"showbackground\": true, \"ticks\": \"\", \"zerolinecolor\": \"white\"}, \"zaxis\": {\"backgroundcolor\": \"#E5ECF6\", \"gridcolor\": \"white\", \"gridwidth\": 2, \"linecolor\": \"white\", \"showbackground\": true, \"ticks\": \"\", \"zerolinecolor\": \"white\"}}, \"shapedefaults\": {\"line\": {\"color\": \"#2a3f5f\"}}, \"ternary\": {\"aaxis\": {\"gridcolor\": \"white\", \"linecolor\": \"white\", \"ticks\": \"\"}, \"baxis\": {\"gridcolor\": \"white\", \"linecolor\": \"white\", \"ticks\": \"\"}, \"bgcolor\": \"#E5ECF6\", \"caxis\": {\"gridcolor\": \"white\", \"linecolor\": \"white\", \"ticks\": \"\"}}, \"title\": {\"x\": 0.05}, \"xaxis\": {\"automargin\": true, \"gridcolor\": \"white\", \"linecolor\": \"white\", \"ticks\": \"\", \"title\": {\"standoff\": 15}, \"zerolinecolor\": \"white\", \"zerolinewidth\": 2}, \"yaxis\": {\"automargin\": true, \"gridcolor\": \"white\", \"linecolor\": \"white\", \"ticks\": \"\", \"title\": {\"standoff\": 15}, \"zerolinecolor\": \"white\", \"zerolinewidth\": 2}}}, \"title\": {\"text\": \"Average temperature in Each season\"}, \"xaxis\": {\"anchor\": \"y\", \"domain\": [0.0, 1.0], \"title\": {\"text\": \"year\"}}, \"yaxis\": {\"anchor\": \"x\", \"domain\": [0.0, 1.0], \"title\": {\"text\": \"value\"}}},                        {\"responsive\": true}                    ).then(function(){\n",
       "                            \n",
       "var gd = document.getElementById('a82ecda4-bca0-47d1-839e-8a6d41dfe227');\n",
       "var x = new MutationObserver(function (mutations, observer) {{\n",
       "        var display = window.getComputedStyle(gd).display;\n",
       "        if (!display || display === 'none') {{\n",
       "            console.log([gd, 'removed!']);\n",
       "            Plotly.purge(gd);\n",
       "            observer.disconnect();\n",
       "        }}\n",
       "}});\n",
       "\n",
       "// Listen for the removal of the full notebook cells\n",
       "var notebookContainer = gd.closest('#notebook-container');\n",
       "if (notebookContainer) {{\n",
       "    x.observe(notebookContainer, {childList: true});\n",
       "}}\n",
       "\n",
       "// Listen for the clearing of the current output cell\n",
       "var outputEl = gd.closest('.output');\n",
       "if (outputEl) {{\n",
       "    x.observe(outputEl, {childList: true});\n",
       "}}\n",
       "\n",
       "                        })                };                });            </script>        </div>"
      ]
     },
     "metadata": {},
     "output_type": "display_data"
    }
   ],
   "source": [
    "fig=px.line(season,x='year',y=['spring_temp', 'summer_temp', 'autumn_temp', 'winter_temp'],title='Average temperature in Each season')\n",
    "fig.show()"
   ]
  },
  {
   "cell_type": "markdown",
   "id": "junior-audit",
   "metadata": {
    "papermill": {
     "duration": 0.116453,
     "end_time": "2021-06-13T15:28:54.321383",
     "exception": false,
     "start_time": "2021-06-13T15:28:54.204930",
     "status": "completed"
    },
    "tags": []
   },
   "source": [
    "So, in this graph we can see that the world is getting warmer every year."
   ]
  },
  {
   "cell_type": "markdown",
   "id": "vital-leather",
   "metadata": {
    "papermill": {
     "duration": 0.11592,
     "end_time": "2021-06-13T15:28:54.560240",
     "exception": false,
     "start_time": "2021-06-13T15:28:54.444320",
     "status": "completed"
    },
    "tags": []
   },
   "source": [
    "# Let's Analyse Trend in Temperature for the Top Economies"
   ]
  },
  {
   "cell_type": "markdown",
   "id": "fifth-webcam",
   "metadata": {
    "papermill": {
     "duration": 0.121642,
     "end_time": "2021-06-13T15:28:54.802187",
     "exception": false,
     "start_time": "2021-06-13T15:28:54.680545",
     "status": "completed"
    },
    "tags": []
   },
   "source": [
    "Let’s look at the chart of annual temperature changes in certain continents (we take into consideration one country per continent and mark Greenland as the coldest place on Earth)."
   ]
  },
  {
   "cell_type": "code",
   "execution_count": 48,
   "id": "static-spell",
   "metadata": {
    "execution": {
     "iopub.execute_input": "2021-06-13T15:28:55.037236Z",
     "iopub.status.busy": "2021-06-13T15:28:55.036372Z",
     "iopub.status.idle": "2021-06-13T15:28:55.038493Z",
     "shell.execute_reply": "2021-06-13T15:28:55.038922Z",
     "shell.execute_reply.started": "2021-06-13T15:08:03.499983Z"
    },
    "papermill": {
     "duration": 0.120769,
     "end_time": "2021-06-13T15:28:55.039090",
     "exception": false,
     "start_time": "2021-06-13T15:28:54.918321",
     "status": "completed"
    },
    "tags": []
   },
   "outputs": [],
   "source": [
    "continent = ['Russia', 'United States', 'China', 'Japan', 'Australia', 'India']"
   ]
  },
  {
   "cell_type": "code",
   "execution_count": 49,
   "id": "manufactured-wound",
   "metadata": {
    "execution": {
     "iopub.execute_input": "2021-06-13T15:28:55.280581Z",
     "iopub.status.busy": "2021-06-13T15:28:55.279651Z",
     "iopub.status.idle": "2021-06-13T15:28:55.283845Z",
     "shell.execute_reply": "2021-06-13T15:28:55.283373Z",
     "shell.execute_reply.started": "2021-06-13T15:08:03.505354Z"
    },
    "papermill": {
     "duration": 0.130049,
     "end_time": "2021-06-13T15:28:55.283967",
     "exception": false,
     "start_time": "2021-06-13T15:28:55.153918",
     "status": "completed"
    },
    "tags": []
   },
   "outputs": [
    {
     "data": {
      "text/html": [
       "<div>\n",
       "<style scoped>\n",
       "    .dataframe tbody tr th:only-of-type {\n",
       "        vertical-align: middle;\n",
       "    }\n",
       "\n",
       "    .dataframe tbody tr th {\n",
       "        vertical-align: top;\n",
       "    }\n",
       "\n",
       "    .dataframe thead th {\n",
       "        text-align: right;\n",
       "    }\n",
       "</style>\n",
       "<table border=\"1\" class=\"dataframe\">\n",
       "  <thead>\n",
       "    <tr style=\"text-align: right;\">\n",
       "      <th></th>\n",
       "      <th>dt</th>\n",
       "      <th>AverageTemperature</th>\n",
       "      <th>AverageTemperatureUncertainty</th>\n",
       "      <th>City</th>\n",
       "      <th>Country</th>\n",
       "      <th>Latitude</th>\n",
       "      <th>Longitude</th>\n",
       "    </tr>\n",
       "  </thead>\n",
       "  <tbody>\n",
       "    <tr>\n",
       "      <th>0</th>\n",
       "      <td>1743-11-01</td>\n",
       "      <td>6.068</td>\n",
       "      <td>1.737</td>\n",
       "      <td>Århus</td>\n",
       "      <td>Denmark</td>\n",
       "      <td>57.05N</td>\n",
       "      <td>10.33E</td>\n",
       "    </tr>\n",
       "    <tr>\n",
       "      <th>5</th>\n",
       "      <td>1744-04-01</td>\n",
       "      <td>5.788</td>\n",
       "      <td>3.624</td>\n",
       "      <td>Århus</td>\n",
       "      <td>Denmark</td>\n",
       "      <td>57.05N</td>\n",
       "      <td>10.33E</td>\n",
       "    </tr>\n",
       "    <tr>\n",
       "      <th>6</th>\n",
       "      <td>1744-05-01</td>\n",
       "      <td>10.644</td>\n",
       "      <td>1.283</td>\n",
       "      <td>Århus</td>\n",
       "      <td>Denmark</td>\n",
       "      <td>57.05N</td>\n",
       "      <td>10.33E</td>\n",
       "    </tr>\n",
       "    <tr>\n",
       "      <th>7</th>\n",
       "      <td>1744-06-01</td>\n",
       "      <td>14.051</td>\n",
       "      <td>1.347</td>\n",
       "      <td>Århus</td>\n",
       "      <td>Denmark</td>\n",
       "      <td>57.05N</td>\n",
       "      <td>10.33E</td>\n",
       "    </tr>\n",
       "    <tr>\n",
       "      <th>8</th>\n",
       "      <td>1744-07-01</td>\n",
       "      <td>16.082</td>\n",
       "      <td>1.396</td>\n",
       "      <td>Århus</td>\n",
       "      <td>Denmark</td>\n",
       "      <td>57.05N</td>\n",
       "      <td>10.33E</td>\n",
       "    </tr>\n",
       "  </tbody>\n",
       "</table>\n",
       "</div>"
      ],
      "text/plain": [
       "           dt  AverageTemperature  AverageTemperatureUncertainty   City  \\\n",
       "0  1743-11-01               6.068                          1.737  Århus   \n",
       "5  1744-04-01               5.788                          3.624  Århus   \n",
       "6  1744-05-01              10.644                          1.283  Århus   \n",
       "7  1744-06-01              14.051                          1.347  Århus   \n",
       "8  1744-07-01              16.082                          1.396  Århus   \n",
       "\n",
       "   Country Latitude Longitude  \n",
       "0  Denmark   57.05N    10.33E  \n",
       "5  Denmark   57.05N    10.33E  \n",
       "6  Denmark   57.05N    10.33E  \n",
       "7  Denmark   57.05N    10.33E  \n",
       "8  Denmark   57.05N    10.33E  "
      ]
     },
     "execution_count": 49,
     "metadata": {},
     "output_type": "execute_result"
    }
   ],
   "source": [
    "global_temp_country.head()"
   ]
  },
  {
   "cell_type": "code",
   "execution_count": 50,
   "id": "enhanced-anthropology",
   "metadata": {
    "execution": {
     "iopub.execute_input": "2021-06-13T15:28:56.020136Z",
     "iopub.status.busy": "2021-06-13T15:28:56.019150Z",
     "iopub.status.idle": "2021-06-13T15:28:56.242913Z",
     "shell.execute_reply": "2021-06-13T15:28:56.243398Z",
     "shell.execute_reply.started": "2021-06-13T15:08:03.52819Z"
    },
    "papermill": {
     "duration": 0.840583,
     "end_time": "2021-06-13T15:28:56.243557",
     "exception": false,
     "start_time": "2021-06-13T15:28:55.402974",
     "status": "completed"
    },
    "tags": []
   },
   "outputs": [
    {
     "data": {
      "text/html": [
       "<div>\n",
       "<style scoped>\n",
       "    .dataframe tbody tr th:only-of-type {\n",
       "        vertical-align: middle;\n",
       "    }\n",
       "\n",
       "    .dataframe tbody tr th {\n",
       "        vertical-align: top;\n",
       "    }\n",
       "\n",
       "    .dataframe thead th {\n",
       "        text-align: right;\n",
       "    }\n",
       "</style>\n",
       "<table border=\"1\" class=\"dataframe\">\n",
       "  <thead>\n",
       "    <tr style=\"text-align: right;\">\n",
       "      <th></th>\n",
       "      <th>dt</th>\n",
       "      <th>AverageTemperature</th>\n",
       "      <th>AverageTemperatureUncertainty</th>\n",
       "      <th>City</th>\n",
       "      <th>Country</th>\n",
       "      <th>Latitude</th>\n",
       "      <th>Longitude</th>\n",
       "    </tr>\n",
       "  </thead>\n",
       "  <tbody>\n",
       "    <tr>\n",
       "      <th>11925</th>\n",
       "      <td>1820-08-01</td>\n",
       "      <td>20.146</td>\n",
       "      <td>2.286</td>\n",
       "      <td>Ürümqi</td>\n",
       "      <td>China</td>\n",
       "      <td>44.20N</td>\n",
       "      <td>87.20E</td>\n",
       "    </tr>\n",
       "    <tr>\n",
       "      <th>11926</th>\n",
       "      <td>1820-09-01</td>\n",
       "      <td>15.331</td>\n",
       "      <td>1.775</td>\n",
       "      <td>Ürümqi</td>\n",
       "      <td>China</td>\n",
       "      <td>44.20N</td>\n",
       "      <td>87.20E</td>\n",
       "    </tr>\n",
       "    <tr>\n",
       "      <th>11927</th>\n",
       "      <td>1820-10-01</td>\n",
       "      <td>5.256</td>\n",
       "      <td>1.848</td>\n",
       "      <td>Ürümqi</td>\n",
       "      <td>China</td>\n",
       "      <td>44.20N</td>\n",
       "      <td>87.20E</td>\n",
       "    </tr>\n",
       "    <tr>\n",
       "      <th>11928</th>\n",
       "      <td>1820-11-01</td>\n",
       "      <td>-4.956</td>\n",
       "      <td>2.190</td>\n",
       "      <td>Ürümqi</td>\n",
       "      <td>China</td>\n",
       "      <td>44.20N</td>\n",
       "      <td>87.20E</td>\n",
       "    </tr>\n",
       "    <tr>\n",
       "      <th>11929</th>\n",
       "      <td>1820-12-01</td>\n",
       "      <td>-14.118</td>\n",
       "      <td>2.581</td>\n",
       "      <td>Ürümqi</td>\n",
       "      <td>China</td>\n",
       "      <td>44.20N</td>\n",
       "      <td>87.20E</td>\n",
       "    </tr>\n",
       "    <tr>\n",
       "      <th>...</th>\n",
       "      <td>...</td>\n",
       "      <td>...</td>\n",
       "      <td>...</td>\n",
       "      <td>...</td>\n",
       "      <td>...</td>\n",
       "      <td>...</td>\n",
       "      <td>...</td>\n",
       "    </tr>\n",
       "    <tr>\n",
       "      <th>8589599</th>\n",
       "      <td>2013-04-01</td>\n",
       "      <td>15.627</td>\n",
       "      <td>1.581</td>\n",
       "      <td>Zunyi</td>\n",
       "      <td>China</td>\n",
       "      <td>28.13N</td>\n",
       "      <td>106.36E</td>\n",
       "    </tr>\n",
       "    <tr>\n",
       "      <th>8589600</th>\n",
       "      <td>2013-05-01</td>\n",
       "      <td>19.473</td>\n",
       "      <td>0.227</td>\n",
       "      <td>Zunyi</td>\n",
       "      <td>China</td>\n",
       "      <td>28.13N</td>\n",
       "      <td>106.36E</td>\n",
       "    </tr>\n",
       "    <tr>\n",
       "      <th>8589601</th>\n",
       "      <td>2013-06-01</td>\n",
       "      <td>23.670</td>\n",
       "      <td>0.575</td>\n",
       "      <td>Zunyi</td>\n",
       "      <td>China</td>\n",
       "      <td>28.13N</td>\n",
       "      <td>106.36E</td>\n",
       "    </tr>\n",
       "    <tr>\n",
       "      <th>8589602</th>\n",
       "      <td>2013-07-01</td>\n",
       "      <td>26.159</td>\n",
       "      <td>0.713</td>\n",
       "      <td>Zunyi</td>\n",
       "      <td>China</td>\n",
       "      <td>28.13N</td>\n",
       "      <td>106.36E</td>\n",
       "    </tr>\n",
       "    <tr>\n",
       "      <th>8589603</th>\n",
       "      <td>2013-08-01</td>\n",
       "      <td>25.502</td>\n",
       "      <td>0.587</td>\n",
       "      <td>Zunyi</td>\n",
       "      <td>China</td>\n",
       "      <td>28.13N</td>\n",
       "      <td>106.36E</td>\n",
       "    </tr>\n",
       "  </tbody>\n",
       "</table>\n",
       "<p>3274479 rows × 7 columns</p>\n",
       "</div>"
      ],
      "text/plain": [
       "                 dt  AverageTemperature  AverageTemperatureUncertainty  \\\n",
       "11925    1820-08-01              20.146                          2.286   \n",
       "11926    1820-09-01              15.331                          1.775   \n",
       "11927    1820-10-01               5.256                          1.848   \n",
       "11928    1820-11-01              -4.956                          2.190   \n",
       "11929    1820-12-01             -14.118                          2.581   \n",
       "...             ...                 ...                            ...   \n",
       "8589599  2013-04-01              15.627                          1.581   \n",
       "8589600  2013-05-01              19.473                          0.227   \n",
       "8589601  2013-06-01              23.670                          0.575   \n",
       "8589602  2013-07-01              26.159                          0.713   \n",
       "8589603  2013-08-01              25.502                          0.587   \n",
       "\n",
       "           City Country Latitude Longitude  \n",
       "11925    Ürümqi   China   44.20N    87.20E  \n",
       "11926    Ürümqi   China   44.20N    87.20E  \n",
       "11927    Ürümqi   China   44.20N    87.20E  \n",
       "11928    Ürümqi   China   44.20N    87.20E  \n",
       "11929    Ürümqi   China   44.20N    87.20E  \n",
       "...         ...     ...      ...       ...  \n",
       "8589599   Zunyi   China   28.13N   106.36E  \n",
       "8589600   Zunyi   China   28.13N   106.36E  \n",
       "8589601   Zunyi   China   28.13N   106.36E  \n",
       "8589602   Zunyi   China   28.13N   106.36E  \n",
       "8589603   Zunyi   China   28.13N   106.36E  \n",
       "\n",
       "[3274479 rows x 7 columns]"
      ]
     },
     "execution_count": 50,
     "metadata": {},
     "output_type": "execute_result"
    }
   ],
   "source": [
    "global_temp_country[global_temp_country['Country'].isin(continent)]"
   ]
  },
  {
   "cell_type": "code",
   "execution_count": 51,
   "id": "induced-optimum",
   "metadata": {
    "execution": {
     "iopub.execute_input": "2021-06-13T15:28:56.996082Z",
     "iopub.status.busy": "2021-06-13T15:28:56.995180Z",
     "iopub.status.idle": "2021-06-13T15:28:57.197566Z",
     "shell.execute_reply": "2021-06-13T15:28:57.197055Z",
     "shell.execute_reply.started": "2021-06-13T15:08:04.056737Z"
    },
    "papermill": {
     "duration": 0.824558,
     "end_time": "2021-06-13T15:28:57.197688",
     "exception": false,
     "start_time": "2021-06-13T15:28:56.373130",
     "status": "completed"
    },
    "tags": []
   },
   "outputs": [],
   "source": [
    "continent_df=global_temp_country[global_temp_country['Country'].isin(continent)]"
   ]
  },
  {
   "cell_type": "code",
   "execution_count": 52,
   "id": "considered-people",
   "metadata": {
    "execution": {
     "iopub.execute_input": "2021-06-13T15:28:57.443010Z",
     "iopub.status.busy": "2021-06-13T15:28:57.442060Z",
     "iopub.status.idle": "2021-06-13T15:28:57.446517Z",
     "shell.execute_reply": "2021-06-13T15:28:57.446056Z",
     "shell.execute_reply.started": "2021-06-13T15:08:04.584039Z"
    },
    "papermill": {
     "duration": 0.132539,
     "end_time": "2021-06-13T15:28:57.446644",
     "exception": false,
     "start_time": "2021-06-13T15:28:57.314105",
     "status": "completed"
    },
    "tags": []
   },
   "outputs": [
    {
     "data": {
      "text/html": [
       "<div>\n",
       "<style scoped>\n",
       "    .dataframe tbody tr th:only-of-type {\n",
       "        vertical-align: middle;\n",
       "    }\n",
       "\n",
       "    .dataframe tbody tr th {\n",
       "        vertical-align: top;\n",
       "    }\n",
       "\n",
       "    .dataframe thead th {\n",
       "        text-align: right;\n",
       "    }\n",
       "</style>\n",
       "<table border=\"1\" class=\"dataframe\">\n",
       "  <thead>\n",
       "    <tr style=\"text-align: right;\">\n",
       "      <th></th>\n",
       "      <th>dt</th>\n",
       "      <th>AverageTemperature</th>\n",
       "      <th>AverageTemperatureUncertainty</th>\n",
       "      <th>City</th>\n",
       "      <th>Country</th>\n",
       "      <th>Latitude</th>\n",
       "      <th>Longitude</th>\n",
       "    </tr>\n",
       "  </thead>\n",
       "  <tbody>\n",
       "    <tr>\n",
       "      <th>11925</th>\n",
       "      <td>1820-08-01</td>\n",
       "      <td>20.146</td>\n",
       "      <td>2.286</td>\n",
       "      <td>Ürümqi</td>\n",
       "      <td>China</td>\n",
       "      <td>44.20N</td>\n",
       "      <td>87.20E</td>\n",
       "    </tr>\n",
       "    <tr>\n",
       "      <th>11926</th>\n",
       "      <td>1820-09-01</td>\n",
       "      <td>15.331</td>\n",
       "      <td>1.775</td>\n",
       "      <td>Ürümqi</td>\n",
       "      <td>China</td>\n",
       "      <td>44.20N</td>\n",
       "      <td>87.20E</td>\n",
       "    </tr>\n",
       "    <tr>\n",
       "      <th>11927</th>\n",
       "      <td>1820-10-01</td>\n",
       "      <td>5.256</td>\n",
       "      <td>1.848</td>\n",
       "      <td>Ürümqi</td>\n",
       "      <td>China</td>\n",
       "      <td>44.20N</td>\n",
       "      <td>87.20E</td>\n",
       "    </tr>\n",
       "    <tr>\n",
       "      <th>11928</th>\n",
       "      <td>1820-11-01</td>\n",
       "      <td>-4.956</td>\n",
       "      <td>2.190</td>\n",
       "      <td>Ürümqi</td>\n",
       "      <td>China</td>\n",
       "      <td>44.20N</td>\n",
       "      <td>87.20E</td>\n",
       "    </tr>\n",
       "    <tr>\n",
       "      <th>11929</th>\n",
       "      <td>1820-12-01</td>\n",
       "      <td>-14.118</td>\n",
       "      <td>2.581</td>\n",
       "      <td>Ürümqi</td>\n",
       "      <td>China</td>\n",
       "      <td>44.20N</td>\n",
       "      <td>87.20E</td>\n",
       "    </tr>\n",
       "  </tbody>\n",
       "</table>\n",
       "</div>"
      ],
      "text/plain": [
       "               dt  AverageTemperature  AverageTemperatureUncertainty    City  \\\n",
       "11925  1820-08-01              20.146                          2.286  Ürümqi   \n",
       "11926  1820-09-01              15.331                          1.775  Ürümqi   \n",
       "11927  1820-10-01               5.256                          1.848  Ürümqi   \n",
       "11928  1820-11-01              -4.956                          2.190  Ürümqi   \n",
       "11929  1820-12-01             -14.118                          2.581  Ürümqi   \n",
       "\n",
       "      Country Latitude Longitude  \n",
       "11925   China   44.20N    87.20E  \n",
       "11926   China   44.20N    87.20E  \n",
       "11927   China   44.20N    87.20E  \n",
       "11928   China   44.20N    87.20E  \n",
       "11929   China   44.20N    87.20E  "
      ]
     },
     "execution_count": 52,
     "metadata": {},
     "output_type": "execute_result"
    }
   ],
   "source": [
    "continent_df.head()"
   ]
  },
  {
   "cell_type": "code",
   "execution_count": 53,
   "id": "naughty-giant",
   "metadata": {
    "execution": {
     "iopub.execute_input": "2021-06-13T15:28:57.680904Z",
     "iopub.status.busy": "2021-06-13T15:28:57.680308Z",
     "iopub.status.idle": "2021-06-13T15:28:57.682896Z",
     "shell.execute_reply": "2021-06-13T15:28:57.683415Z",
     "shell.execute_reply.started": "2021-06-13T15:08:04.599784Z"
    },
    "papermill": {
     "duration": 0.121983,
     "end_time": "2021-06-13T15:28:57.683564",
     "exception": false,
     "start_time": "2021-06-13T15:28:57.561581",
     "status": "completed"
    },
    "tags": []
   },
   "outputs": [
    {
     "data": {
      "text/plain": [
       "(3274479, 7)"
      ]
     },
     "execution_count": 53,
     "metadata": {},
     "output_type": "execute_result"
    }
   ],
   "source": [
    "continent_df.shape"
   ]
  },
  {
   "cell_type": "code",
   "execution_count": 54,
   "id": "oriented-security",
   "metadata": {
    "execution": {
     "iopub.execute_input": "2021-06-13T15:28:57.919474Z",
     "iopub.status.busy": "2021-06-13T15:28:57.918081Z",
     "iopub.status.idle": "2021-06-13T15:28:59.298704Z",
     "shell.execute_reply": "2021-06-13T15:28:59.298260Z",
     "shell.execute_reply.started": "2021-06-13T15:08:04.611658Z"
    },
    "papermill": {
     "duration": 1.499453,
     "end_time": "2021-06-13T15:28:59.298843",
     "exception": false,
     "start_time": "2021-06-13T15:28:57.799390",
     "status": "completed"
    },
    "tags": []
   },
   "outputs": [],
   "source": [
    "continent_df['years']=continent_df['dt'].apply(fetch_year)"
   ]
  },
  {
   "cell_type": "code",
   "execution_count": 55,
   "id": "theoretical-enhancement",
   "metadata": {
    "execution": {
     "iopub.execute_input": "2021-06-13T15:28:59.549094Z",
     "iopub.status.busy": "2021-06-13T15:28:59.548203Z",
     "iopub.status.idle": "2021-06-13T15:28:59.552675Z",
     "shell.execute_reply": "2021-06-13T15:28:59.552269Z",
     "shell.execute_reply.started": "2021-06-13T15:08:05.810946Z"
    },
    "papermill": {
     "duration": 0.135525,
     "end_time": "2021-06-13T15:28:59.552801",
     "exception": false,
     "start_time": "2021-06-13T15:28:59.417276",
     "status": "completed"
    },
    "tags": []
   },
   "outputs": [
    {
     "data": {
      "text/html": [
       "<div>\n",
       "<style scoped>\n",
       "    .dataframe tbody tr th:only-of-type {\n",
       "        vertical-align: middle;\n",
       "    }\n",
       "\n",
       "    .dataframe tbody tr th {\n",
       "        vertical-align: top;\n",
       "    }\n",
       "\n",
       "    .dataframe thead th {\n",
       "        text-align: right;\n",
       "    }\n",
       "</style>\n",
       "<table border=\"1\" class=\"dataframe\">\n",
       "  <thead>\n",
       "    <tr style=\"text-align: right;\">\n",
       "      <th></th>\n",
       "      <th>dt</th>\n",
       "      <th>AverageTemperature</th>\n",
       "      <th>AverageTemperatureUncertainty</th>\n",
       "      <th>City</th>\n",
       "      <th>Country</th>\n",
       "      <th>Latitude</th>\n",
       "      <th>Longitude</th>\n",
       "      <th>years</th>\n",
       "    </tr>\n",
       "  </thead>\n",
       "  <tbody>\n",
       "    <tr>\n",
       "      <th>11925</th>\n",
       "      <td>1820-08-01</td>\n",
       "      <td>20.146</td>\n",
       "      <td>2.286</td>\n",
       "      <td>Ürümqi</td>\n",
       "      <td>China</td>\n",
       "      <td>44.20N</td>\n",
       "      <td>87.20E</td>\n",
       "      <td>1820</td>\n",
       "    </tr>\n",
       "    <tr>\n",
       "      <th>11926</th>\n",
       "      <td>1820-09-01</td>\n",
       "      <td>15.331</td>\n",
       "      <td>1.775</td>\n",
       "      <td>Ürümqi</td>\n",
       "      <td>China</td>\n",
       "      <td>44.20N</td>\n",
       "      <td>87.20E</td>\n",
       "      <td>1820</td>\n",
       "    </tr>\n",
       "    <tr>\n",
       "      <th>11927</th>\n",
       "      <td>1820-10-01</td>\n",
       "      <td>5.256</td>\n",
       "      <td>1.848</td>\n",
       "      <td>Ürümqi</td>\n",
       "      <td>China</td>\n",
       "      <td>44.20N</td>\n",
       "      <td>87.20E</td>\n",
       "      <td>1820</td>\n",
       "    </tr>\n",
       "    <tr>\n",
       "      <th>11928</th>\n",
       "      <td>1820-11-01</td>\n",
       "      <td>-4.956</td>\n",
       "      <td>2.190</td>\n",
       "      <td>Ürümqi</td>\n",
       "      <td>China</td>\n",
       "      <td>44.20N</td>\n",
       "      <td>87.20E</td>\n",
       "      <td>1820</td>\n",
       "    </tr>\n",
       "    <tr>\n",
       "      <th>11929</th>\n",
       "      <td>1820-12-01</td>\n",
       "      <td>-14.118</td>\n",
       "      <td>2.581</td>\n",
       "      <td>Ürümqi</td>\n",
       "      <td>China</td>\n",
       "      <td>44.20N</td>\n",
       "      <td>87.20E</td>\n",
       "      <td>1820</td>\n",
       "    </tr>\n",
       "  </tbody>\n",
       "</table>\n",
       "</div>"
      ],
      "text/plain": [
       "               dt  AverageTemperature  AverageTemperatureUncertainty    City  \\\n",
       "11925  1820-08-01              20.146                          2.286  Ürümqi   \n",
       "11926  1820-09-01              15.331                          1.775  Ürümqi   \n",
       "11927  1820-10-01               5.256                          1.848  Ürümqi   \n",
       "11928  1820-11-01              -4.956                          2.190  Ürümqi   \n",
       "11929  1820-12-01             -14.118                          2.581  Ürümqi   \n",
       "\n",
       "      Country Latitude Longitude years  \n",
       "11925   China   44.20N    87.20E  1820  \n",
       "11926   China   44.20N    87.20E  1820  \n",
       "11927   China   44.20N    87.20E  1820  \n",
       "11928   China   44.20N    87.20E  1820  \n",
       "11929   China   44.20N    87.20E  1820  "
      ]
     },
     "execution_count": 55,
     "metadata": {},
     "output_type": "execute_result"
    }
   ],
   "source": [
    "continent_df.head()"
   ]
  },
  {
   "cell_type": "code",
   "execution_count": null,
   "id": "legitimate-venice",
   "metadata": {
    "papermill": {
     "duration": 0.151643,
     "end_time": "2021-06-13T15:28:59.821366",
     "exception": false,
     "start_time": "2021-06-13T15:28:59.669723",
     "status": "completed"
    },
    "tags": []
   },
   "outputs": [],
   "source": []
  },
  {
   "cell_type": "code",
   "execution_count": 56,
   "id": "certified-algorithm",
   "metadata": {
    "execution": {
     "iopub.execute_input": "2021-06-13T15:29:00.112427Z",
     "iopub.status.busy": "2021-06-13T15:29:00.111511Z",
     "iopub.status.idle": "2021-06-13T15:29:00.649249Z",
     "shell.execute_reply": "2021-06-13T15:29:00.649675Z",
     "shell.execute_reply.started": "2021-06-13T15:08:05.833707Z"
    },
    "papermill": {
     "duration": 0.708554,
     "end_time": "2021-06-13T15:29:00.649834",
     "exception": false,
     "start_time": "2021-06-13T15:28:59.941280",
     "status": "completed"
    },
    "tags": []
   },
   "outputs": [
    {
     "data": {
      "text/html": [
       "<div>\n",
       "<style scoped>\n",
       "    .dataframe tbody tr th:only-of-type {\n",
       "        vertical-align: middle;\n",
       "    }\n",
       "\n",
       "    .dataframe tbody tr th {\n",
       "        vertical-align: top;\n",
       "    }\n",
       "\n",
       "    .dataframe thead th {\n",
       "        text-align: right;\n",
       "    }\n",
       "</style>\n",
       "<table border=\"1\" class=\"dataframe\">\n",
       "  <thead>\n",
       "    <tr style=\"text-align: right;\">\n",
       "      <th></th>\n",
       "      <th></th>\n",
       "      <th>AverageTemperature</th>\n",
       "    </tr>\n",
       "    <tr>\n",
       "      <th>years</th>\n",
       "      <th>Country</th>\n",
       "      <th></th>\n",
       "    </tr>\n",
       "  </thead>\n",
       "  <tbody>\n",
       "    <tr>\n",
       "      <th rowspan=\"2\" valign=\"top\">1743</th>\n",
       "      <th>Russia</th>\n",
       "      <td>-2.877295</td>\n",
       "    </tr>\n",
       "    <tr>\n",
       "      <th>United States</th>\n",
       "      <td>5.818071</td>\n",
       "    </tr>\n",
       "    <tr>\n",
       "      <th rowspan=\"2\" valign=\"top\">1744</th>\n",
       "      <th>Russia</th>\n",
       "      <td>6.978618</td>\n",
       "    </tr>\n",
       "    <tr>\n",
       "      <th>United States</th>\n",
       "      <td>13.858205</td>\n",
       "    </tr>\n",
       "    <tr>\n",
       "      <th>1745</th>\n",
       "      <th>Russia</th>\n",
       "      <td>-6.259558</td>\n",
       "    </tr>\n",
       "    <tr>\n",
       "      <th>...</th>\n",
       "      <th>...</th>\n",
       "      <td>...</td>\n",
       "    </tr>\n",
       "    <tr>\n",
       "      <th rowspan=\"5\" valign=\"top\">2013</th>\n",
       "      <th>China</th>\n",
       "      <td>14.962133</td>\n",
       "    </tr>\n",
       "    <tr>\n",
       "      <th>India</th>\n",
       "      <td>26.864186</td>\n",
       "    </tr>\n",
       "    <tr>\n",
       "      <th>Japan</th>\n",
       "      <td>14.640792</td>\n",
       "    </tr>\n",
       "    <tr>\n",
       "      <th>Russia</th>\n",
       "      <td>5.999847</td>\n",
       "    </tr>\n",
       "    <tr>\n",
       "      <th>United States</th>\n",
       "      <td>16.381720</td>\n",
       "    </tr>\n",
       "  </tbody>\n",
       "</table>\n",
       "<p>1293 rows × 1 columns</p>\n",
       "</div>"
      ],
      "text/plain": [
       "                     AverageTemperature\n",
       "years Country                          \n",
       "1743  Russia                  -2.877295\n",
       "      United States            5.818071\n",
       "1744  Russia                   6.978618\n",
       "      United States           13.858205\n",
       "1745  Russia                  -6.259558\n",
       "...                                 ...\n",
       "2013  China                   14.962133\n",
       "      India                   26.864186\n",
       "      Japan                   14.640792\n",
       "      Russia                   5.999847\n",
       "      United States           16.381720\n",
       "\n",
       "[1293 rows x 1 columns]"
      ]
     },
     "execution_count": 56,
     "metadata": {},
     "output_type": "execute_result"
    }
   ],
   "source": [
    "continent_df.groupby(['years','Country']).agg({'AverageTemperature':'mean'})"
   ]
  },
  {
   "cell_type": "code",
   "execution_count": 57,
   "id": "pregnant-student",
   "metadata": {
    "execution": {
     "iopub.execute_input": "2021-06-13T15:29:00.939914Z",
     "iopub.status.busy": "2021-06-13T15:29:00.939068Z",
     "iopub.status.idle": "2021-06-13T15:29:01.464851Z",
     "shell.execute_reply": "2021-06-13T15:29:01.465304Z",
     "shell.execute_reply.started": "2021-06-13T15:08:06.373741Z"
    },
    "papermill": {
     "duration": 0.690673,
     "end_time": "2021-06-13T15:29:01.465460",
     "exception": false,
     "start_time": "2021-06-13T15:29:00.774787",
     "status": "completed"
    },
    "tags": []
   },
   "outputs": [
    {
     "data": {
      "text/html": [
       "<div>\n",
       "<style scoped>\n",
       "    .dataframe tbody tr th:only-of-type {\n",
       "        vertical-align: middle;\n",
       "    }\n",
       "\n",
       "    .dataframe tbody tr th {\n",
       "        vertical-align: top;\n",
       "    }\n",
       "\n",
       "    .dataframe thead th {\n",
       "        text-align: right;\n",
       "    }\n",
       "</style>\n",
       "<table border=\"1\" class=\"dataframe\">\n",
       "  <thead>\n",
       "    <tr style=\"text-align: right;\">\n",
       "      <th></th>\n",
       "      <th>years</th>\n",
       "      <th>Country</th>\n",
       "      <th>AverageTemperature</th>\n",
       "    </tr>\n",
       "  </thead>\n",
       "  <tbody>\n",
       "    <tr>\n",
       "      <th>0</th>\n",
       "      <td>1743</td>\n",
       "      <td>Russia</td>\n",
       "      <td>-2.877295</td>\n",
       "    </tr>\n",
       "    <tr>\n",
       "      <th>1</th>\n",
       "      <td>1743</td>\n",
       "      <td>United States</td>\n",
       "      <td>5.818071</td>\n",
       "    </tr>\n",
       "    <tr>\n",
       "      <th>2</th>\n",
       "      <td>1744</td>\n",
       "      <td>Russia</td>\n",
       "      <td>6.978618</td>\n",
       "    </tr>\n",
       "    <tr>\n",
       "      <th>3</th>\n",
       "      <td>1744</td>\n",
       "      <td>United States</td>\n",
       "      <td>13.858205</td>\n",
       "    </tr>\n",
       "    <tr>\n",
       "      <th>4</th>\n",
       "      <td>1745</td>\n",
       "      <td>Russia</td>\n",
       "      <td>-6.259558</td>\n",
       "    </tr>\n",
       "    <tr>\n",
       "      <th>5</th>\n",
       "      <td>1745</td>\n",
       "      <td>United States</td>\n",
       "      <td>4.039120</td>\n",
       "    </tr>\n",
       "    <tr>\n",
       "      <th>6</th>\n",
       "      <td>1750</td>\n",
       "      <td>Russia</td>\n",
       "      <td>4.992516</td>\n",
       "    </tr>\n",
       "    <tr>\n",
       "      <th>7</th>\n",
       "      <td>1750</td>\n",
       "      <td>United States</td>\n",
       "      <td>12.456202</td>\n",
       "    </tr>\n",
       "    <tr>\n",
       "      <th>8</th>\n",
       "      <td>1751</td>\n",
       "      <td>Russia</td>\n",
       "      <td>5.290917</td>\n",
       "    </tr>\n",
       "    <tr>\n",
       "      <th>9</th>\n",
       "      <td>1751</td>\n",
       "      <td>United States</td>\n",
       "      <td>13.140726</td>\n",
       "    </tr>\n",
       "  </tbody>\n",
       "</table>\n",
       "</div>"
      ],
      "text/plain": [
       "  years        Country  AverageTemperature\n",
       "0  1743         Russia           -2.877295\n",
       "1  1743  United States            5.818071\n",
       "2  1744         Russia            6.978618\n",
       "3  1744  United States           13.858205\n",
       "4  1745         Russia           -6.259558\n",
       "5  1745  United States            4.039120\n",
       "6  1750         Russia            4.992516\n",
       "7  1750  United States           12.456202\n",
       "8  1751         Russia            5.290917\n",
       "9  1751  United States           13.140726"
      ]
     },
     "execution_count": 57,
     "metadata": {},
     "output_type": "execute_result"
    }
   ],
   "source": [
    "avg_temp=continent_df.groupby(['years','Country']).agg({'AverageTemperature':'mean'}).reset_index()\n",
    "avg_temp.head(10)"
   ]
  },
  {
   "cell_type": "code",
   "execution_count": 58,
   "id": "competitive-court",
   "metadata": {
    "execution": {
     "iopub.execute_input": "2021-06-13T15:29:01.726573Z",
     "iopub.status.busy": "2021-06-13T15:29:01.724040Z",
     "iopub.status.idle": "2021-06-13T15:29:01.811170Z",
     "shell.execute_reply": "2021-06-13T15:29:01.811576Z",
     "shell.execute_reply.started": "2021-06-13T15:08:06.886376Z"
    },
    "papermill": {
     "duration": 0.221911,
     "end_time": "2021-06-13T15:29:01.811715",
     "exception": false,
     "start_time": "2021-06-13T15:29:01.589804",
     "status": "completed"
    },
    "tags": []
   },
   "outputs": [
    {
     "data": {
      "application/vnd.plotly.v1+json": {
       "config": {
        "plotlyServerURL": "https://plot.ly"
       },
       "data": [
        {
         "hovertemplate": "Country=Russia<br>variable=AverageTemperature<br>years=%{x}<br>value=%{y}<extra></extra>",
         "legendgroup": "Russia",
         "line": {
          "color": "#636efa",
          "dash": "solid"
         },
         "mode": "lines",
         "name": "Russia",
         "showlegend": true,
         "type": "scattergl",
         "x": [
          "1743",
          "1744",
          "1745",
          "1750",
          "1751",
          "1752",
          "1753",
          "1754",
          "1755",
          "1756",
          "1757",
          "1758",
          "1759",
          "1760",
          "1761",
          "1762",
          "1763",
          "1764",
          "1765",
          "1766",
          "1767",
          "1768",
          "1769",
          "1770",
          "1771",
          "1772",
          "1773",
          "1774",
          "1775",
          "1776",
          "1777",
          "1778",
          "1779",
          "1780",
          "1781",
          "1782",
          "1783",
          "1784",
          "1785",
          "1786",
          "1787",
          "1788",
          "1789",
          "1790",
          "1791",
          "1792",
          "1793",
          "1794",
          "1795",
          "1796",
          "1797",
          "1798",
          "1799",
          "1800",
          "1801",
          "1802",
          "1803",
          "1804",
          "1805",
          "1806",
          "1807",
          "1808",
          "1809",
          "1810",
          "1811",
          "1812",
          "1813",
          "1814",
          "1815",
          "1816",
          "1817",
          "1818",
          "1819",
          "1820",
          "1821",
          "1822",
          "1823",
          "1824",
          "1825",
          "1826",
          "1827",
          "1828",
          "1829",
          "1830",
          "1831",
          "1832",
          "1833",
          "1834",
          "1835",
          "1836",
          "1837",
          "1838",
          "1839",
          "1840",
          "1841",
          "1842",
          "1843",
          "1844",
          "1845",
          "1846",
          "1847",
          "1848",
          "1849",
          "1850",
          "1851",
          "1852",
          "1853",
          "1854",
          "1855",
          "1856",
          "1857",
          "1858",
          "1859",
          "1860",
          "1861",
          "1862",
          "1863",
          "1864",
          "1865",
          "1866",
          "1867",
          "1868",
          "1869",
          "1870",
          "1871",
          "1872",
          "1873",
          "1874",
          "1875",
          "1876",
          "1877",
          "1878",
          "1879",
          "1880",
          "1881",
          "1882",
          "1883",
          "1884",
          "1885",
          "1886",
          "1887",
          "1888",
          "1889",
          "1890",
          "1891",
          "1892",
          "1893",
          "1894",
          "1895",
          "1896",
          "1897",
          "1898",
          "1899",
          "1900",
          "1901",
          "1902",
          "1903",
          "1904",
          "1905",
          "1906",
          "1907",
          "1908",
          "1909",
          "1910",
          "1911",
          "1912",
          "1913",
          "1914",
          "1915",
          "1916",
          "1917",
          "1918",
          "1919",
          "1920",
          "1921",
          "1922",
          "1923",
          "1924",
          "1925",
          "1926",
          "1927",
          "1928",
          "1929",
          "1930",
          "1931",
          "1932",
          "1933",
          "1934",
          "1935",
          "1936",
          "1937",
          "1938",
          "1939",
          "1940",
          "1941",
          "1942",
          "1943",
          "1944",
          "1945",
          "1946",
          "1947",
          "1948",
          "1949",
          "1950",
          "1951",
          "1952",
          "1953",
          "1954",
          "1955",
          "1956",
          "1957",
          "1958",
          "1959",
          "1960",
          "1961",
          "1962",
          "1963",
          "1964",
          "1965",
          "1966",
          "1967",
          "1968",
          "1969",
          "1970",
          "1971",
          "1972",
          "1973",
          "1974",
          "1975",
          "1976",
          "1977",
          "1978",
          "1979",
          "1980",
          "1981",
          "1982",
          "1983",
          "1984",
          "1985",
          "1986",
          "1987",
          "1988",
          "1989",
          "1990",
          "1991",
          "1992",
          "1993",
          "1994",
          "1995",
          "1996",
          "1997",
          "1998",
          "1999",
          "2000",
          "2001",
          "2002",
          "2003",
          "2004",
          "2005",
          "2006",
          "2007",
          "2008",
          "2009",
          "2010",
          "2011",
          "2012",
          "2013"
         ],
         "xaxis": "x",
         "y": [
          -2.8772947368421042,
          6.978618421052635,
          -6.259557894736842,
          4.992516414141413,
          5.290916666666664,
          -2.500448028673835,
          4.087683333333342,
          4.33164736842105,
          4.2009271929824505,
          4.717751754385965,
          4.822477192982452,
          2.4380771929824556,
          3.6265982456140327,
          2.612407017543857,
          4.24420289855072,
          4.229541666666663,
          3.655767822736035,
          5.74782121212121,
          4.38407518115942,
          4.351226449275359,
          4.35564857651246,
          2.9345274822694964,
          4.072001773049643,
          4.133761524822698,
          3.665828900709216,
          4.228236702127663,
          4.8365797872340375,
          4.789885638297869,
          5.408923758865251,
          4.329783333333331,
          4.259492622950828,
          4.558423139158579,
          4.7775845181674566,
          4.708738095238099,
          4.191172268907564,
          3.8097359943977582,
          4.194899560117305,
          4.257841977309574,
          3.74137903225807,
          4.014216386554632,
          4.515656752411567,
          4.0552079831932755,
          4.745729691876763,
          4.289021774193554,
          4.927194677871152,
          4.192346638655466,
          4.597323577235775,
          5.191555377207069,
          4.451524857375716,
          4.4978715220949255,
          5.221990291262135,
          4.890290453074436,
          4.137424437299037,
          4.329387019230777,
          5.115852640545148,
          4.856800840336144,
          3.971554530201337,
          4.468235983263597,
          4.281110665597432,
          4.61368990384616,
          4.4546036977491905,
          3.5359953161592403,
          2.42963768115942,
          2.5306297101449284,
          3.2984065217391203,
          2.6568730691739466,
          3.4512840755735485,
          3.043244325767689,
          2.963114864864869,
          3.0794337349397574,
          2.782703999999999,
          4.019403999999999,
          3.038991999999996,
          2.848775999999999,
          3.011351111111117,
          3.4848433333333357,
          2.830568888888891,
          3.771497222222221,
          3.07117,
          3.581531666666673,
          3.7619583333333333,
          2.1484472222222215,
          2.161145742358077,
          3.17034307359307,
          2.251998917748917,
          1.6723916576381357,
          2.6205508658008676,
          2.666596320346321,
          1.9731585497835538,
          2.87189880952381,
          2.0447213203463184,
          1.9607037037037054,
          2.2602798927613916,
          1.8022045940170908,
          2.664623931623935,
          2.7693680555555535,
          3.843211004273502,
          2.359691648822268,
          2.3378279569892477,
          2.8969016129032346,
          2.9179779569892466,
          3.0324387096774212,
          2.7965865591397825,
          2.4695102150537642,
          3.421872043010763,
          2.4158677419354815,
          2.833098387096774,
          3.380779924852395,
          3.0279973233404727,
          2.5826591760299635,
          2.2932606837606855,
          2.841174679487175,
          3.8931565170940203,
          2.184293803418796,
          2.2124770299145315,
          1.1495208333333333,
          3.9511191239316124,
          2.560682692307694,
          2.535421474358973,
          3.246224893162397,
          2.6756308760683787,
          2.7514898504273595,
          3.718630876068379,
          2.205015491452993,
          2.09327403846154,
          3.110560897435903,
          2.998717414529904,
          3.580365918803428,
          1.5438803418803444,
          2.4725881410256374,
          2.743287393162398,
          4.020469017094014,
          2.9925088188134654,
          2.4791223290598343,
          2.280938034188039,
          3.2958376068376047,
          2.971809294871794,
          2.3600208333333317,
          2.691012286324787,
          2.790884081196582,
          3.463385149572645,
          2.2801485042735026,
          2.513428418803418,
          3.1291057692307667,
          2.6198226495726513,
          2.394115918803417,
          2.4272451923077,
          2.754917200854699,
          2.684898504273506,
          2.270163995726494,
          2.9311153846153855,
          2.741388888888891,
          3.223987179487173,
          2.51467841880342,
          3.4983958333333423,
          2.0892184829059812,
          3.6456250000000057,
          2.8265293803418885,
          3.4785165598290626,
          3.719174679487187,
          1.9821223290598264,
          1.8489481837606865,
          3.096133012820511,
          3.328623397435898,
          2.486050747863249,
          2.2119983974358943,
          3.454333333333335,
          3.38867628205128,
          3.0078429487179497,
          2.9206549145299117,
          2.8974033119658107,
          2.936750534188028,
          2.404071047008548,
          3.178434294871799,
          3.495729700854704,
          3.2523733974358913,
          3.4729476495726415,
          3.072905448717951,
          4.148281517094023,
          2.7576597222222157,
          2.7130438034188065,
          2.4216618589743577,
          2.0422489316239387,
          3.3206704059829035,
          2.6681549145299153,
          3.905174145299144,
          1.9597670940170977,
          3.651250534188034,
          3.502372329059823,
          3.9584081196581145,
          3.606978098290605,
          4.195724358974355,
          3.6735945512820556,
          2.7184887820512773,
          1.5602147435897409,
          1.9971730769230758,
          3.699707799145306,
          3.919133547008554,
          2.068089743589744,
          3.266981303418802,
          3.032094017094015,
          3.91571420940171,
          3.723721688034189,
          3.0907889957264953,
          3.480048611111107,
          3.2071212606837554,
          3.2581693376068386,
          2.9665518162393165,
          3.310243589743593,
          1.9757943376068388,
          4.1562174145299124,
          3.1550886752136784,
          3.193985576923079,
          3.189123397435897,
          4.193722756410257,
          4.346864850427351,
          3.184119658119654,
          3.192577991452994,
          3.070397970085468,
          3.526021901709402,
          3.9347280982906,
          2.8817104700854697,
          1.5650769230769204,
          3.405323183760676,
          3.7548985042735024,
          3.6218108974358967,
          3.714979166666664,
          3.8733514957264927,
          4.809320512820516,
          2.159533119658124,
          3.5414465811965874,
          3.0591800213675224,
          3.5965053418803454,
          3.001306089743583,
          4.738819978632484,
          3.9332601495726527,
          4.8307216880341874,
          3.33262873931624,
          2.771757478632479,
          3.388727029914532,
          2.3278675213675184,
          3.980360576923076,
          5.053556089743586,
          4.787118589743595,
          4.51183066239316,
          4.015801816239323,
          3.2860101495726552,
          3.6190459401709405,
          5.412596153846159,
          3.4761351495726496,
          3.9053563034187992,
          3.911684829059826,
          4.6236020299145375,
          4.682716346153849,
          4.472480235042725,
          4.631524572649578,
          4.357597756410258,
          4.733629807692307,
          4.8047825854701,
          4.114816773504283,
          5.4078306623931605,
          5.461580662393144,
          4.4499780982905985,
          4.640022435897436,
          4.386321581196585,
          4.501148504273508,
          5.999846955128201
         ],
         "yaxis": "y"
        },
        {
         "hovertemplate": "Country=United States<br>variable=AverageTemperature<br>years=%{x}<br>value=%{y}<extra></extra>",
         "legendgroup": "United States",
         "line": {
          "color": "#EF553B",
          "dash": "solid"
         },
         "mode": "lines",
         "name": "United States",
         "showlegend": true,
         "type": "scattergl",
         "x": [
          "1743",
          "1744",
          "1745",
          "1750",
          "1751",
          "1752",
          "1753",
          "1754",
          "1755",
          "1756",
          "1757",
          "1758",
          "1759",
          "1760",
          "1761",
          "1762",
          "1763",
          "1764",
          "1765",
          "1766",
          "1767",
          "1768",
          "1769",
          "1770",
          "1771",
          "1772",
          "1773",
          "1774",
          "1775",
          "1776",
          "1777",
          "1778",
          "1779",
          "1780",
          "1781",
          "1782",
          "1783",
          "1784",
          "1785",
          "1786",
          "1787",
          "1788",
          "1789",
          "1790",
          "1791",
          "1792",
          "1793",
          "1794",
          "1795",
          "1796",
          "1797",
          "1798",
          "1799",
          "1800",
          "1801",
          "1802",
          "1803",
          "1804",
          "1805",
          "1806",
          "1807",
          "1808",
          "1809",
          "1810",
          "1811",
          "1812",
          "1813",
          "1814",
          "1815",
          "1816",
          "1817",
          "1818",
          "1819",
          "1820",
          "1821",
          "1822",
          "1823",
          "1824",
          "1825",
          "1826",
          "1827",
          "1828",
          "1829",
          "1830",
          "1831",
          "1832",
          "1833",
          "1834",
          "1835",
          "1836",
          "1837",
          "1838",
          "1839",
          "1840",
          "1841",
          "1842",
          "1843",
          "1844",
          "1845",
          "1846",
          "1847",
          "1848",
          "1849",
          "1850",
          "1851",
          "1852",
          "1853",
          "1854",
          "1855",
          "1856",
          "1857",
          "1858",
          "1859",
          "1860",
          "1861",
          "1862",
          "1863",
          "1864",
          "1865",
          "1866",
          "1867",
          "1868",
          "1869",
          "1870",
          "1871",
          "1872",
          "1873",
          "1874",
          "1875",
          "1876",
          "1877",
          "1878",
          "1879",
          "1880",
          "1881",
          "1882",
          "1883",
          "1884",
          "1885",
          "1886",
          "1887",
          "1888",
          "1889",
          "1890",
          "1891",
          "1892",
          "1893",
          "1894",
          "1895",
          "1896",
          "1897",
          "1898",
          "1899",
          "1900",
          "1901",
          "1902",
          "1903",
          "1904",
          "1905",
          "1906",
          "1907",
          "1908",
          "1909",
          "1910",
          "1911",
          "1912",
          "1913",
          "1914",
          "1915",
          "1916",
          "1917",
          "1918",
          "1919",
          "1920",
          "1921",
          "1922",
          "1923",
          "1924",
          "1925",
          "1926",
          "1927",
          "1928",
          "1929",
          "1930",
          "1931",
          "1932",
          "1933",
          "1934",
          "1935",
          "1936",
          "1937",
          "1938",
          "1939",
          "1940",
          "1941",
          "1942",
          "1943",
          "1944",
          "1945",
          "1946",
          "1947",
          "1948",
          "1949",
          "1950",
          "1951",
          "1952",
          "1953",
          "1954",
          "1955",
          "1956",
          "1957",
          "1958",
          "1959",
          "1960",
          "1961",
          "1962",
          "1963",
          "1964",
          "1965",
          "1966",
          "1967",
          "1968",
          "1969",
          "1970",
          "1971",
          "1972",
          "1973",
          "1974",
          "1975",
          "1976",
          "1977",
          "1978",
          "1979",
          "1980",
          "1981",
          "1982",
          "1983",
          "1984",
          "1985",
          "1986",
          "1987",
          "1988",
          "1989",
          "1990",
          "1991",
          "1992",
          "1993",
          "1994",
          "1995",
          "1996",
          "1997",
          "1998",
          "1999",
          "2000",
          "2001",
          "2002",
          "2003",
          "2004",
          "2005",
          "2006",
          "2007",
          "2008",
          "2009",
          "2010",
          "2011",
          "2012",
          "2013"
         ],
         "xaxis": "x",
         "y": [
          5.818071428571429,
          13.858205357142833,
          4.039119897959185,
          12.456202226345097,
          13.140725765306115,
          5.84333163265306,
          11.894259353741477,
          12.099917233560092,
          9.320389795918361,
          12.290690476190486,
          11.407182745825606,
          11.784315602836875,
          12.565797043010718,
          9.874521739130467,
          12.423284786641938,
          11.908526530612269,
          9.697230612244896,
          11.92318979591837,
          11.426426716141002,
          12.38382993197277,
          11.03605009276438,
          11.89467405913977,
          12.378633704735378,
          12.626446908602096,
          13.479754032258063,
          12.08713860544218,
          13.31727872340427,
          11.557970961887467,
          13.717436721311447,
          12.035256315007434,
          11.64518080357143,
          8.392280748663106,
          6.9118807017543755,
          11.76763839285715,
          12.671237787356294,
          11.99333477946492,
          12.194584757834745,
          12.087839031339024,
          11.941314102564101,
          12.476534188034188,
          12.50160897435899,
          13.052357549857541,
          12.78271082621082,
          12.697544871794866,
          12.845433760683756,
          12.314413817663821,
          13.009174501424484,
          13.083192307692292,
          11.83058466453675,
          12.609144544822792,
          12.33977963737796,
          13.40471706989248,
          13.055977822580658,
          13.088315860215069,
          13.451166666666662,
          13.662799731182789,
          13.480054435483854,
          13.372824596774212,
          13.453450142450125,
          12.822341168091167,
          12.611076923076935,
          12.650020655270692,
          11.864886039886064,
          12.107916666666672,
          12.218112050739956,
          11.108036805555544,
          12.30684556254368,
          12.035942212825926,
          11.580721232876705,
          11.07553207810319,
          11.212849305555519,
          11.828829846582964,
          11.984949752300073,
          12.673899176954741,
          12.68103497942388,
          13.388072463768108,
          13.057205555555534,
          13.577784848484828,
          14.244742469879535,
          13.885543674698823,
          14.173502008032118,
          14.198756921633082,
          13.117373884452778,
          14.556567269076295,
          12.887069779116466,
          13.144618225419654,
          13.51369382022472,
          13.91820790216372,
          12.821116318704728,
          12.569342216582044,
          13.16667005076142,
          12.674538830715559,
          13.636901482127286,
          13.507560405643769,
          13.29115828924163,
          13.670326278659601,
          13.012027249134945,
          13.543265332197622,
          13.66259771573601,
          14.380848917549534,
          13.35501217391304,
          13.371220796460172,
          13.923420181700179,
          13.90474351491568,
          14.082512645914347,
          13.803690661478658,
          14.217449237755446,
          14.395557392996194,
          14.121171437865982,
          13.384832360570682,
          13.727888132295737,
          14.060373540855995,
          13.794338845654984,
          14.09188878080415,
          14.439049286640747,
          14.137162451361826,
          14.049573929961063,
          14.102471465629119,
          14.199669909208827,
          14.04441569390401,
          14.228277561608321,
          13.710958819714728,
          13.7912214656291,
          14.244595654993525,
          14.299492542153068,
          13.569827172503254,
          13.665263618677033,
          14.09052431906618,
          13.50998216601816,
          13.89117833981845,
          14.371991893644648,
          14.417698767833974,
          14.23218462037638,
          13.848144296392604,
          14.317482635508007,
          13.985640726329482,
          13.710951686121973,
          13.741951361867724,
          13.641565823605704,
          13.723369649805491,
          13.988359273670527,
          13.78957911802853,
          14.26050680933853,
          14.357906939040246,
          13.986428339818383,
          13.67499058747159,
          13.619447470817097,
          14.101180609597922,
          13.554607003891112,
          14.372444228274997,
          14.063780155642014,
          14.07448800259403,
          13.963541504539522,
          14.551810635538278,
          13.958789234760115,
          13.985039883268524,
          13.66938197146561,
          13.76723540856029,
          13.803116731517557,
          14.208321984435804,
          13.98973281452658,
          14.232618352788553,
          14.008047989623867,
          14.278463035019433,
          14.377980220492885,
          13.499566796368383,
          14.238256485084355,
          14.116653696498126,
          14.016687418936353,
          13.825477950713372,
          13.363259727626456,
          14.184486705577159,
          14.117766536965021,
          13.689717250324248,
          15.092964656290471,
          14.39228988326851,
          14.09814429312584,
          13.674340142671813,
          14.461095654993516,
          14.195459143968861,
          14.491392023346284,
          14.244608625162124,
          14.048435797665352,
          14.333756160830038,
          15.079008754863844,
          14.364856679636786,
          14.719734760051837,
          15.085844682230881,
          14.196479896238626,
          14.556038261997449,
          14.250674773022052,
          14.867937094682215,
          14.904253566796282,
          14.122846627756164,
          14.611384241245155,
          14.298304150453905,
          14.411132619974062,
          14.26250972762646,
          14.300208495460465,
          14.779316147860017,
          14.349095979247764,
          14.184682230868958,
          14.610281776913126,
          14.365813229572042,
          14.249907263294453,
          14.5363158236057,
          14.969543450064846,
          14.956245460441007,
          14.367416342412518,
          14.543274319066107,
          14.59127626459147,
          14.324833981841724,
          14.805379377431889,
          14.200708171206195,
          14.3268125810636,
          14.227025616082992,
          14.252579766537016,
          14.27256095979251,
          14.27957782101169,
          14.180500648508437,
          14.254413424124504,
          14.124351815823628,
          14.20887516212714,
          14.3381303501945,
          14.287147535667984,
          14.23593482490272,
          14.57299578469522,
          14.514664072632964,
          14.29477853437095,
          14.096762321660215,
          14.624126783398228,
          14.09345492866408,
          14.066120622568098,
          14.546669260700433,
          14.79194228274971,
          14.238374189364453,
          14.417903372243844,
          14.633367704280179,
          14.340596952010358,
          15.011118352788651,
          14.820202658884579,
          14.602156290531727,
          14.383784370946818,
          15.240297989623784,
          15.023850518806771,
          14.667823605706864,
          14.38389234760052,
          14.74015499351493,
          14.830864137483772,
          14.64989234760055,
          14.729580739299635,
          15.389329442282746,
          15.189340466926089,
          14.969827172503255,
          15.171289559014259,
          15.141980869001344,
          14.968208819714604,
          14.980913424124601,
          15.162541180285324,
          15.492708819714636,
          15.19268028534374,
          14.854569390402046,
          14.8034922178988,
          14.883878080414974,
          15.101007457846965,
          15.959263618677063,
          16.381720155709317
         ],
         "yaxis": "y"
        },
        {
         "hovertemplate": "Country=India<br>variable=AverageTemperature<br>years=%{x}<br>value=%{y}<extra></extra>",
         "legendgroup": "India",
         "line": {
          "color": "#00cc96",
          "dash": "solid"
         },
         "mode": "lines",
         "name": "India",
         "showlegend": true,
         "type": "scattergl",
         "x": [
          "1796",
          "1797",
          "1798",
          "1799",
          "1800",
          "1801",
          "1802",
          "1803",
          "1804",
          "1805",
          "1806",
          "1807",
          "1813",
          "1814",
          "1815",
          "1816",
          "1817",
          "1818",
          "1819",
          "1820",
          "1821",
          "1822",
          "1823",
          "1824",
          "1825",
          "1826",
          "1827",
          "1828",
          "1829",
          "1830",
          "1831",
          "1832",
          "1833",
          "1834",
          "1835",
          "1836",
          "1837",
          "1838",
          "1839",
          "1840",
          "1841",
          "1842",
          "1843",
          "1844",
          "1845",
          "1846",
          "1847",
          "1848",
          "1849",
          "1850",
          "1851",
          "1852",
          "1853",
          "1854",
          "1855",
          "1856",
          "1857",
          "1858",
          "1859",
          "1860",
          "1861",
          "1862",
          "1863",
          "1864",
          "1865",
          "1866",
          "1867",
          "1868",
          "1869",
          "1870",
          "1871",
          "1872",
          "1873",
          "1874",
          "1875",
          "1876",
          "1877",
          "1878",
          "1879",
          "1880",
          "1881",
          "1882",
          "1883",
          "1884",
          "1885",
          "1886",
          "1887",
          "1888",
          "1889",
          "1890",
          "1891",
          "1892",
          "1893",
          "1894",
          "1895",
          "1896",
          "1897",
          "1898",
          "1899",
          "1900",
          "1901",
          "1902",
          "1903",
          "1904",
          "1905",
          "1906",
          "1907",
          "1908",
          "1909",
          "1910",
          "1911",
          "1912",
          "1913",
          "1914",
          "1915",
          "1916",
          "1917",
          "1918",
          "1919",
          "1920",
          "1921",
          "1922",
          "1923",
          "1924",
          "1925",
          "1926",
          "1927",
          "1928",
          "1929",
          "1930",
          "1931",
          "1932",
          "1933",
          "1934",
          "1935",
          "1936",
          "1937",
          "1938",
          "1939",
          "1940",
          "1941",
          "1942",
          "1943",
          "1944",
          "1945",
          "1946",
          "1947",
          "1948",
          "1949",
          "1950",
          "1951",
          "1952",
          "1953",
          "1954",
          "1955",
          "1956",
          "1957",
          "1958",
          "1959",
          "1960",
          "1961",
          "1962",
          "1963",
          "1964",
          "1965",
          "1966",
          "1967",
          "1968",
          "1969",
          "1970",
          "1971",
          "1972",
          "1973",
          "1974",
          "1975",
          "1976",
          "1977",
          "1978",
          "1979",
          "1980",
          "1981",
          "1982",
          "1983",
          "1984",
          "1985",
          "1986",
          "1987",
          "1988",
          "1989",
          "1990",
          "1991",
          "1992",
          "1993",
          "1994",
          "1995",
          "1996",
          "1997",
          "1998",
          "1999",
          "2000",
          "2001",
          "2002",
          "2003",
          "2004",
          "2005",
          "2006",
          "2007",
          "2008",
          "2009",
          "2010",
          "2011",
          "2012",
          "2013"
         ],
         "xaxis": "x",
         "y": [
          25.444699265380898,
          26.594590082644583,
          25.05470826446277,
          25.723099862258923,
          25.69377157943063,
          24.951568044077145,
          26.177065426997128,
          25.940506887052443,
          26.296749540862997,
          25.811214646464638,
          25.708051652892472,
          25.23453471074385,
          25.054487603305805,
          24.450775857751086,
          24.59298668503207,
          24.09661618122989,
          24.095935208866074,
          24.42302664677034,
          24.17248259662618,
          24.43464406779663,
          25.02928516624052,
          25.102561381074125,
          25.063876527331228,
          25.83106181318686,
          25.618947652582158,
          25.63885691391939,
          25.70644940476192,
          25.400156135531105,
          25.22237454212451,
          25.42330471611729,
          25.037823946886483,
          25.258680956306726,
          25.05009633418583,
          25.020167519181665,
          24.14337212276202,
          24.748524115755835,
          24.828975959417793,
          24.964755905511737,
          25.02851285583095,
          24.979197294976398,
          24.84459103641461,
          25.051417864923824,
          24.803726555839848,
          24.592437340153413,
          24.845557331628388,
          25.210475383920564,
          24.73985682023476,
          24.72457225063944,
          24.71465174765551,
          25.02490949839917,
          24.993892422625397,
          24.870223358908863,
          25.17114919011079,
          25.267487836107367,
          25.35984492335043,
          24.55515756630271,
          24.535963739624243,
          25.58367635114028,
          25.606790135092684,
          25.36241934487025,
          25.27671634766238,
          22.66444140030442,
          24.872151620370346,
          24.69138425925922,
          25.88314821076365,
          25.77814075749009,
          25.74870858283436,
          25.53038846364135,
          25.628328950898695,
          25.026921142370032,
          25.112080349531073,
          25.120742966751944,
          25.192742540494404,
          25.019308976582774,
          25.28026534526852,
          25.24116304347811,
          25.398076513214054,
          25.61412872975279,
          25.110567348678586,
          25.32933141517476,
          25.18540473145774,
          25.089578218243737,
          24.853559889172956,
          24.77104411764703,
          24.916803708439943,
          25.142789641943807,
          24.907448209718787,
          25.185459505541424,
          25.467446504688873,
          25.173201832907086,
          25.13315601023026,
          25.46421014492761,
          24.370409420289857,
          25.203971653879172,
          25.295069906223294,
          25.906000852514822,
          25.728614236999114,
          25.536641304347736,
          25.637158354646196,
          25.83102109974439,
          25.587903026428002,
          25.782165174765495,
          25.314293265132196,
          25.258309676044348,
          25.00066283034953,
          25.398052003410157,
          25.208122762148395,
          25.28408397271951,
          25.168223785166173,
          25.047676683717008,
          25.385760869565225,
          25.482384697357205,
          25.190993393009407,
          25.315814364876438,
          25.767090366581417,
          25.322373401534584,
          24.57357075873826,
          25.275916453538063,
          25.316255115089675,
          25.47132331628303,
          25.75441943734007,
          25.38241815856772,
          25.424976982097256,
          25.547697783461228,
          25.14681074168809,
          25.342803708439916,
          25.291330562659894,
          25.661961423699957,
          25.499152813299236,
          25.352656649616215,
          25.757972932651366,
          25.605511082693948,
          25.03275468883187,
          25.271978047740834,
          25.29287361466334,
          25.304933503836295,
          25.18117220801358,
          25.41442455242974,
          25.501080136402372,
          25.398957587382682,
          26.175723358908673,
          25.70014897698215,
          25.413634484228496,
          25.35614748508096,
          25.174669011082575,
          25.573847826087,
          25.7603184143222,
          25.698586956521847,
          25.521556905370677,
          25.175591005967526,
          25.746537297527787,
          25.840387468030716,
          26.05563533674342,
          25.670212276214844,
          25.459717391304356,
          25.392692455242987,
          25.554703111679505,
          26.198643222506444,
          25.758959505541302,
          25.777128729752803,
          25.325858269394786,
          25.40124104859334,
          25.602901747655597,
          25.578348039215932,
          25.597790920716086,
          25.95010784313731,
          25.49635954816699,
          25.379547101449244,
          25.978501491901003,
          25.572560528559215,
          25.080024083546427,
          25.7659663256605,
          25.848929028132925,
          25.66602898550716,
          25.3893719096336,
          25.69447740835463,
          25.76554688832045,
          25.492502344416124,
          26.0756104006819,
          26.07368904518323,
          25.676905797101288,
          25.713459931798823,
          25.439405370844053,
          25.668738917305998,
          25.982617007672552,
          25.783603154305137,
          26.34215728900248,
          26.208039855072595,
          25.662949701619738,
          25.692166879795327,
          25.84656329923282,
          25.74881372549014,
          25.89919053708441,
          25.828545396419422,
          25.967071184995753,
          25.919418371696434,
          25.549447996589826,
          26.21908312020462,
          26.15803772378513,
          25.981147911338564,
          26.045342284739984,
          26.40690814151752,
          26.12711402387033,
          26.119607843137185,
          26.012253836317015,
          26.26153537936912,
          26.125913469735632,
          25.888367007672638,
          26.603118925831108,
          26.54987809036652,
          25.88049914748508,
          26.191225916453497,
          26.864186061381147
         ],
         "yaxis": "y"
        },
        {
         "hovertemplate": "Country=China<br>variable=AverageTemperature<br>years=%{x}<br>value=%{y}<extra></extra>",
         "legendgroup": "China",
         "line": {
          "color": "#ab63fa",
          "dash": "solid"
         },
         "mode": "lines",
         "name": "China",
         "showlegend": true,
         "type": "scattergl",
         "x": [
          "1816",
          "1817",
          "1818",
          "1819",
          "1820",
          "1821",
          "1822",
          "1823",
          "1824",
          "1825",
          "1826",
          "1827",
          "1828",
          "1829",
          "1830",
          "1831",
          "1832",
          "1833",
          "1834",
          "1835",
          "1836",
          "1837",
          "1838",
          "1839",
          "1840",
          "1841",
          "1842",
          "1843",
          "1844",
          "1845",
          "1846",
          "1847",
          "1848",
          "1849",
          "1850",
          "1851",
          "1852",
          "1853",
          "1854",
          "1855",
          "1856",
          "1857",
          "1858",
          "1859",
          "1860",
          "1861",
          "1862",
          "1863",
          "1864",
          "1865",
          "1866",
          "1867",
          "1868",
          "1869",
          "1870",
          "1871",
          "1872",
          "1873",
          "1874",
          "1875",
          "1876",
          "1877",
          "1878",
          "1879",
          "1880",
          "1881",
          "1882",
          "1883",
          "1884",
          "1885",
          "1886",
          "1887",
          "1888",
          "1889",
          "1890",
          "1891",
          "1892",
          "1893",
          "1894",
          "1895",
          "1896",
          "1897",
          "1898",
          "1899",
          "1900",
          "1901",
          "1902",
          "1903",
          "1904",
          "1905",
          "1906",
          "1907",
          "1908",
          "1909",
          "1910",
          "1911",
          "1912",
          "1913",
          "1914",
          "1915",
          "1916",
          "1917",
          "1918",
          "1919",
          "1920",
          "1921",
          "1922",
          "1923",
          "1924",
          "1925",
          "1926",
          "1927",
          "1928",
          "1929",
          "1930",
          "1931",
          "1932",
          "1933",
          "1934",
          "1935",
          "1936",
          "1937",
          "1938",
          "1939",
          "1940",
          "1941",
          "1942",
          "1943",
          "1944",
          "1945",
          "1946",
          "1947",
          "1948",
          "1949",
          "1950",
          "1951",
          "1952",
          "1953",
          "1954",
          "1955",
          "1956",
          "1957",
          "1958",
          "1959",
          "1960",
          "1961",
          "1962",
          "1963",
          "1964",
          "1965",
          "1966",
          "1967",
          "1968",
          "1969",
          "1970",
          "1971",
          "1972",
          "1973",
          "1974",
          "1975",
          "1976",
          "1977",
          "1978",
          "1979",
          "1980",
          "1981",
          "1982",
          "1983",
          "1984",
          "1985",
          "1986",
          "1987",
          "1988",
          "1989",
          "1990",
          "1991",
          "1992",
          "1993",
          "1994",
          "1995",
          "1996",
          "1997",
          "1998",
          "1999",
          "2000",
          "2001",
          "2002",
          "2003",
          "2004",
          "2005",
          "2006",
          "2007",
          "2008",
          "2009",
          "2010",
          "2011",
          "2012",
          "2013"
         ],
         "xaxis": "x",
         "y": [
          12.992385714285719,
          11.812654761904762,
          12.491821428571436,
          11.834654761904758,
          7.511483204134377,
          8.051776570048306,
          8.080177536231862,
          7.667227188081917,
          6.148061827956976,
          5.908786738351246,
          5.825000000000002,
          6.370016994633284,
          5.647533687943261,
          5.715743670886077,
          5.206243993994004,
          4.026999251497,
          4.040749603803489,
          6.609848785871973,
          6.95540452538631,
          6.109004415011031,
          6.34034895539244,
          5.924483103879845,
          6.009476520400307,
          4.925748175182482,
          10.830661170384733,
          11.64597850877193,
          12.284373026315803,
          12.443676096491153,
          12.210688157894719,
          12.181538157894737,
          12.732057456140302,
          12.477739912280704,
          12.144306140350855,
          12.32863706140352,
          12.030971886668109,
          11.883071820777507,
          11.982554385964923,
          12.285308771929829,
          12.661942324561407,
          12.626709804781717,
          12.202416831465646,
          12.29725088028167,
          12.444261184210525,
          12.53666557017541,
          11.791696491228086,
          11.956850219298246,
          11.541508936550462,
          12.409991447368412,
          11.927656798245607,
          12.419158657011192,
          12.463350877192946,
          12.575509014021804,
          12.675907236842095,
          12.805116110623297,
          12.478877192982472,
          12.608619956140396,
          12.558819298245629,
          12.524629824561337,
          12.693992763157967,
          12.575153728070145,
          12.568192543859638,
          12.395527192982478,
          12.494597368421095,
          12.708385964912242,
          12.220055701754305,
          12.404442543859627,
          12.517078070175456,
          12.159794078947352,
          11.716133552631565,
          11.927315570175425,
          12.17718333333335,
          12.307230263157896,
          12.398664912280676,
          12.244144078947324,
          12.831536622807006,
          12.627466666666711,
          12.062991008771974,
          11.98979495614038,
          12.840114692982407,
          12.074781798245668,
          12.393558991228144,
          12.445056140350893,
          12.968612938596403,
          12.83250789473674,
          12.583437938596477,
          12.521486842105228,
          13.069491008771967,
          12.554796052631646,
          12.49943596491226,
          12.212370833333377,
          12.322211184210486,
          12.519859429824567,
          12.370123245613987,
          12.437211842105288,
          12.076048245614047,
          12.251230482456146,
          12.180491228070212,
          12.262691885964877,
          13.133935087719323,
          12.414944078947359,
          12.305723245613985,
          12.063451096491216,
          12.25815921052633,
          12.821215131578887,
          12.85937456140357,
          12.621009429824605,
          12.755064035087717,
          12.691326315789516,
          12.707802631578911,
          12.698177850877196,
          12.866303289473741,
          12.868981359649135,
          12.960037719298281,
          12.728331359649117,
          12.770910745614046,
          12.484148684210489,
          12.982279605263168,
          12.708869736842106,
          12.540365789473677,
          13.061453289473635,
          12.241730921052637,
          12.80072719298243,
          13.155562500000034,
          13.16437675438592,
          13.113967324561417,
          13.305427412280629,
          13.227914912280703,
          13.26316249999997,
          12.849097149122832,
          12.882382894736917,
          13.602862938596514,
          12.538298464912241,
          13.37285526315786,
          13.292728070175434,
          12.996705043859594,
          12.991672587719295,
          12.861676315789458,
          13.236556140350912,
          12.576354605263086,
          12.978914912280754,
          12.270832456140358,
          12.471983991228054,
          13.021339254386007,
          13.362558771929876,
          13.121295175438608,
          13.544513596491226,
          12.979854605263052,
          13.183739254386019,
          12.869112280701739,
          12.969601754385982,
          13.187257236842092,
          12.78373311403507,
          13.025384868420941,
          12.310010526315779,
          12.660300877192984,
          12.87287938596492,
          12.785677412280641,
          13.262211842105247,
          12.718084649122758,
          13.385434210526322,
          12.498462061403504,
          13.06302850877198,
          13.331357236842202,
          13.252101973684187,
          12.792903070175457,
          13.00428662280702,
          13.302760745614023,
          13.222949561403507,
          12.499564254385943,
          12.68884649122801,
          12.966682236842097,
          13.266736403508817,
          13.177339254385949,
          13.400893859649159,
          13.809577412280651,
          13.203322807017594,
          13.07895263157894,
          12.976842324561408,
          13.740516666666718,
          13.381997587719258,
          13.026271491228174,
          13.628438596491263,
          14.248573464912281,
          13.808483552631563,
          13.419087280701786,
          13.63161337719299,
          13.959315789473703,
          13.647091666666668,
          13.881408991228067,
          13.442465789473648,
          14.009555921052584,
          14.267246929824577,
          13.68962214912282,
          13.733718201754362,
          13.430684210526337,
          13.316098464912226,
          13.20419144736842,
          14.962132565789531
         ],
         "yaxis": "y"
        },
        {
         "hovertemplate": "Country=Japan<br>variable=AverageTemperature<br>years=%{x}<br>value=%{y}<extra></extra>",
         "legendgroup": "Japan",
         "line": {
          "color": "#FFA15A",
          "dash": "solid"
         },
         "mode": "lines",
         "name": "Japan",
         "showlegend": true,
         "type": "scattergl",
         "x": [
          "1839",
          "1840",
          "1841",
          "1842",
          "1843",
          "1844",
          "1845",
          "1846",
          "1847",
          "1848",
          "1849",
          "1850",
          "1851",
          "1852",
          "1853",
          "1854",
          "1855",
          "1856",
          "1857",
          "1858",
          "1859",
          "1860",
          "1861",
          "1862",
          "1863",
          "1864",
          "1865",
          "1866",
          "1867",
          "1868",
          "1869",
          "1870",
          "1871",
          "1872",
          "1873",
          "1874",
          "1875",
          "1876",
          "1877",
          "1878",
          "1879",
          "1880",
          "1881",
          "1882",
          "1883",
          "1884",
          "1885",
          "1886",
          "1887",
          "1888",
          "1889",
          "1890",
          "1891",
          "1892",
          "1893",
          "1894",
          "1895",
          "1896",
          "1897",
          "1898",
          "1899",
          "1900",
          "1901",
          "1902",
          "1903",
          "1904",
          "1905",
          "1906",
          "1907",
          "1908",
          "1909",
          "1910",
          "1911",
          "1912",
          "1913",
          "1914",
          "1915",
          "1916",
          "1917",
          "1918",
          "1919",
          "1920",
          "1921",
          "1922",
          "1923",
          "1924",
          "1925",
          "1926",
          "1927",
          "1928",
          "1929",
          "1930",
          "1931",
          "1932",
          "1933",
          "1934",
          "1935",
          "1936",
          "1937",
          "1938",
          "1939",
          "1940",
          "1941",
          "1942",
          "1943",
          "1944",
          "1945",
          "1946",
          "1947",
          "1948",
          "1949",
          "1950",
          "1951",
          "1952",
          "1953",
          "1954",
          "1955",
          "1956",
          "1957",
          "1958",
          "1959",
          "1960",
          "1961",
          "1962",
          "1963",
          "1964",
          "1965",
          "1966",
          "1967",
          "1968",
          "1969",
          "1970",
          "1971",
          "1972",
          "1973",
          "1974",
          "1975",
          "1976",
          "1977",
          "1978",
          "1979",
          "1980",
          "1981",
          "1982",
          "1983",
          "1984",
          "1985",
          "1986",
          "1987",
          "1988",
          "1989",
          "1990",
          "1991",
          "1992",
          "1993",
          "1994",
          "1995",
          "1996",
          "1997",
          "1998",
          "1999",
          "2000",
          "2001",
          "2002",
          "2003",
          "2004",
          "2005",
          "2006",
          "2007",
          "2008",
          "2009",
          "2010",
          "2011",
          "2012",
          "2013"
         ],
         "xaxis": "x",
         "y": [
          4.127416666666668,
          4.709416666666667,
          12.365385779122528,
          12.414513605442172,
          12.57864115646258,
          12.446851315789493,
          12.829851428571473,
          13.228781904761966,
          13.111858095238105,
          13.01958428571426,
          13.012705238095185,
          12.57956285714286,
          12.577158571428615,
          12.56356714285722,
          12.730957619047636,
          13.127642380952429,
          13.426437351119603,
          12.906207556193158,
          12.843988571428579,
          13.086908571428651,
          13.020320476190484,
          12.563360952380938,
          12.650458095238083,
          12.548514761904737,
          13.246300476190445,
          12.788253809523798,
          13.211150476190335,
          12.516044761904688,
          13.298505238095162,
          13.123703809523727,
          12.978793809523708,
          14.525386258660543,
          13.032336190476295,
          12.894430476190433,
          12.41722190476185,
          13.188922857142849,
          13.016796190476175,
          13.24418142857147,
          13.54815000000005,
          13.11292952380956,
          13.603841428571336,
          13.240142857142805,
          12.993923809523938,
          13.087133333333394,
          12.818743333333327,
          12.058114285714208,
          12.458357142857167,
          13.184494761904698,
          13.066353809523813,
          13.00752428571424,
          12.559213333333345,
          14.305041904761948,
          13.271373809523853,
          12.951521428571379,
          12.656569523809525,
          13.872550476190526,
          13.078594285714294,
          13.106934285714196,
          12.73353619047622,
          13.487247619047656,
          13.209013333333289,
          12.98216999999997,
          13.083517142857144,
          13.038680476190443,
          13.203582380952419,
          13.13270476190488,
          13.0410766666667,
          12.614283809523787,
          12.833159047619079,
          12.647242857142937,
          12.87682095238093,
          12.828990476190375,
          13.502321904761832,
          13.105937142857117,
          12.597343809523794,
          13.939329999999961,
          13.622847619047674,
          13.982322857142798,
          12.762647142857123,
          12.940043809523774,
          13.393375238095254,
          13.545159523809552,
          12.951367142857132,
          13.648211904761897,
          13.458200000000005,
          13.10501095238103,
          13.032179999999988,
          12.68244380952375,
          13.081736190476173,
          13.37397523809531,
          13.25540095238097,
          13.807168095238069,
          13.083068095238017,
          13.376961904761908,
          13.482890952381087,
          12.81893285714288,
          13.224995714285699,
          12.874159523809507,
          13.709168095238125,
          13.431792380952395,
          13.534150952381022,
          13.458082380952426,
          13.516881904761837,
          13.605298571428634,
          13.30316190476192,
          13.111306666666561,
          12.602571428571428,
          13.74656190476197,
          12.801171904761954,
          14.066130000000047,
          13.429386190476118,
          13.986716666666615,
          13.562029523809572,
          13.512044285714314,
          13.501430476190452,
          13.73393047619047,
          14.208750952380896,
          13.453922380952475,
          13.441256190476242,
          13.980150000000032,
          14.44370380952385,
          14.14516047619047,
          14.51036285714279,
          13.826292857142896,
          13.539225714285706,
          13.914524761904755,
          13.085797142857123,
          13.62199285714283,
          13.723830952381018,
          13.500336666666705,
          13.446323333333424,
          13.278073333333396,
          13.419423809523813,
          13.948930000000066,
          13.764653809523937,
          13.182442857142828,
          13.68925571428569,
          13.132200476190452,
          13.806638571428534,
          13.98001666666656,
          14.48648285714289,
          13.232184761904747,
          13.01477904761903,
          13.693406666666693,
          13.634256666666648,
          13.019210952380975,
          13.786835714285766,
          13.165282380952371,
          14.173936190476295,
          13.36692285714291,
          14.211831904761965,
          14.930258571428604,
          14.13861285714286,
          13.882157142857181,
          13.388667619047583,
          14.674186190476222,
          13.764889523809522,
          13.485801904761942,
          14.185430476190492,
          14.813405714285654,
          14.531672857142796,
          14.327082857142784,
          14.025729523809533,
          14.32070619047624,
          13.902751904761967,
          14.916357142857148,
          13.94182142857143,
          14.144900000000092,
          14.60540809523812,
          14.229534285714273,
          14.362729523809524,
          14.607146190476238,
          14.137897142857142,
          13.941440952380876,
          14.640792142857206
         ],
         "yaxis": "y"
        },
        {
         "hovertemplate": "Country=Australia<br>variable=AverageTemperature<br>years=%{x}<br>value=%{y}<extra></extra>",
         "legendgroup": "Australia",
         "line": {
          "color": "#19d3f3",
          "dash": "solid"
         },
         "mode": "lines",
         "name": "Australia",
         "showlegend": true,
         "type": "scattergl",
         "x": [
          "1841",
          "1842",
          "1843",
          "1844",
          "1845",
          "1846",
          "1847",
          "1848",
          "1849",
          "1850",
          "1851",
          "1852",
          "1853",
          "1854",
          "1855",
          "1856",
          "1857",
          "1858",
          "1859",
          "1860",
          "1861",
          "1862",
          "1863",
          "1864",
          "1865",
          "1866",
          "1867",
          "1868",
          "1869",
          "1870",
          "1871",
          "1872",
          "1873",
          "1874",
          "1875",
          "1876",
          "1877",
          "1878",
          "1879",
          "1880",
          "1881",
          "1882",
          "1883",
          "1884",
          "1885",
          "1886",
          "1887",
          "1888",
          "1889",
          "1890",
          "1891",
          "1892",
          "1893",
          "1894",
          "1895",
          "1896",
          "1897",
          "1898",
          "1899",
          "1900",
          "1901",
          "1902",
          "1903",
          "1904",
          "1905",
          "1906",
          "1907",
          "1908",
          "1909",
          "1910",
          "1911",
          "1912",
          "1913",
          "1914",
          "1915",
          "1916",
          "1917",
          "1918",
          "1919",
          "1920",
          "1921",
          "1922",
          "1923",
          "1924",
          "1925",
          "1926",
          "1927",
          "1928",
          "1929",
          "1930",
          "1931",
          "1932",
          "1933",
          "1934",
          "1935",
          "1936",
          "1937",
          "1938",
          "1939",
          "1940",
          "1941",
          "1942",
          "1943",
          "1944",
          "1945",
          "1946",
          "1947",
          "1948",
          "1949",
          "1950",
          "1951",
          "1952",
          "1953",
          "1954",
          "1955",
          "1956",
          "1957",
          "1958",
          "1959",
          "1960",
          "1961",
          "1962",
          "1963",
          "1964",
          "1965",
          "1966",
          "1967",
          "1968",
          "1969",
          "1970",
          "1971",
          "1972",
          "1973",
          "1974",
          "1975",
          "1976",
          "1977",
          "1978",
          "1979",
          "1980",
          "1981",
          "1982",
          "1983",
          "1984",
          "1985",
          "1986",
          "1987",
          "1988",
          "1989",
          "1990",
          "1991",
          "1992",
          "1993",
          "1994",
          "1995",
          "1996",
          "1997",
          "1998",
          "1999",
          "2000",
          "2001",
          "2002",
          "2003",
          "2004",
          "2005",
          "2006",
          "2007",
          "2008",
          "2009",
          "2010",
          "2011",
          "2012",
          "2013"
         ],
         "xaxis": "x",
         "y": [
          15.08048484848485,
          15.059984848484849,
          15.38010606060606,
          14.705037878787877,
          15.15753787878788,
          15.55100757575758,
          15.099265151515155,
          14.72405303030303,
          14.534219696969707,
          15.058363636363632,
          15.085818181818185,
          14.923753623188404,
          14.857131944444445,
          15.110695035460985,
          14.671368421052636,
          15.293333333333331,
          15.378589552238807,
          16.640019230769234,
          16.16702564102564,
          16.278019230769235,
          16.459147435897428,
          16.56546794871796,
          16.297378205128204,
          15.956821192052969,
          15.808236111111118,
          16.113284722222218,
          16.886294871794878,
          16.631057692307706,
          16.602205128205128,
          16.345613333333333,
          16.562346153846153,
          16.4233076923077,
          16.47619871794871,
          16.333179487179482,
          16.443288461538458,
          16.70940476190477,
          16.769904761904765,
          17.133392857142848,
          16.33367261904762,
          16.597142857142853,
          16.614410714285707,
          16.745726190476187,
          16.406071428571444,
          16.580000000000013,
          16.57043452380952,
          16.596392857142863,
          16.438607142857137,
          16.682654761904764,
          17.020910714285712,
          16.636398809523808,
          16.399375000000003,
          16.51870238095238,
          16.601892857142865,
          16.5522380952381,
          16.643636904761898,
          16.571244047619043,
          16.78932738095238,
          16.9206130952381,
          16.61680952380952,
          16.731958333333335,
          16.710095238095224,
          16.748738095238103,
          16.62261904761904,
          16.466250000000006,
          16.30826785714284,
          16.751934523809535,
          16.601547619047626,
          16.529696428571416,
          16.28482142857144,
          16.811505952380944,
          16.574672619047625,
          16.88241666666667,
          16.68649404761905,
          17.398404761904754,
          17.11801785714285,
          16.67979166666666,
          16.3369642857143,
          16.60429166666666,
          17.13688095238095,
          16.666238095238096,
          17.101017857142857,
          16.840214285714275,
          16.84560119047619,
          16.411124999999995,
          16.398922619047617,
          17.02207142857143,
          16.484083333333327,
          16.995458333333335,
          16.387886904761917,
          16.915773809523813,
          16.62776785714284,
          16.63139880952379,
          16.655041666666662,
          16.77226785714286,
          16.51425595238096,
          16.72719642857142,
          16.807244047619047,
          17.147488095238096,
          16.880738095238094,
          17.03510714285713,
          16.601398809523825,
          17.117321428571433,
          16.385113095238097,
          16.674749999999996,
          16.716874999999998,
          16.554607142857158,
          16.86802976190477,
          16.45855952380952,
          16.372071428571438,
          16.905970238095243,
          16.691815476190477,
          16.721315476190483,
          16.622279761904764,
          16.757654761904753,
          16.812154761904758,
          16.53402976190477,
          16.81770833333334,
          17.004333333333342,
          17.03109523809524,
          16.505011904761894,
          17.025744047619042,
          16.861499999999996,
          16.84101785714285,
          16.653196428571437,
          16.79398214285715,
          16.537363095238096,
          16.87552976190476,
          16.88401190476192,
          16.971654761904762,
          16.705779761904772,
          16.799672619047634,
          16.94124404761905,
          17.528339285714285,
          16.93191666666666,
          17.17385714285714,
          16.910666666666668,
          17.058214285714286,
          17.00743452380953,
          17.264392857142873,
          17.56195833333333,
          17.410053571428573,
          17.16442857142858,
          17.340773809523803,
          16.792148809523816,
          17.045613095238103,
          16.93604166666667,
          17.18260714285715,
          17.766910714285725,
          17.146761904761895,
          17.351583333333345,
          17.43113095238096,
          16.91417857142857,
          17.261095238095237,
          17.104422619047618,
          17.017976190476183,
          16.995476190476182,
          17.32920833333333,
          17.66438095238095,
          17.430255952380957,
          17.45077380952381,
          17.556172619047626,
          17.598946428571438,
          17.477499999999992,
          17.482589285714297,
          17.754285714285704,
          17.489148809523815,
          17.878029761904756,
          17.282660714285708,
          17.91932142857143,
          17.72861904761905,
          17.472011904761914,
          17.431607142857146,
          17.867892857142856
         ],
         "yaxis": "y"
        }
       ],
       "layout": {
        "legend": {
         "title": {
          "text": "Country"
         },
         "tracegroupgap": 0
        },
        "template": {
         "data": {
          "bar": [
           {
            "error_x": {
             "color": "#2a3f5f"
            },
            "error_y": {
             "color": "#2a3f5f"
            },
            "marker": {
             "line": {
              "color": "#E5ECF6",
              "width": 0.5
             }
            },
            "type": "bar"
           }
          ],
          "barpolar": [
           {
            "marker": {
             "line": {
              "color": "#E5ECF6",
              "width": 0.5
             }
            },
            "type": "barpolar"
           }
          ],
          "carpet": [
           {
            "aaxis": {
             "endlinecolor": "#2a3f5f",
             "gridcolor": "white",
             "linecolor": "white",
             "minorgridcolor": "white",
             "startlinecolor": "#2a3f5f"
            },
            "baxis": {
             "endlinecolor": "#2a3f5f",
             "gridcolor": "white",
             "linecolor": "white",
             "minorgridcolor": "white",
             "startlinecolor": "#2a3f5f"
            },
            "type": "carpet"
           }
          ],
          "choropleth": [
           {
            "colorbar": {
             "outlinewidth": 0,
             "ticks": ""
            },
            "type": "choropleth"
           }
          ],
          "contour": [
           {
            "colorbar": {
             "outlinewidth": 0,
             "ticks": ""
            },
            "colorscale": [
             [
              0.0,
              "#0d0887"
             ],
             [
              0.1111111111111111,
              "#46039f"
             ],
             [
              0.2222222222222222,
              "#7201a8"
             ],
             [
              0.3333333333333333,
              "#9c179e"
             ],
             [
              0.4444444444444444,
              "#bd3786"
             ],
             [
              0.5555555555555556,
              "#d8576b"
             ],
             [
              0.6666666666666666,
              "#ed7953"
             ],
             [
              0.7777777777777778,
              "#fb9f3a"
             ],
             [
              0.8888888888888888,
              "#fdca26"
             ],
             [
              1.0,
              "#f0f921"
             ]
            ],
            "type": "contour"
           }
          ],
          "contourcarpet": [
           {
            "colorbar": {
             "outlinewidth": 0,
             "ticks": ""
            },
            "type": "contourcarpet"
           }
          ],
          "heatmap": [
           {
            "colorbar": {
             "outlinewidth": 0,
             "ticks": ""
            },
            "colorscale": [
             [
              0.0,
              "#0d0887"
             ],
             [
              0.1111111111111111,
              "#46039f"
             ],
             [
              0.2222222222222222,
              "#7201a8"
             ],
             [
              0.3333333333333333,
              "#9c179e"
             ],
             [
              0.4444444444444444,
              "#bd3786"
             ],
             [
              0.5555555555555556,
              "#d8576b"
             ],
             [
              0.6666666666666666,
              "#ed7953"
             ],
             [
              0.7777777777777778,
              "#fb9f3a"
             ],
             [
              0.8888888888888888,
              "#fdca26"
             ],
             [
              1.0,
              "#f0f921"
             ]
            ],
            "type": "heatmap"
           }
          ],
          "heatmapgl": [
           {
            "colorbar": {
             "outlinewidth": 0,
             "ticks": ""
            },
            "colorscale": [
             [
              0.0,
              "#0d0887"
             ],
             [
              0.1111111111111111,
              "#46039f"
             ],
             [
              0.2222222222222222,
              "#7201a8"
             ],
             [
              0.3333333333333333,
              "#9c179e"
             ],
             [
              0.4444444444444444,
              "#bd3786"
             ],
             [
              0.5555555555555556,
              "#d8576b"
             ],
             [
              0.6666666666666666,
              "#ed7953"
             ],
             [
              0.7777777777777778,
              "#fb9f3a"
             ],
             [
              0.8888888888888888,
              "#fdca26"
             ],
             [
              1.0,
              "#f0f921"
             ]
            ],
            "type": "heatmapgl"
           }
          ],
          "histogram": [
           {
            "marker": {
             "colorbar": {
              "outlinewidth": 0,
              "ticks": ""
             }
            },
            "type": "histogram"
           }
          ],
          "histogram2d": [
           {
            "colorbar": {
             "outlinewidth": 0,
             "ticks": ""
            },
            "colorscale": [
             [
              0.0,
              "#0d0887"
             ],
             [
              0.1111111111111111,
              "#46039f"
             ],
             [
              0.2222222222222222,
              "#7201a8"
             ],
             [
              0.3333333333333333,
              "#9c179e"
             ],
             [
              0.4444444444444444,
              "#bd3786"
             ],
             [
              0.5555555555555556,
              "#d8576b"
             ],
             [
              0.6666666666666666,
              "#ed7953"
             ],
             [
              0.7777777777777778,
              "#fb9f3a"
             ],
             [
              0.8888888888888888,
              "#fdca26"
             ],
             [
              1.0,
              "#f0f921"
             ]
            ],
            "type": "histogram2d"
           }
          ],
          "histogram2dcontour": [
           {
            "colorbar": {
             "outlinewidth": 0,
             "ticks": ""
            },
            "colorscale": [
             [
              0.0,
              "#0d0887"
             ],
             [
              0.1111111111111111,
              "#46039f"
             ],
             [
              0.2222222222222222,
              "#7201a8"
             ],
             [
              0.3333333333333333,
              "#9c179e"
             ],
             [
              0.4444444444444444,
              "#bd3786"
             ],
             [
              0.5555555555555556,
              "#d8576b"
             ],
             [
              0.6666666666666666,
              "#ed7953"
             ],
             [
              0.7777777777777778,
              "#fb9f3a"
             ],
             [
              0.8888888888888888,
              "#fdca26"
             ],
             [
              1.0,
              "#f0f921"
             ]
            ],
            "type": "histogram2dcontour"
           }
          ],
          "mesh3d": [
           {
            "colorbar": {
             "outlinewidth": 0,
             "ticks": ""
            },
            "type": "mesh3d"
           }
          ],
          "parcoords": [
           {
            "line": {
             "colorbar": {
              "outlinewidth": 0,
              "ticks": ""
             }
            },
            "type": "parcoords"
           }
          ],
          "pie": [
           {
            "automargin": true,
            "type": "pie"
           }
          ],
          "scatter": [
           {
            "marker": {
             "colorbar": {
              "outlinewidth": 0,
              "ticks": ""
             }
            },
            "type": "scatter"
           }
          ],
          "scatter3d": [
           {
            "line": {
             "colorbar": {
              "outlinewidth": 0,
              "ticks": ""
             }
            },
            "marker": {
             "colorbar": {
              "outlinewidth": 0,
              "ticks": ""
             }
            },
            "type": "scatter3d"
           }
          ],
          "scattercarpet": [
           {
            "marker": {
             "colorbar": {
              "outlinewidth": 0,
              "ticks": ""
             }
            },
            "type": "scattercarpet"
           }
          ],
          "scattergeo": [
           {
            "marker": {
             "colorbar": {
              "outlinewidth": 0,
              "ticks": ""
             }
            },
            "type": "scattergeo"
           }
          ],
          "scattergl": [
           {
            "marker": {
             "colorbar": {
              "outlinewidth": 0,
              "ticks": ""
             }
            },
            "type": "scattergl"
           }
          ],
          "scattermapbox": [
           {
            "marker": {
             "colorbar": {
              "outlinewidth": 0,
              "ticks": ""
             }
            },
            "type": "scattermapbox"
           }
          ],
          "scatterpolar": [
           {
            "marker": {
             "colorbar": {
              "outlinewidth": 0,
              "ticks": ""
             }
            },
            "type": "scatterpolar"
           }
          ],
          "scatterpolargl": [
           {
            "marker": {
             "colorbar": {
              "outlinewidth": 0,
              "ticks": ""
             }
            },
            "type": "scatterpolargl"
           }
          ],
          "scatterternary": [
           {
            "marker": {
             "colorbar": {
              "outlinewidth": 0,
              "ticks": ""
             }
            },
            "type": "scatterternary"
           }
          ],
          "surface": [
           {
            "colorbar": {
             "outlinewidth": 0,
             "ticks": ""
            },
            "colorscale": [
             [
              0.0,
              "#0d0887"
             ],
             [
              0.1111111111111111,
              "#46039f"
             ],
             [
              0.2222222222222222,
              "#7201a8"
             ],
             [
              0.3333333333333333,
              "#9c179e"
             ],
             [
              0.4444444444444444,
              "#bd3786"
             ],
             [
              0.5555555555555556,
              "#d8576b"
             ],
             [
              0.6666666666666666,
              "#ed7953"
             ],
             [
              0.7777777777777778,
              "#fb9f3a"
             ],
             [
              0.8888888888888888,
              "#fdca26"
             ],
             [
              1.0,
              "#f0f921"
             ]
            ],
            "type": "surface"
           }
          ],
          "table": [
           {
            "cells": {
             "fill": {
              "color": "#EBF0F8"
             },
             "line": {
              "color": "white"
             }
            },
            "header": {
             "fill": {
              "color": "#C8D4E3"
             },
             "line": {
              "color": "white"
             }
            },
            "type": "table"
           }
          ]
         },
         "layout": {
          "annotationdefaults": {
           "arrowcolor": "#2a3f5f",
           "arrowhead": 0,
           "arrowwidth": 1
          },
          "autotypenumbers": "strict",
          "coloraxis": {
           "colorbar": {
            "outlinewidth": 0,
            "ticks": ""
           }
          },
          "colorscale": {
           "diverging": [
            [
             0,
             "#8e0152"
            ],
            [
             0.1,
             "#c51b7d"
            ],
            [
             0.2,
             "#de77ae"
            ],
            [
             0.3,
             "#f1b6da"
            ],
            [
             0.4,
             "#fde0ef"
            ],
            [
             0.5,
             "#f7f7f7"
            ],
            [
             0.6,
             "#e6f5d0"
            ],
            [
             0.7,
             "#b8e186"
            ],
            [
             0.8,
             "#7fbc41"
            ],
            [
             0.9,
             "#4d9221"
            ],
            [
             1,
             "#276419"
            ]
           ],
           "sequential": [
            [
             0.0,
             "#0d0887"
            ],
            [
             0.1111111111111111,
             "#46039f"
            ],
            [
             0.2222222222222222,
             "#7201a8"
            ],
            [
             0.3333333333333333,
             "#9c179e"
            ],
            [
             0.4444444444444444,
             "#bd3786"
            ],
            [
             0.5555555555555556,
             "#d8576b"
            ],
            [
             0.6666666666666666,
             "#ed7953"
            ],
            [
             0.7777777777777778,
             "#fb9f3a"
            ],
            [
             0.8888888888888888,
             "#fdca26"
            ],
            [
             1.0,
             "#f0f921"
            ]
           ],
           "sequentialminus": [
            [
             0.0,
             "#0d0887"
            ],
            [
             0.1111111111111111,
             "#46039f"
            ],
            [
             0.2222222222222222,
             "#7201a8"
            ],
            [
             0.3333333333333333,
             "#9c179e"
            ],
            [
             0.4444444444444444,
             "#bd3786"
            ],
            [
             0.5555555555555556,
             "#d8576b"
            ],
            [
             0.6666666666666666,
             "#ed7953"
            ],
            [
             0.7777777777777778,
             "#fb9f3a"
            ],
            [
             0.8888888888888888,
             "#fdca26"
            ],
            [
             1.0,
             "#f0f921"
            ]
           ]
          },
          "colorway": [
           "#636efa",
           "#EF553B",
           "#00cc96",
           "#ab63fa",
           "#FFA15A",
           "#19d3f3",
           "#FF6692",
           "#B6E880",
           "#FF97FF",
           "#FECB52"
          ],
          "font": {
           "color": "#2a3f5f"
          },
          "geo": {
           "bgcolor": "white",
           "lakecolor": "white",
           "landcolor": "#E5ECF6",
           "showlakes": true,
           "showland": true,
           "subunitcolor": "white"
          },
          "hoverlabel": {
           "align": "left"
          },
          "hovermode": "closest",
          "mapbox": {
           "style": "light"
          },
          "paper_bgcolor": "white",
          "plot_bgcolor": "#E5ECF6",
          "polar": {
           "angularaxis": {
            "gridcolor": "white",
            "linecolor": "white",
            "ticks": ""
           },
           "bgcolor": "#E5ECF6",
           "radialaxis": {
            "gridcolor": "white",
            "linecolor": "white",
            "ticks": ""
           }
          },
          "scene": {
           "xaxis": {
            "backgroundcolor": "#E5ECF6",
            "gridcolor": "white",
            "gridwidth": 2,
            "linecolor": "white",
            "showbackground": true,
            "ticks": "",
            "zerolinecolor": "white"
           },
           "yaxis": {
            "backgroundcolor": "#E5ECF6",
            "gridcolor": "white",
            "gridwidth": 2,
            "linecolor": "white",
            "showbackground": true,
            "ticks": "",
            "zerolinecolor": "white"
           },
           "zaxis": {
            "backgroundcolor": "#E5ECF6",
            "gridcolor": "white",
            "gridwidth": 2,
            "linecolor": "white",
            "showbackground": true,
            "ticks": "",
            "zerolinecolor": "white"
           }
          },
          "shapedefaults": {
           "line": {
            "color": "#2a3f5f"
           }
          },
          "ternary": {
           "aaxis": {
            "gridcolor": "white",
            "linecolor": "white",
            "ticks": ""
           },
           "baxis": {
            "gridcolor": "white",
            "linecolor": "white",
            "ticks": ""
           },
           "bgcolor": "#E5ECF6",
           "caxis": {
            "gridcolor": "white",
            "linecolor": "white",
            "ticks": ""
           }
          },
          "title": {
           "x": 0.05
          },
          "xaxis": {
           "automargin": true,
           "gridcolor": "white",
           "linecolor": "white",
           "ticks": "",
           "title": {
            "standoff": 15
           },
           "zerolinecolor": "white",
           "zerolinewidth": 2
          },
          "yaxis": {
           "automargin": true,
           "gridcolor": "white",
           "linecolor": "white",
           "ticks": "",
           "title": {
            "standoff": 15
           },
           "zerolinecolor": "white",
           "zerolinewidth": 2
          }
         }
        },
        "title": {
         "text": "Average Land Temperature in World"
        },
        "xaxis": {
         "anchor": "y",
         "domain": [
          0.0,
          1.0
         ],
         "title": {
          "text": "years"
         }
        },
        "yaxis": {
         "anchor": "x",
         "domain": [
          0.0,
          1.0
         ],
         "title": {
          "text": "value"
         }
        }
       }
      },
      "text/html": [
       "<div>                            <div id=\"f315fb23-f19b-4fcb-8dc3-5ef90f552a6a\" class=\"plotly-graph-div\" style=\"height:525px; width:100%;\"></div>            <script type=\"text/javascript\">                require([\"plotly\"], function(Plotly) {                    window.PLOTLYENV=window.PLOTLYENV || {};                                    if (document.getElementById(\"f315fb23-f19b-4fcb-8dc3-5ef90f552a6a\")) {                    Plotly.newPlot(                        \"f315fb23-f19b-4fcb-8dc3-5ef90f552a6a\",                        [{\"hovertemplate\": \"Country=Russia<br>variable=AverageTemperature<br>years=%{x}<br>value=%{y}<extra></extra>\", \"legendgroup\": \"Russia\", \"line\": {\"color\": \"#636efa\", \"dash\": \"solid\"}, \"mode\": \"lines\", \"name\": \"Russia\", \"showlegend\": true, \"type\": \"scattergl\", \"x\": [\"1743\", \"1744\", \"1745\", \"1750\", \"1751\", \"1752\", \"1753\", \"1754\", \"1755\", \"1756\", \"1757\", \"1758\", \"1759\", \"1760\", \"1761\", \"1762\", \"1763\", \"1764\", \"1765\", \"1766\", \"1767\", \"1768\", \"1769\", \"1770\", \"1771\", \"1772\", \"1773\", \"1774\", \"1775\", \"1776\", \"1777\", \"1778\", \"1779\", \"1780\", \"1781\", \"1782\", \"1783\", \"1784\", \"1785\", \"1786\", \"1787\", \"1788\", \"1789\", \"1790\", \"1791\", \"1792\", \"1793\", \"1794\", \"1795\", \"1796\", \"1797\", \"1798\", \"1799\", \"1800\", \"1801\", \"1802\", \"1803\", \"1804\", \"1805\", \"1806\", \"1807\", \"1808\", \"1809\", \"1810\", \"1811\", \"1812\", \"1813\", \"1814\", \"1815\", \"1816\", \"1817\", \"1818\", \"1819\", \"1820\", \"1821\", \"1822\", \"1823\", \"1824\", \"1825\", \"1826\", \"1827\", \"1828\", \"1829\", \"1830\", \"1831\", \"1832\", \"1833\", \"1834\", \"1835\", \"1836\", \"1837\", \"1838\", \"1839\", \"1840\", \"1841\", \"1842\", \"1843\", \"1844\", \"1845\", \"1846\", \"1847\", \"1848\", \"1849\", \"1850\", \"1851\", \"1852\", \"1853\", \"1854\", \"1855\", \"1856\", \"1857\", \"1858\", \"1859\", \"1860\", \"1861\", \"1862\", \"1863\", \"1864\", \"1865\", \"1866\", \"1867\", \"1868\", \"1869\", \"1870\", \"1871\", \"1872\", \"1873\", \"1874\", \"1875\", \"1876\", \"1877\", \"1878\", \"1879\", \"1880\", \"1881\", \"1882\", \"1883\", \"1884\", \"1885\", \"1886\", \"1887\", \"1888\", \"1889\", \"1890\", \"1891\", \"1892\", \"1893\", \"1894\", \"1895\", \"1896\", \"1897\", \"1898\", \"1899\", \"1900\", \"1901\", \"1902\", \"1903\", \"1904\", \"1905\", \"1906\", \"1907\", \"1908\", \"1909\", \"1910\", \"1911\", \"1912\", \"1913\", \"1914\", \"1915\", \"1916\", \"1917\", \"1918\", \"1919\", \"1920\", \"1921\", \"1922\", \"1923\", \"1924\", \"1925\", \"1926\", \"1927\", \"1928\", \"1929\", \"1930\", \"1931\", \"1932\", \"1933\", \"1934\", \"1935\", \"1936\", \"1937\", \"1938\", \"1939\", \"1940\", \"1941\", \"1942\", \"1943\", \"1944\", \"1945\", \"1946\", \"1947\", \"1948\", \"1949\", \"1950\", \"1951\", \"1952\", \"1953\", \"1954\", \"1955\", \"1956\", \"1957\", \"1958\", \"1959\", \"1960\", \"1961\", \"1962\", \"1963\", \"1964\", \"1965\", \"1966\", \"1967\", \"1968\", \"1969\", \"1970\", \"1971\", \"1972\", \"1973\", \"1974\", \"1975\", \"1976\", \"1977\", \"1978\", \"1979\", \"1980\", \"1981\", \"1982\", \"1983\", \"1984\", \"1985\", \"1986\", \"1987\", \"1988\", \"1989\", \"1990\", \"1991\", \"1992\", \"1993\", \"1994\", \"1995\", \"1996\", \"1997\", \"1998\", \"1999\", \"2000\", \"2001\", \"2002\", \"2003\", \"2004\", \"2005\", \"2006\", \"2007\", \"2008\", \"2009\", \"2010\", \"2011\", \"2012\", \"2013\"], \"xaxis\": \"x\", \"y\": [-2.8772947368421042, 6.978618421052635, -6.259557894736842, 4.992516414141413, 5.290916666666664, -2.500448028673835, 4.087683333333342, 4.33164736842105, 4.2009271929824505, 4.717751754385965, 4.822477192982452, 2.4380771929824556, 3.6265982456140327, 2.612407017543857, 4.24420289855072, 4.229541666666663, 3.655767822736035, 5.74782121212121, 4.38407518115942, 4.351226449275359, 4.35564857651246, 2.9345274822694964, 4.072001773049643, 4.133761524822698, 3.665828900709216, 4.228236702127663, 4.8365797872340375, 4.789885638297869, 5.408923758865251, 4.329783333333331, 4.259492622950828, 4.558423139158579, 4.7775845181674566, 4.708738095238099, 4.191172268907564, 3.8097359943977582, 4.194899560117305, 4.257841977309574, 3.74137903225807, 4.014216386554632, 4.515656752411567, 4.0552079831932755, 4.745729691876763, 4.289021774193554, 4.927194677871152, 4.192346638655466, 4.597323577235775, 5.191555377207069, 4.451524857375716, 4.4978715220949255, 5.221990291262135, 4.890290453074436, 4.137424437299037, 4.329387019230777, 5.115852640545148, 4.856800840336144, 3.971554530201337, 4.468235983263597, 4.281110665597432, 4.61368990384616, 4.4546036977491905, 3.5359953161592403, 2.42963768115942, 2.5306297101449284, 3.2984065217391203, 2.6568730691739466, 3.4512840755735485, 3.043244325767689, 2.963114864864869, 3.0794337349397574, 2.782703999999999, 4.019403999999999, 3.038991999999996, 2.848775999999999, 3.011351111111117, 3.4848433333333357, 2.830568888888891, 3.771497222222221, 3.07117, 3.581531666666673, 3.7619583333333333, 2.1484472222222215, 2.161145742358077, 3.17034307359307, 2.251998917748917, 1.6723916576381357, 2.6205508658008676, 2.666596320346321, 1.9731585497835538, 2.87189880952381, 2.0447213203463184, 1.9607037037037054, 2.2602798927613916, 1.8022045940170908, 2.664623931623935, 2.7693680555555535, 3.843211004273502, 2.359691648822268, 2.3378279569892477, 2.8969016129032346, 2.9179779569892466, 3.0324387096774212, 2.7965865591397825, 2.4695102150537642, 3.421872043010763, 2.4158677419354815, 2.833098387096774, 3.380779924852395, 3.0279973233404727, 2.5826591760299635, 2.2932606837606855, 2.841174679487175, 3.8931565170940203, 2.184293803418796, 2.2124770299145315, 1.1495208333333333, 3.9511191239316124, 2.560682692307694, 2.535421474358973, 3.246224893162397, 2.6756308760683787, 2.7514898504273595, 3.718630876068379, 2.205015491452993, 2.09327403846154, 3.110560897435903, 2.998717414529904, 3.580365918803428, 1.5438803418803444, 2.4725881410256374, 2.743287393162398, 4.020469017094014, 2.9925088188134654, 2.4791223290598343, 2.280938034188039, 3.2958376068376047, 2.971809294871794, 2.3600208333333317, 2.691012286324787, 2.790884081196582, 3.463385149572645, 2.2801485042735026, 2.513428418803418, 3.1291057692307667, 2.6198226495726513, 2.394115918803417, 2.4272451923077, 2.754917200854699, 2.684898504273506, 2.270163995726494, 2.9311153846153855, 2.741388888888891, 3.223987179487173, 2.51467841880342, 3.4983958333333423, 2.0892184829059812, 3.6456250000000057, 2.8265293803418885, 3.4785165598290626, 3.719174679487187, 1.9821223290598264, 1.8489481837606865, 3.096133012820511, 3.328623397435898, 2.486050747863249, 2.2119983974358943, 3.454333333333335, 3.38867628205128, 3.0078429487179497, 2.9206549145299117, 2.8974033119658107, 2.936750534188028, 2.404071047008548, 3.178434294871799, 3.495729700854704, 3.2523733974358913, 3.4729476495726415, 3.072905448717951, 4.148281517094023, 2.7576597222222157, 2.7130438034188065, 2.4216618589743577, 2.0422489316239387, 3.3206704059829035, 2.6681549145299153, 3.905174145299144, 1.9597670940170977, 3.651250534188034, 3.502372329059823, 3.9584081196581145, 3.606978098290605, 4.195724358974355, 3.6735945512820556, 2.7184887820512773, 1.5602147435897409, 1.9971730769230758, 3.699707799145306, 3.919133547008554, 2.068089743589744, 3.266981303418802, 3.032094017094015, 3.91571420940171, 3.723721688034189, 3.0907889957264953, 3.480048611111107, 3.2071212606837554, 3.2581693376068386, 2.9665518162393165, 3.310243589743593, 1.9757943376068388, 4.1562174145299124, 3.1550886752136784, 3.193985576923079, 3.189123397435897, 4.193722756410257, 4.346864850427351, 3.184119658119654, 3.192577991452994, 3.070397970085468, 3.526021901709402, 3.9347280982906, 2.8817104700854697, 1.5650769230769204, 3.405323183760676, 3.7548985042735024, 3.6218108974358967, 3.714979166666664, 3.8733514957264927, 4.809320512820516, 2.159533119658124, 3.5414465811965874, 3.0591800213675224, 3.5965053418803454, 3.001306089743583, 4.738819978632484, 3.9332601495726527, 4.8307216880341874, 3.33262873931624, 2.771757478632479, 3.388727029914532, 2.3278675213675184, 3.980360576923076, 5.053556089743586, 4.787118589743595, 4.51183066239316, 4.015801816239323, 3.2860101495726552, 3.6190459401709405, 5.412596153846159, 3.4761351495726496, 3.9053563034187992, 3.911684829059826, 4.6236020299145375, 4.682716346153849, 4.472480235042725, 4.631524572649578, 4.357597756410258, 4.733629807692307, 4.8047825854701, 4.114816773504283, 5.4078306623931605, 5.461580662393144, 4.4499780982905985, 4.640022435897436, 4.386321581196585, 4.501148504273508, 5.999846955128201], \"yaxis\": \"y\"}, {\"hovertemplate\": \"Country=United States<br>variable=AverageTemperature<br>years=%{x}<br>value=%{y}<extra></extra>\", \"legendgroup\": \"United States\", \"line\": {\"color\": \"#EF553B\", \"dash\": \"solid\"}, \"mode\": \"lines\", \"name\": \"United States\", \"showlegend\": true, \"type\": \"scattergl\", \"x\": [\"1743\", \"1744\", \"1745\", \"1750\", \"1751\", \"1752\", \"1753\", \"1754\", \"1755\", \"1756\", \"1757\", \"1758\", \"1759\", \"1760\", \"1761\", \"1762\", \"1763\", \"1764\", \"1765\", \"1766\", \"1767\", \"1768\", \"1769\", \"1770\", \"1771\", \"1772\", \"1773\", \"1774\", \"1775\", \"1776\", \"1777\", \"1778\", \"1779\", \"1780\", \"1781\", \"1782\", \"1783\", \"1784\", \"1785\", \"1786\", \"1787\", \"1788\", \"1789\", \"1790\", \"1791\", \"1792\", \"1793\", \"1794\", \"1795\", \"1796\", \"1797\", \"1798\", \"1799\", \"1800\", \"1801\", \"1802\", \"1803\", \"1804\", \"1805\", \"1806\", \"1807\", \"1808\", \"1809\", \"1810\", \"1811\", \"1812\", \"1813\", \"1814\", \"1815\", \"1816\", \"1817\", \"1818\", \"1819\", \"1820\", \"1821\", \"1822\", \"1823\", \"1824\", \"1825\", \"1826\", \"1827\", \"1828\", \"1829\", \"1830\", \"1831\", \"1832\", \"1833\", \"1834\", \"1835\", \"1836\", \"1837\", \"1838\", \"1839\", \"1840\", \"1841\", \"1842\", \"1843\", \"1844\", \"1845\", \"1846\", \"1847\", \"1848\", \"1849\", \"1850\", \"1851\", \"1852\", \"1853\", \"1854\", \"1855\", \"1856\", \"1857\", \"1858\", \"1859\", \"1860\", \"1861\", \"1862\", \"1863\", \"1864\", \"1865\", \"1866\", \"1867\", \"1868\", \"1869\", \"1870\", \"1871\", \"1872\", \"1873\", \"1874\", \"1875\", \"1876\", \"1877\", \"1878\", \"1879\", \"1880\", \"1881\", \"1882\", \"1883\", \"1884\", \"1885\", \"1886\", \"1887\", \"1888\", \"1889\", \"1890\", \"1891\", \"1892\", \"1893\", \"1894\", \"1895\", \"1896\", \"1897\", \"1898\", \"1899\", \"1900\", \"1901\", \"1902\", \"1903\", \"1904\", \"1905\", \"1906\", \"1907\", \"1908\", \"1909\", \"1910\", \"1911\", \"1912\", \"1913\", \"1914\", \"1915\", \"1916\", \"1917\", \"1918\", \"1919\", \"1920\", \"1921\", \"1922\", \"1923\", \"1924\", \"1925\", \"1926\", \"1927\", \"1928\", \"1929\", \"1930\", \"1931\", \"1932\", \"1933\", \"1934\", \"1935\", \"1936\", \"1937\", \"1938\", \"1939\", \"1940\", \"1941\", \"1942\", \"1943\", \"1944\", \"1945\", \"1946\", \"1947\", \"1948\", \"1949\", \"1950\", \"1951\", \"1952\", \"1953\", \"1954\", \"1955\", \"1956\", \"1957\", \"1958\", \"1959\", \"1960\", \"1961\", \"1962\", \"1963\", \"1964\", \"1965\", \"1966\", \"1967\", \"1968\", \"1969\", \"1970\", \"1971\", \"1972\", \"1973\", \"1974\", \"1975\", \"1976\", \"1977\", \"1978\", \"1979\", \"1980\", \"1981\", \"1982\", \"1983\", \"1984\", \"1985\", \"1986\", \"1987\", \"1988\", \"1989\", \"1990\", \"1991\", \"1992\", \"1993\", \"1994\", \"1995\", \"1996\", \"1997\", \"1998\", \"1999\", \"2000\", \"2001\", \"2002\", \"2003\", \"2004\", \"2005\", \"2006\", \"2007\", \"2008\", \"2009\", \"2010\", \"2011\", \"2012\", \"2013\"], \"xaxis\": \"x\", \"y\": [5.818071428571429, 13.858205357142833, 4.039119897959185, 12.456202226345097, 13.140725765306115, 5.84333163265306, 11.894259353741477, 12.099917233560092, 9.320389795918361, 12.290690476190486, 11.407182745825606, 11.784315602836875, 12.565797043010718, 9.874521739130467, 12.423284786641938, 11.908526530612269, 9.697230612244896, 11.92318979591837, 11.426426716141002, 12.38382993197277, 11.03605009276438, 11.89467405913977, 12.378633704735378, 12.626446908602096, 13.479754032258063, 12.08713860544218, 13.31727872340427, 11.557970961887467, 13.717436721311447, 12.035256315007434, 11.64518080357143, 8.392280748663106, 6.9118807017543755, 11.76763839285715, 12.671237787356294, 11.99333477946492, 12.194584757834745, 12.087839031339024, 11.941314102564101, 12.476534188034188, 12.50160897435899, 13.052357549857541, 12.78271082621082, 12.697544871794866, 12.845433760683756, 12.314413817663821, 13.009174501424484, 13.083192307692292, 11.83058466453675, 12.609144544822792, 12.33977963737796, 13.40471706989248, 13.055977822580658, 13.088315860215069, 13.451166666666662, 13.662799731182789, 13.480054435483854, 13.372824596774212, 13.453450142450125, 12.822341168091167, 12.611076923076935, 12.650020655270692, 11.864886039886064, 12.107916666666672, 12.218112050739956, 11.108036805555544, 12.30684556254368, 12.035942212825926, 11.580721232876705, 11.07553207810319, 11.212849305555519, 11.828829846582964, 11.984949752300073, 12.673899176954741, 12.68103497942388, 13.388072463768108, 13.057205555555534, 13.577784848484828, 14.244742469879535, 13.885543674698823, 14.173502008032118, 14.198756921633082, 13.117373884452778, 14.556567269076295, 12.887069779116466, 13.144618225419654, 13.51369382022472, 13.91820790216372, 12.821116318704728, 12.569342216582044, 13.16667005076142, 12.674538830715559, 13.636901482127286, 13.507560405643769, 13.29115828924163, 13.670326278659601, 13.012027249134945, 13.543265332197622, 13.66259771573601, 14.380848917549534, 13.35501217391304, 13.371220796460172, 13.923420181700179, 13.90474351491568, 14.082512645914347, 13.803690661478658, 14.217449237755446, 14.395557392996194, 14.121171437865982, 13.384832360570682, 13.727888132295737, 14.060373540855995, 13.794338845654984, 14.09188878080415, 14.439049286640747, 14.137162451361826, 14.049573929961063, 14.102471465629119, 14.199669909208827, 14.04441569390401, 14.228277561608321, 13.710958819714728, 13.7912214656291, 14.244595654993525, 14.299492542153068, 13.569827172503254, 13.665263618677033, 14.09052431906618, 13.50998216601816, 13.89117833981845, 14.371991893644648, 14.417698767833974, 14.23218462037638, 13.848144296392604, 14.317482635508007, 13.985640726329482, 13.710951686121973, 13.741951361867724, 13.641565823605704, 13.723369649805491, 13.988359273670527, 13.78957911802853, 14.26050680933853, 14.357906939040246, 13.986428339818383, 13.67499058747159, 13.619447470817097, 14.101180609597922, 13.554607003891112, 14.372444228274997, 14.063780155642014, 14.07448800259403, 13.963541504539522, 14.551810635538278, 13.958789234760115, 13.985039883268524, 13.66938197146561, 13.76723540856029, 13.803116731517557, 14.208321984435804, 13.98973281452658, 14.232618352788553, 14.008047989623867, 14.278463035019433, 14.377980220492885, 13.499566796368383, 14.238256485084355, 14.116653696498126, 14.016687418936353, 13.825477950713372, 13.363259727626456, 14.184486705577159, 14.117766536965021, 13.689717250324248, 15.092964656290471, 14.39228988326851, 14.09814429312584, 13.674340142671813, 14.461095654993516, 14.195459143968861, 14.491392023346284, 14.244608625162124, 14.048435797665352, 14.333756160830038, 15.079008754863844, 14.364856679636786, 14.719734760051837, 15.085844682230881, 14.196479896238626, 14.556038261997449, 14.250674773022052, 14.867937094682215, 14.904253566796282, 14.122846627756164, 14.611384241245155, 14.298304150453905, 14.411132619974062, 14.26250972762646, 14.300208495460465, 14.779316147860017, 14.349095979247764, 14.184682230868958, 14.610281776913126, 14.365813229572042, 14.249907263294453, 14.5363158236057, 14.969543450064846, 14.956245460441007, 14.367416342412518, 14.543274319066107, 14.59127626459147, 14.324833981841724, 14.805379377431889, 14.200708171206195, 14.3268125810636, 14.227025616082992, 14.252579766537016, 14.27256095979251, 14.27957782101169, 14.180500648508437, 14.254413424124504, 14.124351815823628, 14.20887516212714, 14.3381303501945, 14.287147535667984, 14.23593482490272, 14.57299578469522, 14.514664072632964, 14.29477853437095, 14.096762321660215, 14.624126783398228, 14.09345492866408, 14.066120622568098, 14.546669260700433, 14.79194228274971, 14.238374189364453, 14.417903372243844, 14.633367704280179, 14.340596952010358, 15.011118352788651, 14.820202658884579, 14.602156290531727, 14.383784370946818, 15.240297989623784, 15.023850518806771, 14.667823605706864, 14.38389234760052, 14.74015499351493, 14.830864137483772, 14.64989234760055, 14.729580739299635, 15.389329442282746, 15.189340466926089, 14.969827172503255, 15.171289559014259, 15.141980869001344, 14.968208819714604, 14.980913424124601, 15.162541180285324, 15.492708819714636, 15.19268028534374, 14.854569390402046, 14.8034922178988, 14.883878080414974, 15.101007457846965, 15.959263618677063, 16.381720155709317], \"yaxis\": \"y\"}, {\"hovertemplate\": \"Country=India<br>variable=AverageTemperature<br>years=%{x}<br>value=%{y}<extra></extra>\", \"legendgroup\": \"India\", \"line\": {\"color\": \"#00cc96\", \"dash\": \"solid\"}, \"mode\": \"lines\", \"name\": \"India\", \"showlegend\": true, \"type\": \"scattergl\", \"x\": [\"1796\", \"1797\", \"1798\", \"1799\", \"1800\", \"1801\", \"1802\", \"1803\", \"1804\", \"1805\", \"1806\", \"1807\", \"1813\", \"1814\", \"1815\", \"1816\", \"1817\", \"1818\", \"1819\", \"1820\", \"1821\", \"1822\", \"1823\", \"1824\", \"1825\", \"1826\", \"1827\", \"1828\", \"1829\", \"1830\", \"1831\", \"1832\", \"1833\", \"1834\", \"1835\", \"1836\", \"1837\", \"1838\", \"1839\", \"1840\", \"1841\", \"1842\", \"1843\", \"1844\", \"1845\", \"1846\", \"1847\", \"1848\", \"1849\", \"1850\", \"1851\", \"1852\", \"1853\", \"1854\", \"1855\", \"1856\", \"1857\", \"1858\", \"1859\", \"1860\", \"1861\", \"1862\", \"1863\", \"1864\", \"1865\", \"1866\", \"1867\", \"1868\", \"1869\", \"1870\", \"1871\", \"1872\", \"1873\", \"1874\", \"1875\", \"1876\", \"1877\", \"1878\", \"1879\", \"1880\", \"1881\", \"1882\", \"1883\", \"1884\", \"1885\", \"1886\", \"1887\", \"1888\", \"1889\", \"1890\", \"1891\", \"1892\", \"1893\", \"1894\", \"1895\", \"1896\", \"1897\", \"1898\", \"1899\", \"1900\", \"1901\", \"1902\", \"1903\", \"1904\", \"1905\", \"1906\", \"1907\", \"1908\", \"1909\", \"1910\", \"1911\", \"1912\", \"1913\", \"1914\", \"1915\", \"1916\", \"1917\", \"1918\", \"1919\", \"1920\", \"1921\", \"1922\", \"1923\", \"1924\", \"1925\", \"1926\", \"1927\", \"1928\", \"1929\", \"1930\", \"1931\", \"1932\", \"1933\", \"1934\", \"1935\", \"1936\", \"1937\", \"1938\", \"1939\", \"1940\", \"1941\", \"1942\", \"1943\", \"1944\", \"1945\", \"1946\", \"1947\", \"1948\", \"1949\", \"1950\", \"1951\", \"1952\", \"1953\", \"1954\", \"1955\", \"1956\", \"1957\", \"1958\", \"1959\", \"1960\", \"1961\", \"1962\", \"1963\", \"1964\", \"1965\", \"1966\", \"1967\", \"1968\", \"1969\", \"1970\", \"1971\", \"1972\", \"1973\", \"1974\", \"1975\", \"1976\", \"1977\", \"1978\", \"1979\", \"1980\", \"1981\", \"1982\", \"1983\", \"1984\", \"1985\", \"1986\", \"1987\", \"1988\", \"1989\", \"1990\", \"1991\", \"1992\", \"1993\", \"1994\", \"1995\", \"1996\", \"1997\", \"1998\", \"1999\", \"2000\", \"2001\", \"2002\", \"2003\", \"2004\", \"2005\", \"2006\", \"2007\", \"2008\", \"2009\", \"2010\", \"2011\", \"2012\", \"2013\"], \"xaxis\": \"x\", \"y\": [25.444699265380898, 26.594590082644583, 25.05470826446277, 25.723099862258923, 25.69377157943063, 24.951568044077145, 26.177065426997128, 25.940506887052443, 26.296749540862997, 25.811214646464638, 25.708051652892472, 25.23453471074385, 25.054487603305805, 24.450775857751086, 24.59298668503207, 24.09661618122989, 24.095935208866074, 24.42302664677034, 24.17248259662618, 24.43464406779663, 25.02928516624052, 25.102561381074125, 25.063876527331228, 25.83106181318686, 25.618947652582158, 25.63885691391939, 25.70644940476192, 25.400156135531105, 25.22237454212451, 25.42330471611729, 25.037823946886483, 25.258680956306726, 25.05009633418583, 25.020167519181665, 24.14337212276202, 24.748524115755835, 24.828975959417793, 24.964755905511737, 25.02851285583095, 24.979197294976398, 24.84459103641461, 25.051417864923824, 24.803726555839848, 24.592437340153413, 24.845557331628388, 25.210475383920564, 24.73985682023476, 24.72457225063944, 24.71465174765551, 25.02490949839917, 24.993892422625397, 24.870223358908863, 25.17114919011079, 25.267487836107367, 25.35984492335043, 24.55515756630271, 24.535963739624243, 25.58367635114028, 25.606790135092684, 25.36241934487025, 25.27671634766238, 22.66444140030442, 24.872151620370346, 24.69138425925922, 25.88314821076365, 25.77814075749009, 25.74870858283436, 25.53038846364135, 25.628328950898695, 25.026921142370032, 25.112080349531073, 25.120742966751944, 25.192742540494404, 25.019308976582774, 25.28026534526852, 25.24116304347811, 25.398076513214054, 25.61412872975279, 25.110567348678586, 25.32933141517476, 25.18540473145774, 25.089578218243737, 24.853559889172956, 24.77104411764703, 24.916803708439943, 25.142789641943807, 24.907448209718787, 25.185459505541424, 25.467446504688873, 25.173201832907086, 25.13315601023026, 25.46421014492761, 24.370409420289857, 25.203971653879172, 25.295069906223294, 25.906000852514822, 25.728614236999114, 25.536641304347736, 25.637158354646196, 25.83102109974439, 25.587903026428002, 25.782165174765495, 25.314293265132196, 25.258309676044348, 25.00066283034953, 25.398052003410157, 25.208122762148395, 25.28408397271951, 25.168223785166173, 25.047676683717008, 25.385760869565225, 25.482384697357205, 25.190993393009407, 25.315814364876438, 25.767090366581417, 25.322373401534584, 24.57357075873826, 25.275916453538063, 25.316255115089675, 25.47132331628303, 25.75441943734007, 25.38241815856772, 25.424976982097256, 25.547697783461228, 25.14681074168809, 25.342803708439916, 25.291330562659894, 25.661961423699957, 25.499152813299236, 25.352656649616215, 25.757972932651366, 25.605511082693948, 25.03275468883187, 25.271978047740834, 25.29287361466334, 25.304933503836295, 25.18117220801358, 25.41442455242974, 25.501080136402372, 25.398957587382682, 26.175723358908673, 25.70014897698215, 25.413634484228496, 25.35614748508096, 25.174669011082575, 25.573847826087, 25.7603184143222, 25.698586956521847, 25.521556905370677, 25.175591005967526, 25.746537297527787, 25.840387468030716, 26.05563533674342, 25.670212276214844, 25.459717391304356, 25.392692455242987, 25.554703111679505, 26.198643222506444, 25.758959505541302, 25.777128729752803, 25.325858269394786, 25.40124104859334, 25.602901747655597, 25.578348039215932, 25.597790920716086, 25.95010784313731, 25.49635954816699, 25.379547101449244, 25.978501491901003, 25.572560528559215, 25.080024083546427, 25.7659663256605, 25.848929028132925, 25.66602898550716, 25.3893719096336, 25.69447740835463, 25.76554688832045, 25.492502344416124, 26.0756104006819, 26.07368904518323, 25.676905797101288, 25.713459931798823, 25.439405370844053, 25.668738917305998, 25.982617007672552, 25.783603154305137, 26.34215728900248, 26.208039855072595, 25.662949701619738, 25.692166879795327, 25.84656329923282, 25.74881372549014, 25.89919053708441, 25.828545396419422, 25.967071184995753, 25.919418371696434, 25.549447996589826, 26.21908312020462, 26.15803772378513, 25.981147911338564, 26.045342284739984, 26.40690814151752, 26.12711402387033, 26.119607843137185, 26.012253836317015, 26.26153537936912, 26.125913469735632, 25.888367007672638, 26.603118925831108, 26.54987809036652, 25.88049914748508, 26.191225916453497, 26.864186061381147], \"yaxis\": \"y\"}, {\"hovertemplate\": \"Country=China<br>variable=AverageTemperature<br>years=%{x}<br>value=%{y}<extra></extra>\", \"legendgroup\": \"China\", \"line\": {\"color\": \"#ab63fa\", \"dash\": \"solid\"}, \"mode\": \"lines\", \"name\": \"China\", \"showlegend\": true, \"type\": \"scattergl\", \"x\": [\"1816\", \"1817\", \"1818\", \"1819\", \"1820\", \"1821\", \"1822\", \"1823\", \"1824\", \"1825\", \"1826\", \"1827\", \"1828\", \"1829\", \"1830\", \"1831\", \"1832\", \"1833\", \"1834\", \"1835\", \"1836\", \"1837\", \"1838\", \"1839\", \"1840\", \"1841\", \"1842\", \"1843\", \"1844\", \"1845\", \"1846\", \"1847\", \"1848\", \"1849\", \"1850\", \"1851\", \"1852\", \"1853\", \"1854\", \"1855\", \"1856\", \"1857\", \"1858\", \"1859\", \"1860\", \"1861\", \"1862\", \"1863\", \"1864\", \"1865\", \"1866\", \"1867\", \"1868\", \"1869\", \"1870\", \"1871\", \"1872\", \"1873\", \"1874\", \"1875\", \"1876\", \"1877\", \"1878\", \"1879\", \"1880\", \"1881\", \"1882\", \"1883\", \"1884\", \"1885\", \"1886\", \"1887\", \"1888\", \"1889\", \"1890\", \"1891\", \"1892\", \"1893\", \"1894\", \"1895\", \"1896\", \"1897\", \"1898\", \"1899\", \"1900\", \"1901\", \"1902\", \"1903\", \"1904\", \"1905\", \"1906\", \"1907\", \"1908\", \"1909\", \"1910\", \"1911\", \"1912\", \"1913\", \"1914\", \"1915\", \"1916\", \"1917\", \"1918\", \"1919\", \"1920\", \"1921\", \"1922\", \"1923\", \"1924\", \"1925\", \"1926\", \"1927\", \"1928\", \"1929\", \"1930\", \"1931\", \"1932\", \"1933\", \"1934\", \"1935\", \"1936\", \"1937\", \"1938\", \"1939\", \"1940\", \"1941\", \"1942\", \"1943\", \"1944\", \"1945\", \"1946\", \"1947\", \"1948\", \"1949\", \"1950\", \"1951\", \"1952\", \"1953\", \"1954\", \"1955\", \"1956\", \"1957\", \"1958\", \"1959\", \"1960\", \"1961\", \"1962\", \"1963\", \"1964\", \"1965\", \"1966\", \"1967\", \"1968\", \"1969\", \"1970\", \"1971\", \"1972\", \"1973\", \"1974\", \"1975\", \"1976\", \"1977\", \"1978\", \"1979\", \"1980\", \"1981\", \"1982\", \"1983\", \"1984\", \"1985\", \"1986\", \"1987\", \"1988\", \"1989\", \"1990\", \"1991\", \"1992\", \"1993\", \"1994\", \"1995\", \"1996\", \"1997\", \"1998\", \"1999\", \"2000\", \"2001\", \"2002\", \"2003\", \"2004\", \"2005\", \"2006\", \"2007\", \"2008\", \"2009\", \"2010\", \"2011\", \"2012\", \"2013\"], \"xaxis\": \"x\", \"y\": [12.992385714285719, 11.812654761904762, 12.491821428571436, 11.834654761904758, 7.511483204134377, 8.051776570048306, 8.080177536231862, 7.667227188081917, 6.148061827956976, 5.908786738351246, 5.825000000000002, 6.370016994633284, 5.647533687943261, 5.715743670886077, 5.206243993994004, 4.026999251497, 4.040749603803489, 6.609848785871973, 6.95540452538631, 6.109004415011031, 6.34034895539244, 5.924483103879845, 6.009476520400307, 4.925748175182482, 10.830661170384733, 11.64597850877193, 12.284373026315803, 12.443676096491153, 12.210688157894719, 12.181538157894737, 12.732057456140302, 12.477739912280704, 12.144306140350855, 12.32863706140352, 12.030971886668109, 11.883071820777507, 11.982554385964923, 12.285308771929829, 12.661942324561407, 12.626709804781717, 12.202416831465646, 12.29725088028167, 12.444261184210525, 12.53666557017541, 11.791696491228086, 11.956850219298246, 11.541508936550462, 12.409991447368412, 11.927656798245607, 12.419158657011192, 12.463350877192946, 12.575509014021804, 12.675907236842095, 12.805116110623297, 12.478877192982472, 12.608619956140396, 12.558819298245629, 12.524629824561337, 12.693992763157967, 12.575153728070145, 12.568192543859638, 12.395527192982478, 12.494597368421095, 12.708385964912242, 12.220055701754305, 12.404442543859627, 12.517078070175456, 12.159794078947352, 11.716133552631565, 11.927315570175425, 12.17718333333335, 12.307230263157896, 12.398664912280676, 12.244144078947324, 12.831536622807006, 12.627466666666711, 12.062991008771974, 11.98979495614038, 12.840114692982407, 12.074781798245668, 12.393558991228144, 12.445056140350893, 12.968612938596403, 12.83250789473674, 12.583437938596477, 12.521486842105228, 13.069491008771967, 12.554796052631646, 12.49943596491226, 12.212370833333377, 12.322211184210486, 12.519859429824567, 12.370123245613987, 12.437211842105288, 12.076048245614047, 12.251230482456146, 12.180491228070212, 12.262691885964877, 13.133935087719323, 12.414944078947359, 12.305723245613985, 12.063451096491216, 12.25815921052633, 12.821215131578887, 12.85937456140357, 12.621009429824605, 12.755064035087717, 12.691326315789516, 12.707802631578911, 12.698177850877196, 12.866303289473741, 12.868981359649135, 12.960037719298281, 12.728331359649117, 12.770910745614046, 12.484148684210489, 12.982279605263168, 12.708869736842106, 12.540365789473677, 13.061453289473635, 12.241730921052637, 12.80072719298243, 13.155562500000034, 13.16437675438592, 13.113967324561417, 13.305427412280629, 13.227914912280703, 13.26316249999997, 12.849097149122832, 12.882382894736917, 13.602862938596514, 12.538298464912241, 13.37285526315786, 13.292728070175434, 12.996705043859594, 12.991672587719295, 12.861676315789458, 13.236556140350912, 12.576354605263086, 12.978914912280754, 12.270832456140358, 12.471983991228054, 13.021339254386007, 13.362558771929876, 13.121295175438608, 13.544513596491226, 12.979854605263052, 13.183739254386019, 12.869112280701739, 12.969601754385982, 13.187257236842092, 12.78373311403507, 13.025384868420941, 12.310010526315779, 12.660300877192984, 12.87287938596492, 12.785677412280641, 13.262211842105247, 12.718084649122758, 13.385434210526322, 12.498462061403504, 13.06302850877198, 13.331357236842202, 13.252101973684187, 12.792903070175457, 13.00428662280702, 13.302760745614023, 13.222949561403507, 12.499564254385943, 12.68884649122801, 12.966682236842097, 13.266736403508817, 13.177339254385949, 13.400893859649159, 13.809577412280651, 13.203322807017594, 13.07895263157894, 12.976842324561408, 13.740516666666718, 13.381997587719258, 13.026271491228174, 13.628438596491263, 14.248573464912281, 13.808483552631563, 13.419087280701786, 13.63161337719299, 13.959315789473703, 13.647091666666668, 13.881408991228067, 13.442465789473648, 14.009555921052584, 14.267246929824577, 13.68962214912282, 13.733718201754362, 13.430684210526337, 13.316098464912226, 13.20419144736842, 14.962132565789531], \"yaxis\": \"y\"}, {\"hovertemplate\": \"Country=Japan<br>variable=AverageTemperature<br>years=%{x}<br>value=%{y}<extra></extra>\", \"legendgroup\": \"Japan\", \"line\": {\"color\": \"#FFA15A\", \"dash\": \"solid\"}, \"mode\": \"lines\", \"name\": \"Japan\", \"showlegend\": true, \"type\": \"scattergl\", \"x\": [\"1839\", \"1840\", \"1841\", \"1842\", \"1843\", \"1844\", \"1845\", \"1846\", \"1847\", \"1848\", \"1849\", \"1850\", \"1851\", \"1852\", \"1853\", \"1854\", \"1855\", \"1856\", \"1857\", \"1858\", \"1859\", \"1860\", \"1861\", \"1862\", \"1863\", \"1864\", \"1865\", \"1866\", \"1867\", \"1868\", \"1869\", \"1870\", \"1871\", \"1872\", \"1873\", \"1874\", \"1875\", \"1876\", \"1877\", \"1878\", \"1879\", \"1880\", \"1881\", \"1882\", \"1883\", \"1884\", \"1885\", \"1886\", \"1887\", \"1888\", \"1889\", \"1890\", \"1891\", \"1892\", \"1893\", \"1894\", \"1895\", \"1896\", \"1897\", \"1898\", \"1899\", \"1900\", \"1901\", \"1902\", \"1903\", \"1904\", \"1905\", \"1906\", \"1907\", \"1908\", \"1909\", \"1910\", \"1911\", \"1912\", \"1913\", \"1914\", \"1915\", \"1916\", \"1917\", \"1918\", \"1919\", \"1920\", \"1921\", \"1922\", \"1923\", \"1924\", \"1925\", \"1926\", \"1927\", \"1928\", \"1929\", \"1930\", \"1931\", \"1932\", \"1933\", \"1934\", \"1935\", \"1936\", \"1937\", \"1938\", \"1939\", \"1940\", \"1941\", \"1942\", \"1943\", \"1944\", \"1945\", \"1946\", \"1947\", \"1948\", \"1949\", \"1950\", \"1951\", \"1952\", \"1953\", \"1954\", \"1955\", \"1956\", \"1957\", \"1958\", \"1959\", \"1960\", \"1961\", \"1962\", \"1963\", \"1964\", \"1965\", \"1966\", \"1967\", \"1968\", \"1969\", \"1970\", \"1971\", \"1972\", \"1973\", \"1974\", \"1975\", \"1976\", \"1977\", \"1978\", \"1979\", \"1980\", \"1981\", \"1982\", \"1983\", \"1984\", \"1985\", \"1986\", \"1987\", \"1988\", \"1989\", \"1990\", \"1991\", \"1992\", \"1993\", \"1994\", \"1995\", \"1996\", \"1997\", \"1998\", \"1999\", \"2000\", \"2001\", \"2002\", \"2003\", \"2004\", \"2005\", \"2006\", \"2007\", \"2008\", \"2009\", \"2010\", \"2011\", \"2012\", \"2013\"], \"xaxis\": \"x\", \"y\": [4.127416666666668, 4.709416666666667, 12.365385779122528, 12.414513605442172, 12.57864115646258, 12.446851315789493, 12.829851428571473, 13.228781904761966, 13.111858095238105, 13.01958428571426, 13.012705238095185, 12.57956285714286, 12.577158571428615, 12.56356714285722, 12.730957619047636, 13.127642380952429, 13.426437351119603, 12.906207556193158, 12.843988571428579, 13.086908571428651, 13.020320476190484, 12.563360952380938, 12.650458095238083, 12.548514761904737, 13.246300476190445, 12.788253809523798, 13.211150476190335, 12.516044761904688, 13.298505238095162, 13.123703809523727, 12.978793809523708, 14.525386258660543, 13.032336190476295, 12.894430476190433, 12.41722190476185, 13.188922857142849, 13.016796190476175, 13.24418142857147, 13.54815000000005, 13.11292952380956, 13.603841428571336, 13.240142857142805, 12.993923809523938, 13.087133333333394, 12.818743333333327, 12.058114285714208, 12.458357142857167, 13.184494761904698, 13.066353809523813, 13.00752428571424, 12.559213333333345, 14.305041904761948, 13.271373809523853, 12.951521428571379, 12.656569523809525, 13.872550476190526, 13.078594285714294, 13.106934285714196, 12.73353619047622, 13.487247619047656, 13.209013333333289, 12.98216999999997, 13.083517142857144, 13.038680476190443, 13.203582380952419, 13.13270476190488, 13.0410766666667, 12.614283809523787, 12.833159047619079, 12.647242857142937, 12.87682095238093, 12.828990476190375, 13.502321904761832, 13.105937142857117, 12.597343809523794, 13.939329999999961, 13.622847619047674, 13.982322857142798, 12.762647142857123, 12.940043809523774, 13.393375238095254, 13.545159523809552, 12.951367142857132, 13.648211904761897, 13.458200000000005, 13.10501095238103, 13.032179999999988, 12.68244380952375, 13.081736190476173, 13.37397523809531, 13.25540095238097, 13.807168095238069, 13.083068095238017, 13.376961904761908, 13.482890952381087, 12.81893285714288, 13.224995714285699, 12.874159523809507, 13.709168095238125, 13.431792380952395, 13.534150952381022, 13.458082380952426, 13.516881904761837, 13.605298571428634, 13.30316190476192, 13.111306666666561, 12.602571428571428, 13.74656190476197, 12.801171904761954, 14.066130000000047, 13.429386190476118, 13.986716666666615, 13.562029523809572, 13.512044285714314, 13.501430476190452, 13.73393047619047, 14.208750952380896, 13.453922380952475, 13.441256190476242, 13.980150000000032, 14.44370380952385, 14.14516047619047, 14.51036285714279, 13.826292857142896, 13.539225714285706, 13.914524761904755, 13.085797142857123, 13.62199285714283, 13.723830952381018, 13.500336666666705, 13.446323333333424, 13.278073333333396, 13.419423809523813, 13.948930000000066, 13.764653809523937, 13.182442857142828, 13.68925571428569, 13.132200476190452, 13.806638571428534, 13.98001666666656, 14.48648285714289, 13.232184761904747, 13.01477904761903, 13.693406666666693, 13.634256666666648, 13.019210952380975, 13.786835714285766, 13.165282380952371, 14.173936190476295, 13.36692285714291, 14.211831904761965, 14.930258571428604, 14.13861285714286, 13.882157142857181, 13.388667619047583, 14.674186190476222, 13.764889523809522, 13.485801904761942, 14.185430476190492, 14.813405714285654, 14.531672857142796, 14.327082857142784, 14.025729523809533, 14.32070619047624, 13.902751904761967, 14.916357142857148, 13.94182142857143, 14.144900000000092, 14.60540809523812, 14.229534285714273, 14.362729523809524, 14.607146190476238, 14.137897142857142, 13.941440952380876, 14.640792142857206], \"yaxis\": \"y\"}, {\"hovertemplate\": \"Country=Australia<br>variable=AverageTemperature<br>years=%{x}<br>value=%{y}<extra></extra>\", \"legendgroup\": \"Australia\", \"line\": {\"color\": \"#19d3f3\", \"dash\": \"solid\"}, \"mode\": \"lines\", \"name\": \"Australia\", \"showlegend\": true, \"type\": \"scattergl\", \"x\": [\"1841\", \"1842\", \"1843\", \"1844\", \"1845\", \"1846\", \"1847\", \"1848\", \"1849\", \"1850\", \"1851\", \"1852\", \"1853\", \"1854\", \"1855\", \"1856\", \"1857\", \"1858\", \"1859\", \"1860\", \"1861\", \"1862\", \"1863\", \"1864\", \"1865\", \"1866\", \"1867\", \"1868\", \"1869\", \"1870\", \"1871\", \"1872\", \"1873\", \"1874\", \"1875\", \"1876\", \"1877\", \"1878\", \"1879\", \"1880\", \"1881\", \"1882\", \"1883\", \"1884\", \"1885\", \"1886\", \"1887\", \"1888\", \"1889\", \"1890\", \"1891\", \"1892\", \"1893\", \"1894\", \"1895\", \"1896\", \"1897\", \"1898\", \"1899\", \"1900\", \"1901\", \"1902\", \"1903\", \"1904\", \"1905\", \"1906\", \"1907\", \"1908\", \"1909\", \"1910\", \"1911\", \"1912\", \"1913\", \"1914\", \"1915\", \"1916\", \"1917\", \"1918\", \"1919\", \"1920\", \"1921\", \"1922\", \"1923\", \"1924\", \"1925\", \"1926\", \"1927\", \"1928\", \"1929\", \"1930\", \"1931\", \"1932\", \"1933\", \"1934\", \"1935\", \"1936\", \"1937\", \"1938\", \"1939\", \"1940\", \"1941\", \"1942\", \"1943\", \"1944\", \"1945\", \"1946\", \"1947\", \"1948\", \"1949\", \"1950\", \"1951\", \"1952\", \"1953\", \"1954\", \"1955\", \"1956\", \"1957\", \"1958\", \"1959\", \"1960\", \"1961\", \"1962\", \"1963\", \"1964\", \"1965\", \"1966\", \"1967\", \"1968\", \"1969\", \"1970\", \"1971\", \"1972\", \"1973\", \"1974\", \"1975\", \"1976\", \"1977\", \"1978\", \"1979\", \"1980\", \"1981\", \"1982\", \"1983\", \"1984\", \"1985\", \"1986\", \"1987\", \"1988\", \"1989\", \"1990\", \"1991\", \"1992\", \"1993\", \"1994\", \"1995\", \"1996\", \"1997\", \"1998\", \"1999\", \"2000\", \"2001\", \"2002\", \"2003\", \"2004\", \"2005\", \"2006\", \"2007\", \"2008\", \"2009\", \"2010\", \"2011\", \"2012\", \"2013\"], \"xaxis\": \"x\", \"y\": [15.08048484848485, 15.059984848484849, 15.38010606060606, 14.705037878787877, 15.15753787878788, 15.55100757575758, 15.099265151515155, 14.72405303030303, 14.534219696969707, 15.058363636363632, 15.085818181818185, 14.923753623188404, 14.857131944444445, 15.110695035460985, 14.671368421052636, 15.293333333333331, 15.378589552238807, 16.640019230769234, 16.16702564102564, 16.278019230769235, 16.459147435897428, 16.56546794871796, 16.297378205128204, 15.956821192052969, 15.808236111111118, 16.113284722222218, 16.886294871794878, 16.631057692307706, 16.602205128205128, 16.345613333333333, 16.562346153846153, 16.4233076923077, 16.47619871794871, 16.333179487179482, 16.443288461538458, 16.70940476190477, 16.769904761904765, 17.133392857142848, 16.33367261904762, 16.597142857142853, 16.614410714285707, 16.745726190476187, 16.406071428571444, 16.580000000000013, 16.57043452380952, 16.596392857142863, 16.438607142857137, 16.682654761904764, 17.020910714285712, 16.636398809523808, 16.399375000000003, 16.51870238095238, 16.601892857142865, 16.5522380952381, 16.643636904761898, 16.571244047619043, 16.78932738095238, 16.9206130952381, 16.61680952380952, 16.731958333333335, 16.710095238095224, 16.748738095238103, 16.62261904761904, 16.466250000000006, 16.30826785714284, 16.751934523809535, 16.601547619047626, 16.529696428571416, 16.28482142857144, 16.811505952380944, 16.574672619047625, 16.88241666666667, 16.68649404761905, 17.398404761904754, 17.11801785714285, 16.67979166666666, 16.3369642857143, 16.60429166666666, 17.13688095238095, 16.666238095238096, 17.101017857142857, 16.840214285714275, 16.84560119047619, 16.411124999999995, 16.398922619047617, 17.02207142857143, 16.484083333333327, 16.995458333333335, 16.387886904761917, 16.915773809523813, 16.62776785714284, 16.63139880952379, 16.655041666666662, 16.77226785714286, 16.51425595238096, 16.72719642857142, 16.807244047619047, 17.147488095238096, 16.880738095238094, 17.03510714285713, 16.601398809523825, 17.117321428571433, 16.385113095238097, 16.674749999999996, 16.716874999999998, 16.554607142857158, 16.86802976190477, 16.45855952380952, 16.372071428571438, 16.905970238095243, 16.691815476190477, 16.721315476190483, 16.622279761904764, 16.757654761904753, 16.812154761904758, 16.53402976190477, 16.81770833333334, 17.004333333333342, 17.03109523809524, 16.505011904761894, 17.025744047619042, 16.861499999999996, 16.84101785714285, 16.653196428571437, 16.79398214285715, 16.537363095238096, 16.87552976190476, 16.88401190476192, 16.971654761904762, 16.705779761904772, 16.799672619047634, 16.94124404761905, 17.528339285714285, 16.93191666666666, 17.17385714285714, 16.910666666666668, 17.058214285714286, 17.00743452380953, 17.264392857142873, 17.56195833333333, 17.410053571428573, 17.16442857142858, 17.340773809523803, 16.792148809523816, 17.045613095238103, 16.93604166666667, 17.18260714285715, 17.766910714285725, 17.146761904761895, 17.351583333333345, 17.43113095238096, 16.91417857142857, 17.261095238095237, 17.104422619047618, 17.017976190476183, 16.995476190476182, 17.32920833333333, 17.66438095238095, 17.430255952380957, 17.45077380952381, 17.556172619047626, 17.598946428571438, 17.477499999999992, 17.482589285714297, 17.754285714285704, 17.489148809523815, 17.878029761904756, 17.282660714285708, 17.91932142857143, 17.72861904761905, 17.472011904761914, 17.431607142857146, 17.867892857142856], \"yaxis\": \"y\"}],                        {\"legend\": {\"title\": {\"text\": \"Country\"}, \"tracegroupgap\": 0}, \"template\": {\"data\": {\"bar\": [{\"error_x\": {\"color\": \"#2a3f5f\"}, \"error_y\": {\"color\": \"#2a3f5f\"}, \"marker\": {\"line\": {\"color\": \"#E5ECF6\", \"width\": 0.5}}, \"type\": \"bar\"}], \"barpolar\": [{\"marker\": {\"line\": {\"color\": \"#E5ECF6\", \"width\": 0.5}}, \"type\": \"barpolar\"}], \"carpet\": [{\"aaxis\": {\"endlinecolor\": \"#2a3f5f\", \"gridcolor\": \"white\", \"linecolor\": \"white\", \"minorgridcolor\": \"white\", \"startlinecolor\": \"#2a3f5f\"}, \"baxis\": {\"endlinecolor\": \"#2a3f5f\", \"gridcolor\": \"white\", \"linecolor\": \"white\", \"minorgridcolor\": \"white\", \"startlinecolor\": \"#2a3f5f\"}, \"type\": \"carpet\"}], \"choropleth\": [{\"colorbar\": {\"outlinewidth\": 0, \"ticks\": \"\"}, \"type\": \"choropleth\"}], \"contour\": [{\"colorbar\": {\"outlinewidth\": 0, \"ticks\": \"\"}, \"colorscale\": [[0.0, \"#0d0887\"], [0.1111111111111111, \"#46039f\"], [0.2222222222222222, \"#7201a8\"], [0.3333333333333333, \"#9c179e\"], [0.4444444444444444, \"#bd3786\"], [0.5555555555555556, \"#d8576b\"], [0.6666666666666666, \"#ed7953\"], [0.7777777777777778, \"#fb9f3a\"], [0.8888888888888888, \"#fdca26\"], [1.0, \"#f0f921\"]], \"type\": \"contour\"}], \"contourcarpet\": [{\"colorbar\": {\"outlinewidth\": 0, \"ticks\": \"\"}, \"type\": \"contourcarpet\"}], \"heatmap\": [{\"colorbar\": {\"outlinewidth\": 0, \"ticks\": \"\"}, \"colorscale\": [[0.0, \"#0d0887\"], [0.1111111111111111, \"#46039f\"], [0.2222222222222222, \"#7201a8\"], [0.3333333333333333, \"#9c179e\"], [0.4444444444444444, \"#bd3786\"], [0.5555555555555556, \"#d8576b\"], [0.6666666666666666, \"#ed7953\"], [0.7777777777777778, \"#fb9f3a\"], [0.8888888888888888, \"#fdca26\"], [1.0, \"#f0f921\"]], \"type\": \"heatmap\"}], \"heatmapgl\": [{\"colorbar\": {\"outlinewidth\": 0, \"ticks\": \"\"}, \"colorscale\": [[0.0, \"#0d0887\"], [0.1111111111111111, \"#46039f\"], [0.2222222222222222, \"#7201a8\"], [0.3333333333333333, \"#9c179e\"], [0.4444444444444444, \"#bd3786\"], [0.5555555555555556, \"#d8576b\"], [0.6666666666666666, \"#ed7953\"], [0.7777777777777778, \"#fb9f3a\"], [0.8888888888888888, \"#fdca26\"], [1.0, \"#f0f921\"]], \"type\": \"heatmapgl\"}], \"histogram\": [{\"marker\": {\"colorbar\": {\"outlinewidth\": 0, \"ticks\": \"\"}}, \"type\": \"histogram\"}], \"histogram2d\": [{\"colorbar\": {\"outlinewidth\": 0, \"ticks\": \"\"}, \"colorscale\": [[0.0, \"#0d0887\"], [0.1111111111111111, \"#46039f\"], [0.2222222222222222, \"#7201a8\"], [0.3333333333333333, \"#9c179e\"], [0.4444444444444444, \"#bd3786\"], [0.5555555555555556, \"#d8576b\"], [0.6666666666666666, \"#ed7953\"], [0.7777777777777778, \"#fb9f3a\"], [0.8888888888888888, \"#fdca26\"], [1.0, \"#f0f921\"]], \"type\": \"histogram2d\"}], \"histogram2dcontour\": [{\"colorbar\": {\"outlinewidth\": 0, \"ticks\": \"\"}, \"colorscale\": [[0.0, \"#0d0887\"], [0.1111111111111111, \"#46039f\"], [0.2222222222222222, \"#7201a8\"], [0.3333333333333333, \"#9c179e\"], [0.4444444444444444, \"#bd3786\"], [0.5555555555555556, \"#d8576b\"], [0.6666666666666666, \"#ed7953\"], [0.7777777777777778, \"#fb9f3a\"], [0.8888888888888888, \"#fdca26\"], [1.0, \"#f0f921\"]], \"type\": \"histogram2dcontour\"}], \"mesh3d\": [{\"colorbar\": {\"outlinewidth\": 0, \"ticks\": \"\"}, \"type\": \"mesh3d\"}], \"parcoords\": [{\"line\": {\"colorbar\": {\"outlinewidth\": 0, \"ticks\": \"\"}}, \"type\": \"parcoords\"}], \"pie\": [{\"automargin\": true, \"type\": \"pie\"}], \"scatter\": [{\"marker\": {\"colorbar\": {\"outlinewidth\": 0, \"ticks\": \"\"}}, \"type\": \"scatter\"}], \"scatter3d\": [{\"line\": {\"colorbar\": {\"outlinewidth\": 0, \"ticks\": \"\"}}, \"marker\": {\"colorbar\": {\"outlinewidth\": 0, \"ticks\": \"\"}}, \"type\": \"scatter3d\"}], \"scattercarpet\": [{\"marker\": {\"colorbar\": {\"outlinewidth\": 0, \"ticks\": \"\"}}, \"type\": \"scattercarpet\"}], \"scattergeo\": [{\"marker\": {\"colorbar\": {\"outlinewidth\": 0, \"ticks\": \"\"}}, \"type\": \"scattergeo\"}], \"scattergl\": [{\"marker\": {\"colorbar\": {\"outlinewidth\": 0, \"ticks\": \"\"}}, \"type\": \"scattergl\"}], \"scattermapbox\": [{\"marker\": {\"colorbar\": {\"outlinewidth\": 0, \"ticks\": \"\"}}, \"type\": \"scattermapbox\"}], \"scatterpolar\": [{\"marker\": {\"colorbar\": {\"outlinewidth\": 0, \"ticks\": \"\"}}, \"type\": \"scatterpolar\"}], \"scatterpolargl\": [{\"marker\": {\"colorbar\": {\"outlinewidth\": 0, \"ticks\": \"\"}}, \"type\": \"scatterpolargl\"}], \"scatterternary\": [{\"marker\": {\"colorbar\": {\"outlinewidth\": 0, \"ticks\": \"\"}}, \"type\": \"scatterternary\"}], \"surface\": [{\"colorbar\": {\"outlinewidth\": 0, \"ticks\": \"\"}, \"colorscale\": [[0.0, \"#0d0887\"], [0.1111111111111111, \"#46039f\"], [0.2222222222222222, \"#7201a8\"], [0.3333333333333333, \"#9c179e\"], [0.4444444444444444, \"#bd3786\"], [0.5555555555555556, \"#d8576b\"], [0.6666666666666666, \"#ed7953\"], [0.7777777777777778, \"#fb9f3a\"], [0.8888888888888888, \"#fdca26\"], [1.0, \"#f0f921\"]], \"type\": \"surface\"}], \"table\": [{\"cells\": {\"fill\": {\"color\": \"#EBF0F8\"}, \"line\": {\"color\": \"white\"}}, \"header\": {\"fill\": {\"color\": \"#C8D4E3\"}, \"line\": {\"color\": \"white\"}}, \"type\": \"table\"}]}, \"layout\": {\"annotationdefaults\": {\"arrowcolor\": \"#2a3f5f\", \"arrowhead\": 0, \"arrowwidth\": 1}, \"autotypenumbers\": \"strict\", \"coloraxis\": {\"colorbar\": {\"outlinewidth\": 0, \"ticks\": \"\"}}, \"colorscale\": {\"diverging\": [[0, \"#8e0152\"], [0.1, \"#c51b7d\"], [0.2, \"#de77ae\"], [0.3, \"#f1b6da\"], [0.4, \"#fde0ef\"], [0.5, \"#f7f7f7\"], [0.6, \"#e6f5d0\"], [0.7, \"#b8e186\"], [0.8, \"#7fbc41\"], [0.9, \"#4d9221\"], [1, \"#276419\"]], \"sequential\": [[0.0, \"#0d0887\"], [0.1111111111111111, \"#46039f\"], [0.2222222222222222, \"#7201a8\"], [0.3333333333333333, \"#9c179e\"], [0.4444444444444444, \"#bd3786\"], [0.5555555555555556, \"#d8576b\"], [0.6666666666666666, \"#ed7953\"], [0.7777777777777778, \"#fb9f3a\"], [0.8888888888888888, \"#fdca26\"], [1.0, \"#f0f921\"]], \"sequentialminus\": [[0.0, \"#0d0887\"], [0.1111111111111111, \"#46039f\"], [0.2222222222222222, \"#7201a8\"], [0.3333333333333333, \"#9c179e\"], [0.4444444444444444, \"#bd3786\"], [0.5555555555555556, \"#d8576b\"], [0.6666666666666666, \"#ed7953\"], [0.7777777777777778, \"#fb9f3a\"], [0.8888888888888888, \"#fdca26\"], [1.0, \"#f0f921\"]]}, \"colorway\": [\"#636efa\", \"#EF553B\", \"#00cc96\", \"#ab63fa\", \"#FFA15A\", \"#19d3f3\", \"#FF6692\", \"#B6E880\", \"#FF97FF\", \"#FECB52\"], \"font\": {\"color\": \"#2a3f5f\"}, \"geo\": {\"bgcolor\": \"white\", \"lakecolor\": \"white\", \"landcolor\": \"#E5ECF6\", \"showlakes\": true, \"showland\": true, \"subunitcolor\": \"white\"}, \"hoverlabel\": {\"align\": \"left\"}, \"hovermode\": \"closest\", \"mapbox\": {\"style\": \"light\"}, \"paper_bgcolor\": \"white\", \"plot_bgcolor\": \"#E5ECF6\", \"polar\": {\"angularaxis\": {\"gridcolor\": \"white\", \"linecolor\": \"white\", \"ticks\": \"\"}, \"bgcolor\": \"#E5ECF6\", \"radialaxis\": {\"gridcolor\": \"white\", \"linecolor\": \"white\", \"ticks\": \"\"}}, \"scene\": {\"xaxis\": {\"backgroundcolor\": \"#E5ECF6\", \"gridcolor\": \"white\", \"gridwidth\": 2, \"linecolor\": \"white\", \"showbackground\": true, \"ticks\": \"\", \"zerolinecolor\": \"white\"}, \"yaxis\": {\"backgroundcolor\": \"#E5ECF6\", \"gridcolor\": \"white\", \"gridwidth\": 2, \"linecolor\": \"white\", \"showbackground\": true, \"ticks\": \"\", \"zerolinecolor\": \"white\"}, \"zaxis\": {\"backgroundcolor\": \"#E5ECF6\", \"gridcolor\": \"white\", \"gridwidth\": 2, \"linecolor\": \"white\", \"showbackground\": true, \"ticks\": \"\", \"zerolinecolor\": \"white\"}}, \"shapedefaults\": {\"line\": {\"color\": \"#2a3f5f\"}}, \"ternary\": {\"aaxis\": {\"gridcolor\": \"white\", \"linecolor\": \"white\", \"ticks\": \"\"}, \"baxis\": {\"gridcolor\": \"white\", \"linecolor\": \"white\", \"ticks\": \"\"}, \"bgcolor\": \"#E5ECF6\", \"caxis\": {\"gridcolor\": \"white\", \"linecolor\": \"white\", \"ticks\": \"\"}}, \"title\": {\"x\": 0.05}, \"xaxis\": {\"automargin\": true, \"gridcolor\": \"white\", \"linecolor\": \"white\", \"ticks\": \"\", \"title\": {\"standoff\": 15}, \"zerolinecolor\": \"white\", \"zerolinewidth\": 2}, \"yaxis\": {\"automargin\": true, \"gridcolor\": \"white\", \"linecolor\": \"white\", \"ticks\": \"\", \"title\": {\"standoff\": 15}, \"zerolinecolor\": \"white\", \"zerolinewidth\": 2}}}, \"title\": {\"text\": \"Average Land Temperature in World\"}, \"xaxis\": {\"anchor\": \"y\", \"domain\": [0.0, 1.0], \"title\": {\"text\": \"years\"}}, \"yaxis\": {\"anchor\": \"x\", \"domain\": [0.0, 1.0], \"title\": {\"text\": \"value\"}}},                        {\"responsive\": true}                    ).then(function(){\n",
       "                            \n",
       "var gd = document.getElementById('f315fb23-f19b-4fcb-8dc3-5ef90f552a6a');\n",
       "var x = new MutationObserver(function (mutations, observer) {{\n",
       "        var display = window.getComputedStyle(gd).display;\n",
       "        if (!display || display === 'none') {{\n",
       "            console.log([gd, 'removed!']);\n",
       "            Plotly.purge(gd);\n",
       "            observer.disconnect();\n",
       "        }}\n",
       "}});\n",
       "\n",
       "// Listen for the removal of the full notebook cells\n",
       "var notebookContainer = gd.closest('#notebook-container');\n",
       "if (notebookContainer) {{\n",
       "    x.observe(notebookContainer, {childList: true});\n",
       "}}\n",
       "\n",
       "// Listen for the clearing of the current output cell\n",
       "var outputEl = gd.closest('.output');\n",
       "if (outputEl) {{\n",
       "    x.observe(outputEl, {childList: true});\n",
       "}}\n",
       "\n",
       "                        })                };                });            </script>        </div>"
      ]
     },
     "metadata": {},
     "output_type": "display_data"
    }
   ],
   "source": [
    "fig=px.line(avg_temp,x='years',y=['AverageTemperature'],color='Country',title='Average Land Temperature in World')\n",
    "fig.show()"
   ]
  },
  {
   "cell_type": "markdown",
   "id": "lonely-faith",
   "metadata": {
    "papermill": {
     "duration": 0.130901,
     "end_time": "2021-06-13T15:29:02.073820",
     "exception": false,
     "start_time": "2021-06-13T15:29:01.942919",
     "status": "completed"
    },
    "tags": []
   },
   "source": [
    "**Conclusion** ==>> we will see that there has been a global increase trend in temperature, particularly over the last 30 years. This is due to the violent activities of a humankind."
   ]
  },
  {
   "cell_type": "markdown",
   "id": "bridal-heating",
   "metadata": {
    "papermill": {
     "duration": 0.127401,
     "end_time": "2021-06-13T15:29:02.331876",
     "exception": false,
     "start_time": "2021-06-13T15:29:02.204475",
     "status": "completed"
    },
    "tags": []
   },
   "source": [
    "# Analyse Average Temperature of USA States"
   ]
  },
  {
   "cell_type": "code",
   "execution_count": 59,
   "id": "framed-nightlife",
   "metadata": {
    "execution": {
     "iopub.execute_input": "2021-06-13T15:29:02.599320Z",
     "iopub.status.busy": "2021-06-13T15:29:02.598788Z",
     "iopub.status.idle": "2021-06-13T15:29:03.420044Z",
     "shell.execute_reply": "2021-06-13T15:29:03.420621Z",
     "shell.execute_reply.started": "2021-06-13T15:08:06.985216Z"
    },
    "papermill": {
     "duration": 0.961305,
     "end_time": "2021-06-13T15:29:03.420835",
     "exception": false,
     "start_time": "2021-06-13T15:29:02.459530",
     "status": "completed"
    },
    "tags": []
   },
   "outputs": [],
   "source": [
    "global_temp_state=pd.read_csv('../input/global-climate-change/GlobalLandTemperaturesByState.csv')"
   ]
  },
  {
   "cell_type": "code",
   "execution_count": 60,
   "id": "baking-annotation",
   "metadata": {
    "execution": {
     "iopub.execute_input": "2021-06-13T15:29:03.699607Z",
     "iopub.status.busy": "2021-06-13T15:29:03.698869Z",
     "iopub.status.idle": "2021-06-13T15:29:03.702235Z",
     "shell.execute_reply": "2021-06-13T15:29:03.702617Z",
     "shell.execute_reply.started": "2021-06-13T15:08:07.669909Z"
    },
    "papermill": {
     "duration": 0.143393,
     "end_time": "2021-06-13T15:29:03.702756",
     "exception": false,
     "start_time": "2021-06-13T15:29:03.559363",
     "status": "completed"
    },
    "tags": []
   },
   "outputs": [
    {
     "data": {
      "text/html": [
       "<div>\n",
       "<style scoped>\n",
       "    .dataframe tbody tr th:only-of-type {\n",
       "        vertical-align: middle;\n",
       "    }\n",
       "\n",
       "    .dataframe tbody tr th {\n",
       "        vertical-align: top;\n",
       "    }\n",
       "\n",
       "    .dataframe thead th {\n",
       "        text-align: right;\n",
       "    }\n",
       "</style>\n",
       "<table border=\"1\" class=\"dataframe\">\n",
       "  <thead>\n",
       "    <tr style=\"text-align: right;\">\n",
       "      <th></th>\n",
       "      <th>dt</th>\n",
       "      <th>AverageTemperature</th>\n",
       "      <th>AverageTemperatureUncertainty</th>\n",
       "      <th>State</th>\n",
       "      <th>Country</th>\n",
       "    </tr>\n",
       "  </thead>\n",
       "  <tbody>\n",
       "    <tr>\n",
       "      <th>0</th>\n",
       "      <td>1855-05-01</td>\n",
       "      <td>25.544</td>\n",
       "      <td>1.171</td>\n",
       "      <td>Acre</td>\n",
       "      <td>Brazil</td>\n",
       "    </tr>\n",
       "    <tr>\n",
       "      <th>1</th>\n",
       "      <td>1855-06-01</td>\n",
       "      <td>24.228</td>\n",
       "      <td>1.103</td>\n",
       "      <td>Acre</td>\n",
       "      <td>Brazil</td>\n",
       "    </tr>\n",
       "    <tr>\n",
       "      <th>2</th>\n",
       "      <td>1855-07-01</td>\n",
       "      <td>24.371</td>\n",
       "      <td>1.044</td>\n",
       "      <td>Acre</td>\n",
       "      <td>Brazil</td>\n",
       "    </tr>\n",
       "    <tr>\n",
       "      <th>3</th>\n",
       "      <td>1855-08-01</td>\n",
       "      <td>25.427</td>\n",
       "      <td>1.073</td>\n",
       "      <td>Acre</td>\n",
       "      <td>Brazil</td>\n",
       "    </tr>\n",
       "    <tr>\n",
       "      <th>4</th>\n",
       "      <td>1855-09-01</td>\n",
       "      <td>25.675</td>\n",
       "      <td>1.014</td>\n",
       "      <td>Acre</td>\n",
       "      <td>Brazil</td>\n",
       "    </tr>\n",
       "  </tbody>\n",
       "</table>\n",
       "</div>"
      ],
      "text/plain": [
       "           dt  AverageTemperature  AverageTemperatureUncertainty State Country\n",
       "0  1855-05-01              25.544                          1.171  Acre  Brazil\n",
       "1  1855-06-01              24.228                          1.103  Acre  Brazil\n",
       "2  1855-07-01              24.371                          1.044  Acre  Brazil\n",
       "3  1855-08-01              25.427                          1.073  Acre  Brazil\n",
       "4  1855-09-01              25.675                          1.014  Acre  Brazil"
      ]
     },
     "execution_count": 60,
     "metadata": {},
     "output_type": "execute_result"
    }
   ],
   "source": [
    "global_temp_state.head()"
   ]
  },
  {
   "cell_type": "code",
   "execution_count": 61,
   "id": "common-cheese",
   "metadata": {
    "execution": {
     "iopub.execute_input": "2021-06-13T15:29:04.029411Z",
     "iopub.status.busy": "2021-06-13T15:29:04.028720Z",
     "iopub.status.idle": "2021-06-13T15:29:04.039074Z",
     "shell.execute_reply": "2021-06-13T15:29:04.038661Z",
     "shell.execute_reply.started": "2021-06-13T15:08:07.684435Z"
    },
    "papermill": {
     "duration": 0.207979,
     "end_time": "2021-06-13T15:29:04.039191",
     "exception": false,
     "start_time": "2021-06-13T15:29:03.831212",
     "status": "completed"
    },
    "tags": []
   },
   "outputs": [],
   "source": [
    "filter=global_temp_state['Country']=='United States'\n",
    "USA=global_temp_state[filter]"
   ]
  },
  {
   "cell_type": "code",
   "execution_count": 62,
   "id": "third-entertainment",
   "metadata": {
    "execution": {
     "iopub.execute_input": "2021-06-13T15:29:04.308515Z",
     "iopub.status.busy": "2021-06-13T15:29:04.307703Z",
     "iopub.status.idle": "2021-06-13T15:29:04.313081Z",
     "shell.execute_reply": "2021-06-13T15:29:04.312594Z",
     "shell.execute_reply.started": "2021-06-13T15:08:07.74287Z"
    },
    "papermill": {
     "duration": 0.144892,
     "end_time": "2021-06-13T15:29:04.313208",
     "exception": false,
     "start_time": "2021-06-13T15:29:04.168316",
     "status": "completed"
    },
    "tags": []
   },
   "outputs": [
    {
     "data": {
      "text/html": [
       "<div>\n",
       "<style scoped>\n",
       "    .dataframe tbody tr th:only-of-type {\n",
       "        vertical-align: middle;\n",
       "    }\n",
       "\n",
       "    .dataframe tbody tr th {\n",
       "        vertical-align: top;\n",
       "    }\n",
       "\n",
       "    .dataframe thead th {\n",
       "        text-align: right;\n",
       "    }\n",
       "</style>\n",
       "<table border=\"1\" class=\"dataframe\">\n",
       "  <thead>\n",
       "    <tr style=\"text-align: right;\">\n",
       "      <th></th>\n",
       "      <th>dt</th>\n",
       "      <th>AverageTemperature</th>\n",
       "      <th>AverageTemperatureUncertainty</th>\n",
       "      <th>State</th>\n",
       "      <th>Country</th>\n",
       "    </tr>\n",
       "  </thead>\n",
       "  <tbody>\n",
       "    <tr>\n",
       "      <th>7458</th>\n",
       "      <td>1743-11-01</td>\n",
       "      <td>10.722</td>\n",
       "      <td>2.898</td>\n",
       "      <td>Alabama</td>\n",
       "      <td>United States</td>\n",
       "    </tr>\n",
       "    <tr>\n",
       "      <th>7459</th>\n",
       "      <td>1743-12-01</td>\n",
       "      <td>NaN</td>\n",
       "      <td>NaN</td>\n",
       "      <td>Alabama</td>\n",
       "      <td>United States</td>\n",
       "    </tr>\n",
       "    <tr>\n",
       "      <th>7460</th>\n",
       "      <td>1744-01-01</td>\n",
       "      <td>NaN</td>\n",
       "      <td>NaN</td>\n",
       "      <td>Alabama</td>\n",
       "      <td>United States</td>\n",
       "    </tr>\n",
       "    <tr>\n",
       "      <th>7461</th>\n",
       "      <td>1744-02-01</td>\n",
       "      <td>NaN</td>\n",
       "      <td>NaN</td>\n",
       "      <td>Alabama</td>\n",
       "      <td>United States</td>\n",
       "    </tr>\n",
       "    <tr>\n",
       "      <th>7462</th>\n",
       "      <td>1744-03-01</td>\n",
       "      <td>NaN</td>\n",
       "      <td>NaN</td>\n",
       "      <td>Alabama</td>\n",
       "      <td>United States</td>\n",
       "    </tr>\n",
       "  </tbody>\n",
       "</table>\n",
       "</div>"
      ],
      "text/plain": [
       "              dt  AverageTemperature  AverageTemperatureUncertainty    State  \\\n",
       "7458  1743-11-01              10.722                          2.898  Alabama   \n",
       "7459  1743-12-01                 NaN                            NaN  Alabama   \n",
       "7460  1744-01-01                 NaN                            NaN  Alabama   \n",
       "7461  1744-02-01                 NaN                            NaN  Alabama   \n",
       "7462  1744-03-01                 NaN                            NaN  Alabama   \n",
       "\n",
       "            Country  \n",
       "7458  United States  \n",
       "7459  United States  \n",
       "7460  United States  \n",
       "7461  United States  \n",
       "7462  United States  "
      ]
     },
     "execution_count": 62,
     "metadata": {},
     "output_type": "execute_result"
    }
   ],
   "source": [
    "USA.head()"
   ]
  },
  {
   "cell_type": "code",
   "execution_count": 63,
   "id": "worse-selling",
   "metadata": {
    "execution": {
     "iopub.execute_input": "2021-06-13T15:29:04.649816Z",
     "iopub.status.busy": "2021-06-13T15:29:04.649285Z",
     "iopub.status.idle": "2021-06-13T15:29:04.658639Z",
     "shell.execute_reply": "2021-06-13T15:29:04.658223Z",
     "shell.execute_reply.started": "2021-06-13T15:08:07.758135Z"
    },
    "papermill": {
     "duration": 0.211603,
     "end_time": "2021-06-13T15:29:04.658752",
     "exception": false,
     "start_time": "2021-06-13T15:29:04.447149",
     "status": "completed"
    },
    "tags": []
   },
   "outputs": [],
   "source": [
    "USA=global_temp_state[global_temp_state['Country']=='United States']"
   ]
  },
  {
   "cell_type": "code",
   "execution_count": 64,
   "id": "hired-yeast",
   "metadata": {
    "execution": {
     "iopub.execute_input": "2021-06-13T15:29:04.920927Z",
     "iopub.status.busy": "2021-06-13T15:29:04.920215Z",
     "iopub.status.idle": "2021-06-13T15:29:04.964733Z",
     "shell.execute_reply": "2021-06-13T15:29:04.964310Z",
     "shell.execute_reply.started": "2021-06-13T15:08:07.805828Z"
    },
    "papermill": {
     "duration": 0.176156,
     "end_time": "2021-06-13T15:29:04.964854",
     "exception": false,
     "start_time": "2021-06-13T15:29:04.788698",
     "status": "completed"
    },
    "tags": []
   },
   "outputs": [],
   "source": [
    "USA.dropna(inplace=True)"
   ]
  },
  {
   "cell_type": "code",
   "execution_count": 65,
   "id": "related-municipality",
   "metadata": {
    "execution": {
     "iopub.execute_input": "2021-06-13T15:29:05.233918Z",
     "iopub.status.busy": "2021-06-13T15:29:05.233225Z",
     "iopub.status.idle": "2021-06-13T15:29:05.240078Z",
     "shell.execute_reply": "2021-06-13T15:29:05.239591Z",
     "shell.execute_reply.started": "2021-06-13T15:08:07.839881Z"
    },
    "papermill": {
     "duration": 0.146329,
     "end_time": "2021-06-13T15:29:05.240197",
     "exception": false,
     "start_time": "2021-06-13T15:29:05.093868",
     "status": "completed"
    },
    "tags": []
   },
   "outputs": [
    {
     "data": {
      "text/plain": [
       "array(['Alabama', 'Alaska', 'Arizona', 'Arkansas', 'California',\n",
       "       'Colorado', 'Connecticut', 'Delaware', 'District Of Columbia',\n",
       "       'Florida', 'Georgia (State)', 'Hawaii', 'Idaho', 'Illinois',\n",
       "       'Indiana', 'Iowa', 'Kansas', 'Kentucky', 'Louisiana', 'Maine',\n",
       "       'Maryland', 'Massachusetts', 'Michigan', 'Minnesota',\n",
       "       'Mississippi', 'Missouri', 'Montana', 'Nebraska', 'Nevada',\n",
       "       'New Hampshire', 'New Jersey', 'New Mexico', 'New York',\n",
       "       'North Carolina', 'North Dakota', 'Ohio', 'Oklahoma', 'Oregon',\n",
       "       'Pennsylvania', 'Rhode Island', 'South Carolina', 'South Dakota',\n",
       "       'Tennessee', 'Texas', 'Utah', 'Vermont', 'Virginia', 'Washington',\n",
       "       'West Virginia', 'Wisconsin', 'Wyoming'], dtype=object)"
      ]
     },
     "execution_count": 65,
     "metadata": {},
     "output_type": "execute_result"
    }
   ],
   "source": [
    "USA['State'].unique()"
   ]
  },
  {
   "cell_type": "code",
   "execution_count": 66,
   "id": "former-nancy",
   "metadata": {
    "execution": {
     "iopub.execute_input": "2021-06-13T15:29:05.500906Z",
     "iopub.status.busy": "2021-06-13T15:29:05.500384Z",
     "iopub.status.idle": "2021-06-13T15:29:05.503952Z",
     "shell.execute_reply": "2021-06-13T15:29:05.503558Z",
     "shell.execute_reply.started": "2021-06-13T15:08:07.857371Z"
    },
    "papermill": {
     "duration": 0.136351,
     "end_time": "2021-06-13T15:29:05.504082",
     "exception": false,
     "start_time": "2021-06-13T15:29:05.367731",
     "status": "completed"
    },
    "tags": []
   },
   "outputs": [],
   "source": [
    "state={'Georgia (State)':'Georgia','District Of Columbia':'Columbia'}"
   ]
  },
  {
   "cell_type": "code",
   "execution_count": 67,
   "id": "cutting-volleyball",
   "metadata": {
    "execution": {
     "iopub.execute_input": "2021-06-13T15:29:05.776894Z",
     "iopub.status.busy": "2021-06-13T15:29:05.776165Z",
     "iopub.status.idle": "2021-06-13T15:29:05.789248Z",
     "shell.execute_reply": "2021-06-13T15:29:05.788787Z",
     "shell.execute_reply.started": "2021-06-13T15:08:07.863006Z"
    },
    "papermill": {
     "duration": 0.157433,
     "end_time": "2021-06-13T15:29:05.789364",
     "exception": false,
     "start_time": "2021-06-13T15:29:05.631931",
     "status": "completed"
    },
    "tags": []
   },
   "outputs": [],
   "source": [
    "USA['State'].replace(state,inplace=True)"
   ]
  },
  {
   "cell_type": "code",
   "execution_count": 68,
   "id": "terminal-bridges",
   "metadata": {
    "execution": {
     "iopub.execute_input": "2021-06-13T15:29:06.056799Z",
     "iopub.status.busy": "2021-06-13T15:29:06.055341Z",
     "iopub.status.idle": "2021-06-13T15:29:06.057636Z",
     "shell.execute_reply": "2021-06-13T15:29:06.058052Z",
     "shell.execute_reply.started": "2021-06-13T15:08:07.895286Z"
    },
    "papermill": {
     "duration": 0.139695,
     "end_time": "2021-06-13T15:29:06.058190",
     "exception": false,
     "start_time": "2021-06-13T15:29:05.918495",
     "status": "completed"
    },
    "tags": []
   },
   "outputs": [],
   "source": [
    "USA=USA[['AverageTemperature','State']]"
   ]
  },
  {
   "cell_type": "code",
   "execution_count": 69,
   "id": "peripheral-error",
   "metadata": {
    "execution": {
     "iopub.execute_input": "2021-06-13T15:29:06.324943Z",
     "iopub.status.busy": "2021-06-13T15:29:06.324428Z",
     "iopub.status.idle": "2021-06-13T15:29:06.330164Z",
     "shell.execute_reply": "2021-06-13T15:29:06.329746Z",
     "shell.execute_reply.started": "2021-06-13T15:08:07.905707Z"
    },
    "papermill": {
     "duration": 0.142346,
     "end_time": "2021-06-13T15:29:06.330278",
     "exception": false,
     "start_time": "2021-06-13T15:29:06.187932",
     "status": "completed"
    },
    "tags": []
   },
   "outputs": [
    {
     "data": {
      "text/html": [
       "<div>\n",
       "<style scoped>\n",
       "    .dataframe tbody tr th:only-of-type {\n",
       "        vertical-align: middle;\n",
       "    }\n",
       "\n",
       "    .dataframe tbody tr th {\n",
       "        vertical-align: top;\n",
       "    }\n",
       "\n",
       "    .dataframe thead th {\n",
       "        text-align: right;\n",
       "    }\n",
       "</style>\n",
       "<table border=\"1\" class=\"dataframe\">\n",
       "  <thead>\n",
       "    <tr style=\"text-align: right;\">\n",
       "      <th></th>\n",
       "      <th>AverageTemperature</th>\n",
       "      <th>State</th>\n",
       "    </tr>\n",
       "  </thead>\n",
       "  <tbody>\n",
       "    <tr>\n",
       "      <th>7458</th>\n",
       "      <td>10.722</td>\n",
       "      <td>Alabama</td>\n",
       "    </tr>\n",
       "    <tr>\n",
       "      <th>7463</th>\n",
       "      <td>19.075</td>\n",
       "      <td>Alabama</td>\n",
       "    </tr>\n",
       "    <tr>\n",
       "      <th>7464</th>\n",
       "      <td>21.197</td>\n",
       "      <td>Alabama</td>\n",
       "    </tr>\n",
       "    <tr>\n",
       "      <th>7465</th>\n",
       "      <td>25.290</td>\n",
       "      <td>Alabama</td>\n",
       "    </tr>\n",
       "    <tr>\n",
       "      <th>7466</th>\n",
       "      <td>26.420</td>\n",
       "      <td>Alabama</td>\n",
       "    </tr>\n",
       "  </tbody>\n",
       "</table>\n",
       "</div>"
      ],
      "text/plain": [
       "      AverageTemperature    State\n",
       "7458              10.722  Alabama\n",
       "7463              19.075  Alabama\n",
       "7464              21.197  Alabama\n",
       "7465              25.290  Alabama\n",
       "7466              26.420  Alabama"
      ]
     },
     "execution_count": 69,
     "metadata": {},
     "output_type": "execute_result"
    }
   ],
   "source": [
    "USA.head()"
   ]
  },
  {
   "cell_type": "code",
   "execution_count": 70,
   "id": "smoking-salvation",
   "metadata": {
    "execution": {
     "iopub.execute_input": "2021-06-13T15:29:06.600647Z",
     "iopub.status.busy": "2021-06-13T15:29:06.599901Z",
     "iopub.status.idle": "2021-06-13T15:29:06.607476Z",
     "shell.execute_reply": "2021-06-13T15:29:06.607079Z",
     "shell.execute_reply.started": "2021-06-13T15:08:07.921169Z"
    },
    "papermill": {
     "duration": 0.147256,
     "end_time": "2021-06-13T15:29:06.607591",
     "exception": false,
     "start_time": "2021-06-13T15:29:06.460335",
     "status": "completed"
    },
    "tags": []
   },
   "outputs": [],
   "source": [
    "USA_temp=USA.groupby('State')['AverageTemperature'].mean().reset_index()"
   ]
  },
  {
   "cell_type": "code",
   "execution_count": 71,
   "id": "noble-insulation",
   "metadata": {
    "execution": {
     "iopub.execute_input": "2021-06-13T15:29:06.874024Z",
     "iopub.status.busy": "2021-06-13T15:29:06.873446Z",
     "iopub.status.idle": "2021-06-13T15:29:06.879310Z",
     "shell.execute_reply": "2021-06-13T15:29:06.878869Z",
     "shell.execute_reply.started": "2021-06-13T15:08:07.94278Z"
    },
    "papermill": {
     "duration": 0.142407,
     "end_time": "2021-06-13T15:29:06.879420",
     "exception": false,
     "start_time": "2021-06-13T15:29:06.737013",
     "status": "completed"
    },
    "tags": []
   },
   "outputs": [
    {
     "data": {
      "text/html": [
       "<div>\n",
       "<style scoped>\n",
       "    .dataframe tbody tr th:only-of-type {\n",
       "        vertical-align: middle;\n",
       "    }\n",
       "\n",
       "    .dataframe tbody tr th {\n",
       "        vertical-align: top;\n",
       "    }\n",
       "\n",
       "    .dataframe thead th {\n",
       "        text-align: right;\n",
       "    }\n",
       "</style>\n",
       "<table border=\"1\" class=\"dataframe\">\n",
       "  <thead>\n",
       "    <tr style=\"text-align: right;\">\n",
       "      <th></th>\n",
       "      <th>State</th>\n",
       "      <th>AverageTemperature</th>\n",
       "    </tr>\n",
       "  </thead>\n",
       "  <tbody>\n",
       "    <tr>\n",
       "      <th>0</th>\n",
       "      <td>Alabama</td>\n",
       "      <td>17.066138</td>\n",
       "    </tr>\n",
       "    <tr>\n",
       "      <th>1</th>\n",
       "      <td>Alaska</td>\n",
       "      <td>-4.890738</td>\n",
       "    </tr>\n",
       "    <tr>\n",
       "      <th>2</th>\n",
       "      <td>Arizona</td>\n",
       "      <td>15.381526</td>\n",
       "    </tr>\n",
       "    <tr>\n",
       "      <th>3</th>\n",
       "      <td>Arkansas</td>\n",
       "      <td>15.573963</td>\n",
       "    </tr>\n",
       "    <tr>\n",
       "      <th>4</th>\n",
       "      <td>California</td>\n",
       "      <td>14.327677</td>\n",
       "    </tr>\n",
       "  </tbody>\n",
       "</table>\n",
       "</div>"
      ],
      "text/plain": [
       "        State  AverageTemperature\n",
       "0     Alabama           17.066138\n",
       "1      Alaska           -4.890738\n",
       "2     Arizona           15.381526\n",
       "3    Arkansas           15.573963\n",
       "4  California           14.327677"
      ]
     },
     "execution_count": 71,
     "metadata": {},
     "output_type": "execute_result"
    }
   ],
   "source": [
    "USA_temp.head()"
   ]
  },
  {
   "cell_type": "code",
   "execution_count": 72,
   "id": "frequent-browser",
   "metadata": {
    "execution": {
     "iopub.execute_input": "2021-06-13T15:29:07.168347Z",
     "iopub.status.busy": "2021-06-13T15:29:07.167754Z",
     "iopub.status.idle": "2021-06-13T15:29:07.172799Z",
     "shell.execute_reply": "2021-06-13T15:29:07.173183Z",
     "shell.execute_reply.started": "2021-06-13T15:08:07.955352Z"
    },
    "papermill": {
     "duration": 0.139284,
     "end_time": "2021-06-13T15:29:07.173320",
     "exception": false,
     "start_time": "2021-06-13T15:29:07.034036",
     "status": "completed"
    },
    "tags": []
   },
   "outputs": [
    {
     "data": {
      "text/plain": [
       "(51, 2)"
      ]
     },
     "execution_count": 72,
     "metadata": {},
     "output_type": "execute_result"
    }
   ],
   "source": [
    "USA_temp.shape"
   ]
  },
  {
   "cell_type": "code",
   "execution_count": 73,
   "id": "useful-distance",
   "metadata": {
    "execution": {
     "iopub.execute_input": "2021-06-13T15:29:07.437611Z",
     "iopub.status.busy": "2021-06-13T15:29:07.437097Z",
     "iopub.status.idle": "2021-06-13T15:29:15.202721Z",
     "shell.execute_reply": "2021-06-13T15:29:15.201363Z",
     "shell.execute_reply.started": "2021-06-13T15:08:07.966732Z"
    },
    "papermill": {
     "duration": 7.899189,
     "end_time": "2021-06-13T15:29:15.202865",
     "exception": false,
     "start_time": "2021-06-13T15:29:07.303676",
     "status": "completed"
    },
    "tags": []
   },
   "outputs": [
    {
     "name": "stdout",
     "output_type": "stream",
     "text": [
      "Collecting opencage\r\n",
      "  Downloading opencage-1.2.2-py3-none-any.whl (6.1 kB)\r\n",
      "Requirement already satisfied: six>=1.4.0 in /opt/conda/lib/python3.7/site-packages (from opencage) (1.15.0)\r\n",
      "Requirement already satisfied: pyopenssl>=0.15.1 in /opt/conda/lib/python3.7/site-packages (from opencage) (20.0.1)\r\n",
      "Collecting backoff>=1.10.0\r\n",
      "  Downloading backoff-1.10.0-py2.py3-none-any.whl (31 kB)\r\n",
      "Requirement already satisfied: Requests>=2.2.0 in /opt/conda/lib/python3.7/site-packages (from opencage) (2.25.1)\r\n",
      "Requirement already satisfied: cryptography>=3.2 in /opt/conda/lib/python3.7/site-packages (from pyopenssl>=0.15.1->opencage) (3.4.7)\r\n",
      "Requirement already satisfied: cffi>=1.12 in /opt/conda/lib/python3.7/site-packages (from cryptography>=3.2->pyopenssl>=0.15.1->opencage) (1.14.5)\r\n",
      "Requirement already satisfied: pycparser in /opt/conda/lib/python3.7/site-packages (from cffi>=1.12->cryptography>=3.2->pyopenssl>=0.15.1->opencage) (2.20)\r\n",
      "Requirement already satisfied: idna<3,>=2.5 in /opt/conda/lib/python3.7/site-packages (from Requests>=2.2.0->opencage) (2.10)\r\n",
      "Requirement already satisfied: certifi>=2017.4.17 in /opt/conda/lib/python3.7/site-packages (from Requests>=2.2.0->opencage) (2020.12.5)\r\n",
      "Requirement already satisfied: urllib3<1.27,>=1.21.1 in /opt/conda/lib/python3.7/site-packages (from Requests>=2.2.0->opencage) (1.26.4)\r\n",
      "Requirement already satisfied: chardet<5,>=3.0.2 in /opt/conda/lib/python3.7/site-packages (from Requests>=2.2.0->opencage) (4.0.0)\r\n",
      "Installing collected packages: backoff, opencage\r\n",
      "Successfully installed backoff-1.10.0 opencage-1.2.2\r\n"
     ]
    }
   ],
   "source": [
    "!pip install opencage"
   ]
  },
  {
   "cell_type": "code",
   "execution_count": 74,
   "id": "elementary-letters",
   "metadata": {
    "execution": {
     "iopub.execute_input": "2021-06-13T15:29:15.472952Z",
     "iopub.status.busy": "2021-06-13T15:29:15.472199Z",
     "iopub.status.idle": "2021-06-13T15:29:15.480365Z",
     "shell.execute_reply": "2021-06-13T15:29:15.479920Z",
     "shell.execute_reply.started": "2021-06-13T15:08:16.897306Z"
    },
    "papermill": {
     "duration": 0.145299,
     "end_time": "2021-06-13T15:29:15.480479",
     "exception": false,
     "start_time": "2021-06-13T15:29:15.335180",
     "status": "completed"
    },
    "tags": []
   },
   "outputs": [],
   "source": [
    "from opencage.geocoder import OpenCageGeocode"
   ]
  },
  {
   "cell_type": "code",
   "execution_count": 75,
   "id": "threatened-discipline",
   "metadata": {
    "execution": {
     "iopub.execute_input": "2021-06-13T15:29:15.752871Z",
     "iopub.status.busy": "2021-06-13T15:29:15.752369Z",
     "iopub.status.idle": "2021-06-13T15:29:16.019865Z",
     "shell.execute_reply": "2021-06-13T15:29:16.019300Z",
     "shell.execute_reply.started": "2021-06-13T15:08:16.909187Z"
    },
    "papermill": {
     "duration": 0.408143,
     "end_time": "2021-06-13T15:29:16.020039",
     "exception": false,
     "start_time": "2021-06-13T15:29:15.611896",
     "status": "completed"
    },
    "tags": []
   },
   "outputs": [
    {
     "name": "stdout",
     "output_type": "stream",
     "text": [
      "[{'annotations': {'DMS': {'lat': \"41° 32' 25.83312'' N\", 'lng': \"1° 55' 13.28232'' W\"}, 'MGRS': '30TWL9005499324', 'Maidenhead': 'IN91am99nr', 'Mercator': {'x': -213773.074, 'y': 5064053.763}, 'OSM': {'edit_url': 'https://www.openstreetmap.org/edit?relation=342295#map=16/41.54051/-1.92036', 'note_url': 'https://www.openstreetmap.org/note/new#map=16/41.54051/-1.92036&layers=N', 'url': 'https://www.openstreetmap.org/?mlat=41.54051&mlon=-1.92036#map=16/41.54051/-1.92036'}, 'UN_M49': {'regions': {'ES': '724', 'EUROPE': '150', 'SOUTHERN_EUROPE': '039', 'WORLD': '001'}, 'statistical_groupings': ['MEDC']}, 'callingcode': 34, 'currency': {'alternate_symbols': [], 'decimal_mark': ',', 'html_entity': '&#x20AC;', 'iso_code': 'EUR', 'iso_numeric': '978', 'name': 'Euro', 'smallest_denomination': 1, 'subunit': 'Cent', 'subunit_to_unit': 100, 'symbol': '€', 'symbol_first': 0, 'thousands_separator': '.'}, 'flag': '🇪🇸', 'geohash': 'ezqsk61xh2nts1rzhnmu', 'qibla': 106.81, 'roadinfo': {'drive_on': 'right', 'speed_in': 'km/h'}, 'sun': {'rise': {'apparent': 1623558840, 'astronomical': 1623551100, 'civil': 1623556860, 'nautical': 1623554220}, 'set': {'apparent': 1623613260, 'astronomical': 1623621060, 'civil': 1623615300, 'nautical': 1623617940}}, 'timezone': {'name': 'Europe/Madrid', 'now_in_dst': 1, 'offset_sec': 7200, 'offset_string': '+0200', 'short_name': 'CEST'}, 'what3words': {'words': 'chef.digestion.uncertainly'}, 'wikidata': 'Q1651278'}, 'bounds': {'northeast': {'lat': 41.5884894, 'lng': -1.8518804}, 'southwest': {'lat': 41.4814541, 'lng': -1.9811115}}, 'components': {'ISO_3166-1_alpha-2': 'ES', 'ISO_3166-1_alpha-3': 'ESP', '_category': 'place', '_type': 'village', 'continent': 'Europe', 'country': 'Spain', 'country_code': 'es', 'municipality': 'Comunidad de Calatayud', 'political_union': 'European Union', 'province': 'Zaragoza', 'state': 'Aragon', 'state_code': 'AR', 'village': 'Bijuesca'}, 'confidence': 6, 'formatted': 'Bijuesca, Aragon, Spain', 'geometry': {'lat': 41.5405092, 'lng': -1.9203562}}, {'annotations': {'DMS': {'lat': \"41° 29' 41.35524'' N\", 'lng': \"1° 49' 21.58032'' W\"}, 'MGRS': '30TWL9827294358', 'Maidenhead': 'IN91cl18gs', 'Mercator': {'x': -202897.717, 'y': 5057286.692}, 'OSM': {'edit_url': 'https://www.openstreetmap.org/edit?node=1242125047#map=16/41.49482/-1.82266', 'note_url': 'https://www.openstreetmap.org/note/new#map=16/41.49482/-1.82266&layers=N', 'url': 'https://www.openstreetmap.org/?mlat=41.49482&mlon=-1.82266#map=16/41.49482/-1.82266'}, 'UN_M49': {'regions': {'ES': '724', 'EUROPE': '150', 'SOUTHERN_EUROPE': '039', 'WORLD': '001'}, 'statistical_groupings': ['MEDC']}, 'callingcode': 34, 'currency': {'alternate_symbols': [], 'decimal_mark': ',', 'html_entity': '&#x20AC;', 'iso_code': 'EUR', 'iso_numeric': '978', 'name': 'Euro', 'smallest_denomination': 1, 'subunit': 'Cent', 'subunit_to_unit': 100, 'symbol': '€', 'symbol_first': 0, 'thousands_separator': '.'}, 'flag': '🇪🇸', 'geohash': 'ezqsn9bubgm21xpcundt', 'qibla': 106.84, 'roadinfo': {'drive_on': 'right', 'speed_in': 'km/h'}, 'sun': {'rise': {'apparent': 1623558840, 'astronomical': 1623551100, 'civil': 1623556800, 'nautical': 1623554220}, 'set': {'apparent': 1623613260, 'astronomical': 1623621000, 'civil': 1623615300, 'nautical': 1623617880}}, 'timezone': {'name': 'Europe/Madrid', 'now_in_dst': 1, 'offset_sec': 7200, 'offset_string': '+0200', 'short_name': 'CEST'}, 'what3words': {'words': 'selfishly.adverb.detours'}}, 'bounds': {'northeast': {'lat': 41.5048209, 'lng': -1.8126612}, 'southwest': {'lat': 41.4848209, 'lng': -1.8326612}}, 'components': {'ISO_3166-1_alpha-2': 'ES', 'ISO_3166-1_alpha-3': 'ESP', '_category': 'place', '_type': 'hamlet', 'continent': 'Europe', 'country': 'Spain', 'country_code': 'es', 'locality': 'Bijuesca', 'municipality': 'Comunidad de Calatayud', 'political_union': 'European Union', 'province': 'Zaragoza', 'state': 'Aragon', 'state_code': 'AR', 'village': 'Villarroya de la Sierra'}, 'confidence': 8, 'formatted': 'Villarroya de la Sierra, Aragon, Spain', 'geometry': {'lat': 41.4948209, 'lng': -1.8226612}}]\n"
     ]
    }
   ],
   "source": [
    "key = '5ca89e8267cb476a88cd247f5d0dc35d'\n",
    "geocoder = OpenCageGeocode(key)\n",
    "query = 'Bijuesca, Spain'  \n",
    "results = geocoder.geocode(query)\n",
    "print (results)"
   ]
  },
  {
   "cell_type": "code",
   "execution_count": 76,
   "id": "bigger-mercy",
   "metadata": {
    "execution": {
     "iopub.execute_input": "2021-06-13T15:29:16.291877Z",
     "iopub.status.busy": "2021-06-13T15:29:16.291257Z",
     "iopub.status.idle": "2021-06-13T15:29:16.294417Z",
     "shell.execute_reply": "2021-06-13T15:29:16.294949Z",
     "shell.execute_reply.started": "2021-06-13T15:08:18.035189Z"
    },
    "papermill": {
     "duration": 0.14022,
     "end_time": "2021-06-13T15:29:16.295143",
     "exception": false,
     "start_time": "2021-06-13T15:29:16.154923",
     "status": "completed"
    },
    "tags": []
   },
   "outputs": [
    {
     "name": "stdout",
     "output_type": "stream",
     "text": [
      "41.5405092 -1.9203562\n"
     ]
    }
   ],
   "source": [
    "lat = results[0]['geometry']['lat']\n",
    "lon = results[0]['geometry']['lng']\n",
    "print (lat, lon)"
   ]
  },
  {
   "cell_type": "code",
   "execution_count": 77,
   "id": "excited-latvia",
   "metadata": {
    "execution": {
     "iopub.execute_input": "2021-06-13T15:29:16.570510Z",
     "iopub.status.busy": "2021-06-13T15:29:16.569980Z",
     "iopub.status.idle": "2021-06-13T15:29:39.848261Z",
     "shell.execute_reply": "2021-06-13T15:29:39.847290Z",
     "shell.execute_reply.started": "2021-06-13T15:08:18.041355Z"
    },
    "papermill": {
     "duration": 23.418405,
     "end_time": "2021-06-13T15:29:39.848413",
     "exception": false,
     "start_time": "2021-06-13T15:29:16.430008",
     "status": "completed"
    },
    "tags": []
   },
   "outputs": [],
   "source": [
    "list_lat=[]\n",
    "list_long=[]\n",
    "for state in USA_temp['State']:\n",
    "    results=geocoder.geocode(state)\n",
    "    lat = results[0]['geometry']['lat']\n",
    "    lon = results[0]['geometry']['lng']\n",
    "    \n",
    "    list_lat.append(lat)\n",
    "    list_long.append(lon)"
   ]
  },
  {
   "cell_type": "code",
   "execution_count": 78,
   "id": "posted-supervisor",
   "metadata": {
    "execution": {
     "iopub.execute_input": "2021-06-13T15:29:40.125243Z",
     "iopub.status.busy": "2021-06-13T15:29:40.124343Z",
     "iopub.status.idle": "2021-06-13T15:29:40.126886Z",
     "shell.execute_reply": "2021-06-13T15:29:40.126487Z",
     "shell.execute_reply.started": "2021-06-13T15:09:22.600568Z"
    },
    "papermill": {
     "duration": 0.142877,
     "end_time": "2021-06-13T15:29:40.127020",
     "exception": false,
     "start_time": "2021-06-13T15:29:39.984143",
     "status": "completed"
    },
    "tags": []
   },
   "outputs": [],
   "source": [
    "USA_temp['lat']=list_lat\n",
    "USA_temp['lon']=list_long"
   ]
  },
  {
   "cell_type": "code",
   "execution_count": 79,
   "id": "respective-groove",
   "metadata": {
    "execution": {
     "iopub.execute_input": "2021-06-13T15:29:40.407497Z",
     "iopub.status.busy": "2021-06-13T15:29:40.406666Z",
     "iopub.status.idle": "2021-06-13T15:29:40.410353Z",
     "shell.execute_reply": "2021-06-13T15:29:40.409923Z",
     "shell.execute_reply.started": "2021-06-13T15:09:22.608311Z"
    },
    "papermill": {
     "duration": 0.14825,
     "end_time": "2021-06-13T15:29:40.410471",
     "exception": false,
     "start_time": "2021-06-13T15:29:40.262221",
     "status": "completed"
    },
    "tags": []
   },
   "outputs": [
    {
     "data": {
      "text/html": [
       "<div>\n",
       "<style scoped>\n",
       "    .dataframe tbody tr th:only-of-type {\n",
       "        vertical-align: middle;\n",
       "    }\n",
       "\n",
       "    .dataframe tbody tr th {\n",
       "        vertical-align: top;\n",
       "    }\n",
       "\n",
       "    .dataframe thead th {\n",
       "        text-align: right;\n",
       "    }\n",
       "</style>\n",
       "<table border=\"1\" class=\"dataframe\">\n",
       "  <thead>\n",
       "    <tr style=\"text-align: right;\">\n",
       "      <th></th>\n",
       "      <th>State</th>\n",
       "      <th>AverageTemperature</th>\n",
       "      <th>lat</th>\n",
       "      <th>lon</th>\n",
       "    </tr>\n",
       "  </thead>\n",
       "  <tbody>\n",
       "    <tr>\n",
       "      <th>0</th>\n",
       "      <td>Alabama</td>\n",
       "      <td>17.066138</td>\n",
       "      <td>33.258882</td>\n",
       "      <td>-86.829534</td>\n",
       "    </tr>\n",
       "    <tr>\n",
       "      <th>1</th>\n",
       "      <td>Alaska</td>\n",
       "      <td>-4.890738</td>\n",
       "      <td>64.445961</td>\n",
       "      <td>-149.680909</td>\n",
       "    </tr>\n",
       "    <tr>\n",
       "      <th>2</th>\n",
       "      <td>Arizona</td>\n",
       "      <td>15.381526</td>\n",
       "      <td>34.395342</td>\n",
       "      <td>-111.763275</td>\n",
       "    </tr>\n",
       "    <tr>\n",
       "      <th>3</th>\n",
       "      <td>Arkansas</td>\n",
       "      <td>15.573963</td>\n",
       "      <td>35.204888</td>\n",
       "      <td>-92.447911</td>\n",
       "    </tr>\n",
       "    <tr>\n",
       "      <th>4</th>\n",
       "      <td>California</td>\n",
       "      <td>14.327677</td>\n",
       "      <td>36.701463</td>\n",
       "      <td>-118.755997</td>\n",
       "    </tr>\n",
       "  </tbody>\n",
       "</table>\n",
       "</div>"
      ],
      "text/plain": [
       "        State  AverageTemperature        lat         lon\n",
       "0     Alabama           17.066138  33.258882  -86.829534\n",
       "1      Alaska           -4.890738  64.445961 -149.680909\n",
       "2     Arizona           15.381526  34.395342 -111.763275\n",
       "3    Arkansas           15.573963  35.204888  -92.447911\n",
       "4  California           14.327677  36.701463 -118.755997"
      ]
     },
     "execution_count": 79,
     "metadata": {},
     "output_type": "execute_result"
    }
   ],
   "source": [
    "USA_temp.head()"
   ]
  },
  {
   "cell_type": "code",
   "execution_count": 80,
   "id": "ambient-listening",
   "metadata": {
    "execution": {
     "iopub.execute_input": "2021-06-13T15:29:40.721453Z",
     "iopub.status.busy": "2021-06-13T15:29:40.720744Z",
     "iopub.status.idle": "2021-06-13T15:29:41.058845Z",
     "shell.execute_reply": "2021-06-13T15:29:41.058372Z",
     "shell.execute_reply.started": "2021-06-13T15:09:22.633321Z"
    },
    "papermill": {
     "duration": 0.478025,
     "end_time": "2021-06-13T15:29:41.059003",
     "exception": false,
     "start_time": "2021-06-13T15:29:40.580978",
     "status": "completed"
    },
    "tags": []
   },
   "outputs": [],
   "source": [
    "import folium\n",
    "from folium.plugins import HeatMap\n",
    "basemap=folium.Map()"
   ]
  },
  {
   "cell_type": "code",
   "execution_count": 81,
   "id": "amino-agreement",
   "metadata": {
    "execution": {
     "iopub.execute_input": "2021-06-13T15:29:41.343162Z",
     "iopub.status.busy": "2021-06-13T15:29:41.342215Z",
     "iopub.status.idle": "2021-06-13T15:29:41.346617Z",
     "shell.execute_reply": "2021-06-13T15:29:41.346207Z",
     "shell.execute_reply.started": "2021-06-13T15:09:23.005651Z"
    },
    "papermill": {
     "duration": 0.151648,
     "end_time": "2021-06-13T15:29:41.346729",
     "exception": false,
     "start_time": "2021-06-13T15:29:41.195081",
     "status": "completed"
    },
    "tags": []
   },
   "outputs": [
    {
     "data": {
      "text/html": [
       "<div style=\"width:100%;\"><div style=\"position:relative;width:100%;height:0;padding-bottom:60%;\"><span style=\"color:#565656\">Make this Notebook Trusted to load map: File -> Trust Notebook</span><iframe src=\"about:blank\" style=\"position:absolute;width:100%;height:100%;left:0;top:0;border:none !important;\" data-html=%3C%21DOCTYPE%20html%3E%0A%3Chead%3E%20%20%20%20%0A%20%20%20%20%3Cmeta%20http-equiv%3D%22content-type%22%20content%3D%22text/html%3B%20charset%3DUTF-8%22%20/%3E%0A%20%20%20%20%0A%20%20%20%20%20%20%20%20%3Cscript%3E%0A%20%20%20%20%20%20%20%20%20%20%20%20L_NO_TOUCH%20%3D%20false%3B%0A%20%20%20%20%20%20%20%20%20%20%20%20L_DISABLE_3D%20%3D%20false%3B%0A%20%20%20%20%20%20%20%20%3C/script%3E%0A%20%20%20%20%0A%20%20%20%20%3Cstyle%3Ehtml%2C%20body%20%7Bwidth%3A%20100%25%3Bheight%3A%20100%25%3Bmargin%3A%200%3Bpadding%3A%200%3B%7D%3C/style%3E%0A%20%20%20%20%3Cstyle%3E%23map%20%7Bposition%3Aabsolute%3Btop%3A0%3Bbottom%3A0%3Bright%3A0%3Bleft%3A0%3B%7D%3C/style%3E%0A%20%20%20%20%3Cscript%20src%3D%22https%3A//cdn.jsdelivr.net/npm/leaflet%401.6.0/dist/leaflet.js%22%3E%3C/script%3E%0A%20%20%20%20%3Cscript%20src%3D%22https%3A//code.jquery.com/jquery-1.12.4.min.js%22%3E%3C/script%3E%0A%20%20%20%20%3Cscript%20src%3D%22https%3A//maxcdn.bootstrapcdn.com/bootstrap/3.2.0/js/bootstrap.min.js%22%3E%3C/script%3E%0A%20%20%20%20%3Cscript%20src%3D%22https%3A//cdnjs.cloudflare.com/ajax/libs/Leaflet.awesome-markers/2.0.2/leaflet.awesome-markers.js%22%3E%3C/script%3E%0A%20%20%20%20%3Clink%20rel%3D%22stylesheet%22%20href%3D%22https%3A//cdn.jsdelivr.net/npm/leaflet%401.6.0/dist/leaflet.css%22/%3E%0A%20%20%20%20%3Clink%20rel%3D%22stylesheet%22%20href%3D%22https%3A//maxcdn.bootstrapcdn.com/bootstrap/3.2.0/css/bootstrap.min.css%22/%3E%0A%20%20%20%20%3Clink%20rel%3D%22stylesheet%22%20href%3D%22https%3A//maxcdn.bootstrapcdn.com/bootstrap/3.2.0/css/bootstrap-theme.min.css%22/%3E%0A%20%20%20%20%3Clink%20rel%3D%22stylesheet%22%20href%3D%22https%3A//maxcdn.bootstrapcdn.com/font-awesome/4.6.3/css/font-awesome.min.css%22/%3E%0A%20%20%20%20%3Clink%20rel%3D%22stylesheet%22%20href%3D%22https%3A//cdnjs.cloudflare.com/ajax/libs/Leaflet.awesome-markers/2.0.2/leaflet.awesome-markers.css%22/%3E%0A%20%20%20%20%3Clink%20rel%3D%22stylesheet%22%20href%3D%22https%3A//cdn.jsdelivr.net/gh/python-visualization/folium/folium/templates/leaflet.awesome.rotate.min.css%22/%3E%0A%20%20%20%20%0A%20%20%20%20%20%20%20%20%20%20%20%20%3Cmeta%20name%3D%22viewport%22%20content%3D%22width%3Ddevice-width%2C%0A%20%20%20%20%20%20%20%20%20%20%20%20%20%20%20%20initial-scale%3D1.0%2C%20maximum-scale%3D1.0%2C%20user-scalable%3Dno%22%20/%3E%0A%20%20%20%20%20%20%20%20%20%20%20%20%3Cstyle%3E%0A%20%20%20%20%20%20%20%20%20%20%20%20%20%20%20%20%23map_e7ac7f104a624b778bcd103bbb50ad48%20%7B%0A%20%20%20%20%20%20%20%20%20%20%20%20%20%20%20%20%20%20%20%20position%3A%20relative%3B%0A%20%20%20%20%20%20%20%20%20%20%20%20%20%20%20%20%20%20%20%20width%3A%20100.0%25%3B%0A%20%20%20%20%20%20%20%20%20%20%20%20%20%20%20%20%20%20%20%20height%3A%20100.0%25%3B%0A%20%20%20%20%20%20%20%20%20%20%20%20%20%20%20%20%20%20%20%20left%3A%200.0%25%3B%0A%20%20%20%20%20%20%20%20%20%20%20%20%20%20%20%20%20%20%20%20top%3A%200.0%25%3B%0A%20%20%20%20%20%20%20%20%20%20%20%20%20%20%20%20%7D%0A%20%20%20%20%20%20%20%20%20%20%20%20%3C/style%3E%0A%20%20%20%20%20%20%20%20%0A%20%20%20%20%3Cscript%20src%3D%22https%3A//cdn.jsdelivr.net/gh/python-visualization/folium%40master/folium/templates/leaflet_heat.min.js%22%3E%3C/script%3E%0A%3C/head%3E%0A%3Cbody%3E%20%20%20%20%0A%20%20%20%20%0A%20%20%20%20%20%20%20%20%20%20%20%20%3Cdiv%20class%3D%22folium-map%22%20id%3D%22map_e7ac7f104a624b778bcd103bbb50ad48%22%20%3E%3C/div%3E%0A%20%20%20%20%20%20%20%20%0A%3C/body%3E%0A%3Cscript%3E%20%20%20%20%0A%20%20%20%20%0A%20%20%20%20%20%20%20%20%20%20%20%20var%20map_e7ac7f104a624b778bcd103bbb50ad48%20%3D%20L.map%28%0A%20%20%20%20%20%20%20%20%20%20%20%20%20%20%20%20%22map_e7ac7f104a624b778bcd103bbb50ad48%22%2C%0A%20%20%20%20%20%20%20%20%20%20%20%20%20%20%20%20%7B%0A%20%20%20%20%20%20%20%20%20%20%20%20%20%20%20%20%20%20%20%20center%3A%20%5B0%2C%200%5D%2C%0A%20%20%20%20%20%20%20%20%20%20%20%20%20%20%20%20%20%20%20%20crs%3A%20L.CRS.EPSG3857%2C%0A%20%20%20%20%20%20%20%20%20%20%20%20%20%20%20%20%20%20%20%20zoom%3A%201%2C%0A%20%20%20%20%20%20%20%20%20%20%20%20%20%20%20%20%20%20%20%20zoomControl%3A%20true%2C%0A%20%20%20%20%20%20%20%20%20%20%20%20%20%20%20%20%20%20%20%20preferCanvas%3A%20false%2C%0A%20%20%20%20%20%20%20%20%20%20%20%20%20%20%20%20%7D%0A%20%20%20%20%20%20%20%20%20%20%20%20%29%3B%0A%0A%20%20%20%20%20%20%20%20%20%20%20%20%0A%0A%20%20%20%20%20%20%20%20%0A%20%20%20%20%0A%20%20%20%20%20%20%20%20%20%20%20%20var%20tile_layer_0af094d51bd84b1f89dd15eee97c01dc%20%3D%20L.tileLayer%28%0A%20%20%20%20%20%20%20%20%20%20%20%20%20%20%20%20%22https%3A//%7Bs%7D.tile.openstreetmap.org/%7Bz%7D/%7Bx%7D/%7By%7D.png%22%2C%0A%20%20%20%20%20%20%20%20%20%20%20%20%20%20%20%20%7B%22attribution%22%3A%20%22Data%20by%20%5Cu0026copy%3B%20%5Cu003ca%20href%3D%5C%22http%3A//openstreetmap.org%5C%22%5Cu003eOpenStreetMap%5Cu003c/a%5Cu003e%2C%20under%20%5Cu003ca%20href%3D%5C%22http%3A//www.openstreetmap.org/copyright%5C%22%5Cu003eODbL%5Cu003c/a%5Cu003e.%22%2C%20%22detectRetina%22%3A%20false%2C%20%22maxNativeZoom%22%3A%2018%2C%20%22maxZoom%22%3A%2018%2C%20%22minZoom%22%3A%200%2C%20%22noWrap%22%3A%20false%2C%20%22opacity%22%3A%201%2C%20%22subdomains%22%3A%20%22abc%22%2C%20%22tms%22%3A%20false%7D%0A%20%20%20%20%20%20%20%20%20%20%20%20%29.addTo%28map_e7ac7f104a624b778bcd103bbb50ad48%29%3B%0A%20%20%20%20%20%20%20%20%0A%20%20%20%20%0A%20%20%20%20%20%20%20%20%20%20%20%20var%20heat_map_c3fa2b8a12be4222922e77207481a230%20%3D%20L.heatLayer%28%0A%20%20%20%20%20%20%20%20%20%20%20%20%20%20%20%20%5B%5B33.2588817%2C%20-86.8295337%2C%2017.066137864700252%5D%2C%20%5B64.4459613%2C%20-149.680909%2C%20-4.890737575476071%5D%2C%20%5B34.395342%2C%20-111.763275%2C%2015.381526119403008%5D%2C%20%5B35.2048883%2C%20-92.4479108%2C%2015.57396253007904%5D%2C%20%5B36.7014631%2C%20-118.755997%2C%2014.327677288821446%5D%2C%20%5B38.7251776%2C%20-105.607716%2C%206.9313339070567945%5D%2C%20%5B2.8894434%2C%20-73.783892%2C%2011.918474511061234%5D%2C%20%5B41.6500201%2C%20-72.7342163%2C%209.02007951266429%5D%2C%20%5B38.6920451%2C%20-75.4013315%2C%2011.895237576146188%5D%2C%20%5B27.7567667%2C%20-81.4639835%2C%2021.501561590688663%5D%2C%20%5B41.6809707%2C%2044.0287382%2C%2017.52708207758899%5D%2C%20%5B19.5872677%2C%20-155.4268897%2C%2022.43928270580731%5D%2C%20%5B43.6447642%2C%20-114.015407%2C%205.334255048287974%5D%2C%20%5B40.0796606%2C%20-89.4337288%2C%2010.866111747850992%5D%2C%20%5B40.3270127%2C%20-86.1746933%2C%2010.874955755049672%5D%2C%20%5B41.9216734%2C%20-93.3122705%2C%208.6478077045527%5D%2C%20%5B38.27312%2C%20-98.5821872%2C%2012.16564786462533%5D%2C%20%5B37.5726028%2C%20-85.1551411%2C%2012.950794485411993%5D%2C%20%5B30.8703881%2C%20-92.007126%2C%2019.128862385321064%5D%2C%20%5B45.709097%2C%20-68.8590201%2C%204.349941968579668%5D%2C%20%5B39.5162234%2C%20-76.9382069%2C%2012.137859249759547%5D%2C%20%5B42.3788774%2C%20-72.032366%2C%207.6252263546008505%5D%2C%20%5B43.6211955%2C%20-84.6824346%2C%206.555493155046176%5D%2C%20%5B45.9896587%2C%20-94.6113288%2C%204.472812480101877%5D%2C%20%5B32.9715645%2C%20-89.7348497%2C%2017.53740701271916%5D%2C%20%5B38.7604815%2C%20-92.5617875%2C%2012.301072779737083%5D%2C%20%5B47.3752671%2C%20-109.638757%2C%204.986482028754004%5D%2C%20%5B41.7370229%2C%20-99.5873816%2C%209.016576677316309%5D%2C%20%5B39.5158825%2C%20-116.8537227%2C%209.814444803695169%5D%2C%20%5B43.4849133%2C%20-71.6553992%2C%205.612321898044246%5D%2C%20%5B40.0757384%2C%20-74.4041622%2C%2010.625895479320274%5D%2C%20%5B34.5708167%2C%20-105.993007%2C%2011.857086825053994%5D%2C%20%5B40.7127281%2C%20-74.0060152%2C%207.1836184674575305%5D%2C%20%5B35.6729639%2C%20-79.0392919%2C%2014.780251683231803%5D%2C%20%5B47.6201461%2C%20-100.540737%2C%204.169714856230027%5D%2C%20%5B40.2253569%2C%20-82.6881395%2C%2010.320151651170251%5D%2C%20%5B34.9550817%2C%20-97.2684063%2C%2015.381547314578036%5D%2C%20%5B43.9792797%2C%20-120.737257%2C%208.165825389550873%5D%2C%20%5B40.9699889%2C%20-77.7278831%2C%209.110052260339849%5D%2C%20%5B41.7962409%2C%20-71.5992372%2C%208.97309907021482%5D%2C%20%5B33.6874388%2C%20-80.4363743%2C%2017.03475697338892%5D%2C%20%5B44.6471761%2C%20-100.348761%2C%206.947362619808291%5D%2C%20%5B35.7730076%2C%20-86.2820081%2C%2014.056290157101639%5D%2C%20%5B31.8160381%2C%20-99.5120986%2C%2018.1072339784946%5D%2C%20%5B39.4225192%2C%20-111.714358%2C%208.478840671811168%5D%2C%20%5B44.5990718%2C%20-72.5002608%2C%205.398153895479319%5D%2C%20%5B37.1232245%2C%20-78.4927721%2C%2012.804781660788692%5D%2C%20%5B38.8950368%2C%20-77.0365427%2C%207.643112282309806%5D%2C%20%5B38.4758406%2C%20-80.8408415%2C%2010.950278294325091%5D%2C%20%5B44.4308975%2C%20-89.6884637%2C%205.946672397325695%5D%2C%20%5B43.1700264%2C%20-107.568534%2C%205.099001659062634%5D%5D%2C%0A%20%20%20%20%20%20%20%20%20%20%20%20%20%20%20%20%7B%22blur%22%3A%2015%2C%20%22maxZoom%22%3A%2018%2C%20%22minOpacity%22%3A%200.5%2C%20%22radius%22%3A%2025%7D%0A%20%20%20%20%20%20%20%20%20%20%20%20%29.addTo%28map_e7ac7f104a624b778bcd103bbb50ad48%29%3B%0A%20%20%20%20%20%20%20%20%0A%3C/script%3E onload=\"this.contentDocument.open();this.contentDocument.write(    decodeURIComponent(this.getAttribute('data-html')));this.contentDocument.close();\" allowfullscreen webkitallowfullscreen mozallowfullscreen></iframe></div></div>"
      ],
      "text/plain": [
       "<folium.folium.Map at 0x7f6de1201f50>"
      ]
     },
     "execution_count": 81,
     "metadata": {},
     "output_type": "execute_result"
    }
   ],
   "source": [
    "HeatMap(USA_temp[['lat','lon','AverageTemperature']]).add_to(basemap)\n",
    "basemap"
   ]
  },
  {
   "cell_type": "markdown",
   "id": "informed-constitution",
   "metadata": {
    "papermill": {
     "duration": 0.133997,
     "end_time": "2021-06-13T15:29:41.617135",
     "exception": false,
     "start_time": "2021-06-13T15:29:41.483138",
     "status": "completed"
    },
    "tags": []
   },
   "source": [
    "# Analyse on Average Temperature of Major Cities in India By Month"
   ]
  },
  {
   "cell_type": "code",
   "execution_count": 82,
   "id": "productive-myanmar",
   "metadata": {
    "execution": {
     "iopub.execute_input": "2021-06-13T15:29:41.897031Z",
     "iopub.status.busy": "2021-06-13T15:29:41.896254Z",
     "iopub.status.idle": "2021-06-13T15:29:48.925542Z",
     "shell.execute_reply": "2021-06-13T15:29:48.925048Z",
     "shell.execute_reply.started": "2021-06-13T15:09:23.020898Z"
    },
    "papermill": {
     "duration": 7.172245,
     "end_time": "2021-06-13T15:29:48.925677",
     "exception": false,
     "start_time": "2021-06-13T15:29:41.753432",
     "status": "completed"
    },
    "tags": []
   },
   "outputs": [],
   "source": [
    "cities=pd.read_csv('../input/global-climate-change/GlobalLandTemperaturesByCity.csv')"
   ]
  },
  {
   "cell_type": "code",
   "execution_count": 83,
   "id": "nonprofit-tissue",
   "metadata": {
    "execution": {
     "iopub.execute_input": "2021-06-13T15:29:49.207161Z",
     "iopub.status.busy": "2021-06-13T15:29:49.206421Z",
     "iopub.status.idle": "2021-06-13T15:29:49.209513Z",
     "shell.execute_reply": "2021-06-13T15:29:49.209875Z",
     "shell.execute_reply.started": "2021-06-13T15:09:30.621094Z"
    },
    "papermill": {
     "duration": 0.14971,
     "end_time": "2021-06-13T15:29:49.210025",
     "exception": false,
     "start_time": "2021-06-13T15:29:49.060315",
     "status": "completed"
    },
    "tags": []
   },
   "outputs": [
    {
     "data": {
      "text/html": [
       "<div>\n",
       "<style scoped>\n",
       "    .dataframe tbody tr th:only-of-type {\n",
       "        vertical-align: middle;\n",
       "    }\n",
       "\n",
       "    .dataframe tbody tr th {\n",
       "        vertical-align: top;\n",
       "    }\n",
       "\n",
       "    .dataframe thead th {\n",
       "        text-align: right;\n",
       "    }\n",
       "</style>\n",
       "<table border=\"1\" class=\"dataframe\">\n",
       "  <thead>\n",
       "    <tr style=\"text-align: right;\">\n",
       "      <th></th>\n",
       "      <th>dt</th>\n",
       "      <th>AverageTemperature</th>\n",
       "      <th>AverageTemperatureUncertainty</th>\n",
       "      <th>City</th>\n",
       "      <th>Country</th>\n",
       "      <th>Latitude</th>\n",
       "      <th>Longitude</th>\n",
       "    </tr>\n",
       "  </thead>\n",
       "  <tbody>\n",
       "    <tr>\n",
       "      <th>0</th>\n",
       "      <td>1743-11-01</td>\n",
       "      <td>6.068</td>\n",
       "      <td>1.737</td>\n",
       "      <td>Århus</td>\n",
       "      <td>Denmark</td>\n",
       "      <td>57.05N</td>\n",
       "      <td>10.33E</td>\n",
       "    </tr>\n",
       "    <tr>\n",
       "      <th>1</th>\n",
       "      <td>1743-12-01</td>\n",
       "      <td>NaN</td>\n",
       "      <td>NaN</td>\n",
       "      <td>Århus</td>\n",
       "      <td>Denmark</td>\n",
       "      <td>57.05N</td>\n",
       "      <td>10.33E</td>\n",
       "    </tr>\n",
       "    <tr>\n",
       "      <th>2</th>\n",
       "      <td>1744-01-01</td>\n",
       "      <td>NaN</td>\n",
       "      <td>NaN</td>\n",
       "      <td>Århus</td>\n",
       "      <td>Denmark</td>\n",
       "      <td>57.05N</td>\n",
       "      <td>10.33E</td>\n",
       "    </tr>\n",
       "    <tr>\n",
       "      <th>3</th>\n",
       "      <td>1744-02-01</td>\n",
       "      <td>NaN</td>\n",
       "      <td>NaN</td>\n",
       "      <td>Århus</td>\n",
       "      <td>Denmark</td>\n",
       "      <td>57.05N</td>\n",
       "      <td>10.33E</td>\n",
       "    </tr>\n",
       "    <tr>\n",
       "      <th>4</th>\n",
       "      <td>1744-03-01</td>\n",
       "      <td>NaN</td>\n",
       "      <td>NaN</td>\n",
       "      <td>Århus</td>\n",
       "      <td>Denmark</td>\n",
       "      <td>57.05N</td>\n",
       "      <td>10.33E</td>\n",
       "    </tr>\n",
       "  </tbody>\n",
       "</table>\n",
       "</div>"
      ],
      "text/plain": [
       "           dt  AverageTemperature  AverageTemperatureUncertainty   City  \\\n",
       "0  1743-11-01               6.068                          1.737  Århus   \n",
       "1  1743-12-01                 NaN                            NaN  Århus   \n",
       "2  1744-01-01                 NaN                            NaN  Århus   \n",
       "3  1744-02-01                 NaN                            NaN  Århus   \n",
       "4  1744-03-01                 NaN                            NaN  Århus   \n",
       "\n",
       "   Country Latitude Longitude  \n",
       "0  Denmark   57.05N    10.33E  \n",
       "1  Denmark   57.05N    10.33E  \n",
       "2  Denmark   57.05N    10.33E  \n",
       "3  Denmark   57.05N    10.33E  \n",
       "4  Denmark   57.05N    10.33E  "
      ]
     },
     "execution_count": 83,
     "metadata": {},
     "output_type": "execute_result"
    }
   ],
   "source": [
    "cities.head()"
   ]
  },
  {
   "cell_type": "code",
   "execution_count": 84,
   "id": "brown-first",
   "metadata": {
    "execution": {
     "iopub.execute_input": "2021-06-13T15:29:49.485432Z",
     "iopub.status.busy": "2021-06-13T15:29:49.484740Z",
     "iopub.status.idle": "2021-06-13T15:29:49.488211Z",
     "shell.execute_reply": "2021-06-13T15:29:49.487753Z",
     "shell.execute_reply.started": "2021-06-13T15:09:30.637584Z"
    },
    "papermill": {
     "duration": 0.14096,
     "end_time": "2021-06-13T15:29:49.488318",
     "exception": false,
     "start_time": "2021-06-13T15:29:49.347358",
     "status": "completed"
    },
    "tags": []
   },
   "outputs": [
    {
     "data": {
      "text/plain": [
       "(8599212, 7)"
      ]
     },
     "execution_count": 84,
     "metadata": {},
     "output_type": "execute_result"
    }
   ],
   "source": [
    "cities.shape"
   ]
  },
  {
   "cell_type": "code",
   "execution_count": 85,
   "id": "pacific-symbol",
   "metadata": {
    "execution": {
     "iopub.execute_input": "2021-06-13T15:29:50.640279Z",
     "iopub.status.busy": "2021-06-13T15:29:50.639682Z",
     "iopub.status.idle": "2021-06-13T15:29:50.726194Z",
     "shell.execute_reply": "2021-06-13T15:29:50.725674Z",
     "shell.execute_reply.started": "2021-06-13T15:09:30.651327Z"
    },
    "papermill": {
     "duration": 1.104255,
     "end_time": "2021-06-13T15:29:50.726347",
     "exception": false,
     "start_time": "2021-06-13T15:29:49.622092",
     "status": "completed"
    },
    "tags": []
   },
   "outputs": [],
   "source": [
    "India=cities[cities['Country']=='India']"
   ]
  },
  {
   "cell_type": "code",
   "execution_count": 86,
   "id": "behavioral-threat",
   "metadata": {
    "execution": {
     "iopub.execute_input": "2021-06-13T15:29:51.001594Z",
     "iopub.status.busy": "2021-06-13T15:29:51.000913Z",
     "iopub.status.idle": "2021-06-13T15:29:51.004291Z",
     "shell.execute_reply": "2021-06-13T15:29:51.003842Z",
     "shell.execute_reply.started": "2021-06-13T15:09:31.236565Z"
    },
    "papermill": {
     "duration": 0.142216,
     "end_time": "2021-06-13T15:29:51.004405",
     "exception": false,
     "start_time": "2021-06-13T15:29:50.862189",
     "status": "completed"
    },
    "tags": []
   },
   "outputs": [
    {
     "data": {
      "text/plain": [
       "(1014906, 7)"
      ]
     },
     "execution_count": 86,
     "metadata": {},
     "output_type": "execute_result"
    }
   ],
   "source": [
    "India.shape"
   ]
  },
  {
   "cell_type": "code",
   "execution_count": 87,
   "id": "tight-elite",
   "metadata": {
    "execution": {
     "iopub.execute_input": "2021-06-13T15:29:51.322920Z",
     "iopub.status.busy": "2021-06-13T15:29:51.322217Z",
     "iopub.status.idle": "2021-06-13T15:29:51.340268Z",
     "shell.execute_reply": "2021-06-13T15:29:51.339850Z",
     "shell.execute_reply.started": "2021-06-13T15:09:31.246787Z"
    },
    "papermill": {
     "duration": 0.201564,
     "end_time": "2021-06-13T15:29:51.340392",
     "exception": false,
     "start_time": "2021-06-13T15:29:51.138828",
     "status": "completed"
    },
    "tags": []
   },
   "outputs": [
    {
     "data": {
      "text/plain": [
       "array(['Abohar', 'Achalpur', 'Adilabad', 'Adoni', 'Agartala', 'Agra',\n",
       "       'Ahmadabad', 'Ahmadnagar', 'Aizawl', 'Ajmer', 'Akola', 'Alandur',\n",
       "       'Alappuzha', 'Aligarh', 'Allahabad', 'Alwar', 'Ambala',\n",
       "       'Ambarnath', 'Ambattur', 'Ambur', 'Amravati', 'Amritsar', 'Amroha',\n",
       "       'Anand', 'Anantapur', 'Ara', 'Asansol', 'Aurangabad', 'Avadi',\n",
       "       'Azamgarh', 'Badlapur', 'Bagaha', 'Bahadurgarh', 'Baharampur',\n",
       "       'Bahraich', 'Baidyabati', 'Baleshwar', 'Ballia', 'Bally',\n",
       "       'Balurghat', 'Banda', 'Bangalore', 'Bangaon', 'Bankura',\n",
       "       'Bansbaria', 'Barakpur', 'Baranagar', 'Barasat', 'Barddhaman',\n",
       "       'Bareli', 'Baripada', 'Barnala', 'Barsi', 'Basirhat', 'Basti',\n",
       "       'Batala', 'Beawar', 'Begusarai', 'Belgaum', 'Bellary', 'Bettiah',\n",
       "       'Bhadravati', 'Bhadreswar', 'Bhagalpur', 'Bharatpur', 'Bharuch',\n",
       "       'Bhatpara', 'Bhavnagar', 'Bhilai', 'Bhilwara', 'Bhimavaram',\n",
       "       'Bhind', 'Bhiwandi', 'Bhiwani', 'Bhopal', 'Bhubaneswar', 'Bhuj',\n",
       "       'Bhusawal', 'Bid', 'Bidar', 'Bihar', 'Bijapur', 'Bikaner',\n",
       "       'Bilaspur', 'Bokaro', 'Bombay', 'Botad', 'Brahmapur', 'Budaun',\n",
       "       'Bulandshahr', 'Burhanpur', 'Calcutta', 'Champdani',\n",
       "       'Chandannagar', 'Chandausi', 'Chandigarh', 'Chandrapur', 'Chas',\n",
       "       'Chhapra', 'Chhatarpur', 'Chhindwara', 'Chikmagalur',\n",
       "       'Chitradurga', 'Chittaurgarh', 'Churu', 'Cuddapah', 'Damoh',\n",
       "       'Darbhanga', 'Darjiling', 'Dehra Dun', 'Dehri', 'Delhi', 'Deoria',\n",
       "       'Dewas', 'Dhanbad', 'Dharmavaram', 'Dhaulpur', 'Dhule',\n",
       "       'Dibrugarh', 'Dimapur', 'Dindigul', 'Dum Dum', 'Durg', 'Durgapur',\n",
       "       'Eluru', 'Erode', 'Etah', 'Etawah', 'Faizabad', 'Faridabad',\n",
       "       'Farrukhabad', 'Fatehpur', 'Firozabad', 'Firozpur', 'Gadag',\n",
       "       'Gandhidham', 'Gandhinagar', 'Ganganagar', 'Gangapur', 'Gangawati',\n",
       "       'Gaya', 'Ghaziabad', 'Ghazipur', 'Godhra', 'Gonda', 'Gondal',\n",
       "       'Gorakhpur', 'Gudalur', 'Gudivada', 'Gulbarga', 'Guna', 'Guntakal',\n",
       "       'Guntur', 'Gurgaon', 'Guwahati', 'Gwalior', 'Habra', 'Hajipur',\n",
       "       'Haldia', 'Haldwani', 'Halisahar', 'Hanumangarh', 'Haora', 'Hapur',\n",
       "       'Hardoi', 'Haridwar', 'Hassan', 'Hathras', 'Hazaribag', 'Hindupur',\n",
       "       'Hisar', 'Hoshangabad', 'Hoshiarpur', 'Hospet', 'Hosur', 'Hubli',\n",
       "       'Hyderabad', 'Ichalkaranji', 'Imphal', 'Indore', 'Ingraj Bazar',\n",
       "       'Itarsi', 'Jabalpur', 'Jagadhri', 'Jaipur', 'Jalandhar', 'Jalna',\n",
       "       'Jalpaiguri', 'Jamalpur', 'Jammu', 'Jamnagar', 'Jamshedpur',\n",
       "       'Jamuria', 'Jaunpur', 'Jetpur', 'Jhansi', 'Jhunjhunun', 'Jind',\n",
       "       'Jodhpur', 'Junagadh', 'Kaithal', 'Kakinada', 'Kalol', 'Kalyan',\n",
       "       'Kamarhati', 'Kanchipuram', 'Kanchrapara', 'Kanpur', 'Kapra',\n",
       "       'Karimnagar', 'Karnal', 'Kashipur', 'Katihar', 'Khammam',\n",
       "       'Khandwa', 'Khanna', 'Kharagpur', 'Khardaha', 'Khurja', 'Kochi',\n",
       "       'Kolar', 'Kolhapur', 'Kollam', 'Korba', 'Kota', 'Krishnanagar',\n",
       "       'Kulti', 'Kumbakonam', 'Lakhimpur', 'Lakhnau', 'Lalitpur', 'Latur',\n",
       "       'Loni', 'Ludhiana', 'Machilipatnam', 'Madanapalle', 'Madhyamgram',\n",
       "       'Madras', 'Madurai', 'Mahbubnagar', 'Mahesana', 'Maisuru',\n",
       "       'Malegaon', 'Maler Kotla', 'Mandsaur', 'Mandya', 'Mangaluru',\n",
       "       'Mathura', 'Mau', 'Mirzapur', 'Moga', 'Moradabad', 'Morena',\n",
       "       'Mormugao', 'Morvi', 'Motihari', 'Munger', 'Murwara',\n",
       "       'Muzaffarnagar', 'Muzaffarpur', 'Nadiad', 'Nagda', 'Nagercoil',\n",
       "       'Nagpur', 'Naihati', 'Nalgonda', 'Nanded', 'Nandurbar', 'Nandyal',\n",
       "       'Nangloi Jat', 'Navadwip', 'Navsari', 'New Delhi', 'Neyveli',\n",
       "       'Nizamabad', 'Ongole', 'Orai', 'Palakkad', 'Palanpur', 'Pali',\n",
       "       'Pallavaram', 'Palwal', 'Panihati', 'Panipat', 'Panvel',\n",
       "       'Parbhani', 'Patan', 'Pathankot', 'Patiala', 'Patna', 'Phagwara',\n",
       "       'Pilibhit', 'Pimpri', 'Pondicherry', 'Ponnani', 'Porbandar',\n",
       "       'Port Blair', 'Proddatur', 'Pudukkottai', 'Pune', 'Puri', 'Purnia',\n",
       "       'Puruliya', 'Rae Bareli', 'Raichur', 'Raiganj', 'Raigarh',\n",
       "       'Raipur', 'Rajamahendri', 'Rajapalaiyam', 'Rajkot', 'Rajpur',\n",
       "       'Rampur', 'Ranchi', 'Raniganj', 'Ratlam', 'Raurkela', 'Rewa',\n",
       "       'Rewari', 'Rishra', 'Robertsonpet', 'Rohtak', 'Sagar',\n",
       "       'Saharanpur', 'Saharsa', 'Sambalpur', 'Sambhal', 'Sasaram',\n",
       "       'Satara', 'Satna', 'Sawai Madhopur', 'Selam', 'Seoni',\n",
       "       'Shahjahanpur', 'Shantipur', 'Shiliguri', 'Shillong', 'Shimla',\n",
       "       'Shimoga', 'Sholapur', 'Shrirampur', 'Sikar', 'Silchar', 'Sirsa',\n",
       "       'Sitapur', 'Siwan', 'Sonipat', 'Srikakulam', 'Srinagar',\n",
       "       'Sultanpur', 'Surat', 'Surendranagar', 'Suriapet',\n",
       "       'Tadepallegudem', 'Tambaram', 'Tenali', 'Thana', 'Thanesar',\n",
       "       'Thanjavur', 'Thiruvananthapuram', 'Thrissur', 'Tiruchchirappalli',\n",
       "       'Tirunelveli', 'Tirupati', 'Tiruppur', 'Tiruvannamalai',\n",
       "       'Tiruvottiyur', 'Titagarh', 'Tonk', 'Tumkur', 'Udgir', 'Udupi',\n",
       "       'Ujjain', 'Ulhasnagar', 'Ulubaria', 'Unnao', 'Vadodara',\n",
       "       'Varanasi', 'Vejalpur', 'Velluru', 'Veraval', 'Vidisha',\n",
       "       'Vijayawada', 'Virar', 'Visakhapatnam', 'Vizianagaram', 'Warangal',\n",
       "       'Wardha', 'Yamunanagar', 'Yavatmal', 'Yelahanka'], dtype=object)"
      ]
     },
     "execution_count": 87,
     "metadata": {},
     "output_type": "execute_result"
    }
   ],
   "source": [
    "India['City'].unique()"
   ]
  },
  {
   "cell_type": "code",
   "execution_count": 88,
   "id": "grand-pilot",
   "metadata": {
    "execution": {
     "iopub.execute_input": "2021-06-13T15:29:51.615565Z",
     "iopub.status.busy": "2021-06-13T15:29:51.614814Z",
     "iopub.status.idle": "2021-06-13T15:29:51.617009Z",
     "shell.execute_reply": "2021-06-13T15:29:51.617404Z",
     "shell.execute_reply.started": "2021-06-13T15:09:31.308304Z"
    },
    "papermill": {
     "duration": 0.141091,
     "end_time": "2021-06-13T15:29:51.617530",
     "exception": false,
     "start_time": "2021-06-13T15:29:51.476439",
     "status": "completed"
    },
    "tags": []
   },
   "outputs": [],
   "source": [
    "Cities=['New Delhi','Bangalore','Hyderabad','Pune','Madras','Calcutta','Gurgaon']"
   ]
  },
  {
   "cell_type": "code",
   "execution_count": 89,
   "id": "colored-emphasis",
   "metadata": {
    "execution": {
     "iopub.execute_input": "2021-06-13T15:29:51.920440Z",
     "iopub.status.busy": "2021-06-13T15:29:51.919543Z",
     "iopub.status.idle": "2021-06-13T15:29:51.924554Z",
     "shell.execute_reply": "2021-06-13T15:29:51.924114Z",
     "shell.execute_reply.started": "2021-06-13T15:09:31.314335Z"
    },
    "papermill": {
     "duration": 0.172833,
     "end_time": "2021-06-13T15:29:51.924667",
     "exception": false,
     "start_time": "2021-06-13T15:29:51.751834",
     "status": "completed"
    },
    "tags": []
   },
   "outputs": [],
   "source": [
    "cities=India[India['City'].isin(Cities)]"
   ]
  },
  {
   "cell_type": "code",
   "execution_count": 90,
   "id": "express-dutch",
   "metadata": {
    "execution": {
     "iopub.execute_input": "2021-06-13T15:29:52.204352Z",
     "iopub.status.busy": "2021-06-13T15:29:52.203671Z",
     "iopub.status.idle": "2021-06-13T15:29:52.206993Z",
     "shell.execute_reply": "2021-06-13T15:29:52.206582Z",
     "shell.execute_reply.started": "2021-06-13T15:09:31.350742Z"
    },
    "papermill": {
     "duration": 0.145916,
     "end_time": "2021-06-13T15:29:52.207106",
     "exception": false,
     "start_time": "2021-06-13T15:29:52.061190",
     "status": "completed"
    },
    "tags": []
   },
   "outputs": [
    {
     "data": {
      "text/plain": [
       "(18291, 7)"
      ]
     },
     "execution_count": 90,
     "metadata": {},
     "output_type": "execute_result"
    }
   ],
   "source": [
    "cities.shape"
   ]
  },
  {
   "cell_type": "code",
   "execution_count": 91,
   "id": "rocky-puppy",
   "metadata": {
    "execution": {
     "iopub.execute_input": "2021-06-13T15:29:52.491470Z",
     "iopub.status.busy": "2021-06-13T15:29:52.490677Z",
     "iopub.status.idle": "2021-06-13T15:29:52.494241Z",
     "shell.execute_reply": "2021-06-13T15:29:52.493831Z",
     "shell.execute_reply.started": "2021-06-13T15:09:31.361909Z"
    },
    "papermill": {
     "duration": 0.150435,
     "end_time": "2021-06-13T15:29:52.494362",
     "exception": false,
     "start_time": "2021-06-13T15:29:52.343927",
     "status": "completed"
    },
    "tags": []
   },
   "outputs": [
    {
     "data": {
      "text/html": [
       "<div>\n",
       "<style scoped>\n",
       "    .dataframe tbody tr th:only-of-type {\n",
       "        vertical-align: middle;\n",
       "    }\n",
       "\n",
       "    .dataframe tbody tr th {\n",
       "        vertical-align: top;\n",
       "    }\n",
       "\n",
       "    .dataframe thead th {\n",
       "        text-align: right;\n",
       "    }\n",
       "</style>\n",
       "<table border=\"1\" class=\"dataframe\">\n",
       "  <thead>\n",
       "    <tr style=\"text-align: right;\">\n",
       "      <th></th>\n",
       "      <th>dt</th>\n",
       "      <th>AverageTemperature</th>\n",
       "      <th>AverageTemperatureUncertainty</th>\n",
       "      <th>City</th>\n",
       "      <th>Country</th>\n",
       "      <th>Latitude</th>\n",
       "      <th>Longitude</th>\n",
       "    </tr>\n",
       "  </thead>\n",
       "  <tbody>\n",
       "    <tr>\n",
       "      <th>630113</th>\n",
       "      <td>1796-01-01</td>\n",
       "      <td>22.672</td>\n",
       "      <td>2.317</td>\n",
       "      <td>Bangalore</td>\n",
       "      <td>India</td>\n",
       "      <td>12.05N</td>\n",
       "      <td>77.26E</td>\n",
       "    </tr>\n",
       "    <tr>\n",
       "      <th>630114</th>\n",
       "      <td>1796-02-01</td>\n",
       "      <td>24.420</td>\n",
       "      <td>1.419</td>\n",
       "      <td>Bangalore</td>\n",
       "      <td>India</td>\n",
       "      <td>12.05N</td>\n",
       "      <td>77.26E</td>\n",
       "    </tr>\n",
       "    <tr>\n",
       "      <th>630115</th>\n",
       "      <td>1796-03-01</td>\n",
       "      <td>26.092</td>\n",
       "      <td>2.459</td>\n",
       "      <td>Bangalore</td>\n",
       "      <td>India</td>\n",
       "      <td>12.05N</td>\n",
       "      <td>77.26E</td>\n",
       "    </tr>\n",
       "    <tr>\n",
       "      <th>630116</th>\n",
       "      <td>1796-04-01</td>\n",
       "      <td>27.687</td>\n",
       "      <td>1.746</td>\n",
       "      <td>Bangalore</td>\n",
       "      <td>India</td>\n",
       "      <td>12.05N</td>\n",
       "      <td>77.26E</td>\n",
       "    </tr>\n",
       "    <tr>\n",
       "      <th>630117</th>\n",
       "      <td>1796-05-01</td>\n",
       "      <td>27.619</td>\n",
       "      <td>1.277</td>\n",
       "      <td>Bangalore</td>\n",
       "      <td>India</td>\n",
       "      <td>12.05N</td>\n",
       "      <td>77.26E</td>\n",
       "    </tr>\n",
       "  </tbody>\n",
       "</table>\n",
       "</div>"
      ],
      "text/plain": [
       "                dt  AverageTemperature  AverageTemperatureUncertainty  \\\n",
       "630113  1796-01-01              22.672                          2.317   \n",
       "630114  1796-02-01              24.420                          1.419   \n",
       "630115  1796-03-01              26.092                          2.459   \n",
       "630116  1796-04-01              27.687                          1.746   \n",
       "630117  1796-05-01              27.619                          1.277   \n",
       "\n",
       "             City Country Latitude Longitude  \n",
       "630113  Bangalore   India   12.05N    77.26E  \n",
       "630114  Bangalore   India   12.05N    77.26E  \n",
       "630115  Bangalore   India   12.05N    77.26E  \n",
       "630116  Bangalore   India   12.05N    77.26E  \n",
       "630117  Bangalore   India   12.05N    77.26E  "
      ]
     },
     "execution_count": 91,
     "metadata": {},
     "output_type": "execute_result"
    }
   ],
   "source": [
    "cities.head()"
   ]
  },
  {
   "cell_type": "code",
   "execution_count": 92,
   "id": "turkish-seeker",
   "metadata": {
    "execution": {
     "iopub.execute_input": "2021-06-13T15:29:52.780232Z",
     "iopub.status.busy": "2021-06-13T15:29:52.779520Z",
     "iopub.status.idle": "2021-06-13T15:29:52.791177Z",
     "shell.execute_reply": "2021-06-13T15:29:52.790766Z",
     "shell.execute_reply.started": "2021-06-13T15:09:31.382961Z"
    },
    "papermill": {
     "duration": 0.159589,
     "end_time": "2021-06-13T15:29:52.791302",
     "exception": false,
     "start_time": "2021-06-13T15:29:52.631713",
     "status": "completed"
    },
    "tags": []
   },
   "outputs": [],
   "source": [
    "## Remove N&E frome Longitude and Latitude\n",
    "cities['Latitude']=cities['Latitude'].str.strip('N')\n",
    "cities['Longitude']=cities['Longitude'].str.strip('E')"
   ]
  },
  {
   "cell_type": "code",
   "execution_count": 93,
   "id": "reserved-queens",
   "metadata": {
    "execution": {
     "iopub.execute_input": "2021-06-13T15:29:53.075218Z",
     "iopub.status.busy": "2021-06-13T15:29:53.074277Z",
     "iopub.status.idle": "2021-06-13T15:29:53.078059Z",
     "shell.execute_reply": "2021-06-13T15:29:53.078417Z",
     "shell.execute_reply.started": "2021-06-13T15:09:31.404919Z"
    },
    "papermill": {
     "duration": 0.151276,
     "end_time": "2021-06-13T15:29:53.078551",
     "exception": false,
     "start_time": "2021-06-13T15:29:52.927275",
     "status": "completed"
    },
    "tags": []
   },
   "outputs": [
    {
     "data": {
      "text/html": [
       "<div>\n",
       "<style scoped>\n",
       "    .dataframe tbody tr th:only-of-type {\n",
       "        vertical-align: middle;\n",
       "    }\n",
       "\n",
       "    .dataframe tbody tr th {\n",
       "        vertical-align: top;\n",
       "    }\n",
       "\n",
       "    .dataframe thead th {\n",
       "        text-align: right;\n",
       "    }\n",
       "</style>\n",
       "<table border=\"1\" class=\"dataframe\">\n",
       "  <thead>\n",
       "    <tr style=\"text-align: right;\">\n",
       "      <th></th>\n",
       "      <th>dt</th>\n",
       "      <th>AverageTemperature</th>\n",
       "      <th>AverageTemperatureUncertainty</th>\n",
       "      <th>City</th>\n",
       "      <th>Country</th>\n",
       "      <th>Latitude</th>\n",
       "      <th>Longitude</th>\n",
       "    </tr>\n",
       "  </thead>\n",
       "  <tbody>\n",
       "    <tr>\n",
       "      <th>630113</th>\n",
       "      <td>1796-01-01</td>\n",
       "      <td>22.672</td>\n",
       "      <td>2.317</td>\n",
       "      <td>Bangalore</td>\n",
       "      <td>India</td>\n",
       "      <td>12.05</td>\n",
       "      <td>77.26</td>\n",
       "    </tr>\n",
       "    <tr>\n",
       "      <th>630114</th>\n",
       "      <td>1796-02-01</td>\n",
       "      <td>24.420</td>\n",
       "      <td>1.419</td>\n",
       "      <td>Bangalore</td>\n",
       "      <td>India</td>\n",
       "      <td>12.05</td>\n",
       "      <td>77.26</td>\n",
       "    </tr>\n",
       "    <tr>\n",
       "      <th>630115</th>\n",
       "      <td>1796-03-01</td>\n",
       "      <td>26.092</td>\n",
       "      <td>2.459</td>\n",
       "      <td>Bangalore</td>\n",
       "      <td>India</td>\n",
       "      <td>12.05</td>\n",
       "      <td>77.26</td>\n",
       "    </tr>\n",
       "    <tr>\n",
       "      <th>630116</th>\n",
       "      <td>1796-04-01</td>\n",
       "      <td>27.687</td>\n",
       "      <td>1.746</td>\n",
       "      <td>Bangalore</td>\n",
       "      <td>India</td>\n",
       "      <td>12.05</td>\n",
       "      <td>77.26</td>\n",
       "    </tr>\n",
       "    <tr>\n",
       "      <th>630117</th>\n",
       "      <td>1796-05-01</td>\n",
       "      <td>27.619</td>\n",
       "      <td>1.277</td>\n",
       "      <td>Bangalore</td>\n",
       "      <td>India</td>\n",
       "      <td>12.05</td>\n",
       "      <td>77.26</td>\n",
       "    </tr>\n",
       "  </tbody>\n",
       "</table>\n",
       "</div>"
      ],
      "text/plain": [
       "                dt  AverageTemperature  AverageTemperatureUncertainty  \\\n",
       "630113  1796-01-01              22.672                          2.317   \n",
       "630114  1796-02-01              24.420                          1.419   \n",
       "630115  1796-03-01              26.092                          2.459   \n",
       "630116  1796-04-01              27.687                          1.746   \n",
       "630117  1796-05-01              27.619                          1.277   \n",
       "\n",
       "             City Country Latitude Longitude  \n",
       "630113  Bangalore   India    12.05     77.26  \n",
       "630114  Bangalore   India    12.05     77.26  \n",
       "630115  Bangalore   India    12.05     77.26  \n",
       "630116  Bangalore   India    12.05     77.26  \n",
       "630117  Bangalore   India    12.05     77.26  "
      ]
     },
     "execution_count": 93,
     "metadata": {},
     "output_type": "execute_result"
    }
   ],
   "source": [
    "cities.head()"
   ]
  },
  {
   "cell_type": "code",
   "execution_count": 94,
   "id": "stretch-engineering",
   "metadata": {
    "execution": {
     "iopub.execute_input": "2021-06-13T15:29:53.360146Z",
     "iopub.status.busy": "2021-06-13T15:29:53.359365Z",
     "iopub.status.idle": "2021-06-13T15:29:53.363009Z",
     "shell.execute_reply": "2021-06-13T15:29:53.362574Z",
     "shell.execute_reply.started": "2021-06-13T15:09:31.421961Z"
    },
    "papermill": {
     "duration": 0.148462,
     "end_time": "2021-06-13T15:29:53.363118",
     "exception": false,
     "start_time": "2021-06-13T15:29:53.214656",
     "status": "completed"
    },
    "tags": []
   },
   "outputs": [],
   "source": [
    "cities['dt']=pd.to_datetime(cities['dt'])"
   ]
  },
  {
   "cell_type": "code",
   "execution_count": 95,
   "id": "satellite-realtor",
   "metadata": {
    "execution": {
     "iopub.execute_input": "2021-06-13T15:29:53.641294Z",
     "iopub.status.busy": "2021-06-13T15:29:53.640610Z",
     "iopub.status.idle": "2021-06-13T15:29:53.647621Z",
     "shell.execute_reply": "2021-06-13T15:29:53.647129Z",
     "shell.execute_reply.started": "2021-06-13T15:09:31.440221Z"
    },
    "papermill": {
     "duration": 0.146975,
     "end_time": "2021-06-13T15:29:53.647727",
     "exception": false,
     "start_time": "2021-06-13T15:29:53.500752",
     "status": "completed"
    },
    "tags": []
   },
   "outputs": [],
   "source": [
    "cities['Month']=cities['dt'].dt.month\n",
    "cities.drop('dt',axis=1,inplace=True)"
   ]
  },
  {
   "cell_type": "code",
   "execution_count": 96,
   "id": "decreased-riding",
   "metadata": {
    "execution": {
     "iopub.execute_input": "2021-06-13T15:29:53.931217Z",
     "iopub.status.busy": "2021-06-13T15:29:53.930417Z",
     "iopub.status.idle": "2021-06-13T15:29:53.933630Z",
     "shell.execute_reply": "2021-06-13T15:29:53.934078Z",
     "shell.execute_reply.started": "2021-06-13T15:09:31.453343Z"
    },
    "papermill": {
     "duration": 0.150256,
     "end_time": "2021-06-13T15:29:53.934210",
     "exception": false,
     "start_time": "2021-06-13T15:29:53.783954",
     "status": "completed"
    },
    "tags": []
   },
   "outputs": [
    {
     "data": {
      "text/html": [
       "<div>\n",
       "<style scoped>\n",
       "    .dataframe tbody tr th:only-of-type {\n",
       "        vertical-align: middle;\n",
       "    }\n",
       "\n",
       "    .dataframe tbody tr th {\n",
       "        vertical-align: top;\n",
       "    }\n",
       "\n",
       "    .dataframe thead th {\n",
       "        text-align: right;\n",
       "    }\n",
       "</style>\n",
       "<table border=\"1\" class=\"dataframe\">\n",
       "  <thead>\n",
       "    <tr style=\"text-align: right;\">\n",
       "      <th></th>\n",
       "      <th>AverageTemperature</th>\n",
       "      <th>AverageTemperatureUncertainty</th>\n",
       "      <th>City</th>\n",
       "      <th>Country</th>\n",
       "      <th>Latitude</th>\n",
       "      <th>Longitude</th>\n",
       "      <th>Month</th>\n",
       "    </tr>\n",
       "  </thead>\n",
       "  <tbody>\n",
       "    <tr>\n",
       "      <th>630113</th>\n",
       "      <td>22.672</td>\n",
       "      <td>2.317</td>\n",
       "      <td>Bangalore</td>\n",
       "      <td>India</td>\n",
       "      <td>12.05</td>\n",
       "      <td>77.26</td>\n",
       "      <td>1</td>\n",
       "    </tr>\n",
       "    <tr>\n",
       "      <th>630114</th>\n",
       "      <td>24.420</td>\n",
       "      <td>1.419</td>\n",
       "      <td>Bangalore</td>\n",
       "      <td>India</td>\n",
       "      <td>12.05</td>\n",
       "      <td>77.26</td>\n",
       "      <td>2</td>\n",
       "    </tr>\n",
       "    <tr>\n",
       "      <th>630115</th>\n",
       "      <td>26.092</td>\n",
       "      <td>2.459</td>\n",
       "      <td>Bangalore</td>\n",
       "      <td>India</td>\n",
       "      <td>12.05</td>\n",
       "      <td>77.26</td>\n",
       "      <td>3</td>\n",
       "    </tr>\n",
       "    <tr>\n",
       "      <th>630116</th>\n",
       "      <td>27.687</td>\n",
       "      <td>1.746</td>\n",
       "      <td>Bangalore</td>\n",
       "      <td>India</td>\n",
       "      <td>12.05</td>\n",
       "      <td>77.26</td>\n",
       "      <td>4</td>\n",
       "    </tr>\n",
       "    <tr>\n",
       "      <th>630117</th>\n",
       "      <td>27.619</td>\n",
       "      <td>1.277</td>\n",
       "      <td>Bangalore</td>\n",
       "      <td>India</td>\n",
       "      <td>12.05</td>\n",
       "      <td>77.26</td>\n",
       "      <td>5</td>\n",
       "    </tr>\n",
       "  </tbody>\n",
       "</table>\n",
       "</div>"
      ],
      "text/plain": [
       "        AverageTemperature  AverageTemperatureUncertainty       City Country  \\\n",
       "630113              22.672                          2.317  Bangalore   India   \n",
       "630114              24.420                          1.419  Bangalore   India   \n",
       "630115              26.092                          2.459  Bangalore   India   \n",
       "630116              27.687                          1.746  Bangalore   India   \n",
       "630117              27.619                          1.277  Bangalore   India   \n",
       "\n",
       "       Latitude Longitude  Month  \n",
       "630113    12.05     77.26      1  \n",
       "630114    12.05     77.26      2  \n",
       "630115    12.05     77.26      3  \n",
       "630116    12.05     77.26      4  \n",
       "630117    12.05     77.26      5  "
      ]
     },
     "execution_count": 96,
     "metadata": {},
     "output_type": "execute_result"
    }
   ],
   "source": [
    "cities.head()"
   ]
  },
  {
   "cell_type": "code",
   "execution_count": 97,
   "id": "healthy-homeless",
   "metadata": {
    "execution": {
     "iopub.execute_input": "2021-06-13T15:29:54.218105Z",
     "iopub.status.busy": "2021-06-13T15:29:54.217356Z",
     "iopub.status.idle": "2021-06-13T15:29:54.234976Z",
     "shell.execute_reply": "2021-06-13T15:29:54.234474Z",
     "shell.execute_reply.started": "2021-06-13T15:09:31.469545Z"
    },
    "papermill": {
     "duration": 0.162558,
     "end_time": "2021-06-13T15:29:54.235086",
     "exception": false,
     "start_time": "2021-06-13T15:29:54.072528",
     "status": "completed"
    },
    "tags": []
   },
   "outputs": [
    {
     "data": {
      "text/html": [
       "<div>\n",
       "<style scoped>\n",
       "    .dataframe tbody tr th:only-of-type {\n",
       "        vertical-align: middle;\n",
       "    }\n",
       "\n",
       "    .dataframe tbody tr th {\n",
       "        vertical-align: top;\n",
       "    }\n",
       "\n",
       "    .dataframe thead th {\n",
       "        text-align: right;\n",
       "    }\n",
       "</style>\n",
       "<table border=\"1\" class=\"dataframe\">\n",
       "  <thead>\n",
       "    <tr style=\"text-align: right;\">\n",
       "      <th></th>\n",
       "      <th></th>\n",
       "      <th>AverageTemperature</th>\n",
       "    </tr>\n",
       "    <tr>\n",
       "      <th>Month</th>\n",
       "      <th>City</th>\n",
       "      <th></th>\n",
       "    </tr>\n",
       "  </thead>\n",
       "  <tbody>\n",
       "    <tr>\n",
       "      <th rowspan=\"7\" valign=\"top\">1</th>\n",
       "      <th>Bangalore</th>\n",
       "      <td>22.713981</td>\n",
       "    </tr>\n",
       "    <tr>\n",
       "      <th>Calcutta</th>\n",
       "      <td>18.534335</td>\n",
       "    </tr>\n",
       "    <tr>\n",
       "      <th>Gurgaon</th>\n",
       "      <td>14.238560</td>\n",
       "    </tr>\n",
       "    <tr>\n",
       "      <th>Hyderabad</th>\n",
       "      <td>22.758290</td>\n",
       "    </tr>\n",
       "    <tr>\n",
       "      <th>Madras</th>\n",
       "      <td>24.346733</td>\n",
       "    </tr>\n",
       "    <tr>\n",
       "      <th>New Delhi</th>\n",
       "      <td>14.238560</td>\n",
       "    </tr>\n",
       "    <tr>\n",
       "      <th>Pune</th>\n",
       "      <td>20.448205</td>\n",
       "    </tr>\n",
       "    <tr>\n",
       "      <th rowspan=\"7\" valign=\"top\">2</th>\n",
       "      <th>Bangalore</th>\n",
       "      <td>24.656619</td>\n",
       "    </tr>\n",
       "    <tr>\n",
       "      <th>Calcutta</th>\n",
       "      <td>21.503986</td>\n",
       "    </tr>\n",
       "    <tr>\n",
       "      <th>Gurgaon</th>\n",
       "      <td>17.144980</td>\n",
       "    </tr>\n",
       "    <tr>\n",
       "      <th>Hyderabad</th>\n",
       "      <td>25.317076</td>\n",
       "    </tr>\n",
       "    <tr>\n",
       "      <th>Madras</th>\n",
       "      <td>25.831405</td>\n",
       "    </tr>\n",
       "    <tr>\n",
       "      <th>New Delhi</th>\n",
       "      <td>17.144980</td>\n",
       "    </tr>\n",
       "    <tr>\n",
       "      <th>Pune</th>\n",
       "      <td>22.607924</td>\n",
       "    </tr>\n",
       "    <tr>\n",
       "      <th rowspan=\"7\" valign=\"top\">3</th>\n",
       "      <th>Bangalore</th>\n",
       "      <td>27.062186</td>\n",
       "    </tr>\n",
       "    <tr>\n",
       "      <th>Calcutta</th>\n",
       "      <td>26.596807</td>\n",
       "    </tr>\n",
       "    <tr>\n",
       "      <th>Gurgaon</th>\n",
       "      <td>23.014804</td>\n",
       "    </tr>\n",
       "    <tr>\n",
       "      <th>Hyderabad</th>\n",
       "      <td>28.803543</td>\n",
       "    </tr>\n",
       "    <tr>\n",
       "      <th>Madras</th>\n",
       "      <td>28.114448</td>\n",
       "    </tr>\n",
       "    <tr>\n",
       "      <th>New Delhi</th>\n",
       "      <td>23.014804</td>\n",
       "    </tr>\n",
       "    <tr>\n",
       "      <th>Pune</th>\n",
       "      <td>26.287686</td>\n",
       "    </tr>\n",
       "    <tr>\n",
       "      <th rowspan=\"7\" valign=\"top\">4</th>\n",
       "      <th>Bangalore</th>\n",
       "      <td>27.988517</td>\n",
       "    </tr>\n",
       "    <tr>\n",
       "      <th>Calcutta</th>\n",
       "      <td>29.847134</td>\n",
       "    </tr>\n",
       "    <tr>\n",
       "      <th>Gurgaon</th>\n",
       "      <td>29.004576</td>\n",
       "    </tr>\n",
       "    <tr>\n",
       "      <th>Hyderabad</th>\n",
       "      <td>31.465565</td>\n",
       "    </tr>\n",
       "    <tr>\n",
       "      <th>Madras</th>\n",
       "      <td>30.441304</td>\n",
       "    </tr>\n",
       "    <tr>\n",
       "      <th>New Delhi</th>\n",
       "      <td>29.004576</td>\n",
       "    </tr>\n",
       "    <tr>\n",
       "      <th>Pune</th>\n",
       "      <td>29.004401</td>\n",
       "    </tr>\n",
       "    <tr>\n",
       "      <th rowspan=\"7\" valign=\"top\">5</th>\n",
       "      <th>Bangalore</th>\n",
       "      <td>27.522754</td>\n",
       "    </tr>\n",
       "    <tr>\n",
       "      <th>Calcutta</th>\n",
       "      <td>30.586287</td>\n",
       "    </tr>\n",
       "    <tr>\n",
       "      <th>Gurgaon</th>\n",
       "      <td>33.297051</td>\n",
       "    </tr>\n",
       "    <tr>\n",
       "      <th>Hyderabad</th>\n",
       "      <td>32.702005</td>\n",
       "    </tr>\n",
       "    <tr>\n",
       "      <th>Madras</th>\n",
       "      <td>32.581952</td>\n",
       "    </tr>\n",
       "    <tr>\n",
       "      <th>New Delhi</th>\n",
       "      <td>33.297051</td>\n",
       "    </tr>\n",
       "    <tr>\n",
       "      <th>Pune</th>\n",
       "      <td>29.838203</td>\n",
       "    </tr>\n",
       "    <tr>\n",
       "      <th rowspan=\"7\" valign=\"top\">6</th>\n",
       "      <th>Bangalore</th>\n",
       "      <td>25.468799</td>\n",
       "    </tr>\n",
       "    <tr>\n",
       "      <th>Calcutta</th>\n",
       "      <td>29.920981</td>\n",
       "    </tr>\n",
       "    <tr>\n",
       "      <th>Gurgaon</th>\n",
       "      <td>33.866005</td>\n",
       "    </tr>\n",
       "    <tr>\n",
       "      <th>Hyderabad</th>\n",
       "      <td>29.968469</td>\n",
       "    </tr>\n",
       "    <tr>\n",
       "      <th>Madras</th>\n",
       "      <td>32.142383</td>\n",
       "    </tr>\n",
       "    <tr>\n",
       "      <th>New Delhi</th>\n",
       "      <td>33.866005</td>\n",
       "    </tr>\n",
       "    <tr>\n",
       "      <th>Pune</th>\n",
       "      <td>27.220029</td>\n",
       "    </tr>\n",
       "    <tr>\n",
       "      <th rowspan=\"7\" valign=\"top\">7</th>\n",
       "      <th>Bangalore</th>\n",
       "      <td>24.400481</td>\n",
       "    </tr>\n",
       "    <tr>\n",
       "      <th>Calcutta</th>\n",
       "      <td>28.995377</td>\n",
       "    </tr>\n",
       "    <tr>\n",
       "      <th>Gurgaon</th>\n",
       "      <td>31.174114</td>\n",
       "    </tr>\n",
       "    <tr>\n",
       "      <th>Hyderabad</th>\n",
       "      <td>27.216586</td>\n",
       "    </tr>\n",
       "    <tr>\n",
       "      <th>Madras</th>\n",
       "      <td>30.658619</td>\n",
       "    </tr>\n",
       "    <tr>\n",
       "      <th>New Delhi</th>\n",
       "      <td>31.174114</td>\n",
       "    </tr>\n",
       "    <tr>\n",
       "      <th>Pune</th>\n",
       "      <td>24.724738</td>\n",
       "    </tr>\n",
       "    <tr>\n",
       "      <th rowspan=\"7\" valign=\"top\">8</th>\n",
       "      <th>Bangalore</th>\n",
       "      <td>24.362910</td>\n",
       "    </tr>\n",
       "    <tr>\n",
       "      <th>Calcutta</th>\n",
       "      <td>28.809151</td>\n",
       "    </tr>\n",
       "    <tr>\n",
       "      <th>Gurgaon</th>\n",
       "      <td>29.752423</td>\n",
       "    </tr>\n",
       "    <tr>\n",
       "      <th>Hyderabad</th>\n",
       "      <td>26.573533</td>\n",
       "    </tr>\n",
       "    <tr>\n",
       "      <th>Madras</th>\n",
       "      <td>29.977352</td>\n",
       "    </tr>\n",
       "    <tr>\n",
       "      <th>New Delhi</th>\n",
       "      <td>29.752423</td>\n",
       "    </tr>\n",
       "    <tr>\n",
       "      <th>Pune</th>\n",
       "      <td>24.197833</td>\n",
       "    </tr>\n",
       "    <tr>\n",
       "      <th rowspan=\"7\" valign=\"top\">9</th>\n",
       "      <th>Bangalore</th>\n",
       "      <td>24.495115</td>\n",
       "    </tr>\n",
       "    <tr>\n",
       "      <th>Calcutta</th>\n",
       "      <td>28.594123</td>\n",
       "    </tr>\n",
       "    <tr>\n",
       "      <th>Gurgaon</th>\n",
       "      <td>28.994465</td>\n",
       "    </tr>\n",
       "    <tr>\n",
       "      <th>Hyderabad</th>\n",
       "      <td>26.640239</td>\n",
       "    </tr>\n",
       "    <tr>\n",
       "      <th>Madras</th>\n",
       "      <td>29.397029</td>\n",
       "    </tr>\n",
       "    <tr>\n",
       "      <th>New Delhi</th>\n",
       "      <td>28.994465</td>\n",
       "    </tr>\n",
       "    <tr>\n",
       "      <th>Pune</th>\n",
       "      <td>24.565742</td>\n",
       "    </tr>\n",
       "    <tr>\n",
       "      <th rowspan=\"7\" valign=\"top\">10</th>\n",
       "      <th>Bangalore</th>\n",
       "      <td>24.091785</td>\n",
       "    </tr>\n",
       "    <tr>\n",
       "      <th>Calcutta</th>\n",
       "      <td>26.874408</td>\n",
       "    </tr>\n",
       "    <tr>\n",
       "      <th>Gurgaon</th>\n",
       "      <td>25.866375</td>\n",
       "    </tr>\n",
       "    <tr>\n",
       "      <th>Hyderabad</th>\n",
       "      <td>25.679622</td>\n",
       "    </tr>\n",
       "    <tr>\n",
       "      <th>Madras</th>\n",
       "      <td>27.741679</td>\n",
       "    </tr>\n",
       "    <tr>\n",
       "      <th>New Delhi</th>\n",
       "      <td>25.866375</td>\n",
       "    </tr>\n",
       "    <tr>\n",
       "      <th>Pune</th>\n",
       "      <td>24.367426</td>\n",
       "    </tr>\n",
       "    <tr>\n",
       "      <th rowspan=\"7\" valign=\"top\">11</th>\n",
       "      <th>Bangalore</th>\n",
       "      <td>23.265158</td>\n",
       "    </tr>\n",
       "    <tr>\n",
       "      <th>Calcutta</th>\n",
       "      <td>23.160976</td>\n",
       "    </tr>\n",
       "    <tr>\n",
       "      <th>Gurgaon</th>\n",
       "      <td>20.346510</td>\n",
       "    </tr>\n",
       "    <tr>\n",
       "      <th>Hyderabad</th>\n",
       "      <td>23.508134</td>\n",
       "    </tr>\n",
       "    <tr>\n",
       "      <th>Madras</th>\n",
       "      <td>25.666679</td>\n",
       "    </tr>\n",
       "    <tr>\n",
       "      <th>New Delhi</th>\n",
       "      <td>20.346510</td>\n",
       "    </tr>\n",
       "    <tr>\n",
       "      <th>Pune</th>\n",
       "      <td>22.313670</td>\n",
       "    </tr>\n",
       "    <tr>\n",
       "      <th rowspan=\"7\" valign=\"top\">12</th>\n",
       "      <th>Bangalore</th>\n",
       "      <td>22.290856</td>\n",
       "    </tr>\n",
       "    <tr>\n",
       "      <th>Calcutta</th>\n",
       "      <td>19.156114</td>\n",
       "    </tr>\n",
       "    <tr>\n",
       "      <th>Gurgaon</th>\n",
       "      <td>15.378814</td>\n",
       "    </tr>\n",
       "    <tr>\n",
       "      <th>Hyderabad</th>\n",
       "      <td>21.892538</td>\n",
       "    </tr>\n",
       "    <tr>\n",
       "      <th>Madras</th>\n",
       "      <td>24.168721</td>\n",
       "    </tr>\n",
       "    <tr>\n",
       "      <th>New Delhi</th>\n",
       "      <td>15.378814</td>\n",
       "    </tr>\n",
       "    <tr>\n",
       "      <th>Pune</th>\n",
       "      <td>20.253654</td>\n",
       "    </tr>\n",
       "  </tbody>\n",
       "</table>\n",
       "</div>"
      ],
      "text/plain": [
       "                 AverageTemperature\n",
       "Month City                         \n",
       "1     Bangalore           22.713981\n",
       "      Calcutta            18.534335\n",
       "      Gurgaon             14.238560\n",
       "      Hyderabad           22.758290\n",
       "      Madras              24.346733\n",
       "      New Delhi           14.238560\n",
       "      Pune                20.448205\n",
       "2     Bangalore           24.656619\n",
       "      Calcutta            21.503986\n",
       "      Gurgaon             17.144980\n",
       "      Hyderabad           25.317076\n",
       "      Madras              25.831405\n",
       "      New Delhi           17.144980\n",
       "      Pune                22.607924\n",
       "3     Bangalore           27.062186\n",
       "      Calcutta            26.596807\n",
       "      Gurgaon             23.014804\n",
       "      Hyderabad           28.803543\n",
       "      Madras              28.114448\n",
       "      New Delhi           23.014804\n",
       "      Pune                26.287686\n",
       "4     Bangalore           27.988517\n",
       "      Calcutta            29.847134\n",
       "      Gurgaon             29.004576\n",
       "      Hyderabad           31.465565\n",
       "      Madras              30.441304\n",
       "      New Delhi           29.004576\n",
       "      Pune                29.004401\n",
       "5     Bangalore           27.522754\n",
       "      Calcutta            30.586287\n",
       "      Gurgaon             33.297051\n",
       "      Hyderabad           32.702005\n",
       "      Madras              32.581952\n",
       "      New Delhi           33.297051\n",
       "      Pune                29.838203\n",
       "6     Bangalore           25.468799\n",
       "      Calcutta            29.920981\n",
       "      Gurgaon             33.866005\n",
       "      Hyderabad           29.968469\n",
       "      Madras              32.142383\n",
       "      New Delhi           33.866005\n",
       "      Pune                27.220029\n",
       "7     Bangalore           24.400481\n",
       "      Calcutta            28.995377\n",
       "      Gurgaon             31.174114\n",
       "      Hyderabad           27.216586\n",
       "      Madras              30.658619\n",
       "      New Delhi           31.174114\n",
       "      Pune                24.724738\n",
       "8     Bangalore           24.362910\n",
       "      Calcutta            28.809151\n",
       "      Gurgaon             29.752423\n",
       "      Hyderabad           26.573533\n",
       "      Madras              29.977352\n",
       "      New Delhi           29.752423\n",
       "      Pune                24.197833\n",
       "9     Bangalore           24.495115\n",
       "      Calcutta            28.594123\n",
       "      Gurgaon             28.994465\n",
       "      Hyderabad           26.640239\n",
       "      Madras              29.397029\n",
       "      New Delhi           28.994465\n",
       "      Pune                24.565742\n",
       "10    Bangalore           24.091785\n",
       "      Calcutta            26.874408\n",
       "      Gurgaon             25.866375\n",
       "      Hyderabad           25.679622\n",
       "      Madras              27.741679\n",
       "      New Delhi           25.866375\n",
       "      Pune                24.367426\n",
       "11    Bangalore           23.265158\n",
       "      Calcutta            23.160976\n",
       "      Gurgaon             20.346510\n",
       "      Hyderabad           23.508134\n",
       "      Madras              25.666679\n",
       "      New Delhi           20.346510\n",
       "      Pune                22.313670\n",
       "12    Bangalore           22.290856\n",
       "      Calcutta            19.156114\n",
       "      Gurgaon             15.378814\n",
       "      Hyderabad           21.892538\n",
       "      Madras              24.168721\n",
       "      New Delhi           15.378814\n",
       "      Pune                20.253654"
      ]
     },
     "execution_count": 97,
     "metadata": {},
     "output_type": "execute_result"
    }
   ],
   "source": [
    "cities.groupby(['Month','City'])['AverageTemperature'].mean().to_frame()"
   ]
  },
  {
   "cell_type": "code",
   "execution_count": 98,
   "id": "initial-concept",
   "metadata": {
    "execution": {
     "iopub.execute_input": "2021-06-13T15:29:54.515109Z",
     "iopub.status.busy": "2021-06-13T15:29:54.514389Z",
     "iopub.status.idle": "2021-06-13T15:29:54.521272Z",
     "shell.execute_reply": "2021-06-13T15:29:54.521704Z",
     "shell.execute_reply.started": "2021-06-13T15:09:31.500041Z"
    },
    "papermill": {
     "duration": 0.148452,
     "end_time": "2021-06-13T15:29:54.521830",
     "exception": false,
     "start_time": "2021-06-13T15:29:54.373378",
     "status": "completed"
    },
    "tags": []
   },
   "outputs": [],
   "source": [
    "cities_temp=cities.groupby(['Month','City'])['AverageTemperature'].mean().to_frame().reset_index()"
   ]
  },
  {
   "cell_type": "code",
   "execution_count": 99,
   "id": "electric-polymer",
   "metadata": {
    "execution": {
     "iopub.execute_input": "2021-06-13T15:29:54.804817Z",
     "iopub.status.busy": "2021-06-13T15:29:54.804293Z",
     "iopub.status.idle": "2021-06-13T15:29:54.809073Z",
     "shell.execute_reply": "2021-06-13T15:29:54.809472Z",
     "shell.execute_reply.started": "2021-06-13T15:09:31.512741Z"
    },
    "papermill": {
     "duration": 0.149889,
     "end_time": "2021-06-13T15:29:54.809603",
     "exception": false,
     "start_time": "2021-06-13T15:29:54.659714",
     "status": "completed"
    },
    "tags": []
   },
   "outputs": [
    {
     "data": {
      "text/html": [
       "<div>\n",
       "<style scoped>\n",
       "    .dataframe tbody tr th:only-of-type {\n",
       "        vertical-align: middle;\n",
       "    }\n",
       "\n",
       "    .dataframe tbody tr th {\n",
       "        vertical-align: top;\n",
       "    }\n",
       "\n",
       "    .dataframe thead th {\n",
       "        text-align: right;\n",
       "    }\n",
       "</style>\n",
       "<table border=\"1\" class=\"dataframe\">\n",
       "  <thead>\n",
       "    <tr style=\"text-align: right;\">\n",
       "      <th></th>\n",
       "      <th>Month</th>\n",
       "      <th>City</th>\n",
       "      <th>AverageTemperature</th>\n",
       "    </tr>\n",
       "  </thead>\n",
       "  <tbody>\n",
       "    <tr>\n",
       "      <th>0</th>\n",
       "      <td>1</td>\n",
       "      <td>Bangalore</td>\n",
       "      <td>22.713981</td>\n",
       "    </tr>\n",
       "    <tr>\n",
       "      <th>1</th>\n",
       "      <td>1</td>\n",
       "      <td>Calcutta</td>\n",
       "      <td>18.534335</td>\n",
       "    </tr>\n",
       "    <tr>\n",
       "      <th>2</th>\n",
       "      <td>1</td>\n",
       "      <td>Gurgaon</td>\n",
       "      <td>14.238560</td>\n",
       "    </tr>\n",
       "    <tr>\n",
       "      <th>3</th>\n",
       "      <td>1</td>\n",
       "      <td>Hyderabad</td>\n",
       "      <td>22.758290</td>\n",
       "    </tr>\n",
       "    <tr>\n",
       "      <th>4</th>\n",
       "      <td>1</td>\n",
       "      <td>Madras</td>\n",
       "      <td>24.346733</td>\n",
       "    </tr>\n",
       "  </tbody>\n",
       "</table>\n",
       "</div>"
      ],
      "text/plain": [
       "   Month       City  AverageTemperature\n",
       "0      1  Bangalore           22.713981\n",
       "1      1   Calcutta           18.534335\n",
       "2      1    Gurgaon           14.238560\n",
       "3      1  Hyderabad           22.758290\n",
       "4      1     Madras           24.346733"
      ]
     },
     "execution_count": 99,
     "metadata": {},
     "output_type": "execute_result"
    }
   ],
   "source": [
    "cities_temp.head()"
   ]
  },
  {
   "cell_type": "code",
   "execution_count": 100,
   "id": "oriented-heaven",
   "metadata": {
    "execution": {
     "iopub.execute_input": "2021-06-13T15:29:55.168981Z",
     "iopub.status.busy": "2021-06-13T15:29:55.168075Z",
     "iopub.status.idle": "2021-06-13T15:29:55.185616Z",
     "shell.execute_reply": "2021-06-13T15:29:55.186660Z",
     "shell.execute_reply.started": "2021-06-13T15:09:31.523792Z"
    },
    "papermill": {
     "duration": 0.237529,
     "end_time": "2021-06-13T15:29:55.186864",
     "exception": false,
     "start_time": "2021-06-13T15:29:54.949335",
     "status": "completed"
    },
    "tags": []
   },
   "outputs": [
    {
     "data": {
      "text/html": [
       "<div>\n",
       "<style scoped>\n",
       "    .dataframe tbody tr th:only-of-type {\n",
       "        vertical-align: middle;\n",
       "    }\n",
       "\n",
       "    .dataframe tbody tr th {\n",
       "        vertical-align: top;\n",
       "    }\n",
       "\n",
       "    .dataframe thead th {\n",
       "        text-align: right;\n",
       "    }\n",
       "</style>\n",
       "<table border=\"1\" class=\"dataframe\">\n",
       "  <thead>\n",
       "    <tr style=\"text-align: right;\">\n",
       "      <th></th>\n",
       "      <th>month</th>\n",
       "      <th>City</th>\n",
       "      <th>Mean_temp</th>\n",
       "    </tr>\n",
       "  </thead>\n",
       "  <tbody>\n",
       "    <tr>\n",
       "      <th>0</th>\n",
       "      <td>1</td>\n",
       "      <td>Bangalore</td>\n",
       "      <td>22.713981</td>\n",
       "    </tr>\n",
       "    <tr>\n",
       "      <th>1</th>\n",
       "      <td>1</td>\n",
       "      <td>Calcutta</td>\n",
       "      <td>18.534335</td>\n",
       "    </tr>\n",
       "    <tr>\n",
       "      <th>2</th>\n",
       "      <td>1</td>\n",
       "      <td>Gurgaon</td>\n",
       "      <td>14.238560</td>\n",
       "    </tr>\n",
       "    <tr>\n",
       "      <th>3</th>\n",
       "      <td>1</td>\n",
       "      <td>Hyderabad</td>\n",
       "      <td>22.758290</td>\n",
       "    </tr>\n",
       "    <tr>\n",
       "      <th>4</th>\n",
       "      <td>1</td>\n",
       "      <td>Madras</td>\n",
       "      <td>24.346733</td>\n",
       "    </tr>\n",
       "  </tbody>\n",
       "</table>\n",
       "</div>"
      ],
      "text/plain": [
       "   month       City  Mean_temp\n",
       "0      1  Bangalore  22.713981\n",
       "1      1   Calcutta  18.534335\n",
       "2      1    Gurgaon  14.238560\n",
       "3      1  Hyderabad  22.758290\n",
       "4      1     Madras  24.346733"
      ]
     },
     "execution_count": 100,
     "metadata": {},
     "output_type": "execute_result"
    }
   ],
   "source": [
    "cities_temp.columns=['month','City','Mean_temp']\n",
    "cities_temp.head()"
   ]
  },
  {
   "cell_type": "code",
   "execution_count": 101,
   "id": "boring-semester",
   "metadata": {
    "execution": {
     "iopub.execute_input": "2021-06-13T15:29:55.665839Z",
     "iopub.status.busy": "2021-06-13T15:29:55.664993Z",
     "iopub.status.idle": "2021-06-13T15:29:55.704364Z",
     "shell.execute_reply": "2021-06-13T15:29:55.704935Z",
     "shell.execute_reply.started": "2021-06-13T15:09:31.54175Z"
    },
    "papermill": {
     "duration": 0.277276,
     "end_time": "2021-06-13T15:29:55.705151",
     "exception": false,
     "start_time": "2021-06-13T15:29:55.427875",
     "status": "completed"
    },
    "tags": []
   },
   "outputs": [
    {
     "data": {
      "text/html": [
       "<div>\n",
       "<style scoped>\n",
       "    .dataframe tbody tr th:only-of-type {\n",
       "        vertical-align: middle;\n",
       "    }\n",
       "\n",
       "    .dataframe tbody tr th {\n",
       "        vertical-align: top;\n",
       "    }\n",
       "\n",
       "    .dataframe thead th {\n",
       "        text-align: right;\n",
       "    }\n",
       "</style>\n",
       "<table border=\"1\" class=\"dataframe\">\n",
       "  <thead>\n",
       "    <tr style=\"text-align: right;\">\n",
       "      <th></th>\n",
       "      <th>month</th>\n",
       "      <th>City</th>\n",
       "      <th>Mean_temp</th>\n",
       "      <th>AverageTemperature</th>\n",
       "      <th>AverageTemperatureUncertainty</th>\n",
       "      <th>Country</th>\n",
       "      <th>Latitude</th>\n",
       "      <th>Longitude</th>\n",
       "      <th>Month</th>\n",
       "    </tr>\n",
       "  </thead>\n",
       "  <tbody>\n",
       "    <tr>\n",
       "      <th>0</th>\n",
       "      <td>1</td>\n",
       "      <td>Bangalore</td>\n",
       "      <td>22.713981</td>\n",
       "      <td>22.672</td>\n",
       "      <td>2.317</td>\n",
       "      <td>India</td>\n",
       "      <td>12.05</td>\n",
       "      <td>77.26</td>\n",
       "      <td>1</td>\n",
       "    </tr>\n",
       "    <tr>\n",
       "      <th>1</th>\n",
       "      <td>1</td>\n",
       "      <td>Bangalore</td>\n",
       "      <td>22.713981</td>\n",
       "      <td>24.420</td>\n",
       "      <td>1.419</td>\n",
       "      <td>India</td>\n",
       "      <td>12.05</td>\n",
       "      <td>77.26</td>\n",
       "      <td>2</td>\n",
       "    </tr>\n",
       "    <tr>\n",
       "      <th>2</th>\n",
       "      <td>1</td>\n",
       "      <td>Bangalore</td>\n",
       "      <td>22.713981</td>\n",
       "      <td>26.092</td>\n",
       "      <td>2.459</td>\n",
       "      <td>India</td>\n",
       "      <td>12.05</td>\n",
       "      <td>77.26</td>\n",
       "      <td>3</td>\n",
       "    </tr>\n",
       "    <tr>\n",
       "      <th>3</th>\n",
       "      <td>1</td>\n",
       "      <td>Bangalore</td>\n",
       "      <td>22.713981</td>\n",
       "      <td>27.687</td>\n",
       "      <td>1.746</td>\n",
       "      <td>India</td>\n",
       "      <td>12.05</td>\n",
       "      <td>77.26</td>\n",
       "      <td>4</td>\n",
       "    </tr>\n",
       "    <tr>\n",
       "      <th>4</th>\n",
       "      <td>1</td>\n",
       "      <td>Bangalore</td>\n",
       "      <td>22.713981</td>\n",
       "      <td>27.619</td>\n",
       "      <td>1.277</td>\n",
       "      <td>India</td>\n",
       "      <td>12.05</td>\n",
       "      <td>77.26</td>\n",
       "      <td>5</td>\n",
       "    </tr>\n",
       "  </tbody>\n",
       "</table>\n",
       "</div>"
      ],
      "text/plain": [
       "   month       City  Mean_temp  AverageTemperature  \\\n",
       "0      1  Bangalore  22.713981              22.672   \n",
       "1      1  Bangalore  22.713981              24.420   \n",
       "2      1  Bangalore  22.713981              26.092   \n",
       "3      1  Bangalore  22.713981              27.687   \n",
       "4      1  Bangalore  22.713981              27.619   \n",
       "\n",
       "   AverageTemperatureUncertainty Country Latitude Longitude  Month  \n",
       "0                          2.317   India    12.05     77.26      1  \n",
       "1                          1.419   India    12.05     77.26      2  \n",
       "2                          2.459   India    12.05     77.26      3  \n",
       "3                          1.746   India    12.05     77.26      4  \n",
       "4                          1.277   India    12.05     77.26      5  "
      ]
     },
     "execution_count": 101,
     "metadata": {},
     "output_type": "execute_result"
    }
   ],
   "source": [
    "df=cities_temp.merge(cities,on='City',how='left')\n",
    "df.head()"
   ]
  },
  {
   "cell_type": "code",
   "execution_count": 102,
   "id": "dress-louis",
   "metadata": {
    "execution": {
     "iopub.execute_input": "2021-06-13T15:29:56.137364Z",
     "iopub.status.busy": "2021-06-13T15:29:56.136555Z",
     "iopub.status.idle": "2021-06-13T15:29:56.172695Z",
     "shell.execute_reply": "2021-06-13T15:29:56.172178Z",
     "shell.execute_reply.started": "2021-06-13T15:09:31.588066Z"
    },
    "papermill": {
     "duration": 0.235965,
     "end_time": "2021-06-13T15:29:56.172841",
     "exception": false,
     "start_time": "2021-06-13T15:29:55.936876",
     "status": "completed"
    },
    "tags": []
   },
   "outputs": [],
   "source": [
    "data=df.drop_duplicates(subset=['month','City'])"
   ]
  },
  {
   "cell_type": "code",
   "execution_count": 103,
   "id": "remarkable-wellington",
   "metadata": {
    "execution": {
     "iopub.execute_input": "2021-06-13T15:29:56.464027Z",
     "iopub.status.busy": "2021-06-13T15:29:56.463164Z",
     "iopub.status.idle": "2021-06-13T15:29:56.467501Z",
     "shell.execute_reply": "2021-06-13T15:29:56.466841Z",
     "shell.execute_reply.started": "2021-06-13T15:09:31.63152Z"
    },
    "papermill": {
     "duration": 0.154465,
     "end_time": "2021-06-13T15:29:56.467647",
     "exception": false,
     "start_time": "2021-06-13T15:29:56.313182",
     "status": "completed"
    },
    "tags": []
   },
   "outputs": [
    {
     "data": {
      "text/html": [
       "<div>\n",
       "<style scoped>\n",
       "    .dataframe tbody tr th:only-of-type {\n",
       "        vertical-align: middle;\n",
       "    }\n",
       "\n",
       "    .dataframe tbody tr th {\n",
       "        vertical-align: top;\n",
       "    }\n",
       "\n",
       "    .dataframe thead th {\n",
       "        text-align: right;\n",
       "    }\n",
       "</style>\n",
       "<table border=\"1\" class=\"dataframe\">\n",
       "  <thead>\n",
       "    <tr style=\"text-align: right;\">\n",
       "      <th></th>\n",
       "      <th>month</th>\n",
       "      <th>City</th>\n",
       "      <th>Mean_temp</th>\n",
       "      <th>AverageTemperature</th>\n",
       "      <th>AverageTemperatureUncertainty</th>\n",
       "      <th>Country</th>\n",
       "      <th>Latitude</th>\n",
       "      <th>Longitude</th>\n",
       "      <th>Month</th>\n",
       "    </tr>\n",
       "  </thead>\n",
       "  <tbody>\n",
       "    <tr>\n",
       "      <th>0</th>\n",
       "      <td>1</td>\n",
       "      <td>Bangalore</td>\n",
       "      <td>22.713981</td>\n",
       "      <td>22.672</td>\n",
       "      <td>2.317</td>\n",
       "      <td>India</td>\n",
       "      <td>12.05</td>\n",
       "      <td>77.26</td>\n",
       "      <td>1</td>\n",
       "    </tr>\n",
       "    <tr>\n",
       "      <th>2613</th>\n",
       "      <td>1</td>\n",
       "      <td>Calcutta</td>\n",
       "      <td>18.534335</td>\n",
       "      <td>18.708</td>\n",
       "      <td>2.305</td>\n",
       "      <td>India</td>\n",
       "      <td>23.31</td>\n",
       "      <td>88.25</td>\n",
       "      <td>1</td>\n",
       "    </tr>\n",
       "    <tr>\n",
       "      <th>5226</th>\n",
       "      <td>1</td>\n",
       "      <td>Gurgaon</td>\n",
       "      <td>14.238560</td>\n",
       "      <td>14.590</td>\n",
       "      <td>2.374</td>\n",
       "      <td>India</td>\n",
       "      <td>28.13</td>\n",
       "      <td>77.27</td>\n",
       "      <td>1</td>\n",
       "    </tr>\n",
       "    <tr>\n",
       "      <th>7839</th>\n",
       "      <td>1</td>\n",
       "      <td>Hyderabad</td>\n",
       "      <td>22.758290</td>\n",
       "      <td>22.759</td>\n",
       "      <td>2.322</td>\n",
       "      <td>India</td>\n",
       "      <td>16.87</td>\n",
       "      <td>78.70</td>\n",
       "      <td>1</td>\n",
       "    </tr>\n",
       "    <tr>\n",
       "      <th>10452</th>\n",
       "      <td>1</td>\n",
       "      <td>Madras</td>\n",
       "      <td>24.346733</td>\n",
       "      <td>24.252</td>\n",
       "      <td>2.433</td>\n",
       "      <td>India</td>\n",
       "      <td>13.66</td>\n",
       "      <td>80.09</td>\n",
       "      <td>1</td>\n",
       "    </tr>\n",
       "  </tbody>\n",
       "</table>\n",
       "</div>"
      ],
      "text/plain": [
       "       month       City  Mean_temp  AverageTemperature  \\\n",
       "0          1  Bangalore  22.713981              22.672   \n",
       "2613       1   Calcutta  18.534335              18.708   \n",
       "5226       1    Gurgaon  14.238560              14.590   \n",
       "7839       1  Hyderabad  22.758290              22.759   \n",
       "10452      1     Madras  24.346733              24.252   \n",
       "\n",
       "       AverageTemperatureUncertainty Country Latitude Longitude  Month  \n",
       "0                              2.317   India    12.05     77.26      1  \n",
       "2613                           2.305   India    23.31     88.25      1  \n",
       "5226                           2.374   India    28.13     77.27      1  \n",
       "7839                           2.322   India    16.87     78.70      1  \n",
       "10452                          2.433   India    13.66     80.09      1  "
      ]
     },
     "execution_count": 103,
     "metadata": {},
     "output_type": "execute_result"
    }
   ],
   "source": [
    "data.head()"
   ]
  },
  {
   "cell_type": "code",
   "execution_count": 104,
   "id": "sound-treasurer",
   "metadata": {
    "execution": {
     "iopub.execute_input": "2021-06-13T15:29:56.753679Z",
     "iopub.status.busy": "2021-06-13T15:29:56.752416Z",
     "iopub.status.idle": "2021-06-13T15:29:56.754548Z",
     "shell.execute_reply": "2021-06-13T15:29:56.755075Z",
     "shell.execute_reply.started": "2021-06-13T15:09:31.649009Z"
    },
    "papermill": {
     "duration": 0.146429,
     "end_time": "2021-06-13T15:29:56.755207",
     "exception": false,
     "start_time": "2021-06-13T15:29:56.608778",
     "status": "completed"
    },
    "tags": []
   },
   "outputs": [],
   "source": [
    "data2=data[['month','City','Mean_temp','Country','Latitude','Longitude']]"
   ]
  },
  {
   "cell_type": "code",
   "execution_count": 105,
   "id": "spoken-coaching",
   "metadata": {
    "execution": {
     "iopub.execute_input": "2021-06-13T15:29:57.086804Z",
     "iopub.status.busy": "2021-06-13T15:29:57.086010Z",
     "iopub.status.idle": "2021-06-13T15:29:57.089086Z",
     "shell.execute_reply": "2021-06-13T15:29:57.089491Z",
     "shell.execute_reply.started": "2021-06-13T15:09:31.658926Z"
    },
    "papermill": {
     "duration": 0.166588,
     "end_time": "2021-06-13T15:29:57.089624",
     "exception": false,
     "start_time": "2021-06-13T15:29:56.923036",
     "status": "completed"
    },
    "tags": []
   },
   "outputs": [
    {
     "data": {
      "text/html": [
       "<div>\n",
       "<style scoped>\n",
       "    .dataframe tbody tr th:only-of-type {\n",
       "        vertical-align: middle;\n",
       "    }\n",
       "\n",
       "    .dataframe tbody tr th {\n",
       "        vertical-align: top;\n",
       "    }\n",
       "\n",
       "    .dataframe thead th {\n",
       "        text-align: right;\n",
       "    }\n",
       "</style>\n",
       "<table border=\"1\" class=\"dataframe\">\n",
       "  <thead>\n",
       "    <tr style=\"text-align: right;\">\n",
       "      <th></th>\n",
       "      <th>month</th>\n",
       "      <th>City</th>\n",
       "      <th>Mean_temp</th>\n",
       "      <th>Country</th>\n",
       "      <th>Latitude</th>\n",
       "      <th>Longitude</th>\n",
       "    </tr>\n",
       "  </thead>\n",
       "  <tbody>\n",
       "    <tr>\n",
       "      <th>0</th>\n",
       "      <td>1</td>\n",
       "      <td>Bangalore</td>\n",
       "      <td>22.713981</td>\n",
       "      <td>India</td>\n",
       "      <td>12.05</td>\n",
       "      <td>77.26</td>\n",
       "    </tr>\n",
       "    <tr>\n",
       "      <th>2613</th>\n",
       "      <td>1</td>\n",
       "      <td>Calcutta</td>\n",
       "      <td>18.534335</td>\n",
       "      <td>India</td>\n",
       "      <td>23.31</td>\n",
       "      <td>88.25</td>\n",
       "    </tr>\n",
       "    <tr>\n",
       "      <th>5226</th>\n",
       "      <td>1</td>\n",
       "      <td>Gurgaon</td>\n",
       "      <td>14.238560</td>\n",
       "      <td>India</td>\n",
       "      <td>28.13</td>\n",
       "      <td>77.27</td>\n",
       "    </tr>\n",
       "    <tr>\n",
       "      <th>7839</th>\n",
       "      <td>1</td>\n",
       "      <td>Hyderabad</td>\n",
       "      <td>22.758290</td>\n",
       "      <td>India</td>\n",
       "      <td>16.87</td>\n",
       "      <td>78.70</td>\n",
       "    </tr>\n",
       "    <tr>\n",
       "      <th>10452</th>\n",
       "      <td>1</td>\n",
       "      <td>Madras</td>\n",
       "      <td>24.346733</td>\n",
       "      <td>India</td>\n",
       "      <td>13.66</td>\n",
       "      <td>80.09</td>\n",
       "    </tr>\n",
       "  </tbody>\n",
       "</table>\n",
       "</div>"
      ],
      "text/plain": [
       "       month       City  Mean_temp Country Latitude Longitude\n",
       "0          1  Bangalore  22.713981   India    12.05     77.26\n",
       "2613       1   Calcutta  18.534335   India    23.31     88.25\n",
       "5226       1    Gurgaon  14.238560   India    28.13     77.27\n",
       "7839       1  Hyderabad  22.758290   India    16.87     78.70\n",
       "10452      1     Madras  24.346733   India    13.66     80.09"
      ]
     },
     "execution_count": 105,
     "metadata": {},
     "output_type": "execute_result"
    }
   ],
   "source": [
    "data2.head()"
   ]
  },
  {
   "cell_type": "code",
   "execution_count": 106,
   "id": "mighty-boutique",
   "metadata": {
    "execution": {
     "iopub.execute_input": "2021-06-13T15:29:57.375343Z",
     "iopub.status.busy": "2021-06-13T15:29:57.374596Z",
     "iopub.status.idle": "2021-06-13T15:29:57.380684Z",
     "shell.execute_reply": "2021-06-13T15:29:57.380232Z",
     "shell.execute_reply.started": "2021-06-13T15:09:31.677614Z"
    },
    "papermill": {
     "duration": 0.149812,
     "end_time": "2021-06-13T15:29:57.380801",
     "exception": false,
     "start_time": "2021-06-13T15:29:57.230989",
     "status": "completed"
    },
    "tags": []
   },
   "outputs": [],
   "source": [
    "trace = go.Heatmap(z=data2['Mean_temp'],\n",
    "                   x=data2['month'],\n",
    "                   y=data2['City'])"
   ]
  },
  {
   "cell_type": "code",
   "execution_count": 107,
   "id": "successful-wallet",
   "metadata": {
    "execution": {
     "iopub.execute_input": "2021-06-13T15:29:57.665262Z",
     "iopub.status.busy": "2021-06-13T15:29:57.664485Z",
     "iopub.status.idle": "2021-06-13T15:29:57.667113Z",
     "shell.execute_reply": "2021-06-13T15:29:57.666703Z",
     "shell.execute_reply.started": "2021-06-13T15:09:31.691664Z"
    },
    "papermill": {
     "duration": 0.146138,
     "end_time": "2021-06-13T15:29:57.667223",
     "exception": false,
     "start_time": "2021-06-13T15:29:57.521085",
     "status": "completed"
    },
    "tags": []
   },
   "outputs": [],
   "source": [
    "data=[trace]\n",
    "layout = go.Layout(\n",
    "    title='Average Temperature Of Major Cities By Month in India',\n",
    ")"
   ]
  },
  {
   "cell_type": "code",
   "execution_count": 108,
   "id": "hired-hanging",
   "metadata": {
    "execution": {
     "iopub.execute_input": "2021-06-13T15:29:57.966731Z",
     "iopub.status.busy": "2021-06-13T15:29:57.965832Z",
     "iopub.status.idle": "2021-06-13T15:29:57.986901Z",
     "shell.execute_reply": "2021-06-13T15:29:57.986156Z",
     "shell.execute_reply.started": "2021-06-13T15:09:31.698529Z"
    },
    "papermill": {
     "duration": 0.179457,
     "end_time": "2021-06-13T15:29:57.987080",
     "exception": false,
     "start_time": "2021-06-13T15:29:57.807623",
     "status": "completed"
    },
    "tags": []
   },
   "outputs": [
    {
     "data": {
      "application/vnd.plotly.v1+json": {
       "config": {
        "plotlyServerURL": "https://plot.ly"
       },
       "data": [
        {
         "type": "heatmap",
         "x": [
          1,
          1,
          1,
          1,
          1,
          1,
          1,
          2,
          2,
          2,
          2,
          2,
          2,
          2,
          3,
          3,
          3,
          3,
          3,
          3,
          3,
          4,
          4,
          4,
          4,
          4,
          4,
          4,
          5,
          5,
          5,
          5,
          5,
          5,
          5,
          6,
          6,
          6,
          6,
          6,
          6,
          6,
          7,
          7,
          7,
          7,
          7,
          7,
          7,
          8,
          8,
          8,
          8,
          8,
          8,
          8,
          9,
          9,
          9,
          9,
          9,
          9,
          9,
          10,
          10,
          10,
          10,
          10,
          10,
          10,
          11,
          11,
          11,
          11,
          11,
          11,
          11,
          12,
          12,
          12,
          12,
          12,
          12,
          12
         ],
         "y": [
          "Bangalore",
          "Calcutta",
          "Gurgaon",
          "Hyderabad",
          "Madras",
          "New Delhi",
          "Pune",
          "Bangalore",
          "Calcutta",
          "Gurgaon",
          "Hyderabad",
          "Madras",
          "New Delhi",
          "Pune",
          "Bangalore",
          "Calcutta",
          "Gurgaon",
          "Hyderabad",
          "Madras",
          "New Delhi",
          "Pune",
          "Bangalore",
          "Calcutta",
          "Gurgaon",
          "Hyderabad",
          "Madras",
          "New Delhi",
          "Pune",
          "Bangalore",
          "Calcutta",
          "Gurgaon",
          "Hyderabad",
          "Madras",
          "New Delhi",
          "Pune",
          "Bangalore",
          "Calcutta",
          "Gurgaon",
          "Hyderabad",
          "Madras",
          "New Delhi",
          "Pune",
          "Bangalore",
          "Calcutta",
          "Gurgaon",
          "Hyderabad",
          "Madras",
          "New Delhi",
          "Pune",
          "Bangalore",
          "Calcutta",
          "Gurgaon",
          "Hyderabad",
          "Madras",
          "New Delhi",
          "Pune",
          "Bangalore",
          "Calcutta",
          "Gurgaon",
          "Hyderabad",
          "Madras",
          "New Delhi",
          "Pune",
          "Bangalore",
          "Calcutta",
          "Gurgaon",
          "Hyderabad",
          "Madras",
          "New Delhi",
          "Pune",
          "Bangalore",
          "Calcutta",
          "Gurgaon",
          "Hyderabad",
          "Madras",
          "New Delhi",
          "Pune",
          "Bangalore",
          "Calcutta",
          "Gurgaon",
          "Hyderabad",
          "Madras",
          "New Delhi",
          "Pune"
         ],
         "z": [
          22.713980952380954,
          18.53433490566037,
          14.238560000000001,
          22.75829047619048,
          24.346733333333344,
          14.238560000000001,
          20.44820476190477,
          24.656619047619056,
          21.5039858490566,
          17.144979999999997,
          25.31707619047618,
          25.831404761904775,
          17.144979999999997,
          22.607923809523797,
          27.062185714285704,
          26.596806603773597,
          23.0148040201005,
          28.80354285714285,
          28.11444761904761,
          23.0148040201005,
          26.287685714285704,
          27.98851690821257,
          29.847133971291882,
          29.004575757575754,
          31.4655652173913,
          30.441304347826076,
          29.004575757575754,
          29.00440096618357,
          27.52275362318839,
          30.5862870813397,
          33.29705102040816,
          32.70200483091788,
          32.58195169082126,
          33.29705102040816,
          29.83820289855073,
          25.468799043062212,
          29.920981042654024,
          33.866005,
          29.96846889952153,
          32.14238277511963,
          33.866005,
          27.220028708133984,
          24.40048095238094,
          28.995377358490565,
          31.174114427860694,
          27.21658571428572,
          30.658619047619034,
          31.174114427860694,
          24.724738095238102,
          24.362909523809517,
          28.809150943396208,
          29.75242288557213,
          26.57353333333333,
          29.977352380952375,
          29.75242288557213,
          24.197833333333328,
          24.495114832535872,
          28.59412322274881,
          28.994464999999995,
          26.640239234449766,
          29.39702870813397,
          28.994464999999995,
          24.56574162679425,
          24.09178468899521,
          26.874407582938392,
          25.86637500000001,
          25.6796220095694,
          27.74167942583734,
          25.86637500000001,
          24.367425837320575,
          23.265157894736852,
          23.160976303317533,
          20.34651000000001,
          23.50813397129185,
          25.666679425837323,
          20.34651000000001,
          22.31366985645932,
          22.29085576923078,
          19.156114285714285,
          15.378814070351764,
          21.89253846153845,
          24.168721153846146,
          15.378814070351764,
          20.253653846153856
         ]
        }
       ],
       "layout": {
        "template": {
         "data": {
          "bar": [
           {
            "error_x": {
             "color": "#2a3f5f"
            },
            "error_y": {
             "color": "#2a3f5f"
            },
            "marker": {
             "line": {
              "color": "#E5ECF6",
              "width": 0.5
             }
            },
            "type": "bar"
           }
          ],
          "barpolar": [
           {
            "marker": {
             "line": {
              "color": "#E5ECF6",
              "width": 0.5
             }
            },
            "type": "barpolar"
           }
          ],
          "carpet": [
           {
            "aaxis": {
             "endlinecolor": "#2a3f5f",
             "gridcolor": "white",
             "linecolor": "white",
             "minorgridcolor": "white",
             "startlinecolor": "#2a3f5f"
            },
            "baxis": {
             "endlinecolor": "#2a3f5f",
             "gridcolor": "white",
             "linecolor": "white",
             "minorgridcolor": "white",
             "startlinecolor": "#2a3f5f"
            },
            "type": "carpet"
           }
          ],
          "choropleth": [
           {
            "colorbar": {
             "outlinewidth": 0,
             "ticks": ""
            },
            "type": "choropleth"
           }
          ],
          "contour": [
           {
            "colorbar": {
             "outlinewidth": 0,
             "ticks": ""
            },
            "colorscale": [
             [
              0.0,
              "#0d0887"
             ],
             [
              0.1111111111111111,
              "#46039f"
             ],
             [
              0.2222222222222222,
              "#7201a8"
             ],
             [
              0.3333333333333333,
              "#9c179e"
             ],
             [
              0.4444444444444444,
              "#bd3786"
             ],
             [
              0.5555555555555556,
              "#d8576b"
             ],
             [
              0.6666666666666666,
              "#ed7953"
             ],
             [
              0.7777777777777778,
              "#fb9f3a"
             ],
             [
              0.8888888888888888,
              "#fdca26"
             ],
             [
              1.0,
              "#f0f921"
             ]
            ],
            "type": "contour"
           }
          ],
          "contourcarpet": [
           {
            "colorbar": {
             "outlinewidth": 0,
             "ticks": ""
            },
            "type": "contourcarpet"
           }
          ],
          "heatmap": [
           {
            "colorbar": {
             "outlinewidth": 0,
             "ticks": ""
            },
            "colorscale": [
             [
              0.0,
              "#0d0887"
             ],
             [
              0.1111111111111111,
              "#46039f"
             ],
             [
              0.2222222222222222,
              "#7201a8"
             ],
             [
              0.3333333333333333,
              "#9c179e"
             ],
             [
              0.4444444444444444,
              "#bd3786"
             ],
             [
              0.5555555555555556,
              "#d8576b"
             ],
             [
              0.6666666666666666,
              "#ed7953"
             ],
             [
              0.7777777777777778,
              "#fb9f3a"
             ],
             [
              0.8888888888888888,
              "#fdca26"
             ],
             [
              1.0,
              "#f0f921"
             ]
            ],
            "type": "heatmap"
           }
          ],
          "heatmapgl": [
           {
            "colorbar": {
             "outlinewidth": 0,
             "ticks": ""
            },
            "colorscale": [
             [
              0.0,
              "#0d0887"
             ],
             [
              0.1111111111111111,
              "#46039f"
             ],
             [
              0.2222222222222222,
              "#7201a8"
             ],
             [
              0.3333333333333333,
              "#9c179e"
             ],
             [
              0.4444444444444444,
              "#bd3786"
             ],
             [
              0.5555555555555556,
              "#d8576b"
             ],
             [
              0.6666666666666666,
              "#ed7953"
             ],
             [
              0.7777777777777778,
              "#fb9f3a"
             ],
             [
              0.8888888888888888,
              "#fdca26"
             ],
             [
              1.0,
              "#f0f921"
             ]
            ],
            "type": "heatmapgl"
           }
          ],
          "histogram": [
           {
            "marker": {
             "colorbar": {
              "outlinewidth": 0,
              "ticks": ""
             }
            },
            "type": "histogram"
           }
          ],
          "histogram2d": [
           {
            "colorbar": {
             "outlinewidth": 0,
             "ticks": ""
            },
            "colorscale": [
             [
              0.0,
              "#0d0887"
             ],
             [
              0.1111111111111111,
              "#46039f"
             ],
             [
              0.2222222222222222,
              "#7201a8"
             ],
             [
              0.3333333333333333,
              "#9c179e"
             ],
             [
              0.4444444444444444,
              "#bd3786"
             ],
             [
              0.5555555555555556,
              "#d8576b"
             ],
             [
              0.6666666666666666,
              "#ed7953"
             ],
             [
              0.7777777777777778,
              "#fb9f3a"
             ],
             [
              0.8888888888888888,
              "#fdca26"
             ],
             [
              1.0,
              "#f0f921"
             ]
            ],
            "type": "histogram2d"
           }
          ],
          "histogram2dcontour": [
           {
            "colorbar": {
             "outlinewidth": 0,
             "ticks": ""
            },
            "colorscale": [
             [
              0.0,
              "#0d0887"
             ],
             [
              0.1111111111111111,
              "#46039f"
             ],
             [
              0.2222222222222222,
              "#7201a8"
             ],
             [
              0.3333333333333333,
              "#9c179e"
             ],
             [
              0.4444444444444444,
              "#bd3786"
             ],
             [
              0.5555555555555556,
              "#d8576b"
             ],
             [
              0.6666666666666666,
              "#ed7953"
             ],
             [
              0.7777777777777778,
              "#fb9f3a"
             ],
             [
              0.8888888888888888,
              "#fdca26"
             ],
             [
              1.0,
              "#f0f921"
             ]
            ],
            "type": "histogram2dcontour"
           }
          ],
          "mesh3d": [
           {
            "colorbar": {
             "outlinewidth": 0,
             "ticks": ""
            },
            "type": "mesh3d"
           }
          ],
          "parcoords": [
           {
            "line": {
             "colorbar": {
              "outlinewidth": 0,
              "ticks": ""
             }
            },
            "type": "parcoords"
           }
          ],
          "pie": [
           {
            "automargin": true,
            "type": "pie"
           }
          ],
          "scatter": [
           {
            "marker": {
             "colorbar": {
              "outlinewidth": 0,
              "ticks": ""
             }
            },
            "type": "scatter"
           }
          ],
          "scatter3d": [
           {
            "line": {
             "colorbar": {
              "outlinewidth": 0,
              "ticks": ""
             }
            },
            "marker": {
             "colorbar": {
              "outlinewidth": 0,
              "ticks": ""
             }
            },
            "type": "scatter3d"
           }
          ],
          "scattercarpet": [
           {
            "marker": {
             "colorbar": {
              "outlinewidth": 0,
              "ticks": ""
             }
            },
            "type": "scattercarpet"
           }
          ],
          "scattergeo": [
           {
            "marker": {
             "colorbar": {
              "outlinewidth": 0,
              "ticks": ""
             }
            },
            "type": "scattergeo"
           }
          ],
          "scattergl": [
           {
            "marker": {
             "colorbar": {
              "outlinewidth": 0,
              "ticks": ""
             }
            },
            "type": "scattergl"
           }
          ],
          "scattermapbox": [
           {
            "marker": {
             "colorbar": {
              "outlinewidth": 0,
              "ticks": ""
             }
            },
            "type": "scattermapbox"
           }
          ],
          "scatterpolar": [
           {
            "marker": {
             "colorbar": {
              "outlinewidth": 0,
              "ticks": ""
             }
            },
            "type": "scatterpolar"
           }
          ],
          "scatterpolargl": [
           {
            "marker": {
             "colorbar": {
              "outlinewidth": 0,
              "ticks": ""
             }
            },
            "type": "scatterpolargl"
           }
          ],
          "scatterternary": [
           {
            "marker": {
             "colorbar": {
              "outlinewidth": 0,
              "ticks": ""
             }
            },
            "type": "scatterternary"
           }
          ],
          "surface": [
           {
            "colorbar": {
             "outlinewidth": 0,
             "ticks": ""
            },
            "colorscale": [
             [
              0.0,
              "#0d0887"
             ],
             [
              0.1111111111111111,
              "#46039f"
             ],
             [
              0.2222222222222222,
              "#7201a8"
             ],
             [
              0.3333333333333333,
              "#9c179e"
             ],
             [
              0.4444444444444444,
              "#bd3786"
             ],
             [
              0.5555555555555556,
              "#d8576b"
             ],
             [
              0.6666666666666666,
              "#ed7953"
             ],
             [
              0.7777777777777778,
              "#fb9f3a"
             ],
             [
              0.8888888888888888,
              "#fdca26"
             ],
             [
              1.0,
              "#f0f921"
             ]
            ],
            "type": "surface"
           }
          ],
          "table": [
           {
            "cells": {
             "fill": {
              "color": "#EBF0F8"
             },
             "line": {
              "color": "white"
             }
            },
            "header": {
             "fill": {
              "color": "#C8D4E3"
             },
             "line": {
              "color": "white"
             }
            },
            "type": "table"
           }
          ]
         },
         "layout": {
          "annotationdefaults": {
           "arrowcolor": "#2a3f5f",
           "arrowhead": 0,
           "arrowwidth": 1
          },
          "autotypenumbers": "strict",
          "coloraxis": {
           "colorbar": {
            "outlinewidth": 0,
            "ticks": ""
           }
          },
          "colorscale": {
           "diverging": [
            [
             0,
             "#8e0152"
            ],
            [
             0.1,
             "#c51b7d"
            ],
            [
             0.2,
             "#de77ae"
            ],
            [
             0.3,
             "#f1b6da"
            ],
            [
             0.4,
             "#fde0ef"
            ],
            [
             0.5,
             "#f7f7f7"
            ],
            [
             0.6,
             "#e6f5d0"
            ],
            [
             0.7,
             "#b8e186"
            ],
            [
             0.8,
             "#7fbc41"
            ],
            [
             0.9,
             "#4d9221"
            ],
            [
             1,
             "#276419"
            ]
           ],
           "sequential": [
            [
             0.0,
             "#0d0887"
            ],
            [
             0.1111111111111111,
             "#46039f"
            ],
            [
             0.2222222222222222,
             "#7201a8"
            ],
            [
             0.3333333333333333,
             "#9c179e"
            ],
            [
             0.4444444444444444,
             "#bd3786"
            ],
            [
             0.5555555555555556,
             "#d8576b"
            ],
            [
             0.6666666666666666,
             "#ed7953"
            ],
            [
             0.7777777777777778,
             "#fb9f3a"
            ],
            [
             0.8888888888888888,
             "#fdca26"
            ],
            [
             1.0,
             "#f0f921"
            ]
           ],
           "sequentialminus": [
            [
             0.0,
             "#0d0887"
            ],
            [
             0.1111111111111111,
             "#46039f"
            ],
            [
             0.2222222222222222,
             "#7201a8"
            ],
            [
             0.3333333333333333,
             "#9c179e"
            ],
            [
             0.4444444444444444,
             "#bd3786"
            ],
            [
             0.5555555555555556,
             "#d8576b"
            ],
            [
             0.6666666666666666,
             "#ed7953"
            ],
            [
             0.7777777777777778,
             "#fb9f3a"
            ],
            [
             0.8888888888888888,
             "#fdca26"
            ],
            [
             1.0,
             "#f0f921"
            ]
           ]
          },
          "colorway": [
           "#636efa",
           "#EF553B",
           "#00cc96",
           "#ab63fa",
           "#FFA15A",
           "#19d3f3",
           "#FF6692",
           "#B6E880",
           "#FF97FF",
           "#FECB52"
          ],
          "font": {
           "color": "#2a3f5f"
          },
          "geo": {
           "bgcolor": "white",
           "lakecolor": "white",
           "landcolor": "#E5ECF6",
           "showlakes": true,
           "showland": true,
           "subunitcolor": "white"
          },
          "hoverlabel": {
           "align": "left"
          },
          "hovermode": "closest",
          "mapbox": {
           "style": "light"
          },
          "paper_bgcolor": "white",
          "plot_bgcolor": "#E5ECF6",
          "polar": {
           "angularaxis": {
            "gridcolor": "white",
            "linecolor": "white",
            "ticks": ""
           },
           "bgcolor": "#E5ECF6",
           "radialaxis": {
            "gridcolor": "white",
            "linecolor": "white",
            "ticks": ""
           }
          },
          "scene": {
           "xaxis": {
            "backgroundcolor": "#E5ECF6",
            "gridcolor": "white",
            "gridwidth": 2,
            "linecolor": "white",
            "showbackground": true,
            "ticks": "",
            "zerolinecolor": "white"
           },
           "yaxis": {
            "backgroundcolor": "#E5ECF6",
            "gridcolor": "white",
            "gridwidth": 2,
            "linecolor": "white",
            "showbackground": true,
            "ticks": "",
            "zerolinecolor": "white"
           },
           "zaxis": {
            "backgroundcolor": "#E5ECF6",
            "gridcolor": "white",
            "gridwidth": 2,
            "linecolor": "white",
            "showbackground": true,
            "ticks": "",
            "zerolinecolor": "white"
           }
          },
          "shapedefaults": {
           "line": {
            "color": "#2a3f5f"
           }
          },
          "ternary": {
           "aaxis": {
            "gridcolor": "white",
            "linecolor": "white",
            "ticks": ""
           },
           "baxis": {
            "gridcolor": "white",
            "linecolor": "white",
            "ticks": ""
           },
           "bgcolor": "#E5ECF6",
           "caxis": {
            "gridcolor": "white",
            "linecolor": "white",
            "ticks": ""
           }
          },
          "title": {
           "x": 0.05
          },
          "xaxis": {
           "automargin": true,
           "gridcolor": "white",
           "linecolor": "white",
           "ticks": "",
           "title": {
            "standoff": 15
           },
           "zerolinecolor": "white",
           "zerolinewidth": 2
          },
          "yaxis": {
           "automargin": true,
           "gridcolor": "white",
           "linecolor": "white",
           "ticks": "",
           "title": {
            "standoff": 15
           },
           "zerolinecolor": "white",
           "zerolinewidth": 2
          }
         }
        },
        "title": {
         "text": "Average Temperature Of Major Cities By Month in India"
        }
       }
      },
      "text/html": [
       "<div>                            <div id=\"16230e93-7a9d-4be3-aa25-6aa0f4c373e3\" class=\"plotly-graph-div\" style=\"height:525px; width:100%;\"></div>            <script type=\"text/javascript\">                require([\"plotly\"], function(Plotly) {                    window.PLOTLYENV=window.PLOTLYENV || {};                                    if (document.getElementById(\"16230e93-7a9d-4be3-aa25-6aa0f4c373e3\")) {                    Plotly.newPlot(                        \"16230e93-7a9d-4be3-aa25-6aa0f4c373e3\",                        [{\"type\": \"heatmap\", \"x\": [1, 1, 1, 1, 1, 1, 1, 2, 2, 2, 2, 2, 2, 2, 3, 3, 3, 3, 3, 3, 3, 4, 4, 4, 4, 4, 4, 4, 5, 5, 5, 5, 5, 5, 5, 6, 6, 6, 6, 6, 6, 6, 7, 7, 7, 7, 7, 7, 7, 8, 8, 8, 8, 8, 8, 8, 9, 9, 9, 9, 9, 9, 9, 10, 10, 10, 10, 10, 10, 10, 11, 11, 11, 11, 11, 11, 11, 12, 12, 12, 12, 12, 12, 12], \"y\": [\"Bangalore\", \"Calcutta\", \"Gurgaon\", \"Hyderabad\", \"Madras\", \"New Delhi\", \"Pune\", \"Bangalore\", \"Calcutta\", \"Gurgaon\", \"Hyderabad\", \"Madras\", \"New Delhi\", \"Pune\", \"Bangalore\", \"Calcutta\", \"Gurgaon\", \"Hyderabad\", \"Madras\", \"New Delhi\", \"Pune\", \"Bangalore\", \"Calcutta\", \"Gurgaon\", \"Hyderabad\", \"Madras\", \"New Delhi\", \"Pune\", \"Bangalore\", \"Calcutta\", \"Gurgaon\", \"Hyderabad\", \"Madras\", \"New Delhi\", \"Pune\", \"Bangalore\", \"Calcutta\", \"Gurgaon\", \"Hyderabad\", \"Madras\", \"New Delhi\", \"Pune\", \"Bangalore\", \"Calcutta\", \"Gurgaon\", \"Hyderabad\", \"Madras\", \"New Delhi\", \"Pune\", \"Bangalore\", \"Calcutta\", \"Gurgaon\", \"Hyderabad\", \"Madras\", \"New Delhi\", \"Pune\", \"Bangalore\", \"Calcutta\", \"Gurgaon\", \"Hyderabad\", \"Madras\", \"New Delhi\", \"Pune\", \"Bangalore\", \"Calcutta\", \"Gurgaon\", \"Hyderabad\", \"Madras\", \"New Delhi\", \"Pune\", \"Bangalore\", \"Calcutta\", \"Gurgaon\", \"Hyderabad\", \"Madras\", \"New Delhi\", \"Pune\", \"Bangalore\", \"Calcutta\", \"Gurgaon\", \"Hyderabad\", \"Madras\", \"New Delhi\", \"Pune\"], \"z\": [22.713980952380954, 18.53433490566037, 14.238560000000001, 22.75829047619048, 24.346733333333344, 14.238560000000001, 20.44820476190477, 24.656619047619056, 21.5039858490566, 17.144979999999997, 25.31707619047618, 25.831404761904775, 17.144979999999997, 22.607923809523797, 27.062185714285704, 26.596806603773597, 23.0148040201005, 28.80354285714285, 28.11444761904761, 23.0148040201005, 26.287685714285704, 27.98851690821257, 29.847133971291882, 29.004575757575754, 31.4655652173913, 30.441304347826076, 29.004575757575754, 29.00440096618357, 27.52275362318839, 30.5862870813397, 33.29705102040816, 32.70200483091788, 32.58195169082126, 33.29705102040816, 29.83820289855073, 25.468799043062212, 29.920981042654024, 33.866005, 29.96846889952153, 32.14238277511963, 33.866005, 27.220028708133984, 24.40048095238094, 28.995377358490565, 31.174114427860694, 27.21658571428572, 30.658619047619034, 31.174114427860694, 24.724738095238102, 24.362909523809517, 28.809150943396208, 29.75242288557213, 26.57353333333333, 29.977352380952375, 29.75242288557213, 24.197833333333328, 24.495114832535872, 28.59412322274881, 28.994464999999995, 26.640239234449766, 29.39702870813397, 28.994464999999995, 24.56574162679425, 24.09178468899521, 26.874407582938392, 25.86637500000001, 25.6796220095694, 27.74167942583734, 25.86637500000001, 24.367425837320575, 23.265157894736852, 23.160976303317533, 20.34651000000001, 23.50813397129185, 25.666679425837323, 20.34651000000001, 22.31366985645932, 22.29085576923078, 19.156114285714285, 15.378814070351764, 21.89253846153845, 24.168721153846146, 15.378814070351764, 20.253653846153856]}],                        {\"template\": {\"data\": {\"bar\": [{\"error_x\": {\"color\": \"#2a3f5f\"}, \"error_y\": {\"color\": \"#2a3f5f\"}, \"marker\": {\"line\": {\"color\": \"#E5ECF6\", \"width\": 0.5}}, \"type\": \"bar\"}], \"barpolar\": [{\"marker\": {\"line\": {\"color\": \"#E5ECF6\", \"width\": 0.5}}, \"type\": \"barpolar\"}], \"carpet\": [{\"aaxis\": {\"endlinecolor\": \"#2a3f5f\", \"gridcolor\": \"white\", \"linecolor\": \"white\", \"minorgridcolor\": \"white\", \"startlinecolor\": \"#2a3f5f\"}, \"baxis\": {\"endlinecolor\": \"#2a3f5f\", \"gridcolor\": \"white\", \"linecolor\": \"white\", \"minorgridcolor\": \"white\", \"startlinecolor\": \"#2a3f5f\"}, \"type\": \"carpet\"}], \"choropleth\": [{\"colorbar\": {\"outlinewidth\": 0, \"ticks\": \"\"}, \"type\": \"choropleth\"}], \"contour\": [{\"colorbar\": {\"outlinewidth\": 0, \"ticks\": \"\"}, \"colorscale\": [[0.0, \"#0d0887\"], [0.1111111111111111, \"#46039f\"], [0.2222222222222222, \"#7201a8\"], [0.3333333333333333, \"#9c179e\"], [0.4444444444444444, \"#bd3786\"], [0.5555555555555556, \"#d8576b\"], [0.6666666666666666, \"#ed7953\"], [0.7777777777777778, \"#fb9f3a\"], [0.8888888888888888, \"#fdca26\"], [1.0, \"#f0f921\"]], \"type\": \"contour\"}], \"contourcarpet\": [{\"colorbar\": {\"outlinewidth\": 0, \"ticks\": \"\"}, \"type\": \"contourcarpet\"}], \"heatmap\": [{\"colorbar\": {\"outlinewidth\": 0, \"ticks\": \"\"}, \"colorscale\": [[0.0, \"#0d0887\"], [0.1111111111111111, \"#46039f\"], [0.2222222222222222, \"#7201a8\"], [0.3333333333333333, \"#9c179e\"], [0.4444444444444444, \"#bd3786\"], [0.5555555555555556, \"#d8576b\"], [0.6666666666666666, \"#ed7953\"], [0.7777777777777778, \"#fb9f3a\"], [0.8888888888888888, \"#fdca26\"], [1.0, \"#f0f921\"]], \"type\": \"heatmap\"}], \"heatmapgl\": [{\"colorbar\": {\"outlinewidth\": 0, \"ticks\": \"\"}, \"colorscale\": [[0.0, \"#0d0887\"], [0.1111111111111111, \"#46039f\"], [0.2222222222222222, \"#7201a8\"], [0.3333333333333333, \"#9c179e\"], [0.4444444444444444, \"#bd3786\"], [0.5555555555555556, \"#d8576b\"], [0.6666666666666666, \"#ed7953\"], [0.7777777777777778, \"#fb9f3a\"], [0.8888888888888888, \"#fdca26\"], [1.0, \"#f0f921\"]], \"type\": \"heatmapgl\"}], \"histogram\": [{\"marker\": {\"colorbar\": {\"outlinewidth\": 0, \"ticks\": \"\"}}, \"type\": \"histogram\"}], \"histogram2d\": [{\"colorbar\": {\"outlinewidth\": 0, \"ticks\": \"\"}, \"colorscale\": [[0.0, \"#0d0887\"], [0.1111111111111111, \"#46039f\"], [0.2222222222222222, \"#7201a8\"], [0.3333333333333333, \"#9c179e\"], [0.4444444444444444, \"#bd3786\"], [0.5555555555555556, \"#d8576b\"], [0.6666666666666666, \"#ed7953\"], [0.7777777777777778, \"#fb9f3a\"], [0.8888888888888888, \"#fdca26\"], [1.0, \"#f0f921\"]], \"type\": \"histogram2d\"}], \"histogram2dcontour\": [{\"colorbar\": {\"outlinewidth\": 0, \"ticks\": \"\"}, \"colorscale\": [[0.0, \"#0d0887\"], [0.1111111111111111, \"#46039f\"], [0.2222222222222222, \"#7201a8\"], [0.3333333333333333, \"#9c179e\"], [0.4444444444444444, \"#bd3786\"], [0.5555555555555556, \"#d8576b\"], [0.6666666666666666, \"#ed7953\"], [0.7777777777777778, \"#fb9f3a\"], [0.8888888888888888, \"#fdca26\"], [1.0, \"#f0f921\"]], \"type\": \"histogram2dcontour\"}], \"mesh3d\": [{\"colorbar\": {\"outlinewidth\": 0, \"ticks\": \"\"}, \"type\": \"mesh3d\"}], \"parcoords\": [{\"line\": {\"colorbar\": {\"outlinewidth\": 0, \"ticks\": \"\"}}, \"type\": \"parcoords\"}], \"pie\": [{\"automargin\": true, \"type\": \"pie\"}], \"scatter\": [{\"marker\": {\"colorbar\": {\"outlinewidth\": 0, \"ticks\": \"\"}}, \"type\": \"scatter\"}], \"scatter3d\": [{\"line\": {\"colorbar\": {\"outlinewidth\": 0, \"ticks\": \"\"}}, \"marker\": {\"colorbar\": {\"outlinewidth\": 0, \"ticks\": \"\"}}, \"type\": \"scatter3d\"}], \"scattercarpet\": [{\"marker\": {\"colorbar\": {\"outlinewidth\": 0, \"ticks\": \"\"}}, \"type\": \"scattercarpet\"}], \"scattergeo\": [{\"marker\": {\"colorbar\": {\"outlinewidth\": 0, \"ticks\": \"\"}}, \"type\": \"scattergeo\"}], \"scattergl\": [{\"marker\": {\"colorbar\": {\"outlinewidth\": 0, \"ticks\": \"\"}}, \"type\": \"scattergl\"}], \"scattermapbox\": [{\"marker\": {\"colorbar\": {\"outlinewidth\": 0, \"ticks\": \"\"}}, \"type\": \"scattermapbox\"}], \"scatterpolar\": [{\"marker\": {\"colorbar\": {\"outlinewidth\": 0, \"ticks\": \"\"}}, \"type\": \"scatterpolar\"}], \"scatterpolargl\": [{\"marker\": {\"colorbar\": {\"outlinewidth\": 0, \"ticks\": \"\"}}, \"type\": \"scatterpolargl\"}], \"scatterternary\": [{\"marker\": {\"colorbar\": {\"outlinewidth\": 0, \"ticks\": \"\"}}, \"type\": \"scatterternary\"}], \"surface\": [{\"colorbar\": {\"outlinewidth\": 0, \"ticks\": \"\"}, \"colorscale\": [[0.0, \"#0d0887\"], [0.1111111111111111, \"#46039f\"], [0.2222222222222222, \"#7201a8\"], [0.3333333333333333, \"#9c179e\"], [0.4444444444444444, \"#bd3786\"], [0.5555555555555556, \"#d8576b\"], [0.6666666666666666, \"#ed7953\"], [0.7777777777777778, \"#fb9f3a\"], [0.8888888888888888, \"#fdca26\"], [1.0, \"#f0f921\"]], \"type\": \"surface\"}], \"table\": [{\"cells\": {\"fill\": {\"color\": \"#EBF0F8\"}, \"line\": {\"color\": \"white\"}}, \"header\": {\"fill\": {\"color\": \"#C8D4E3\"}, \"line\": {\"color\": \"white\"}}, \"type\": \"table\"}]}, \"layout\": {\"annotationdefaults\": {\"arrowcolor\": \"#2a3f5f\", \"arrowhead\": 0, \"arrowwidth\": 1}, \"autotypenumbers\": \"strict\", \"coloraxis\": {\"colorbar\": {\"outlinewidth\": 0, \"ticks\": \"\"}}, \"colorscale\": {\"diverging\": [[0, \"#8e0152\"], [0.1, \"#c51b7d\"], [0.2, \"#de77ae\"], [0.3, \"#f1b6da\"], [0.4, \"#fde0ef\"], [0.5, \"#f7f7f7\"], [0.6, \"#e6f5d0\"], [0.7, \"#b8e186\"], [0.8, \"#7fbc41\"], [0.9, \"#4d9221\"], [1, \"#276419\"]], \"sequential\": [[0.0, \"#0d0887\"], [0.1111111111111111, \"#46039f\"], [0.2222222222222222, \"#7201a8\"], [0.3333333333333333, \"#9c179e\"], [0.4444444444444444, \"#bd3786\"], [0.5555555555555556, \"#d8576b\"], [0.6666666666666666, \"#ed7953\"], [0.7777777777777778, \"#fb9f3a\"], [0.8888888888888888, \"#fdca26\"], [1.0, \"#f0f921\"]], \"sequentialminus\": [[0.0, \"#0d0887\"], [0.1111111111111111, \"#46039f\"], [0.2222222222222222, \"#7201a8\"], [0.3333333333333333, \"#9c179e\"], [0.4444444444444444, \"#bd3786\"], [0.5555555555555556, \"#d8576b\"], [0.6666666666666666, \"#ed7953\"], [0.7777777777777778, \"#fb9f3a\"], [0.8888888888888888, \"#fdca26\"], [1.0, \"#f0f921\"]]}, \"colorway\": [\"#636efa\", \"#EF553B\", \"#00cc96\", \"#ab63fa\", \"#FFA15A\", \"#19d3f3\", \"#FF6692\", \"#B6E880\", \"#FF97FF\", \"#FECB52\"], \"font\": {\"color\": \"#2a3f5f\"}, \"geo\": {\"bgcolor\": \"white\", \"lakecolor\": \"white\", \"landcolor\": \"#E5ECF6\", \"showlakes\": true, \"showland\": true, \"subunitcolor\": \"white\"}, \"hoverlabel\": {\"align\": \"left\"}, \"hovermode\": \"closest\", \"mapbox\": {\"style\": \"light\"}, \"paper_bgcolor\": \"white\", \"plot_bgcolor\": \"#E5ECF6\", \"polar\": {\"angularaxis\": {\"gridcolor\": \"white\", \"linecolor\": \"white\", \"ticks\": \"\"}, \"bgcolor\": \"#E5ECF6\", \"radialaxis\": {\"gridcolor\": \"white\", \"linecolor\": \"white\", \"ticks\": \"\"}}, \"scene\": {\"xaxis\": {\"backgroundcolor\": \"#E5ECF6\", \"gridcolor\": \"white\", \"gridwidth\": 2, \"linecolor\": \"white\", \"showbackground\": true, \"ticks\": \"\", \"zerolinecolor\": \"white\"}, \"yaxis\": {\"backgroundcolor\": \"#E5ECF6\", \"gridcolor\": \"white\", \"gridwidth\": 2, \"linecolor\": \"white\", \"showbackground\": true, \"ticks\": \"\", \"zerolinecolor\": \"white\"}, \"zaxis\": {\"backgroundcolor\": \"#E5ECF6\", \"gridcolor\": \"white\", \"gridwidth\": 2, \"linecolor\": \"white\", \"showbackground\": true, \"ticks\": \"\", \"zerolinecolor\": \"white\"}}, \"shapedefaults\": {\"line\": {\"color\": \"#2a3f5f\"}}, \"ternary\": {\"aaxis\": {\"gridcolor\": \"white\", \"linecolor\": \"white\", \"ticks\": \"\"}, \"baxis\": {\"gridcolor\": \"white\", \"linecolor\": \"white\", \"ticks\": \"\"}, \"bgcolor\": \"#E5ECF6\", \"caxis\": {\"gridcolor\": \"white\", \"linecolor\": \"white\", \"ticks\": \"\"}}, \"title\": {\"x\": 0.05}, \"xaxis\": {\"automargin\": true, \"gridcolor\": \"white\", \"linecolor\": \"white\", \"ticks\": \"\", \"title\": {\"standoff\": 15}, \"zerolinecolor\": \"white\", \"zerolinewidth\": 2}, \"yaxis\": {\"automargin\": true, \"gridcolor\": \"white\", \"linecolor\": \"white\", \"ticks\": \"\", \"title\": {\"standoff\": 15}, \"zerolinecolor\": \"white\", \"zerolinewidth\": 2}}}, \"title\": {\"text\": \"Average Temperature Of Major Cities By Month in India\"}},                        {\"responsive\": true}                    ).then(function(){\n",
       "                            \n",
       "var gd = document.getElementById('16230e93-7a9d-4be3-aa25-6aa0f4c373e3');\n",
       "var x = new MutationObserver(function (mutations, observer) {{\n",
       "        var display = window.getComputedStyle(gd).display;\n",
       "        if (!display || display === 'none') {{\n",
       "            console.log([gd, 'removed!']);\n",
       "            Plotly.purge(gd);\n",
       "            observer.disconnect();\n",
       "        }}\n",
       "}});\n",
       "\n",
       "// Listen for the removal of the full notebook cells\n",
       "var notebookContainer = gd.closest('#notebook-container');\n",
       "if (notebookContainer) {{\n",
       "    x.observe(notebookContainer, {childList: true});\n",
       "}}\n",
       "\n",
       "// Listen for the clearing of the current output cell\n",
       "var outputEl = gd.closest('.output');\n",
       "if (outputEl) {{\n",
       "    x.observe(outputEl, {childList: true});\n",
       "}}\n",
       "\n",
       "                        })                };                });            </script>        </div>"
      ]
     },
     "metadata": {},
     "output_type": "display_data"
    }
   ],
   "source": [
    "fig = go.Figure(data=data, layout=layout)\n",
    "fig.show()"
   ]
  },
  {
   "cell_type": "markdown",
   "id": "decimal-vinyl",
   "metadata": {
    "papermill": {
     "duration": 0.235533,
     "end_time": "2021-06-13T15:29:58.481362",
     "exception": false,
     "start_time": "2021-06-13T15:29:58.245829",
     "status": "completed"
    },
    "tags": []
   },
   "source": [
    "# Let's try to visualise temperature on a Map"
   ]
  },
  {
   "cell_type": "code",
   "execution_count": 109,
   "id": "delayed-margin",
   "metadata": {
    "execution": {
     "iopub.execute_input": "2021-06-13T15:29:58.785061Z",
     "iopub.status.busy": "2021-06-13T15:29:58.784411Z",
     "iopub.status.idle": "2021-06-13T15:29:58.787367Z",
     "shell.execute_reply": "2021-06-13T15:29:58.787777Z",
     "shell.execute_reply.started": "2021-06-13T15:09:31.71873Z"
    },
    "papermill": {
     "duration": 0.159516,
     "end_time": "2021-06-13T15:29:58.787918",
     "exception": false,
     "start_time": "2021-06-13T15:29:58.628402",
     "status": "completed"
    },
    "tags": []
   },
   "outputs": [
    {
     "data": {
      "text/html": [
       "<div>\n",
       "<style scoped>\n",
       "    .dataframe tbody tr th:only-of-type {\n",
       "        vertical-align: middle;\n",
       "    }\n",
       "\n",
       "    .dataframe tbody tr th {\n",
       "        vertical-align: top;\n",
       "    }\n",
       "\n",
       "    .dataframe thead th {\n",
       "        text-align: right;\n",
       "    }\n",
       "</style>\n",
       "<table border=\"1\" class=\"dataframe\">\n",
       "  <thead>\n",
       "    <tr style=\"text-align: right;\">\n",
       "      <th></th>\n",
       "      <th>month</th>\n",
       "      <th>City</th>\n",
       "      <th>Mean_temp</th>\n",
       "      <th>Country</th>\n",
       "      <th>Latitude</th>\n",
       "      <th>Longitude</th>\n",
       "    </tr>\n",
       "  </thead>\n",
       "  <tbody>\n",
       "    <tr>\n",
       "      <th>0</th>\n",
       "      <td>1</td>\n",
       "      <td>Bangalore</td>\n",
       "      <td>22.713981</td>\n",
       "      <td>India</td>\n",
       "      <td>12.05</td>\n",
       "      <td>77.26</td>\n",
       "    </tr>\n",
       "    <tr>\n",
       "      <th>2613</th>\n",
       "      <td>1</td>\n",
       "      <td>Calcutta</td>\n",
       "      <td>18.534335</td>\n",
       "      <td>India</td>\n",
       "      <td>23.31</td>\n",
       "      <td>88.25</td>\n",
       "    </tr>\n",
       "    <tr>\n",
       "      <th>5226</th>\n",
       "      <td>1</td>\n",
       "      <td>Gurgaon</td>\n",
       "      <td>14.238560</td>\n",
       "      <td>India</td>\n",
       "      <td>28.13</td>\n",
       "      <td>77.27</td>\n",
       "    </tr>\n",
       "    <tr>\n",
       "      <th>7839</th>\n",
       "      <td>1</td>\n",
       "      <td>Hyderabad</td>\n",
       "      <td>22.758290</td>\n",
       "      <td>India</td>\n",
       "      <td>16.87</td>\n",
       "      <td>78.70</td>\n",
       "    </tr>\n",
       "    <tr>\n",
       "      <th>10452</th>\n",
       "      <td>1</td>\n",
       "      <td>Madras</td>\n",
       "      <td>24.346733</td>\n",
       "      <td>India</td>\n",
       "      <td>13.66</td>\n",
       "      <td>80.09</td>\n",
       "    </tr>\n",
       "  </tbody>\n",
       "</table>\n",
       "</div>"
      ],
      "text/plain": [
       "       month       City  Mean_temp Country Latitude Longitude\n",
       "0          1  Bangalore  22.713981   India    12.05     77.26\n",
       "2613       1   Calcutta  18.534335   India    23.31     88.25\n",
       "5226       1    Gurgaon  14.238560   India    28.13     77.27\n",
       "7839       1  Hyderabad  22.758290   India    16.87     78.70\n",
       "10452      1     Madras  24.346733   India    13.66     80.09"
      ]
     },
     "execution_count": 109,
     "metadata": {},
     "output_type": "execute_result"
    }
   ],
   "source": [
    "data2.head()"
   ]
  },
  {
   "cell_type": "code",
   "execution_count": 110,
   "id": "thousand-budget",
   "metadata": {
    "execution": {
     "iopub.execute_input": "2021-06-13T15:29:59.085944Z",
     "iopub.status.busy": "2021-06-13T15:29:59.085421Z",
     "iopub.status.idle": "2021-06-13T15:29:59.091406Z",
     "shell.execute_reply": "2021-06-13T15:29:59.090985Z",
     "shell.execute_reply.started": "2021-06-13T15:09:31.731866Z"
    },
    "papermill": {
     "duration": 0.156591,
     "end_time": "2021-06-13T15:29:59.091520",
     "exception": false,
     "start_time": "2021-06-13T15:29:58.934929",
     "status": "completed"
    },
    "tags": []
   },
   "outputs": [
    {
     "data": {
      "text/plain": [
       "(84, 6)"
      ]
     },
     "execution_count": 110,
     "metadata": {},
     "output_type": "execute_result"
    }
   ],
   "source": [
    "data2.shape"
   ]
  },
  {
   "cell_type": "code",
   "execution_count": 111,
   "id": "directed-suspension",
   "metadata": {
    "execution": {
     "iopub.execute_input": "2021-06-13T15:29:59.390137Z",
     "iopub.status.busy": "2021-06-13T15:29:59.389570Z",
     "iopub.status.idle": "2021-06-13T15:29:59.395267Z",
     "shell.execute_reply": "2021-06-13T15:29:59.394707Z",
     "shell.execute_reply.started": "2021-06-13T15:09:31.744103Z"
    },
    "papermill": {
     "duration": 0.154462,
     "end_time": "2021-06-13T15:29:59.395396",
     "exception": false,
     "start_time": "2021-06-13T15:29:59.240934",
     "status": "completed"
    },
    "tags": []
   },
   "outputs": [],
   "source": [
    "import folium\n",
    "m = folium.Map(title='Openstreetmap',zoom_start=2)"
   ]
  },
  {
   "cell_type": "code",
   "execution_count": 112,
   "id": "liquid-organ",
   "metadata": {
    "execution": {
     "iopub.execute_input": "2021-06-13T15:29:59.695059Z",
     "iopub.status.busy": "2021-06-13T15:29:59.694241Z",
     "iopub.status.idle": "2021-06-13T15:29:59.808584Z",
     "shell.execute_reply": "2021-06-13T15:29:59.808992Z",
     "shell.execute_reply.started": "2021-06-13T15:09:31.754383Z"
    },
    "papermill": {
     "duration": 0.267387,
     "end_time": "2021-06-13T15:29:59.809136",
     "exception": false,
     "start_time": "2021-06-13T15:29:59.541749",
     "status": "completed"
    },
    "tags": []
   },
   "outputs": [
    {
     "data": {
      "text/html": [
       "<div style=\"width:100%;\"><div style=\"position:relative;width:100%;height:0;padding-bottom:60%;\"><span style=\"color:#565656\">Make this Notebook Trusted to load map: File -> Trust Notebook</span><iframe src=\"about:blank\" style=\"position:absolute;width:100%;height:100%;left:0;top:0;border:none !important;\" data-html=%3C%21DOCTYPE%20html%3E%0A%3Chead%3E%20%20%20%20%0A%20%20%20%20%3Cmeta%20http-equiv%3D%22content-type%22%20content%3D%22text/html%3B%20charset%3DUTF-8%22%20/%3E%0A%20%20%20%20%0A%20%20%20%20%20%20%20%20%3Cscript%3E%0A%20%20%20%20%20%20%20%20%20%20%20%20L_NO_TOUCH%20%3D%20false%3B%0A%20%20%20%20%20%20%20%20%20%20%20%20L_DISABLE_3D%20%3D%20false%3B%0A%20%20%20%20%20%20%20%20%3C/script%3E%0A%20%20%20%20%0A%20%20%20%20%3Cstyle%3Ehtml%2C%20body%20%7Bwidth%3A%20100%25%3Bheight%3A%20100%25%3Bmargin%3A%200%3Bpadding%3A%200%3B%7D%3C/style%3E%0A%20%20%20%20%3Cstyle%3E%23map%20%7Bposition%3Aabsolute%3Btop%3A0%3Bbottom%3A0%3Bright%3A0%3Bleft%3A0%3B%7D%3C/style%3E%0A%20%20%20%20%3Cscript%20src%3D%22https%3A//cdn.jsdelivr.net/npm/leaflet%401.6.0/dist/leaflet.js%22%3E%3C/script%3E%0A%20%20%20%20%3Cscript%20src%3D%22https%3A//code.jquery.com/jquery-1.12.4.min.js%22%3E%3C/script%3E%0A%20%20%20%20%3Cscript%20src%3D%22https%3A//maxcdn.bootstrapcdn.com/bootstrap/3.2.0/js/bootstrap.min.js%22%3E%3C/script%3E%0A%20%20%20%20%3Cscript%20src%3D%22https%3A//cdnjs.cloudflare.com/ajax/libs/Leaflet.awesome-markers/2.0.2/leaflet.awesome-markers.js%22%3E%3C/script%3E%0A%20%20%20%20%3Clink%20rel%3D%22stylesheet%22%20href%3D%22https%3A//cdn.jsdelivr.net/npm/leaflet%401.6.0/dist/leaflet.css%22/%3E%0A%20%20%20%20%3Clink%20rel%3D%22stylesheet%22%20href%3D%22https%3A//maxcdn.bootstrapcdn.com/bootstrap/3.2.0/css/bootstrap.min.css%22/%3E%0A%20%20%20%20%3Clink%20rel%3D%22stylesheet%22%20href%3D%22https%3A//maxcdn.bootstrapcdn.com/bootstrap/3.2.0/css/bootstrap-theme.min.css%22/%3E%0A%20%20%20%20%3Clink%20rel%3D%22stylesheet%22%20href%3D%22https%3A//maxcdn.bootstrapcdn.com/font-awesome/4.6.3/css/font-awesome.min.css%22/%3E%0A%20%20%20%20%3Clink%20rel%3D%22stylesheet%22%20href%3D%22https%3A//cdnjs.cloudflare.com/ajax/libs/Leaflet.awesome-markers/2.0.2/leaflet.awesome-markers.css%22/%3E%0A%20%20%20%20%3Clink%20rel%3D%22stylesheet%22%20href%3D%22https%3A//cdn.jsdelivr.net/gh/python-visualization/folium/folium/templates/leaflet.awesome.rotate.min.css%22/%3E%0A%20%20%20%20%0A%20%20%20%20%20%20%20%20%20%20%20%20%3Cmeta%20name%3D%22viewport%22%20content%3D%22width%3Ddevice-width%2C%0A%20%20%20%20%20%20%20%20%20%20%20%20%20%20%20%20initial-scale%3D1.0%2C%20maximum-scale%3D1.0%2C%20user-scalable%3Dno%22%20/%3E%0A%20%20%20%20%20%20%20%20%20%20%20%20%3Cstyle%3E%0A%20%20%20%20%20%20%20%20%20%20%20%20%20%20%20%20%23map_3b6142d802844ffb9d35e2abacd4ea14%20%7B%0A%20%20%20%20%20%20%20%20%20%20%20%20%20%20%20%20%20%20%20%20position%3A%20relative%3B%0A%20%20%20%20%20%20%20%20%20%20%20%20%20%20%20%20%20%20%20%20width%3A%20100.0%25%3B%0A%20%20%20%20%20%20%20%20%20%20%20%20%20%20%20%20%20%20%20%20height%3A%20100.0%25%3B%0A%20%20%20%20%20%20%20%20%20%20%20%20%20%20%20%20%20%20%20%20left%3A%200.0%25%3B%0A%20%20%20%20%20%20%20%20%20%20%20%20%20%20%20%20%20%20%20%20top%3A%200.0%25%3B%0A%20%20%20%20%20%20%20%20%20%20%20%20%20%20%20%20%7D%0A%20%20%20%20%20%20%20%20%20%20%20%20%3C/style%3E%0A%20%20%20%20%20%20%20%20%0A%3C/head%3E%0A%3Cbody%3E%20%20%20%20%0A%20%20%20%20%0A%20%20%20%20%20%20%20%20%20%20%20%20%3Cdiv%20class%3D%22folium-map%22%20id%3D%22map_3b6142d802844ffb9d35e2abacd4ea14%22%20%3E%3C/div%3E%0A%20%20%20%20%20%20%20%20%0A%3C/body%3E%0A%3Cscript%3E%20%20%20%20%0A%20%20%20%20%0A%20%20%20%20%20%20%20%20%20%20%20%20var%20map_3b6142d802844ffb9d35e2abacd4ea14%20%3D%20L.map%28%0A%20%20%20%20%20%20%20%20%20%20%20%20%20%20%20%20%22map_3b6142d802844ffb9d35e2abacd4ea14%22%2C%0A%20%20%20%20%20%20%20%20%20%20%20%20%20%20%20%20%7B%0A%20%20%20%20%20%20%20%20%20%20%20%20%20%20%20%20%20%20%20%20center%3A%20%5B0%2C%200%5D%2C%0A%20%20%20%20%20%20%20%20%20%20%20%20%20%20%20%20%20%20%20%20crs%3A%20L.CRS.EPSG3857%2C%0A%20%20%20%20%20%20%20%20%20%20%20%20%20%20%20%20%20%20%20%20zoom%3A%201%2C%0A%20%20%20%20%20%20%20%20%20%20%20%20%20%20%20%20%20%20%20%20zoomControl%3A%20true%2C%0A%20%20%20%20%20%20%20%20%20%20%20%20%20%20%20%20%20%20%20%20preferCanvas%3A%20false%2C%0A%20%20%20%20%20%20%20%20%20%20%20%20%20%20%20%20%20%20%20%20title%3A%20%22Openstreetmap%22%2C%0A%20%20%20%20%20%20%20%20%20%20%20%20%20%20%20%20%7D%0A%20%20%20%20%20%20%20%20%20%20%20%20%29%3B%0A%0A%20%20%20%20%20%20%20%20%20%20%20%20%0A%0A%20%20%20%20%20%20%20%20%0A%20%20%20%20%0A%20%20%20%20%20%20%20%20%20%20%20%20var%20tile_layer_6e9d3b98c7e94fb2b8e3795c35337c59%20%3D%20L.tileLayer%28%0A%20%20%20%20%20%20%20%20%20%20%20%20%20%20%20%20%22https%3A//%7Bs%7D.tile.openstreetmap.org/%7Bz%7D/%7Bx%7D/%7By%7D.png%22%2C%0A%20%20%20%20%20%20%20%20%20%20%20%20%20%20%20%20%7B%22attribution%22%3A%20%22Data%20by%20%5Cu0026copy%3B%20%5Cu003ca%20href%3D%5C%22http%3A//openstreetmap.org%5C%22%5Cu003eOpenStreetMap%5Cu003c/a%5Cu003e%2C%20under%20%5Cu003ca%20href%3D%5C%22http%3A//www.openstreetmap.org/copyright%5C%22%5Cu003eODbL%5Cu003c/a%5Cu003e.%22%2C%20%22detectRetina%22%3A%20false%2C%20%22maxNativeZoom%22%3A%2018%2C%20%22maxZoom%22%3A%2018%2C%20%22minZoom%22%3A%200%2C%20%22noWrap%22%3A%20false%2C%20%22opacity%22%3A%201%2C%20%22subdomains%22%3A%20%22abc%22%2C%20%22tms%22%3A%20false%7D%0A%20%20%20%20%20%20%20%20%20%20%20%20%29.addTo%28map_3b6142d802844ffb9d35e2abacd4ea14%29%3B%0A%20%20%20%20%20%20%20%20%0A%20%20%20%20%0A%20%20%20%20%20%20%20%20%20%20%20%20var%20marker_7a6f9acec6b740b39ffe67f01e80f364%20%3D%20L.marker%28%0A%20%20%20%20%20%20%20%20%20%20%20%20%20%20%20%20%5B12.05%2C%2077.26%5D%2C%0A%20%20%20%20%20%20%20%20%20%20%20%20%20%20%20%20%7B%7D%0A%20%20%20%20%20%20%20%20%20%20%20%20%29.addTo%28map_3b6142d802844ffb9d35e2abacd4ea14%29%3B%0A%20%20%20%20%20%20%20%20%0A%20%20%20%20%0A%20%20%20%20%20%20%20%20var%20popup_d9a6ffb076034c2a9fb5b560a15fa6b1%20%3D%20L.popup%28%7B%22maxWidth%22%3A%20%22100%25%22%7D%29%3B%0A%0A%20%20%20%20%20%20%20%20%0A%20%20%20%20%20%20%20%20%20%20%20%20var%20html_92103bea976d4473a88488b812a36e5d%20%3D%20%24%28%60%3Cdiv%20id%3D%22html_92103bea976d4473a88488b812a36e5d%22%20style%3D%22width%3A%20100.0%25%3B%20height%3A%20100.0%25%3B%22%3E22.713980952380954%3C/div%3E%60%29%5B0%5D%3B%0A%20%20%20%20%20%20%20%20%20%20%20%20popup_d9a6ffb076034c2a9fb5b560a15fa6b1.setContent%28html_92103bea976d4473a88488b812a36e5d%29%3B%0A%20%20%20%20%20%20%20%20%0A%0A%20%20%20%20%20%20%20%20marker_7a6f9acec6b740b39ffe67f01e80f364.bindPopup%28popup_d9a6ffb076034c2a9fb5b560a15fa6b1%29%0A%20%20%20%20%20%20%20%20%3B%0A%0A%20%20%20%20%20%20%20%20%0A%20%20%20%20%0A%20%20%20%20%0A%20%20%20%20%20%20%20%20%20%20%20%20var%20marker_d0049e462f674ef28441f151da5a6aa9%20%3D%20L.marker%28%0A%20%20%20%20%20%20%20%20%20%20%20%20%20%20%20%20%5B23.31%2C%2088.25%5D%2C%0A%20%20%20%20%20%20%20%20%20%20%20%20%20%20%20%20%7B%7D%0A%20%20%20%20%20%20%20%20%20%20%20%20%29.addTo%28map_3b6142d802844ffb9d35e2abacd4ea14%29%3B%0A%20%20%20%20%20%20%20%20%0A%20%20%20%20%0A%20%20%20%20%20%20%20%20var%20popup_2caef25de7a94b5589fc22b789c20a6d%20%3D%20L.popup%28%7B%22maxWidth%22%3A%20%22100%25%22%7D%29%3B%0A%0A%20%20%20%20%20%20%20%20%0A%20%20%20%20%20%20%20%20%20%20%20%20var%20html_97be35c268d54837b31f439a7e05ccbd%20%3D%20%24%28%60%3Cdiv%20id%3D%22html_97be35c268d54837b31f439a7e05ccbd%22%20style%3D%22width%3A%20100.0%25%3B%20height%3A%20100.0%25%3B%22%3E18.53433490566037%3C/div%3E%60%29%5B0%5D%3B%0A%20%20%20%20%20%20%20%20%20%20%20%20popup_2caef25de7a94b5589fc22b789c20a6d.setContent%28html_97be35c268d54837b31f439a7e05ccbd%29%3B%0A%20%20%20%20%20%20%20%20%0A%0A%20%20%20%20%20%20%20%20marker_d0049e462f674ef28441f151da5a6aa9.bindPopup%28popup_2caef25de7a94b5589fc22b789c20a6d%29%0A%20%20%20%20%20%20%20%20%3B%0A%0A%20%20%20%20%20%20%20%20%0A%20%20%20%20%0A%20%20%20%20%0A%20%20%20%20%20%20%20%20%20%20%20%20var%20marker_1e12b059708d47a7836c7c23b7ff5a88%20%3D%20L.marker%28%0A%20%20%20%20%20%20%20%20%20%20%20%20%20%20%20%20%5B28.13%2C%2077.27%5D%2C%0A%20%20%20%20%20%20%20%20%20%20%20%20%20%20%20%20%7B%7D%0A%20%20%20%20%20%20%20%20%20%20%20%20%29.addTo%28map_3b6142d802844ffb9d35e2abacd4ea14%29%3B%0A%20%20%20%20%20%20%20%20%0A%20%20%20%20%0A%20%20%20%20%20%20%20%20var%20popup_c69531651f114b729814ba22adfefe55%20%3D%20L.popup%28%7B%22maxWidth%22%3A%20%22100%25%22%7D%29%3B%0A%0A%20%20%20%20%20%20%20%20%0A%20%20%20%20%20%20%20%20%20%20%20%20var%20html_d5e62d50cfd641b59a0f81c5da53fd7c%20%3D%20%24%28%60%3Cdiv%20id%3D%22html_d5e62d50cfd641b59a0f81c5da53fd7c%22%20style%3D%22width%3A%20100.0%25%3B%20height%3A%20100.0%25%3B%22%3E14.238560000000001%3C/div%3E%60%29%5B0%5D%3B%0A%20%20%20%20%20%20%20%20%20%20%20%20popup_c69531651f114b729814ba22adfefe55.setContent%28html_d5e62d50cfd641b59a0f81c5da53fd7c%29%3B%0A%20%20%20%20%20%20%20%20%0A%0A%20%20%20%20%20%20%20%20marker_1e12b059708d47a7836c7c23b7ff5a88.bindPopup%28popup_c69531651f114b729814ba22adfefe55%29%0A%20%20%20%20%20%20%20%20%3B%0A%0A%20%20%20%20%20%20%20%20%0A%20%20%20%20%0A%20%20%20%20%0A%20%20%20%20%20%20%20%20%20%20%20%20var%20marker_a9841ece05b84ebe928c908d7395ddbc%20%3D%20L.marker%28%0A%20%20%20%20%20%20%20%20%20%20%20%20%20%20%20%20%5B16.87%2C%2078.7%5D%2C%0A%20%20%20%20%20%20%20%20%20%20%20%20%20%20%20%20%7B%7D%0A%20%20%20%20%20%20%20%20%20%20%20%20%29.addTo%28map_3b6142d802844ffb9d35e2abacd4ea14%29%3B%0A%20%20%20%20%20%20%20%20%0A%20%20%20%20%0A%20%20%20%20%20%20%20%20var%20popup_63b5e0faaad24a6a9b52ab5ac012bde3%20%3D%20L.popup%28%7B%22maxWidth%22%3A%20%22100%25%22%7D%29%3B%0A%0A%20%20%20%20%20%20%20%20%0A%20%20%20%20%20%20%20%20%20%20%20%20var%20html_262e96f6885f4c3fb900115099348ccf%20%3D%20%24%28%60%3Cdiv%20id%3D%22html_262e96f6885f4c3fb900115099348ccf%22%20style%3D%22width%3A%20100.0%25%3B%20height%3A%20100.0%25%3B%22%3E22.75829047619048%3C/div%3E%60%29%5B0%5D%3B%0A%20%20%20%20%20%20%20%20%20%20%20%20popup_63b5e0faaad24a6a9b52ab5ac012bde3.setContent%28html_262e96f6885f4c3fb900115099348ccf%29%3B%0A%20%20%20%20%20%20%20%20%0A%0A%20%20%20%20%20%20%20%20marker_a9841ece05b84ebe928c908d7395ddbc.bindPopup%28popup_63b5e0faaad24a6a9b52ab5ac012bde3%29%0A%20%20%20%20%20%20%20%20%3B%0A%0A%20%20%20%20%20%20%20%20%0A%20%20%20%20%0A%20%20%20%20%0A%20%20%20%20%20%20%20%20%20%20%20%20var%20marker_1a4a28ae81134cccb5872b0d77125714%20%3D%20L.marker%28%0A%20%20%20%20%20%20%20%20%20%20%20%20%20%20%20%20%5B13.66%2C%2080.09%5D%2C%0A%20%20%20%20%20%20%20%20%20%20%20%20%20%20%20%20%7B%7D%0A%20%20%20%20%20%20%20%20%20%20%20%20%29.addTo%28map_3b6142d802844ffb9d35e2abacd4ea14%29%3B%0A%20%20%20%20%20%20%20%20%0A%20%20%20%20%0A%20%20%20%20%20%20%20%20var%20popup_56b7933b4ce04dcbbf73cb95b71d43a6%20%3D%20L.popup%28%7B%22maxWidth%22%3A%20%22100%25%22%7D%29%3B%0A%0A%20%20%20%20%20%20%20%20%0A%20%20%20%20%20%20%20%20%20%20%20%20var%20html_c362fa457e7a4f5caca6391b9c3aca47%20%3D%20%24%28%60%3Cdiv%20id%3D%22html_c362fa457e7a4f5caca6391b9c3aca47%22%20style%3D%22width%3A%20100.0%25%3B%20height%3A%20100.0%25%3B%22%3E24.346733333333344%3C/div%3E%60%29%5B0%5D%3B%0A%20%20%20%20%20%20%20%20%20%20%20%20popup_56b7933b4ce04dcbbf73cb95b71d43a6.setContent%28html_c362fa457e7a4f5caca6391b9c3aca47%29%3B%0A%20%20%20%20%20%20%20%20%0A%0A%20%20%20%20%20%20%20%20marker_1a4a28ae81134cccb5872b0d77125714.bindPopup%28popup_56b7933b4ce04dcbbf73cb95b71d43a6%29%0A%20%20%20%20%20%20%20%20%3B%0A%0A%20%20%20%20%20%20%20%20%0A%20%20%20%20%0A%20%20%20%20%0A%20%20%20%20%20%20%20%20%20%20%20%20var%20marker_70c065d36e654c9fbaca60478fdf37bc%20%3D%20L.marker%28%0A%20%20%20%20%20%20%20%20%20%20%20%20%20%20%20%20%5B28.13%2C%2077.27%5D%2C%0A%20%20%20%20%20%20%20%20%20%20%20%20%20%20%20%20%7B%7D%0A%20%20%20%20%20%20%20%20%20%20%20%20%29.addTo%28map_3b6142d802844ffb9d35e2abacd4ea14%29%3B%0A%20%20%20%20%20%20%20%20%0A%20%20%20%20%0A%20%20%20%20%20%20%20%20var%20popup_39c52324c0ed4786bd26ff20be44dca9%20%3D%20L.popup%28%7B%22maxWidth%22%3A%20%22100%25%22%7D%29%3B%0A%0A%20%20%20%20%20%20%20%20%0A%20%20%20%20%20%20%20%20%20%20%20%20var%20html_9ddb397ae0f84a1388f67c013ecdb1eb%20%3D%20%24%28%60%3Cdiv%20id%3D%22html_9ddb397ae0f84a1388f67c013ecdb1eb%22%20style%3D%22width%3A%20100.0%25%3B%20height%3A%20100.0%25%3B%22%3E14.238560000000001%3C/div%3E%60%29%5B0%5D%3B%0A%20%20%20%20%20%20%20%20%20%20%20%20popup_39c52324c0ed4786bd26ff20be44dca9.setContent%28html_9ddb397ae0f84a1388f67c013ecdb1eb%29%3B%0A%20%20%20%20%20%20%20%20%0A%0A%20%20%20%20%20%20%20%20marker_70c065d36e654c9fbaca60478fdf37bc.bindPopup%28popup_39c52324c0ed4786bd26ff20be44dca9%29%0A%20%20%20%20%20%20%20%20%3B%0A%0A%20%20%20%20%20%20%20%20%0A%20%20%20%20%0A%20%20%20%20%0A%20%20%20%20%20%20%20%20%20%20%20%20var%20marker_6f859e1fcce740789daae6bea604f014%20%3D%20L.marker%28%0A%20%20%20%20%20%20%20%20%20%20%20%20%20%20%20%20%5B18.48%2C%2074.37%5D%2C%0A%20%20%20%20%20%20%20%20%20%20%20%20%20%20%20%20%7B%7D%0A%20%20%20%20%20%20%20%20%20%20%20%20%29.addTo%28map_3b6142d802844ffb9d35e2abacd4ea14%29%3B%0A%20%20%20%20%20%20%20%20%0A%20%20%20%20%0A%20%20%20%20%20%20%20%20var%20popup_1052ba97f496446f8743bbda70f75c5f%20%3D%20L.popup%28%7B%22maxWidth%22%3A%20%22100%25%22%7D%29%3B%0A%0A%20%20%20%20%20%20%20%20%0A%20%20%20%20%20%20%20%20%20%20%20%20var%20html_9c0a3e80811b48d096c65ab1af3a0b46%20%3D%20%24%28%60%3Cdiv%20id%3D%22html_9c0a3e80811b48d096c65ab1af3a0b46%22%20style%3D%22width%3A%20100.0%25%3B%20height%3A%20100.0%25%3B%22%3E20.44820476190477%3C/div%3E%60%29%5B0%5D%3B%0A%20%20%20%20%20%20%20%20%20%20%20%20popup_1052ba97f496446f8743bbda70f75c5f.setContent%28html_9c0a3e80811b48d096c65ab1af3a0b46%29%3B%0A%20%20%20%20%20%20%20%20%0A%0A%20%20%20%20%20%20%20%20marker_6f859e1fcce740789daae6bea604f014.bindPopup%28popup_1052ba97f496446f8743bbda70f75c5f%29%0A%20%20%20%20%20%20%20%20%3B%0A%0A%20%20%20%20%20%20%20%20%0A%20%20%20%20%0A%20%20%20%20%0A%20%20%20%20%20%20%20%20%20%20%20%20var%20marker_45f8174534274bdabbc70eefeb146960%20%3D%20L.marker%28%0A%20%20%20%20%20%20%20%20%20%20%20%20%20%20%20%20%5B12.05%2C%2077.26%5D%2C%0A%20%20%20%20%20%20%20%20%20%20%20%20%20%20%20%20%7B%7D%0A%20%20%20%20%20%20%20%20%20%20%20%20%29.addTo%28map_3b6142d802844ffb9d35e2abacd4ea14%29%3B%0A%20%20%20%20%20%20%20%20%0A%20%20%20%20%0A%20%20%20%20%20%20%20%20var%20popup_7534f0ecafb04150b489092be61deb2e%20%3D%20L.popup%28%7B%22maxWidth%22%3A%20%22100%25%22%7D%29%3B%0A%0A%20%20%20%20%20%20%20%20%0A%20%20%20%20%20%20%20%20%20%20%20%20var%20html_f222ea9c03dc44cd83bee1b7e4c6bbf8%20%3D%20%24%28%60%3Cdiv%20id%3D%22html_f222ea9c03dc44cd83bee1b7e4c6bbf8%22%20style%3D%22width%3A%20100.0%25%3B%20height%3A%20100.0%25%3B%22%3E24.656619047619056%3C/div%3E%60%29%5B0%5D%3B%0A%20%20%20%20%20%20%20%20%20%20%20%20popup_7534f0ecafb04150b489092be61deb2e.setContent%28html_f222ea9c03dc44cd83bee1b7e4c6bbf8%29%3B%0A%20%20%20%20%20%20%20%20%0A%0A%20%20%20%20%20%20%20%20marker_45f8174534274bdabbc70eefeb146960.bindPopup%28popup_7534f0ecafb04150b489092be61deb2e%29%0A%20%20%20%20%20%20%20%20%3B%0A%0A%20%20%20%20%20%20%20%20%0A%20%20%20%20%0A%20%20%20%20%0A%20%20%20%20%20%20%20%20%20%20%20%20var%20marker_0913ed89a7564de797a435f67fb6fce4%20%3D%20L.marker%28%0A%20%20%20%20%20%20%20%20%20%20%20%20%20%20%20%20%5B23.31%2C%2088.25%5D%2C%0A%20%20%20%20%20%20%20%20%20%20%20%20%20%20%20%20%7B%7D%0A%20%20%20%20%20%20%20%20%20%20%20%20%29.addTo%28map_3b6142d802844ffb9d35e2abacd4ea14%29%3B%0A%20%20%20%20%20%20%20%20%0A%20%20%20%20%0A%20%20%20%20%20%20%20%20var%20popup_4f3f9877d26c4bb1a1812aaccad59edb%20%3D%20L.popup%28%7B%22maxWidth%22%3A%20%22100%25%22%7D%29%3B%0A%0A%20%20%20%20%20%20%20%20%0A%20%20%20%20%20%20%20%20%20%20%20%20var%20html_e292d780a75741d08c16e11bda112b86%20%3D%20%24%28%60%3Cdiv%20id%3D%22html_e292d780a75741d08c16e11bda112b86%22%20style%3D%22width%3A%20100.0%25%3B%20height%3A%20100.0%25%3B%22%3E21.5039858490566%3C/div%3E%60%29%5B0%5D%3B%0A%20%20%20%20%20%20%20%20%20%20%20%20popup_4f3f9877d26c4bb1a1812aaccad59edb.setContent%28html_e292d780a75741d08c16e11bda112b86%29%3B%0A%20%20%20%20%20%20%20%20%0A%0A%20%20%20%20%20%20%20%20marker_0913ed89a7564de797a435f67fb6fce4.bindPopup%28popup_4f3f9877d26c4bb1a1812aaccad59edb%29%0A%20%20%20%20%20%20%20%20%3B%0A%0A%20%20%20%20%20%20%20%20%0A%20%20%20%20%0A%20%20%20%20%0A%20%20%20%20%20%20%20%20%20%20%20%20var%20marker_70282e3c023645ad95f26e0218a67323%20%3D%20L.marker%28%0A%20%20%20%20%20%20%20%20%20%20%20%20%20%20%20%20%5B28.13%2C%2077.27%5D%2C%0A%20%20%20%20%20%20%20%20%20%20%20%20%20%20%20%20%7B%7D%0A%20%20%20%20%20%20%20%20%20%20%20%20%29.addTo%28map_3b6142d802844ffb9d35e2abacd4ea14%29%3B%0A%20%20%20%20%20%20%20%20%0A%20%20%20%20%0A%20%20%20%20%20%20%20%20var%20popup_a64e6da2f1e948cc9fd4aa3af9788189%20%3D%20L.popup%28%7B%22maxWidth%22%3A%20%22100%25%22%7D%29%3B%0A%0A%20%20%20%20%20%20%20%20%0A%20%20%20%20%20%20%20%20%20%20%20%20var%20html_57d2986b78eb43d08cc652e0d0bc2ebd%20%3D%20%24%28%60%3Cdiv%20id%3D%22html_57d2986b78eb43d08cc652e0d0bc2ebd%22%20style%3D%22width%3A%20100.0%25%3B%20height%3A%20100.0%25%3B%22%3E17.144979999999997%3C/div%3E%60%29%5B0%5D%3B%0A%20%20%20%20%20%20%20%20%20%20%20%20popup_a64e6da2f1e948cc9fd4aa3af9788189.setContent%28html_57d2986b78eb43d08cc652e0d0bc2ebd%29%3B%0A%20%20%20%20%20%20%20%20%0A%0A%20%20%20%20%20%20%20%20marker_70282e3c023645ad95f26e0218a67323.bindPopup%28popup_a64e6da2f1e948cc9fd4aa3af9788189%29%0A%20%20%20%20%20%20%20%20%3B%0A%0A%20%20%20%20%20%20%20%20%0A%20%20%20%20%0A%20%20%20%20%0A%20%20%20%20%20%20%20%20%20%20%20%20var%20marker_fad46210fc3a4435bb4cc925ad859463%20%3D%20L.marker%28%0A%20%20%20%20%20%20%20%20%20%20%20%20%20%20%20%20%5B16.87%2C%2078.7%5D%2C%0A%20%20%20%20%20%20%20%20%20%20%20%20%20%20%20%20%7B%7D%0A%20%20%20%20%20%20%20%20%20%20%20%20%29.addTo%28map_3b6142d802844ffb9d35e2abacd4ea14%29%3B%0A%20%20%20%20%20%20%20%20%0A%20%20%20%20%0A%20%20%20%20%20%20%20%20var%20popup_e3c424b07e8e4898b0ea184fdbc5bd3d%20%3D%20L.popup%28%7B%22maxWidth%22%3A%20%22100%25%22%7D%29%3B%0A%0A%20%20%20%20%20%20%20%20%0A%20%20%20%20%20%20%20%20%20%20%20%20var%20html_ba3de6aeedb744418909ac177dac2b71%20%3D%20%24%28%60%3Cdiv%20id%3D%22html_ba3de6aeedb744418909ac177dac2b71%22%20style%3D%22width%3A%20100.0%25%3B%20height%3A%20100.0%25%3B%22%3E25.31707619047618%3C/div%3E%60%29%5B0%5D%3B%0A%20%20%20%20%20%20%20%20%20%20%20%20popup_e3c424b07e8e4898b0ea184fdbc5bd3d.setContent%28html_ba3de6aeedb744418909ac177dac2b71%29%3B%0A%20%20%20%20%20%20%20%20%0A%0A%20%20%20%20%20%20%20%20marker_fad46210fc3a4435bb4cc925ad859463.bindPopup%28popup_e3c424b07e8e4898b0ea184fdbc5bd3d%29%0A%20%20%20%20%20%20%20%20%3B%0A%0A%20%20%20%20%20%20%20%20%0A%20%20%20%20%0A%20%20%20%20%0A%20%20%20%20%20%20%20%20%20%20%20%20var%20marker_87b454d547c24bb1bc07e50269e4ffaa%20%3D%20L.marker%28%0A%20%20%20%20%20%20%20%20%20%20%20%20%20%20%20%20%5B13.66%2C%2080.09%5D%2C%0A%20%20%20%20%20%20%20%20%20%20%20%20%20%20%20%20%7B%7D%0A%20%20%20%20%20%20%20%20%20%20%20%20%29.addTo%28map_3b6142d802844ffb9d35e2abacd4ea14%29%3B%0A%20%20%20%20%20%20%20%20%0A%20%20%20%20%0A%20%20%20%20%20%20%20%20var%20popup_e4b0bc4356bd4ac1a92bbc506d8be2fb%20%3D%20L.popup%28%7B%22maxWidth%22%3A%20%22100%25%22%7D%29%3B%0A%0A%20%20%20%20%20%20%20%20%0A%20%20%20%20%20%20%20%20%20%20%20%20var%20html_a4fd66367e12433996f68f0b880e3d1d%20%3D%20%24%28%60%3Cdiv%20id%3D%22html_a4fd66367e12433996f68f0b880e3d1d%22%20style%3D%22width%3A%20100.0%25%3B%20height%3A%20100.0%25%3B%22%3E25.831404761904775%3C/div%3E%60%29%5B0%5D%3B%0A%20%20%20%20%20%20%20%20%20%20%20%20popup_e4b0bc4356bd4ac1a92bbc506d8be2fb.setContent%28html_a4fd66367e12433996f68f0b880e3d1d%29%3B%0A%20%20%20%20%20%20%20%20%0A%0A%20%20%20%20%20%20%20%20marker_87b454d547c24bb1bc07e50269e4ffaa.bindPopup%28popup_e4b0bc4356bd4ac1a92bbc506d8be2fb%29%0A%20%20%20%20%20%20%20%20%3B%0A%0A%20%20%20%20%20%20%20%20%0A%20%20%20%20%0A%20%20%20%20%0A%20%20%20%20%20%20%20%20%20%20%20%20var%20marker_76190935a70c4686b2f02296298eb4d0%20%3D%20L.marker%28%0A%20%20%20%20%20%20%20%20%20%20%20%20%20%20%20%20%5B28.13%2C%2077.27%5D%2C%0A%20%20%20%20%20%20%20%20%20%20%20%20%20%20%20%20%7B%7D%0A%20%20%20%20%20%20%20%20%20%20%20%20%29.addTo%28map_3b6142d802844ffb9d35e2abacd4ea14%29%3B%0A%20%20%20%20%20%20%20%20%0A%20%20%20%20%0A%20%20%20%20%20%20%20%20var%20popup_2a6d5c499d164a8496f48721c6a51c85%20%3D%20L.popup%28%7B%22maxWidth%22%3A%20%22100%25%22%7D%29%3B%0A%0A%20%20%20%20%20%20%20%20%0A%20%20%20%20%20%20%20%20%20%20%20%20var%20html_4242913e2d8540e6bd750b6154e1a203%20%3D%20%24%28%60%3Cdiv%20id%3D%22html_4242913e2d8540e6bd750b6154e1a203%22%20style%3D%22width%3A%20100.0%25%3B%20height%3A%20100.0%25%3B%22%3E17.144979999999997%3C/div%3E%60%29%5B0%5D%3B%0A%20%20%20%20%20%20%20%20%20%20%20%20popup_2a6d5c499d164a8496f48721c6a51c85.setContent%28html_4242913e2d8540e6bd750b6154e1a203%29%3B%0A%20%20%20%20%20%20%20%20%0A%0A%20%20%20%20%20%20%20%20marker_76190935a70c4686b2f02296298eb4d0.bindPopup%28popup_2a6d5c499d164a8496f48721c6a51c85%29%0A%20%20%20%20%20%20%20%20%3B%0A%0A%20%20%20%20%20%20%20%20%0A%20%20%20%20%0A%20%20%20%20%0A%20%20%20%20%20%20%20%20%20%20%20%20var%20marker_358d3f75b5984f48a22506388e0180d7%20%3D%20L.marker%28%0A%20%20%20%20%20%20%20%20%20%20%20%20%20%20%20%20%5B18.48%2C%2074.37%5D%2C%0A%20%20%20%20%20%20%20%20%20%20%20%20%20%20%20%20%7B%7D%0A%20%20%20%20%20%20%20%20%20%20%20%20%29.addTo%28map_3b6142d802844ffb9d35e2abacd4ea14%29%3B%0A%20%20%20%20%20%20%20%20%0A%20%20%20%20%0A%20%20%20%20%20%20%20%20var%20popup_dc8d82913f3f4886ac11933209a92242%20%3D%20L.popup%28%7B%22maxWidth%22%3A%20%22100%25%22%7D%29%3B%0A%0A%20%20%20%20%20%20%20%20%0A%20%20%20%20%20%20%20%20%20%20%20%20var%20html_659d3c8285e8495fa607cbc156192e9a%20%3D%20%24%28%60%3Cdiv%20id%3D%22html_659d3c8285e8495fa607cbc156192e9a%22%20style%3D%22width%3A%20100.0%25%3B%20height%3A%20100.0%25%3B%22%3E22.607923809523797%3C/div%3E%60%29%5B0%5D%3B%0A%20%20%20%20%20%20%20%20%20%20%20%20popup_dc8d82913f3f4886ac11933209a92242.setContent%28html_659d3c8285e8495fa607cbc156192e9a%29%3B%0A%20%20%20%20%20%20%20%20%0A%0A%20%20%20%20%20%20%20%20marker_358d3f75b5984f48a22506388e0180d7.bindPopup%28popup_dc8d82913f3f4886ac11933209a92242%29%0A%20%20%20%20%20%20%20%20%3B%0A%0A%20%20%20%20%20%20%20%20%0A%20%20%20%20%0A%20%20%20%20%0A%20%20%20%20%20%20%20%20%20%20%20%20var%20marker_30b31cbec6824cc28b8653c70a42889e%20%3D%20L.marker%28%0A%20%20%20%20%20%20%20%20%20%20%20%20%20%20%20%20%5B12.05%2C%2077.26%5D%2C%0A%20%20%20%20%20%20%20%20%20%20%20%20%20%20%20%20%7B%7D%0A%20%20%20%20%20%20%20%20%20%20%20%20%29.addTo%28map_3b6142d802844ffb9d35e2abacd4ea14%29%3B%0A%20%20%20%20%20%20%20%20%0A%20%20%20%20%0A%20%20%20%20%20%20%20%20var%20popup_761c4447348e41ccaa5bf39bee081356%20%3D%20L.popup%28%7B%22maxWidth%22%3A%20%22100%25%22%7D%29%3B%0A%0A%20%20%20%20%20%20%20%20%0A%20%20%20%20%20%20%20%20%20%20%20%20var%20html_5d825c0daab54bcca4d87b54592c73cc%20%3D%20%24%28%60%3Cdiv%20id%3D%22html_5d825c0daab54bcca4d87b54592c73cc%22%20style%3D%22width%3A%20100.0%25%3B%20height%3A%20100.0%25%3B%22%3E27.062185714285704%3C/div%3E%60%29%5B0%5D%3B%0A%20%20%20%20%20%20%20%20%20%20%20%20popup_761c4447348e41ccaa5bf39bee081356.setContent%28html_5d825c0daab54bcca4d87b54592c73cc%29%3B%0A%20%20%20%20%20%20%20%20%0A%0A%20%20%20%20%20%20%20%20marker_30b31cbec6824cc28b8653c70a42889e.bindPopup%28popup_761c4447348e41ccaa5bf39bee081356%29%0A%20%20%20%20%20%20%20%20%3B%0A%0A%20%20%20%20%20%20%20%20%0A%20%20%20%20%0A%20%20%20%20%0A%20%20%20%20%20%20%20%20%20%20%20%20var%20marker_4be6ae27824c4e5db8b380539582ebee%20%3D%20L.marker%28%0A%20%20%20%20%20%20%20%20%20%20%20%20%20%20%20%20%5B23.31%2C%2088.25%5D%2C%0A%20%20%20%20%20%20%20%20%20%20%20%20%20%20%20%20%7B%7D%0A%20%20%20%20%20%20%20%20%20%20%20%20%29.addTo%28map_3b6142d802844ffb9d35e2abacd4ea14%29%3B%0A%20%20%20%20%20%20%20%20%0A%20%20%20%20%0A%20%20%20%20%20%20%20%20var%20popup_a2d4e675542141448a64218c82b9c1c3%20%3D%20L.popup%28%7B%22maxWidth%22%3A%20%22100%25%22%7D%29%3B%0A%0A%20%20%20%20%20%20%20%20%0A%20%20%20%20%20%20%20%20%20%20%20%20var%20html_0b3d235482444a639bfcb066a279ead4%20%3D%20%24%28%60%3Cdiv%20id%3D%22html_0b3d235482444a639bfcb066a279ead4%22%20style%3D%22width%3A%20100.0%25%3B%20height%3A%20100.0%25%3B%22%3E26.596806603773597%3C/div%3E%60%29%5B0%5D%3B%0A%20%20%20%20%20%20%20%20%20%20%20%20popup_a2d4e675542141448a64218c82b9c1c3.setContent%28html_0b3d235482444a639bfcb066a279ead4%29%3B%0A%20%20%20%20%20%20%20%20%0A%0A%20%20%20%20%20%20%20%20marker_4be6ae27824c4e5db8b380539582ebee.bindPopup%28popup_a2d4e675542141448a64218c82b9c1c3%29%0A%20%20%20%20%20%20%20%20%3B%0A%0A%20%20%20%20%20%20%20%20%0A%20%20%20%20%0A%20%20%20%20%0A%20%20%20%20%20%20%20%20%20%20%20%20var%20marker_21aeeeb0c6de457f870647ff57b4eb6b%20%3D%20L.marker%28%0A%20%20%20%20%20%20%20%20%20%20%20%20%20%20%20%20%5B28.13%2C%2077.27%5D%2C%0A%20%20%20%20%20%20%20%20%20%20%20%20%20%20%20%20%7B%7D%0A%20%20%20%20%20%20%20%20%20%20%20%20%29.addTo%28map_3b6142d802844ffb9d35e2abacd4ea14%29%3B%0A%20%20%20%20%20%20%20%20%0A%20%20%20%20%0A%20%20%20%20%20%20%20%20var%20popup_83beb00b8969455b953599f7a6f657c1%20%3D%20L.popup%28%7B%22maxWidth%22%3A%20%22100%25%22%7D%29%3B%0A%0A%20%20%20%20%20%20%20%20%0A%20%20%20%20%20%20%20%20%20%20%20%20var%20html_e2355c2d443d4f529f8bd73407a25940%20%3D%20%24%28%60%3Cdiv%20id%3D%22html_e2355c2d443d4f529f8bd73407a25940%22%20style%3D%22width%3A%20100.0%25%3B%20height%3A%20100.0%25%3B%22%3E23.0148040201005%3C/div%3E%60%29%5B0%5D%3B%0A%20%20%20%20%20%20%20%20%20%20%20%20popup_83beb00b8969455b953599f7a6f657c1.setContent%28html_e2355c2d443d4f529f8bd73407a25940%29%3B%0A%20%20%20%20%20%20%20%20%0A%0A%20%20%20%20%20%20%20%20marker_21aeeeb0c6de457f870647ff57b4eb6b.bindPopup%28popup_83beb00b8969455b953599f7a6f657c1%29%0A%20%20%20%20%20%20%20%20%3B%0A%0A%20%20%20%20%20%20%20%20%0A%20%20%20%20%0A%20%20%20%20%0A%20%20%20%20%20%20%20%20%20%20%20%20var%20marker_2d7cca8da6f24df1a24f75ae92326398%20%3D%20L.marker%28%0A%20%20%20%20%20%20%20%20%20%20%20%20%20%20%20%20%5B16.87%2C%2078.7%5D%2C%0A%20%20%20%20%20%20%20%20%20%20%20%20%20%20%20%20%7B%7D%0A%20%20%20%20%20%20%20%20%20%20%20%20%29.addTo%28map_3b6142d802844ffb9d35e2abacd4ea14%29%3B%0A%20%20%20%20%20%20%20%20%0A%20%20%20%20%0A%20%20%20%20%20%20%20%20var%20popup_96b940ac28a94f6aa0f9cc909d345ca0%20%3D%20L.popup%28%7B%22maxWidth%22%3A%20%22100%25%22%7D%29%3B%0A%0A%20%20%20%20%20%20%20%20%0A%20%20%20%20%20%20%20%20%20%20%20%20var%20html_1ad30e5c9b024154afc65086b0804b4b%20%3D%20%24%28%60%3Cdiv%20id%3D%22html_1ad30e5c9b024154afc65086b0804b4b%22%20style%3D%22width%3A%20100.0%25%3B%20height%3A%20100.0%25%3B%22%3E28.80354285714285%3C/div%3E%60%29%5B0%5D%3B%0A%20%20%20%20%20%20%20%20%20%20%20%20popup_96b940ac28a94f6aa0f9cc909d345ca0.setContent%28html_1ad30e5c9b024154afc65086b0804b4b%29%3B%0A%20%20%20%20%20%20%20%20%0A%0A%20%20%20%20%20%20%20%20marker_2d7cca8da6f24df1a24f75ae92326398.bindPopup%28popup_96b940ac28a94f6aa0f9cc909d345ca0%29%0A%20%20%20%20%20%20%20%20%3B%0A%0A%20%20%20%20%20%20%20%20%0A%20%20%20%20%0A%20%20%20%20%0A%20%20%20%20%20%20%20%20%20%20%20%20var%20marker_279d01c0125e487abb4c29f236b1b2ca%20%3D%20L.marker%28%0A%20%20%20%20%20%20%20%20%20%20%20%20%20%20%20%20%5B13.66%2C%2080.09%5D%2C%0A%20%20%20%20%20%20%20%20%20%20%20%20%20%20%20%20%7B%7D%0A%20%20%20%20%20%20%20%20%20%20%20%20%29.addTo%28map_3b6142d802844ffb9d35e2abacd4ea14%29%3B%0A%20%20%20%20%20%20%20%20%0A%20%20%20%20%0A%20%20%20%20%20%20%20%20var%20popup_3ca9a68d3031425bbb633caf4d9eb149%20%3D%20L.popup%28%7B%22maxWidth%22%3A%20%22100%25%22%7D%29%3B%0A%0A%20%20%20%20%20%20%20%20%0A%20%20%20%20%20%20%20%20%20%20%20%20var%20html_fc7720dde35a4ecb8e9cc469caf5e313%20%3D%20%24%28%60%3Cdiv%20id%3D%22html_fc7720dde35a4ecb8e9cc469caf5e313%22%20style%3D%22width%3A%20100.0%25%3B%20height%3A%20100.0%25%3B%22%3E28.11444761904761%3C/div%3E%60%29%5B0%5D%3B%0A%20%20%20%20%20%20%20%20%20%20%20%20popup_3ca9a68d3031425bbb633caf4d9eb149.setContent%28html_fc7720dde35a4ecb8e9cc469caf5e313%29%3B%0A%20%20%20%20%20%20%20%20%0A%0A%20%20%20%20%20%20%20%20marker_279d01c0125e487abb4c29f236b1b2ca.bindPopup%28popup_3ca9a68d3031425bbb633caf4d9eb149%29%0A%20%20%20%20%20%20%20%20%3B%0A%0A%20%20%20%20%20%20%20%20%0A%20%20%20%20%0A%20%20%20%20%0A%20%20%20%20%20%20%20%20%20%20%20%20var%20marker_036e9ea24c9f4e6d8e27ffd2652ecb9a%20%3D%20L.marker%28%0A%20%20%20%20%20%20%20%20%20%20%20%20%20%20%20%20%5B28.13%2C%2077.27%5D%2C%0A%20%20%20%20%20%20%20%20%20%20%20%20%20%20%20%20%7B%7D%0A%20%20%20%20%20%20%20%20%20%20%20%20%29.addTo%28map_3b6142d802844ffb9d35e2abacd4ea14%29%3B%0A%20%20%20%20%20%20%20%20%0A%20%20%20%20%0A%20%20%20%20%20%20%20%20var%20popup_36cb0820af5d459ebaf168e894207843%20%3D%20L.popup%28%7B%22maxWidth%22%3A%20%22100%25%22%7D%29%3B%0A%0A%20%20%20%20%20%20%20%20%0A%20%20%20%20%20%20%20%20%20%20%20%20var%20html_f622a56d63fe4c9ea9c5d2bdd7738bbf%20%3D%20%24%28%60%3Cdiv%20id%3D%22html_f622a56d63fe4c9ea9c5d2bdd7738bbf%22%20style%3D%22width%3A%20100.0%25%3B%20height%3A%20100.0%25%3B%22%3E23.0148040201005%3C/div%3E%60%29%5B0%5D%3B%0A%20%20%20%20%20%20%20%20%20%20%20%20popup_36cb0820af5d459ebaf168e894207843.setContent%28html_f622a56d63fe4c9ea9c5d2bdd7738bbf%29%3B%0A%20%20%20%20%20%20%20%20%0A%0A%20%20%20%20%20%20%20%20marker_036e9ea24c9f4e6d8e27ffd2652ecb9a.bindPopup%28popup_36cb0820af5d459ebaf168e894207843%29%0A%20%20%20%20%20%20%20%20%3B%0A%0A%20%20%20%20%20%20%20%20%0A%20%20%20%20%0A%20%20%20%20%0A%20%20%20%20%20%20%20%20%20%20%20%20var%20marker_e39f463241184b1593dba1c22c235a7e%20%3D%20L.marker%28%0A%20%20%20%20%20%20%20%20%20%20%20%20%20%20%20%20%5B18.48%2C%2074.37%5D%2C%0A%20%20%20%20%20%20%20%20%20%20%20%20%20%20%20%20%7B%7D%0A%20%20%20%20%20%20%20%20%20%20%20%20%29.addTo%28map_3b6142d802844ffb9d35e2abacd4ea14%29%3B%0A%20%20%20%20%20%20%20%20%0A%20%20%20%20%0A%20%20%20%20%20%20%20%20var%20popup_9483cc6b07ec4ca6be39534ac49417f2%20%3D%20L.popup%28%7B%22maxWidth%22%3A%20%22100%25%22%7D%29%3B%0A%0A%20%20%20%20%20%20%20%20%0A%20%20%20%20%20%20%20%20%20%20%20%20var%20html_1ddec7465d824a4fa608953ea9c31ba3%20%3D%20%24%28%60%3Cdiv%20id%3D%22html_1ddec7465d824a4fa608953ea9c31ba3%22%20style%3D%22width%3A%20100.0%25%3B%20height%3A%20100.0%25%3B%22%3E26.287685714285704%3C/div%3E%60%29%5B0%5D%3B%0A%20%20%20%20%20%20%20%20%20%20%20%20popup_9483cc6b07ec4ca6be39534ac49417f2.setContent%28html_1ddec7465d824a4fa608953ea9c31ba3%29%3B%0A%20%20%20%20%20%20%20%20%0A%0A%20%20%20%20%20%20%20%20marker_e39f463241184b1593dba1c22c235a7e.bindPopup%28popup_9483cc6b07ec4ca6be39534ac49417f2%29%0A%20%20%20%20%20%20%20%20%3B%0A%0A%20%20%20%20%20%20%20%20%0A%20%20%20%20%0A%20%20%20%20%0A%20%20%20%20%20%20%20%20%20%20%20%20var%20marker_9f8b5748a83748d5a7a284ff49a7247f%20%3D%20L.marker%28%0A%20%20%20%20%20%20%20%20%20%20%20%20%20%20%20%20%5B12.05%2C%2077.26%5D%2C%0A%20%20%20%20%20%20%20%20%20%20%20%20%20%20%20%20%7B%7D%0A%20%20%20%20%20%20%20%20%20%20%20%20%29.addTo%28map_3b6142d802844ffb9d35e2abacd4ea14%29%3B%0A%20%20%20%20%20%20%20%20%0A%20%20%20%20%0A%20%20%20%20%20%20%20%20var%20popup_30023d4ed71f4a03ab6eb26a4ed4e5a9%20%3D%20L.popup%28%7B%22maxWidth%22%3A%20%22100%25%22%7D%29%3B%0A%0A%20%20%20%20%20%20%20%20%0A%20%20%20%20%20%20%20%20%20%20%20%20var%20html_7a20b307d4324fc88b5edef2c504ceb1%20%3D%20%24%28%60%3Cdiv%20id%3D%22html_7a20b307d4324fc88b5edef2c504ceb1%22%20style%3D%22width%3A%20100.0%25%3B%20height%3A%20100.0%25%3B%22%3E27.98851690821257%3C/div%3E%60%29%5B0%5D%3B%0A%20%20%20%20%20%20%20%20%20%20%20%20popup_30023d4ed71f4a03ab6eb26a4ed4e5a9.setContent%28html_7a20b307d4324fc88b5edef2c504ceb1%29%3B%0A%20%20%20%20%20%20%20%20%0A%0A%20%20%20%20%20%20%20%20marker_9f8b5748a83748d5a7a284ff49a7247f.bindPopup%28popup_30023d4ed71f4a03ab6eb26a4ed4e5a9%29%0A%20%20%20%20%20%20%20%20%3B%0A%0A%20%20%20%20%20%20%20%20%0A%20%20%20%20%0A%20%20%20%20%0A%20%20%20%20%20%20%20%20%20%20%20%20var%20marker_762ce06d3e794e6aa614f818168cb51e%20%3D%20L.marker%28%0A%20%20%20%20%20%20%20%20%20%20%20%20%20%20%20%20%5B23.31%2C%2088.25%5D%2C%0A%20%20%20%20%20%20%20%20%20%20%20%20%20%20%20%20%7B%7D%0A%20%20%20%20%20%20%20%20%20%20%20%20%29.addTo%28map_3b6142d802844ffb9d35e2abacd4ea14%29%3B%0A%20%20%20%20%20%20%20%20%0A%20%20%20%20%0A%20%20%20%20%20%20%20%20var%20popup_92ebe72fa7ec4736af0a5705bb66fe98%20%3D%20L.popup%28%7B%22maxWidth%22%3A%20%22100%25%22%7D%29%3B%0A%0A%20%20%20%20%20%20%20%20%0A%20%20%20%20%20%20%20%20%20%20%20%20var%20html_f193a0b2d5034cafb71ad3e2c48f1d29%20%3D%20%24%28%60%3Cdiv%20id%3D%22html_f193a0b2d5034cafb71ad3e2c48f1d29%22%20style%3D%22width%3A%20100.0%25%3B%20height%3A%20100.0%25%3B%22%3E29.847133971291882%3C/div%3E%60%29%5B0%5D%3B%0A%20%20%20%20%20%20%20%20%20%20%20%20popup_92ebe72fa7ec4736af0a5705bb66fe98.setContent%28html_f193a0b2d5034cafb71ad3e2c48f1d29%29%3B%0A%20%20%20%20%20%20%20%20%0A%0A%20%20%20%20%20%20%20%20marker_762ce06d3e794e6aa614f818168cb51e.bindPopup%28popup_92ebe72fa7ec4736af0a5705bb66fe98%29%0A%20%20%20%20%20%20%20%20%3B%0A%0A%20%20%20%20%20%20%20%20%0A%20%20%20%20%0A%20%20%20%20%0A%20%20%20%20%20%20%20%20%20%20%20%20var%20marker_83653f2d5e8f4adcb66ef2a6b2ecb8f8%20%3D%20L.marker%28%0A%20%20%20%20%20%20%20%20%20%20%20%20%20%20%20%20%5B28.13%2C%2077.27%5D%2C%0A%20%20%20%20%20%20%20%20%20%20%20%20%20%20%20%20%7B%7D%0A%20%20%20%20%20%20%20%20%20%20%20%20%29.addTo%28map_3b6142d802844ffb9d35e2abacd4ea14%29%3B%0A%20%20%20%20%20%20%20%20%0A%20%20%20%20%0A%20%20%20%20%20%20%20%20var%20popup_eb02ff80de194abca48589f5afeb50b1%20%3D%20L.popup%28%7B%22maxWidth%22%3A%20%22100%25%22%7D%29%3B%0A%0A%20%20%20%20%20%20%20%20%0A%20%20%20%20%20%20%20%20%20%20%20%20var%20html_f9e45184e4904668b97f2393f7b1089e%20%3D%20%24%28%60%3Cdiv%20id%3D%22html_f9e45184e4904668b97f2393f7b1089e%22%20style%3D%22width%3A%20100.0%25%3B%20height%3A%20100.0%25%3B%22%3E29.004575757575754%3C/div%3E%60%29%5B0%5D%3B%0A%20%20%20%20%20%20%20%20%20%20%20%20popup_eb02ff80de194abca48589f5afeb50b1.setContent%28html_f9e45184e4904668b97f2393f7b1089e%29%3B%0A%20%20%20%20%20%20%20%20%0A%0A%20%20%20%20%20%20%20%20marker_83653f2d5e8f4adcb66ef2a6b2ecb8f8.bindPopup%28popup_eb02ff80de194abca48589f5afeb50b1%29%0A%20%20%20%20%20%20%20%20%3B%0A%0A%20%20%20%20%20%20%20%20%0A%20%20%20%20%0A%20%20%20%20%0A%20%20%20%20%20%20%20%20%20%20%20%20var%20marker_6453189dab29435ab1a669c0d8bb9290%20%3D%20L.marker%28%0A%20%20%20%20%20%20%20%20%20%20%20%20%20%20%20%20%5B16.87%2C%2078.7%5D%2C%0A%20%20%20%20%20%20%20%20%20%20%20%20%20%20%20%20%7B%7D%0A%20%20%20%20%20%20%20%20%20%20%20%20%29.addTo%28map_3b6142d802844ffb9d35e2abacd4ea14%29%3B%0A%20%20%20%20%20%20%20%20%0A%20%20%20%20%0A%20%20%20%20%20%20%20%20var%20popup_0d2bcf166dea47b4a33595f581e830d6%20%3D%20L.popup%28%7B%22maxWidth%22%3A%20%22100%25%22%7D%29%3B%0A%0A%20%20%20%20%20%20%20%20%0A%20%20%20%20%20%20%20%20%20%20%20%20var%20html_88f65f9de5ee4e3fb86a93d7dc3e33e5%20%3D%20%24%28%60%3Cdiv%20id%3D%22html_88f65f9de5ee4e3fb86a93d7dc3e33e5%22%20style%3D%22width%3A%20100.0%25%3B%20height%3A%20100.0%25%3B%22%3E31.4655652173913%3C/div%3E%60%29%5B0%5D%3B%0A%20%20%20%20%20%20%20%20%20%20%20%20popup_0d2bcf166dea47b4a33595f581e830d6.setContent%28html_88f65f9de5ee4e3fb86a93d7dc3e33e5%29%3B%0A%20%20%20%20%20%20%20%20%0A%0A%20%20%20%20%20%20%20%20marker_6453189dab29435ab1a669c0d8bb9290.bindPopup%28popup_0d2bcf166dea47b4a33595f581e830d6%29%0A%20%20%20%20%20%20%20%20%3B%0A%0A%20%20%20%20%20%20%20%20%0A%20%20%20%20%0A%20%20%20%20%0A%20%20%20%20%20%20%20%20%20%20%20%20var%20marker_312ab1500668496d8f48bc0c43b1c805%20%3D%20L.marker%28%0A%20%20%20%20%20%20%20%20%20%20%20%20%20%20%20%20%5B13.66%2C%2080.09%5D%2C%0A%20%20%20%20%20%20%20%20%20%20%20%20%20%20%20%20%7B%7D%0A%20%20%20%20%20%20%20%20%20%20%20%20%29.addTo%28map_3b6142d802844ffb9d35e2abacd4ea14%29%3B%0A%20%20%20%20%20%20%20%20%0A%20%20%20%20%0A%20%20%20%20%20%20%20%20var%20popup_aa4ca86278ef4e2d92eba1e637211c79%20%3D%20L.popup%28%7B%22maxWidth%22%3A%20%22100%25%22%7D%29%3B%0A%0A%20%20%20%20%20%20%20%20%0A%20%20%20%20%20%20%20%20%20%20%20%20var%20html_5f867e2956854747a7ab6a3c127c7a3e%20%3D%20%24%28%60%3Cdiv%20id%3D%22html_5f867e2956854747a7ab6a3c127c7a3e%22%20style%3D%22width%3A%20100.0%25%3B%20height%3A%20100.0%25%3B%22%3E30.441304347826076%3C/div%3E%60%29%5B0%5D%3B%0A%20%20%20%20%20%20%20%20%20%20%20%20popup_aa4ca86278ef4e2d92eba1e637211c79.setContent%28html_5f867e2956854747a7ab6a3c127c7a3e%29%3B%0A%20%20%20%20%20%20%20%20%0A%0A%20%20%20%20%20%20%20%20marker_312ab1500668496d8f48bc0c43b1c805.bindPopup%28popup_aa4ca86278ef4e2d92eba1e637211c79%29%0A%20%20%20%20%20%20%20%20%3B%0A%0A%20%20%20%20%20%20%20%20%0A%20%20%20%20%0A%20%20%20%20%0A%20%20%20%20%20%20%20%20%20%20%20%20var%20marker_b98db30759114bf6b7587de2e3da78b4%20%3D%20L.marker%28%0A%20%20%20%20%20%20%20%20%20%20%20%20%20%20%20%20%5B28.13%2C%2077.27%5D%2C%0A%20%20%20%20%20%20%20%20%20%20%20%20%20%20%20%20%7B%7D%0A%20%20%20%20%20%20%20%20%20%20%20%20%29.addTo%28map_3b6142d802844ffb9d35e2abacd4ea14%29%3B%0A%20%20%20%20%20%20%20%20%0A%20%20%20%20%0A%20%20%20%20%20%20%20%20var%20popup_e762e89b83794dca8808b775553f3845%20%3D%20L.popup%28%7B%22maxWidth%22%3A%20%22100%25%22%7D%29%3B%0A%0A%20%20%20%20%20%20%20%20%0A%20%20%20%20%20%20%20%20%20%20%20%20var%20html_53b162883b5249b18e835d355fddf6dc%20%3D%20%24%28%60%3Cdiv%20id%3D%22html_53b162883b5249b18e835d355fddf6dc%22%20style%3D%22width%3A%20100.0%25%3B%20height%3A%20100.0%25%3B%22%3E29.004575757575754%3C/div%3E%60%29%5B0%5D%3B%0A%20%20%20%20%20%20%20%20%20%20%20%20popup_e762e89b83794dca8808b775553f3845.setContent%28html_53b162883b5249b18e835d355fddf6dc%29%3B%0A%20%20%20%20%20%20%20%20%0A%0A%20%20%20%20%20%20%20%20marker_b98db30759114bf6b7587de2e3da78b4.bindPopup%28popup_e762e89b83794dca8808b775553f3845%29%0A%20%20%20%20%20%20%20%20%3B%0A%0A%20%20%20%20%20%20%20%20%0A%20%20%20%20%0A%20%20%20%20%0A%20%20%20%20%20%20%20%20%20%20%20%20var%20marker_3dd32333099d4c5d8d81a896405fbc3e%20%3D%20L.marker%28%0A%20%20%20%20%20%20%20%20%20%20%20%20%20%20%20%20%5B18.48%2C%2074.37%5D%2C%0A%20%20%20%20%20%20%20%20%20%20%20%20%20%20%20%20%7B%7D%0A%20%20%20%20%20%20%20%20%20%20%20%20%29.addTo%28map_3b6142d802844ffb9d35e2abacd4ea14%29%3B%0A%20%20%20%20%20%20%20%20%0A%20%20%20%20%0A%20%20%20%20%20%20%20%20var%20popup_798ac699a6af4766b7bd842b2b232608%20%3D%20L.popup%28%7B%22maxWidth%22%3A%20%22100%25%22%7D%29%3B%0A%0A%20%20%20%20%20%20%20%20%0A%20%20%20%20%20%20%20%20%20%20%20%20var%20html_714e2d25cae9424e9532451c0993f05a%20%3D%20%24%28%60%3Cdiv%20id%3D%22html_714e2d25cae9424e9532451c0993f05a%22%20style%3D%22width%3A%20100.0%25%3B%20height%3A%20100.0%25%3B%22%3E29.00440096618357%3C/div%3E%60%29%5B0%5D%3B%0A%20%20%20%20%20%20%20%20%20%20%20%20popup_798ac699a6af4766b7bd842b2b232608.setContent%28html_714e2d25cae9424e9532451c0993f05a%29%3B%0A%20%20%20%20%20%20%20%20%0A%0A%20%20%20%20%20%20%20%20marker_3dd32333099d4c5d8d81a896405fbc3e.bindPopup%28popup_798ac699a6af4766b7bd842b2b232608%29%0A%20%20%20%20%20%20%20%20%3B%0A%0A%20%20%20%20%20%20%20%20%0A%20%20%20%20%0A%20%20%20%20%0A%20%20%20%20%20%20%20%20%20%20%20%20var%20marker_f53b7bd9ffea4552b289a7e562459a55%20%3D%20L.marker%28%0A%20%20%20%20%20%20%20%20%20%20%20%20%20%20%20%20%5B12.05%2C%2077.26%5D%2C%0A%20%20%20%20%20%20%20%20%20%20%20%20%20%20%20%20%7B%7D%0A%20%20%20%20%20%20%20%20%20%20%20%20%29.addTo%28map_3b6142d802844ffb9d35e2abacd4ea14%29%3B%0A%20%20%20%20%20%20%20%20%0A%20%20%20%20%0A%20%20%20%20%20%20%20%20var%20popup_c42189e49fb14ae780ec9f155acdf841%20%3D%20L.popup%28%7B%22maxWidth%22%3A%20%22100%25%22%7D%29%3B%0A%0A%20%20%20%20%20%20%20%20%0A%20%20%20%20%20%20%20%20%20%20%20%20var%20html_e172ee9a61274d8abcd2588eb1aa5b9f%20%3D%20%24%28%60%3Cdiv%20id%3D%22html_e172ee9a61274d8abcd2588eb1aa5b9f%22%20style%3D%22width%3A%20100.0%25%3B%20height%3A%20100.0%25%3B%22%3E27.52275362318839%3C/div%3E%60%29%5B0%5D%3B%0A%20%20%20%20%20%20%20%20%20%20%20%20popup_c42189e49fb14ae780ec9f155acdf841.setContent%28html_e172ee9a61274d8abcd2588eb1aa5b9f%29%3B%0A%20%20%20%20%20%20%20%20%0A%0A%20%20%20%20%20%20%20%20marker_f53b7bd9ffea4552b289a7e562459a55.bindPopup%28popup_c42189e49fb14ae780ec9f155acdf841%29%0A%20%20%20%20%20%20%20%20%3B%0A%0A%20%20%20%20%20%20%20%20%0A%20%20%20%20%0A%20%20%20%20%0A%20%20%20%20%20%20%20%20%20%20%20%20var%20marker_45af44fa191145e4b202be159c11ba86%20%3D%20L.marker%28%0A%20%20%20%20%20%20%20%20%20%20%20%20%20%20%20%20%5B23.31%2C%2088.25%5D%2C%0A%20%20%20%20%20%20%20%20%20%20%20%20%20%20%20%20%7B%7D%0A%20%20%20%20%20%20%20%20%20%20%20%20%29.addTo%28map_3b6142d802844ffb9d35e2abacd4ea14%29%3B%0A%20%20%20%20%20%20%20%20%0A%20%20%20%20%0A%20%20%20%20%20%20%20%20var%20popup_fef1456336e84cdcaec8aba96fb6cc67%20%3D%20L.popup%28%7B%22maxWidth%22%3A%20%22100%25%22%7D%29%3B%0A%0A%20%20%20%20%20%20%20%20%0A%20%20%20%20%20%20%20%20%20%20%20%20var%20html_54ad673bf42f42f7889c6a4fd0d4250c%20%3D%20%24%28%60%3Cdiv%20id%3D%22html_54ad673bf42f42f7889c6a4fd0d4250c%22%20style%3D%22width%3A%20100.0%25%3B%20height%3A%20100.0%25%3B%22%3E30.5862870813397%3C/div%3E%60%29%5B0%5D%3B%0A%20%20%20%20%20%20%20%20%20%20%20%20popup_fef1456336e84cdcaec8aba96fb6cc67.setContent%28html_54ad673bf42f42f7889c6a4fd0d4250c%29%3B%0A%20%20%20%20%20%20%20%20%0A%0A%20%20%20%20%20%20%20%20marker_45af44fa191145e4b202be159c11ba86.bindPopup%28popup_fef1456336e84cdcaec8aba96fb6cc67%29%0A%20%20%20%20%20%20%20%20%3B%0A%0A%20%20%20%20%20%20%20%20%0A%20%20%20%20%0A%20%20%20%20%0A%20%20%20%20%20%20%20%20%20%20%20%20var%20marker_706d332a433e4024839c6cb4364c7b54%20%3D%20L.marker%28%0A%20%20%20%20%20%20%20%20%20%20%20%20%20%20%20%20%5B28.13%2C%2077.27%5D%2C%0A%20%20%20%20%20%20%20%20%20%20%20%20%20%20%20%20%7B%7D%0A%20%20%20%20%20%20%20%20%20%20%20%20%29.addTo%28map_3b6142d802844ffb9d35e2abacd4ea14%29%3B%0A%20%20%20%20%20%20%20%20%0A%20%20%20%20%0A%20%20%20%20%20%20%20%20var%20popup_0686a4d71b484da1a6b1c706e04852d1%20%3D%20L.popup%28%7B%22maxWidth%22%3A%20%22100%25%22%7D%29%3B%0A%0A%20%20%20%20%20%20%20%20%0A%20%20%20%20%20%20%20%20%20%20%20%20var%20html_6f2d68cecc0543a7b88c0ff8b67d16c9%20%3D%20%24%28%60%3Cdiv%20id%3D%22html_6f2d68cecc0543a7b88c0ff8b67d16c9%22%20style%3D%22width%3A%20100.0%25%3B%20height%3A%20100.0%25%3B%22%3E33.29705102040816%3C/div%3E%60%29%5B0%5D%3B%0A%20%20%20%20%20%20%20%20%20%20%20%20popup_0686a4d71b484da1a6b1c706e04852d1.setContent%28html_6f2d68cecc0543a7b88c0ff8b67d16c9%29%3B%0A%20%20%20%20%20%20%20%20%0A%0A%20%20%20%20%20%20%20%20marker_706d332a433e4024839c6cb4364c7b54.bindPopup%28popup_0686a4d71b484da1a6b1c706e04852d1%29%0A%20%20%20%20%20%20%20%20%3B%0A%0A%20%20%20%20%20%20%20%20%0A%20%20%20%20%0A%20%20%20%20%0A%20%20%20%20%20%20%20%20%20%20%20%20var%20marker_5df0be4f28124045b99d722ca82f7337%20%3D%20L.marker%28%0A%20%20%20%20%20%20%20%20%20%20%20%20%20%20%20%20%5B16.87%2C%2078.7%5D%2C%0A%20%20%20%20%20%20%20%20%20%20%20%20%20%20%20%20%7B%7D%0A%20%20%20%20%20%20%20%20%20%20%20%20%29.addTo%28map_3b6142d802844ffb9d35e2abacd4ea14%29%3B%0A%20%20%20%20%20%20%20%20%0A%20%20%20%20%0A%20%20%20%20%20%20%20%20var%20popup_b9e71865e36a47b1a0b7516eebc8f003%20%3D%20L.popup%28%7B%22maxWidth%22%3A%20%22100%25%22%7D%29%3B%0A%0A%20%20%20%20%20%20%20%20%0A%20%20%20%20%20%20%20%20%20%20%20%20var%20html_4c40b3f002f141b6a4baefc0ab40c950%20%3D%20%24%28%60%3Cdiv%20id%3D%22html_4c40b3f002f141b6a4baefc0ab40c950%22%20style%3D%22width%3A%20100.0%25%3B%20height%3A%20100.0%25%3B%22%3E32.70200483091788%3C/div%3E%60%29%5B0%5D%3B%0A%20%20%20%20%20%20%20%20%20%20%20%20popup_b9e71865e36a47b1a0b7516eebc8f003.setContent%28html_4c40b3f002f141b6a4baefc0ab40c950%29%3B%0A%20%20%20%20%20%20%20%20%0A%0A%20%20%20%20%20%20%20%20marker_5df0be4f28124045b99d722ca82f7337.bindPopup%28popup_b9e71865e36a47b1a0b7516eebc8f003%29%0A%20%20%20%20%20%20%20%20%3B%0A%0A%20%20%20%20%20%20%20%20%0A%20%20%20%20%0A%20%20%20%20%0A%20%20%20%20%20%20%20%20%20%20%20%20var%20marker_7967139e71a44aa781ffaf8cb0f9bef2%20%3D%20L.marker%28%0A%20%20%20%20%20%20%20%20%20%20%20%20%20%20%20%20%5B13.66%2C%2080.09%5D%2C%0A%20%20%20%20%20%20%20%20%20%20%20%20%20%20%20%20%7B%7D%0A%20%20%20%20%20%20%20%20%20%20%20%20%29.addTo%28map_3b6142d802844ffb9d35e2abacd4ea14%29%3B%0A%20%20%20%20%20%20%20%20%0A%20%20%20%20%0A%20%20%20%20%20%20%20%20var%20popup_c70f94a6e6fe417583961fbcaf26be4b%20%3D%20L.popup%28%7B%22maxWidth%22%3A%20%22100%25%22%7D%29%3B%0A%0A%20%20%20%20%20%20%20%20%0A%20%20%20%20%20%20%20%20%20%20%20%20var%20html_8e4b3c41b6ca4b53af2e4444133266cf%20%3D%20%24%28%60%3Cdiv%20id%3D%22html_8e4b3c41b6ca4b53af2e4444133266cf%22%20style%3D%22width%3A%20100.0%25%3B%20height%3A%20100.0%25%3B%22%3E32.58195169082126%3C/div%3E%60%29%5B0%5D%3B%0A%20%20%20%20%20%20%20%20%20%20%20%20popup_c70f94a6e6fe417583961fbcaf26be4b.setContent%28html_8e4b3c41b6ca4b53af2e4444133266cf%29%3B%0A%20%20%20%20%20%20%20%20%0A%0A%20%20%20%20%20%20%20%20marker_7967139e71a44aa781ffaf8cb0f9bef2.bindPopup%28popup_c70f94a6e6fe417583961fbcaf26be4b%29%0A%20%20%20%20%20%20%20%20%3B%0A%0A%20%20%20%20%20%20%20%20%0A%20%20%20%20%0A%20%20%20%20%0A%20%20%20%20%20%20%20%20%20%20%20%20var%20marker_1aefd0c031fb4922b8a511f089b74ef0%20%3D%20L.marker%28%0A%20%20%20%20%20%20%20%20%20%20%20%20%20%20%20%20%5B28.13%2C%2077.27%5D%2C%0A%20%20%20%20%20%20%20%20%20%20%20%20%20%20%20%20%7B%7D%0A%20%20%20%20%20%20%20%20%20%20%20%20%29.addTo%28map_3b6142d802844ffb9d35e2abacd4ea14%29%3B%0A%20%20%20%20%20%20%20%20%0A%20%20%20%20%0A%20%20%20%20%20%20%20%20var%20popup_e2618b6311ee41d8bded360fa0c7b504%20%3D%20L.popup%28%7B%22maxWidth%22%3A%20%22100%25%22%7D%29%3B%0A%0A%20%20%20%20%20%20%20%20%0A%20%20%20%20%20%20%20%20%20%20%20%20var%20html_39bd87a54acb4c4b8164dc7f47a240e9%20%3D%20%24%28%60%3Cdiv%20id%3D%22html_39bd87a54acb4c4b8164dc7f47a240e9%22%20style%3D%22width%3A%20100.0%25%3B%20height%3A%20100.0%25%3B%22%3E33.29705102040816%3C/div%3E%60%29%5B0%5D%3B%0A%20%20%20%20%20%20%20%20%20%20%20%20popup_e2618b6311ee41d8bded360fa0c7b504.setContent%28html_39bd87a54acb4c4b8164dc7f47a240e9%29%3B%0A%20%20%20%20%20%20%20%20%0A%0A%20%20%20%20%20%20%20%20marker_1aefd0c031fb4922b8a511f089b74ef0.bindPopup%28popup_e2618b6311ee41d8bded360fa0c7b504%29%0A%20%20%20%20%20%20%20%20%3B%0A%0A%20%20%20%20%20%20%20%20%0A%20%20%20%20%0A%20%20%20%20%0A%20%20%20%20%20%20%20%20%20%20%20%20var%20marker_686d73c4abc442bfbb9b78c120ee92ee%20%3D%20L.marker%28%0A%20%20%20%20%20%20%20%20%20%20%20%20%20%20%20%20%5B18.48%2C%2074.37%5D%2C%0A%20%20%20%20%20%20%20%20%20%20%20%20%20%20%20%20%7B%7D%0A%20%20%20%20%20%20%20%20%20%20%20%20%29.addTo%28map_3b6142d802844ffb9d35e2abacd4ea14%29%3B%0A%20%20%20%20%20%20%20%20%0A%20%20%20%20%0A%20%20%20%20%20%20%20%20var%20popup_c6eac6e198d94090875082c052bb0ea2%20%3D%20L.popup%28%7B%22maxWidth%22%3A%20%22100%25%22%7D%29%3B%0A%0A%20%20%20%20%20%20%20%20%0A%20%20%20%20%20%20%20%20%20%20%20%20var%20html_3924b8c4ef2d413c88f6e15b53fba037%20%3D%20%24%28%60%3Cdiv%20id%3D%22html_3924b8c4ef2d413c88f6e15b53fba037%22%20style%3D%22width%3A%20100.0%25%3B%20height%3A%20100.0%25%3B%22%3E29.83820289855073%3C/div%3E%60%29%5B0%5D%3B%0A%20%20%20%20%20%20%20%20%20%20%20%20popup_c6eac6e198d94090875082c052bb0ea2.setContent%28html_3924b8c4ef2d413c88f6e15b53fba037%29%3B%0A%20%20%20%20%20%20%20%20%0A%0A%20%20%20%20%20%20%20%20marker_686d73c4abc442bfbb9b78c120ee92ee.bindPopup%28popup_c6eac6e198d94090875082c052bb0ea2%29%0A%20%20%20%20%20%20%20%20%3B%0A%0A%20%20%20%20%20%20%20%20%0A%20%20%20%20%0A%20%20%20%20%0A%20%20%20%20%20%20%20%20%20%20%20%20var%20marker_ff094a7a023c448bb81dc8a697fceb29%20%3D%20L.marker%28%0A%20%20%20%20%20%20%20%20%20%20%20%20%20%20%20%20%5B12.05%2C%2077.26%5D%2C%0A%20%20%20%20%20%20%20%20%20%20%20%20%20%20%20%20%7B%7D%0A%20%20%20%20%20%20%20%20%20%20%20%20%29.addTo%28map_3b6142d802844ffb9d35e2abacd4ea14%29%3B%0A%20%20%20%20%20%20%20%20%0A%20%20%20%20%0A%20%20%20%20%20%20%20%20var%20popup_081e637e29d74eadb1af4af204d0ed32%20%3D%20L.popup%28%7B%22maxWidth%22%3A%20%22100%25%22%7D%29%3B%0A%0A%20%20%20%20%20%20%20%20%0A%20%20%20%20%20%20%20%20%20%20%20%20var%20html_26cfb4283ce242369c50ef4b1a55a49d%20%3D%20%24%28%60%3Cdiv%20id%3D%22html_26cfb4283ce242369c50ef4b1a55a49d%22%20style%3D%22width%3A%20100.0%25%3B%20height%3A%20100.0%25%3B%22%3E25.468799043062212%3C/div%3E%60%29%5B0%5D%3B%0A%20%20%20%20%20%20%20%20%20%20%20%20popup_081e637e29d74eadb1af4af204d0ed32.setContent%28html_26cfb4283ce242369c50ef4b1a55a49d%29%3B%0A%20%20%20%20%20%20%20%20%0A%0A%20%20%20%20%20%20%20%20marker_ff094a7a023c448bb81dc8a697fceb29.bindPopup%28popup_081e637e29d74eadb1af4af204d0ed32%29%0A%20%20%20%20%20%20%20%20%3B%0A%0A%20%20%20%20%20%20%20%20%0A%20%20%20%20%0A%20%20%20%20%0A%20%20%20%20%20%20%20%20%20%20%20%20var%20marker_681684a574ea47979b2c9aa7423c74dc%20%3D%20L.marker%28%0A%20%20%20%20%20%20%20%20%20%20%20%20%20%20%20%20%5B23.31%2C%2088.25%5D%2C%0A%20%20%20%20%20%20%20%20%20%20%20%20%20%20%20%20%7B%7D%0A%20%20%20%20%20%20%20%20%20%20%20%20%29.addTo%28map_3b6142d802844ffb9d35e2abacd4ea14%29%3B%0A%20%20%20%20%20%20%20%20%0A%20%20%20%20%0A%20%20%20%20%20%20%20%20var%20popup_5e56b66447654069b9aceeee20b7f5a9%20%3D%20L.popup%28%7B%22maxWidth%22%3A%20%22100%25%22%7D%29%3B%0A%0A%20%20%20%20%20%20%20%20%0A%20%20%20%20%20%20%20%20%20%20%20%20var%20html_bfb410660d444611bf9957a4c96aeb1f%20%3D%20%24%28%60%3Cdiv%20id%3D%22html_bfb410660d444611bf9957a4c96aeb1f%22%20style%3D%22width%3A%20100.0%25%3B%20height%3A%20100.0%25%3B%22%3E29.920981042654024%3C/div%3E%60%29%5B0%5D%3B%0A%20%20%20%20%20%20%20%20%20%20%20%20popup_5e56b66447654069b9aceeee20b7f5a9.setContent%28html_bfb410660d444611bf9957a4c96aeb1f%29%3B%0A%20%20%20%20%20%20%20%20%0A%0A%20%20%20%20%20%20%20%20marker_681684a574ea47979b2c9aa7423c74dc.bindPopup%28popup_5e56b66447654069b9aceeee20b7f5a9%29%0A%20%20%20%20%20%20%20%20%3B%0A%0A%20%20%20%20%20%20%20%20%0A%20%20%20%20%0A%20%20%20%20%0A%20%20%20%20%20%20%20%20%20%20%20%20var%20marker_e1577b25f6a4408da5c616c561621a39%20%3D%20L.marker%28%0A%20%20%20%20%20%20%20%20%20%20%20%20%20%20%20%20%5B28.13%2C%2077.27%5D%2C%0A%20%20%20%20%20%20%20%20%20%20%20%20%20%20%20%20%7B%7D%0A%20%20%20%20%20%20%20%20%20%20%20%20%29.addTo%28map_3b6142d802844ffb9d35e2abacd4ea14%29%3B%0A%20%20%20%20%20%20%20%20%0A%20%20%20%20%0A%20%20%20%20%20%20%20%20var%20popup_08b59119e1524c54ba600b0bac557019%20%3D%20L.popup%28%7B%22maxWidth%22%3A%20%22100%25%22%7D%29%3B%0A%0A%20%20%20%20%20%20%20%20%0A%20%20%20%20%20%20%20%20%20%20%20%20var%20html_e25c68ba47c249158ec2fbd7ee4d2279%20%3D%20%24%28%60%3Cdiv%20id%3D%22html_e25c68ba47c249158ec2fbd7ee4d2279%22%20style%3D%22width%3A%20100.0%25%3B%20height%3A%20100.0%25%3B%22%3E33.866005%3C/div%3E%60%29%5B0%5D%3B%0A%20%20%20%20%20%20%20%20%20%20%20%20popup_08b59119e1524c54ba600b0bac557019.setContent%28html_e25c68ba47c249158ec2fbd7ee4d2279%29%3B%0A%20%20%20%20%20%20%20%20%0A%0A%20%20%20%20%20%20%20%20marker_e1577b25f6a4408da5c616c561621a39.bindPopup%28popup_08b59119e1524c54ba600b0bac557019%29%0A%20%20%20%20%20%20%20%20%3B%0A%0A%20%20%20%20%20%20%20%20%0A%20%20%20%20%0A%20%20%20%20%0A%20%20%20%20%20%20%20%20%20%20%20%20var%20marker_72981d546388450facb8dc1a415fca66%20%3D%20L.marker%28%0A%20%20%20%20%20%20%20%20%20%20%20%20%20%20%20%20%5B16.87%2C%2078.7%5D%2C%0A%20%20%20%20%20%20%20%20%20%20%20%20%20%20%20%20%7B%7D%0A%20%20%20%20%20%20%20%20%20%20%20%20%29.addTo%28map_3b6142d802844ffb9d35e2abacd4ea14%29%3B%0A%20%20%20%20%20%20%20%20%0A%20%20%20%20%0A%20%20%20%20%20%20%20%20var%20popup_b73f7c275e36476a96c88f21b6bd41ee%20%3D%20L.popup%28%7B%22maxWidth%22%3A%20%22100%25%22%7D%29%3B%0A%0A%20%20%20%20%20%20%20%20%0A%20%20%20%20%20%20%20%20%20%20%20%20var%20html_7a5082972c0b46d3950dcfe5890ddcad%20%3D%20%24%28%60%3Cdiv%20id%3D%22html_7a5082972c0b46d3950dcfe5890ddcad%22%20style%3D%22width%3A%20100.0%25%3B%20height%3A%20100.0%25%3B%22%3E29.96846889952153%3C/div%3E%60%29%5B0%5D%3B%0A%20%20%20%20%20%20%20%20%20%20%20%20popup_b73f7c275e36476a96c88f21b6bd41ee.setContent%28html_7a5082972c0b46d3950dcfe5890ddcad%29%3B%0A%20%20%20%20%20%20%20%20%0A%0A%20%20%20%20%20%20%20%20marker_72981d546388450facb8dc1a415fca66.bindPopup%28popup_b73f7c275e36476a96c88f21b6bd41ee%29%0A%20%20%20%20%20%20%20%20%3B%0A%0A%20%20%20%20%20%20%20%20%0A%20%20%20%20%0A%20%20%20%20%0A%20%20%20%20%20%20%20%20%20%20%20%20var%20marker_818c5faea74845ada0a2ca89e65a0a71%20%3D%20L.marker%28%0A%20%20%20%20%20%20%20%20%20%20%20%20%20%20%20%20%5B13.66%2C%2080.09%5D%2C%0A%20%20%20%20%20%20%20%20%20%20%20%20%20%20%20%20%7B%7D%0A%20%20%20%20%20%20%20%20%20%20%20%20%29.addTo%28map_3b6142d802844ffb9d35e2abacd4ea14%29%3B%0A%20%20%20%20%20%20%20%20%0A%20%20%20%20%0A%20%20%20%20%20%20%20%20var%20popup_d8787106011048b89645f69b7b44f884%20%3D%20L.popup%28%7B%22maxWidth%22%3A%20%22100%25%22%7D%29%3B%0A%0A%20%20%20%20%20%20%20%20%0A%20%20%20%20%20%20%20%20%20%20%20%20var%20html_7fc36682c2f942c68ea2d613e4727383%20%3D%20%24%28%60%3Cdiv%20id%3D%22html_7fc36682c2f942c68ea2d613e4727383%22%20style%3D%22width%3A%20100.0%25%3B%20height%3A%20100.0%25%3B%22%3E32.14238277511963%3C/div%3E%60%29%5B0%5D%3B%0A%20%20%20%20%20%20%20%20%20%20%20%20popup_d8787106011048b89645f69b7b44f884.setContent%28html_7fc36682c2f942c68ea2d613e4727383%29%3B%0A%20%20%20%20%20%20%20%20%0A%0A%20%20%20%20%20%20%20%20marker_818c5faea74845ada0a2ca89e65a0a71.bindPopup%28popup_d8787106011048b89645f69b7b44f884%29%0A%20%20%20%20%20%20%20%20%3B%0A%0A%20%20%20%20%20%20%20%20%0A%20%20%20%20%0A%20%20%20%20%0A%20%20%20%20%20%20%20%20%20%20%20%20var%20marker_f454a25aa3ad4f149269c889acd1d075%20%3D%20L.marker%28%0A%20%20%20%20%20%20%20%20%20%20%20%20%20%20%20%20%5B28.13%2C%2077.27%5D%2C%0A%20%20%20%20%20%20%20%20%20%20%20%20%20%20%20%20%7B%7D%0A%20%20%20%20%20%20%20%20%20%20%20%20%29.addTo%28map_3b6142d802844ffb9d35e2abacd4ea14%29%3B%0A%20%20%20%20%20%20%20%20%0A%20%20%20%20%0A%20%20%20%20%20%20%20%20var%20popup_95a9a4f3b7aa41f0bd224d53f88a4df6%20%3D%20L.popup%28%7B%22maxWidth%22%3A%20%22100%25%22%7D%29%3B%0A%0A%20%20%20%20%20%20%20%20%0A%20%20%20%20%20%20%20%20%20%20%20%20var%20html_3790ea1260ad4630b34bd1c94c5130ba%20%3D%20%24%28%60%3Cdiv%20id%3D%22html_3790ea1260ad4630b34bd1c94c5130ba%22%20style%3D%22width%3A%20100.0%25%3B%20height%3A%20100.0%25%3B%22%3E33.866005%3C/div%3E%60%29%5B0%5D%3B%0A%20%20%20%20%20%20%20%20%20%20%20%20popup_95a9a4f3b7aa41f0bd224d53f88a4df6.setContent%28html_3790ea1260ad4630b34bd1c94c5130ba%29%3B%0A%20%20%20%20%20%20%20%20%0A%0A%20%20%20%20%20%20%20%20marker_f454a25aa3ad4f149269c889acd1d075.bindPopup%28popup_95a9a4f3b7aa41f0bd224d53f88a4df6%29%0A%20%20%20%20%20%20%20%20%3B%0A%0A%20%20%20%20%20%20%20%20%0A%20%20%20%20%0A%20%20%20%20%0A%20%20%20%20%20%20%20%20%20%20%20%20var%20marker_1cdf4ad7eac442e48fc618b4ea114e81%20%3D%20L.marker%28%0A%20%20%20%20%20%20%20%20%20%20%20%20%20%20%20%20%5B18.48%2C%2074.37%5D%2C%0A%20%20%20%20%20%20%20%20%20%20%20%20%20%20%20%20%7B%7D%0A%20%20%20%20%20%20%20%20%20%20%20%20%29.addTo%28map_3b6142d802844ffb9d35e2abacd4ea14%29%3B%0A%20%20%20%20%20%20%20%20%0A%20%20%20%20%0A%20%20%20%20%20%20%20%20var%20popup_d500890f9d9246b2aad4a8cade6ad275%20%3D%20L.popup%28%7B%22maxWidth%22%3A%20%22100%25%22%7D%29%3B%0A%0A%20%20%20%20%20%20%20%20%0A%20%20%20%20%20%20%20%20%20%20%20%20var%20html_37f2d8d218564836bcc96652dc0ca64b%20%3D%20%24%28%60%3Cdiv%20id%3D%22html_37f2d8d218564836bcc96652dc0ca64b%22%20style%3D%22width%3A%20100.0%25%3B%20height%3A%20100.0%25%3B%22%3E27.220028708133984%3C/div%3E%60%29%5B0%5D%3B%0A%20%20%20%20%20%20%20%20%20%20%20%20popup_d500890f9d9246b2aad4a8cade6ad275.setContent%28html_37f2d8d218564836bcc96652dc0ca64b%29%3B%0A%20%20%20%20%20%20%20%20%0A%0A%20%20%20%20%20%20%20%20marker_1cdf4ad7eac442e48fc618b4ea114e81.bindPopup%28popup_d500890f9d9246b2aad4a8cade6ad275%29%0A%20%20%20%20%20%20%20%20%3B%0A%0A%20%20%20%20%20%20%20%20%0A%20%20%20%20%0A%20%20%20%20%0A%20%20%20%20%20%20%20%20%20%20%20%20var%20marker_2164997615f5444697c8a7749fba5edc%20%3D%20L.marker%28%0A%20%20%20%20%20%20%20%20%20%20%20%20%20%20%20%20%5B12.05%2C%2077.26%5D%2C%0A%20%20%20%20%20%20%20%20%20%20%20%20%20%20%20%20%7B%7D%0A%20%20%20%20%20%20%20%20%20%20%20%20%29.addTo%28map_3b6142d802844ffb9d35e2abacd4ea14%29%3B%0A%20%20%20%20%20%20%20%20%0A%20%20%20%20%0A%20%20%20%20%20%20%20%20var%20popup_ce9c12a118f54f96b8a7ab0f7d5b5339%20%3D%20L.popup%28%7B%22maxWidth%22%3A%20%22100%25%22%7D%29%3B%0A%0A%20%20%20%20%20%20%20%20%0A%20%20%20%20%20%20%20%20%20%20%20%20var%20html_9b2a8915672b419391b8b3c35e2f6323%20%3D%20%24%28%60%3Cdiv%20id%3D%22html_9b2a8915672b419391b8b3c35e2f6323%22%20style%3D%22width%3A%20100.0%25%3B%20height%3A%20100.0%25%3B%22%3E24.40048095238094%3C/div%3E%60%29%5B0%5D%3B%0A%20%20%20%20%20%20%20%20%20%20%20%20popup_ce9c12a118f54f96b8a7ab0f7d5b5339.setContent%28html_9b2a8915672b419391b8b3c35e2f6323%29%3B%0A%20%20%20%20%20%20%20%20%0A%0A%20%20%20%20%20%20%20%20marker_2164997615f5444697c8a7749fba5edc.bindPopup%28popup_ce9c12a118f54f96b8a7ab0f7d5b5339%29%0A%20%20%20%20%20%20%20%20%3B%0A%0A%20%20%20%20%20%20%20%20%0A%20%20%20%20%0A%20%20%20%20%0A%20%20%20%20%20%20%20%20%20%20%20%20var%20marker_1a43a92d5436483da865df88c2a8fdac%20%3D%20L.marker%28%0A%20%20%20%20%20%20%20%20%20%20%20%20%20%20%20%20%5B23.31%2C%2088.25%5D%2C%0A%20%20%20%20%20%20%20%20%20%20%20%20%20%20%20%20%7B%7D%0A%20%20%20%20%20%20%20%20%20%20%20%20%29.addTo%28map_3b6142d802844ffb9d35e2abacd4ea14%29%3B%0A%20%20%20%20%20%20%20%20%0A%20%20%20%20%0A%20%20%20%20%20%20%20%20var%20popup_af56100ad8e147c289b168d7d514a0aa%20%3D%20L.popup%28%7B%22maxWidth%22%3A%20%22100%25%22%7D%29%3B%0A%0A%20%20%20%20%20%20%20%20%0A%20%20%20%20%20%20%20%20%20%20%20%20var%20html_67c92161c39d4725817d7435a4d02ac2%20%3D%20%24%28%60%3Cdiv%20id%3D%22html_67c92161c39d4725817d7435a4d02ac2%22%20style%3D%22width%3A%20100.0%25%3B%20height%3A%20100.0%25%3B%22%3E28.995377358490565%3C/div%3E%60%29%5B0%5D%3B%0A%20%20%20%20%20%20%20%20%20%20%20%20popup_af56100ad8e147c289b168d7d514a0aa.setContent%28html_67c92161c39d4725817d7435a4d02ac2%29%3B%0A%20%20%20%20%20%20%20%20%0A%0A%20%20%20%20%20%20%20%20marker_1a43a92d5436483da865df88c2a8fdac.bindPopup%28popup_af56100ad8e147c289b168d7d514a0aa%29%0A%20%20%20%20%20%20%20%20%3B%0A%0A%20%20%20%20%20%20%20%20%0A%20%20%20%20%0A%20%20%20%20%0A%20%20%20%20%20%20%20%20%20%20%20%20var%20marker_6b9e75b0d6b741d6be7736f1cd72d867%20%3D%20L.marker%28%0A%20%20%20%20%20%20%20%20%20%20%20%20%20%20%20%20%5B28.13%2C%2077.27%5D%2C%0A%20%20%20%20%20%20%20%20%20%20%20%20%20%20%20%20%7B%7D%0A%20%20%20%20%20%20%20%20%20%20%20%20%29.addTo%28map_3b6142d802844ffb9d35e2abacd4ea14%29%3B%0A%20%20%20%20%20%20%20%20%0A%20%20%20%20%0A%20%20%20%20%20%20%20%20var%20popup_fe633f78fc8e47a4a1f2d2b4843a5a83%20%3D%20L.popup%28%7B%22maxWidth%22%3A%20%22100%25%22%7D%29%3B%0A%0A%20%20%20%20%20%20%20%20%0A%20%20%20%20%20%20%20%20%20%20%20%20var%20html_bc9092a0bf3f4053a8d6b4688f22f6eb%20%3D%20%24%28%60%3Cdiv%20id%3D%22html_bc9092a0bf3f4053a8d6b4688f22f6eb%22%20style%3D%22width%3A%20100.0%25%3B%20height%3A%20100.0%25%3B%22%3E31.174114427860694%3C/div%3E%60%29%5B0%5D%3B%0A%20%20%20%20%20%20%20%20%20%20%20%20popup_fe633f78fc8e47a4a1f2d2b4843a5a83.setContent%28html_bc9092a0bf3f4053a8d6b4688f22f6eb%29%3B%0A%20%20%20%20%20%20%20%20%0A%0A%20%20%20%20%20%20%20%20marker_6b9e75b0d6b741d6be7736f1cd72d867.bindPopup%28popup_fe633f78fc8e47a4a1f2d2b4843a5a83%29%0A%20%20%20%20%20%20%20%20%3B%0A%0A%20%20%20%20%20%20%20%20%0A%20%20%20%20%0A%20%20%20%20%0A%20%20%20%20%20%20%20%20%20%20%20%20var%20marker_6386a02cad3045d9883bdae3223e0d5c%20%3D%20L.marker%28%0A%20%20%20%20%20%20%20%20%20%20%20%20%20%20%20%20%5B16.87%2C%2078.7%5D%2C%0A%20%20%20%20%20%20%20%20%20%20%20%20%20%20%20%20%7B%7D%0A%20%20%20%20%20%20%20%20%20%20%20%20%29.addTo%28map_3b6142d802844ffb9d35e2abacd4ea14%29%3B%0A%20%20%20%20%20%20%20%20%0A%20%20%20%20%0A%20%20%20%20%20%20%20%20var%20popup_407a083396ac41c4bef6504d06662365%20%3D%20L.popup%28%7B%22maxWidth%22%3A%20%22100%25%22%7D%29%3B%0A%0A%20%20%20%20%20%20%20%20%0A%20%20%20%20%20%20%20%20%20%20%20%20var%20html_a0f365bb3cc640d581a719bd2cd6f829%20%3D%20%24%28%60%3Cdiv%20id%3D%22html_a0f365bb3cc640d581a719bd2cd6f829%22%20style%3D%22width%3A%20100.0%25%3B%20height%3A%20100.0%25%3B%22%3E27.21658571428572%3C/div%3E%60%29%5B0%5D%3B%0A%20%20%20%20%20%20%20%20%20%20%20%20popup_407a083396ac41c4bef6504d06662365.setContent%28html_a0f365bb3cc640d581a719bd2cd6f829%29%3B%0A%20%20%20%20%20%20%20%20%0A%0A%20%20%20%20%20%20%20%20marker_6386a02cad3045d9883bdae3223e0d5c.bindPopup%28popup_407a083396ac41c4bef6504d06662365%29%0A%20%20%20%20%20%20%20%20%3B%0A%0A%20%20%20%20%20%20%20%20%0A%20%20%20%20%0A%20%20%20%20%0A%20%20%20%20%20%20%20%20%20%20%20%20var%20marker_c875ed8e98e7472da2e1450773359942%20%3D%20L.marker%28%0A%20%20%20%20%20%20%20%20%20%20%20%20%20%20%20%20%5B13.66%2C%2080.09%5D%2C%0A%20%20%20%20%20%20%20%20%20%20%20%20%20%20%20%20%7B%7D%0A%20%20%20%20%20%20%20%20%20%20%20%20%29.addTo%28map_3b6142d802844ffb9d35e2abacd4ea14%29%3B%0A%20%20%20%20%20%20%20%20%0A%20%20%20%20%0A%20%20%20%20%20%20%20%20var%20popup_27dc89c98d6b4278a9a0f6efa26b32d1%20%3D%20L.popup%28%7B%22maxWidth%22%3A%20%22100%25%22%7D%29%3B%0A%0A%20%20%20%20%20%20%20%20%0A%20%20%20%20%20%20%20%20%20%20%20%20var%20html_ceadb48d06434aa9ad1a162f8f56a81e%20%3D%20%24%28%60%3Cdiv%20id%3D%22html_ceadb48d06434aa9ad1a162f8f56a81e%22%20style%3D%22width%3A%20100.0%25%3B%20height%3A%20100.0%25%3B%22%3E30.658619047619034%3C/div%3E%60%29%5B0%5D%3B%0A%20%20%20%20%20%20%20%20%20%20%20%20popup_27dc89c98d6b4278a9a0f6efa26b32d1.setContent%28html_ceadb48d06434aa9ad1a162f8f56a81e%29%3B%0A%20%20%20%20%20%20%20%20%0A%0A%20%20%20%20%20%20%20%20marker_c875ed8e98e7472da2e1450773359942.bindPopup%28popup_27dc89c98d6b4278a9a0f6efa26b32d1%29%0A%20%20%20%20%20%20%20%20%3B%0A%0A%20%20%20%20%20%20%20%20%0A%20%20%20%20%0A%20%20%20%20%0A%20%20%20%20%20%20%20%20%20%20%20%20var%20marker_b3504a36a36f4695bfdbe26dd43df528%20%3D%20L.marker%28%0A%20%20%20%20%20%20%20%20%20%20%20%20%20%20%20%20%5B28.13%2C%2077.27%5D%2C%0A%20%20%20%20%20%20%20%20%20%20%20%20%20%20%20%20%7B%7D%0A%20%20%20%20%20%20%20%20%20%20%20%20%29.addTo%28map_3b6142d802844ffb9d35e2abacd4ea14%29%3B%0A%20%20%20%20%20%20%20%20%0A%20%20%20%20%0A%20%20%20%20%20%20%20%20var%20popup_779d0d2cddfd49aeb7723437187fffda%20%3D%20L.popup%28%7B%22maxWidth%22%3A%20%22100%25%22%7D%29%3B%0A%0A%20%20%20%20%20%20%20%20%0A%20%20%20%20%20%20%20%20%20%20%20%20var%20html_13c0b96e66fb4dcaaeb0df337969e32f%20%3D%20%24%28%60%3Cdiv%20id%3D%22html_13c0b96e66fb4dcaaeb0df337969e32f%22%20style%3D%22width%3A%20100.0%25%3B%20height%3A%20100.0%25%3B%22%3E31.174114427860694%3C/div%3E%60%29%5B0%5D%3B%0A%20%20%20%20%20%20%20%20%20%20%20%20popup_779d0d2cddfd49aeb7723437187fffda.setContent%28html_13c0b96e66fb4dcaaeb0df337969e32f%29%3B%0A%20%20%20%20%20%20%20%20%0A%0A%20%20%20%20%20%20%20%20marker_b3504a36a36f4695bfdbe26dd43df528.bindPopup%28popup_779d0d2cddfd49aeb7723437187fffda%29%0A%20%20%20%20%20%20%20%20%3B%0A%0A%20%20%20%20%20%20%20%20%0A%20%20%20%20%0A%20%20%20%20%0A%20%20%20%20%20%20%20%20%20%20%20%20var%20marker_a5c97c7f82294e4fbc5630a8d1251876%20%3D%20L.marker%28%0A%20%20%20%20%20%20%20%20%20%20%20%20%20%20%20%20%5B18.48%2C%2074.37%5D%2C%0A%20%20%20%20%20%20%20%20%20%20%20%20%20%20%20%20%7B%7D%0A%20%20%20%20%20%20%20%20%20%20%20%20%29.addTo%28map_3b6142d802844ffb9d35e2abacd4ea14%29%3B%0A%20%20%20%20%20%20%20%20%0A%20%20%20%20%0A%20%20%20%20%20%20%20%20var%20popup_5f26f2d9c57d4b37987b38bd99a9ec00%20%3D%20L.popup%28%7B%22maxWidth%22%3A%20%22100%25%22%7D%29%3B%0A%0A%20%20%20%20%20%20%20%20%0A%20%20%20%20%20%20%20%20%20%20%20%20var%20html_6160cb73acab412eb27f0a245f08c6ef%20%3D%20%24%28%60%3Cdiv%20id%3D%22html_6160cb73acab412eb27f0a245f08c6ef%22%20style%3D%22width%3A%20100.0%25%3B%20height%3A%20100.0%25%3B%22%3E24.724738095238102%3C/div%3E%60%29%5B0%5D%3B%0A%20%20%20%20%20%20%20%20%20%20%20%20popup_5f26f2d9c57d4b37987b38bd99a9ec00.setContent%28html_6160cb73acab412eb27f0a245f08c6ef%29%3B%0A%20%20%20%20%20%20%20%20%0A%0A%20%20%20%20%20%20%20%20marker_a5c97c7f82294e4fbc5630a8d1251876.bindPopup%28popup_5f26f2d9c57d4b37987b38bd99a9ec00%29%0A%20%20%20%20%20%20%20%20%3B%0A%0A%20%20%20%20%20%20%20%20%0A%20%20%20%20%0A%20%20%20%20%0A%20%20%20%20%20%20%20%20%20%20%20%20var%20marker_d907803792454f5289aefeb3944bdfe0%20%3D%20L.marker%28%0A%20%20%20%20%20%20%20%20%20%20%20%20%20%20%20%20%5B12.05%2C%2077.26%5D%2C%0A%20%20%20%20%20%20%20%20%20%20%20%20%20%20%20%20%7B%7D%0A%20%20%20%20%20%20%20%20%20%20%20%20%29.addTo%28map_3b6142d802844ffb9d35e2abacd4ea14%29%3B%0A%20%20%20%20%20%20%20%20%0A%20%20%20%20%0A%20%20%20%20%20%20%20%20var%20popup_ae19a1bca1db40788634e5eab66aa4dd%20%3D%20L.popup%28%7B%22maxWidth%22%3A%20%22100%25%22%7D%29%3B%0A%0A%20%20%20%20%20%20%20%20%0A%20%20%20%20%20%20%20%20%20%20%20%20var%20html_b9d861f136fe4c24ad52d9dc43653123%20%3D%20%24%28%60%3Cdiv%20id%3D%22html_b9d861f136fe4c24ad52d9dc43653123%22%20style%3D%22width%3A%20100.0%25%3B%20height%3A%20100.0%25%3B%22%3E24.362909523809517%3C/div%3E%60%29%5B0%5D%3B%0A%20%20%20%20%20%20%20%20%20%20%20%20popup_ae19a1bca1db40788634e5eab66aa4dd.setContent%28html_b9d861f136fe4c24ad52d9dc43653123%29%3B%0A%20%20%20%20%20%20%20%20%0A%0A%20%20%20%20%20%20%20%20marker_d907803792454f5289aefeb3944bdfe0.bindPopup%28popup_ae19a1bca1db40788634e5eab66aa4dd%29%0A%20%20%20%20%20%20%20%20%3B%0A%0A%20%20%20%20%20%20%20%20%0A%20%20%20%20%0A%20%20%20%20%0A%20%20%20%20%20%20%20%20%20%20%20%20var%20marker_7f6a74039f9e415e9fb576992d7fba63%20%3D%20L.marker%28%0A%20%20%20%20%20%20%20%20%20%20%20%20%20%20%20%20%5B23.31%2C%2088.25%5D%2C%0A%20%20%20%20%20%20%20%20%20%20%20%20%20%20%20%20%7B%7D%0A%20%20%20%20%20%20%20%20%20%20%20%20%29.addTo%28map_3b6142d802844ffb9d35e2abacd4ea14%29%3B%0A%20%20%20%20%20%20%20%20%0A%20%20%20%20%0A%20%20%20%20%20%20%20%20var%20popup_f19d948c18784f16abd8b147bdd5e2cc%20%3D%20L.popup%28%7B%22maxWidth%22%3A%20%22100%25%22%7D%29%3B%0A%0A%20%20%20%20%20%20%20%20%0A%20%20%20%20%20%20%20%20%20%20%20%20var%20html_fa4ceaf3aa3d406495857dfca583ce42%20%3D%20%24%28%60%3Cdiv%20id%3D%22html_fa4ceaf3aa3d406495857dfca583ce42%22%20style%3D%22width%3A%20100.0%25%3B%20height%3A%20100.0%25%3B%22%3E28.809150943396208%3C/div%3E%60%29%5B0%5D%3B%0A%20%20%20%20%20%20%20%20%20%20%20%20popup_f19d948c18784f16abd8b147bdd5e2cc.setContent%28html_fa4ceaf3aa3d406495857dfca583ce42%29%3B%0A%20%20%20%20%20%20%20%20%0A%0A%20%20%20%20%20%20%20%20marker_7f6a74039f9e415e9fb576992d7fba63.bindPopup%28popup_f19d948c18784f16abd8b147bdd5e2cc%29%0A%20%20%20%20%20%20%20%20%3B%0A%0A%20%20%20%20%20%20%20%20%0A%20%20%20%20%0A%20%20%20%20%0A%20%20%20%20%20%20%20%20%20%20%20%20var%20marker_68dec90e30954f4d8d975f27a81c08b9%20%3D%20L.marker%28%0A%20%20%20%20%20%20%20%20%20%20%20%20%20%20%20%20%5B28.13%2C%2077.27%5D%2C%0A%20%20%20%20%20%20%20%20%20%20%20%20%20%20%20%20%7B%7D%0A%20%20%20%20%20%20%20%20%20%20%20%20%29.addTo%28map_3b6142d802844ffb9d35e2abacd4ea14%29%3B%0A%20%20%20%20%20%20%20%20%0A%20%20%20%20%0A%20%20%20%20%20%20%20%20var%20popup_22f89c5201014f4fae51de8bc15dca92%20%3D%20L.popup%28%7B%22maxWidth%22%3A%20%22100%25%22%7D%29%3B%0A%0A%20%20%20%20%20%20%20%20%0A%20%20%20%20%20%20%20%20%20%20%20%20var%20html_73929047134b45f2a09e401e3d3a22fd%20%3D%20%24%28%60%3Cdiv%20id%3D%22html_73929047134b45f2a09e401e3d3a22fd%22%20style%3D%22width%3A%20100.0%25%3B%20height%3A%20100.0%25%3B%22%3E29.75242288557213%3C/div%3E%60%29%5B0%5D%3B%0A%20%20%20%20%20%20%20%20%20%20%20%20popup_22f89c5201014f4fae51de8bc15dca92.setContent%28html_73929047134b45f2a09e401e3d3a22fd%29%3B%0A%20%20%20%20%20%20%20%20%0A%0A%20%20%20%20%20%20%20%20marker_68dec90e30954f4d8d975f27a81c08b9.bindPopup%28popup_22f89c5201014f4fae51de8bc15dca92%29%0A%20%20%20%20%20%20%20%20%3B%0A%0A%20%20%20%20%20%20%20%20%0A%20%20%20%20%0A%20%20%20%20%0A%20%20%20%20%20%20%20%20%20%20%20%20var%20marker_46de19868516422681df4619a0adf8a3%20%3D%20L.marker%28%0A%20%20%20%20%20%20%20%20%20%20%20%20%20%20%20%20%5B16.87%2C%2078.7%5D%2C%0A%20%20%20%20%20%20%20%20%20%20%20%20%20%20%20%20%7B%7D%0A%20%20%20%20%20%20%20%20%20%20%20%20%29.addTo%28map_3b6142d802844ffb9d35e2abacd4ea14%29%3B%0A%20%20%20%20%20%20%20%20%0A%20%20%20%20%0A%20%20%20%20%20%20%20%20var%20popup_cf7742d999524b9fadaaf71de0476d1e%20%3D%20L.popup%28%7B%22maxWidth%22%3A%20%22100%25%22%7D%29%3B%0A%0A%20%20%20%20%20%20%20%20%0A%20%20%20%20%20%20%20%20%20%20%20%20var%20html_1866a2ed218641d0aa9b2d8ae5dcbb2d%20%3D%20%24%28%60%3Cdiv%20id%3D%22html_1866a2ed218641d0aa9b2d8ae5dcbb2d%22%20style%3D%22width%3A%20100.0%25%3B%20height%3A%20100.0%25%3B%22%3E26.57353333333333%3C/div%3E%60%29%5B0%5D%3B%0A%20%20%20%20%20%20%20%20%20%20%20%20popup_cf7742d999524b9fadaaf71de0476d1e.setContent%28html_1866a2ed218641d0aa9b2d8ae5dcbb2d%29%3B%0A%20%20%20%20%20%20%20%20%0A%0A%20%20%20%20%20%20%20%20marker_46de19868516422681df4619a0adf8a3.bindPopup%28popup_cf7742d999524b9fadaaf71de0476d1e%29%0A%20%20%20%20%20%20%20%20%3B%0A%0A%20%20%20%20%20%20%20%20%0A%20%20%20%20%0A%20%20%20%20%0A%20%20%20%20%20%20%20%20%20%20%20%20var%20marker_bde859864beb45eab754a9d9371b4fe1%20%3D%20L.marker%28%0A%20%20%20%20%20%20%20%20%20%20%20%20%20%20%20%20%5B13.66%2C%2080.09%5D%2C%0A%20%20%20%20%20%20%20%20%20%20%20%20%20%20%20%20%7B%7D%0A%20%20%20%20%20%20%20%20%20%20%20%20%29.addTo%28map_3b6142d802844ffb9d35e2abacd4ea14%29%3B%0A%20%20%20%20%20%20%20%20%0A%20%20%20%20%0A%20%20%20%20%20%20%20%20var%20popup_5df25e39912645f4804ff5071821e980%20%3D%20L.popup%28%7B%22maxWidth%22%3A%20%22100%25%22%7D%29%3B%0A%0A%20%20%20%20%20%20%20%20%0A%20%20%20%20%20%20%20%20%20%20%20%20var%20html_c593bd8097fa4ceb945dafde4a9ec455%20%3D%20%24%28%60%3Cdiv%20id%3D%22html_c593bd8097fa4ceb945dafde4a9ec455%22%20style%3D%22width%3A%20100.0%25%3B%20height%3A%20100.0%25%3B%22%3E29.977352380952375%3C/div%3E%60%29%5B0%5D%3B%0A%20%20%20%20%20%20%20%20%20%20%20%20popup_5df25e39912645f4804ff5071821e980.setContent%28html_c593bd8097fa4ceb945dafde4a9ec455%29%3B%0A%20%20%20%20%20%20%20%20%0A%0A%20%20%20%20%20%20%20%20marker_bde859864beb45eab754a9d9371b4fe1.bindPopup%28popup_5df25e39912645f4804ff5071821e980%29%0A%20%20%20%20%20%20%20%20%3B%0A%0A%20%20%20%20%20%20%20%20%0A%20%20%20%20%0A%20%20%20%20%0A%20%20%20%20%20%20%20%20%20%20%20%20var%20marker_417e5f1b355c4c6ba6d80ad6e9b9d927%20%3D%20L.marker%28%0A%20%20%20%20%20%20%20%20%20%20%20%20%20%20%20%20%5B28.13%2C%2077.27%5D%2C%0A%20%20%20%20%20%20%20%20%20%20%20%20%20%20%20%20%7B%7D%0A%20%20%20%20%20%20%20%20%20%20%20%20%29.addTo%28map_3b6142d802844ffb9d35e2abacd4ea14%29%3B%0A%20%20%20%20%20%20%20%20%0A%20%20%20%20%0A%20%20%20%20%20%20%20%20var%20popup_557b179b43ec41d9af2869f2d3405e74%20%3D%20L.popup%28%7B%22maxWidth%22%3A%20%22100%25%22%7D%29%3B%0A%0A%20%20%20%20%20%20%20%20%0A%20%20%20%20%20%20%20%20%20%20%20%20var%20html_0621784eb3564509ae2a505a8f2a3667%20%3D%20%24%28%60%3Cdiv%20id%3D%22html_0621784eb3564509ae2a505a8f2a3667%22%20style%3D%22width%3A%20100.0%25%3B%20height%3A%20100.0%25%3B%22%3E29.75242288557213%3C/div%3E%60%29%5B0%5D%3B%0A%20%20%20%20%20%20%20%20%20%20%20%20popup_557b179b43ec41d9af2869f2d3405e74.setContent%28html_0621784eb3564509ae2a505a8f2a3667%29%3B%0A%20%20%20%20%20%20%20%20%0A%0A%20%20%20%20%20%20%20%20marker_417e5f1b355c4c6ba6d80ad6e9b9d927.bindPopup%28popup_557b179b43ec41d9af2869f2d3405e74%29%0A%20%20%20%20%20%20%20%20%3B%0A%0A%20%20%20%20%20%20%20%20%0A%20%20%20%20%0A%20%20%20%20%0A%20%20%20%20%20%20%20%20%20%20%20%20var%20marker_73a6c5ebf15e43c19e8dfdc42b548a7d%20%3D%20L.marker%28%0A%20%20%20%20%20%20%20%20%20%20%20%20%20%20%20%20%5B18.48%2C%2074.37%5D%2C%0A%20%20%20%20%20%20%20%20%20%20%20%20%20%20%20%20%7B%7D%0A%20%20%20%20%20%20%20%20%20%20%20%20%29.addTo%28map_3b6142d802844ffb9d35e2abacd4ea14%29%3B%0A%20%20%20%20%20%20%20%20%0A%20%20%20%20%0A%20%20%20%20%20%20%20%20var%20popup_7f9087a1dd0b456b84547ba448b77688%20%3D%20L.popup%28%7B%22maxWidth%22%3A%20%22100%25%22%7D%29%3B%0A%0A%20%20%20%20%20%20%20%20%0A%20%20%20%20%20%20%20%20%20%20%20%20var%20html_cff61a1bd77a445295985f21398b9e26%20%3D%20%24%28%60%3Cdiv%20id%3D%22html_cff61a1bd77a445295985f21398b9e26%22%20style%3D%22width%3A%20100.0%25%3B%20height%3A%20100.0%25%3B%22%3E24.197833333333328%3C/div%3E%60%29%5B0%5D%3B%0A%20%20%20%20%20%20%20%20%20%20%20%20popup_7f9087a1dd0b456b84547ba448b77688.setContent%28html_cff61a1bd77a445295985f21398b9e26%29%3B%0A%20%20%20%20%20%20%20%20%0A%0A%20%20%20%20%20%20%20%20marker_73a6c5ebf15e43c19e8dfdc42b548a7d.bindPopup%28popup_7f9087a1dd0b456b84547ba448b77688%29%0A%20%20%20%20%20%20%20%20%3B%0A%0A%20%20%20%20%20%20%20%20%0A%20%20%20%20%0A%20%20%20%20%0A%20%20%20%20%20%20%20%20%20%20%20%20var%20marker_17ff5d91d4f54e22adfeb2d88f364708%20%3D%20L.marker%28%0A%20%20%20%20%20%20%20%20%20%20%20%20%20%20%20%20%5B12.05%2C%2077.26%5D%2C%0A%20%20%20%20%20%20%20%20%20%20%20%20%20%20%20%20%7B%7D%0A%20%20%20%20%20%20%20%20%20%20%20%20%29.addTo%28map_3b6142d802844ffb9d35e2abacd4ea14%29%3B%0A%20%20%20%20%20%20%20%20%0A%20%20%20%20%0A%20%20%20%20%20%20%20%20var%20popup_c931c9725eec4e23838a9e761278da6a%20%3D%20L.popup%28%7B%22maxWidth%22%3A%20%22100%25%22%7D%29%3B%0A%0A%20%20%20%20%20%20%20%20%0A%20%20%20%20%20%20%20%20%20%20%20%20var%20html_e5bb0ead02164551b86c1af2be5526c9%20%3D%20%24%28%60%3Cdiv%20id%3D%22html_e5bb0ead02164551b86c1af2be5526c9%22%20style%3D%22width%3A%20100.0%25%3B%20height%3A%20100.0%25%3B%22%3E24.495114832535872%3C/div%3E%60%29%5B0%5D%3B%0A%20%20%20%20%20%20%20%20%20%20%20%20popup_c931c9725eec4e23838a9e761278da6a.setContent%28html_e5bb0ead02164551b86c1af2be5526c9%29%3B%0A%20%20%20%20%20%20%20%20%0A%0A%20%20%20%20%20%20%20%20marker_17ff5d91d4f54e22adfeb2d88f364708.bindPopup%28popup_c931c9725eec4e23838a9e761278da6a%29%0A%20%20%20%20%20%20%20%20%3B%0A%0A%20%20%20%20%20%20%20%20%0A%20%20%20%20%0A%20%20%20%20%0A%20%20%20%20%20%20%20%20%20%20%20%20var%20marker_682b1852523b43c784d0f6a57b3caa57%20%3D%20L.marker%28%0A%20%20%20%20%20%20%20%20%20%20%20%20%20%20%20%20%5B23.31%2C%2088.25%5D%2C%0A%20%20%20%20%20%20%20%20%20%20%20%20%20%20%20%20%7B%7D%0A%20%20%20%20%20%20%20%20%20%20%20%20%29.addTo%28map_3b6142d802844ffb9d35e2abacd4ea14%29%3B%0A%20%20%20%20%20%20%20%20%0A%20%20%20%20%0A%20%20%20%20%20%20%20%20var%20popup_88281012e941448d86c0b5a5d188e090%20%3D%20L.popup%28%7B%22maxWidth%22%3A%20%22100%25%22%7D%29%3B%0A%0A%20%20%20%20%20%20%20%20%0A%20%20%20%20%20%20%20%20%20%20%20%20var%20html_82a0f4f2670d4a2881732b6adeaaa018%20%3D%20%24%28%60%3Cdiv%20id%3D%22html_82a0f4f2670d4a2881732b6adeaaa018%22%20style%3D%22width%3A%20100.0%25%3B%20height%3A%20100.0%25%3B%22%3E28.59412322274881%3C/div%3E%60%29%5B0%5D%3B%0A%20%20%20%20%20%20%20%20%20%20%20%20popup_88281012e941448d86c0b5a5d188e090.setContent%28html_82a0f4f2670d4a2881732b6adeaaa018%29%3B%0A%20%20%20%20%20%20%20%20%0A%0A%20%20%20%20%20%20%20%20marker_682b1852523b43c784d0f6a57b3caa57.bindPopup%28popup_88281012e941448d86c0b5a5d188e090%29%0A%20%20%20%20%20%20%20%20%3B%0A%0A%20%20%20%20%20%20%20%20%0A%20%20%20%20%0A%20%20%20%20%0A%20%20%20%20%20%20%20%20%20%20%20%20var%20marker_654ed145a049478b981e384a3049f3e5%20%3D%20L.marker%28%0A%20%20%20%20%20%20%20%20%20%20%20%20%20%20%20%20%5B28.13%2C%2077.27%5D%2C%0A%20%20%20%20%20%20%20%20%20%20%20%20%20%20%20%20%7B%7D%0A%20%20%20%20%20%20%20%20%20%20%20%20%29.addTo%28map_3b6142d802844ffb9d35e2abacd4ea14%29%3B%0A%20%20%20%20%20%20%20%20%0A%20%20%20%20%0A%20%20%20%20%20%20%20%20var%20popup_bd330074a6c7446bb2596b9f960b47d9%20%3D%20L.popup%28%7B%22maxWidth%22%3A%20%22100%25%22%7D%29%3B%0A%0A%20%20%20%20%20%20%20%20%0A%20%20%20%20%20%20%20%20%20%20%20%20var%20html_530a091d219548748f7b5494650755e2%20%3D%20%24%28%60%3Cdiv%20id%3D%22html_530a091d219548748f7b5494650755e2%22%20style%3D%22width%3A%20100.0%25%3B%20height%3A%20100.0%25%3B%22%3E28.994464999999995%3C/div%3E%60%29%5B0%5D%3B%0A%20%20%20%20%20%20%20%20%20%20%20%20popup_bd330074a6c7446bb2596b9f960b47d9.setContent%28html_530a091d219548748f7b5494650755e2%29%3B%0A%20%20%20%20%20%20%20%20%0A%0A%20%20%20%20%20%20%20%20marker_654ed145a049478b981e384a3049f3e5.bindPopup%28popup_bd330074a6c7446bb2596b9f960b47d9%29%0A%20%20%20%20%20%20%20%20%3B%0A%0A%20%20%20%20%20%20%20%20%0A%20%20%20%20%0A%20%20%20%20%0A%20%20%20%20%20%20%20%20%20%20%20%20var%20marker_73ae9cf7e07c4d34b6c358fed304331e%20%3D%20L.marker%28%0A%20%20%20%20%20%20%20%20%20%20%20%20%20%20%20%20%5B16.87%2C%2078.7%5D%2C%0A%20%20%20%20%20%20%20%20%20%20%20%20%20%20%20%20%7B%7D%0A%20%20%20%20%20%20%20%20%20%20%20%20%29.addTo%28map_3b6142d802844ffb9d35e2abacd4ea14%29%3B%0A%20%20%20%20%20%20%20%20%0A%20%20%20%20%0A%20%20%20%20%20%20%20%20var%20popup_d5b42d907d8f45a9976519b0eff95296%20%3D%20L.popup%28%7B%22maxWidth%22%3A%20%22100%25%22%7D%29%3B%0A%0A%20%20%20%20%20%20%20%20%0A%20%20%20%20%20%20%20%20%20%20%20%20var%20html_352db7a0f2294000a6a8fefc24cd308a%20%3D%20%24%28%60%3Cdiv%20id%3D%22html_352db7a0f2294000a6a8fefc24cd308a%22%20style%3D%22width%3A%20100.0%25%3B%20height%3A%20100.0%25%3B%22%3E26.640239234449766%3C/div%3E%60%29%5B0%5D%3B%0A%20%20%20%20%20%20%20%20%20%20%20%20popup_d5b42d907d8f45a9976519b0eff95296.setContent%28html_352db7a0f2294000a6a8fefc24cd308a%29%3B%0A%20%20%20%20%20%20%20%20%0A%0A%20%20%20%20%20%20%20%20marker_73ae9cf7e07c4d34b6c358fed304331e.bindPopup%28popup_d5b42d907d8f45a9976519b0eff95296%29%0A%20%20%20%20%20%20%20%20%3B%0A%0A%20%20%20%20%20%20%20%20%0A%20%20%20%20%0A%20%20%20%20%0A%20%20%20%20%20%20%20%20%20%20%20%20var%20marker_40e8d2a563f64347911507ec53959d6b%20%3D%20L.marker%28%0A%20%20%20%20%20%20%20%20%20%20%20%20%20%20%20%20%5B13.66%2C%2080.09%5D%2C%0A%20%20%20%20%20%20%20%20%20%20%20%20%20%20%20%20%7B%7D%0A%20%20%20%20%20%20%20%20%20%20%20%20%29.addTo%28map_3b6142d802844ffb9d35e2abacd4ea14%29%3B%0A%20%20%20%20%20%20%20%20%0A%20%20%20%20%0A%20%20%20%20%20%20%20%20var%20popup_998c0d0ad6aa4856b9b1f2001d3042df%20%3D%20L.popup%28%7B%22maxWidth%22%3A%20%22100%25%22%7D%29%3B%0A%0A%20%20%20%20%20%20%20%20%0A%20%20%20%20%20%20%20%20%20%20%20%20var%20html_bc4117eaf9d0481ca108970e2f64cae5%20%3D%20%24%28%60%3Cdiv%20id%3D%22html_bc4117eaf9d0481ca108970e2f64cae5%22%20style%3D%22width%3A%20100.0%25%3B%20height%3A%20100.0%25%3B%22%3E29.39702870813397%3C/div%3E%60%29%5B0%5D%3B%0A%20%20%20%20%20%20%20%20%20%20%20%20popup_998c0d0ad6aa4856b9b1f2001d3042df.setContent%28html_bc4117eaf9d0481ca108970e2f64cae5%29%3B%0A%20%20%20%20%20%20%20%20%0A%0A%20%20%20%20%20%20%20%20marker_40e8d2a563f64347911507ec53959d6b.bindPopup%28popup_998c0d0ad6aa4856b9b1f2001d3042df%29%0A%20%20%20%20%20%20%20%20%3B%0A%0A%20%20%20%20%20%20%20%20%0A%20%20%20%20%0A%20%20%20%20%0A%20%20%20%20%20%20%20%20%20%20%20%20var%20marker_2ac477a1ddf843dabaff385a3eea12df%20%3D%20L.marker%28%0A%20%20%20%20%20%20%20%20%20%20%20%20%20%20%20%20%5B28.13%2C%2077.27%5D%2C%0A%20%20%20%20%20%20%20%20%20%20%20%20%20%20%20%20%7B%7D%0A%20%20%20%20%20%20%20%20%20%20%20%20%29.addTo%28map_3b6142d802844ffb9d35e2abacd4ea14%29%3B%0A%20%20%20%20%20%20%20%20%0A%20%20%20%20%0A%20%20%20%20%20%20%20%20var%20popup_24f88f94488c459bb86f04d5ce34d949%20%3D%20L.popup%28%7B%22maxWidth%22%3A%20%22100%25%22%7D%29%3B%0A%0A%20%20%20%20%20%20%20%20%0A%20%20%20%20%20%20%20%20%20%20%20%20var%20html_122e1173da8c4ad6a4422a34a8e65104%20%3D%20%24%28%60%3Cdiv%20id%3D%22html_122e1173da8c4ad6a4422a34a8e65104%22%20style%3D%22width%3A%20100.0%25%3B%20height%3A%20100.0%25%3B%22%3E28.994464999999995%3C/div%3E%60%29%5B0%5D%3B%0A%20%20%20%20%20%20%20%20%20%20%20%20popup_24f88f94488c459bb86f04d5ce34d949.setContent%28html_122e1173da8c4ad6a4422a34a8e65104%29%3B%0A%20%20%20%20%20%20%20%20%0A%0A%20%20%20%20%20%20%20%20marker_2ac477a1ddf843dabaff385a3eea12df.bindPopup%28popup_24f88f94488c459bb86f04d5ce34d949%29%0A%20%20%20%20%20%20%20%20%3B%0A%0A%20%20%20%20%20%20%20%20%0A%20%20%20%20%0A%20%20%20%20%0A%20%20%20%20%20%20%20%20%20%20%20%20var%20marker_e4aabbf997ca48bc854e0de8466a55a8%20%3D%20L.marker%28%0A%20%20%20%20%20%20%20%20%20%20%20%20%20%20%20%20%5B18.48%2C%2074.37%5D%2C%0A%20%20%20%20%20%20%20%20%20%20%20%20%20%20%20%20%7B%7D%0A%20%20%20%20%20%20%20%20%20%20%20%20%29.addTo%28map_3b6142d802844ffb9d35e2abacd4ea14%29%3B%0A%20%20%20%20%20%20%20%20%0A%20%20%20%20%0A%20%20%20%20%20%20%20%20var%20popup_f0be532941fa4cce947b0d0e177e5b13%20%3D%20L.popup%28%7B%22maxWidth%22%3A%20%22100%25%22%7D%29%3B%0A%0A%20%20%20%20%20%20%20%20%0A%20%20%20%20%20%20%20%20%20%20%20%20var%20html_be262b33759846be8ae502f5ad3e39c9%20%3D%20%24%28%60%3Cdiv%20id%3D%22html_be262b33759846be8ae502f5ad3e39c9%22%20style%3D%22width%3A%20100.0%25%3B%20height%3A%20100.0%25%3B%22%3E24.56574162679425%3C/div%3E%60%29%5B0%5D%3B%0A%20%20%20%20%20%20%20%20%20%20%20%20popup_f0be532941fa4cce947b0d0e177e5b13.setContent%28html_be262b33759846be8ae502f5ad3e39c9%29%3B%0A%20%20%20%20%20%20%20%20%0A%0A%20%20%20%20%20%20%20%20marker_e4aabbf997ca48bc854e0de8466a55a8.bindPopup%28popup_f0be532941fa4cce947b0d0e177e5b13%29%0A%20%20%20%20%20%20%20%20%3B%0A%0A%20%20%20%20%20%20%20%20%0A%20%20%20%20%0A%20%20%20%20%0A%20%20%20%20%20%20%20%20%20%20%20%20var%20marker_d176e265255945d28039adea49dc1f33%20%3D%20L.marker%28%0A%20%20%20%20%20%20%20%20%20%20%20%20%20%20%20%20%5B12.05%2C%2077.26%5D%2C%0A%20%20%20%20%20%20%20%20%20%20%20%20%20%20%20%20%7B%7D%0A%20%20%20%20%20%20%20%20%20%20%20%20%29.addTo%28map_3b6142d802844ffb9d35e2abacd4ea14%29%3B%0A%20%20%20%20%20%20%20%20%0A%20%20%20%20%0A%20%20%20%20%20%20%20%20var%20popup_d8c722f155fd4a8b9e9432948ba679a4%20%3D%20L.popup%28%7B%22maxWidth%22%3A%20%22100%25%22%7D%29%3B%0A%0A%20%20%20%20%20%20%20%20%0A%20%20%20%20%20%20%20%20%20%20%20%20var%20html_28b98568daaf4b66a108f30786d8f7e8%20%3D%20%24%28%60%3Cdiv%20id%3D%22html_28b98568daaf4b66a108f30786d8f7e8%22%20style%3D%22width%3A%20100.0%25%3B%20height%3A%20100.0%25%3B%22%3E24.09178468899521%3C/div%3E%60%29%5B0%5D%3B%0A%20%20%20%20%20%20%20%20%20%20%20%20popup_d8c722f155fd4a8b9e9432948ba679a4.setContent%28html_28b98568daaf4b66a108f30786d8f7e8%29%3B%0A%20%20%20%20%20%20%20%20%0A%0A%20%20%20%20%20%20%20%20marker_d176e265255945d28039adea49dc1f33.bindPopup%28popup_d8c722f155fd4a8b9e9432948ba679a4%29%0A%20%20%20%20%20%20%20%20%3B%0A%0A%20%20%20%20%20%20%20%20%0A%20%20%20%20%0A%20%20%20%20%0A%20%20%20%20%20%20%20%20%20%20%20%20var%20marker_76378127b9364751b6fed60804b0e558%20%3D%20L.marker%28%0A%20%20%20%20%20%20%20%20%20%20%20%20%20%20%20%20%5B23.31%2C%2088.25%5D%2C%0A%20%20%20%20%20%20%20%20%20%20%20%20%20%20%20%20%7B%7D%0A%20%20%20%20%20%20%20%20%20%20%20%20%29.addTo%28map_3b6142d802844ffb9d35e2abacd4ea14%29%3B%0A%20%20%20%20%20%20%20%20%0A%20%20%20%20%0A%20%20%20%20%20%20%20%20var%20popup_45fc3e674dd7437dbafbaecc136a9c43%20%3D%20L.popup%28%7B%22maxWidth%22%3A%20%22100%25%22%7D%29%3B%0A%0A%20%20%20%20%20%20%20%20%0A%20%20%20%20%20%20%20%20%20%20%20%20var%20html_dc819e0158be44a4959047a4543b610f%20%3D%20%24%28%60%3Cdiv%20id%3D%22html_dc819e0158be44a4959047a4543b610f%22%20style%3D%22width%3A%20100.0%25%3B%20height%3A%20100.0%25%3B%22%3E26.874407582938392%3C/div%3E%60%29%5B0%5D%3B%0A%20%20%20%20%20%20%20%20%20%20%20%20popup_45fc3e674dd7437dbafbaecc136a9c43.setContent%28html_dc819e0158be44a4959047a4543b610f%29%3B%0A%20%20%20%20%20%20%20%20%0A%0A%20%20%20%20%20%20%20%20marker_76378127b9364751b6fed60804b0e558.bindPopup%28popup_45fc3e674dd7437dbafbaecc136a9c43%29%0A%20%20%20%20%20%20%20%20%3B%0A%0A%20%20%20%20%20%20%20%20%0A%20%20%20%20%0A%20%20%20%20%0A%20%20%20%20%20%20%20%20%20%20%20%20var%20marker_5e9e1a6091084b97b2fed6b06094352f%20%3D%20L.marker%28%0A%20%20%20%20%20%20%20%20%20%20%20%20%20%20%20%20%5B28.13%2C%2077.27%5D%2C%0A%20%20%20%20%20%20%20%20%20%20%20%20%20%20%20%20%7B%7D%0A%20%20%20%20%20%20%20%20%20%20%20%20%29.addTo%28map_3b6142d802844ffb9d35e2abacd4ea14%29%3B%0A%20%20%20%20%20%20%20%20%0A%20%20%20%20%0A%20%20%20%20%20%20%20%20var%20popup_b90f09523ff0463eaaaaf3af0173c34e%20%3D%20L.popup%28%7B%22maxWidth%22%3A%20%22100%25%22%7D%29%3B%0A%0A%20%20%20%20%20%20%20%20%0A%20%20%20%20%20%20%20%20%20%20%20%20var%20html_c33614cbc0534246bc5d3224465dc086%20%3D%20%24%28%60%3Cdiv%20id%3D%22html_c33614cbc0534246bc5d3224465dc086%22%20style%3D%22width%3A%20100.0%25%3B%20height%3A%20100.0%25%3B%22%3E25.86637500000001%3C/div%3E%60%29%5B0%5D%3B%0A%20%20%20%20%20%20%20%20%20%20%20%20popup_b90f09523ff0463eaaaaf3af0173c34e.setContent%28html_c33614cbc0534246bc5d3224465dc086%29%3B%0A%20%20%20%20%20%20%20%20%0A%0A%20%20%20%20%20%20%20%20marker_5e9e1a6091084b97b2fed6b06094352f.bindPopup%28popup_b90f09523ff0463eaaaaf3af0173c34e%29%0A%20%20%20%20%20%20%20%20%3B%0A%0A%20%20%20%20%20%20%20%20%0A%20%20%20%20%0A%20%20%20%20%0A%20%20%20%20%20%20%20%20%20%20%20%20var%20marker_8f0dbe44b32d4ee38590202937aecc45%20%3D%20L.marker%28%0A%20%20%20%20%20%20%20%20%20%20%20%20%20%20%20%20%5B16.87%2C%2078.7%5D%2C%0A%20%20%20%20%20%20%20%20%20%20%20%20%20%20%20%20%7B%7D%0A%20%20%20%20%20%20%20%20%20%20%20%20%29.addTo%28map_3b6142d802844ffb9d35e2abacd4ea14%29%3B%0A%20%20%20%20%20%20%20%20%0A%20%20%20%20%0A%20%20%20%20%20%20%20%20var%20popup_93f7c66dbd934c9880b00c0c36d07f4a%20%3D%20L.popup%28%7B%22maxWidth%22%3A%20%22100%25%22%7D%29%3B%0A%0A%20%20%20%20%20%20%20%20%0A%20%20%20%20%20%20%20%20%20%20%20%20var%20html_6231ed8078814abaa32b7ee4ea687d19%20%3D%20%24%28%60%3Cdiv%20id%3D%22html_6231ed8078814abaa32b7ee4ea687d19%22%20style%3D%22width%3A%20100.0%25%3B%20height%3A%20100.0%25%3B%22%3E25.6796220095694%3C/div%3E%60%29%5B0%5D%3B%0A%20%20%20%20%20%20%20%20%20%20%20%20popup_93f7c66dbd934c9880b00c0c36d07f4a.setContent%28html_6231ed8078814abaa32b7ee4ea687d19%29%3B%0A%20%20%20%20%20%20%20%20%0A%0A%20%20%20%20%20%20%20%20marker_8f0dbe44b32d4ee38590202937aecc45.bindPopup%28popup_93f7c66dbd934c9880b00c0c36d07f4a%29%0A%20%20%20%20%20%20%20%20%3B%0A%0A%20%20%20%20%20%20%20%20%0A%20%20%20%20%0A%20%20%20%20%0A%20%20%20%20%20%20%20%20%20%20%20%20var%20marker_eeef055308fb4187be9a75e94d0399b6%20%3D%20L.marker%28%0A%20%20%20%20%20%20%20%20%20%20%20%20%20%20%20%20%5B13.66%2C%2080.09%5D%2C%0A%20%20%20%20%20%20%20%20%20%20%20%20%20%20%20%20%7B%7D%0A%20%20%20%20%20%20%20%20%20%20%20%20%29.addTo%28map_3b6142d802844ffb9d35e2abacd4ea14%29%3B%0A%20%20%20%20%20%20%20%20%0A%20%20%20%20%0A%20%20%20%20%20%20%20%20var%20popup_f89a3f4130cd4d569a84981f2b6c451f%20%3D%20L.popup%28%7B%22maxWidth%22%3A%20%22100%25%22%7D%29%3B%0A%0A%20%20%20%20%20%20%20%20%0A%20%20%20%20%20%20%20%20%20%20%20%20var%20html_7e157a7aa2614442b1c6971fefb244dd%20%3D%20%24%28%60%3Cdiv%20id%3D%22html_7e157a7aa2614442b1c6971fefb244dd%22%20style%3D%22width%3A%20100.0%25%3B%20height%3A%20100.0%25%3B%22%3E27.74167942583734%3C/div%3E%60%29%5B0%5D%3B%0A%20%20%20%20%20%20%20%20%20%20%20%20popup_f89a3f4130cd4d569a84981f2b6c451f.setContent%28html_7e157a7aa2614442b1c6971fefb244dd%29%3B%0A%20%20%20%20%20%20%20%20%0A%0A%20%20%20%20%20%20%20%20marker_eeef055308fb4187be9a75e94d0399b6.bindPopup%28popup_f89a3f4130cd4d569a84981f2b6c451f%29%0A%20%20%20%20%20%20%20%20%3B%0A%0A%20%20%20%20%20%20%20%20%0A%20%20%20%20%0A%20%20%20%20%0A%20%20%20%20%20%20%20%20%20%20%20%20var%20marker_9a61d44ac7254e9697aaf77d7dfcc572%20%3D%20L.marker%28%0A%20%20%20%20%20%20%20%20%20%20%20%20%20%20%20%20%5B28.13%2C%2077.27%5D%2C%0A%20%20%20%20%20%20%20%20%20%20%20%20%20%20%20%20%7B%7D%0A%20%20%20%20%20%20%20%20%20%20%20%20%29.addTo%28map_3b6142d802844ffb9d35e2abacd4ea14%29%3B%0A%20%20%20%20%20%20%20%20%0A%20%20%20%20%0A%20%20%20%20%20%20%20%20var%20popup_bd3197870f844ee083c0dd33063c1903%20%3D%20L.popup%28%7B%22maxWidth%22%3A%20%22100%25%22%7D%29%3B%0A%0A%20%20%20%20%20%20%20%20%0A%20%20%20%20%20%20%20%20%20%20%20%20var%20html_581f9ed040e44ab8a9b398420355a477%20%3D%20%24%28%60%3Cdiv%20id%3D%22html_581f9ed040e44ab8a9b398420355a477%22%20style%3D%22width%3A%20100.0%25%3B%20height%3A%20100.0%25%3B%22%3E25.86637500000001%3C/div%3E%60%29%5B0%5D%3B%0A%20%20%20%20%20%20%20%20%20%20%20%20popup_bd3197870f844ee083c0dd33063c1903.setContent%28html_581f9ed040e44ab8a9b398420355a477%29%3B%0A%20%20%20%20%20%20%20%20%0A%0A%20%20%20%20%20%20%20%20marker_9a61d44ac7254e9697aaf77d7dfcc572.bindPopup%28popup_bd3197870f844ee083c0dd33063c1903%29%0A%20%20%20%20%20%20%20%20%3B%0A%0A%20%20%20%20%20%20%20%20%0A%20%20%20%20%0A%20%20%20%20%0A%20%20%20%20%20%20%20%20%20%20%20%20var%20marker_5c9e855b56cb49e096b5f991dc2024da%20%3D%20L.marker%28%0A%20%20%20%20%20%20%20%20%20%20%20%20%20%20%20%20%5B18.48%2C%2074.37%5D%2C%0A%20%20%20%20%20%20%20%20%20%20%20%20%20%20%20%20%7B%7D%0A%20%20%20%20%20%20%20%20%20%20%20%20%29.addTo%28map_3b6142d802844ffb9d35e2abacd4ea14%29%3B%0A%20%20%20%20%20%20%20%20%0A%20%20%20%20%0A%20%20%20%20%20%20%20%20var%20popup_49430eac25d34c38814575e080ab0dae%20%3D%20L.popup%28%7B%22maxWidth%22%3A%20%22100%25%22%7D%29%3B%0A%0A%20%20%20%20%20%20%20%20%0A%20%20%20%20%20%20%20%20%20%20%20%20var%20html_5c3050d11ed54b16afb6348680943fc0%20%3D%20%24%28%60%3Cdiv%20id%3D%22html_5c3050d11ed54b16afb6348680943fc0%22%20style%3D%22width%3A%20100.0%25%3B%20height%3A%20100.0%25%3B%22%3E24.367425837320575%3C/div%3E%60%29%5B0%5D%3B%0A%20%20%20%20%20%20%20%20%20%20%20%20popup_49430eac25d34c38814575e080ab0dae.setContent%28html_5c3050d11ed54b16afb6348680943fc0%29%3B%0A%20%20%20%20%20%20%20%20%0A%0A%20%20%20%20%20%20%20%20marker_5c9e855b56cb49e096b5f991dc2024da.bindPopup%28popup_49430eac25d34c38814575e080ab0dae%29%0A%20%20%20%20%20%20%20%20%3B%0A%0A%20%20%20%20%20%20%20%20%0A%20%20%20%20%0A%20%20%20%20%0A%20%20%20%20%20%20%20%20%20%20%20%20var%20marker_1042dd5d95a3495ba1b0431bb9e3dc54%20%3D%20L.marker%28%0A%20%20%20%20%20%20%20%20%20%20%20%20%20%20%20%20%5B12.05%2C%2077.26%5D%2C%0A%20%20%20%20%20%20%20%20%20%20%20%20%20%20%20%20%7B%7D%0A%20%20%20%20%20%20%20%20%20%20%20%20%29.addTo%28map_3b6142d802844ffb9d35e2abacd4ea14%29%3B%0A%20%20%20%20%20%20%20%20%0A%20%20%20%20%0A%20%20%20%20%20%20%20%20var%20popup_9bdefe43e9fd4188bccff46b18c235ce%20%3D%20L.popup%28%7B%22maxWidth%22%3A%20%22100%25%22%7D%29%3B%0A%0A%20%20%20%20%20%20%20%20%0A%20%20%20%20%20%20%20%20%20%20%20%20var%20html_e69b141ee2b044debed67f5906bc1522%20%3D%20%24%28%60%3Cdiv%20id%3D%22html_e69b141ee2b044debed67f5906bc1522%22%20style%3D%22width%3A%20100.0%25%3B%20height%3A%20100.0%25%3B%22%3E23.265157894736852%3C/div%3E%60%29%5B0%5D%3B%0A%20%20%20%20%20%20%20%20%20%20%20%20popup_9bdefe43e9fd4188bccff46b18c235ce.setContent%28html_e69b141ee2b044debed67f5906bc1522%29%3B%0A%20%20%20%20%20%20%20%20%0A%0A%20%20%20%20%20%20%20%20marker_1042dd5d95a3495ba1b0431bb9e3dc54.bindPopup%28popup_9bdefe43e9fd4188bccff46b18c235ce%29%0A%20%20%20%20%20%20%20%20%3B%0A%0A%20%20%20%20%20%20%20%20%0A%20%20%20%20%0A%20%20%20%20%0A%20%20%20%20%20%20%20%20%20%20%20%20var%20marker_872733920d7a467b816f99921301ce93%20%3D%20L.marker%28%0A%20%20%20%20%20%20%20%20%20%20%20%20%20%20%20%20%5B23.31%2C%2088.25%5D%2C%0A%20%20%20%20%20%20%20%20%20%20%20%20%20%20%20%20%7B%7D%0A%20%20%20%20%20%20%20%20%20%20%20%20%29.addTo%28map_3b6142d802844ffb9d35e2abacd4ea14%29%3B%0A%20%20%20%20%20%20%20%20%0A%20%20%20%20%0A%20%20%20%20%20%20%20%20var%20popup_9e15337abe3843bf9232c44f40050a77%20%3D%20L.popup%28%7B%22maxWidth%22%3A%20%22100%25%22%7D%29%3B%0A%0A%20%20%20%20%20%20%20%20%0A%20%20%20%20%20%20%20%20%20%20%20%20var%20html_d08e30d7ec39408a91e1f14834a65a28%20%3D%20%24%28%60%3Cdiv%20id%3D%22html_d08e30d7ec39408a91e1f14834a65a28%22%20style%3D%22width%3A%20100.0%25%3B%20height%3A%20100.0%25%3B%22%3E23.160976303317533%3C/div%3E%60%29%5B0%5D%3B%0A%20%20%20%20%20%20%20%20%20%20%20%20popup_9e15337abe3843bf9232c44f40050a77.setContent%28html_d08e30d7ec39408a91e1f14834a65a28%29%3B%0A%20%20%20%20%20%20%20%20%0A%0A%20%20%20%20%20%20%20%20marker_872733920d7a467b816f99921301ce93.bindPopup%28popup_9e15337abe3843bf9232c44f40050a77%29%0A%20%20%20%20%20%20%20%20%3B%0A%0A%20%20%20%20%20%20%20%20%0A%20%20%20%20%0A%20%20%20%20%0A%20%20%20%20%20%20%20%20%20%20%20%20var%20marker_53512910e7f9435e8edfc0dc37797f1d%20%3D%20L.marker%28%0A%20%20%20%20%20%20%20%20%20%20%20%20%20%20%20%20%5B28.13%2C%2077.27%5D%2C%0A%20%20%20%20%20%20%20%20%20%20%20%20%20%20%20%20%7B%7D%0A%20%20%20%20%20%20%20%20%20%20%20%20%29.addTo%28map_3b6142d802844ffb9d35e2abacd4ea14%29%3B%0A%20%20%20%20%20%20%20%20%0A%20%20%20%20%0A%20%20%20%20%20%20%20%20var%20popup_86c250932ff64b77856ad076abd9b3bd%20%3D%20L.popup%28%7B%22maxWidth%22%3A%20%22100%25%22%7D%29%3B%0A%0A%20%20%20%20%20%20%20%20%0A%20%20%20%20%20%20%20%20%20%20%20%20var%20html_72c4c3a2621247e29b60db3074fe6582%20%3D%20%24%28%60%3Cdiv%20id%3D%22html_72c4c3a2621247e29b60db3074fe6582%22%20style%3D%22width%3A%20100.0%25%3B%20height%3A%20100.0%25%3B%22%3E20.34651000000001%3C/div%3E%60%29%5B0%5D%3B%0A%20%20%20%20%20%20%20%20%20%20%20%20popup_86c250932ff64b77856ad076abd9b3bd.setContent%28html_72c4c3a2621247e29b60db3074fe6582%29%3B%0A%20%20%20%20%20%20%20%20%0A%0A%20%20%20%20%20%20%20%20marker_53512910e7f9435e8edfc0dc37797f1d.bindPopup%28popup_86c250932ff64b77856ad076abd9b3bd%29%0A%20%20%20%20%20%20%20%20%3B%0A%0A%20%20%20%20%20%20%20%20%0A%20%20%20%20%0A%20%20%20%20%0A%20%20%20%20%20%20%20%20%20%20%20%20var%20marker_0e53697d19d54fbca2e2c360194135e3%20%3D%20L.marker%28%0A%20%20%20%20%20%20%20%20%20%20%20%20%20%20%20%20%5B16.87%2C%2078.7%5D%2C%0A%20%20%20%20%20%20%20%20%20%20%20%20%20%20%20%20%7B%7D%0A%20%20%20%20%20%20%20%20%20%20%20%20%29.addTo%28map_3b6142d802844ffb9d35e2abacd4ea14%29%3B%0A%20%20%20%20%20%20%20%20%0A%20%20%20%20%0A%20%20%20%20%20%20%20%20var%20popup_0935b1abbd954efbbebab36a4998da55%20%3D%20L.popup%28%7B%22maxWidth%22%3A%20%22100%25%22%7D%29%3B%0A%0A%20%20%20%20%20%20%20%20%0A%20%20%20%20%20%20%20%20%20%20%20%20var%20html_ff2df9204d08405d85f66b462039e4dd%20%3D%20%24%28%60%3Cdiv%20id%3D%22html_ff2df9204d08405d85f66b462039e4dd%22%20style%3D%22width%3A%20100.0%25%3B%20height%3A%20100.0%25%3B%22%3E23.50813397129185%3C/div%3E%60%29%5B0%5D%3B%0A%20%20%20%20%20%20%20%20%20%20%20%20popup_0935b1abbd954efbbebab36a4998da55.setContent%28html_ff2df9204d08405d85f66b462039e4dd%29%3B%0A%20%20%20%20%20%20%20%20%0A%0A%20%20%20%20%20%20%20%20marker_0e53697d19d54fbca2e2c360194135e3.bindPopup%28popup_0935b1abbd954efbbebab36a4998da55%29%0A%20%20%20%20%20%20%20%20%3B%0A%0A%20%20%20%20%20%20%20%20%0A%20%20%20%20%0A%20%20%20%20%0A%20%20%20%20%20%20%20%20%20%20%20%20var%20marker_445049211df444ad8fae6cf4aa560ddb%20%3D%20L.marker%28%0A%20%20%20%20%20%20%20%20%20%20%20%20%20%20%20%20%5B13.66%2C%2080.09%5D%2C%0A%20%20%20%20%20%20%20%20%20%20%20%20%20%20%20%20%7B%7D%0A%20%20%20%20%20%20%20%20%20%20%20%20%29.addTo%28map_3b6142d802844ffb9d35e2abacd4ea14%29%3B%0A%20%20%20%20%20%20%20%20%0A%20%20%20%20%0A%20%20%20%20%20%20%20%20var%20popup_2e8b9dddfd2643de85b63bb6dde72bad%20%3D%20L.popup%28%7B%22maxWidth%22%3A%20%22100%25%22%7D%29%3B%0A%0A%20%20%20%20%20%20%20%20%0A%20%20%20%20%20%20%20%20%20%20%20%20var%20html_43e9b3f346104963b9d96fdbf714f7c7%20%3D%20%24%28%60%3Cdiv%20id%3D%22html_43e9b3f346104963b9d96fdbf714f7c7%22%20style%3D%22width%3A%20100.0%25%3B%20height%3A%20100.0%25%3B%22%3E25.666679425837323%3C/div%3E%60%29%5B0%5D%3B%0A%20%20%20%20%20%20%20%20%20%20%20%20popup_2e8b9dddfd2643de85b63bb6dde72bad.setContent%28html_43e9b3f346104963b9d96fdbf714f7c7%29%3B%0A%20%20%20%20%20%20%20%20%0A%0A%20%20%20%20%20%20%20%20marker_445049211df444ad8fae6cf4aa560ddb.bindPopup%28popup_2e8b9dddfd2643de85b63bb6dde72bad%29%0A%20%20%20%20%20%20%20%20%3B%0A%0A%20%20%20%20%20%20%20%20%0A%20%20%20%20%0A%20%20%20%20%0A%20%20%20%20%20%20%20%20%20%20%20%20var%20marker_eae5baacaeec4d58887c9e9ba07cf250%20%3D%20L.marker%28%0A%20%20%20%20%20%20%20%20%20%20%20%20%20%20%20%20%5B28.13%2C%2077.27%5D%2C%0A%20%20%20%20%20%20%20%20%20%20%20%20%20%20%20%20%7B%7D%0A%20%20%20%20%20%20%20%20%20%20%20%20%29.addTo%28map_3b6142d802844ffb9d35e2abacd4ea14%29%3B%0A%20%20%20%20%20%20%20%20%0A%20%20%20%20%0A%20%20%20%20%20%20%20%20var%20popup_a411784819ac4527b879dd7c25881454%20%3D%20L.popup%28%7B%22maxWidth%22%3A%20%22100%25%22%7D%29%3B%0A%0A%20%20%20%20%20%20%20%20%0A%20%20%20%20%20%20%20%20%20%20%20%20var%20html_a13d8278768f454e8517e73bb7d903aa%20%3D%20%24%28%60%3Cdiv%20id%3D%22html_a13d8278768f454e8517e73bb7d903aa%22%20style%3D%22width%3A%20100.0%25%3B%20height%3A%20100.0%25%3B%22%3E20.34651000000001%3C/div%3E%60%29%5B0%5D%3B%0A%20%20%20%20%20%20%20%20%20%20%20%20popup_a411784819ac4527b879dd7c25881454.setContent%28html_a13d8278768f454e8517e73bb7d903aa%29%3B%0A%20%20%20%20%20%20%20%20%0A%0A%20%20%20%20%20%20%20%20marker_eae5baacaeec4d58887c9e9ba07cf250.bindPopup%28popup_a411784819ac4527b879dd7c25881454%29%0A%20%20%20%20%20%20%20%20%3B%0A%0A%20%20%20%20%20%20%20%20%0A%20%20%20%20%0A%20%20%20%20%0A%20%20%20%20%20%20%20%20%20%20%20%20var%20marker_1cf894861ece474a869ac4a30c6d1ea9%20%3D%20L.marker%28%0A%20%20%20%20%20%20%20%20%20%20%20%20%20%20%20%20%5B18.48%2C%2074.37%5D%2C%0A%20%20%20%20%20%20%20%20%20%20%20%20%20%20%20%20%7B%7D%0A%20%20%20%20%20%20%20%20%20%20%20%20%29.addTo%28map_3b6142d802844ffb9d35e2abacd4ea14%29%3B%0A%20%20%20%20%20%20%20%20%0A%20%20%20%20%0A%20%20%20%20%20%20%20%20var%20popup_d3ed5c191e534c9ba36ccb6f393068db%20%3D%20L.popup%28%7B%22maxWidth%22%3A%20%22100%25%22%7D%29%3B%0A%0A%20%20%20%20%20%20%20%20%0A%20%20%20%20%20%20%20%20%20%20%20%20var%20html_3b40c6a4e2b24ae1a1b950a6be843f75%20%3D%20%24%28%60%3Cdiv%20id%3D%22html_3b40c6a4e2b24ae1a1b950a6be843f75%22%20style%3D%22width%3A%20100.0%25%3B%20height%3A%20100.0%25%3B%22%3E22.31366985645932%3C/div%3E%60%29%5B0%5D%3B%0A%20%20%20%20%20%20%20%20%20%20%20%20popup_d3ed5c191e534c9ba36ccb6f393068db.setContent%28html_3b40c6a4e2b24ae1a1b950a6be843f75%29%3B%0A%20%20%20%20%20%20%20%20%0A%0A%20%20%20%20%20%20%20%20marker_1cf894861ece474a869ac4a30c6d1ea9.bindPopup%28popup_d3ed5c191e534c9ba36ccb6f393068db%29%0A%20%20%20%20%20%20%20%20%3B%0A%0A%20%20%20%20%20%20%20%20%0A%20%20%20%20%0A%20%20%20%20%0A%20%20%20%20%20%20%20%20%20%20%20%20var%20marker_49a89b6a58a946feb941e0c8fca51ba8%20%3D%20L.marker%28%0A%20%20%20%20%20%20%20%20%20%20%20%20%20%20%20%20%5B12.05%2C%2077.26%5D%2C%0A%20%20%20%20%20%20%20%20%20%20%20%20%20%20%20%20%7B%7D%0A%20%20%20%20%20%20%20%20%20%20%20%20%29.addTo%28map_3b6142d802844ffb9d35e2abacd4ea14%29%3B%0A%20%20%20%20%20%20%20%20%0A%20%20%20%20%0A%20%20%20%20%20%20%20%20var%20popup_0d4c74d57c324ed0b52c1980021c9c98%20%3D%20L.popup%28%7B%22maxWidth%22%3A%20%22100%25%22%7D%29%3B%0A%0A%20%20%20%20%20%20%20%20%0A%20%20%20%20%20%20%20%20%20%20%20%20var%20html_018c7f806b8e478d8cb4fe7d8b7624aa%20%3D%20%24%28%60%3Cdiv%20id%3D%22html_018c7f806b8e478d8cb4fe7d8b7624aa%22%20style%3D%22width%3A%20100.0%25%3B%20height%3A%20100.0%25%3B%22%3E22.29085576923078%3C/div%3E%60%29%5B0%5D%3B%0A%20%20%20%20%20%20%20%20%20%20%20%20popup_0d4c74d57c324ed0b52c1980021c9c98.setContent%28html_018c7f806b8e478d8cb4fe7d8b7624aa%29%3B%0A%20%20%20%20%20%20%20%20%0A%0A%20%20%20%20%20%20%20%20marker_49a89b6a58a946feb941e0c8fca51ba8.bindPopup%28popup_0d4c74d57c324ed0b52c1980021c9c98%29%0A%20%20%20%20%20%20%20%20%3B%0A%0A%20%20%20%20%20%20%20%20%0A%20%20%20%20%0A%20%20%20%20%0A%20%20%20%20%20%20%20%20%20%20%20%20var%20marker_e664e8eb35934b22b3fe30a61b9fd051%20%3D%20L.marker%28%0A%20%20%20%20%20%20%20%20%20%20%20%20%20%20%20%20%5B23.31%2C%2088.25%5D%2C%0A%20%20%20%20%20%20%20%20%20%20%20%20%20%20%20%20%7B%7D%0A%20%20%20%20%20%20%20%20%20%20%20%20%29.addTo%28map_3b6142d802844ffb9d35e2abacd4ea14%29%3B%0A%20%20%20%20%20%20%20%20%0A%20%20%20%20%0A%20%20%20%20%20%20%20%20var%20popup_d075311f5b984323814cb6abfe94e2f3%20%3D%20L.popup%28%7B%22maxWidth%22%3A%20%22100%25%22%7D%29%3B%0A%0A%20%20%20%20%20%20%20%20%0A%20%20%20%20%20%20%20%20%20%20%20%20var%20html_e3cb3b76493545a0b40dd0b5ec7758f1%20%3D%20%24%28%60%3Cdiv%20id%3D%22html_e3cb3b76493545a0b40dd0b5ec7758f1%22%20style%3D%22width%3A%20100.0%25%3B%20height%3A%20100.0%25%3B%22%3E19.156114285714285%3C/div%3E%60%29%5B0%5D%3B%0A%20%20%20%20%20%20%20%20%20%20%20%20popup_d075311f5b984323814cb6abfe94e2f3.setContent%28html_e3cb3b76493545a0b40dd0b5ec7758f1%29%3B%0A%20%20%20%20%20%20%20%20%0A%0A%20%20%20%20%20%20%20%20marker_e664e8eb35934b22b3fe30a61b9fd051.bindPopup%28popup_d075311f5b984323814cb6abfe94e2f3%29%0A%20%20%20%20%20%20%20%20%3B%0A%0A%20%20%20%20%20%20%20%20%0A%20%20%20%20%0A%20%20%20%20%0A%20%20%20%20%20%20%20%20%20%20%20%20var%20marker_ee20138472b54652b7309c8bf682a775%20%3D%20L.marker%28%0A%20%20%20%20%20%20%20%20%20%20%20%20%20%20%20%20%5B28.13%2C%2077.27%5D%2C%0A%20%20%20%20%20%20%20%20%20%20%20%20%20%20%20%20%7B%7D%0A%20%20%20%20%20%20%20%20%20%20%20%20%29.addTo%28map_3b6142d802844ffb9d35e2abacd4ea14%29%3B%0A%20%20%20%20%20%20%20%20%0A%20%20%20%20%0A%20%20%20%20%20%20%20%20var%20popup_ecf0f5862c454d629a16f46c459c1c81%20%3D%20L.popup%28%7B%22maxWidth%22%3A%20%22100%25%22%7D%29%3B%0A%0A%20%20%20%20%20%20%20%20%0A%20%20%20%20%20%20%20%20%20%20%20%20var%20html_b4fe00cb999f46d298cdd02985ab55d5%20%3D%20%24%28%60%3Cdiv%20id%3D%22html_b4fe00cb999f46d298cdd02985ab55d5%22%20style%3D%22width%3A%20100.0%25%3B%20height%3A%20100.0%25%3B%22%3E15.378814070351764%3C/div%3E%60%29%5B0%5D%3B%0A%20%20%20%20%20%20%20%20%20%20%20%20popup_ecf0f5862c454d629a16f46c459c1c81.setContent%28html_b4fe00cb999f46d298cdd02985ab55d5%29%3B%0A%20%20%20%20%20%20%20%20%0A%0A%20%20%20%20%20%20%20%20marker_ee20138472b54652b7309c8bf682a775.bindPopup%28popup_ecf0f5862c454d629a16f46c459c1c81%29%0A%20%20%20%20%20%20%20%20%3B%0A%0A%20%20%20%20%20%20%20%20%0A%20%20%20%20%0A%20%20%20%20%0A%20%20%20%20%20%20%20%20%20%20%20%20var%20marker_b90da715802f4245b38756ab75044f10%20%3D%20L.marker%28%0A%20%20%20%20%20%20%20%20%20%20%20%20%20%20%20%20%5B16.87%2C%2078.7%5D%2C%0A%20%20%20%20%20%20%20%20%20%20%20%20%20%20%20%20%7B%7D%0A%20%20%20%20%20%20%20%20%20%20%20%20%29.addTo%28map_3b6142d802844ffb9d35e2abacd4ea14%29%3B%0A%20%20%20%20%20%20%20%20%0A%20%20%20%20%0A%20%20%20%20%20%20%20%20var%20popup_c0084fc4c6b04f629504ee6fa7652d95%20%3D%20L.popup%28%7B%22maxWidth%22%3A%20%22100%25%22%7D%29%3B%0A%0A%20%20%20%20%20%20%20%20%0A%20%20%20%20%20%20%20%20%20%20%20%20var%20html_ea129943e5c84ebd85febd5ee7e68c0e%20%3D%20%24%28%60%3Cdiv%20id%3D%22html_ea129943e5c84ebd85febd5ee7e68c0e%22%20style%3D%22width%3A%20100.0%25%3B%20height%3A%20100.0%25%3B%22%3E21.89253846153845%3C/div%3E%60%29%5B0%5D%3B%0A%20%20%20%20%20%20%20%20%20%20%20%20popup_c0084fc4c6b04f629504ee6fa7652d95.setContent%28html_ea129943e5c84ebd85febd5ee7e68c0e%29%3B%0A%20%20%20%20%20%20%20%20%0A%0A%20%20%20%20%20%20%20%20marker_b90da715802f4245b38756ab75044f10.bindPopup%28popup_c0084fc4c6b04f629504ee6fa7652d95%29%0A%20%20%20%20%20%20%20%20%3B%0A%0A%20%20%20%20%20%20%20%20%0A%20%20%20%20%0A%20%20%20%20%0A%20%20%20%20%20%20%20%20%20%20%20%20var%20marker_8f79a50a1fab455aa3d24508e017dd54%20%3D%20L.marker%28%0A%20%20%20%20%20%20%20%20%20%20%20%20%20%20%20%20%5B13.66%2C%2080.09%5D%2C%0A%20%20%20%20%20%20%20%20%20%20%20%20%20%20%20%20%7B%7D%0A%20%20%20%20%20%20%20%20%20%20%20%20%29.addTo%28map_3b6142d802844ffb9d35e2abacd4ea14%29%3B%0A%20%20%20%20%20%20%20%20%0A%20%20%20%20%0A%20%20%20%20%20%20%20%20var%20popup_694a869334f840259e35132f5a22e59c%20%3D%20L.popup%28%7B%22maxWidth%22%3A%20%22100%25%22%7D%29%3B%0A%0A%20%20%20%20%20%20%20%20%0A%20%20%20%20%20%20%20%20%20%20%20%20var%20html_de07624c79b4440d964653c30797fea1%20%3D%20%24%28%60%3Cdiv%20id%3D%22html_de07624c79b4440d964653c30797fea1%22%20style%3D%22width%3A%20100.0%25%3B%20height%3A%20100.0%25%3B%22%3E24.168721153846146%3C/div%3E%60%29%5B0%5D%3B%0A%20%20%20%20%20%20%20%20%20%20%20%20popup_694a869334f840259e35132f5a22e59c.setContent%28html_de07624c79b4440d964653c30797fea1%29%3B%0A%20%20%20%20%20%20%20%20%0A%0A%20%20%20%20%20%20%20%20marker_8f79a50a1fab455aa3d24508e017dd54.bindPopup%28popup_694a869334f840259e35132f5a22e59c%29%0A%20%20%20%20%20%20%20%20%3B%0A%0A%20%20%20%20%20%20%20%20%0A%20%20%20%20%0A%20%20%20%20%0A%20%20%20%20%20%20%20%20%20%20%20%20var%20marker_40d125ca249b4ac99fdc372f2bda4e80%20%3D%20L.marker%28%0A%20%20%20%20%20%20%20%20%20%20%20%20%20%20%20%20%5B28.13%2C%2077.27%5D%2C%0A%20%20%20%20%20%20%20%20%20%20%20%20%20%20%20%20%7B%7D%0A%20%20%20%20%20%20%20%20%20%20%20%20%29.addTo%28map_3b6142d802844ffb9d35e2abacd4ea14%29%3B%0A%20%20%20%20%20%20%20%20%0A%20%20%20%20%0A%20%20%20%20%20%20%20%20var%20popup_d68a03f392784fc5ba592d5f233b5209%20%3D%20L.popup%28%7B%22maxWidth%22%3A%20%22100%25%22%7D%29%3B%0A%0A%20%20%20%20%20%20%20%20%0A%20%20%20%20%20%20%20%20%20%20%20%20var%20html_e8b8068c8dd0436ea9f646fa3f9faadd%20%3D%20%24%28%60%3Cdiv%20id%3D%22html_e8b8068c8dd0436ea9f646fa3f9faadd%22%20style%3D%22width%3A%20100.0%25%3B%20height%3A%20100.0%25%3B%22%3E15.378814070351764%3C/div%3E%60%29%5B0%5D%3B%0A%20%20%20%20%20%20%20%20%20%20%20%20popup_d68a03f392784fc5ba592d5f233b5209.setContent%28html_e8b8068c8dd0436ea9f646fa3f9faadd%29%3B%0A%20%20%20%20%20%20%20%20%0A%0A%20%20%20%20%20%20%20%20marker_40d125ca249b4ac99fdc372f2bda4e80.bindPopup%28popup_d68a03f392784fc5ba592d5f233b5209%29%0A%20%20%20%20%20%20%20%20%3B%0A%0A%20%20%20%20%20%20%20%20%0A%20%20%20%20%0A%20%20%20%20%0A%20%20%20%20%20%20%20%20%20%20%20%20var%20marker_17bc3f1be8c740ab881b58c1504918fd%20%3D%20L.marker%28%0A%20%20%20%20%20%20%20%20%20%20%20%20%20%20%20%20%5B18.48%2C%2074.37%5D%2C%0A%20%20%20%20%20%20%20%20%20%20%20%20%20%20%20%20%7B%7D%0A%20%20%20%20%20%20%20%20%20%20%20%20%29.addTo%28map_3b6142d802844ffb9d35e2abacd4ea14%29%3B%0A%20%20%20%20%20%20%20%20%0A%20%20%20%20%0A%20%20%20%20%20%20%20%20var%20popup_ffe4d1bf69ec4fd3904e047c2a77e085%20%3D%20L.popup%28%7B%22maxWidth%22%3A%20%22100%25%22%7D%29%3B%0A%0A%20%20%20%20%20%20%20%20%0A%20%20%20%20%20%20%20%20%20%20%20%20var%20html_66ba96e60dcf4fdeaa79d6c5f25dd577%20%3D%20%24%28%60%3Cdiv%20id%3D%22html_66ba96e60dcf4fdeaa79d6c5f25dd577%22%20style%3D%22width%3A%20100.0%25%3B%20height%3A%20100.0%25%3B%22%3E20.253653846153856%3C/div%3E%60%29%5B0%5D%3B%0A%20%20%20%20%20%20%20%20%20%20%20%20popup_ffe4d1bf69ec4fd3904e047c2a77e085.setContent%28html_66ba96e60dcf4fdeaa79d6c5f25dd577%29%3B%0A%20%20%20%20%20%20%20%20%0A%0A%20%20%20%20%20%20%20%20marker_17bc3f1be8c740ab881b58c1504918fd.bindPopup%28popup_ffe4d1bf69ec4fd3904e047c2a77e085%29%0A%20%20%20%20%20%20%20%20%3B%0A%0A%20%20%20%20%20%20%20%20%0A%20%20%20%20%0A%3C/script%3E onload=\"this.contentDocument.open();this.contentDocument.write(    decodeURIComponent(this.getAttribute('data-html')));this.contentDocument.close();\" allowfullscreen webkitallowfullscreen mozallowfullscreen></iframe></div></div>"
      ],
      "text/plain": [
       "<folium.folium.Map at 0x7f6ddf560e90>"
      ]
     },
     "execution_count": 112,
     "metadata": {},
     "output_type": "execute_result"
    }
   ],
   "source": [
    "# Add points to the map\n",
    "for id,row in data2.iterrows():\n",
    "    folium.Marker(location=[row['Latitude'],row['Longitude']], popup=row['Mean_temp']).add_to(m)\n",
    "\n",
    "# Display the map\n",
    "m"
   ]
  },
  {
   "cell_type": "markdown",
   "id": "hundred-glucose",
   "metadata": {
    "papermill": {
     "duration": 0.147526,
     "end_time": "2021-06-13T15:30:00.105783",
     "exception": false,
     "start_time": "2021-06-13T15:29:59.958257",
     "status": "completed"
    },
    "tags": []
   },
   "source": [
    "In the above, this map showing locations of major cities which tempature is increased every year through collected data from dataset. So, if we want to save our world we have to take proper step. The causes of climate change are: Humanity's increased use of fossil fuels – such as coal, oil and gas to generate electricity, run cars and other forms of transport, and power manufacturing and industry. Deforestation – because living trees absorb and store carbon dioxide.improvements to energy efficiency and vehicle fuel economy, increases in wind and solar power, biofuels from organic waste, setting a price on carbon, and protecting forests are all potent ways to reduce the amount of carbon dioxide and other gases trapping heat on the planet.on that way we can save our planet slowly from climate change."
   ]
  },
  {
   "cell_type": "markdown",
   "id": "north-plymouth",
   "metadata": {
    "papermill": {
     "duration": 0.14737,
     "end_time": "2021-06-13T15:30:00.400358",
     "exception": false,
     "start_time": "2021-06-13T15:30:00.252988",
     "status": "completed"
    },
    "tags": []
   },
   "source": [
    "# Thanks to ALL"
   ]
  }
 ],
 "metadata": {
  "kernelspec": {
   "display_name": "Python 3",
   "language": "python",
   "name": "python3"
  },
  "language_info": {
   "codemirror_mode": {
    "name": "ipython",
    "version": 3
   },
   "file_extension": ".py",
   "mimetype": "text/x-python",
   "name": "python",
   "nbconvert_exporter": "python",
   "pygments_lexer": "ipython3",
   "version": "3.7.10"
  },
  "papermill": {
   "default_parameters": {},
   "duration": 113.986419,
   "end_time": "2021-06-13T15:30:02.553720",
   "environment_variables": {},
   "exception": null,
   "input_path": "__notebook__.ipynb",
   "output_path": "__notebook__.ipynb",
   "parameters": {},
   "start_time": "2021-06-13T15:28:08.567301",
   "version": "2.3.3"
  }
 },
 "nbformat": 4,
 "nbformat_minor": 5
}
